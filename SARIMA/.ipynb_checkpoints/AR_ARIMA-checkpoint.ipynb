{
  "nbformat": 4,
  "nbformat_minor": 0,
  "metadata": {
    "colab": {
      "provenance": []
    },
    "kernelspec": {
      "name": "python3",
      "display_name": "Python 3"
    },
    "language_info": {
      "name": "python"
    }
  },
  "cells": [
    {
      "cell_type": "code",
      "execution_count": null,
      "metadata": {
        "id": "k--5UgAPo5x-"
      },
      "outputs": [],
      "source": [
        "#AR пример\n",
        "from statsmodels.tsa.ar_model import AutoReg\n",
        "from random import random\n",
        "\n",
        "data = [x + random() for x in range(1,100)]\n",
        "data"
      ]
    },
    {
      "cell_type": "code",
      "source": [
        "model = AutoReg(data, lags=1)\n",
        "model_fit = model.fit()"
      ],
      "metadata": {
        "id": "JW7V4gBwpr7K"
      },
      "execution_count": 8,
      "outputs": []
    },
    {
      "cell_type": "code",
      "source": [
        "yhat = model_fit.predict(len(data),len(data))\n",
        "yhat"
      ],
      "metadata": {
        "colab": {
          "base_uri": "https://localhost:8080/"
        },
        "id": "z5MtdU1EpN2t",
        "outputId": "369098ba-2001-4587-b715-34f9939b5bd5"
      },
      "execution_count": 9,
      "outputs": [
        {
          "output_type": "execute_result",
          "data": {
            "text/plain": [
              "array([100.8956044])"
            ]
          },
          "metadata": {},
          "execution_count": 9
        }
      ]
    },
    {
      "cell_type": "code",
      "source": [
        "#ARIMA пример\n",
        "from statsmodels.tsa.arima.model import ARIMA\n",
        "from random import random\n",
        "\n",
        "data = [x + random() for x in range(1,100)]"
      ],
      "metadata": {
        "id": "Q_v1gKm8p2Yo"
      },
      "execution_count": 17,
      "outputs": []
    },
    {
      "cell_type": "code",
      "source": [
        "model = ARIMA(data, order=(1,1,1))\n",
        "model_fit = model.fit()"
      ],
      "metadata": {
        "colab": {
          "base_uri": "https://localhost:8080/"
        },
        "id": "rX7Veu5Zq2Xh",
        "outputId": "78716c75-38ab-4d7d-a79f-4e20924dd40a"
      },
      "execution_count": 21,
      "outputs": [
        {
          "output_type": "stream",
          "name": "stderr",
          "text": [
            "/usr/local/lib/python3.10/dist-packages/statsmodels/tsa/statespace/sarimax.py:966: UserWarning: Non-stationary starting autoregressive parameters found. Using zeros as starting parameters.\n",
            "  warn('Non-stationary starting autoregressive parameters'\n",
            "/usr/local/lib/python3.10/dist-packages/statsmodels/tsa/statespace/sarimax.py:978: UserWarning: Non-invertible starting MA parameters found. Using zeros as starting parameters.\n",
            "  warn('Non-invertible starting MA parameters found.'\n"
          ]
        }
      ]
    },
    {
      "cell_type": "code",
      "source": [
        "yhat = model_fit.predict(len(data),len(data))\n",
        "yhat"
      ],
      "metadata": {
        "colab": {
          "base_uri": "https://localhost:8080/"
        },
        "id": "fgeWUrGMtico",
        "outputId": "f0603d58-fc3c-4675-a153-9a70c9e70c34"
      },
      "execution_count": 24,
      "outputs": [
        {
          "output_type": "execute_result",
          "data": {
            "text/plain": [
              "array([100.95111116])"
            ]
          },
          "metadata": {},
          "execution_count": 24
        }
      ]
    }
  ]
}