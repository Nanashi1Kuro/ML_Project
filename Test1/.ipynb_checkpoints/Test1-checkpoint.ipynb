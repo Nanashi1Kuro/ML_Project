{
 "cells": [
  {
   "cell_type": "raw",
   "id": "e5ef15f2-0d32-4615-814e-38c6c6a15621",
   "metadata": {},
   "source": [
    "Загрузим таблицу в sql"
   ]
  },
  {
   "cell_type": "code",
   "execution_count": 152,
   "id": "e0fa919a-4c79-4e37-890a-80b8d519db26",
   "metadata": {
    "tags": []
   },
   "outputs": [
    {
     "name": "stdout",
     "output_type": "stream",
     "text": [
      "The sql extension is already loaded. To reload it, use:\n",
      "  %reload_ext sql\n"
     ]
    }
   ],
   "source": [
    "%load_ext sql"
   ]
  },
  {
   "cell_type": "code",
   "execution_count": 153,
   "id": "e1f3bca7-6c5a-4054-b40c-f34a286643ad",
   "metadata": {
    "tags": []
   },
   "outputs": [],
   "source": [
    "# Import sqlite3 module into\n",
    "# this program as sq\n",
    "import sqlite3 as sq\n",
    " \n",
    "# Import pandas module into\n",
    "# this program as pd\n",
    "import pandas as pd\n",
    "   \n",
    "# Create a connection object,\n",
    "# Make a new db if not exist already \n",
    "# and connect it, if exist then connect.\n",
    "connection = sq.connect('information.db')\n",
    " \n",
    "# Create a cursor object\n",
    "curs = connection.cursor()\n",
    " \n",
    "# Run create table sql query\n",
    "curs.execute(\"create table if not exists studentInfo\" +\n",
    "             \" (player_index VARCHAR(10) PRIMARY KEY, player_name VARCHAR(50), team_abbreviation VARCHAR(5), age INT, player_height FLOAT,  player_weight FLOAT,college VARCHAR(50),country VARCHAR(15), draft_year INT, draft_round INT, draft_number INT, gp INT, pts FLOAT, reb FLOAT, ast FLOAT, net_rating FLOAT, oreb_pct FLOAT, dreb_pct FLOAT, usg_pct FLOAT, ts_pct FLOAT, ast_pct FLOAT, season VARCHAR(10))\")\n",
    " \n",
    "# Load CSV data into Pandas DataFrame\n",
    "student = pd.read_csv('dataset.csv')\n",
    " \n",
    "# Write the data to a sqlite db table\n",
    "student.to_sql('studentInfo', connection, if_exists='replace', index=False)\n",
    "   \n",
    "# Run select sql query\n",
    "curs.execute('select * from studentInfo')\n",
    "curs.execute('''DELETE FROM studentInfo WHERE player_name IS NULL\n",
    "  AND team_abbreviation IS NULL\n",
    "  AND age IS NULL\n",
    "  AND player_height IS NULL \n",
    "  AND player_weight IS NULL \n",
    "  AND college IS NULL\n",
    "  AND country IS NULL\n",
    "  AND draft_year IS NULL\n",
    "  AND draft_round IS NULL\n",
    "  AND draft_number IS NULL\n",
    "  AND gp IS NULL\n",
    "  AND pts IS NULL\n",
    "  AND reb IS NULL\n",
    "  AND ast IS NULL\n",
    "  AND net_rating IS NULL\n",
    "  AND oreb_pct IS NULL\n",
    "  AND dreb_pct IS NULL\n",
    "  AND usg_pct IS NULL\n",
    "  AND ts_pct IS NULL\n",
    "  AND ast_pct IS NULL\n",
    "  AND season IS NULL;''')\n",
    "\n",
    "db1 = pd.read_sql('''SELECT player_name, AVG(player_height) \n",
    "  AS average_height, AVG(player_weight) AS average_weight FROM studentInfo GROUP BY player_name;''', \n",
    "                  connection)\n",
    "\n",
    "db2 = pd.read_sql('''SELECT team_abbreviation, AVG(pts) AS average_pts, \n",
    "  AVG(reb) AS average_reb,AVG(ast) AS average_ast,\n",
    "  AVG(player_height) AS average_player_height,\n",
    "  AVG(player_weight) AS average_player_weight \n",
    "  FROM studentInfo\n",
    "  WHERE season = '2010-11'GROUP BY team_abbreviation;\n",
    "  ''', connection)\n",
    "\n",
    "db3 = pd.read_sql('''SELECT country, SUM(pts) AS total_points, \n",
    "  COUNT(*) AS total_games FROM studentInfo GROUP BY country;\n",
    "  ''', connection)\n",
    " \n",
    "# Fetch all records\n",
    "# as list of tuples\n",
    "records = curs.fetchall()\n",
    " \n",
    "# Display result \n",
    "#for row in records:\n",
    "    # show row\n",
    "#    print(row)\n",
    "     \n",
    "# Close connection to SQLite database\n",
    "connection.close()"
   ]
  },
  {
   "cell_type": "code",
   "execution_count": 3,
   "id": "6de903f8-16e7-4e5f-8004-f1a7d9dd57f9",
   "metadata": {
    "tags": []
   },
   "outputs": [],
   "source": [
    "import pandas as pd\n",
    "import matplotlib.pyplot as plt\n",
    "import seaborn as sns\n",
    "import numpy as np"
   ]
  },
  {
   "cell_type": "code",
   "execution_count": 4,
   "id": "de4c69b2-1f3f-4263-8b31-6a29d8058f1e",
   "metadata": {
    "tags": []
   },
   "outputs": [],
   "source": [
    "dataset = db1"
   ]
  },
  {
   "cell_type": "code",
   "execution_count": 5,
   "id": "1aafe03a-00ae-413b-8a78-4a4378202aea",
   "metadata": {
    "tags": []
   },
   "outputs": [
    {
     "data": {
      "text/html": [
       "<div>\n",
       "<style scoped>\n",
       "    .dataframe tbody tr th:only-of-type {\n",
       "        vertical-align: middle;\n",
       "    }\n",
       "\n",
       "    .dataframe tbody tr th {\n",
       "        vertical-align: top;\n",
       "    }\n",
       "\n",
       "    .dataframe thead th {\n",
       "        text-align: right;\n",
       "    }\n",
       "</style>\n",
       "<table border=\"1\" class=\"dataframe\">\n",
       "  <thead>\n",
       "    <tr style=\"text-align: right;\">\n",
       "      <th></th>\n",
       "      <th>player_name</th>\n",
       "      <th>average_height</th>\n",
       "      <th>average_weight</th>\n",
       "    </tr>\n",
       "  </thead>\n",
       "  <tbody>\n",
       "    <tr>\n",
       "      <th>0</th>\n",
       "      <td>A.C. Green</td>\n",
       "      <td>205.74</td>\n",
       "      <td>102.058200</td>\n",
       "    </tr>\n",
       "    <tr>\n",
       "      <th>1</th>\n",
       "      <td>A.J. Bramlett</td>\n",
       "      <td>208.28</td>\n",
       "      <td>102.965384</td>\n",
       "    </tr>\n",
       "    <tr>\n",
       "      <th>2</th>\n",
       "      <td>A.J. Guyton</td>\n",
       "      <td>185.42</td>\n",
       "      <td>81.646560</td>\n",
       "    </tr>\n",
       "    <tr>\n",
       "      <th>3</th>\n",
       "      <td>AJ Hammons</td>\n",
       "      <td>213.36</td>\n",
       "      <td>117.933920</td>\n",
       "    </tr>\n",
       "    <tr>\n",
       "      <th>4</th>\n",
       "      <td>AJ Price</td>\n",
       "      <td>187.96</td>\n",
       "      <td>84.821704</td>\n",
       "    </tr>\n",
       "  </tbody>\n",
       "</table>\n",
       "</div>"
      ],
      "text/plain": [
       "     player_name  average_height  average_weight\n",
       "0     A.C. Green          205.74      102.058200\n",
       "1  A.J. Bramlett          208.28      102.965384\n",
       "2    A.J. Guyton          185.42       81.646560\n",
       "3     AJ Hammons          213.36      117.933920\n",
       "4       AJ Price          187.96       84.821704"
      ]
     },
     "execution_count": 5,
     "metadata": {},
     "output_type": "execute_result"
    }
   ],
   "source": [
    "dataset.head()"
   ]
  },
  {
   "cell_type": "code",
   "execution_count": 6,
   "id": "fe43db82-e1a1-40c4-9889-789406bd5845",
   "metadata": {
    "tags": []
   },
   "outputs": [
    {
     "data": {
      "text/html": [
       "<div>\n",
       "<style scoped>\n",
       "    .dataframe tbody tr th:only-of-type {\n",
       "        vertical-align: middle;\n",
       "    }\n",
       "\n",
       "    .dataframe tbody tr th {\n",
       "        vertical-align: top;\n",
       "    }\n",
       "\n",
       "    .dataframe thead th {\n",
       "        text-align: right;\n",
       "    }\n",
       "</style>\n",
       "<table border=\"1\" class=\"dataframe\">\n",
       "  <thead>\n",
       "    <tr style=\"text-align: right;\">\n",
       "      <th></th>\n",
       "      <th>average_height</th>\n",
       "      <th>average_weight</th>\n",
       "    </tr>\n",
       "  </thead>\n",
       "  <tbody>\n",
       "    <tr>\n",
       "      <th>count</th>\n",
       "      <td>2463.000000</td>\n",
       "      <td>2463.000000</td>\n",
       "    </tr>\n",
       "    <tr>\n",
       "      <th>mean</th>\n",
       "      <td>200.163490</td>\n",
       "      <td>99.409815</td>\n",
       "    </tr>\n",
       "    <tr>\n",
       "      <th>std</th>\n",
       "      <td>9.082196</td>\n",
       "      <td>12.375046</td>\n",
       "    </tr>\n",
       "    <tr>\n",
       "      <th>min</th>\n",
       "      <td>160.020000</td>\n",
       "      <td>60.327736</td>\n",
       "    </tr>\n",
       "    <tr>\n",
       "      <th>25%</th>\n",
       "      <td>193.040000</td>\n",
       "      <td>90.718400</td>\n",
       "    </tr>\n",
       "    <tr>\n",
       "      <th>50%</th>\n",
       "      <td>200.660000</td>\n",
       "      <td>98.883056</td>\n",
       "    </tr>\n",
       "    <tr>\n",
       "      <th>75%</th>\n",
       "      <td>207.010000</td>\n",
       "      <td>108.689283</td>\n",
       "    </tr>\n",
       "    <tr>\n",
       "      <th>max</th>\n",
       "      <td>231.140000</td>\n",
       "      <td>163.293120</td>\n",
       "    </tr>\n",
       "  </tbody>\n",
       "</table>\n",
       "</div>"
      ],
      "text/plain": [
       "       average_height  average_weight\n",
       "count     2463.000000     2463.000000\n",
       "mean       200.163490       99.409815\n",
       "std          9.082196       12.375046\n",
       "min        160.020000       60.327736\n",
       "25%        193.040000       90.718400\n",
       "50%        200.660000       98.883056\n",
       "75%        207.010000      108.689283\n",
       "max        231.140000      163.293120"
      ]
     },
     "execution_count": 6,
     "metadata": {},
     "output_type": "execute_result"
    }
   ],
   "source": [
    "dataset.describe()"
   ]
  },
  {
   "cell_type": "code",
   "execution_count": 7,
   "id": "f7f92b00-5073-445b-87dd-c24138ff90da",
   "metadata": {
    "tags": []
   },
   "outputs": [
    {
     "data": {
      "text/plain": [
       "player_name       0\n",
       "average_height    0\n",
       "average_weight    0\n",
       "dtype: int64"
      ]
     },
     "execution_count": 7,
     "metadata": {},
     "output_type": "execute_result"
    }
   ],
   "source": [
    "dataset.isna().sum()"
   ]
  },
  {
   "cell_type": "code",
   "execution_count": 8,
   "id": "7dbacee2-832f-4c13-b118-4446ea80c719",
   "metadata": {
    "tags": []
   },
   "outputs": [
    {
     "name": "stdout",
     "output_type": "stream",
     "text": [
      "<class 'pandas.core.frame.DataFrame'>\n",
      "RangeIndex: 2463 entries, 0 to 2462\n",
      "Data columns (total 3 columns):\n",
      " #   Column          Non-Null Count  Dtype  \n",
      "---  ------          --------------  -----  \n",
      " 0   player_name     2463 non-null   object \n",
      " 1   average_height  2463 non-null   float64\n",
      " 2   average_weight  2463 non-null   float64\n",
      "dtypes: float64(2), object(1)\n",
      "memory usage: 57.9+ KB\n"
     ]
    }
   ],
   "source": [
    "dataset.info()"
   ]
  },
  {
   "cell_type": "code",
   "execution_count": 9,
   "id": "159dbfe5-7569-4108-9cbe-57dfc03911e6",
   "metadata": {
    "tags": []
   },
   "outputs": [
    {
     "data": {
      "text/plain": [
       "(2463,)"
      ]
     },
     "execution_count": 9,
     "metadata": {},
     "output_type": "execute_result"
    }
   ],
   "source": [
    "X = dataset.iloc[:, 1].values\n",
    "X.shape"
   ]
  },
  {
   "cell_type": "code",
   "execution_count": 10,
   "id": "366c834f-386c-47df-a867-bba426408cee",
   "metadata": {
    "tags": []
   },
   "outputs": [],
   "source": [
    "from sklearn.preprocessing import LabelEncoder\n",
    "\n",
    "le = LabelEncoder()\n",
    "\n",
    "for col in db1.columns:\n",
    "    if dataset[col].dtypes=='object':\n",
    "        dataset[col]=le.fit_transform(dataset[col])"
   ]
  },
  {
   "cell_type": "code",
   "execution_count": 11,
   "id": "b790d047-79a1-4f64-9753-12add1013192",
   "metadata": {
    "tags": []
   },
   "outputs": [
    {
     "data": {
      "text/plain": [
       "(2463,)"
      ]
     },
     "execution_count": 11,
     "metadata": {},
     "output_type": "execute_result"
    }
   ],
   "source": [
    "y = dataset.iloc[:, 2].values\n",
    "y1 = np.where(dataset['average_weight']>97, 1, 0)\n",
    "y.shape"
   ]
  },
  {
   "cell_type": "code",
   "execution_count": 25,
   "id": "c7475b97-5277-4a97-b239-11739ab797e8",
   "metadata": {
    "tags": []
   },
   "outputs": [],
   "source": [
    "y_players = dataset.iloc[:, 0].values"
   ]
  },
  {
   "cell_type": "code",
   "execution_count": 26,
   "id": "483e065a-7285-430c-a751-dde18dc43d0d",
   "metadata": {
    "tags": []
   },
   "outputs": [],
   "source": [
    "X_players = dataset.iloc[:, [1,2]].values"
   ]
  },
  {
   "cell_type": "code",
   "execution_count": 12,
   "id": "4d80d678-d592-4126-89be-f1e658ee4690",
   "metadata": {
    "tags": []
   },
   "outputs": [],
   "source": [
    "from sklearn.model_selection import train_test_split\n",
    "X_train, X_test, y_train, y_test = train_test_split(X, y, test_size = 0.35, random_state = 0)"
   ]
  },
  {
   "cell_type": "code",
   "execution_count": 13,
   "id": "d491d0df-49b8-4860-8ea0-7bc6c0c25fbc",
   "metadata": {
    "tags": []
   },
   "outputs": [],
   "source": [
    "X_train = X_train[:,np.newaxis]\n",
    "X_test = X_test[:,np.newaxis]"
   ]
  },
  {
   "cell_type": "code",
   "execution_count": 14,
   "id": "351c8787-f2ef-45a4-b092-d2dac9e1f96b",
   "metadata": {
    "tags": []
   },
   "outputs": [
    {
     "data": {
      "text/plain": [
       "(863,)"
      ]
     },
     "execution_count": 14,
     "metadata": {},
     "output_type": "execute_result"
    }
   ],
   "source": [
    "y_test.shape"
   ]
  },
  {
   "cell_type": "code",
   "execution_count": 15,
   "id": "97e51a89-2fb7-43a5-85b0-209aa435a07c",
   "metadata": {
    "tags": []
   },
   "outputs": [
    {
     "data": {
      "text/plain": [
       "(863, 1)"
      ]
     },
     "execution_count": 15,
     "metadata": {},
     "output_type": "execute_result"
    }
   ],
   "source": [
    "X_test.shape"
   ]
  },
  {
   "cell_type": "code",
   "execution_count": 16,
   "id": "dae992cb-d0a7-48c6-9251-07397fce3b40",
   "metadata": {
    "tags": []
   },
   "outputs": [
    {
     "data": {
      "text/plain": [
       "0.6671872275129584"
      ]
     },
     "execution_count": 16,
     "metadata": {},
     "output_type": "execute_result"
    }
   ],
   "source": [
    "from sklearn.linear_model import LinearRegression\n",
    "model = LinearRegression()\n",
    "model.fit(X_train, y_train)\n",
    "model.score(X_test,y_test)"
   ]
  },
  {
   "cell_type": "code",
   "execution_count": 17,
   "id": "1efe2b64-2b5c-4b39-ba85-cd9c399e9e13",
   "metadata": {
    "tags": []
   },
   "outputs": [
    {
     "data": {
      "text/plain": [
       "[<matplotlib.lines.Line2D at 0x7f1c353aff10>]"
      ]
     },
     "execution_count": 17,
     "metadata": {},
     "output_type": "execute_result"
    },
    {
     "data": {
      "image/png": "[encoded data removed]",
      "text/plain": [
       "<Figure size 640x480 with 1 Axes>"
      ]
     },
     "metadata": {},
     "output_type": "display_data"
    }
   ],
   "source": [
    "xfit=np.linspace(150,250)\n",
    "yfit=model.predict(xfit[:, np.newaxis])\n",
    "plt.plot(xfit,yfit, color=\"black\")\n",
    "plt.plot(X_test,y_test, 'o')\n",
    "\n",
    "#plt.plot(np.vstack([X_test,X_test]), np.vstack([y_test, model.predict(X_test)]), color=\"red\");"
   ]
  },
  {
   "cell_type": "code",
   "execution_count": 33,
   "id": "2a7895c4-6b73-4b6e-a080-eef6d75209e8",
   "metadata": {
    "tags": []
   },
   "outputs": [],
   "source": [
    "from sklearn.model_selection import train_test_split\n",
    "X_train, X_test, y_train, y_test = train_test_split(X, y1, test_size = 0.35, random_state = 0)"
   ]
  },
  {
   "cell_type": "code",
   "execution_count": 34,
   "id": "24631998-0980-4f25-a752-a719fa608ca8",
   "metadata": {
    "tags": []
   },
   "outputs": [],
   "source": [
    "X_train = X_train[:,np.newaxis]\n",
    "X_test = X_test[:,np.newaxis]"
   ]
  },
  {
   "cell_type": "code",
   "execution_count": 35,
   "id": "933b1ddc-697c-4a94-af35-c56d0c121f8f",
   "metadata": {
    "tags": []
   },
   "outputs": [
    {
     "name": "stdout",
     "output_type": "stream",
     "text": [
      "0.8412514484356894\n"
     ]
    }
   ],
   "source": [
    "#берем логистическую регрессию\n",
    "from sklearn.linear_model import LogisticRegression  \n",
    "classifier = LogisticRegression(random_state = 0)\n",
    "classifier.fit(X_train, y_train)\n",
    "#получаем метрику accuracy для train и test\n",
    "print(classifier.score(X_test, y_test))"
   ]
  },
  {
   "cell_type": "code",
   "execution_count": 36,
   "id": "31ab2f3f-2a21-4b1e-9c00-1223952a6df2",
   "metadata": {
    "tags": []
   },
   "outputs": [
    {
     "data": {
      "text/plain": [
       "[<matplotlib.lines.Line2D at 0x7f1be99a6e50>]"
      ]
     },
     "execution_count": 36,
     "metadata": {},
     "output_type": "execute_result"
    },
    {
     "data": {
      "image/png": "[encoded data removed]",
      "text/plain": [
       "<Figure size 640x480 with 1 Axes>"
      ]
     },
     "metadata": {},
     "output_type": "display_data"
    }
   ],
   "source": [
    "xfit=np.linspace(150,250)\n",
    "yfit=classifier.predict(xfit[:, np.newaxis])\n",
    "plt.plot(xfit,yfit, color=\"black\")\n",
    "plt.plot(X_test,y_test, 'o')"
   ]
  },
  {
   "cell_type": "code",
   "execution_count": 37,
   "id": "2a43ef9a-06b4-4332-86f7-5589beb3fada",
   "metadata": {},
   "outputs": [
    {
     "data": {
      "text/html": [
       "<style>#sk-container-id-3 {color: black;background-color: white;}#sk-container-id-3 pre{padding: 0;}#sk-container-id-3 div.sk-toggleable {background-color: white;}#sk-container-id-3 label.sk-toggleable__label {cursor: pointer;display: block;width: 100%;margin-bottom: 0;padding: 0.3em;box-sizing: border-box;text-align: center;}#sk-container-id-3 label.sk-toggleable__label-arrow:before {content: \"▸\";float: left;margin-right: 0.25em;color: #696969;}#sk-container-id-3 label.sk-toggleable__label-arrow:hover:before {color: black;}#sk-container-id-3 div.sk-estimator:hover label.sk-toggleable__label-arrow:before {color: black;}#sk-container-id-3 div.sk-toggleable__content {max-height: 0;max-width: 0;overflow: hidden;text-align: left;background-color: #f0f8ff;}#sk-container-id-3 div.sk-toggleable__content pre {margin: 0.2em;color: black;border-radius: 0.25em;background-color: #f0f8ff;}#sk-container-id-3 input.sk-toggleable__control:checked~div.sk-toggleable__content {max-height: 200px;max-width: 100%;overflow: auto;}#sk-container-id-3 input.sk-toggleable__control:checked~label.sk-toggleable__label-arrow:before {content: \"▾\";}#sk-container-id-3 div.sk-estimator input.sk-toggleable__control:checked~label.sk-toggleable__label {background-color: #d4ebff;}#sk-container-id-3 div.sk-label input.sk-toggleable__control:checked~label.sk-toggleable__label {background-color: #d4ebff;}#sk-container-id-3 input.sk-hidden--visually {border: 0;clip: rect(1px 1px 1px 1px);clip: rect(1px, 1px, 1px, 1px);height: 1px;margin: -1px;overflow: hidden;padding: 0;position: absolute;width: 1px;}#sk-container-id-3 div.sk-estimator {font-family: monospace;background-color: #f0f8ff;border: 1px dotted black;border-radius: 0.25em;box-sizing: border-box;margin-bottom: 0.5em;}#sk-container-id-3 div.sk-estimator:hover {background-color: #d4ebff;}#sk-container-id-3 div.sk-parallel-item::after {content: \"\";width: 100%;border-bottom: 1px solid gray;flex-grow: 1;}#sk-container-id-3 div.sk-label:hover label.sk-toggleable__label {background-color: #d4ebff;}#sk-container-id-3 div.sk-serial::before {content: \"\";position: absolute;border-left: 1px solid gray;box-sizing: border-box;top: 0;bottom: 0;left: 50%;z-index: 0;}#sk-container-id-3 div.sk-serial {display: flex;flex-direction: column;align-items: center;background-color: white;padding-right: 0.2em;padding-left: 0.2em;position: relative;}#sk-container-id-3 div.sk-item {position: relative;z-index: 1;}#sk-container-id-3 div.sk-parallel {display: flex;align-items: stretch;justify-content: center;background-color: white;position: relative;}#sk-container-id-3 div.sk-item::before, #sk-container-id-3 div.sk-parallel-item::before {content: \"\";position: absolute;border-left: 1px solid gray;box-sizing: border-box;top: 0;bottom: 0;left: 50%;z-index: -1;}#sk-container-id-3 div.sk-parallel-item {display: flex;flex-direction: column;z-index: 1;position: relative;background-color: white;}#sk-container-id-3 div.sk-parallel-item:first-child::after {align-self: flex-end;width: 50%;}#sk-container-id-3 div.sk-parallel-item:last-child::after {align-self: flex-start;width: 50%;}#sk-container-id-3 div.sk-parallel-item:only-child::after {width: 0;}#sk-container-id-3 div.sk-dashed-wrapped {border: 1px dashed gray;margin: 0 0.4em 0.5em 0.4em;box-sizing: border-box;padding-bottom: 0.4em;background-color: white;}#sk-container-id-3 div.sk-label label {font-family: monospace;font-weight: bold;display: inline-block;line-height: 1.2em;}#sk-container-id-3 div.sk-label-container {text-align: center;}#sk-container-id-3 div.sk-container {/* jupyter's `normalize.less` sets `[hidden] { display: none; }` but bootstrap.min.css set `[hidden] { display: none !important; }` so we also need the `!important` here to be able to override the default hidden behavior on the sphinx rendered scikit-learn.org. See: https://github.com/scikit-learn/scikit-learn/issues/21755 */display: inline-block !important;position: relative;}#sk-container-id-3 div.sk-text-repr-fallback {display: none;}</style><div id=\"sk-container-id-3\" class=\"sk-top-container\"><div class=\"sk-text-repr-fallback\"><pre>SVC(C=0.1, gamma=1)</pre><b>In a Jupyter environment, please rerun this cell to show the HTML representation or trust the notebook. <br />On GitHub, the HTML representation is unable to render, please try loading this page with nbviewer.org.</b></div><div class=\"sk-container\" hidden><div class=\"sk-item\"><div class=\"sk-estimator sk-toggleable\"><input class=\"sk-toggleable__control sk-hidden--visually\" id=\"sk-estimator-id-3\" type=\"checkbox\" checked><label for=\"sk-estimator-id-3\" class=\"sk-toggleable__label sk-toggleable__label-arrow\">SVC</label><div class=\"sk-toggleable__content\"><pre>SVC(C=0.1, gamma=1)</pre></div></div></div></div></div>"
      ],
      "text/plain": [
       "SVC(C=0.1, gamma=1)"
      ]
     },
     "execution_count": 37,
     "metadata": {},
     "output_type": "execute_result"
    }
   ],
   "source": [
    "from sklearn.svm import SVC\n",
    "svc1 = SVC(gamma=1,kernel=\"rbf\", C=0.1)\n",
    "svc1.fit(X_train, y_train)"
   ]
  },
  {
   "cell_type": "code",
   "execution_count": 38,
   "id": "c2a05d1d-196a-4c2a-a769-90c60c271d21",
   "metadata": {},
   "outputs": [
    {
     "data": {
      "text/plain": [
       "0.8389339513325609"
      ]
     },
     "execution_count": 38,
     "metadata": {},
     "output_type": "execute_result"
    }
   ],
   "source": [
    "svc1.score(X_test,y_test)"
   ]
  },
  {
   "cell_type": "code",
   "execution_count": 39,
   "id": "98a59c65-c697-4e0d-9dff-ce824dbf90ad",
   "metadata": {},
   "outputs": [
    {
     "data": {
      "text/plain": [
       "[<matplotlib.lines.Line2D at 0x7f1be99d3fa0>]"
      ]
     },
     "execution_count": 39,
     "metadata": {},
     "output_type": "execute_result"
    },
    {
     "data": {
      "image/png": "[encoded data removed]",
      "text/plain": [
       "<Figure size 640x480 with 1 Axes>"
      ]
     },
     "metadata": {},
     "output_type": "display_data"
    }
   ],
   "source": [
    "xfit=np.linspace(150,250)\n",
    "yfit=svc1.predict(xfit[:, np.newaxis])\n",
    "plt.plot(xfit,yfit, color=\"black\")\n",
    "plt.plot(X_test,y_test, 'o')"
   ]
  },
  {
   "cell_type": "raw",
   "id": "9a81e6b1-2d92-43ef-b7e9-a73880e9757f",
   "metadata": {},
   "source": [
    "Используя алгоритм Дерева Принятия Решения попробуйте определить\n",
    "название команды (team_abbreviation) как целевое значение функции (Y) за\n",
    "сезон 2010-11"
   ]
  },
  {
   "cell_type": "code",
   "execution_count": 118,
   "id": "713853fb-4f7f-4316-8dcb-fd564e538491",
   "metadata": {
    "tags": []
   },
   "outputs": [],
   "source": [
    "dataset = db2"
   ]
  },
  {
   "cell_type": "code",
   "execution_count": 119,
   "id": "f41cf1c5-5894-4d5c-93cc-09b9b87e9bfd",
   "metadata": {
    "tags": []
   },
   "outputs": [
    {
     "data": {
      "text/html": [
       "<div>\n",
       "<style scoped>\n",
       "    .dataframe tbody tr th:only-of-type {\n",
       "        vertical-align: middle;\n",
       "    }\n",
       "\n",
       "    .dataframe tbody tr th {\n",
       "        vertical-align: top;\n",
       "    }\n",
       "\n",
       "    .dataframe thead th {\n",
       "        text-align: right;\n",
       "    }\n",
       "</style>\n",
       "<table border=\"1\" class=\"dataframe\">\n",
       "  <thead>\n",
       "    <tr style=\"text-align: right;\">\n",
       "      <th></th>\n",
       "      <th>team_abbreviation</th>\n",
       "      <th>average_pts</th>\n",
       "      <th>average_reb</th>\n",
       "      <th>average_ast</th>\n",
       "      <th>average_player_height</th>\n",
       "      <th>average_player_weight</th>\n",
       "    </tr>\n",
       "  </thead>\n",
       "  <tbody>\n",
       "    <tr>\n",
       "      <th>0</th>\n",
       "      <td>ATL</td>\n",
       "      <td>7.892857</td>\n",
       "      <td>3.435714</td>\n",
       "      <td>1.828571</td>\n",
       "      <td>203.2000</td>\n",
       "      <td>105.298143</td>\n",
       "    </tr>\n",
       "    <tr>\n",
       "      <th>1</th>\n",
       "      <td>BOS</td>\n",
       "      <td>8.437500</td>\n",
       "      <td>3.525000</td>\n",
       "      <td>2.000000</td>\n",
       "      <td>200.9775</td>\n",
       "      <td>103.674121</td>\n",
       "    </tr>\n",
       "    <tr>\n",
       "      <th>2</th>\n",
       "      <td>CHA</td>\n",
       "      <td>6.668750</td>\n",
       "      <td>3.175000</td>\n",
       "      <td>1.512500</td>\n",
       "      <td>201.6125</td>\n",
       "      <td>102.001501</td>\n",
       "    </tr>\n",
       "    <tr>\n",
       "      <th>3</th>\n",
       "      <td>CHI</td>\n",
       "      <td>8.300000</td>\n",
       "      <td>3.928571</td>\n",
       "      <td>1.828571</td>\n",
       "      <td>200.6600</td>\n",
       "      <td>99.207050</td>\n",
       "    </tr>\n",
       "    <tr>\n",
       "      <th>4</th>\n",
       "      <td>CLE</td>\n",
       "      <td>8.506250</td>\n",
       "      <td>3.875000</td>\n",
       "      <td>1.787500</td>\n",
       "      <td>200.9775</td>\n",
       "      <td>102.426744</td>\n",
       "    </tr>\n",
       "  </tbody>\n",
       "</table>\n",
       "</div>"
      ],
      "text/plain": [
       "  team_abbreviation  average_pts  average_reb  average_ast  \\\n",
       "0               ATL     7.892857     3.435714     1.828571   \n",
       "1               BOS     8.437500     3.525000     2.000000   \n",
       "2               CHA     6.668750     3.175000     1.512500   \n",
       "3               CHI     8.300000     3.928571     1.828571   \n",
       "4               CLE     8.506250     3.875000     1.787500   \n",
       "\n",
       "   average_player_height  average_player_weight  \n",
       "0               203.2000             105.298143  \n",
       "1               200.9775             103.674121  \n",
       "2               201.6125             102.001501  \n",
       "3               200.6600              99.207050  \n",
       "4               200.9775             102.426744  "
      ]
     },
     "execution_count": 119,
     "metadata": {},
     "output_type": "execute_result"
    }
   ],
   "source": [
    "dataset.head()"
   ]
  },
  {
   "cell_type": "code",
   "execution_count": 120,
   "id": "a2d4d974-9c8b-45aa-9d31-e690dcfeb567",
   "metadata": {
    "tags": []
   },
   "outputs": [
    {
     "data": {
      "text/html": [
       "<div>\n",
       "<style scoped>\n",
       "    .dataframe tbody tr th:only-of-type {\n",
       "        vertical-align: middle;\n",
       "    }\n",
       "\n",
       "    .dataframe tbody tr th {\n",
       "        vertical-align: top;\n",
       "    }\n",
       "\n",
       "    .dataframe thead th {\n",
       "        text-align: right;\n",
       "    }\n",
       "</style>\n",
       "<table border=\"1\" class=\"dataframe\">\n",
       "  <thead>\n",
       "    <tr style=\"text-align: right;\">\n",
       "      <th></th>\n",
       "      <th>average_pts</th>\n",
       "      <th>average_reb</th>\n",
       "      <th>average_ast</th>\n",
       "      <th>average_player_height</th>\n",
       "      <th>average_player_weight</th>\n",
       "    </tr>\n",
       "  </thead>\n",
       "  <tbody>\n",
       "    <tr>\n",
       "      <th>count</th>\n",
       "      <td>30.000000</td>\n",
       "      <td>30.000000</td>\n",
       "      <td>30.000000</td>\n",
       "      <td>30.000000</td>\n",
       "      <td>30.000000</td>\n",
       "    </tr>\n",
       "    <tr>\n",
       "      <th>mean</th>\n",
       "      <td>8.242503</td>\n",
       "      <td>3.564686</td>\n",
       "      <td>1.775043</td>\n",
       "      <td>201.213148</td>\n",
       "      <td>101.636730</td>\n",
       "    </tr>\n",
       "    <tr>\n",
       "      <th>std</th>\n",
       "      <td>0.705245</td>\n",
       "      <td>0.279750</td>\n",
       "      <td>0.171156</td>\n",
       "      <td>1.238058</td>\n",
       "      <td>2.346399</td>\n",
       "    </tr>\n",
       "    <tr>\n",
       "      <th>min</th>\n",
       "      <td>6.668750</td>\n",
       "      <td>3.070588</td>\n",
       "      <td>1.441176</td>\n",
       "      <td>198.966667</td>\n",
       "      <td>97.629008</td>\n",
       "    </tr>\n",
       "    <tr>\n",
       "      <th>25%</th>\n",
       "      <td>7.741458</td>\n",
       "      <td>3.345000</td>\n",
       "      <td>1.663854</td>\n",
       "      <td>200.194333</td>\n",
       "      <td>99.893378</td>\n",
       "    </tr>\n",
       "    <tr>\n",
       "      <th>50%</th>\n",
       "      <td>8.286667</td>\n",
       "      <td>3.580000</td>\n",
       "      <td>1.773958</td>\n",
       "      <td>200.998667</td>\n",
       "      <td>101.231062</td>\n",
       "    </tr>\n",
       "    <tr>\n",
       "      <th>75%</th>\n",
       "      <td>8.565848</td>\n",
       "      <td>3.735882</td>\n",
       "      <td>1.923214</td>\n",
       "      <td>202.241394</td>\n",
       "      <td>103.659947</td>\n",
       "    </tr>\n",
       "    <tr>\n",
       "      <th>max</th>\n",
       "      <td>9.766667</td>\n",
       "      <td>4.133333</td>\n",
       "      <td>2.057143</td>\n",
       "      <td>203.369333</td>\n",
       "      <td>106.282275</td>\n",
       "    </tr>\n",
       "  </tbody>\n",
       "</table>\n",
       "</div>"
      ],
      "text/plain": [
       "       average_pts  average_reb  average_ast  average_player_height  \\\n",
       "count    30.000000    30.000000    30.000000              30.000000   \n",
       "mean      8.242503     3.564686     1.775043             201.213148   \n",
       "std       0.705245     0.279750     0.171156               1.238058   \n",
       "min       6.668750     3.070588     1.441176             198.966667   \n",
       "25%       7.741458     3.345000     1.663854             200.194333   \n",
       "50%       8.286667     3.580000     1.773958             200.998667   \n",
       "75%       8.565848     3.735882     1.923214             202.241394   \n",
       "max       9.766667     4.133333     2.057143             203.369333   \n",
       "\n",
       "       average_player_weight  \n",
       "count              30.000000  \n",
       "mean              101.636730  \n",
       "std                 2.346399  \n",
       "min                97.629008  \n",
       "25%                99.893378  \n",
       "50%               101.231062  \n",
       "75%               103.659947  \n",
       "max               106.282275  "
      ]
     },
     "execution_count": 120,
     "metadata": {},
     "output_type": "execute_result"
    }
   ],
   "source": [
    "dataset.describe()"
   ]
  },
  {
   "cell_type": "code",
   "execution_count": 121,
   "id": "13b7b0fa-e370-46df-91c2-6c3a177f8e2f",
   "metadata": {
    "tags": []
   },
   "outputs": [
    {
     "name": "stdout",
     "output_type": "stream",
     "text": [
      "<class 'pandas.core.frame.DataFrame'>\n",
      "RangeIndex: 30 entries, 0 to 29\n",
      "Data columns (total 6 columns):\n",
      " #   Column                 Non-Null Count  Dtype  \n",
      "---  ------                 --------------  -----  \n",
      " 0   team_abbreviation      30 non-null     object \n",
      " 1   average_pts            30 non-null     float64\n",
      " 2   average_reb            30 non-null     float64\n",
      " 3   average_ast            30 non-null     float64\n",
      " 4   average_player_height  30 non-null     float64\n",
      " 5   average_player_weight  30 non-null     float64\n",
      "dtypes: float64(5), object(1)\n",
      "memory usage: 1.5+ KB\n"
     ]
    }
   ],
   "source": [
    "dataset.info()"
   ]
  },
  {
   "cell_type": "code",
   "execution_count": 122,
   "id": "baa8e1ae-ed20-4537-a4a2-ee35405ee531",
   "metadata": {
    "tags": []
   },
   "outputs": [
    {
     "data": {
      "text/plain": [
       "(30, 5)"
      ]
     },
     "execution_count": 122,
     "metadata": {},
     "output_type": "execute_result"
    }
   ],
   "source": [
    "# инициализируем X без столбца (data feature) \n",
    "X = dataset.iloc[:,1:].values\n",
    "X.shape"
   ]
  },
  {
   "cell_type": "code",
   "execution_count": 125,
   "id": "20eddc10-62e1-456f-8bba-d5106fb4ab67",
   "metadata": {
    "tags": []
   },
   "outputs": [
    {
     "data": {
      "text/plain": [
       "(30,)"
      ]
     },
     "execution_count": 125,
     "metadata": {},
     "output_type": "execute_result"
    }
   ],
   "source": [
    "# инициализируем Y как целевую функцию\n",
    "y = dataset.iloc[:,0].values\n",
    "y.shape"
   ]
  },
  {
   "cell_type": "code",
   "execution_count": 126,
   "id": "7ed539cb-5793-4c0a-9652-1ea679bbe348",
   "metadata": {
    "tags": []
   },
   "outputs": [],
   "source": [
    "from sklearn.model_selection import train_test_split\n",
    "X_train, X_test, y_train, y_test = train_test_split(X, y, test_size = 0.25, random_state = 0)"
   ]
  },
  {
   "cell_type": "code",
   "execution_count": 127,
   "id": "232ab3dd-c292-4f67-8ad7-716775bcb639",
   "metadata": {
    "tags": []
   },
   "outputs": [
    {
     "data": {
      "text/html": [
       "<style>#sk-container-id-8 {color: black;background-color: white;}#sk-container-id-8 pre{padding: 0;}#sk-container-id-8 div.sk-toggleable {background-color: white;}#sk-container-id-8 label.sk-toggleable__label {cursor: pointer;display: block;width: 100%;margin-bottom: 0;padding: 0.3em;box-sizing: border-box;text-align: center;}#sk-container-id-8 label.sk-toggleable__label-arrow:before {content: \"▸\";float: left;margin-right: 0.25em;color: #696969;}#sk-container-id-8 label.sk-toggleable__label-arrow:hover:before {color: black;}#sk-container-id-8 div.sk-estimator:hover label.sk-toggleable__label-arrow:before {color: black;}#sk-container-id-8 div.sk-toggleable__content {max-height: 0;max-width: 0;overflow: hidden;text-align: left;background-color: #f0f8ff;}#sk-container-id-8 div.sk-toggleable__content pre {margin: 0.2em;color: black;border-radius: 0.25em;background-color: #f0f8ff;}#sk-container-id-8 input.sk-toggleable__control:checked~div.sk-toggleable__content {max-height: 200px;max-width: 100%;overflow: auto;}#sk-container-id-8 input.sk-toggleable__control:checked~label.sk-toggleable__label-arrow:before {content: \"▾\";}#sk-container-id-8 div.sk-estimator input.sk-toggleable__control:checked~label.sk-toggleable__label {background-color: #d4ebff;}#sk-container-id-8 div.sk-label input.sk-toggleable__control:checked~label.sk-toggleable__label {background-color: #d4ebff;}#sk-container-id-8 input.sk-hidden--visually {border: 0;clip: rect(1px 1px 1px 1px);clip: rect(1px, 1px, 1px, 1px);height: 1px;margin: -1px;overflow: hidden;padding: 0;position: absolute;width: 1px;}#sk-container-id-8 div.sk-estimator {font-family: monospace;background-color: #f0f8ff;border: 1px dotted black;border-radius: 0.25em;box-sizing: border-box;margin-bottom: 0.5em;}#sk-container-id-8 div.sk-estimator:hover {background-color: #d4ebff;}#sk-container-id-8 div.sk-parallel-item::after {content: \"\";width: 100%;border-bottom: 1px solid gray;flex-grow: 1;}#sk-container-id-8 div.sk-label:hover label.sk-toggleable__label {background-color: #d4ebff;}#sk-container-id-8 div.sk-serial::before {content: \"\";position: absolute;border-left: 1px solid gray;box-sizing: border-box;top: 0;bottom: 0;left: 50%;z-index: 0;}#sk-container-id-8 div.sk-serial {display: flex;flex-direction: column;align-items: center;background-color: white;padding-right: 0.2em;padding-left: 0.2em;position: relative;}#sk-container-id-8 div.sk-item {position: relative;z-index: 1;}#sk-container-id-8 div.sk-parallel {display: flex;align-items: stretch;justify-content: center;background-color: white;position: relative;}#sk-container-id-8 div.sk-item::before, #sk-container-id-8 div.sk-parallel-item::before {content: \"\";position: absolute;border-left: 1px solid gray;box-sizing: border-box;top: 0;bottom: 0;left: 50%;z-index: -1;}#sk-container-id-8 div.sk-parallel-item {display: flex;flex-direction: column;z-index: 1;position: relative;background-color: white;}#sk-container-id-8 div.sk-parallel-item:first-child::after {align-self: flex-end;width: 50%;}#sk-container-id-8 div.sk-parallel-item:last-child::after {align-self: flex-start;width: 50%;}#sk-container-id-8 div.sk-parallel-item:only-child::after {width: 0;}#sk-container-id-8 div.sk-dashed-wrapped {border: 1px dashed gray;margin: 0 0.4em 0.5em 0.4em;box-sizing: border-box;padding-bottom: 0.4em;background-color: white;}#sk-container-id-8 div.sk-label label {font-family: monospace;font-weight: bold;display: inline-block;line-height: 1.2em;}#sk-container-id-8 div.sk-label-container {text-align: center;}#sk-container-id-8 div.sk-container {/* jupyter's `normalize.less` sets `[hidden] { display: none; }` but bootstrap.min.css set `[hidden] { display: none !important; }` so we also need the `!important` here to be able to override the default hidden behavior on the sphinx rendered scikit-learn.org. See: https://github.com/scikit-learn/scikit-learn/issues/21755 */display: inline-block !important;position: relative;}#sk-container-id-8 div.sk-text-repr-fallback {display: none;}</style><div id=\"sk-container-id-8\" class=\"sk-top-container\"><div class=\"sk-text-repr-fallback\"><pre>DecisionTreeClassifier()</pre><b>In a Jupyter environment, please rerun this cell to show the HTML representation or trust the notebook. <br />On GitHub, the HTML representation is unable to render, please try loading this page with nbviewer.org.</b></div><div class=\"sk-container\" hidden><div class=\"sk-item\"><div class=\"sk-estimator sk-toggleable\"><input class=\"sk-toggleable__control sk-hidden--visually\" id=\"sk-estimator-id-8\" type=\"checkbox\" checked><label for=\"sk-estimator-id-8\" class=\"sk-toggleable__label sk-toggleable__label-arrow\">DecisionTreeClassifier</label><div class=\"sk-toggleable__content\"><pre>DecisionTreeClassifier()</pre></div></div></div></div></div>"
      ],
      "text/plain": [
       "DecisionTreeClassifier()"
      ]
     },
     "execution_count": 127,
     "metadata": {},
     "output_type": "execute_result"
    }
   ],
   "source": [
    "from sklearn.tree import export_graphviz\n",
    "from sklearn.tree import DecisionTreeClassifier,plot_tree\n",
    "import pydotplus\n",
    "\n",
    "# определяем дерево решений\n",
    "dt_classifier = DecisionTreeClassifier(criterion = 'gini')\n",
    "\n",
    "dt_classifier.fit(X_train, y_train)"
   ]
  },
  {
   "cell_type": "code",
   "execution_count": 128,
   "id": "09ac076e-fc4f-423b-b35c-f23ee08467a4",
   "metadata": {
    "tags": []
   },
   "outputs": [],
   "source": [
    "# функция для отрисовки результатов\n",
    "def tree_graph_to_png(tree, feature_names, png_file_to_save):\n",
    "    tree_str = export_graphviz(tree, feature_names=feature_names, \n",
    "                                     filled=True, out_file=None)\n",
    "    graph = pydotplus.graph_from_dot_data(tree_str)  \n",
    "    graph.write_png(png_file_to_save)"
   ]
  },
  {
   "cell_type": "code",
   "execution_count": 129,
   "id": "23e6460c-7710-4e68-9a75-d073d2586a3f",
   "metadata": {
    "tags": []
   },
   "outputs": [
    {
     "data": {
      "image/png": "[encoded data removed]",
      "text/plain": [
       "<Figure size 640x480 with 1 Axes>"
      ]
     },
     "metadata": {},
     "output_type": "display_data"
    }
   ],
   "source": [
    "# рисуем как есть\n",
    "plt.figure()\n",
    "plot_tree(dt_classifier, filled=True)\n",
    "plt.show()\n",
    "\n",
    "# адаптируем под вывод\n",
    "tree_graph_to_png(dt_classifier, feature_names=['average_pts', 'average_reb', 'average_ast', 'average_player_height', 'average_player_weight'],\n",
    "                  png_file_to_save='gini.png')"
   ]
  },
  {
   "cell_type": "raw",
   "id": "19c78394-7466-436e-9ecc-6cc6cce0ed11",
   "metadata": {},
   "source": [
    "Добавим свое решение классификации страны по выигрышам"
   ]
  },
  {
   "cell_type": "code",
   "execution_count": 154,
   "id": "9683d7ba-b9ab-4cbc-9fae-53040f4a54be",
   "metadata": {},
   "outputs": [],
   "source": [
    "dataset = db3"
   ]
  },
  {
   "cell_type": "code",
   "execution_count": 155,
   "id": "e36d0e1e-5c30-447a-bff0-30c41f810e46",
   "metadata": {},
   "outputs": [
    {
     "data": {
      "text/html": [
       "<div>\n",
       "<style scoped>\n",
       "    .dataframe tbody tr th:only-of-type {\n",
       "        vertical-align: middle;\n",
       "    }\n",
       "\n",
       "    .dataframe tbody tr th {\n",
       "        vertical-align: top;\n",
       "    }\n",
       "\n",
       "    .dataframe thead th {\n",
       "        text-align: right;\n",
       "    }\n",
       "</style>\n",
       "<table border=\"1\" class=\"dataframe\">\n",
       "  <thead>\n",
       "    <tr style=\"text-align: right;\">\n",
       "      <th></th>\n",
       "      <th>country</th>\n",
       "      <th>total_points</th>\n",
       "      <th>total_games</th>\n",
       "    </tr>\n",
       "  </thead>\n",
       "  <tbody>\n",
       "    <tr>\n",
       "      <th>0</th>\n",
       "      <td>Angola</td>\n",
       "      <td>8.7</td>\n",
       "      <td>3</td>\n",
       "    </tr>\n",
       "    <tr>\n",
       "      <th>1</th>\n",
       "      <td>Argentina</td>\n",
       "      <td>530.6</td>\n",
       "      <td>65</td>\n",
       "    </tr>\n",
       "    <tr>\n",
       "      <th>2</th>\n",
       "      <td>Australia</td>\n",
       "      <td>805.3</td>\n",
       "      <td>89</td>\n",
       "    </tr>\n",
       "    <tr>\n",
       "      <th>3</th>\n",
       "      <td>Austria</td>\n",
       "      <td>43.2</td>\n",
       "      <td>6</td>\n",
       "    </tr>\n",
       "    <tr>\n",
       "      <th>4</th>\n",
       "      <td>Bahamas</td>\n",
       "      <td>163.3</td>\n",
       "      <td>11</td>\n",
       "    </tr>\n",
       "  </tbody>\n",
       "</table>\n",
       "</div>"
      ],
      "text/plain": [
       "     country  total_points  total_games\n",
       "0     Angola           8.7            3\n",
       "1  Argentina         530.6           65\n",
       "2  Australia         805.3           89\n",
       "3    Austria          43.2            6\n",
       "4    Bahamas         163.3           11"
      ]
     },
     "execution_count": 155,
     "metadata": {},
     "output_type": "execute_result"
    }
   ],
   "source": [
    "dataset.head()"
   ]
  },
  {
   "cell_type": "code",
   "execution_count": 156,
   "id": "c60523e3-b011-4c45-8e44-2ce653e55cff",
   "metadata": {
    "tags": []
   },
   "outputs": [
    {
     "data": {
      "text/html": [
       "<div>\n",
       "<style scoped>\n",
       "    .dataframe tbody tr th:only-of-type {\n",
       "        vertical-align: middle;\n",
       "    }\n",
       "\n",
       "    .dataframe tbody tr th {\n",
       "        vertical-align: top;\n",
       "    }\n",
       "\n",
       "    .dataframe thead th {\n",
       "        text-align: right;\n",
       "    }\n",
       "</style>\n",
       "<table border=\"1\" class=\"dataframe\">\n",
       "  <thead>\n",
       "    <tr style=\"text-align: right;\">\n",
       "      <th></th>\n",
       "      <th>total_points</th>\n",
       "      <th>total_games</th>\n",
       "    </tr>\n",
       "  </thead>\n",
       "  <tbody>\n",
       "    <tr>\n",
       "      <th>count</th>\n",
       "      <td>82.000000</td>\n",
       "      <td>82.000000</td>\n",
       "    </tr>\n",
       "    <tr>\n",
       "      <th>mean</th>\n",
       "      <td>1226.414634</td>\n",
       "      <td>150.060976</td>\n",
       "    </tr>\n",
       "    <tr>\n",
       "      <th>std</th>\n",
       "      <td>9275.983469</td>\n",
       "      <td>1136.108338</td>\n",
       "    </tr>\n",
       "    <tr>\n",
       "      <th>min</th>\n",
       "      <td>0.000000</td>\n",
       "      <td>1.000000</td>\n",
       "    </tr>\n",
       "    <tr>\n",
       "      <th>25%</th>\n",
       "      <td>13.550000</td>\n",
       "      <td>3.250000</td>\n",
       "    </tr>\n",
       "    <tr>\n",
       "      <th>50%</th>\n",
       "      <td>82.400000</td>\n",
       "      <td>12.000000</td>\n",
       "    </tr>\n",
       "    <tr>\n",
       "      <th>75%</th>\n",
       "      <td>260.700000</td>\n",
       "      <td>32.750000</td>\n",
       "    </tr>\n",
       "    <tr>\n",
       "      <th>max</th>\n",
       "      <td>84158.400000</td>\n",
       "      <td>10308.000000</td>\n",
       "    </tr>\n",
       "  </tbody>\n",
       "</table>\n",
       "</div>"
      ],
      "text/plain": [
       "       total_points   total_games\n",
       "count     82.000000     82.000000\n",
       "mean    1226.414634    150.060976\n",
       "std     9275.983469   1136.108338\n",
       "min        0.000000      1.000000\n",
       "25%       13.550000      3.250000\n",
       "50%       82.400000     12.000000\n",
       "75%      260.700000     32.750000\n",
       "max    84158.400000  10308.000000"
      ]
     },
     "execution_count": 156,
     "metadata": {},
     "output_type": "execute_result"
    }
   ],
   "source": [
    "dataset.describe()"
   ]
  },
  {
   "cell_type": "code",
   "execution_count": 157,
   "id": "d88cf6e1-f458-4fe6-ad36-2bca2d253ee3",
   "metadata": {
    "tags": []
   },
   "outputs": [
    {
     "name": "stdout",
     "output_type": "stream",
     "text": [
      "<class 'pandas.core.frame.DataFrame'>\n",
      "RangeIndex: 82 entries, 0 to 81\n",
      "Data columns (total 3 columns):\n",
      " #   Column        Non-Null Count  Dtype  \n",
      "---  ------        --------------  -----  \n",
      " 0   country       82 non-null     object \n",
      " 1   total_points  82 non-null     float64\n",
      " 2   total_games   82 non-null     int64  \n",
      "dtypes: float64(1), int64(1), object(1)\n",
      "memory usage: 2.0+ KB\n"
     ]
    }
   ],
   "source": [
    "dataset.info()"
   ]
  },
  {
   "cell_type": "code",
   "execution_count": 158,
   "id": "cdd0c5fb-aea9-44f0-841b-80aab18f58fd",
   "metadata": {
    "tags": []
   },
   "outputs": [
    {
     "data": {
      "text/plain": [
       "(82, 2)"
      ]
     },
     "execution_count": 158,
     "metadata": {},
     "output_type": "execute_result"
    }
   ],
   "source": [
    "# инициализируем X без столбца (data feature) \n",
    "X = dataset.iloc[:,1:].values\n",
    "X.shape"
   ]
  },
  {
   "cell_type": "code",
   "execution_count": 159,
   "id": "95fa0563-9f78-47b4-8ab7-89cdf2cbe002",
   "metadata": {
    "tags": []
   },
   "outputs": [
    {
     "data": {
      "text/plain": [
       "array(['Angola', 'Argentina', 'Australia', 'Austria', 'Bahamas', 'Belize',\n",
       "       'Bosnia', 'Bosnia & Herzegovina', 'Bosnia and Herzegovina',\n",
       "       'Brazil', 'Cabo Verde', 'Cameroon', 'Canada', 'China', 'Colombia',\n",
       "       'Congo', 'Croatia', 'Czech Republic', 'DRC',\n",
       "       'Democratic Republic of the Congo', 'Denmark',\n",
       "       'Dominican Republic', 'Egypt', 'England', 'Finland', 'France',\n",
       "       'Gabon', 'Georgia', 'Germany', 'Ghana', 'Great Britain', 'Greece',\n",
       "       'Guinea', 'Haiti', 'Iran', 'Ireland', 'Israel', 'Italy', 'Jamaica',\n",
       "       'Japan', 'Latvia', 'Lithuania', 'Macedonia', 'Mali', 'Mexico',\n",
       "       'Montenegro', 'Netherlands', 'New Zealand', 'Nigeria', 'Panama',\n",
       "       'Poland', 'Portugal', 'Puerto Rico', 'Republic of the Congo',\n",
       "       'Russia', 'Saint Lucia', 'Scotland', 'Senegal', 'Serbia',\n",
       "       'Serbia and Montenegro', 'Slovenia', 'South Korea', 'South Sudan',\n",
       "       'Spain', 'St. Vincent & Grenadines', 'Sudan', 'Sudan (UK)',\n",
       "       'Sweden', 'Switzerland', 'Tanzania', 'Trinidad and Tobago',\n",
       "       'Tunisia', 'Turkey', 'U.S. Virgin Islands', 'US Virgin Islands',\n",
       "       'USA', 'USSR', 'Ukraine', 'United Kingdom', 'Uruguay', 'Venezuela',\n",
       "       'Yugoslavia'], dtype=object)"
      ]
     },
     "execution_count": 159,
     "metadata": {},
     "output_type": "execute_result"
    }
   ],
   "source": [
    "# инициализируем Y как целевую функцию\n",
    "y = dataset.iloc[:,0].values\n",
    "y.shape"
   ]
  },
  {
   "cell_type": "code",
   "execution_count": 160,
   "id": "7da0dde5-7d4f-4deb-98c7-d11d7916283d",
   "metadata": {
    "tags": []
   },
   "outputs": [
    {
     "name": "stdout",
     "output_type": "stream",
     "text": [
      "<class 'pandas.core.frame.DataFrame'>\n",
      "RangeIndex: 82 entries, 0 to 81\n",
      "Data columns (total 3 columns):\n",
      " #   Column        Non-Null Count  Dtype  \n",
      "---  ------        --------------  -----  \n",
      " 0   country       82 non-null     object \n",
      " 1   total_points  82 non-null     float64\n",
      " 2   total_games   82 non-null     int64  \n",
      "dtypes: float64(1), int64(1), object(1)\n",
      "memory usage: 2.0+ KB\n"
     ]
    }
   ],
   "source": [
    "dataset.info()"
   ]
  },
  {
   "cell_type": "code",
   "execution_count": 161,
   "id": "51a59ad6-4a30-4af5-b7f9-d2cfc8012b5e",
   "metadata": {
    "tags": []
   },
   "outputs": [],
   "source": [
    "from sklearn.model_selection import train_test_split\n",
    "X_train, X_test, y_train, y_test = train_test_split(X, y, test_size = 0.25, random_state = 0)"
   ]
  },
  {
   "cell_type": "code",
   "execution_count": 162,
   "id": "936ff8a6-e33e-4694-b7e1-f4f9afedaa72",
   "metadata": {
    "tags": []
   },
   "outputs": [
    {
     "data": {
      "text/html": [
       "<style>#sk-container-id-9 {color: black;background-color: white;}#sk-container-id-9 pre{padding: 0;}#sk-container-id-9 div.sk-toggleable {background-color: white;}#sk-container-id-9 label.sk-toggleable__label {cursor: pointer;display: block;width: 100%;margin-bottom: 0;padding: 0.3em;box-sizing: border-box;text-align: center;}#sk-container-id-9 label.sk-toggleable__label-arrow:before {content: \"▸\";float: left;margin-right: 0.25em;color: #696969;}#sk-container-id-9 label.sk-toggleable__label-arrow:hover:before {color: black;}#sk-container-id-9 div.sk-estimator:hover label.sk-toggleable__label-arrow:before {color: black;}#sk-container-id-9 div.sk-toggleable__content {max-height: 0;max-width: 0;overflow: hidden;text-align: left;background-color: #f0f8ff;}#sk-container-id-9 div.sk-toggleable__content pre {margin: 0.2em;color: black;border-radius: 0.25em;background-color: #f0f8ff;}#sk-container-id-9 input.sk-toggleable__control:checked~div.sk-toggleable__content {max-height: 200px;max-width: 100%;overflow: auto;}#sk-container-id-9 input.sk-toggleable__control:checked~label.sk-toggleable__label-arrow:before {content: \"▾\";}#sk-container-id-9 div.sk-estimator input.sk-toggleable__control:checked~label.sk-toggleable__label {background-color: #d4ebff;}#sk-container-id-9 div.sk-label input.sk-toggleable__control:checked~label.sk-toggleable__label {background-color: #d4ebff;}#sk-container-id-9 input.sk-hidden--visually {border: 0;clip: rect(1px 1px 1px 1px);clip: rect(1px, 1px, 1px, 1px);height: 1px;margin: -1px;overflow: hidden;padding: 0;position: absolute;width: 1px;}#sk-container-id-9 div.sk-estimator {font-family: monospace;background-color: #f0f8ff;border: 1px dotted black;border-radius: 0.25em;box-sizing: border-box;margin-bottom: 0.5em;}#sk-container-id-9 div.sk-estimator:hover {background-color: #d4ebff;}#sk-container-id-9 div.sk-parallel-item::after {content: \"\";width: 100%;border-bottom: 1px solid gray;flex-grow: 1;}#sk-container-id-9 div.sk-label:hover label.sk-toggleable__label {background-color: #d4ebff;}#sk-container-id-9 div.sk-serial::before {content: \"\";position: absolute;border-left: 1px solid gray;box-sizing: border-box;top: 0;bottom: 0;left: 50%;z-index: 0;}#sk-container-id-9 div.sk-serial {display: flex;flex-direction: column;align-items: center;background-color: white;padding-right: 0.2em;padding-left: 0.2em;position: relative;}#sk-container-id-9 div.sk-item {position: relative;z-index: 1;}#sk-container-id-9 div.sk-parallel {display: flex;align-items: stretch;justify-content: center;background-color: white;position: relative;}#sk-container-id-9 div.sk-item::before, #sk-container-id-9 div.sk-parallel-item::before {content: \"\";position: absolute;border-left: 1px solid gray;box-sizing: border-box;top: 0;bottom: 0;left: 50%;z-index: -1;}#sk-container-id-9 div.sk-parallel-item {display: flex;flex-direction: column;z-index: 1;position: relative;background-color: white;}#sk-container-id-9 div.sk-parallel-item:first-child::after {align-self: flex-end;width: 50%;}#sk-container-id-9 div.sk-parallel-item:last-child::after {align-self: flex-start;width: 50%;}#sk-container-id-9 div.sk-parallel-item:only-child::after {width: 0;}#sk-container-id-9 div.sk-dashed-wrapped {border: 1px dashed gray;margin: 0 0.4em 0.5em 0.4em;box-sizing: border-box;padding-bottom: 0.4em;background-color: white;}#sk-container-id-9 div.sk-label label {font-family: monospace;font-weight: bold;display: inline-block;line-height: 1.2em;}#sk-container-id-9 div.sk-label-container {text-align: center;}#sk-container-id-9 div.sk-container {/* jupyter's `normalize.less` sets `[hidden] { display: none; }` but bootstrap.min.css set `[hidden] { display: none !important; }` so we also need the `!important` here to be able to override the default hidden behavior on the sphinx rendered scikit-learn.org. See: https://github.com/scikit-learn/scikit-learn/issues/21755 */display: inline-block !important;position: relative;}#sk-container-id-9 div.sk-text-repr-fallback {display: none;}</style><div id=\"sk-container-id-9\" class=\"sk-top-container\"><div class=\"sk-text-repr-fallback\"><pre>DecisionTreeClassifier(criterion=&#x27;entropy&#x27;)</pre><b>In a Jupyter environment, please rerun this cell to show the HTML representation or trust the notebook. <br />On GitHub, the HTML representation is unable to render, please try loading this page with nbviewer.org.</b></div><div class=\"sk-container\" hidden><div class=\"sk-item\"><div class=\"sk-estimator sk-toggleable\"><input class=\"sk-toggleable__control sk-hidden--visually\" id=\"sk-estimator-id-9\" type=\"checkbox\" checked><label for=\"sk-estimator-id-9\" class=\"sk-toggleable__label sk-toggleable__label-arrow\">DecisionTreeClassifier</label><div class=\"sk-toggleable__content\"><pre>DecisionTreeClassifier(criterion=&#x27;entropy&#x27;)</pre></div></div></div></div></div>"
      ],
      "text/plain": [
       "DecisionTreeClassifier(criterion='entropy')"
      ]
     },
     "execution_count": 162,
     "metadata": {},
     "output_type": "execute_result"
    }
   ],
   "source": [
    "# определяем дерево решений\n",
    "dt_classifier = DecisionTreeClassifier(criterion = 'entropy')\n",
    "\n",
    "dt_classifier.fit(X_train, y_train)"
   ]
  },
  {
   "cell_type": "code",
   "execution_count": 164,
   "id": "3289ef64-eb42-4b9b-bb5d-5400c30f375a",
   "metadata": {
    "tags": []
   },
   "outputs": [
    {
     "data": {
      "image/png": "[encoded data removed]",
      "text/plain": [
       "<Figure size 640x480 with 1 Axes>"
      ]
     },
     "metadata": {},
     "output_type": "display_data"
    }
   ],
   "source": [
    "plt.figure()\n",
    "plot_tree(dt_classifier, filled=True)\n",
    "plt.show()\n",
    "\n",
    "# адаптируем под вывод\n",
    "tree_graph_to_png(dt_classifier, feature_names=['total_points','total_games'],\n",
    "                  png_file_to_save='entropy.png')"
   ]
  }
 ],
 "metadata": {
  "kernelspec": {
   "display_name": "Python 3 (ipykernel)",
   "language": "python",
   "name": "python3"
  },
  "language_info": {
   "codemirror_mode": {
    "name": "ipython",
    "version": 3
   },
   "file_extension": ".py",
   "mimetype": "text/x-python",
   "name": "python",
   "nbconvert_exporter": "python",
   "pygments_lexer": "ipython3",
   "version": "3.8.10"
  }
 },
 "nbformat": 4,
 "nbformat_minor": 5
}
