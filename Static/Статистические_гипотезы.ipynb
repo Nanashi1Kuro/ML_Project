{
  "nbformat": 4,
  "nbformat_minor": 0,
  "metadata": {
    "colab": {
      "provenance": []
    },
    "kernelspec": {
      "name": "python3",
      "display_name": "Python 3"
    },
    "language_info": {
      "name": "python"
    }
  },
  "cells": [
    {
      "cell_type": "markdown",
      "metadata": {
        "id": "8TLZ3fghxKl8"
      },
      "source": [
        "##Тесты на нормальность\n",
        "\n",
        "\n",
        "Тест Шапиро-Уилка\n",
        "Проверяет, имеет ли образец данных гауссово распределение.\n",
        "\n",
        "\n",
        "H0: образец имеет гауссовское распределение.\n",
        "H1: образец не имеет гауссовского распределения."
      ]
    },
    {
      "cell_type": "code",
      "metadata": {
        "id": "vTrGWvUL8jS6"
      },
      "source": [
        "import matplotlib.pyplot as plt\n",
        "import numpy as np\n",
        "\n",
        "%matplotlib inline"
      ],
      "execution_count": null,
      "outputs": []
    },
    {
      "cell_type": "code",
      "metadata": {
        "colab": {
          "base_uri": "https://localhost:8080/",
          "height": 334
        },
        "id": "fGXMO4YO8tEe",
        "outputId": "0783b87b-4e93-4434-a590-886e1c452819"
      },
      "source": [
        "data = [0.873, 2.817, 0.121, -0.945, -0.055, -1.436, 0.360, -1.478, -1.637, -1.869]\n",
        "plt.hist(data)"
      ],
      "execution_count": null,
      "outputs": [
        {
          "output_type": "execute_result",
          "data": {
            "text/plain": [
              "(array([4., 1., 0., 1., 2., 1., 0., 0., 0., 1.]),\n",
              " array([-1.869 , -1.4004, -0.9318, -0.4632,  0.0054,  0.474 ,  0.9426,\n",
              "         1.4112,  1.8798,  2.3484,  2.817 ]),\n",
              " <a list of 10 Patch objects>)"
            ]
          },
          "metadata": {},
          "execution_count": 7
        },
        {
          "output_type": "display_data",
          "data": {
            "image/png": "[encoded data removed]",
            "text/plain": [
              "<Figure size 432x288 with 1 Axes>"
            ]
          },
          "metadata": {
            "needs_background": "light"
          }
        }
      ]
    },
    {
      "cell_type": "code",
      "metadata": {
        "colab": {
          "base_uri": "https://localhost:8080/"
        },
        "id": "fMKJjkcvxLAH",
        "outputId": "1a3fde69-185b-476f-fac0-bc276ec85913"
      },
      "source": [
        "from scipy.stats import shapiro\n",
        "data = [0.873, 2.817, 0.121, -0.945, -0.055, -1.436, 0.360, -1.478, -1.637, -1.869]\n",
        "stat, p = shapiro(data)\n",
        "print('stat=%.3f, p=%.3f' % (stat, p))\n",
        "if p > 0.05: #5%\n",
        "\tprint('Probably Normal')\n",
        "else:\n",
        "\tprint('Probably not Normal')"
      ],
      "execution_count": null,
      "outputs": [
        {
          "output_type": "stream",
          "name": "stdout",
          "text": [
            "stat=0.895, p=0.193\n",
            "Probably Normal\n"
          ]
        }
      ]
    },
    {
      "cell_type": "markdown",
      "metadata": {
        "id": "XenxBFMHxLjB"
      },
      "source": [
        "### K ^ 2 Test Д’Агостино\n",
        "Проверяет, имеет ли образец данных гауссово распределение.\n",
        "\n",
        "\n",
        "H0: образец имеет гауссовское распределение.\n",
        "H1: образец не имеет гауссовского распределения"
      ]
    },
    {
      "cell_type": "code",
      "metadata": {
        "colab": {
          "base_uri": "https://localhost:8080/"
        },
        "id": "E3yLfvxzxL0o",
        "outputId": "922b5d88-b89d-4aff-ee42-0a9081f17079"
      },
      "source": [
        "from scipy.stats import normaltest\n",
        "data = [0.873, 2.817, 0.121, -0.945, -0.055, -1.436, 0.360, -1.478, -1.637, -1.869]\n",
        "stat, p = normaltest(data)\n",
        "print('stat=%.3f, p=%.3f' % (stat, p))\n",
        "if p > 0.05:\n",
        "\tprint('Probably Normal')\n",
        "else:\n",
        "\tprint('Probably not Normal')"
      ],
      "execution_count": null,
      "outputs": [
        {
          "output_type": "stream",
          "name": "stdout",
          "text": [
            "stat=3.392, p=0.183\n",
            "Probably Normal\n"
          ]
        },
        {
          "output_type": "stream",
          "name": "stderr",
          "text": [
            "/usr/local/lib/python3.7/dist-packages/scipy/stats/stats.py:1535: UserWarning: kurtosistest only valid for n>=20 ... continuing anyway, n=10\n",
            "  \"anyway, n=%i\" % int(n))\n"
          ]
        }
      ]
    },
    {
      "cell_type": "markdown",
      "metadata": {
        "id": "27v7-PiKxsmY"
      },
      "source": [
        "###Тест Андерсона-Дарлинга\n",
        "Проверяет, имеет ли образец данных гауссово распределение.\n",
        "\n",
        "\n",
        "H0: образец имеет гауссовское распределение.\n",
        "H1: образец не имеет гауссовского распределения."
      ]
    },
    {
      "cell_type": "code",
      "metadata": {
        "colab": {
          "base_uri": "https://localhost:8080/"
        },
        "id": "ZPxUFd5vxs65",
        "outputId": "7c604f76-3722-4d19-9803-8aa1b53f0710"
      },
      "source": [
        "from scipy.stats import anderson\n",
        "data = [0.873, 2.817, 0.121, -0.945, -0.055, -1.436, 0.360, -1.478, -1.637, -1.869]\n",
        "result = anderson(data)\n",
        "print('stat=%.3f' % (result.statistic))\n",
        "for i in range(len(result.critical_values)):\n",
        "\tsl, cv = result.significance_level[i], result.critical_values[i]\n",
        "\tif result.statistic < cv:\n",
        "\t\tprint('Probably Gaussian at the %.1f%% level' % (sl))\n",
        "\telse:\n",
        "\t\tprint('Probably not Gaussian at the %.1f%% level' % (sl))"
      ],
      "execution_count": null,
      "outputs": [
        {
          "output_type": "stream",
          "name": "stdout",
          "text": [
            "stat=0.424\n",
            "Probably Gaussian at the 15.0% level\n",
            "Probably Gaussian at the 10.0% level\n",
            "Probably Gaussian at the 5.0% level\n",
            "Probably Gaussian at the 2.5% level\n",
            "Probably Gaussian at the 1.0% level\n"
          ]
        }
      ]
    },
    {
      "cell_type": "markdown",
      "metadata": {
        "id": "ScOnx6UvyCTz"
      },
      "source": [
        "###Коэффициент корреляции Пирсона\n",
        "Проверяет, имеют ли два образца линейные отношения.\n",
        "\n",
        "\n",
        "H0: два образца независимы.\n",
        "H1: существует зависимость между образцами."
      ]
    },
    {
      "cell_type": "code",
      "metadata": {
        "colab": {
          "base_uri": "https://localhost:8080/"
        },
        "id": "CiPXNtV_yCd6",
        "outputId": "df6187ab-7087-4e1f-ab27-425e3b0bb5b5"
      },
      "source": [
        "from scipy.stats import pearsonr\n",
        "data1 = [0.873, 2.817, 0.121, -0.945, -0.055, -1.436, 0.360, -1.478, -1.637, -1.869]\n",
        "data2 = [100.353, 300.517, 100000.125, -700.545, -100.555, -100.536, 300.350, -100.578, -300.537, -100.579]\n",
        "stat, p = pearsonr(data1, data2)\n",
        "print('stat=%.3f, p=%.3f' % (stat, p))\n",
        "if p > 0.05:\n",
        "\tprint('Probably independent')\n",
        "else:\n",
        "\tprint('Probably dependent')"
      ],
      "execution_count": null,
      "outputs": [
        {
          "output_type": "stream",
          "name": "stdout",
          "text": [
            "stat=0.113, p=0.755\n",
            "Probably independent\n"
          ]
        }
      ]
    },
    {
      "cell_type": "markdown",
      "metadata": {
        "id": "5KQ2WgZnyCpd"
      },
      "source": [
        "###Ранговая корреляция Спирмена\n",
        "Проверяет, имеют ли два образца монотонное отношение.\n",
        "\n",
        "H0: два образца независимы.\n",
        "H1: существует зависимость между образцами."
      ]
    },
    {
      "cell_type": "code",
      "metadata": {
        "id": "fGJWJg44yC0P",
        "colab": {
          "base_uri": "https://localhost:8080/"
        },
        "outputId": "e17feff3-8828-4ca5-a2dc-f6d17b226529"
      },
      "source": [
        "from scipy.stats import spearmanr\n",
        "data1 = [0.873, 2.817, 0.121, -0.945, -0.055, -1.436, 0.360, -1.478, -1.637, -1.869]\n",
        "data2 = [100.353, 300.517, 1000000.125, -700.545, -100.555, -100.536, 300.350, -100.578, -300.537, -100.579]\n",
        "stat, p = spearmanr(data1, data2)\n",
        "print('stat=%.3f, p=%.3f' % (stat, p))\n",
        "if p > 0.05:\n",
        "\tprint('Probably independent')\n",
        "else:\n",
        "\tprint('Probably dependent')"
      ],
      "execution_count": null,
      "outputs": [
        {
          "output_type": "stream",
          "name": "stdout",
          "text": [
            "stat=0.758, p=0.011\n",
            "Probably dependent\n"
          ]
        }
      ]
    },
    {
      "cell_type": "markdown",
      "metadata": {
        "id": "MWKcEMxPyDE8"
      },
      "source": [
        "###Корреляция рангов Кендалла\n",
        "Проверяет, имеют ли два образца монотонное отношение.\n",
        "\n",
        "H0: два образца независимы.\n",
        "H1: существует зависимость между образцами."
      ]
    },
    {
      "cell_type": "code",
      "metadata": {
        "id": "HbWWU4wDyDOo",
        "colab": {
          "base_uri": "https://localhost:8080/"
        },
        "outputId": "af9e2c38-cc70-445c-e395-5da005972db0"
      },
      "source": [
        "from scipy.stats import kendalltau\n",
        "data1 = [0.873, 2.817, 0.121, -0.945, -0.055, -1.436, 0.360, -1.478, -1.637, -1.869]\n",
        "data2 = [0.353, 3.517, 0.125, -7.545, -0.555, -1.536, 3.350, -1.578, -3.537, -1.579]\n",
        "stat, p = kendalltau(data1, data2)\n",
        "print('stat=%.3f, p=%.3f' % (stat, p))\n",
        "if p > 0.05:\n",
        "\tprint('Probably independent')\n",
        "else:\n",
        "\tprint('Probably dependent')"
      ],
      "execution_count": null,
      "outputs": [
        {
          "output_type": "stream",
          "name": "stdout",
          "text": [
            "stat=0.733, p=0.002\n",
            "Probably dependent\n"
          ]
        }
      ]
    },
    {
      "cell_type": "markdown",
      "metadata": {
        "id": "pV5-7B_lyriK"
      },
      "source": [
        "###Тест хи-квадрат\n",
        "Проверяет, связаны ли две категориальные переменные или независимы.\n",
        "\n",
        "H0: два образца независимы.\n",
        "H1: существует зависимость между образцами."
      ]
    },
    {
      "cell_type": "code",
      "metadata": {
        "id": "yEyjGs67yrxW",
        "colab": {
          "base_uri": "https://localhost:8080/"
        },
        "outputId": "58f9757c-8248-496e-9b06-ff8a8177061b"
      },
      "source": [
        "from scipy.stats import chi2_contingency\n",
        "table = [[10, 20, 30],[6,  9,  17]]\n",
        "stat, p, dof, expected = chi2_contingency(table)\n",
        "print('stat=%.3f, p=%.3f' % (stat, p))\n",
        "if p > 0.05:\n",
        "\tprint('Probably independent')\n",
        "else:\n",
        "\tprint('Probably dependent')"
      ],
      "execution_count": null,
      "outputs": [
        {
          "output_type": "stream",
          "name": "stdout",
          "text": [
            "stat=0.272, p=0.873\n",
            "Probably independent\n"
          ]
        }
      ]
    },
    {
      "cell_type": "markdown",
      "metadata": {
        "id": "be1Vk0yUysAO"
      },
      "source": [
        "###Расширенный модульный корневой тест Дики-Фуллера\n",
        "Проверяет, имеет ли временной ряд единичный корень, например имеет тенденцию или, в более общем смысле, является авторегрессионным.\n",
        "\n",
        "H0: присутствует единичный корень (ряд нестационарен).\n",
        "H1: единичный корень отсутствует (серия стационарна)."
      ]
    },
    {
      "cell_type": "code",
      "metadata": {
        "id": "0EPIyo4CysMH",
        "colab": {
          "base_uri": "https://localhost:8080/"
        },
        "outputId": "10756231-3689-4bf4-d436-2590766565f3"
      },
      "source": [
        "from statsmodels.tsa.stattools import adfuller\n",
        "data = [0, 1, 2, 3, 4, 5, 6, 7, 8, 9]\n",
        "stat, p, lags, obs, crit, t = adfuller(data)\n",
        "print('stat=%.3f, p=%.3f' % (stat, p))\n",
        "if p > 0.05:\n",
        "\tprint('Probably not Stationary')\n",
        "else:\n",
        "\tprint('Probably Stationary')"
      ],
      "execution_count": null,
      "outputs": [
        {
          "output_type": "stream",
          "name": "stdout",
          "text": [
            "stat=0.175, p=0.971\n",
            "Probably not Stationary\n"
          ]
        },
        {
          "output_type": "stream",
          "name": "stderr",
          "text": [
            "/usr/local/lib/python3.7/dist-packages/statsmodels/tools/_testing.py:19: FutureWarning: pandas.util.testing is deprecated. Use the functions in the public API at pandas.testing instead.\n",
            "  import pandas.util.testing as tm\n"
          ]
        }
      ]
    },
    {
      "cell_type": "markdown",
      "metadata": {
        "id": "g_bRmCyDysY6"
      },
      "source": [
        "###Квятковски-Филлипс-Шмидт-Шин\n",
        "Проверяет, является ли временной ряд стационарным трендом.\n",
        "\n",
        "H0: временной ряд не является стационарным по тренду.\n",
        "H1: временной ряд является стационарным по тренду."
      ]
    },
    {
      "cell_type": "code",
      "metadata": {
        "id": "x8OqZ3Hkysk9",
        "colab": {
          "base_uri": "https://localhost:8080/"
        },
        "outputId": "58532a52-e47b-4f0a-eff0-1cb5c1bc4aa1"
      },
      "source": [
        "from statsmodels.tsa.stattools import kpss\n",
        "data = [0, 1, 2, 3, 4, 5, 6, 7, 8, 9]\n",
        "stat, p, lags, crit = kpss(data)\n",
        "print('stat=%.3f, p=%.3f' % (stat, p))\n",
        "if p > 0.05:\n",
        "\tprint('Probably not Stationary')\n",
        "else:\n",
        "\tprint('Probably Stationary')"
      ],
      "execution_count": null,
      "outputs": [
        {
          "output_type": "stream",
          "name": "stdout",
          "text": [
            "stat=0.410, p=0.073\n",
            "Probably not Stationary\n"
          ]
        },
        {
          "output_type": "stream",
          "name": "stderr",
          "text": [
            "/usr/local/lib/python3.7/dist-packages/statsmodels/tsa/stattools.py:1685: FutureWarning: The behavior of using lags=None will change in the next release. Currently lags=None is the same as lags='legacy', and so a sample-size lag length is used. After the next release, the default will change to be the same as lags='auto' which uses an automatic lag length selection method. To silence this warning, either use 'auto' or 'legacy'\n",
            "  warn(msg, FutureWarning)\n"
          ]
        }
      ]
    },
    {
      "cell_type": "markdown",
      "metadata": {
        "id": "s6SrLXi9ysxZ"
      },
      "source": [
        "###т-тест Стьюдента\n",
        "Проверяет, существенно ли различаются средние значения двух независимых выборок.\n",
        "\n",
        "H0: средние значения образцов равны.\n",
        "H1: средние значения образцов не равны."
      ]
    },
    {
      "cell_type": "code",
      "metadata": {
        "colab": {
          "base_uri": "https://localhost:8080/"
        },
        "id": "03PqgY9Iys6E",
        "outputId": "c4960231-03dd-4adc-ebcc-d86d610eb5cd"
      },
      "source": [
        "from scipy.stats import ttest_ind\n",
        "data1 = [0.873, 2.817, 0.121, -0.945, -0.055, -1.436, 0.360, -1.478, -1.637, -1.869]\n",
        "data2 = [1.142, -0.432, -0.938, -0.729, -0.846, -0.157, 0.500, 1.183, -1.075, -0.169]\n",
        "stat, p = ttest_ind(data1, data2)\n",
        "print('stat=%.3f, p=%.3f' % (stat, p))\n",
        "if p > 0.05:\n",
        "\tprint('Probably the same distribution')\n",
        "else:\n",
        "\tprint('Probably different distributions')"
      ],
      "execution_count": null,
      "outputs": [
        {
          "output_type": "stream",
          "name": "stdout",
          "text": [
            "stat=-0.326, p=0.748\n",
            "Probably the same distribution\n"
          ]
        }
      ]
    },
    {
      "cell_type": "markdown",
      "metadata": {
        "id": "e-nNFQnVytDa"
      },
      "source": [
        "##Парный t-критерий Стьюдента\n",
        "Проверяет, существенно ли различаются средние значения двух парных выборок.\n",
        "\n",
        "H0: средние значения образцов равны.\n",
        "H1: средние значения образцов не равны."
      ]
    },
    {
      "cell_type": "code",
      "metadata": {
        "id": "39J7kBAWytQH",
        "colab": {
          "base_uri": "https://localhost:8080/"
        },
        "outputId": "11fcf837-a239-4836-d6a0-d9fa52b35bcb"
      },
      "source": [
        "from scipy.stats import ttest_rel\n",
        "data1 = [0.873, 2.817, 0.121, -0.945, -0.055, -1.436, 0.360, -1.478, -1.637, -1.869]\n",
        "data2 = [1.142, -0.432, -0.938, -0.729, -0.846, -0.157, 0.500, 1.183, -1.075, -0.169]\n",
        "stat, p = ttest_rel(data1, data2)\n",
        "print('stat=%.3f, p=%.3f' % (stat, p))\n",
        "if p > 0.05:\n",
        "\tprint('Probably the same distribution')\n",
        "else:\n",
        "\tprint('Probably different distributions')"
      ],
      "execution_count": null,
      "outputs": [
        {
          "output_type": "stream",
          "name": "stdout",
          "text": [
            "stat=-0.334, p=0.746\n",
            "Probably the same distribution\n"
          ]
        }
      ]
    },
    {
      "cell_type": "markdown",
      "metadata": {
        "id": "xCwNDEpOytbi"
      },
      "source": [
        "###Тест дисперсионного анализа (ANOVA)\n",
        "Проверяет, существенно ли различаются средние значения двух или более независимых выборок.\n",
        "\n",
        "H0: средние значения образцов равны.\n",
        "H1: одно или несколько средних значений образцов не равны."
      ]
    },
    {
      "cell_type": "code",
      "metadata": {
        "id": "jKn3Pz24ytk9",
        "colab": {
          "base_uri": "https://localhost:8080/"
        },
        "outputId": "474a176d-9225-4d6b-b47a-c99aed1cb974"
      },
      "source": [
        "from scipy.stats import f_oneway\n",
        "data1 = [0.873, 2.817, 0.121, -0.945, -0.055, -1.436, 0.360, -1.478, -1.637, -1.869]\n",
        "data2 = [1.142, -0.432, -0.938, -0.729, -0.846, -0.157, 0.500, 1.183, -1.075, -0.169]\n",
        "data3 = [-0.208, 0.696, 0.928, -1.148, -0.213, 0.229, 0.137, 0.269, -0.870, -1.204]\n",
        "stat, p = f_oneway(data1, data2, data3)\n",
        "print('stat=%.3f, p=%.3f' % (stat, p))\n",
        "if p > 0.05:\n",
        "\tprint('Probably the same distribution')\n",
        "else:\n",
        "\tprint('Probably different distributions')"
      ],
      "execution_count": null,
      "outputs": [
        {
          "output_type": "stream",
          "name": "stdout",
          "text": [
            "stat=0.096, p=0.908\n",
            "Probably the same distribution\n"
          ]
        }
      ]
    },
    {
      "cell_type": "markdown",
      "metadata": {
        "id": "o7O2k7sT4bq9"
      },
      "source": [
        "###U-тест Манна-Уитни\n",
        "Проверяет, равны ли распределения двух независимых выборок.\n",
        "\n",
        "H0: распределения обоих образцов равны.\n",
        "H1: распределения обоих образцов не равны."
      ]
    },
    {
      "cell_type": "code",
      "metadata": {
        "id": "sS21aV3S4b0d",
        "colab": {
          "base_uri": "https://localhost:8080/"
        },
        "outputId": "fe8c92ec-07cc-490b-ebc3-fab8da408bda"
      },
      "source": [
        "from scipy.stats import mannwhitneyu\n",
        "data1 = [0.873, 2.817, 0.121, -0.945, -0.055, -1.436, 0.360, -1.478, -1.637, -1.869]\n",
        "data2 = [1.142, -0.432, -0.938, -0.729, -0.846, -0.157, 0.500, 1.183, -1.075, -0.169]\n",
        "stat, p = mannwhitneyu(data1, data2)\n",
        "print('stat=%.3f, p=%.3f' % (stat, p))\n",
        "if p > 0.05:\n",
        "\tprint('Probably the same distribution')\n",
        "else:\n",
        "\tprint('Probably different distributions')"
      ],
      "execution_count": null,
      "outputs": [
        {
          "output_type": "stream",
          "name": "stdout",
          "text": [
            "stat=40.000, p=0.236\n",
            "Probably the same distribution\n"
          ]
        }
      ]
    },
    {
      "cell_type": "markdown",
      "metadata": {
        "id": "8aFoH7oi4b_i"
      },
      "source": [
        "###Тест Крускала-Уоллиса H\n",
        "Проверяет, равны ли распределения двух или более независимых выборок.\n",
        "\n",
        "H0: распределения всех выборок равны.\n",
        "H1: распределения одного или нескольких образцов не равны."
      ]
    },
    {
      "cell_type": "code",
      "metadata": {
        "id": "Of2YFmm74cJ6",
        "colab": {
          "base_uri": "https://localhost:8080/"
        },
        "outputId": "f19c11d7-37b6-41b0-999d-1d3f82b7c9c8"
      },
      "source": [
        "from scipy.stats import kruskal\n",
        "data1 = [0.873, 2.817, 0.121, -0.945, -0.055, -1.436, 0.360, -1.478, -1.637, -1.869]\n",
        "data2 = [1.142, -0.432, -0.938, -0.729, -0.846, -0.157, 0.500, 1.183, -1.075, -0.169]\n",
        "stat, p = kruskal(data1, data2)\n",
        "print('stat=%.3f, p=%.3f' % (stat, p))\n",
        "if p > 0.05:\n",
        "\tprint('Probably the same distribution')\n",
        "else:\n",
        "\tprint('Probably different distributions')"
      ],
      "execution_count": null,
      "outputs": [
        {
          "output_type": "stream",
          "name": "stdout",
          "text": [
            "stat=0.571, p=0.450\n",
            "Probably the same distribution\n"
          ]
        }
      ]
    },
    {
      "cell_type": "markdown",
      "metadata": {
        "id": "MVG0yOyo4cWI"
      },
      "source": [
        "###Тест Фридмана\n",
        "Проверяет, равны ли распределения двух или более парных выборок.\n",
        "\n",
        "H0: распределения всех выборок равны.\n",
        "H1: распределения одного или нескольких образцов не равны."
      ]
    },
    {
      "cell_type": "code",
      "metadata": {
        "id": "WySeRdEA4cht",
        "colab": {
          "base_uri": "https://localhost:8080/"
        },
        "outputId": "e5890db3-fc03-4313-e6a6-241011b7a498"
      },
      "source": [
        "from scipy.stats import friedmanchisquare\n",
        "data1 = [0.873, 2.817, 0.121, -0.945, -0.055, -1.436, 0.360, -1.478, -1.637, -1.869]\n",
        "data2 = [1.142, -0.432, -0.938, -0.729, -0.846, -0.157, 0.500, 1.183, -1.075, -0.169]\n",
        "data3 = [-0.208, 0.696, 0.928, -1.148, -0.213, 0.229, 0.137, 0.269, -0.870, -1.204]\n",
        "stat, p = friedmanchisquare(data1, data2, data3)\n",
        "print('stat=%.3f, p=%.3f' % (stat, p))\n",
        "if p > 0.05:\n",
        "\tprint('Probably the same distribution')\n",
        "else:\n",
        "\tprint('Probably different distributions')"
      ],
      "execution_count": null,
      "outputs": [
        {
          "output_type": "stream",
          "name": "stdout",
          "text": [
            "stat=0.800, p=0.670\n",
            "Probably the same distribution\n"
          ]
        }
      ]
    },
    {
      "cell_type": "markdown",
      "metadata": {
        "id": "rgEaaH8t4crM"
      },
      "source": []
    },
    {
      "cell_type": "code",
      "metadata": {
        "id": "0wHO1-sk4c18"
      },
      "source": [],
      "execution_count": null,
      "outputs": []
    },
    {
      "cell_type": "markdown",
      "metadata": {
        "id": "fCA_-hIs4dBQ"
      },
      "source": []
    },
    {
      "cell_type": "code",
      "metadata": {
        "id": "Afjeay6L4dKW"
      },
      "source": [],
      "execution_count": null,
      "outputs": []
    }
  ]
}