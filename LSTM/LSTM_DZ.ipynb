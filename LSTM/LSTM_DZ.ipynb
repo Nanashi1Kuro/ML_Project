{
 "cells": [
  {
   "cell_type": "markdown",
   "metadata": {},
   "source": [
    "Инициализация библиотек"
   ]
  },
  {
   "cell_type": "code",
   "execution_count": 293,
   "metadata": {
    "id": "5BGn5FMHCqJO",
    "tags": []
   },
   "outputs": [],
   "source": [
    "import pandas as pd\n",
    "import seaborn as sns\n",
    "import numpy as np\n",
    "import matplotlib.pyplot as plt\n",
    "from matplotlib.colors import ListedColormap\n",
    "from sklearn.model_selection import train_test_split\n",
    "from tensorflow.keras.models import Sequential\n",
    "from tensorflow.keras.layers import Dense\n",
    "from tensorflow.keras.layers import LSTM\n",
    "from sklearn.preprocessing import MinMaxScaler\n",
    "from sklearn.metrics import mean_squared_error\n",
    "from urllib.parse import urlparse\n",
    "import pandas_datareader.data as web"
   ]
  },
  {
   "cell_type": "markdown",
   "metadata": {},
   "source": [
    "Загрузка и анализ датасета"
   ]
  },
  {
   "cell_type": "code",
   "execution_count": 294,
   "metadata": {
    "tags": []
   },
   "outputs": [],
   "source": [
    "url = 'https://drive.google.com/file/d/1KE4cPt0l4vSm_OzuPNCf64BxMG_fygFL/view'"
   ]
  },
  {
   "cell_type": "code",
   "execution_count": 295,
   "metadata": {
    "tags": []
   },
   "outputs": [
    {
     "data": {
      "text/plain": [
       "ParseResult(scheme='https', netloc='drive.google.com', path='/file/d/1KE4cPt0l4vSm_OzuPNCf64BxMG_fygFL/view', params='', query='', fragment='')"
      ]
     },
     "execution_count": 295,
     "metadata": {},
     "output_type": "execute_result"
    }
   ],
   "source": [
    "parts = urlparse(url)\n",
    "parts"
   ]
  },
  {
   "cell_type": "code",
   "execution_count": 296,
   "metadata": {
    "tags": []
   },
   "outputs": [],
   "source": [
    "url = 'https://drive.google.com/file/d/1KE4cPt0l4vSm_OzuPNCf64BxMG_fygFL/view'\n",
    "url = 'https://drive.google.com/uc?id=' + url.split('/')[-2]"
   ]
  },
  {
   "cell_type": "code",
   "execution_count": 297,
   "metadata": {},
   "outputs": [],
   "source": [
    "dataset = pd.read_csv(url, sep = \";\")"
   ]
  },
  {
   "cell_type": "code",
   "execution_count": 298,
   "metadata": {},
   "outputs": [
    {
     "data": {
      "text/html": [
       "<div>\n",
       "<style scoped>\n",
       "    .dataframe tbody tr th:only-of-type {\n",
       "        vertical-align: middle;\n",
       "    }\n",
       "\n",
       "    .dataframe tbody tr th {\n",
       "        vertical-align: top;\n",
       "    }\n",
       "\n",
       "    .dataframe thead th {\n",
       "        text-align: right;\n",
       "    }\n",
       "</style>\n",
       "<table border=\"1\" class=\"dataframe\">\n",
       "  <thead>\n",
       "    <tr style=\"text-align: right;\">\n",
       "      <th></th>\n",
       "      <th>year</th>\n",
       "      <th>month</th>\n",
       "      <th>decimal_date</th>\n",
       "      <th>average</th>\n",
       "      <th>interpolated</th>\n",
       "    </tr>\n",
       "  </thead>\n",
       "  <tbody>\n",
       "    <tr>\n",
       "      <th>0</th>\n",
       "      <td>1958</td>\n",
       "      <td>3</td>\n",
       "      <td>1958.208</td>\n",
       "      <td>315.71</td>\n",
       "      <td>315.71</td>\n",
       "    </tr>\n",
       "    <tr>\n",
       "      <th>1</th>\n",
       "      <td>1958</td>\n",
       "      <td>4</td>\n",
       "      <td>1958.292</td>\n",
       "      <td>317.45</td>\n",
       "      <td>317.45</td>\n",
       "    </tr>\n",
       "    <tr>\n",
       "      <th>2</th>\n",
       "      <td>1958</td>\n",
       "      <td>5</td>\n",
       "      <td>1958.375</td>\n",
       "      <td>317.50</td>\n",
       "      <td>317.50</td>\n",
       "    </tr>\n",
       "    <tr>\n",
       "      <th>3</th>\n",
       "      <td>1958</td>\n",
       "      <td>6</td>\n",
       "      <td>1958.458</td>\n",
       "      <td>-99.99</td>\n",
       "      <td>317.10</td>\n",
       "    </tr>\n",
       "    <tr>\n",
       "      <th>4</th>\n",
       "      <td>1958</td>\n",
       "      <td>7</td>\n",
       "      <td>1958.542</td>\n",
       "      <td>315.86</td>\n",
       "      <td>315.86</td>\n",
       "    </tr>\n",
       "  </tbody>\n",
       "</table>\n",
       "</div>"
      ],
      "text/plain": [
       "   year  month  decimal_date  average  interpolated\n",
       "0  1958      3      1958.208   315.71        315.71\n",
       "1  1958      4      1958.292   317.45        317.45\n",
       "2  1958      5      1958.375   317.50        317.50\n",
       "3  1958      6      1958.458   -99.99        317.10\n",
       "4  1958      7      1958.542   315.86        315.86"
      ]
     },
     "execution_count": 298,
     "metadata": {},
     "output_type": "execute_result"
    }
   ],
   "source": [
    "dataset.head()"
   ]
  },
  {
   "cell_type": "code",
   "execution_count": 299,
   "metadata": {},
   "outputs": [],
   "source": [
    "dataset['Date'] = dataset['year'].apply(str) + '-' + dataset['month'].apply(str)"
   ]
  },
  {
   "cell_type": "code",
   "execution_count": 300,
   "metadata": {},
   "outputs": [
    {
     "data": {
      "text/html": [
       "<div>\n",
       "<style scoped>\n",
       "    .dataframe tbody tr th:only-of-type {\n",
       "        vertical-align: middle;\n",
       "    }\n",
       "\n",
       "    .dataframe tbody tr th {\n",
       "        vertical-align: top;\n",
       "    }\n",
       "\n",
       "    .dataframe thead th {\n",
       "        text-align: right;\n",
       "    }\n",
       "</style>\n",
       "<table border=\"1\" class=\"dataframe\">\n",
       "  <thead>\n",
       "    <tr style=\"text-align: right;\">\n",
       "      <th></th>\n",
       "      <th>year</th>\n",
       "      <th>month</th>\n",
       "      <th>decimal_date</th>\n",
       "      <th>average</th>\n",
       "      <th>interpolated</th>\n",
       "      <th>Date</th>\n",
       "    </tr>\n",
       "  </thead>\n",
       "  <tbody>\n",
       "    <tr>\n",
       "      <th>0</th>\n",
       "      <td>1958</td>\n",
       "      <td>3</td>\n",
       "      <td>1958.208</td>\n",
       "      <td>315.71</td>\n",
       "      <td>315.71</td>\n",
       "      <td>1958-3</td>\n",
       "    </tr>\n",
       "    <tr>\n",
       "      <th>1</th>\n",
       "      <td>1958</td>\n",
       "      <td>4</td>\n",
       "      <td>1958.292</td>\n",
       "      <td>317.45</td>\n",
       "      <td>317.45</td>\n",
       "      <td>1958-4</td>\n",
       "    </tr>\n",
       "    <tr>\n",
       "      <th>2</th>\n",
       "      <td>1958</td>\n",
       "      <td>5</td>\n",
       "      <td>1958.375</td>\n",
       "      <td>317.50</td>\n",
       "      <td>317.50</td>\n",
       "      <td>1958-5</td>\n",
       "    </tr>\n",
       "    <tr>\n",
       "      <th>3</th>\n",
       "      <td>1958</td>\n",
       "      <td>6</td>\n",
       "      <td>1958.458</td>\n",
       "      <td>-99.99</td>\n",
       "      <td>317.10</td>\n",
       "      <td>1958-6</td>\n",
       "    </tr>\n",
       "    <tr>\n",
       "      <th>4</th>\n",
       "      <td>1958</td>\n",
       "      <td>7</td>\n",
       "      <td>1958.542</td>\n",
       "      <td>315.86</td>\n",
       "      <td>315.86</td>\n",
       "      <td>1958-7</td>\n",
       "    </tr>\n",
       "  </tbody>\n",
       "</table>\n",
       "</div>"
      ],
      "text/plain": [
       "   year  month  decimal_date  average  interpolated    Date\n",
       "0  1958      3      1958.208   315.71        315.71  1958-3\n",
       "1  1958      4      1958.292   317.45        317.45  1958-4\n",
       "2  1958      5      1958.375   317.50        317.50  1958-5\n",
       "3  1958      6      1958.458   -99.99        317.10  1958-6\n",
       "4  1958      7      1958.542   315.86        315.86  1958-7"
      ]
     },
     "execution_count": 300,
     "metadata": {},
     "output_type": "execute_result"
    }
   ],
   "source": [
    "dataset.head()"
   ]
  },
  {
   "cell_type": "code",
   "execution_count": 302,
   "metadata": {},
   "outputs": [],
   "source": [
    "dataset = dataset.drop(columns=['year', 'month','decimal_date', 'average'])"
   ]
  },
  {
   "cell_type": "code",
   "execution_count": 303,
   "metadata": {},
   "outputs": [],
   "source": [
    "dataset.set_index(\"Date\",inplace=True)"
   ]
  },
  {
   "cell_type": "code",
   "execution_count": 304,
   "metadata": {
    "tags": []
   },
   "outputs": [
    {
     "data": {
      "text/html": [
       "<div>\n",
       "<style scoped>\n",
       "    .dataframe tbody tr th:only-of-type {\n",
       "        vertical-align: middle;\n",
       "    }\n",
       "\n",
       "    .dataframe tbody tr th {\n",
       "        vertical-align: top;\n",
       "    }\n",
       "\n",
       "    .dataframe thead th {\n",
       "        text-align: right;\n",
       "    }\n",
       "</style>\n",
       "<table border=\"1\" class=\"dataframe\">\n",
       "  <thead>\n",
       "    <tr style=\"text-align: right;\">\n",
       "      <th></th>\n",
       "      <th>interpolated</th>\n",
       "    </tr>\n",
       "    <tr>\n",
       "      <th>Date</th>\n",
       "      <th></th>\n",
       "    </tr>\n",
       "  </thead>\n",
       "  <tbody>\n",
       "    <tr>\n",
       "      <th>1958-3</th>\n",
       "      <td>315.71</td>\n",
       "    </tr>\n",
       "    <tr>\n",
       "      <th>1958-4</th>\n",
       "      <td>317.45</td>\n",
       "    </tr>\n",
       "    <tr>\n",
       "      <th>1958-5</th>\n",
       "      <td>317.50</td>\n",
       "    </tr>\n",
       "    <tr>\n",
       "      <th>1958-6</th>\n",
       "      <td>317.10</td>\n",
       "    </tr>\n",
       "    <tr>\n",
       "      <th>1958-7</th>\n",
       "      <td>315.86</td>\n",
       "    </tr>\n",
       "  </tbody>\n",
       "</table>\n",
       "</div>"
      ],
      "text/plain": [
       "        interpolated\n",
       "Date                \n",
       "1958-3        315.71\n",
       "1958-4        317.45\n",
       "1958-5        317.50\n",
       "1958-6        317.10\n",
       "1958-7        315.86"
      ]
     },
     "execution_count": 304,
     "metadata": {},
     "output_type": "execute_result"
    }
   ],
   "source": [
    "dataset.head()"
   ]
  },
  {
   "cell_type": "code",
   "execution_count": 305,
   "metadata": {
    "tags": []
   },
   "outputs": [
    {
     "data": {
      "text/html": [
       "<div>\n",
       "<style scoped>\n",
       "    .dataframe tbody tr th:only-of-type {\n",
       "        vertical-align: middle;\n",
       "    }\n",
       "\n",
       "    .dataframe tbody tr th {\n",
       "        vertical-align: top;\n",
       "    }\n",
       "\n",
       "    .dataframe thead th {\n",
       "        text-align: right;\n",
       "    }\n",
       "</style>\n",
       "<table border=\"1\" class=\"dataframe\">\n",
       "  <thead>\n",
       "    <tr style=\"text-align: right;\">\n",
       "      <th></th>\n",
       "      <th>interpolated</th>\n",
       "    </tr>\n",
       "  </thead>\n",
       "  <tbody>\n",
       "    <tr>\n",
       "      <th>count</th>\n",
       "      <td>706.000000</td>\n",
       "    </tr>\n",
       "    <tr>\n",
       "      <th>mean</th>\n",
       "      <td>352.037592</td>\n",
       "    </tr>\n",
       "    <tr>\n",
       "      <th>std</th>\n",
       "      <td>26.198294</td>\n",
       "    </tr>\n",
       "    <tr>\n",
       "      <th>min</th>\n",
       "      <td>312.660000</td>\n",
       "    </tr>\n",
       "    <tr>\n",
       "      <th>25%</th>\n",
       "      <td>328.137500</td>\n",
       "    </tr>\n",
       "    <tr>\n",
       "      <th>50%</th>\n",
       "      <td>349.750000</td>\n",
       "    </tr>\n",
       "    <tr>\n",
       "      <th>75%</th>\n",
       "      <td>373.162500</td>\n",
       "    </tr>\n",
       "    <tr>\n",
       "      <th>max</th>\n",
       "      <td>407.700000</td>\n",
       "    </tr>\n",
       "  </tbody>\n",
       "</table>\n",
       "</div>"
      ],
      "text/plain": [
       "       interpolated\n",
       "count    706.000000\n",
       "mean     352.037592\n",
       "std       26.198294\n",
       "min      312.660000\n",
       "25%      328.137500\n",
       "50%      349.750000\n",
       "75%      373.162500\n",
       "max      407.700000"
      ]
     },
     "execution_count": 305,
     "metadata": {},
     "output_type": "execute_result"
    }
   ],
   "source": [
    "dataset.describe()"
   ]
  },
  {
   "cell_type": "code",
   "execution_count": 306,
   "metadata": {
    "tags": []
   },
   "outputs": [
    {
     "data": {
      "text/plain": [
       "interpolated    0\n",
       "dtype: int64"
      ]
     },
     "execution_count": 306,
     "metadata": {},
     "output_type": "execute_result"
    }
   ],
   "source": [
    "dataset.isna().sum()"
   ]
  },
  {
   "cell_type": "code",
   "execution_count": 307,
   "metadata": {
    "tags": []
   },
   "outputs": [
    {
     "name": "stdout",
     "output_type": "stream",
     "text": [
      "<class 'pandas.core.frame.DataFrame'>\n",
      "Index: 706 entries, 1958-3 to 2016-12\n",
      "Data columns (total 1 columns):\n",
      " #   Column        Non-Null Count  Dtype  \n",
      "---  ------        --------------  -----  \n",
      " 0   interpolated  706 non-null    float64\n",
      "dtypes: float64(1)\n",
      "memory usage: 11.0+ KB\n"
     ]
    }
   ],
   "source": [
    "dataset.info()"
   ]
  },
  {
   "cell_type": "code",
   "execution_count": 308,
   "metadata": {},
   "outputs": [
    {
     "data": {
      "image/png": "[encoded data removed]",
      "text/plain": [
       "<Figure size 640x480 with 1 Axes>"
      ]
     },
     "metadata": {},
     "output_type": "display_data"
    }
   ],
   "source": [
    "plt.plot(dataset)\n",
    "plt.show()"
   ]
  },
  {
   "cell_type": "code",
   "execution_count": 311,
   "metadata": {
    "id": "RW0n2EwJDClj",
    "tags": []
   },
   "outputs": [],
   "source": [
    "# normalize the dataset\n",
    "scaler = MinMaxScaler(feature_range=(0, 1))\n",
    "dataset = scaler.fit_transform(dataset)"
   ]
  },
  {
   "cell_type": "code",
   "execution_count": 312,
   "metadata": {},
   "outputs": [
    {
     "name": "stdout",
     "output_type": "stream",
     "text": [
      "473 233\n"
     ]
    }
   ],
   "source": [
    "# split into train and test sets\n",
    "train_size = int(len(dataset) * 0.67)\n",
    "test_size = len(dataset) - train_size\n",
    "train, test = dataset[0:train_size,:], dataset[train_size:len(dataset),:]\n",
    "print(len(train), len(test))"
   ]
  },
  {
   "cell_type": "code",
   "execution_count": 313,
   "metadata": {},
   "outputs": [],
   "source": [
    "# convert an array of values into a dataset matrix\n",
    "def create_dataset(dataset, look_back=1):\n",
    "  dataX, dataY = [], []\n",
    "  for i in range(len(dataset)-look_back-1):\n",
    "    a = dataset[i:(i+look_back), 0]\n",
    "    dataX.append(a)\n",
    "    dataY.append(dataset[i + look_back, 0])\n",
    "  \n",
    "  return np.array(dataX), np.array(dataY)"
   ]
  },
  {
   "cell_type": "code",
   "execution_count": 314,
   "metadata": {},
   "outputs": [],
   "source": [
    "# reshape into X=t and Y=t+1\n",
    "look_back = 1\n",
    "trainX, trainY = create_dataset(train, look_back)\n",
    "testX, testY = create_dataset(test, look_back)"
   ]
  },
  {
   "cell_type": "code",
   "execution_count": 315,
   "metadata": {},
   "outputs": [],
   "source": [
    "# reshape input to be [samples, time steps, features]\n",
    "trainX = np.reshape(trainX, (trainX.shape[0], 1, trainX.shape[1]))\n",
    "testX = np.reshape(testX, (testX.shape[0], 1, testX.shape[1]))"
   ]
  },
  {
   "cell_type": "markdown",
   "metadata": {},
   "source": [
    "LSTM"
   ]
  },
  {
   "cell_type": "code",
   "execution_count": 316,
   "metadata": {},
   "outputs": [
    {
     "name": "stdout",
     "output_type": "stream",
     "text": [
      "Epoch 1/100\n"
     ]
    },
    {
     "name": "stderr",
     "output_type": "stream",
     "text": [
      "2023-08-06 02:35:49.179718: I tensorflow/core/common_runtime/executor.cc:1197] [/device:CPU:0] (DEBUG INFO) Executor start aborting (this does not indicate an error and you can ignore this message): INVALID_ARGUMENT: You must feed a value for placeholder tensor 'gradients/split_2_grad/concat/split_2/split_dim' with dtype int32\n",
      "\t [[{{node gradients/split_2_grad/concat/split_2/split_dim}}]]\n",
      "2023-08-06 02:35:49.180988: I tensorflow/core/common_runtime/executor.cc:1197] [/device:CPU:0] (DEBUG INFO) Executor start aborting (this does not indicate an error and you can ignore this message): INVALID_ARGUMENT: You must feed a value for placeholder tensor 'gradients/split_grad/concat/split/split_dim' with dtype int32\n",
      "\t [[{{node gradients/split_grad/concat/split/split_dim}}]]\n",
      "2023-08-06 02:35:49.182633: I tensorflow/core/common_runtime/executor.cc:1197] [/device:CPU:0] (DEBUG INFO) Executor start aborting (this does not indicate an error and you can ignore this message): INVALID_ARGUMENT: You must feed a value for placeholder tensor 'gradients/split_1_grad/concat/split_1/split_dim' with dtype int32\n",
      "\t [[{{node gradients/split_1_grad/concat/split_1/split_dim}}]]\n",
      "2023-08-06 02:35:49.424824: I tensorflow/core/common_runtime/executor.cc:1197] [/device:CPU:0] (DEBUG INFO) Executor start aborting (this does not indicate an error and you can ignore this message): INVALID_ARGUMENT: You must feed a value for placeholder tensor 'gradients/split_2_grad/concat/split_2/split_dim' with dtype int32\n",
      "\t [[{{node gradients/split_2_grad/concat/split_2/split_dim}}]]\n",
      "2023-08-06 02:35:49.426607: I tensorflow/core/common_runtime/executor.cc:1197] [/device:CPU:0] (DEBUG INFO) Executor start aborting (this does not indicate an error and you can ignore this message): INVALID_ARGUMENT: You must feed a value for placeholder tensor 'gradients/split_grad/concat/split/split_dim' with dtype int32\n",
      "\t [[{{node gradients/split_grad/concat/split/split_dim}}]]\n",
      "2023-08-06 02:35:49.427825: I tensorflow/core/common_runtime/executor.cc:1197] [/device:CPU:0] (DEBUG INFO) Executor start aborting (this does not indicate an error and you can ignore this message): INVALID_ARGUMENT: You must feed a value for placeholder tensor 'gradients/split_1_grad/concat/split_1/split_dim' with dtype int32\n",
      "\t [[{{node gradients/split_1_grad/concat/split_1/split_dim}}]]\n",
      "2023-08-06 02:35:49.874329: I tensorflow/core/common_runtime/executor.cc:1197] [/device:CPU:0] (DEBUG INFO) Executor start aborting (this does not indicate an error and you can ignore this message): INVALID_ARGUMENT: You must feed a value for placeholder tensor 'gradients/split_2_grad/concat/split_2/split_dim' with dtype int32\n",
      "\t [[{{node gradients/split_2_grad/concat/split_2/split_dim}}]]\n",
      "2023-08-06 02:35:49.876052: I tensorflow/core/common_runtime/executor.cc:1197] [/device:CPU:0] (DEBUG INFO) Executor start aborting (this does not indicate an error and you can ignore this message): INVALID_ARGUMENT: You must feed a value for placeholder tensor 'gradients/split_grad/concat/split/split_dim' with dtype int32\n",
      "\t [[{{node gradients/split_grad/concat/split/split_dim}}]]\n",
      "2023-08-06 02:35:49.877518: I tensorflow/core/common_runtime/executor.cc:1197] [/device:CPU:0] (DEBUG INFO) Executor start aborting (this does not indicate an error and you can ignore this message): INVALID_ARGUMENT: You must feed a value for placeholder tensor 'gradients/split_1_grad/concat/split_1/split_dim' with dtype int32\n",
      "\t [[{{node gradients/split_1_grad/concat/split_1/split_dim}}]]\n"
     ]
    },
    {
     "name": "stdout",
     "output_type": "stream",
     "text": [
      "471/471 - 2s - loss: 0.0212 - 2s/epoch - 4ms/step\n",
      "Epoch 2/100\n",
      "471/471 - 1s - loss: 0.0067 - 699ms/epoch - 1ms/step\n",
      "Epoch 3/100\n",
      "471/471 - 1s - loss: 9.9460e-04 - 719ms/epoch - 2ms/step\n",
      "Epoch 4/100\n",
      "471/471 - 1s - loss: 1.8374e-04 - 708ms/epoch - 2ms/step\n",
      "Epoch 5/100\n",
      "471/471 - 1s - loss: 1.7699e-04 - 670ms/epoch - 1ms/step\n",
      "Epoch 6/100\n",
      "471/471 - 1s - loss: 1.7401e-04 - 704ms/epoch - 1ms/step\n",
      "Epoch 7/100\n",
      "471/471 - 1s - loss: 1.8247e-04 - 722ms/epoch - 2ms/step\n",
      "Epoch 8/100\n",
      "471/471 - 1s - loss: 1.7981e-04 - 705ms/epoch - 1ms/step\n",
      "Epoch 9/100\n",
      "471/471 - 1s - loss: 1.8131e-04 - 706ms/epoch - 1ms/step\n",
      "Epoch 10/100\n",
      "471/471 - 1s - loss: 1.8506e-04 - 652ms/epoch - 1ms/step\n",
      "Epoch 11/100\n",
      "471/471 - 1s - loss: 1.8341e-04 - 702ms/epoch - 1ms/step\n",
      "Epoch 12/100\n",
      "471/471 - 1s - loss: 1.8650e-04 - 673ms/epoch - 1ms/step\n",
      "Epoch 13/100\n",
      "471/471 - 1s - loss: 1.7724e-04 - 732ms/epoch - 2ms/step\n",
      "Epoch 14/100\n",
      "471/471 - 1s - loss: 1.7439e-04 - 683ms/epoch - 1ms/step\n",
      "Epoch 15/100\n",
      "471/471 - 1s - loss: 1.7843e-04 - 670ms/epoch - 1ms/step\n",
      "Epoch 16/100\n",
      "471/471 - 1s - loss: 1.7776e-04 - 717ms/epoch - 2ms/step\n",
      "Epoch 17/100\n",
      "471/471 - 1s - loss: 1.7373e-04 - 740ms/epoch - 2ms/step\n",
      "Epoch 18/100\n",
      "471/471 - 1s - loss: 1.7823e-04 - 669ms/epoch - 1ms/step\n",
      "Epoch 19/100\n",
      "471/471 - 1s - loss: 1.7776e-04 - 704ms/epoch - 1ms/step\n",
      "Epoch 20/100\n",
      "471/471 - 1s - loss: 1.8323e-04 - 667ms/epoch - 1ms/step\n",
      "Epoch 21/100\n",
      "471/471 - 1s - loss: 1.7471e-04 - 699ms/epoch - 1ms/step\n",
      "Epoch 22/100\n",
      "471/471 - 1s - loss: 1.6525e-04 - 700ms/epoch - 1ms/step\n",
      "Epoch 23/100\n",
      "471/471 - 1s - loss: 1.8227e-04 - 668ms/epoch - 1ms/step\n",
      "Epoch 24/100\n",
      "471/471 - 1s - loss: 1.7533e-04 - 687ms/epoch - 1ms/step\n",
      "Epoch 25/100\n",
      "471/471 - 1s - loss: 1.7224e-04 - 741ms/epoch - 2ms/step\n",
      "Epoch 26/100\n",
      "471/471 - 1s - loss: 1.7486e-04 - 713ms/epoch - 2ms/step\n",
      "Epoch 27/100\n",
      "471/471 - 1s - loss: 1.7926e-04 - 720ms/epoch - 2ms/step\n",
      "Epoch 28/100\n",
      "471/471 - 1s - loss: 1.7714e-04 - 714ms/epoch - 2ms/step\n",
      "Epoch 29/100\n",
      "471/471 - 1s - loss: 1.7079e-04 - 705ms/epoch - 1ms/step\n",
      "Epoch 30/100\n",
      "471/471 - 1s - loss: 1.8365e-04 - 660ms/epoch - 1ms/step\n",
      "Epoch 31/100\n",
      "471/471 - 1s - loss: 1.7384e-04 - 712ms/epoch - 2ms/step\n",
      "Epoch 32/100\n",
      "471/471 - 1s - loss: 1.7137e-04 - 705ms/epoch - 1ms/step\n",
      "Epoch 33/100\n",
      "471/471 - 1s - loss: 1.7459e-04 - 785ms/epoch - 2ms/step\n",
      "Epoch 34/100\n",
      "471/471 - 1s - loss: 1.7751e-04 - 735ms/epoch - 2ms/step\n",
      "Epoch 35/100\n",
      "471/471 - 1s - loss: 1.7287e-04 - 662ms/epoch - 1ms/step\n",
      "Epoch 36/100\n",
      "471/471 - 1s - loss: 1.8175e-04 - 681ms/epoch - 1ms/step\n",
      "Epoch 37/100\n",
      "471/471 - 1s - loss: 1.7178e-04 - 687ms/epoch - 1ms/step\n",
      "Epoch 38/100\n",
      "471/471 - 1s - loss: 1.7430e-04 - 669ms/epoch - 1ms/step\n",
      "Epoch 39/100\n",
      "471/471 - 1s - loss: 1.7091e-04 - 665ms/epoch - 1ms/step\n",
      "Epoch 40/100\n",
      "471/471 - 1s - loss: 1.7861e-04 - 647ms/epoch - 1ms/step\n",
      "Epoch 41/100\n",
      "471/471 - 1s - loss: 1.7870e-04 - 673ms/epoch - 1ms/step\n",
      "Epoch 42/100\n",
      "471/471 - 1s - loss: 1.8292e-04 - 693ms/epoch - 1ms/step\n",
      "Epoch 43/100\n",
      "471/471 - 1s - loss: 1.6533e-04 - 651ms/epoch - 1ms/step\n",
      "Epoch 44/100\n",
      "471/471 - 1s - loss: 1.7615e-04 - 672ms/epoch - 1ms/step\n",
      "Epoch 45/100\n",
      "471/471 - 1s - loss: 1.7721e-04 - 662ms/epoch - 1ms/step\n",
      "Epoch 46/100\n",
      "471/471 - 1s - loss: 1.7513e-04 - 666ms/epoch - 1ms/step\n",
      "Epoch 47/100\n",
      "471/471 - 1s - loss: 1.7597e-04 - 672ms/epoch - 1ms/step\n",
      "Epoch 48/100\n",
      "471/471 - 1s - loss: 1.7347e-04 - 656ms/epoch - 1ms/step\n",
      "Epoch 49/100\n",
      "471/471 - 1s - loss: 1.7704e-04 - 687ms/epoch - 1ms/step\n",
      "Epoch 50/100\n",
      "471/471 - 1s - loss: 1.7900e-04 - 703ms/epoch - 1ms/step\n",
      "Epoch 51/100\n",
      "471/471 - 1s - loss: 1.7883e-04 - 674ms/epoch - 1ms/step\n",
      "Epoch 52/100\n",
      "471/471 - 1s - loss: 1.7493e-04 - 661ms/epoch - 1ms/step\n",
      "Epoch 53/100\n",
      "471/471 - 1s - loss: 1.7972e-04 - 690ms/epoch - 1ms/step\n",
      "Epoch 54/100\n",
      "471/471 - 1s - loss: 1.7492e-04 - 664ms/epoch - 1ms/step\n",
      "Epoch 55/100\n",
      "471/471 - 1s - loss: 1.6934e-04 - 680ms/epoch - 1ms/step\n",
      "Epoch 56/100\n",
      "471/471 - 1s - loss: 1.7436e-04 - 721ms/epoch - 2ms/step\n",
      "Epoch 57/100\n",
      "471/471 - 1s - loss: 1.7371e-04 - 655ms/epoch - 1ms/step\n",
      "Epoch 58/100\n",
      "471/471 - 1s - loss: 1.8021e-04 - 649ms/epoch - 1ms/step\n",
      "Epoch 59/100\n",
      "471/471 - 1s - loss: 1.7152e-04 - 672ms/epoch - 1ms/step\n",
      "Epoch 60/100\n",
      "471/471 - 1s - loss: 1.7685e-04 - 673ms/epoch - 1ms/step\n",
      "Epoch 61/100\n",
      "471/471 - 1s - loss: 1.7309e-04 - 633ms/epoch - 1ms/step\n",
      "Epoch 62/100\n",
      "471/471 - 1s - loss: 1.6940e-04 - 686ms/epoch - 1ms/step\n",
      "Epoch 63/100\n",
      "471/471 - 1s - loss: 1.7412e-04 - 675ms/epoch - 1ms/step\n",
      "Epoch 64/100\n",
      "471/471 - 1s - loss: 1.7904e-04 - 640ms/epoch - 1ms/step\n",
      "Epoch 65/100\n",
      "471/471 - 1s - loss: 1.8440e-04 - 631ms/epoch - 1ms/step\n",
      "Epoch 66/100\n",
      "471/471 - 1s - loss: 1.7887e-04 - 704ms/epoch - 1ms/step\n",
      "Epoch 67/100\n",
      "471/471 - 1s - loss: 1.6902e-04 - 645ms/epoch - 1ms/step\n",
      "Epoch 68/100\n",
      "471/471 - 1s - loss: 1.7893e-04 - 679ms/epoch - 1ms/step\n",
      "Epoch 69/100\n",
      "471/471 - 1s - loss: 1.7701e-04 - 729ms/epoch - 2ms/step\n",
      "Epoch 70/100\n",
      "471/471 - 1s - loss: 1.7221e-04 - 669ms/epoch - 1ms/step\n",
      "Epoch 71/100\n",
      "471/471 - 1s - loss: 1.7737e-04 - 658ms/epoch - 1ms/step\n",
      "Epoch 72/100\n",
      "471/471 - 1s - loss: 1.7023e-04 - 715ms/epoch - 2ms/step\n",
      "Epoch 73/100\n",
      "471/471 - 1s - loss: 1.8836e-04 - 649ms/epoch - 1ms/step\n",
      "Epoch 74/100\n",
      "471/471 - 1s - loss: 1.7520e-04 - 700ms/epoch - 1ms/step\n",
      "Epoch 75/100\n",
      "471/471 - 1s - loss: 1.7570e-04 - 686ms/epoch - 1ms/step\n",
      "Epoch 76/100\n",
      "471/471 - 1s - loss: 1.7150e-04 - 656ms/epoch - 1ms/step\n",
      "Epoch 77/100\n",
      "471/471 - 1s - loss: 1.7143e-04 - 684ms/epoch - 1ms/step\n",
      "Epoch 78/100\n",
      "471/471 - 1s - loss: 1.8416e-04 - 689ms/epoch - 1ms/step\n",
      "Epoch 79/100\n",
      "471/471 - 1s - loss: 1.7183e-04 - 688ms/epoch - 1ms/step\n",
      "Epoch 80/100\n",
      "471/471 - 1s - loss: 1.7937e-04 - 642ms/epoch - 1ms/step\n",
      "Epoch 81/100\n",
      "471/471 - 1s - loss: 1.7150e-04 - 668ms/epoch - 1ms/step\n",
      "Epoch 82/100\n",
      "471/471 - 1s - loss: 1.7686e-04 - 651ms/epoch - 1ms/step\n",
      "Epoch 83/100\n",
      "471/471 - 1s - loss: 1.7763e-04 - 700ms/epoch - 1ms/step\n",
      "Epoch 84/100\n",
      "471/471 - 1s - loss: 1.7582e-04 - 692ms/epoch - 1ms/step\n",
      "Epoch 85/100\n",
      "471/471 - 1s - loss: 1.7882e-04 - 650ms/epoch - 1ms/step\n",
      "Epoch 86/100\n",
      "471/471 - 1s - loss: 1.7561e-04 - 690ms/epoch - 1ms/step\n",
      "Epoch 87/100\n",
      "471/471 - 1s - loss: 1.7399e-04 - 638ms/epoch - 1ms/step\n",
      "Epoch 88/100\n",
      "471/471 - 1s - loss: 1.7860e-04 - 653ms/epoch - 1ms/step\n",
      "Epoch 89/100\n",
      "471/471 - 1s - loss: 1.8224e-04 - 642ms/epoch - 1ms/step\n",
      "Epoch 90/100\n",
      "471/471 - 1s - loss: 1.7852e-04 - 676ms/epoch - 1ms/step\n",
      "Epoch 91/100\n",
      "471/471 - 1s - loss: 1.8970e-04 - 644ms/epoch - 1ms/step\n",
      "Epoch 92/100\n",
      "471/471 - 1s - loss: 1.6632e-04 - 696ms/epoch - 1ms/step\n",
      "Epoch 93/100\n",
      "471/471 - 1s - loss: 1.7829e-04 - 662ms/epoch - 1ms/step\n",
      "Epoch 94/100\n",
      "471/471 - 1s - loss: 1.7146e-04 - 659ms/epoch - 1ms/step\n",
      "Epoch 95/100\n",
      "471/471 - 1s - loss: 1.6675e-04 - 652ms/epoch - 1ms/step\n",
      "Epoch 96/100\n",
      "471/471 - 1s - loss: 1.7187e-04 - 654ms/epoch - 1ms/step\n",
      "Epoch 97/100\n",
      "471/471 - 1s - loss: 1.6731e-04 - 669ms/epoch - 1ms/step\n",
      "Epoch 98/100\n",
      "471/471 - 1s - loss: 1.7814e-04 - 667ms/epoch - 1ms/step\n",
      "Epoch 99/100\n",
      "471/471 - 1s - loss: 1.7758e-04 - 637ms/epoch - 1ms/step\n",
      "Epoch 100/100\n",
      "471/471 - 1s - loss: 1.7740e-04 - 670ms/epoch - 1ms/step\n"
     ]
    },
    {
     "data": {
      "text/plain": [
       "<keras.callbacks.History at 0x7f09002a9a90>"
      ]
     },
     "execution_count": 316,
     "metadata": {},
     "output_type": "execute_result"
    }
   ],
   "source": [
    "model = Sequential()\n",
    "model.add(LSTM(4, input_shape=(1, look_back)))\n",
    "model.add(Dense(1))\n",
    "model.compile(loss='mean_squared_error', optimizer='adam')\n",
    "model.fit(trainX, trainY, epochs=100, batch_size=1, verbose=2)"
   ]
  },
  {
   "cell_type": "code",
   "execution_count": 317,
   "metadata": {},
   "outputs": [
    {
     "name": "stdout",
     "output_type": "stream",
     "text": [
      "15/15 [==============================] - 0s 2ms/step\n"
     ]
    },
    {
     "name": "stderr",
     "output_type": "stream",
     "text": [
      "2023-08-06 02:37:04.794655: I tensorflow/core/common_runtime/executor.cc:1197] [/device:CPU:0] (DEBUG INFO) Executor start aborting (this does not indicate an error and you can ignore this message): INVALID_ARGUMENT: You must feed a value for placeholder tensor 'gradients/split_2_grad/concat/split_2/split_dim' with dtype int32\n",
      "\t [[{{node gradients/split_2_grad/concat/split_2/split_dim}}]]\n",
      "2023-08-06 02:37:04.795861: I tensorflow/core/common_runtime/executor.cc:1197] [/device:CPU:0] (DEBUG INFO) Executor start aborting (this does not indicate an error and you can ignore this message): INVALID_ARGUMENT: You must feed a value for placeholder tensor 'gradients/split_grad/concat/split/split_dim' with dtype int32\n",
      "\t [[{{node gradients/split_grad/concat/split/split_dim}}]]\n",
      "2023-08-06 02:37:04.797548: I tensorflow/core/common_runtime/executor.cc:1197] [/device:CPU:0] (DEBUG INFO) Executor start aborting (this does not indicate an error and you can ignore this message): INVALID_ARGUMENT: You must feed a value for placeholder tensor 'gradients/split_1_grad/concat/split_1/split_dim' with dtype int32\n",
      "\t [[{{node gradients/split_1_grad/concat/split_1/split_dim}}]]\n"
     ]
    },
    {
     "name": "stdout",
     "output_type": "stream",
     "text": [
      "8/8 [==============================] - 0s 2ms/step\n",
      "Train Score: 0.01 RMSE\n",
      "Test Score: 0.04 RMSE\n"
     ]
    }
   ],
   "source": [
    "# make predictions\n",
    "trainPredict = model.predict(trainX)\n",
    "testPredict = model.predict(testX)\n",
    "# invert predictions\n",
    "trainPredict = scaler.inverse_transform(trainPredict)\n",
    "trainY = scaler.inverse_transform([trainY])\n",
    "testPredict = scaler.inverse_transform(testPredict)\n",
    "testY = scaler.inverse_transform([testY])\n",
    "# calculate root mean squared error\n",
    "trainScore = np.sqrt(mean_squared_error(trainY[0], trainPredict[:,0]))\n",
    "print('Train Score: %.2f RMSE' % (trainScore))\n",
    "testScore = np.sqrt(mean_squared_error(testY[0], testPredict[:,0]))\n",
    "print('Test Score: %.2f RMSE' % (testScore))"
   ]
  },
  {
   "cell_type": "code",
   "execution_count": 318,
   "metadata": {},
   "outputs": [
    {
     "data": {
      "image/png": "[encoded data removed]",
      "text/plain": [
       "<Figure size 640x480 with 1 Axes>"
      ]
     },
     "metadata": {},
     "output_type": "display_data"
    }
   ],
   "source": [
    "# shift train predictions for plotting\n",
    "trainPredictPlot = np.empty_like(dataset)\n",
    "trainPredictPlot[:, :] = np.nan\n",
    "trainPredictPlot[look_back:len(trainPredict)+look_back, :] = trainPredict\n",
    "# shift test predictions for plotting\n",
    "testPredictPlot = np.empty_like(dataset)\n",
    "testPredictPlot[:, :] = np.nan\n",
    "testPredictPlot[len(trainPredict)+(look_back*2)+1:len(dataset)-1, :] = testPredict\n",
    "# plot baseline and predictions\n",
    "plt.plot(scaler.inverse_transform(dataset))\n",
    "plt.plot(trainPredictPlot)\n",
    "plt.plot(testPredictPlot)\n",
    "plt.show()"
   ]
  }
 ],
 "metadata": {
  "colab": {
   "provenance": []
  },
  "kernelspec": {
   "display_name": "Python 3 (ipykernel)",
   "language": "python",
   "name": "python3"
  },
  "language_info": {
   "codemirror_mode": {
    "name": "ipython",
    "version": 3
   },
   "file_extension": ".py",
   "mimetype": "text/x-python",
   "name": "python",
   "nbconvert_exporter": "python",
   "pygments_lexer": "ipython3",
   "version": "3.8.10"
  }
 },
 "nbformat": 4,
 "nbformat_minor": 4
}
