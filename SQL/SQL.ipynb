{
  "nbformat": 4,
  "nbformat_minor": 0,
  "metadata": {
    "colab": {
      "provenance": []
    },
    "kernelspec": {
      "name": "python3",
      "display_name": "Python 3"
    }
  },
  "cells": [
    {
      "cell_type": "markdown",
      "metadata": {
        "id": "pAynvpmlvdZt"
      },
      "source": [
        "### Введение в SQL\n",
        "\n"
      ]
    },
    {
      "cell_type": "code",
      "metadata": {
        "id": "_xkGEn95uh6W",
        "colab": {
          "base_uri": "https://localhost:8080/"
        },
        "outputId": "d2826b32-f2ef-43dd-d7ae-ac510a7804cd"
      },
      "source": [
        "import sqlite3\n",
        "\n",
        "conn = sqlite3.connect('test.db')\n",
        "print(\"Opened database successfully\");\n",
        "\n",
        "conn.execute('''\n",
        "CREATE TABLE IF NOT EXISTS team_data(\n",
        "                      team text, \n",
        "                      country text, \n",
        "                      season integer, \n",
        "                      total_goals integer);''')\n",
        "\n",
        "conn.commit()\n",
        "\n",
        "print(\"Table created successfully\");\n",
        "\n",
        "#conn.close()"
      ],
      "execution_count": 24,
      "outputs": [
        {
          "output_type": "stream",
          "name": "stdout",
          "text": [
            "Opened database successfully\n",
            "Table created successfully\n"
          ]
        }
      ]
    },
    {
      "cell_type": "code",
      "metadata": {
        "id": "IACJu0hLUKTI"
      },
      "source": [
        "conn = sqlite3.connect('test.db')\n",
        "\n",
        "conn.execute('''\n",
        "CREATE TABLE IF NOT EXISTS team_players(\n",
        "                      team text, \n",
        "                      country text, \n",
        "                      player text, \n",
        "                      goals integer);''')\n",
        "\n",
        "conn.commit()\n"
      ],
      "execution_count": 25,
      "outputs": []
    },
    {
      "cell_type": "code",
      "metadata": {
        "id": "r9SeHPpgu73Z"
      },
      "source": [
        "# Добавляем значения\n",
        "\n",
        "conn.execute(\"INSERT INTO team_data VALUES('Real Madrid', 'Spain', 2019, 53);\")\n",
        "conn.execute(\"INSERT INTO team_data VALUES('Barcelona', 'Spain', 2019, 47);\")\n",
        "conn.execute(\"INSERT INTO team_data VALUES('Arsenal', 'UK', 2019, 52);\")\n",
        "conn.execute(\"INSERT INTO team_data VALUES('Real Madrid', 'Spain', 2018, 49);\")\n",
        "conn.execute(\"INSERT INTO team_data VALUES('Barcelona', 'Spain', 2018, 45);\")\n",
        "conn.execute(\"INSERT INTO team_data VALUES('Arsenal', 'UK', 2018, 50 );\")\n",
        "\n",
        "\n",
        "conn.execute(\"INSERT INTO team_players VALUES('Real Madrid', 'Spain', 'Huan', 10);\")\n",
        "conn.execute(\"INSERT INTO team_players VALUES('Barcelona', 'Spain', 'Honsales', 10);\")\n",
        "conn.execute(\"INSERT INTO team_players VALUES('Arsenal', 'UK', 'Bernd Leno', 5);\")\n",
        "conn.execute(\"INSERT INTO team_players VALUES('Real Madrid', 'Eder Militan', 2018, 4);\")\n",
        "conn.execute(\"INSERT INTO team_players VALUES('Barcelona', 'Spain', 'Nelsen Semedu', 4);\")\n",
        "conn.execute(\"INSERT INTO team_players VALUES('Arsenal', 'UK', 'Rob Holding', 5 );\")\n",
        "\n",
        "conn.commit()"
      ],
      "execution_count": 26,
      "outputs": []
    },
    {
      "cell_type": "code",
      "metadata": {
        "colab": {
          "base_uri": "https://localhost:8080/"
        },
        "id": "s7DI7bw4P3Sp",
        "outputId": "9300d16c-cc5b-498b-b4e5-7cab0404274d"
      },
      "source": [
        "#Представления\n",
        "\n",
        "cur = conn.execute(\"SELECT goals, team FROM team_players;\")\n",
        "\n",
        "cur.fetchall()"
      ],
      "execution_count": 27,
      "outputs": [
        {
          "output_type": "execute_result",
          "data": {
            "text/plain": [
              "[(10, 'Real Madrid'),\n",
              " (10, 'Barcelona'),\n",
              " (5, 'Arsenal'),\n",
              " (4, 'Real Madrid'),\n",
              " (4, 'Barcelona'),\n",
              " (5, 'Arsenal')]"
            ]
          },
          "metadata": {},
          "execution_count": 27
        }
      ]
    },
    {
      "cell_type": "code",
      "metadata": {
        "colab": {
          "base_uri": "https://localhost:8080/"
        },
        "id": "sW7x22FJQrzP",
        "outputId": "18b39f1d-0239-4870-a3b9-809b3553df41"
      },
      "source": [
        "#Выборки\n",
        "\n",
        "cur = conn.execute(\"SELECT total_goals, team FROM team_data WHERE country != 'UK' OR total_goals> 50 ;\")\n",
        "\n",
        "cur.fetchall()"
      ],
      "execution_count": 28,
      "outputs": [
        {
          "output_type": "execute_result",
          "data": {
            "text/plain": [
              "[(53, 'Real Madrid'),\n",
              " (47, 'Barcelona'),\n",
              " (52, 'Arsenal'),\n",
              " (49, 'Real Madrid'),\n",
              " (45, 'Barcelona')]"
            ]
          },
          "metadata": {},
          "execution_count": 28
        }
      ]
    },
    {
      "cell_type": "code",
      "metadata": {
        "id": "L9nIsr9Jwuds",
        "colab": {
          "base_uri": "https://localhost:8080/"
        },
        "outputId": "15bb0b94-663b-4379-8812-b1689fe1d459"
      },
      "source": [
        "# Вычисляем среднее\n",
        "\n",
        "conn = sqlite3.connect('test.db')\n",
        "\n",
        "cursor = conn.execute(''' SELECT team,country,\n",
        "                            AVG(total_goals) AS avg_goals\n",
        "                          FROM team_data\n",
        "                          GROUP BY team;''')\n",
        "\n",
        "for row in cursor:\n",
        "  print(row)\n",
        "conn.close()"
      ],
      "execution_count": 29,
      "outputs": [
        {
          "output_type": "stream",
          "name": "stdout",
          "text": [
            "('Arsenal', 'UK', 51.0)\n",
            "('Barcelona', 'Spain', 46.0)\n",
            "('Real Madrid', 'Spain', 51.0)\n"
          ]
        }
      ]
    },
    {
      "cell_type": "code",
      "metadata": {
        "id": "HfJEEubPye8h",
        "colab": {
          "base_uri": "https://localhost:8080/"
        },
        "outputId": "2c6183f1-d3a4-40eb-89d9-62ceb0bcb198"
      },
      "source": [
        "# Неправильный запрос\n",
        "\n",
        "conn = sqlite3.connect('test.db')\n",
        "\n",
        "cursor = conn.execute(''' SELECT team AS team_name ,\n",
        "                            AVG(total_goals) AS avg_goals\n",
        "                          FROM team_data                          \n",
        "                          GROUP BY team\n",
        "                          HAVING avg_goals > 50;''')\n",
        "\n",
        "for row in cursor:\n",
        "  print(row)\n",
        "conn.close()"
      ],
      "execution_count": 30,
      "outputs": [
        {
          "output_type": "stream",
          "name": "stdout",
          "text": [
            "('Arsenal', 51.0)\n",
            "('Real Madrid', 51.0)\n"
          ]
        }
      ]
    },
    {
      "cell_type": "code",
      "metadata": {
        "id": "NlJ3wc21zU3l",
        "colab": {
          "base_uri": "https://localhost:8080/"
        },
        "outputId": "a41bc0e5-b189-46d3-ef7e-78c4e1877db0"
      },
      "source": [
        "# Правильный запрос\n",
        "\n",
        "conn = sqlite3.connect('test.db')\n",
        "\n",
        "cursor = conn.execute(''' SELECT team_name, avg_goals\n",
        "                          FROM (\n",
        "\n",
        "                          -- Here we make our sub-query:\n",
        "                            SELECT team AS team_name,\n",
        "                            AVG(total_goals) AS avg_goals\n",
        "                            FROM team_data\n",
        "                            GROUP BY team) tp\n",
        "                          -- End of the sub-query\n",
        "                          \n",
        "                          WHERE avg_goals > 50;''')\n",
        "\n",
        "for row in cursor:\n",
        "  print(row)\n",
        "conn.close()"
      ],
      "execution_count": 31,
      "outputs": [
        {
          "output_type": "stream",
          "name": "stdout",
          "text": [
            "('Arsenal', 51.0)\n",
            "('Real Madrid', 51.0)\n"
          ]
        }
      ]
    },
    {
      "cell_type": "code",
      "metadata": {
        "id": "Vq_j9OqEhdhR",
        "colab": {
          "base_uri": "https://localhost:8080/"
        },
        "outputId": "b66bee20-6335-407b-8b76-5bb829fd8bc4"
      },
      "source": [
        "#Joins\n",
        "\n",
        "conn = sqlite3.connect('test.db')\n",
        "\n",
        "cursor = conn.execute(''' SELECT team_data.team,team_data.country,player,total_goals, goals\n",
        "                          \n",
        "                          FROM team_data\n",
        "                          INNER JOIN team_players on team_data.team = team_players.team;''')\n",
        "\n",
        "cursor.fetchall()"
      ],
      "execution_count": 32,
      "outputs": [
        {
          "output_type": "execute_result",
          "data": {
            "text/plain": [
              "[('Real Madrid', 'Spain', '2018', 53, 4),\n",
              " ('Real Madrid', 'Spain', 'Huan', 53, 10),\n",
              " ('Barcelona', 'Spain', 'Honsales', 47, 10),\n",
              " ('Barcelona', 'Spain', 'Nelsen Semedu', 47, 4),\n",
              " ('Arsenal', 'UK', 'Bernd Leno', 52, 5),\n",
              " ('Arsenal', 'UK', 'Rob Holding', 52, 5),\n",
              " ('Real Madrid', 'Spain', '2018', 49, 4),\n",
              " ('Real Madrid', 'Spain', 'Huan', 49, 10),\n",
              " ('Barcelona', 'Spain', 'Honsales', 45, 10),\n",
              " ('Barcelona', 'Spain', 'Nelsen Semedu', 45, 4),\n",
              " ('Arsenal', 'UK', 'Bernd Leno', 50, 5),\n",
              " ('Arsenal', 'UK', 'Rob Holding', 50, 5)]"
            ]
          },
          "metadata": {},
          "execution_count": 32
        }
      ]
    },
    {
      "cell_type": "code",
      "metadata": {
        "id": "Kif0UkCiXI-h"
      },
      "source": [
        "conn.close()"
      ],
      "execution_count": 60,
      "outputs": []
    },
    {
      "cell_type": "markdown",
      "metadata": {
        "id": "_brgSPnC2ClB"
      },
      "source": [
        "# SQL Programming - Основы с magic командами"
      ]
    },
    {
      "cell_type": "code",
      "metadata": {
        "id": "PDk968tq3v43",
        "colab": {
          "base_uri": "https://localhost:8080/",
          "height": 69
        },
        "outputId": "52558cd8-cbe7-4331-f7a7-5679aea944ee"
      },
      "source": [
        "# Загружаем sql extension\n",
        "\n",
        "%load_ext sql\n",
        "\n",
        "\n",
        "#\n",
        "%sql sqlite:////content/test.db"
      ],
      "execution_count": 62,
      "outputs": [
        {
          "output_type": "stream",
          "name": "stdout",
          "text": [
            "The sql extension is already loaded. To reload it, use:\n",
            "  %reload_ext sql\n"
          ]
        },
        {
          "output_type": "execute_result",
          "data": {
            "text/plain": [
              "'Connected: @/content/test.db'"
            ],
            "application/vnd.google.colaboratory.intrinsic+json": {
              "type": "string"
            }
          },
          "metadata": {},
          "execution_count": 62
        }
      ]
    },
    {
      "cell_type": "code",
      "metadata": {
        "id": "a5-4ih-ea37Z",
        "colab": {
          "base_uri": "https://localhost:8080/",
          "height": 91
        },
        "outputId": "6a901dc0-21e0-412e-ce14-f61619a79375"
      },
      "source": [
        "\n",
        "\n",
        "%%sql\n",
        "CREATE TABLE if not exists Customers(\n",
        "   Id,   \n",
        "   Name,  \n",
        "   Age,\n",
        "   Address,  \n",
        "   Salary\n",
        ");\n",
        "\n",
        "SELECT * From Customers;"
      ],
      "execution_count": 42,
      "outputs": [
        {
          "output_type": "stream",
          "name": "stdout",
          "text": [
            " * sqlite:////content/test.db\n",
            "Done.\n",
            "Done.\n"
          ]
        },
        {
          "output_type": "execute_result",
          "data": {
            "text/plain": [
              "[]"
            ],
            "text/html": [
              "<table>\n",
              "    <thead>\n",
              "        <tr>\n",
              "            <th>Id</th>\n",
              "            <th>Name</th>\n",
              "            <th>Age</th>\n",
              "            <th>Address</th>\n",
              "            <th>Salary</th>\n",
              "        </tr>\n",
              "    </thead>\n",
              "    <tbody>\n",
              "    </tbody>\n",
              "</table>"
            ]
          },
          "metadata": {},
          "execution_count": 42
        }
      ]
    },
    {
      "cell_type": "code",
      "metadata": {
        "id": "0FmFgfaTbZO6",
        "colab": {
          "base_uri": "https://localhost:8080/",
          "height": 91
        },
        "outputId": "5cadf976-37bc-409e-e5d5-09e4e66b0a2a"
      },
      "source": [
        "\n",
        "%%sql\n",
        "CREATE TABLE if not exists Students(\n",
        "    AdmissionsNo,\n",
        "    FirstName,\n",
        "    MiddleName,\n",
        "    LastName,\n",
        "    DateOfBirth,\n",
        "    DateOfAdmission\n",
        ");\n",
        " \n",
        "SELECT * from Students;"
      ],
      "execution_count": 43,
      "outputs": [
        {
          "output_type": "stream",
          "name": "stdout",
          "text": [
            " * sqlite:////content/test.db\n",
            "Done.\n",
            "Done.\n"
          ]
        },
        {
          "output_type": "execute_result",
          "data": {
            "text/plain": [
              "[]"
            ],
            "text/html": [
              "<table>\n",
              "    <thead>\n",
              "        <tr>\n",
              "            <th>AdmissionsNo</th>\n",
              "            <th>FirstName</th>\n",
              "            <th>MiddleName</th>\n",
              "            <th>LastName</th>\n",
              "            <th>DateOfBirth</th>\n",
              "            <th>DateOfAdmission</th>\n",
              "        </tr>\n",
              "    </thead>\n",
              "    <tbody>\n",
              "    </tbody>\n",
              "</table>"
            ]
          },
          "metadata": {},
          "execution_count": 43
        }
      ]
    },
    {
      "cell_type": "code",
      "metadata": {
        "id": "LR9UX1XnbPEJ",
        "colab": {
          "base_uri": "https://localhost:8080/",
          "height": 91
        },
        "outputId": "75f4c2f2-581c-4d3b-ae79-a9f8abbb3184"
      },
      "source": [
        "\n",
        "\n",
        "%%sql\n",
        "CREATE TABLE IF NOT EXISTS Citizens (\n",
        "    NationalID int,\n",
        "    FirstName varchar(255),\n",
        "    MiddleName varchar(255),\n",
        "    PostalAddress varchar(255),\n",
        "    Residence varchar(255));\n",
        "SELECT * from Citizens;"
      ],
      "execution_count": 44,
      "outputs": [
        {
          "output_type": "stream",
          "name": "stdout",
          "text": [
            " * sqlite:////content/test.db\n",
            "Done.\n",
            "Done.\n"
          ]
        },
        {
          "output_type": "execute_result",
          "data": {
            "text/plain": [
              "[]"
            ],
            "text/html": [
              "<table>\n",
              "    <thead>\n",
              "        <tr>\n",
              "            <th>NationalID</th>\n",
              "            <th>FirstName</th>\n",
              "            <th>MiddleName</th>\n",
              "            <th>PostalAddress</th>\n",
              "            <th>Residence</th>\n",
              "        </tr>\n",
              "    </thead>\n",
              "    <tbody>\n",
              "    </tbody>\n",
              "</table>"
            ]
          },
          "metadata": {},
          "execution_count": 44
        }
      ]
    },
    {
      "cell_type": "code",
      "metadata": {
        "id": "xD0OhRTmdFW5",
        "colab": {
          "base_uri": "https://localhost:8080/",
          "height": 91
        },
        "outputId": "57419f06-c8a8-4726-ef74-75f4efb3751c"
      },
      "source": [
        "\n",
        "\n",
        "%%sql\n",
        "CREATE TABLE IF NOT EXISTS artists(\n",
        "    Artist_Id int,\n",
        "    Artist_Name varchar(60),\n",
        "    Artist_DOB date,\n",
        "    Posters_In_Stock boolean);\n",
        "\n",
        "SELECT * from artists;"
      ],
      "execution_count": 45,
      "outputs": [
        {
          "output_type": "stream",
          "name": "stdout",
          "text": [
            " * sqlite:////content/test.db\n",
            "Done.\n",
            "Done.\n"
          ]
        },
        {
          "output_type": "execute_result",
          "data": {
            "text/plain": [
              "[]"
            ],
            "text/html": [
              "<table>\n",
              "    <thead>\n",
              "        <tr>\n",
              "            <th>Artist_Id</th>\n",
              "            <th>Artist_Name</th>\n",
              "            <th>Artist_DOB</th>\n",
              "            <th>Posters_In_Stock</th>\n",
              "        </tr>\n",
              "    </thead>\n",
              "    <tbody>\n",
              "    </tbody>\n",
              "</table>"
            ]
          },
          "metadata": {},
          "execution_count": 45
        }
      ]
    },
    {
      "cell_type": "code",
      "metadata": {
        "id": "FOWSIAvGZpE-",
        "colab": {
          "base_uri": "https://localhost:8080/",
          "height": 91
        },
        "outputId": "72b38898-9782-4658-c341-248a4cff7121"
      },
      "source": [
        "\n",
        "\n",
        "%%sql\n",
        "CREATE TABLE IF NOT EXISTS Players (\n",
        "    id int,\n",
        "    name text,\n",
        "    age integer,\n",
        "    height float);\n",
        "\n",
        "SELECT * from Players;"
      ],
      "execution_count": 46,
      "outputs": [
        {
          "output_type": "stream",
          "name": "stdout",
          "text": [
            " * sqlite:////content/test.db\n",
            "Done.\n",
            "Done.\n"
          ]
        },
        {
          "output_type": "execute_result",
          "data": {
            "text/plain": [
              "[]"
            ],
            "text/html": [
              "<table>\n",
              "    <thead>\n",
              "        <tr>\n",
              "            <th>id</th>\n",
              "            <th>name</th>\n",
              "            <th>age</th>\n",
              "            <th>height</th>\n",
              "        </tr>\n",
              "    </thead>\n",
              "    <tbody>\n",
              "    </tbody>\n",
              "</table>"
            ]
          },
          "metadata": {},
          "execution_count": 46
        }
      ]
    },
    {
      "cell_type": "markdown",
      "metadata": {
        "id": "g8HxWLhZj3Xg"
      },
      "source": [
        "## Чтение данных из таблицы с помощью Pandas"
      ]
    },
    {
      "cell_type": "code",
      "metadata": {
        "id": "aY1LSUFgj1h6"
      },
      "source": [
        "import pandas as pd\n",
        "import sqlite3\n",
        "\n",
        "con = sqlite3.connect(\"test.db\")\n",
        "\n",
        "# Load the data into a DataFrame\n",
        "surveys_df = pd.read_sql_query(\"SELECT * from team_data\", con)\n",
        "\n",
        "# Select only data for 2002\n",
        "surveys2002 = surveys_df[surveys_df.season == 2018]\n",
        "\n",
        "# Write the new DataFrame to a new SQLite table\n",
        "surveys2002.to_sql(\"surveys2002\", con, if_exists=\"replace\")\n",
        "\n",
        "con.close()"
      ],
      "execution_count": 78,
      "outputs": []
    },
    {
      "cell_type": "markdown",
      "metadata": {
        "id": "q841ZQTsaBaJ"
      },
      "source": []
    },
    {
      "cell_type": "code",
      "metadata": {
        "id": "UY4ENrqfj1zM",
        "colab": {
          "base_uri": "https://localhost:8080/",
          "height": 204
        },
        "outputId": "d71c88b4-4878-4cd4-b0c7-d463bfb31d31"
      },
      "source": [
        "surveys_df.head()"
      ],
      "execution_count": 72,
      "outputs": [
        {
          "output_type": "execute_result",
          "data": {
            "text/plain": [
              "          team country  season  total_goals\n",
              "0  Real Madrid   Spain    2019           53\n",
              "1    Barcelona   Spain    2019           47\n",
              "2      Arsenal      UK    2019           52\n",
              "3  Real Madrid   Spain    2018           49\n",
              "4    Barcelona   Spain    2018           45"
            ],
            "text/html": [
              "\n",
              "  <div id=\"df-162647eb-2cd5-4e47-9d53-b6931bd557d8\">\n",
              "    <div class=\"colab-df-container\">\n",
              "      <div>\n",
              "<style scoped>\n",
              "    .dataframe tbody tr th:only-of-type {\n",
              "        vertical-align: middle;\n",
              "    }\n",
              "\n",
              "    .dataframe tbody tr th {\n",
              "        vertical-align: top;\n",
              "    }\n",
              "\n",
              "    .dataframe thead th {\n",
              "        text-align: right;\n",
              "    }\n",
              "</style>\n",
              "<table border=\"1\" class=\"dataframe\">\n",
              "  <thead>\n",
              "    <tr style=\"text-align: right;\">\n",
              "      <th></th>\n",
              "      <th>team</th>\n",
              "      <th>country</th>\n",
              "      <th>season</th>\n",
              "      <th>total_goals</th>\n",
              "    </tr>\n",
              "  </thead>\n",
              "  <tbody>\n",
              "    <tr>\n",
              "      <th>0</th>\n",
              "      <td>Real Madrid</td>\n",
              "      <td>Spain</td>\n",
              "      <td>2019</td>\n",
              "      <td>53</td>\n",
              "    </tr>\n",
              "    <tr>\n",
              "      <th>1</th>\n",
              "      <td>Barcelona</td>\n",
              "      <td>Spain</td>\n",
              "      <td>2019</td>\n",
              "      <td>47</td>\n",
              "    </tr>\n",
              "    <tr>\n",
              "      <th>2</th>\n",
              "      <td>Arsenal</td>\n",
              "      <td>UK</td>\n",
              "      <td>2019</td>\n",
              "      <td>52</td>\n",
              "    </tr>\n",
              "    <tr>\n",
              "      <th>3</th>\n",
              "      <td>Real Madrid</td>\n",
              "      <td>Spain</td>\n",
              "      <td>2018</td>\n",
              "      <td>49</td>\n",
              "    </tr>\n",
              "    <tr>\n",
              "      <th>4</th>\n",
              "      <td>Barcelona</td>\n",
              "      <td>Spain</td>\n",
              "      <td>2018</td>\n",
              "      <td>45</td>\n",
              "    </tr>\n",
              "  </tbody>\n",
              "</table>\n",
              "</div>\n",
              "      <button class=\"colab-df-convert\" onclick=\"convertToInteractive('df-162647eb-2cd5-4e47-9d53-b6931bd557d8')\"\n",
              "              title=\"Convert this dataframe to an interactive table.\"\n",
              "              style=\"display:none;\">\n",
              "        \n",
              "  <svg xmlns=\"http://www.w3.org/2000/svg\" height=\"24px\"viewBox=\"0 0 24 24\"\n",
              "       width=\"24px\">\n",
              "    <path d=\"M0 0h24v24H0V0z\" fill=\"none\"/>\n",
              "    <path d=\"M18.56 5.44l.94 2.06.94-2.06 2.06-.94-2.06-.94-.94-2.06-.94 2.06-2.06.94zm-11 1L8.5 8.5l.94-2.06 2.06-.94-2.06-.94L8.5 2.5l-.94 2.06-2.06.94zm10 10l.94 2.06.94-2.06 2.06-.94-2.06-.94-.94-2.06-.94 2.06-2.06.94z\"/><path d=\"M17.41 7.96l-1.37-1.37c-.4-.4-.92-.59-1.43-.59-.52 0-1.04.2-1.43.59L10.3 9.45l-7.72 7.72c-.78.78-.78 2.05 0 2.83L4 21.41c.39.39.9.59 1.41.59.51 0 1.02-.2 1.41-.59l7.78-7.78 2.81-2.81c.8-.78.8-2.07 0-2.86zM5.41 20L4 18.59l7.72-7.72 1.47 1.35L5.41 20z\"/>\n",
              "  </svg>\n",
              "      </button>\n",
              "      \n",
              "  <style>\n",
              "    .colab-df-container {\n",
              "      display:flex;\n",
              "      flex-wrap:wrap;\n",
              "      gap: 12px;\n",
              "    }\n",
              "\n",
              "    .colab-df-convert {\n",
              "      background-color: #E8F0FE;\n",
              "      border: none;\n",
              "      border-radius: 50%;\n",
              "      cursor: pointer;\n",
              "      display: none;\n",
              "      fill: #1967D2;\n",
              "      height: 32px;\n",
              "      padding: 0 0 0 0;\n",
              "      width: 32px;\n",
              "    }\n",
              "\n",
              "    .colab-df-convert:hover {\n",
              "      background-color: #E2EBFA;\n",
              "      box-shadow: 0px 1px 2px rgba(60, 64, 67, 0.3), 0px 1px 3px 1px rgba(60, 64, 67, 0.15);\n",
              "      fill: #174EA6;\n",
              "    }\n",
              "\n",
              "    [theme=dark] .colab-df-convert {\n",
              "      background-color: #3B4455;\n",
              "      fill: #D2E3FC;\n",
              "    }\n",
              "\n",
              "    [theme=dark] .colab-df-convert:hover {\n",
              "      background-color: #434B5C;\n",
              "      box-shadow: 0px 1px 3px 1px rgba(0, 0, 0, 0.15);\n",
              "      filter: drop-shadow(0px 1px 2px rgba(0, 0, 0, 0.3));\n",
              "      fill: #FFFFFF;\n",
              "    }\n",
              "  </style>\n",
              "\n",
              "      <script>\n",
              "        const buttonEl =\n",
              "          document.querySelector('#df-162647eb-2cd5-4e47-9d53-b6931bd557d8 button.colab-df-convert');\n",
              "        buttonEl.style.display =\n",
              "          google.colab.kernel.accessAllowed ? 'block' : 'none';\n",
              "\n",
              "        async function convertToInteractive(key) {\n",
              "          const element = document.querySelector('#df-162647eb-2cd5-4e47-9d53-b6931bd557d8');\n",
              "          const dataTable =\n",
              "            await google.colab.kernel.invokeFunction('convertToInteractive',\n",
              "                                                     [key], {});\n",
              "          if (!dataTable) return;\n",
              "\n",
              "          const docLinkHtml = 'Like what you see? Visit the ' +\n",
              "            '<a target=\"_blank\" href=https://colab.research.google.com/notebooks/data_table.ipynb>data table notebook</a>'\n",
              "            + ' to learn more about interactive tables.';\n",
              "          element.innerHTML = '';\n",
              "          dataTable['output_type'] = 'display_data';\n",
              "          await google.colab.output.renderOutput(dataTable, element);\n",
              "          const docLink = document.createElement('div');\n",
              "          docLink.innerHTML = docLinkHtml;\n",
              "          element.appendChild(docLink);\n",
              "        }\n",
              "      </script>\n",
              "    </div>\n",
              "  </div>\n",
              "  "
            ]
          },
          "metadata": {},
          "execution_count": 72
        }
      ]
    },
    {
      "cell_type": "code",
      "metadata": {
        "id": "0wm3KUncj17i",
        "colab": {
          "base_uri": "https://localhost:8080/",
          "height": 142
        },
        "outputId": "97bc4472-51fe-47b2-fc6c-ccd6b8be8193"
      },
      "source": [
        "surveys2002.head()"
      ],
      "execution_count": 73,
      "outputs": [
        {
          "output_type": "execute_result",
          "data": {
            "text/plain": [
              "          team country  season  total_goals\n",
              "3  Real Madrid   Spain    2018           49\n",
              "4    Barcelona   Spain    2018           45\n",
              "5      Arsenal      UK    2018           50"
            ],
            "text/html": [
              "\n",
              "  <div id=\"df-9be148e0-86d1-4ea8-abe9-4b36fe021c43\">\n",
              "    <div class=\"colab-df-container\">\n",
              "      <div>\n",
              "<style scoped>\n",
              "    .dataframe tbody tr th:only-of-type {\n",
              "        vertical-align: middle;\n",
              "    }\n",
              "\n",
              "    .dataframe tbody tr th {\n",
              "        vertical-align: top;\n",
              "    }\n",
              "\n",
              "    .dataframe thead th {\n",
              "        text-align: right;\n",
              "    }\n",
              "</style>\n",
              "<table border=\"1\" class=\"dataframe\">\n",
              "  <thead>\n",
              "    <tr style=\"text-align: right;\">\n",
              "      <th></th>\n",
              "      <th>team</th>\n",
              "      <th>country</th>\n",
              "      <th>season</th>\n",
              "      <th>total_goals</th>\n",
              "    </tr>\n",
              "  </thead>\n",
              "  <tbody>\n",
              "    <tr>\n",
              "      <th>3</th>\n",
              "      <td>Real Madrid</td>\n",
              "      <td>Spain</td>\n",
              "      <td>2018</td>\n",
              "      <td>49</td>\n",
              "    </tr>\n",
              "    <tr>\n",
              "      <th>4</th>\n",
              "      <td>Barcelona</td>\n",
              "      <td>Spain</td>\n",
              "      <td>2018</td>\n",
              "      <td>45</td>\n",
              "    </tr>\n",
              "    <tr>\n",
              "      <th>5</th>\n",
              "      <td>Arsenal</td>\n",
              "      <td>UK</td>\n",
              "      <td>2018</td>\n",
              "      <td>50</td>\n",
              "    </tr>\n",
              "  </tbody>\n",
              "</table>\n",
              "</div>\n",
              "      <button class=\"colab-df-convert\" onclick=\"convertToInteractive('df-9be148e0-86d1-4ea8-abe9-4b36fe021c43')\"\n",
              "              title=\"Convert this dataframe to an interactive table.\"\n",
              "              style=\"display:none;\">\n",
              "        \n",
              "  <svg xmlns=\"http://www.w3.org/2000/svg\" height=\"24px\"viewBox=\"0 0 24 24\"\n",
              "       width=\"24px\">\n",
              "    <path d=\"M0 0h24v24H0V0z\" fill=\"none\"/>\n",
              "    <path d=\"M18.56 5.44l.94 2.06.94-2.06 2.06-.94-2.06-.94-.94-2.06-.94 2.06-2.06.94zm-11 1L8.5 8.5l.94-2.06 2.06-.94-2.06-.94L8.5 2.5l-.94 2.06-2.06.94zm10 10l.94 2.06.94-2.06 2.06-.94-2.06-.94-.94-2.06-.94 2.06-2.06.94z\"/><path d=\"M17.41 7.96l-1.37-1.37c-.4-.4-.92-.59-1.43-.59-.52 0-1.04.2-1.43.59L10.3 9.45l-7.72 7.72c-.78.78-.78 2.05 0 2.83L4 21.41c.39.39.9.59 1.41.59.51 0 1.02-.2 1.41-.59l7.78-7.78 2.81-2.81c.8-.78.8-2.07 0-2.86zM5.41 20L4 18.59l7.72-7.72 1.47 1.35L5.41 20z\"/>\n",
              "  </svg>\n",
              "      </button>\n",
              "      \n",
              "  <style>\n",
              "    .colab-df-container {\n",
              "      display:flex;\n",
              "      flex-wrap:wrap;\n",
              "      gap: 12px;\n",
              "    }\n",
              "\n",
              "    .colab-df-convert {\n",
              "      background-color: #E8F0FE;\n",
              "      border: none;\n",
              "      border-radius: 50%;\n",
              "      cursor: pointer;\n",
              "      display: none;\n",
              "      fill: #1967D2;\n",
              "      height: 32px;\n",
              "      padding: 0 0 0 0;\n",
              "      width: 32px;\n",
              "    }\n",
              "\n",
              "    .colab-df-convert:hover {\n",
              "      background-color: #E2EBFA;\n",
              "      box-shadow: 0px 1px 2px rgba(60, 64, 67, 0.3), 0px 1px 3px 1px rgba(60, 64, 67, 0.15);\n",
              "      fill: #174EA6;\n",
              "    }\n",
              "\n",
              "    [theme=dark] .colab-df-convert {\n",
              "      background-color: #3B4455;\n",
              "      fill: #D2E3FC;\n",
              "    }\n",
              "\n",
              "    [theme=dark] .colab-df-convert:hover {\n",
              "      background-color: #434B5C;\n",
              "      box-shadow: 0px 1px 3px 1px rgba(0, 0, 0, 0.15);\n",
              "      filter: drop-shadow(0px 1px 2px rgba(0, 0, 0, 0.3));\n",
              "      fill: #FFFFFF;\n",
              "    }\n",
              "  </style>\n",
              "\n",
              "      <script>\n",
              "        const buttonEl =\n",
              "          document.querySelector('#df-9be148e0-86d1-4ea8-abe9-4b36fe021c43 button.colab-df-convert');\n",
              "        buttonEl.style.display =\n",
              "          google.colab.kernel.accessAllowed ? 'block' : 'none';\n",
              "\n",
              "        async function convertToInteractive(key) {\n",
              "          const element = document.querySelector('#df-9be148e0-86d1-4ea8-abe9-4b36fe021c43');\n",
              "          const dataTable =\n",
              "            await google.colab.kernel.invokeFunction('convertToInteractive',\n",
              "                                                     [key], {});\n",
              "          if (!dataTable) return;\n",
              "\n",
              "          const docLinkHtml = 'Like what you see? Visit the ' +\n",
              "            '<a target=\"_blank\" href=https://colab.research.google.com/notebooks/data_table.ipynb>data table notebook</a>'\n",
              "            + ' to learn more about interactive tables.';\n",
              "          element.innerHTML = '';\n",
              "          dataTable['output_type'] = 'display_data';\n",
              "          await google.colab.output.renderOutput(dataTable, element);\n",
              "          const docLink = document.createElement('div');\n",
              "          docLink.innerHTML = docLinkHtml;\n",
              "          element.appendChild(docLink);\n",
              "        }\n",
              "      </script>\n",
              "    </div>\n",
              "  </div>\n",
              "  "
            ]
          },
          "metadata": {},
          "execution_count": 73
        }
      ]
    },
    {
      "cell_type": "code",
      "source": [
        "import pandas as pd\n",
        "import sqlite3\n",
        "\n",
        "con = sqlite3.connect(\"test.db\")\n",
        "\n",
        "# Load the data into a DataFrame\n",
        "cur = con.execute(\"SELECT * FROM surveys2002;\")\n",
        "\n",
        "cur.fetchall()\n",
        "\n"
      ],
      "metadata": {
        "colab": {
          "base_uri": "https://localhost:8080/"
        },
        "id": "HjKCAMFEfOVP",
        "outputId": "2abc0d57-00ee-4d22-dee6-9019b1113e43"
      },
      "execution_count": 85,
      "outputs": [
        {
          "output_type": "execute_result",
          "data": {
            "text/plain": [
              "[(3, 'Real Madrid', 'Spain', 2018, 49),\n",
              " (4, 'Barcelona', 'Spain', 2018, 45),\n",
              " (5, 'Arsenal', 'UK', 2018, 50)]"
            ]
          },
          "metadata": {},
          "execution_count": 85
        }
      ]
    },
    {
      "cell_type": "code",
      "source": [
        "con.close()"
      ],
      "metadata": {
        "id": "rc5VmZ8QfvrT"
      },
      "execution_count": 86,
      "outputs": []
    }
  ]
}