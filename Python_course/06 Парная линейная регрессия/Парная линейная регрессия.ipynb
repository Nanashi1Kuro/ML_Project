{
 "cells": [
  {
   "cell_type": "markdown",
   "id": "80b5613d",
   "metadata": {},
   "source": [
    "# Парная линейная регрессия\n",
    "## Цель работы\n",
    "\n",
    "Познакомиться с основными понятиями задачи регрессии и метода градиентного спуска.\n",
    "\n",
    "Содержание работы\n",
    "\n",
    "1- Загрузить данные из тектовых файлов.\n",
    "\n",
    "2- Создать и построить модель парной линейной регрессии с использованием метода градиентного спуска.\n",
    "\n",
    "3- Оценить на графике качество построенной модели.\n",
    "\n",
    "4- Построить кривые обучения."
   ]
  },
  {
   "cell_type": "code",
   "execution_count": 1,
   "id": "4835bbd6",
   "metadata": {},
   "outputs": [],
   "source": [
    "\n",
    "# Для полноценной работы с регрессионным анализом данных на потребуются следующие библиотеки языка Python:\n",
    "\n",
    "import numpy as np\n",
    "import pandas as pd\n",
    "import matplotlib.pyplot as plt"
   ]
  },
  {
   "cell_type": "markdown",
   "id": "43a95cbd",
   "metadata": {},
   "source": [
    "### Для начала считаем данные о котировке двух инструментов из csv-файла:"
   ]
  },
  {
   "cell_type": "code",
   "execution_count": 2,
   "id": "28594815",
   "metadata": {},
   "outputs": [],
   "source": [
    "x = pd.read_csv('https://raw.githubusercontent.com/koroteevmv/ML_course/main/ML1.1_sgd/data/x.csv')\n",
    "y = pd.read_csv('https://raw.githubusercontent.com/koroteevmv/ML_course/main/ML1.1_sgd/data/y.csv')\n",
    "\n",
    "x.to_csv('x.csv')\n",
    "x.to_csv('y.csv')"
   ]
  },
  {
   "cell_type": "markdown",
   "id": "3488081c",
   "metadata": {},
   "source": [
    "Посмотрим формат файла с данными - состав и названия полей:"
   ]
  },
  {
   "cell_type": "code",
   "execution_count": 3,
   "id": "405e12e0",
   "metadata": {},
   "outputs": [
    {
     "data": {
      "text/html": [
       "<div>\n",
       "<style scoped>\n",
       "    .dataframe tbody tr th:only-of-type {\n",
       "        vertical-align: middle;\n",
       "    }\n",
       "\n",
       "    .dataframe tbody tr th {\n",
       "        vertical-align: top;\n",
       "    }\n",
       "\n",
       "    .dataframe thead th {\n",
       "        text-align: right;\n",
       "    }\n",
       "</style>\n",
       "<table border=\"1\" class=\"dataframe\">\n",
       "  <thead>\n",
       "    <tr style=\"text-align: right;\">\n",
       "      <th></th>\n",
       "      <th>Unnamed: 0</th>\n",
       "      <th>0</th>\n",
       "    </tr>\n",
       "  </thead>\n",
       "  <tbody>\n",
       "    <tr>\n",
       "      <th>0</th>\n",
       "      <td>0</td>\n",
       "      <td>1.462108</td>\n",
       "    </tr>\n",
       "    <tr>\n",
       "      <th>1</th>\n",
       "      <td>1</td>\n",
       "      <td>1.133769</td>\n",
       "    </tr>\n",
       "    <tr>\n",
       "      <th>2</th>\n",
       "      <td>2</td>\n",
       "      <td>-2.301539</td>\n",
       "    </tr>\n",
       "    <tr>\n",
       "      <th>3</th>\n",
       "      <td>3</td>\n",
       "      <td>1.744812</td>\n",
       "    </tr>\n",
       "    <tr>\n",
       "      <th>4</th>\n",
       "      <td>4</td>\n",
       "      <td>0.042214</td>\n",
       "    </tr>\n",
       "  </tbody>\n",
       "</table>\n",
       "</div>"
      ],
      "text/plain": [
       "   Unnamed: 0         0\n",
       "0           0  1.462108\n",
       "1           1  1.133769\n",
       "2           2 -2.301539\n",
       "3           3  1.744812\n",
       "4           4  0.042214"
      ]
     },
     "execution_count": 3,
     "metadata": {},
     "output_type": "execute_result"
    }
   ],
   "source": [
    "x.head()"
   ]
  },
  {
   "cell_type": "markdown",
   "id": "ddec0955",
   "metadata": {},
   "source": [
    "Аналогичная картина наблюдается и в переменной y. Здесь мы видим две проблемы. Во-первых, при считывании данных из файла pandas добавил специальный стоблец с номером строки. Он нам не нужен. Во-вторых, мы получили объекты типа DataFrame, а для дальнейшей работы нам нужен объект типа Series. Эти проблемы можно решить разными способами, но прощевсего взять из получившихся датафреймов одну нужную колонку:"
   ]
  },
  {
   "cell_type": "code",
   "execution_count": 4,
   "id": "0efe56cb",
   "metadata": {},
   "outputs": [],
   "source": [
    "x = pd.read_csv('https://raw.githubusercontent.com/koroteevmv/ML_course/main/ML1.1_sgd/data/x.csv', index_col=0)['0']\n",
    "y = pd.read_csv('https://raw.githubusercontent.com/koroteevmv/ML_course/main/ML1.1_sgd/data/y.csv', index_col=0)['0']"
   ]
  },
  {
   "cell_type": "markdown",
   "id": "e88e077b",
   "metadata": {},
   "source": [
    "Затем выделим из получившегося объединенного датасета результативный и факторный признак. В нашем случае это будут цены закрытия двух этих инструментов:"
   ]
  },
  {
   "cell_type": "code",
   "execution_count": 5,
   "id": "68a3463d",
   "metadata": {},
   "outputs": [
    {
     "data": {
      "text/plain": [
       "0    1.462108\n",
       "1    1.133769\n",
       "2   -2.301539\n",
       "3    1.744812\n",
       "4    0.042214\n",
       "Name: 0, dtype: float64"
      ]
     },
     "execution_count": 5,
     "metadata": {},
     "output_type": "execute_result"
    }
   ],
   "source": [
    "x.head()"
   ]
  },
  {
   "cell_type": "markdown",
   "id": "f0b76c2c",
   "metadata": {},
   "source": [
    "Для визуального представления совместного распределения значений используемых переменных построим график зависимости одной переменной от другой:"
   ]
  },
  {
   "cell_type": "code",
   "execution_count": 6,
   "id": "7db50b3f",
   "metadata": {},
   "outputs": [
    {
     "data": {
      "image/png": "[encoded data removed]",
      "text/plain": [
       "<Figure size 640x480 with 1 Axes>"
      ]
     },
     "metadata": {},
     "output_type": "display_data"
    }
   ],
   "source": [
    "plt.figure()\n",
    "plt.scatter(x, y)\n",
    "plt.show()"
   ]
  },
  {
   "cell_type": "markdown",
   "id": "dcf371a3",
   "metadata": {},
   "source": [
    "Мы видим, что линейная зависимость прослеживается в данных. Значит, мы можем продолжать и использовать парную линейную регрессию.\n",
    "\n",
    "Начнем строить класс, который будет реализовывать метод парной линейной регрессии:"
   ]
  },
  {
   "cell_type": "code",
   "execution_count": 7,
   "id": "ec439e15",
   "metadata": {},
   "outputs": [],
   "source": [
    "class Model(object):\n",
    "    \"\"\"Модель парной линейной регрессии\"\"\"\n",
    "    def __init__(self):\n",
    "        self.b0 = 0\n",
    "        self.b1 = 0"
   ]
  },
  {
   "cell_type": "markdown",
   "id": "cc2863b3",
   "metadata": {},
   "source": [
    "Здесь мы определили конструктор класса, который запоминает в полях экземпляра параметры регрессии. В дальнейшем мы сможем расширять функциональность этого класса сколь угодно много.\n",
    "\n",
    "Реализуем метод, который принимает значение входной переменной и возвращает теоретическое значение выходной - это прямое действие нашей регрессии - метод предсказания результата по факторам (в случае парной регрессии - по одному фактору):"
   ]
  },
  {
   "cell_type": "code",
   "execution_count": 8,
   "id": "66548943",
   "metadata": {},
   "outputs": [],
   "source": [
    "def predict(self, x):\n",
    "        return self.b0 + self.b1 * x"
   ]
  },
  {
   "cell_type": "markdown",
   "id": "644c30c5",
   "metadata": {},
   "source": [
    "Теперь зададим функцию ошибки:"
   ]
  },
  {
   "cell_type": "code",
   "execution_count": 9,
   "id": "f2d0a7de",
   "metadata": {},
   "outputs": [],
   "source": [
    "def error(self, X, Y):    \n",
    "    return sum((self.predict(X) - Y)**2) / (2 * len(X)) "
   ]
  },
  {
   "cell_type": "markdown",
   "id": "ce63be5c",
   "metadata": {},
   "source": [
    "В данном случае мы используем простую функцию ошибки - среднеквадратическое отклонение (mean squared error, MSE). Можно использовать и другие функции ошибки. Именно вид функции ошибки будет определять то, какой вид регрессии мы реализуем. Существует много разных вариаций простого алгоритма регрессии. О большинстве распространенных методах регрессии можно почитать в официальной документации sklearn.\n",
    "\n",
    "Теперь реализуем метод градиентного спуска. Он должен принимать массив X и массив Y и обновлять параметры регрессии в соответствии в формулами градиентного спуска:"
   ]
  },
  {
   "cell_type": "code",
   "execution_count": 10,
   "id": "55445015",
   "metadata": {},
   "outputs": [],
   "source": [
    "def fit(self, X, Y):  \n",
    "        alpha = 0.1\n",
    "        dJ0 = sum(self.predict(X) - Y) /len(X) # dJ/ d theta_0\n",
    "        dJ1 = sum((self.predict(X) - Y) * X) /len(X) # dJ/ d theta_1\n",
    "        self.b0 -= alpha * dJ0\n",
    "        self.b1 -= alpha * dJ1"
   ]
  },
  {
   "cell_type": "markdown",
   "id": "d541179e",
   "metadata": {},
   "source": [
    "Здесь мы используем некоторое произвольное число - alpha - скорость обучения. О выборе конкретного значения alpha - скорости обучения мы еще поговорим позднее.\n",
    "\n",
    "Давайте создадим объект регрессии и проверим начальное значение ошибки:"
   ]
  },
  {
   "cell_type": "code",
   "execution_count": 34,
   "id": "97ba29e3",
   "metadata": {},
   "outputs": [],
   "source": [
    "class Model(object):\n",
    "    \"\"\"Модель парной линейной регрессии\"\"\"\n",
    "    def __init__(self):\n",
    "        self.b0 = 0\n",
    "        self.b1 = 0\n",
    "    def predict(self, x):\n",
    "        return self.b0 + self.b1 * x \n",
    "    def error(self, X, Y):    \n",
    "        return sum((self.predict(X) - Y)**2) / (2 * len(X)) \n",
    "    def fit(self, X, Y):  \n",
    "        alpha = 0.1\n",
    "        dJ0 = sum(self.predict(X) - Y) /len(X)\n",
    "        dJ1 = sum((self.predict(X) - Y) * X) /len(X)\n",
    "        self.b0 -= alpha * dJ0\n",
    "        self.b1 -= alpha * dJ1"
   ]
  },
  {
   "cell_type": "code",
   "execution_count": 35,
   "id": "702707b8",
   "metadata": {},
   "outputs": [
    {
     "name": "stdout",
     "output_type": "stream",
     "text": [
      "0\n",
      "0\n",
      "initial error: 2937.6446095153406\n"
     ]
    }
   ],
   "source": [
    "hyp = Model()\n",
    "print(hyp.predict(0))\n",
    "print(hyp.predict(100))\n",
    "J = hyp.error(x, y)\n",
    "print(\"initial error:\", J)"
   ]
  },
  {
   "cell_type": "markdown",
   "id": "2e8bc1d9",
   "metadata": {},
   "source": [
    "Как мы видим, для начала оба параметра регрессии равны нулю. Конечно, такая модель не дает надежных предсказаний, но в этом и состоит метод градиентного спуска: начиная с любого решения мы постепенно его улучшаем и приходим к оптимальному решению.\n",
    "\n",
    "Теперь изобразим нашу регрессию на графике:"
   ]
  },
  {
   "cell_type": "code",
   "execution_count": 36,
   "id": "06cbdb4a",
   "metadata": {},
   "outputs": [
    {
     "data": {
      "image/png": "[encoded data removed]",
      "text/plain": [
       "<Figure size 640x480 with 1 Axes>"
      ]
     },
     "metadata": {},
     "output_type": "display_data"
    }
   ],
   "source": [
    "X0 = np.linspace(-3, 2, 100)\n",
    "Y0 = hyp.predict(X0)\n",
    "plt.figure()\n",
    "plt.scatter(x, y)\n",
    "plt.plot(X0, Y0, 'r')\n",
    "plt.show()"
   ]
  },
  {
   "cell_type": "markdown",
   "id": "0d223fe2",
   "metadata": {},
   "source": [
    "Как и ожидалось, мы видим горизонтальную линию - в нашей примитивной модели пока для любого входного значения, выходное всегда будет 0.\n",
    "\n",
    "Теперь все готово к запуску градиентного спуска."
   ]
  },
  {
   "cell_type": "code",
   "execution_count": 37,
   "id": "2cbe3424",
   "metadata": {},
   "outputs": [
    {
     "name": "stdout",
     "output_type": "stream",
     "text": [
      "error after gradient descent: 2253.7456808918546\n"
     ]
    }
   ],
   "source": [
    "hyp.fit(x, y)\n",
    "J = hyp.error(x, y)\n",
    "print(\"error after gradient descent:\", J)"
   ]
  },
  {
   "cell_type": "code",
   "execution_count": 38,
   "id": "e685c7e1",
   "metadata": {},
   "outputs": [
    {
     "data": {
      "image/png": "[encoded data removed]",
      "text/plain": [
       "<Figure size 640x480 with 1 Axes>"
      ]
     },
     "metadata": {},
     "output_type": "display_data"
    }
   ],
   "source": [
    "X0 = np.linspace(-3, 2, 100)\n",
    "Y0 = hyp.predict(X0)\n",
    "plt.figure()\n",
    "plt.scatter(x, y)\n",
    "plt.plot(X0, Y0, 'r')\n",
    "plt.show()"
   ]
  },
  {
   "cell_type": "markdown",
   "id": "e9a184ad",
   "metadata": {},
   "source": [
    "Как мы видим, численное значение ошибки значительно уменьшилось. Да и линия на графике существенно приблизилось к точкам. Конечно, наша модель еще далека от совершенства. Мы прошли всего лишь одну итерацию градиентного спуска. Модифицируем метод так, чтобы он запускался в цикле определенное количество раз:"
   ]
  },
  {
   "cell_type": "code",
   "execution_count": 21,
   "id": "d7685fc7",
   "metadata": {},
   "outputs": [],
   "source": [
    "class Model(object):\n",
    "    \"\"\"Модель парной линейной регрессии\"\"\"\n",
    "    def __init__(self):\n",
    "        self.b0 = 0\n",
    "        self.b1 = 0\n",
    "    def predict(self, X):\n",
    "        return self.b0 + self.b1 * X\n",
    "    def error(self, X, Y):\n",
    "        return sum(((self.predict(X) - Y)**2) / (2 * len(X)))\n",
    "    def fit(self, X, Y, alpha=0.001, accuracy=0.01, max_steps=5000):\n",
    "        steps, errors = [], []\n",
    "        step = 0        \n",
    "        for _ in range(10000):\n",
    "            dJ0 = sum(self.predict(X) - Y) /len(X)\n",
    "            dJ1 = sum((self.predict(X) - Y) * X) /len(X)\n",
    "            self.b0 -= alpha * dJ0\n",
    "            self.b1 -= alpha * dJ1    \n",
    "            new_err = hyp.error(X, Y)\n",
    "            step += 1            \n",
    "            steps.append(step)\n",
    "            errors.append(new_err)\n",
    "        return steps, errors"
   ]
  },
  {
   "cell_type": "markdown",
   "id": "dd3b098a",
   "metadata": {},
   "source": [
    "Заодно мы расширили функциональность этого метода так, чтобы он возвращал массив ошибок на каждой итерации спуска и номер итерации. Это будет нам полезно для построения графика обучения.\n",
    "\n",
    "Запустим наш градиентный спуск:"
   ]
  },
  {
   "cell_type": "code",
   "execution_count": 17,
   "id": "f9f4fb3a",
   "metadata": {},
   "outputs": [
    {
     "name": "stdout",
     "output_type": "stream",
     "text": [
      "error after gradient descent: 2.776975306057215e-06\n"
     ]
    }
   ],
   "source": [
    "hyp = Model()\n",
    "steps, errors = hyp.fit(x, y)\n",
    "J = hyp.error(x, y)\n",
    "print(\"error after gradient descent:\", J)"
   ]
  },
  {
   "cell_type": "markdown",
   "id": "8054e4b1",
   "metadata": {},
   "source": [
    "Как мы видим, теперь ошибка снизилась гораздо больше. Однако, она все еще не достигла нуля. Заметим, что нулевая ошибка не всегда возможна в принципе из-за того, что точки данных не всегда будут располагаться на одной линии. Кроме того, алгоритм градиентного спуска - численный и сходится в пределе, то есть после бесконечного количества повторений. Нужно стремиться не к нулевой, а к минимально возможной ошибке.\n",
    "\n",
    "Посмотрим, как теперь наша регрессия выглядит на графике:"
   ]
  },
  {
   "cell_type": "code",
   "execution_count": 22,
   "id": "7e7ef1ea",
   "metadata": {},
   "outputs": [
    {
     "data": {
      "image/png": "[encoded data removed]",
      "text/plain": [
       "<Figure size 640x480 with 1 Axes>"
      ]
     },
     "metadata": {},
     "output_type": "display_data"
    }
   ],
   "source": [
    "X0 = np.linspace(-3, 2, 100)\n",
    "Y0 = hyp.predict(X0)\n",
    "plt.figure()\n",
    "plt.scatter(x, y)\n",
    "plt.plot(X0, Y0, 'r')\n",
    "plt.show()"
   ]
  },
  {
   "cell_type": "markdown",
   "id": "0bde1244",
   "metadata": {},
   "source": [
    "Уже значительно лучше. Линия регрессии довольно похожа на оптимальную. Так ли это на самом деле, глядя на график, сказать сложно, для этого нужно проанализировать, как ошибка регрессии менялась со временем:"
   ]
  },
  {
   "cell_type": "code",
   "execution_count": 19,
   "id": "3307a5b3",
   "metadata": {},
   "outputs": [
    {
     "data": {
      "image/png": "[encoded data removed]",
      "text/plain": [
       "<Figure size 640x480 with 1 Axes>"
      ]
     },
     "metadata": {},
     "output_type": "display_data"
    }
   ],
   "source": [
    "plt.figure()\n",
    "plt.plot(steps, errors, 'g')\n",
    "plt.show()"
   ]
  },
  {
   "cell_type": "markdown",
   "id": "9c5fe810",
   "metadata": {},
   "source": [
    "На графике наглядно видно, что в начале обучения ошибка падала быстро, но в ходе градиентного спуска она вышла на плато. Учитывая, что мы используем гладкую функцию ошибки второго порядка, это свидетельствует о том, что мы достигли локального оптимума и дальнейшее повторение алгоритма не принесет улучшения модели."
   ]
  },
  {
   "cell_type": "markdown",
   "id": "c1e7fbea",
   "metadata": {},
   "source": [
    "## Задания для самостоятельного выполнения\n",
    "1- Проверьте работу модели с разными начальными значениями параметров. Убедитесь, что модель всегда сходится к оптимуму.\n",
    "\n",
    "2- Проверьте работу модели с другими значениями скорости обучения. Найдите значение, при котором градиентный спуск расходится.\n",
    "\n",
    "3-Модифицируйте код модели таким образом, чтобы он корректно работал как с Series, так и с DataFrame. При этом, конечно, датафрейм не должен содержать \"лишних\" столбцов.\n",
    "\n",
    "4- Модифицируйте алгоритм градиентного спука таким образом, чтобы он останавливаля, если ошибка перестает снижаться. Для этого сравнивайте, на сколько понизилась ошибка на каждом шаге и если это снижение меньше некоторой заранее заданной очень маленькой величины - выходите из цикла. Эту величину можно взять одну миллионную, например.\n",
    "\n",
    "5- Убедитесь, что алгоритм градиентного спуска завершается всегда - либо если ошибка перестает существенно меняться, либо при достижении максимального количества шагов.\n",
    "\n",
    "6- Реализуйте механизм адаптивной скорости обучения. Чтобы не задавать вручную параметр alpha можно отслеживать, увеличивается ли ошибка после первого шага градиентного спуска. В начале задаем скорость обучения близкой к 1. Если ошибка после одного шага увеличивается - скорость обучения надо уменьшить (например, в 2 раза). Если не увеличивается - скорость обучения можно не трогать. Еще подумайте, как после уменьшения скорости перезапускать градиентный спуск заново.\n",
    "\n",
    "7- Добавьте к классу модели метод рисования графиков. Сделайте так, чтобы он был независим от масштаба переданных данных.\n"
   ]
  },
  {
   "cell_type": "markdown",
   "id": "e0a1f1c4",
   "metadata": {},
   "source": [
    "## Контрольные вопросы\n",
    "1- Сформулируйте, в чем состоит задача регрессии, придумайте несколько примеров.\n",
    "\n",
    "2- Что такое метод градиентного спуска?\n",
    "\n",
    "3- Что такое скорость обучения в методе градиентного спуска?\n",
    "\n",
    "4- Какие функции ошибки используются в регрессионных моделях и почему именно такие?\n",
    "\n",
    "Что показывает конкретное значение ошибки регрессии?\n",
    "\n",
    "Что показывает график обучения и зачем его строить?\n"
   ]
  },
  {
   "cell_type": "markdown",
   "id": "3c79febc",
   "metadata": {},
   "source": [
    "## Дополнительные задания:\n",
    "\n",
    "1- Изучите официальную документацию библиотеки sklearn. Постройте модель регрессии с использованием библиотечных средств на тех же данных. \n",
    "\n",
    "2- Постройте графики и сравните результаты.\n",
    "\n",
    "3- Почитайте в документации про встроенный метод оценки качества регрессии score. Используйте его для оценки качетсва модели. \n",
    "\n",
    "4- Реализуйте такой же расчет в собственном классе модели.\n",
    "\n",
    "5- (*) Реализуйте нормирование входных значений. Это нужно делать внутри класса модели. Лучше всего - внутри метода обучения. Необходимо привести значения признаков к шкале [0; 1]. Подумайте, как теперь корректно считать теоретические значения."
   ]
  },
  {
   "cell_type": "code",
   "execution_count": null,
   "id": "0c44745a",
   "metadata": {},
   "outputs": [],
   "source": []
  }
 ],
 "metadata": {
  "kernelspec": {
   "display_name": "Python 3 (ipykernel)",
   "language": "python",
   "name": "python3"
  },
  "language_info": {
   "codemirror_mode": {
    "name": "ipython",
    "version": 3
   },
   "file_extension": ".py",
   "mimetype": "text/x-python",
   "name": "python",
   "nbconvert_exporter": "python",
   "pygments_lexer": "ipython3",
   "version": "3.8.10"
  }
 },
 "nbformat": 4,
 "nbformat_minor": 5
}
