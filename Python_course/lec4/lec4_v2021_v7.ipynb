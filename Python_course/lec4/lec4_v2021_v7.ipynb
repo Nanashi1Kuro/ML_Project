{
 "cells": [
  {
   "cell_type": "markdown",
   "metadata": {},
   "source": [
    "# Лекция 4 \"Функции\"\n",
    "\n",
    "### Финансовый университет при Правительстве РФ, лектор С.В. Макрушин\n",
    "\n",
    "v 0.8 11.08.2021"
   ]
  },
  {
   "cell_type": "markdown",
   "metadata": {},
   "source": [
    "## Разделы: <a class=\"anchor\" id=\"разделы\"></a>\n",
    "\n",
    "\n",
    "* [Создание функции и ее вызов](#создание-функции)\n",
    "* [Расположение определений функций](#расположение-определений)\n",
    "* [Анонимные функции](#анонимные-функции)\n",
    "* [Необязательные параметры функций и сопоставление по ключам](#необязательные-параметры)\n",
    "* [Возвращение нескольких значений из функции](#несколько-значений)\n",
    "* [Распаковка и запаковка параметров функции](#распаковка-параметров)\n",
    "* [Аннотации и документирование функций](#аннотации)\n",
    "* [Глобальные и локальные переменные](#глобальные-локальные)\n",
    "\n",
    "\n",
    "-\n",
    "* [к оглавлению](#разделы)"
   ]
  },
  {
   "cell_type": "code",
   "execution_count": 2,
   "metadata": {},
   "outputs": [
    {
     "data": {
      "text/html": [
       "﻿<style>\r\n",
       "\r\n",
       "\r\n",
       "b.n {\r\n",
       "    font-weight: normal;        \r\n",
       "}\r\n",
       "\r\n",
       "b.grbg {\r\n",
       "    background-color: #a0a0a0;      \r\n",
       "}\r\n",
       "\r\n",
       "b.r {\r\n",
       "    color: #ff0000;    \r\n",
       "}\r\n",
       "\r\n",
       "\r\n",
       "b.b {    \r\n",
       "    color: #0000ff;    \r\n",
       "}\r\n",
       "\r\n",
       "b.g {\r\n",
       "    color: #00ff00;    \r\n",
       "}\r\n",
       "\r\n",
       "\r\n",
       "// add your CSS styling here\r\n",
       "\r\n",
       "list-style: none;\r\n",
       "\r\n",
       "ul.s {\r\n",
       "//    list-style-type: none;\r\n",
       "    list-style: none;\r\n",
       "//    background-color: #ff0000;  \r\n",
       "//    color: #ffff00;\r\n",
       "//  padding-left: 1.2em;\r\n",
       "//  text-indent: -1.2em;\r\n",
       "}\r\n",
       "\r\n",
       "li.t {\r\n",
       "    list-style: none;\r\n",
       "//  padding-left: 1.2em;\r\n",
       "//  text-indent: -1.2em;    \r\n",
       "}\r\n",
       "\r\n",
       "\r\n",
       "*.r {\r\n",
       "    color: #ff0000;    \r\n",
       "}\r\n",
       "\r\n",
       "li.t:before {\r\n",
       "    content: \"\\21D2\";    \r\n",
       "//    content: \"►\";\r\n",
       "//    padding-left: -1.2em;    \r\n",
       "    text-indent: -1.2em;    \r\n",
       "    display: block;\r\n",
       "    float: left;\r\n",
       "    \r\n",
       "    \r\n",
       "//    width: 1.2em;\r\n",
       "//    color: #ff0000;\r\n",
       "}\r\n",
       "\r\n",
       "i.m:before {\r\n",
       "    font-style: normal;    \r\n",
       "    content: \"\\21D2\";  \r\n",
       "}\r\n",
       "i.m {\r\n",
       "    font-style: normal; \r\n",
       "}    \r\n",
       "\r\n",
       "/*--------------------*/\r\n",
       "/* em {\r\n",
       "    font-style: normal; \r\n",
       "} */\r\n",
       "\r\n",
       "\r\n",
       "em.bl {\r\n",
       "    font-style: normal;     \r\n",
       "    font-weight: bold;        \r\n",
       "}\r\n",
       "\r\n",
       "/* em.grbg {\r\n",
       "    font-style: normal;         \r\n",
       "    background-color: #a0a0a0;      \r\n",
       "} */\r\n",
       "\r\n",
       "em.cr {\r\n",
       "    font-style: normal;         \r\n",
       "    color: #ff0000;    \r\n",
       "}\r\n",
       "\r\n",
       "em.cb {    \r\n",
       "    font-style: normal;         \r\n",
       "    color: #0000ff;    \r\n",
       "}\r\n",
       "\r\n",
       "em.cg {\r\n",
       "    font-style: normal;         \r\n",
       "    color: #00ff00;    \r\n",
       "}\r\n",
       "\r\n",
       "/*--------------------*/\r\n",
       "\r\n",
       "em.qs {\r\n",
       "    font-style: normal; \r\n",
       "}\r\n",
       "\r\n",
       "em.qs::before {\r\n",
       "    font-weight: bold;    \r\n",
       "    color: #ff0000;    \r\n",
       "    content: \"Q:\";  \r\n",
       "}\r\n",
       "\r\n",
       "em.an {\r\n",
       "    font-style: normal; \r\n",
       "}\r\n",
       "\r\n",
       "em.an:before {\r\n",
       "    font-weight: bold;    \r\n",
       "    color: #0000ff;    \r\n",
       "    content: \"A:\";  \r\n",
       "}\r\n",
       "    \r\n",
       "em.nt {\r\n",
       "    font-style: normal; \r\n",
       "}\r\n",
       "\r\n",
       "em.nt:before {\r\n",
       "    font-weight: bold;    \r\n",
       "    color: #0000ff;    \r\n",
       "    content: \"Note:\";  \r\n",
       "}    \r\n",
       "    \r\n",
       "em.ex {\r\n",
       "    font-style: normal; \r\n",
       "}\r\n",
       "\r\n",
       "em.ex:before {\r\n",
       "    font-weight: bold;    \r\n",
       "    color: #00ff00;    \r\n",
       "    content: \"Ex:\";  \r\n",
       "} \r\n",
       "    \r\n",
       "em.df {\r\n",
       "    font-style: normal; \r\n",
       "}\r\n",
       "\r\n",
       "em.df:before {\r\n",
       "    font-weight: bold;    \r\n",
       "    color: #0000ff;    \r\n",
       "    content: \"Def:\";  \r\n",
       "}    \r\n",
       "\r\n",
       "em.pl {\r\n",
       "    font-style: normal; \r\n",
       "}\r\n",
       "\r\n",
       "em.pl:before {\r\n",
       "    font-weight: bold;    \r\n",
       "    color: #0000ff;    \r\n",
       "    content: \"+\";  \r\n",
       "}    \r\n",
       "\r\n",
       "em.mn {\r\n",
       "    font-style: normal; \r\n",
       "}\r\n",
       "\r\n",
       "em.mn:before {\r\n",
       "    font-weight: bold;    \r\n",
       "    color: #0000ff;    \r\n",
       "    content: \"-\";  \r\n",
       "}        \r\n",
       "\r\n",
       "em.plmn {\r\n",
       "    font-style: normal; \r\n",
       "}\r\n",
       "\r\n",
       "em.plmn:before {\r\n",
       "    font-weight: bold;    \r\n",
       "    color: #0000ff;    \r\n",
       "    content: \"\\00B1\";\\\\\"&plusmn;\";  \r\n",
       "}\r\n",
       "    \r\n",
       "em.hn {\r\n",
       "    font-style: normal; \r\n",
       "}\r\n",
       "\r\n",
       "em.hn:before {\r\n",
       "    font-weight: bold;    \r\n",
       "    color: #0000ff;    \r\n",
       "    content: \"\\21D2\";\\\\\"&rArr;\";  \r\n",
       "}     \r\n",
       "    \r\n",
       "</style>"
      ],
      "text/plain": [
       "<IPython.core.display.HTML object>"
      ]
     },
     "execution_count": 2,
     "metadata": {},
     "output_type": "execute_result"
    }
   ],
   "source": [
    "# загружаем стиль для оформления презентации\n",
    "from IPython.display import HTML\n",
    "from urllib.request import urlopen\n",
    "html = urlopen(\"file:./lec_v1.css\")\n",
    "HTML(html.read().decode('utf-8'))"
   ]
  },
  {
   "cell_type": "markdown",
   "metadata": {},
   "source": [
    " # Создание функции и ее вызов <a class=\"anchor\" id=\"создание-функции\"></a>\n",
    "* [к оглавлению](#разделы)"
   ]
  },
  {
   "cell_type": "markdown",
   "metadata": {},
   "source": [
    "Функция описывается с помощью ключевого слова `def` no следующей схеме: \n",
    "\n",
    "\n",
    "`def  <Имя  функции> ([<Параметры>]):\n",
    "    [\"\"\"  Строка  документирования  \"\"\"] \n",
    "    <Тело функции>    \n",
    "    [return  <Значение>]`\n",
    "\n",
    "* __Имя функции__ должно быть корректным уникальным идентификатором\n",
    "    * состоящим из латинских букв, цифр и знаков подчеркивания (причем имя не может начинаться с цифры).\n",
    "    * в качестве имени нельзя использовать ключевые слова, кроме того, следует избегать совпадений с названиями  встроенных  идентификаторов.\n",
    "    * регистр  символов в  названии  функции  имеет значение. \n",
    "* После имени функции в  круглых скобках можно указать один или несколько __параметров__ через  запятую.  \n",
    "    * Если функция не  принимает параметры, то  просто указываются  круглые скобки. \n",
    "    * После круглых скобок ставится двоеточие. \n",
    "* После двоеточия может следовать необязательная __строка документирования__ фукнции (распространено использование многострочной строки, заключенной в тройные кавычки)  \n",
    "* __Тело функции__ является составной конструкцией.  Как и  в  любой составной конструкции, инструкции внутри функции выделяются одинаковым количеством пробелов слева. "
   ]
  },
  {
   "cell_type": "code",
   "execution_count": 1,
   "metadata": {},
   "outputs": [],
   "source": [
    "def func(): \n",
    "    pass "
   ]
  },
  {
   "cell_type": "code",
   "execution_count": 2,
   "metadata": {},
   "outputs": [],
   "source": [
    "func()"
   ]
  },
  {
   "cell_type": "markdown",
   "metadata": {},
   "source": [
    "Необязательная инструкция `return`  nозволяет вернуть значение из функции. После исполнения этой инструкции выполнение функции будет завершено. "
   ]
  },
  {
   "cell_type": "code",
   "execution_count": 3,
   "metadata": {},
   "outputs": [],
   "source": [
    "def  func(): \n",
    "    print (\"Текст до инструкции return\") \n",
    "    return  \"Возвращаемое  значение\" \n",
    "    print (\"Эта инструкция никогда не будет выполнена\") "
   ]
  },
  {
   "cell_type": "code",
   "execution_count": 6,
   "metadata": {},
   "outputs": [
    {
     "name": "stdout",
     "output_type": "stream",
     "text": [
      "Текст до инструкции return\n",
      "Результат: Возвращаемое  значение\n"
     ]
    }
   ],
   "source": [
    "r = func()\n",
    "print(f'Результат: {r}')"
   ]
  },
  {
   "cell_type": "code",
   "execution_count": 4,
   "metadata": {},
   "outputs": [
    {
     "name": "stdout",
     "output_type": "stream",
     "text": [
      "Текст до инструкции return\n",
      "Возвращаемое  значение\n"
     ]
    }
   ],
   "source": [
    "print(func())  # вызываем функцию "
   ]
  },
  {
   "cell_type": "code",
   "execution_count": 8,
   "metadata": {},
   "outputs": [],
   "source": [
    "def print_ok(): \n",
    "    \"\"\"  Пример  функции  без  \n",
    "            параметров  \"\"\" \n",
    "    print(\"Сообщение при удачно выполненной операции\") \n",
    "    \n",
    "def echo(m): \n",
    "    \"\"\"  Пример функции с параметром \"\"\" \n",
    "    print(m) \n",
    "    \n",
    "def summa(x, у): \n",
    "    \"\"\"  Пример функции с параметрами, \n",
    "    возвращающей сумму двух переменных\"\"\"\n",
    "    return x + у\n",
    "\n",
    "def pow2(x, у): \n",
    "    \"\"\"  Пример функции с параметрами, \n",
    "    возвращающей значение х в степени y\"\"\"\n",
    "    return x ** у"
   ]
  },
  {
   "cell_type": "code",
   "execution_count": 9,
   "metadata": {},
   "outputs": [
    {
     "name": "stdout",
     "output_type": "stream",
     "text": [
      "Сообщение при удачно выполненной операции\n"
     ]
    }
   ],
   "source": [
    "print_ok()"
   ]
  },
  {
   "cell_type": "code",
   "execution_count": 10,
   "metadata": {},
   "outputs": [
    {
     "name": "stdout",
     "output_type": "stream",
     "text": [
      "Сообщение\n"
     ]
    }
   ],
   "source": [
    "echo(\"Сообщение\")"
   ]
  },
  {
   "cell_type": "code",
   "execution_count": 11,
   "metadata": {},
   "outputs": [
    {
     "data": {
      "text/plain": [
       "7"
      ]
     },
     "execution_count": 11,
     "metadata": {},
     "output_type": "execute_result"
    }
   ],
   "source": [
    "x = summa(5, 2)\n",
    "x"
   ]
  },
  {
   "cell_type": "code",
   "execution_count": 13,
   "metadata": {},
   "outputs": [
    {
     "data": {
      "text/plain": [
       "50"
      ]
     },
     "execution_count": 13,
     "metadata": {},
     "output_type": "execute_result"
    }
   ],
   "source": [
    "y, x = 10, 40\n",
    "z = summa(y, x)\n",
    "z"
   ]
  },
  {
   "cell_type": "markdown",
   "metadata": {},
   "source": [
    "Имя переменной в вызове функции может не совпадать с именем переменной в определении функции. Кроме того, глобальные переменные х и у не конфликтуют с одноименными переменными в определении функции, т.к.  они расположены в разных областях видимости. Переменные, указанные в определении функции, являются **локальными** и доступны только внутри функции. "
   ]
  },
  {
   "cell_type": "code",
   "execution_count": 14,
   "metadata": {},
   "outputs": [
    {
     "data": {
      "text/plain": [
       "'string'"
      ]
     },
     "execution_count": 14,
     "metadata": {},
     "output_type": "execute_result"
    }
   ],
   "source": [
    "# в Python нет ограничений на тип значений передваемых в функцию:\n",
    "summa('str', 'ing')"
   ]
  },
  {
   "cell_type": "code",
   "execution_count": 15,
   "metadata": {},
   "outputs": [
    {
     "data": {
      "text/plain": [
       "[1, 3, 5, 7]"
      ]
     },
     "execution_count": 15,
     "metadata": {},
     "output_type": "execute_result"
    }
   ],
   "source": [
    "summa([1, 3], [5, 7])"
   ]
  },
  {
   "cell_type": "markdown",
   "metadata": {},
   "source": [
    "Все в языке Python является объектом, например, строки, списки и даже типы данных и функции.\n",
    "\n",
    "Инструкция `def`  создает объект, имеющий тиn  `function`,  и  сохраняет ссылку на  него  в  идентификаторе, указанном  nосле инструкции `def`. Таким образом, мы можем сохранить ссылку на функцию в  другой переменной. Для этого  название функции указывается без круглых скобок."
   ]
  },
  {
   "cell_type": "code",
   "execution_count": 16,
   "metadata": {},
   "outputs": [
    {
     "data": {
      "text/plain": [
       "30"
      ]
     },
     "execution_count": 16,
     "metadata": {},
     "output_type": "execute_result"
    }
   ],
   "source": [
    "f = summa\n",
    "v = f(10, 20)\n",
    "v"
   ]
  },
  {
   "cell_type": "code",
   "execution_count": 17,
   "metadata": {},
   "outputs": [
    {
     "data": {
      "text/plain": [
       "function"
      ]
     },
     "execution_count": 17,
     "metadata": {},
     "output_type": "execute_result"
    }
   ],
   "source": [
    "type(summa)"
   ]
  },
  {
   "cell_type": "code",
   "execution_count": 18,
   "metadata": {},
   "outputs": [
    {
     "data": {
      "text/plain": [
       "function"
      ]
     },
     "execution_count": 18,
     "metadata": {},
     "output_type": "execute_result"
    }
   ],
   "source": [
    "type(f)"
   ]
  },
  {
   "cell_type": "code",
   "execution_count": 19,
   "metadata": {},
   "outputs": [],
   "source": [
    "# функции в Python можно передавать в качестве аргументов других функций:\n",
    "def  func(fp,  а,  b): \n",
    "    \"\"\" Через переменную fp будет доступна ссылка на \n",
    "    функцию summa() \"\"\"\n",
    "    return fp(а, b)  #  Вызываем функцию summa()"
   ]
  },
  {
   "cell_type": "code",
   "execution_count": 20,
   "metadata": {},
   "outputs": [
    {
     "data": {
      "text/plain": [
       "30"
      ]
     },
     "execution_count": 20,
     "metadata": {},
     "output_type": "execute_result"
    }
   ],
   "source": [
    "func(summa, 10, 20)"
   ]
  },
  {
   "cell_type": "code",
   "execution_count": 23,
   "metadata": {},
   "outputs": [
    {
     "data": {
      "text/plain": [
       "30"
      ]
     },
     "execution_count": 23,
     "metadata": {},
     "output_type": "execute_result"
    }
   ],
   "source": [
    "func(f, 10, 20)"
   ]
  },
  {
   "cell_type": "code",
   "execution_count": 24,
   "metadata": {},
   "outputs": [],
   "source": [
    "def razn(a, b):\n",
    "    return a - b"
   ]
  },
  {
   "cell_type": "code",
   "execution_count": 25,
   "metadata": {},
   "outputs": [
    {
     "data": {
      "text/plain": [
       "-10"
      ]
     },
     "execution_count": 25,
     "metadata": {},
     "output_type": "execute_result"
    }
   ],
   "source": [
    "func(razn, 10, 20)"
   ]
  },
  {
   "cell_type": "markdown",
   "metadata": {},
   "source": [
    "Объекты функций nоддерживают множество __атрибутов__. Обратиться к атрибутам функции можно, указав атрибут nосле названия функции через точку. Наnример, через атрибут `__nаme__` можно получить название функции в  виде строки, через атрибут `__doc__` - строку документирования и т.д."
   ]
  },
  {
   "cell_type": "code",
   "execution_count": 26,
   "metadata": {},
   "outputs": [
    {
     "data": {
      "text/plain": [
       "'summa'"
      ]
     },
     "execution_count": 26,
     "metadata": {},
     "output_type": "execute_result"
    }
   ],
   "source": [
    "summa.__name__"
   ]
  },
  {
   "cell_type": "code",
   "execution_count": 27,
   "metadata": {},
   "outputs": [
    {
     "data": {
      "text/plain": [
       "'summa'"
      ]
     },
     "execution_count": 27,
     "metadata": {},
     "output_type": "execute_result"
    }
   ],
   "source": [
    "f.__name__"
   ]
  },
  {
   "cell_type": "markdown",
   "metadata": {},
   "source": [
    "Выведем  названия  всех  атрибутов функции с  nомощью встроенной функции dir():"
   ]
  },
  {
   "cell_type": "code",
   "execution_count": 13,
   "metadata": {},
   "outputs": [
    {
     "data": {
      "text/plain": [
       "['__annotations__',\n",
       " '__call__',\n",
       " '__class__',\n",
       " '__closure__',\n",
       " '__code__',\n",
       " '__defaults__',\n",
       " '__delattr__',\n",
       " '__dict__',\n",
       " '__dir__',\n",
       " '__doc__',\n",
       " '__eq__',\n",
       " '__format__',\n",
       " '__ge__',\n",
       " '__get__',\n",
       " '__getattribute__',\n",
       " '__globals__',\n",
       " '__gt__',\n",
       " '__hash__',\n",
       " '__init__',\n",
       " '__init_subclass__',\n",
       " '__kwdefaults__',\n",
       " '__le__',\n",
       " '__lt__',\n",
       " '__module__',\n",
       " '__name__',\n",
       " '__ne__',\n",
       " '__new__',\n",
       " '__qualname__',\n",
       " '__reduce__',\n",
       " '__reduce_ex__',\n",
       " '__repr__',\n",
       " '__setattr__',\n",
       " '__sizeof__',\n",
       " '__str__',\n",
       " '__subclasshook__']"
      ]
     },
     "execution_count": 13,
     "metadata": {},
     "output_type": "execute_result"
    }
   ],
   "source": [
    "dir(summa)"
   ]
  },
  {
   "cell_type": "markdown",
   "metadata": {},
   "source": [
    "# >"
   ]
  },
  {
   "cell_type": "markdown",
   "metadata": {},
   "source": [
    "---"
   ]
  },
  {
   "cell_type": "markdown",
   "metadata": {},
   "source": [
    "# Расположение определений функций <a class=\"anchor\" id=\"расположение-определений\"></a>\n",
    "* [к оглавлению](#разделы)"
   ]
  },
  {
   "cell_type": "markdown",
   "metadata": {},
   "source": [
    "Все инструкции в nрограмме на Python выnолняются nоследовательно сверху вниз. Это означает, что прежде чем использовать идентификатор в nрограмме, его необходимо предварительно определить, nрисвоив ему значение. Поэтому, __определение функции__ должно быть выполнено __перед вызовом функции__ (обычно это означает, что определение находится раньше вызова). "
   ]
  },
  {
   "cell_type": "code",
   "execution_count": 28,
   "metadata": {},
   "outputs": [
    {
     "ename": "NameError",
     "evalue": "name 'f2' is not defined",
     "output_type": "error",
     "traceback": [
      "\u001b[1;31m---------------------------------------------------------------------------\u001b[0m",
      "\u001b[1;31mNameError\u001b[0m                                 Traceback (most recent call last)",
      "\u001b[1;32m<ipython-input-28-08d6de4e1d83>\u001b[0m in \u001b[0;36m<module>\u001b[1;34m\u001b[0m\n\u001b[0;32m      1\u001b[0m \u001b[1;31m# неверно!\u001b[0m\u001b[1;33m\u001b[0m\u001b[1;33m\u001b[0m\u001b[1;33m\u001b[0m\u001b[0m\n\u001b[1;32m----> 2\u001b[1;33m \u001b[0mf2\u001b[0m\u001b[1;33m(\u001b[0m\u001b[1;33m)\u001b[0m\u001b[1;33m\u001b[0m\u001b[1;33m\u001b[0m\u001b[0m\n\u001b[0m\u001b[0;32m      3\u001b[0m \u001b[1;33m\u001b[0m\u001b[0m\n\u001b[0;32m      4\u001b[0m \u001b[1;32mdef\u001b[0m \u001b[0mf2\u001b[0m\u001b[1;33m(\u001b[0m\u001b[1;33m)\u001b[0m\u001b[1;33m:\u001b[0m\u001b[1;33m\u001b[0m\u001b[1;33m\u001b[0m\u001b[0m\n\u001b[0;32m      5\u001b[0m     \u001b[0mprint\u001b[0m\u001b[1;33m(\u001b[0m\u001b[1;34m'Функция f2!'\u001b[0m\u001b[1;33m)\u001b[0m\u001b[1;33m\u001b[0m\u001b[1;33m\u001b[0m\u001b[0m\n",
      "\u001b[1;31mNameError\u001b[0m: name 'f2' is not defined"
     ]
    }
   ],
   "source": [
    "# неверно!\n",
    "f2()\n",
    "\n",
    "def f2():\n",
    "    print('Функция f2!')"
   ]
  },
  {
   "cell_type": "code",
   "execution_count": 30,
   "metadata": {},
   "outputs": [
    {
     "name": "stdout",
     "output_type": "stream",
     "text": [
      "Функция f2!\n",
      "Функция f2!\n"
     ]
    }
   ],
   "source": [
    "for i in range(5):\n",
    "    if i > 2:\n",
    "        f2()\n",
    "    def f2():\n",
    "        print('Функция f2!')\n",
    "# работает т.к. определение функции было выполнено ранее, чем вызов        "
   ]
  },
  {
   "cell_type": "code",
   "execution_count": 31,
   "metadata": {},
   "outputs": [
    {
     "name": "stdout",
     "output_type": "stream",
     "text": [
      "Введите 1 для вызова первой функции:1\n",
      "Вызов первой функции\n"
     ]
    }
   ],
   "source": [
    "# Оnределение функции в зависимости от условия\n",
    "n = input(\"Введите 1 для вызова первой функции:\") \n",
    "n = n.rstrip(\"\\r\")\n",
    "if n == \"1\": \n",
    "    def echo(): \n",
    "        print(\"Вызов первой функции\") \n",
    "else: \n",
    "    def echo(): \n",
    "        print (\"Апьтернативная функция\") \n",
    "echo() # Вызываем функцию "
   ]
  },
  {
   "cell_type": "markdown",
   "metadata": {},
   "source": [
    "Инструкция `def` всего лишь присваивает ссылку на объект функции идентификатору, расположенному после ключевого слова def. Если определение одной функции встречается в программе несколько раз, то будет использоваться функция, которая расположена последней. "
   ]
  },
  {
   "cell_type": "markdown",
   "metadata": {},
   "source": [
    "# >"
   ]
  },
  {
   "cell_type": "markdown",
   "metadata": {},
   "source": [
    "---"
   ]
  },
  {
   "cell_type": "markdown",
   "metadata": {},
   "source": [
    "# Анонимные функции <a class=\"anchor\" id=\"анонимные-функции\"></a>\n",
    "* [к оглавлению](#разделы)"
   ]
  },
  {
   "cell_type": "markdown",
   "metadata": {},
   "source": [
    "Помимо обычных функций язык Python  позволяет использовать анонимные функции, которые называются __лямбда-функциями__. Анонимная функция описывается с помощью ключевого слова `lambda` по следующей схеме:\n",
    "\n",
    "`lamda [<Параметрl>[,  ... ,  <ПараметрN>]]:  <Возвращаемое  значение>`\n",
    "\n",
    "После ключевого слова `lambda` можно указать передаваемые параметры. В качестве параметра `<Возвращаемое  значение>`  указывается  __выражение__ (не составное!),  результат  выполнения  которого будет возвращен функцией.  \n",
    "\n",
    "Как видно из  схемы, у лямбда-функций нет имени.  По этой причине их и называют анонимными функциями. \n",
    "\n",
    "В  качестве  значения  __лямбда-функция  возвращает  ссылку  на  объект-функцию__, которую можно сохранить в переменной или передать в качестве параметра в другую функцию. Вызвать лямбда-функцию можно, как и обычную, с помощью круглых скобок, внутри которых расположены передаваемые параметры."
   ]
  },
  {
   "cell_type": "code",
   "execution_count": 32,
   "metadata": {},
   "outputs": [
    {
     "name": "stdout",
     "output_type": "stream",
     "text": [
      "30\n",
      "15\n",
      "45\n"
     ]
    }
   ],
   "source": [
    "fl = lambda: 10 + 20  # функция без nараметров \n",
    "f2 = lambda х, y:  х + y  # функция с двумя nараметрами \n",
    "f3 = lambda х, y, z: х + y + z  # функция с тремя nараметрами \n",
    "print(fl())\n",
    "print(f2(5, 10))\n",
    "print(f3(5, 10, 30))"
   ]
  },
  {
   "cell_type": "code",
   "execution_count": 34,
   "metadata": {},
   "outputs": [
    {
     "name": "stdout",
     "output_type": "stream",
     "text": [
      "['Единица2', 'Единый', 'единица1']\n",
      "['единица1', 'Единица2', 'Единый']\n"
     ]
    }
   ],
   "source": [
    "arr  =  [\"единица1\",  \"Единый\",  \"Единица2\"] \n",
    "arr.sort() \n",
    "print(arr)\n",
    "# распространенный пример использования лямбда-функций:\n",
    "arr.sort(key=lambda s: s.lower()) \n",
    "print(arr)"
   ]
  },
  {
   "cell_type": "code",
   "execution_count": 35,
   "metadata": {},
   "outputs": [],
   "source": [
    "ls = ['дыня', 'вишня', 'арбуз', 'яблоко', 'абрикос']"
   ]
  },
  {
   "cell_type": "code",
   "execution_count": 36,
   "metadata": {},
   "outputs": [
    {
     "data": {
      "text/plain": [
       "['абрикос', 'арбуз', 'вишня', 'дыня', 'яблоко']"
      ]
     },
     "execution_count": 36,
     "metadata": {},
     "output_type": "execute_result"
    }
   ],
   "source": [
    "sorted(ls)"
   ]
  },
  {
   "cell_type": "code",
   "execution_count": 15,
   "metadata": {
    "scrolled": true
   },
   "outputs": [
    {
     "data": {
      "text/plain": [
       "['дыня', 'вишня', 'арбуз', 'яблоко', 'абрикос']"
      ]
     },
     "execution_count": 15,
     "metadata": {},
     "output_type": "execute_result"
    }
   ],
   "source": [
    "sorted(ls, key=lambda s:len(s))"
   ]
  },
  {
   "cell_type": "code",
   "execution_count": 37,
   "metadata": {},
   "outputs": [
    {
     "data": {
      "text/plain": [
       "['дыня', 'вишня', 'арбуз', 'яблоко', 'абрикос']"
      ]
     },
     "execution_count": 37,
     "metadata": {},
     "output_type": "execute_result"
    }
   ],
   "source": [
    "sorted(ls, key=len)"
   ]
  },
  {
   "cell_type": "markdown",
   "metadata": {},
   "source": [
    "# >"
   ]
  },
  {
   "cell_type": "markdown",
   "metadata": {},
   "source": [
    "-----"
   ]
  },
  {
   "cell_type": "markdown",
   "metadata": {},
   "source": [
    "##  Необязательные параметры функций и сопоставление по ключам <a class=\"anchor\" id=\"необязательные-параметры\"></a>\n",
    "* [к оглавлению](#разделы)\n"
   ]
  },
  {
   "cell_type": "markdown",
   "metadata": {},
   "source": [
    "Чтобы  сделать  некоторые параметры  необязательными,  следует  в  определении  функции присвоить этому параметру начальное значение (значение по умолчанию)."
   ]
  },
  {
   "cell_type": "code",
   "execution_count": 38,
   "metadata": {},
   "outputs": [],
   "source": [
    "def summa(x, y=2):\n",
    "    return x + y"
   ]
  },
  {
   "cell_type": "code",
   "execution_count": 39,
   "metadata": {},
   "outputs": [
    {
     "data": {
      "text/plain": [
       "7"
      ]
     },
     "execution_count": 39,
     "metadata": {},
     "output_type": "execute_result"
    }
   ],
   "source": [
    "summa(5)"
   ]
  },
  {
   "cell_type": "code",
   "execution_count": 40,
   "metadata": {},
   "outputs": [
    {
     "data": {
      "text/plain": [
       "9"
      ]
     },
     "execution_count": 40,
     "metadata": {},
     "output_type": "execute_result"
    }
   ],
   "source": [
    "summa(5, 4)"
   ]
  },
  {
   "cell_type": "markdown",
   "metadata": {},
   "source": [
    "Синтаксис определения параметров функции не позволяет указывать параметры, не имеющие значений по умолчанию, после параметров со значениями по умолчанию."
   ]
  },
  {
   "cell_type": "code",
   "execution_count": 41,
   "metadata": {},
   "outputs": [
    {
     "ename": "SyntaxError",
     "evalue": "non-default argument follows default argument (<ipython-input-41-b8660933d718>, line 2)",
     "output_type": "error",
     "traceback": [
      "\u001b[1;36m  File \u001b[1;32m\"<ipython-input-41-b8660933d718>\"\u001b[1;36m, line \u001b[1;32m2\u001b[0m\n\u001b[1;33m    def bad(a, b=1, с):\u001b[0m\n\u001b[1;37m           ^\u001b[0m\n\u001b[1;31mSyntaxError\u001b[0m\u001b[1;31m:\u001b[0m non-default argument follows default argument\n"
     ]
    }
   ],
   "source": [
    "# ошибка:\n",
    "def bad(a, b=1, с):\n",
    "    return a + b + c"
   ]
  },
  {
   "cell_type": "markdown",
   "metadata": {},
   "source": [
    "Язык Python  nозволяет также передать значения в функцию, используя __сопоставление по ключам__.  Для этого при вызове функции nараметрам nрисваиваются значения. Последовательность указания параметров может быть nроизвольной. "
   ]
  },
  {
   "cell_type": "markdown",
   "metadata": {},
   "source": [
    "```python\n",
    "def summa(x, у): \n",
    "    \"\"\"  Пример функции с параметрами, \n",
    "    возвращающей  сумму двух  переменных\"\"\"\n",
    "    return x + у```"
   ]
  },
  {
   "cell_type": "code",
   "execution_count": 42,
   "metadata": {},
   "outputs": [
    {
     "data": {
      "text/plain": [
       "30"
      ]
     },
     "execution_count": 42,
     "metadata": {},
     "output_type": "execute_result"
    }
   ],
   "source": [
    "summa(y=10, x=20)"
   ]
  },
  {
   "cell_type": "markdown",
   "metadata": {},
   "source": [
    "Сопоставление по ключам очень удобно использовать, если функция имеет несколько необязательных параметров. В этом случае не нужно перечислять все значения, а достаточно присвоить значение нужному параметру."
   ]
  },
  {
   "cell_type": "code",
   "execution_count": 43,
   "metadata": {},
   "outputs": [],
   "source": [
    "def multi_summa(x=1, y=1, z=1):\n",
    "    return x + 10 * y + 100 * z"
   ]
  },
  {
   "cell_type": "code",
   "execution_count": 44,
   "metadata": {},
   "outputs": [
    {
     "data": {
      "text/plain": [
       "321"
      ]
     },
     "execution_count": 44,
     "metadata": {},
     "output_type": "execute_result"
    }
   ],
   "source": [
    "multi_summa(1, 2, 3)"
   ]
  },
  {
   "cell_type": "code",
   "execution_count": 45,
   "metadata": {},
   "outputs": [
    {
     "data": {
      "text/plain": [
       "121"
      ]
     },
     "execution_count": 45,
     "metadata": {},
     "output_type": "execute_result"
    }
   ],
   "source": [
    "multi_summa(1, 2)"
   ]
  },
  {
   "cell_type": "code",
   "execution_count": 46,
   "metadata": {},
   "outputs": [
    {
     "data": {
      "text/plain": [
       "115"
      ]
     },
     "execution_count": 46,
     "metadata": {},
     "output_type": "execute_result"
    }
   ],
   "source": [
    "multi_summa(5)"
   ]
  },
  {
   "cell_type": "code",
   "execution_count": 47,
   "metadata": {},
   "outputs": [
    {
     "data": {
      "text/plain": [
       "111"
      ]
     },
     "execution_count": 47,
     "metadata": {},
     "output_type": "execute_result"
    }
   ],
   "source": [
    "multi_summa()"
   ]
  },
  {
   "cell_type": "code",
   "execution_count": 48,
   "metadata": {},
   "outputs": [
    {
     "data": {
      "text/plain": [
       "311"
      ]
     },
     "execution_count": 48,
     "metadata": {},
     "output_type": "execute_result"
    }
   ],
   "source": [
    "multi_summa(z=3)"
   ]
  },
  {
   "cell_type": "markdown",
   "metadata": {},
   "source": [
    "Значения по умолчанию создаются на этапе выполнения инструкции `def` (то есть в момент создания функции), а не в момент \n",
    "ее вызова. Для неизменяемых аргументов, таких как строки или числа, это не имеет никакого значения, но, при использовании изменяемых аргументов в качестве значения по умолчанию, может появиться труднообнаружимая проблема."
   ]
  },
  {
   "cell_type": "code",
   "execution_count": 49,
   "metadata": {},
   "outputs": [],
   "source": [
    "def append_if_even(x, lst=[]): # ОШИБКА! \n",
    "    if x % 2 == 0: \n",
    "        lst.append(x) \n",
    "    return lst "
   ]
  },
  {
   "cell_type": "code",
   "execution_count": 50,
   "metadata": {},
   "outputs": [
    {
     "data": {
      "text/plain": [
       "[2]"
      ]
     },
     "execution_count": 50,
     "metadata": {},
     "output_type": "execute_result"
    }
   ],
   "source": [
    "append_if_even(2)"
   ]
  },
  {
   "cell_type": "code",
   "execution_count": 51,
   "metadata": {},
   "outputs": [
    {
     "data": {
      "text/plain": [
       "[2, 4]"
      ]
     },
     "execution_count": 51,
     "metadata": {},
     "output_type": "execute_result"
    }
   ],
   "source": [
    "append_if_even(4)"
   ]
  },
  {
   "cell_type": "code",
   "execution_count": 52,
   "metadata": {},
   "outputs": [],
   "source": [
    "# пример решения задачи без ошибки:\n",
    "def append_if_even(x, lst=None):\n",
    "    if lst is None:\n",
    "        lst = []\n",
    "    if x % 2 == 0: \n",
    "        lst.append(x) \n",
    "    return lst "
   ]
  },
  {
   "cell_type": "code",
   "execution_count": 53,
   "metadata": {},
   "outputs": [
    {
     "data": {
      "text/plain": [
       "[2]"
      ]
     },
     "execution_count": 53,
     "metadata": {},
     "output_type": "execute_result"
    }
   ],
   "source": [
    "append_if_even(2)"
   ]
  },
  {
   "cell_type": "code",
   "execution_count": 54,
   "metadata": {
    "scrolled": true
   },
   "outputs": [
    {
     "data": {
      "text/plain": [
       "[4]"
      ]
     },
     "execution_count": 54,
     "metadata": {},
     "output_type": "execute_result"
    }
   ],
   "source": [
    "append_if_even(4)"
   ]
  },
  {
   "cell_type": "markdown",
   "metadata": {},
   "source": [
    "# >"
   ]
  },
  {
   "cell_type": "markdown",
   "metadata": {},
   "source": [
    "----"
   ]
  },
  {
   "cell_type": "markdown",
   "metadata": {},
   "source": [
    "# Возвращение нескольких значений из функции <a class=\"anchor\" id=\"несколько-значений\"></a>\n",
    "* [к оглавлению](#разделы)"
   ]
  },
  {
   "cell_type": "code",
   "execution_count": 78,
   "metadata": {},
   "outputs": [],
   "source": [
    "def min_med_max(l):\n",
    "    \"Возвращает минимальное, медианное и максимальное значение итерируемого объекта (списка)\"\n",
    "    ls = sorted(l)\n",
    "    l_min = ls[0]\n",
    "    l_max = ls[-1]\n",
    "    l_med = ls[len(ls)//2]\n",
    "    return l_min, l_med, l_max # удобный синтаксис для запаковки результатов в кортеж"
   ]
  },
  {
   "cell_type": "code",
   "execution_count": 83,
   "metadata": {},
   "outputs": [
    {
     "data": {
      "text/plain": [
       "(1, 7, 100)"
      ]
     },
     "execution_count": 83,
     "metadata": {},
     "output_type": "execute_result"
    }
   ],
   "source": [
    "min_med_max([3, 1, 100, 11, 7])"
   ]
  },
  {
   "cell_type": "code",
   "execution_count": 80,
   "metadata": {},
   "outputs": [],
   "source": [
    "# распаковка кортежа, возвращаемого функцией:\n",
    "min1, med1, max1 = min_med_max([3, 1, 100, 11, 7])"
   ]
  },
  {
   "cell_type": "code",
   "execution_count": 81,
   "metadata": {},
   "outputs": [
    {
     "name": "stdout",
     "output_type": "stream",
     "text": [
      "min1: 1, med1: 7, max1: 100\n"
     ]
    }
   ],
   "source": [
    "print(f'min1: {min1}, med1: {med1}, max1: {max1}')"
   ]
  },
  {
   "cell_type": "code",
   "execution_count": 82,
   "metadata": {},
   "outputs": [
    {
     "data": {
      "text/plain": [
       "(1, 7, 100)"
      ]
     },
     "execution_count": 82,
     "metadata": {},
     "output_type": "execute_result"
    }
   ],
   "source": [
    "all_res = min_med_max([3, 1, 100, 11, 7])\n",
    "all_res"
   ]
  },
  {
   "cell_type": "markdown",
   "metadata": {},
   "source": [
    "## Распаковка и запаковка параметров функции <a class=\"anchor\" id=\"распаковка-параметров\"></a>\n",
    "* [к оглавлению](#разделы)"
   ]
  },
  {
   "cell_type": "markdown",
   "metadata": {},
   "source": [
    "Если значения параметров, которые планируется передать в  функцию, содержатся в  кортеже или списке, то перед объектом следует указать символ `*` . "
   ]
  },
  {
   "cell_type": "code",
   "execution_count": 85,
   "metadata": {},
   "outputs": [],
   "source": [
    "t1 = (5, 10 ,15)\n",
    "t2 = [25, 35, 45]\n",
    "t3 = (5, 10 ,15, 20)"
   ]
  },
  {
   "cell_type": "code",
   "execution_count": 86,
   "metadata": {},
   "outputs": [
    {
     "data": {
      "text/plain": [
       "1605"
      ]
     },
     "execution_count": 86,
     "metadata": {},
     "output_type": "execute_result"
    }
   ],
   "source": [
    "# неудобный способ передачи параметров:\n",
    "multi_summa(t1[0], t1[1], t1[2])"
   ]
  },
  {
   "cell_type": "code",
   "execution_count": 87,
   "metadata": {},
   "outputs": [
    {
     "data": {
      "text/plain": [
       "1605"
      ]
     },
     "execution_count": 87,
     "metadata": {},
     "output_type": "execute_result"
    }
   ],
   "source": [
    "# распаковка (картеж распаковывается в позиционные аргументы):\n",
    "multi_summa(*t1)"
   ]
  },
  {
   "cell_type": "code",
   "execution_count": 88,
   "metadata": {},
   "outputs": [
    {
     "data": {
      "text/plain": [
       "4875"
      ]
     },
     "execution_count": 88,
     "metadata": {},
     "output_type": "execute_result"
    }
   ],
   "source": [
    "multi_summa(*t2)"
   ]
  },
  {
   "cell_type": "code",
   "execution_count": 89,
   "metadata": {},
   "outputs": [
    {
     "ename": "TypeError",
     "evalue": "multi_summa() takes from 0 to 3 positional arguments but 4 were given",
     "output_type": "error",
     "traceback": [
      "\u001b[1;31m---------------------------------------------------------------------------\u001b[0m",
      "\u001b[1;31mTypeError\u001b[0m                                 Traceback (most recent call last)",
      "\u001b[1;32m<ipython-input-89-22606a357499>\u001b[0m in \u001b[0;36m<module>\u001b[1;34m\u001b[0m\n\u001b[0;32m      1\u001b[0m \u001b[1;31m# Ошибка! количество передаваемых параметров\u001b[0m\u001b[1;33m\u001b[0m\u001b[1;33m\u001b[0m\u001b[1;33m\u001b[0m\u001b[0m\n\u001b[0;32m      2\u001b[0m \u001b[1;31m# должно равняться количеству объявленных в функции параметров:\u001b[0m\u001b[1;33m\u001b[0m\u001b[1;33m\u001b[0m\u001b[1;33m\u001b[0m\u001b[0m\n\u001b[1;32m----> 3\u001b[1;33m \u001b[0mmulti_summa\u001b[0m\u001b[1;33m(\u001b[0m\u001b[1;33m*\u001b[0m\u001b[0mt3\u001b[0m\u001b[1;33m)\u001b[0m\u001b[1;33m\u001b[0m\u001b[1;33m\u001b[0m\u001b[0m\n\u001b[0m",
      "\u001b[1;31mTypeError\u001b[0m: multi_summa() takes from 0 to 3 positional arguments but 4 were given"
     ]
    }
   ],
   "source": [
    "# Ошибка! количество передаваемых параметров \n",
    "# должно равняться количеству объявленных в функции параметров:\n",
    "multi_summa(*t3)"
   ]
  },
  {
   "cell_type": "code",
   "execution_count": 90,
   "metadata": {},
   "outputs": [
    {
     "data": {
      "text/plain": [
       "1605"
      ]
     },
     "execution_count": 90,
     "metadata": {},
     "output_type": "execute_result"
    }
   ],
   "source": [
    "# решение проблемы:\n",
    "multi_summa(*t3[:3])"
   ]
  },
  {
   "cell_type": "markdown",
   "metadata": {},
   "source": [
    "Если значения параметров содержатся в словаре, то распаковать словарь можно, указав перед ним две звездочки \\*\\* :"
   ]
  },
  {
   "cell_type": "code",
   "execution_count": 91,
   "metadata": {},
   "outputs": [],
   "source": [
    "d1 = {'x': 11, 'y': 12, 'z': 13}"
   ]
  },
  {
   "cell_type": "code",
   "execution_count": 92,
   "metadata": {},
   "outputs": [
    {
     "data": {
      "text/plain": [
       "1431"
      ]
     },
     "execution_count": 92,
     "metadata": {},
     "output_type": "execute_result"
    }
   ],
   "source": [
    "multi_summa(x=d1['x'], y=d1['y'], z=d1['z'])"
   ]
  },
  {
   "cell_type": "code",
   "execution_count": 93,
   "metadata": {},
   "outputs": [
    {
     "data": {
      "text/plain": [
       "1431"
      ]
     },
     "execution_count": 93,
     "metadata": {},
     "output_type": "execute_result"
    }
   ],
   "source": [
    "multi_summa(**d1)"
   ]
  },
  {
   "cell_type": "code",
   "execution_count": 74,
   "metadata": {},
   "outputs": [
    {
     "data": {
      "text/plain": [
       "-210"
      ]
     },
     "execution_count": 74,
     "metadata": {},
     "output_type": "execute_result"
    }
   ],
   "source": [
    "t3 = [0, -1]\n",
    "d2 = {'z': -2}\n",
    "# сначала позиционные параметры, потом пары имя - значение:\n",
    "multi_summa(*t3, **d2)"
   ]
  },
  {
   "cell_type": "markdown",
   "metadata": {},
   "source": [
    "Переменное число параметров в функции"
   ]
  },
  {
   "cell_type": "code",
   "execution_count": 94,
   "metadata": {},
   "outputs": [
    {
     "name": "stdout",
     "output_type": "stream",
     "text": [
      "1 3 5 val\n"
     ]
    }
   ],
   "source": [
    "print(1, 3, 5, 'val')"
   ]
  },
  {
   "cell_type": "code",
   "execution_count": 95,
   "metadata": {},
   "outputs": [],
   "source": [
    "# упаковка последовательности параметров в параметр-кортеж:\n",
    "def all_summa(*t): \n",
    "    \"\"\"Функция принимает произвольное количество параметров\"\"\" \n",
    "#     print(type(t)) # проверка типа параметра\n",
    "    res = 0\n",
    "    for i in t: \n",
    "        res += i \n",
    "    return  res "
   ]
  },
  {
   "cell_type": "code",
   "execution_count": 96,
   "metadata": {},
   "outputs": [
    {
     "data": {
      "text/plain": [
       "150"
      ]
     },
     "execution_count": 96,
     "metadata": {},
     "output_type": "execute_result"
    }
   ],
   "source": [
    "all_summa(10, 20, 30, 40, 50)"
   ]
  },
  {
   "cell_type": "code",
   "execution_count": 97,
   "metadata": {},
   "outputs": [
    {
     "data": {
      "text/plain": [
       "280"
      ]
     },
     "execution_count": 97,
     "metadata": {},
     "output_type": "execute_result"
    }
   ],
   "source": [
    "t4 = [10, 20, 30, 40, 50, 60, 70]\n",
    "# одновременная распаковка (t4) и упаковка (в параметр функции t):\n",
    "all_summa(*t4)"
   ]
  },
  {
   "cell_type": "code",
   "execution_count": 98,
   "metadata": {},
   "outputs": [
    {
     "ename": "TypeError",
     "evalue": "unsupported operand type(s) for +=: 'int' and 'list'",
     "output_type": "error",
     "traceback": [
      "\u001b[1;31m---------------------------------------------------------------------------\u001b[0m",
      "\u001b[1;31mTypeError\u001b[0m                                 Traceback (most recent call last)",
      "\u001b[1;32m<ipython-input-98-7394efbb6a08>\u001b[0m in \u001b[0;36m<module>\u001b[1;34m\u001b[0m\n\u001b[1;32m----> 1\u001b[1;33m \u001b[0mall_summa\u001b[0m\u001b[1;33m(\u001b[0m\u001b[0mt4\u001b[0m\u001b[1;33m)\u001b[0m\u001b[1;33m\u001b[0m\u001b[1;33m\u001b[0m\u001b[0m\n\u001b[0m",
      "\u001b[1;32m<ipython-input-95-7166c714d171>\u001b[0m in \u001b[0;36mall_summa\u001b[1;34m(*t)\u001b[0m\n\u001b[0;32m      5\u001b[0m     \u001b[0mres\u001b[0m \u001b[1;33m=\u001b[0m \u001b[1;36m0\u001b[0m\u001b[1;33m\u001b[0m\u001b[1;33m\u001b[0m\u001b[0m\n\u001b[0;32m      6\u001b[0m     \u001b[1;32mfor\u001b[0m \u001b[0mi\u001b[0m \u001b[1;32min\u001b[0m \u001b[0mt\u001b[0m\u001b[1;33m:\u001b[0m\u001b[1;33m\u001b[0m\u001b[1;33m\u001b[0m\u001b[0m\n\u001b[1;32m----> 7\u001b[1;33m         \u001b[0mres\u001b[0m \u001b[1;33m+=\u001b[0m \u001b[0mi\u001b[0m\u001b[1;33m\u001b[0m\u001b[1;33m\u001b[0m\u001b[0m\n\u001b[0m\u001b[0;32m      8\u001b[0m     \u001b[1;32mreturn\u001b[0m  \u001b[0mres\u001b[0m\u001b[1;33m\u001b[0m\u001b[1;33m\u001b[0m\u001b[0m\n",
      "\u001b[1;31mTypeError\u001b[0m: unsupported operand type(s) for +=: 'int' and 'list'"
     ]
    }
   ],
   "source": [
    "all_summa(t4)"
   ]
  },
  {
   "cell_type": "markdown",
   "metadata": {},
   "source": [
    "Если перед параметром в  определении функции указать две звездочки `**`, то все  именованные параметры будут сохранены в словаре."
   ]
  },
  {
   "cell_type": "code",
   "execution_count": 99,
   "metadata": {},
   "outputs": [],
   "source": [
    "def d_summa(**d): \n",
    "    for k, v in d.items():  #  Перебираем словарь с переданными параметрами \n",
    "        print(f\"{k} => {v}\", end=\"; \") "
   ]
  },
  {
   "cell_type": "code",
   "execution_count": 100,
   "metadata": {},
   "outputs": [
    {
     "name": "stdout",
     "output_type": "stream",
     "text": [
      "a => 1; x => 10; z => -2; "
     ]
    }
   ],
   "source": [
    "d_summa(a=1, x=10, z=-2)"
   ]
  },
  {
   "cell_type": "code",
   "execution_count": 59,
   "metadata": {
    "scrolled": false
   },
   "outputs": [
    {
     "name": "stdout",
     "output_type": "stream",
     "text": [
      "f => 3; g => 4; e => 5; "
     ]
    }
   ],
   "source": [
    "d3 = {'f': 3, 'g': 4, 'e': 5}\n",
    "d_summa(**d3)"
   ]
  },
  {
   "cell_type": "markdown",
   "metadata": {},
   "source": [
    "При комбинировании  параметров  параметр с  двумя звездочками указывается  самым последним. "
   ]
  },
  {
   "cell_type": "code",
   "execution_count": 101,
   "metadata": {},
   "outputs": [],
   "source": [
    "def c_summa(*t, **d): \n",
    "    for v in t: \n",
    "        print(v, end=\"; \") \n",
    "    for k, v in d.items(): \n",
    "        print(f\"{k} => {v}\", end=\"; \") "
   ]
  },
  {
   "cell_type": "code",
   "execution_count": 102,
   "metadata": {},
   "outputs": [
    {
     "name": "stdout",
     "output_type": "stream",
     "text": [
      "10; 20; 30; 42; a => 1; b => 2; "
     ]
    }
   ],
   "source": [
    "c_summa(10, 20, 30, 42, a=1, b=2)"
   ]
  },
  {
   "cell_type": "code",
   "execution_count": 62,
   "metadata": {},
   "outputs": [
    {
     "name": "stdout",
     "output_type": "stream",
     "text": [
      "10; 20; 30; 40; 50; 60; 70; f => 3; g => 4; e => 5; "
     ]
    }
   ],
   "source": [
    "c_summa(*t4, **d3)"
   ]
  },
  {
   "cell_type": "markdown",
   "metadata": {},
   "source": [
    "# >"
   ]
  },
  {
   "cell_type": "markdown",
   "metadata": {},
   "source": [
    "------"
   ]
  },
  {
   "cell_type": "markdown",
   "metadata": {},
   "source": [
    "# Аннотации и документирование функций <a class=\"anchor\" id=\"аннотации\"></a>\n",
    "* [к оглавлению](#разделы)"
   ]
  },
  {
   "cell_type": "code",
   "execution_count": 103,
   "metadata": {},
   "outputs": [],
   "source": [
    "def echo(m): \n",
    "    \"\"\"  Пример функции с параметром \"\"\" \n",
    "    print(m) "
   ]
  },
  {
   "cell_type": "code",
   "execution_count": 105,
   "metadata": {},
   "outputs": [],
   "source": [
    "?echo"
   ]
  },
  {
   "cell_type": "code",
   "execution_count": 104,
   "metadata": {},
   "outputs": [
    {
     "name": "stdout",
     "output_type": "stream",
     "text": [
      "Help on function echo in module __main__:\n",
      "\n",
      "echo(m)\n",
      "    Пример функции с параметром\n",
      "\n"
     ]
    }
   ],
   "source": [
    "help(echo)"
   ]
  },
  {
   "cell_type": "code",
   "execution_count": 107,
   "metadata": {
    "scrolled": true
   },
   "outputs": [
    {
     "data": {
      "text/plain": [
       "'  Пример функции с параметром '"
      ]
     },
     "execution_count": 107,
     "metadata": {},
     "output_type": "execute_result"
    }
   ],
   "source": [
    "echo.__doc__"
   ]
  },
  {
   "cell_type": "code",
   "execution_count": 108,
   "metadata": {},
   "outputs": [],
   "source": [
    "summa.__doc__"
   ]
  },
  {
   "cell_type": "markdown",
   "metadata": {},
   "source": [
    "Среди разработчиков на Python популярно несколько форматов документирования функции в docstring:\n",
    "\n",
    "\n",
    "__reST__\n",
    "\n",
    "Возможно наиболее распространенный стиль. Формат используется инструментом __Sphinx__ (https://www.sphinx-doc.org/en/master/) для генерации документации. Этот формат по умолчанию используется IDE PyCharm.\n",
    "\n",
    "_Пример:_\n",
    "```python\n",
    "\"\"\"\n",
    "This is a reST style.\n",
    "\n",
    ":param param1: this is a first param\n",
    ":param param2: this is a second param\n",
    ":returns: this is a description of what is returned\n",
    ":raises keyError: raises an exception\n",
    "\"\"\"\n",
    "```\n",
    "\n",
    "__Google__\n",
    "\n",
    "Компания Google поддерживает собственный формат комментариев функций. Он тоже может использоваться инструментом Sphinx (необходимо использование плагина Napoleon).\n",
    "\n",
    "_Пример:_\n",
    "```python\n",
    "\"\"\"\n",
    "This is an example of Google style.\n",
    "\n",
    "Args:\n",
    "    param1: This is the first param.\n",
    "    param2: This is a second param.\n",
    "\n",
    "Returns:\n",
    "    This is a description of what is returned.\n",
    "\n",
    "Raises:\n",
    "    KeyError: Raises an exception.\n",
    "\"\"\"\n",
    "```\n",
    "\n",
    "__Numpydoc__\n",
    "\n",
    "Библиотека NumPy рекомендует использовать собственный стиль описания функций (базируется на стиле Google и может использоватьс в Sphinx).\n",
    "\n",
    "_Пример:_\n",
    "```python\n",
    "\"\"\"\n",
    "My numpydoc description of a kind\n",
    "of very exhautive numpydoc format docstring.\n",
    "\n",
    "Parameters\n",
    "----------\n",
    "first : array_like\n",
    "    the 1st param name `first`\n",
    "second :\n",
    "    the 2nd param\n",
    "third : {'value', 'other'}, optional\n",
    "    the 3rd param, by default 'value'\n",
    "\n",
    "Returns\n",
    "-------\n",
    "string\n",
    "    a value in a string\n",
    "\n",
    "Raises\n",
    "------\n",
    "KeyError\n",
    "    when a key error\n",
    "OtherError\n",
    "    when an other error\n",
    "\"\"\"\n",
    "```\n",
    "\n",
    "__Epytext__\n",
    "\n",
    "Стиль поддерживаемый инструментом для генерации документации Epydoc (http://epydoc.sourceforge.net) называется форматом Epytext format.\n",
    " \n",
    "_Пример:_\n",
    "```python\n",
    "\"\"\"\n",
    "This is a javadoc style.\n",
    "\n",
    "@param param1: this is a first param\n",
    "@param param2: this is a second param\n",
    "@return: this is a description of what is returned\n",
    "@raise keyError: raises an exception\n",
    "\"\"\"\n",
    "```"
   ]
  },
  {
   "cell_type": "markdown",
   "metadata": {},
   "source": [
    "__Аннотации типов__ (type hints) просто считываются интерпретатором Python и никак более не обрабатываются, но доступны для использования из стороннего кода и упрощают работу:\n",
    "* статических анализаторов;\n",
    "* интегрированных сред разработки (IDE);\n",
    "* по документированию кода.\n",
    "\n",
    "Применение аннотаций позволяет:\n",
    "* быстрее обнаруживать ошибки\n",
    "* повышает эффективность использования IDE\n",
    "* упрощает разработку в больших проектах\n",
    "\n",
    "Подробнее см.:\n",
    "* https://mypy.readthedocs.io/en/stable/cheat_sheet_py3.html\n",
    "* https://docs.python.org/3/library/typing.html"
   ]
  },
  {
   "cell_type": "code",
   "execution_count": 109,
   "metadata": {},
   "outputs": [],
   "source": [
    "from typing import Callable, Iterator, Iterable, Mapping, Union, Optional, Tuple, List, Dict, Any\n",
    "from typing import get_type_hints\n",
    "import __main__"
   ]
  },
  {
   "cell_type": "markdown",
   "metadata": {},
   "source": [
    "Простые примеры аннотации функций:"
   ]
  },
  {
   "cell_type": "code",
   "execution_count": 110,
   "metadata": {},
   "outputs": [],
   "source": [
    "# аннотация для аргумента и возвращаемого значения:\n",
    "def stringify(num: int) -> str:\n",
    "    return str(num)\n",
    "\n",
    "# аннотация для функции многих аргументов:\n",
    "def plus(num1: int, num2: int) -> int:\n",
    "    return num1 + num2\n",
    "\n",
    "# аннотация для функций с несколькими параметрами:\n",
    "def f(num1: int, my_float: float = 3.5) -> float:\n",
    "    return num1 + my_float"
   ]
  },
  {
   "cell_type": "code",
   "execution_count": 111,
   "metadata": {},
   "outputs": [
    {
     "data": {
      "text/plain": [
       "{'num': int, 'return': str}"
      ]
     },
     "execution_count": 111,
     "metadata": {},
     "output_type": "execute_result"
    }
   ],
   "source": [
    "# получение аннотации функции:\n",
    "stringify.__annotations__"
   ]
  },
  {
   "cell_type": "markdown",
   "metadata": {},
   "source": [
    "Аннотации можно использовать не только для параметров функций, но и для переменных:"
   ]
  },
  {
   "cell_type": "code",
   "execution_count": 113,
   "metadata": {},
   "outputs": [],
   "source": [
    "li1: List[int] = [1, 2]"
   ]
  },
  {
   "cell_type": "code",
   "execution_count": 114,
   "metadata": {},
   "outputs": [],
   "source": [
    "di1: Dict[str, float] = {'length': 10.0, 'width': 100.0}"
   ]
  },
  {
   "cell_type": "code",
   "execution_count": 115,
   "metadata": {},
   "outputs": [],
   "source": [
    "tu1: Tuple[str, float, float] = (\"rect\", 10.0, 100.0)"
   ]
  },
  {
   "cell_type": "code",
   "execution_count": 116,
   "metadata": {},
   "outputs": [],
   "source": [
    "# аннтация переменной, которая может указывать на кортежа разного размера\n",
    "tu1: Tuple[int, ...] = (1, 2, 3) "
   ]
  },
  {
   "cell_type": "code",
   "execution_count": 117,
   "metadata": {},
   "outputs": [],
   "source": [
    "# можно даже проаннотировать не инициализированную переменную:\n",
    "wo_init: str"
   ]
  },
  {
   "cell_type": "code",
   "execution_count": 118,
   "metadata": {},
   "outputs": [
    {
     "data": {
      "text/plain": [
       "{'li1': typing.List[int],\n",
       " 'di1': typing.Dict[str, float],\n",
       " 'tu1': typing.Tuple[int, ...],\n",
       " 'wo_init': str}"
      ]
     },
     "execution_count": 118,
     "metadata": {},
     "output_type": "execute_result"
    }
   ],
   "source": [
    "# получение аннотаций переменных текущего модуля:\n",
    "get_type_hints(__main__)"
   ]
  },
  {
   "cell_type": "markdown",
   "metadata": {},
   "source": [
    "Более сложные варианты:"
   ]
  },
  {
   "cell_type": "code",
   "execution_count": 144,
   "metadata": {},
   "outputs": [],
   "source": [
    "# Union используется если что-то может относиться к нескольким типам:\n",
    "x: List[Union[int, str]] = [3, 5, \"test\", \"fun\"]"
   ]
  },
  {
   "cell_type": "code",
   "execution_count": 119,
   "metadata": {},
   "outputs": [],
   "source": [
    "# Optional[X] эквивалентно: Union[X, None]\n",
    "st1: Optional[str] = None"
   ]
  },
  {
   "cell_type": "code",
   "execution_count": 120,
   "metadata": {},
   "outputs": [],
   "source": [
    "st1 = 'My string'"
   ]
  },
  {
   "cell_type": "code",
   "execution_count": 121,
   "metadata": {},
   "outputs": [],
   "source": [
    "def mystery_function():\n",
    "    return None"
   ]
  },
  {
   "cell_type": "code",
   "execution_count": 122,
   "metadata": {},
   "outputs": [],
   "source": [
    "# Аннотация Any для случая, когда тип неизвестен или слишком \"динамичен\":\n",
    "x: Any = mystery_function()"
   ]
  },
  {
   "cell_type": "markdown",
   "metadata": {},
   "source": [
    "Аннотация функций работающих с контейнерами:"
   ]
  },
  {
   "cell_type": "code",
   "execution_count": 123,
   "metadata": {},
   "outputs": [],
   "source": [
    "def scale(scalar: float, vector: List[float]) -> List[float]:\n",
    "    return [scalar * num for num in vector]\n",
    "\n",
    "new_vector = scale(2.0, [1.0, -4.2, 5.4])"
   ]
  },
  {
   "cell_type": "code",
   "execution_count": 124,
   "metadata": {},
   "outputs": [
    {
     "data": {
      "text/plain": [
       "{'scalar': float, 'vector': typing.List[float], 'return': typing.List[float]}"
      ]
     },
     "execution_count": 124,
     "metadata": {},
     "output_type": "execute_result"
    }
   ],
   "source": [
    "scale.__annotations__"
   ]
  },
  {
   "cell_type": "markdown",
   "metadata": {},
   "source": [
    "Определение собственных типов для аннотации:"
   ]
  },
  {
   "cell_type": "code",
   "execution_count": 125,
   "metadata": {},
   "outputs": [],
   "source": [
    "Vector = List[float]\n",
    "\n",
    "def scale2(scalar: float, vector: Vector) -> Vector:\n",
    "    return [scalar * num for num in vector]\n",
    "\n",
    "new_vector = scale2(2.0, [1.0, -4.2, 5.4])"
   ]
  },
  {
   "cell_type": "code",
   "execution_count": 128,
   "metadata": {},
   "outputs": [
    {
     "data": {
      "text/plain": [
       "{'scalar': float, 'vector': typing.List[float], 'return': typing.List[float]}"
      ]
     },
     "execution_count": 128,
     "metadata": {},
     "output_type": "execute_result"
    }
   ],
   "source": [
    "scale2.__annotations__"
   ]
  },
  {
   "cell_type": "code",
   "execution_count": 129,
   "metadata": {},
   "outputs": [
    {
     "ename": "SyntaxError",
     "evalue": "invalid syntax (<ipython-input-129-519fdc4bb7cd>, line 1)",
     "output_type": "error",
     "traceback": [
      "\u001b[1;36m  File \u001b[1;32m\"<ipython-input-129-519fdc4bb7cd>\"\u001b[1;36m, line \u001b[1;32m1\u001b[0m\n\u001b[1;33m    Более сложные типы аннотаций:\u001b[0m\n\u001b[1;37m                ^\u001b[0m\n\u001b[1;31mSyntaxError\u001b[0m\u001b[1;31m:\u001b[0m invalid syntax\n"
     ]
    }
   ],
   "source": [
    "Более сложные типы аннотаций:"
   ]
  },
  {
   "cell_type": "code",
   "execution_count": 130,
   "metadata": {},
   "outputs": [
    {
     "data": {
      "text/plain": [
       "['1', '2']"
      ]
     },
     "execution_count": 130,
     "metadata": {},
     "output_type": "execute_result"
    }
   ],
   "source": [
    "# Анотация Iterable используется для любых представителей \n",
    "# iterables (что-то что можно обойти с помощьюу \"for\"),\n",
    "# и Sequence (поддерживают \"len\" и \"__getitem__\") \n",
    "def f(ints: Iterable[int]) -> List[str]:\n",
    "    return [str(x) for x in ints]\n",
    "\n",
    "f(range(1, 3))"
   ]
  },
  {
   "cell_type": "code",
   "execution_count": 131,
   "metadata": {},
   "outputs": [],
   "source": [
    "# Mapping описывает объекты с интерфейсом словаря (имеющие \"__getitem__\") (для не поддерживающих изменения)\n",
    "# и для поддерживающих изменения: MutableMapping (имеющие и \"__getitem__\" и \"__setitem__\")\n",
    "def f(my_mapping: Mapping[int, str]) -> List[int]:\n",
    "#     my_mapping[5] = 'maybe'  # if we try this, mypy will throw an error...\n",
    "    return list(my_mapping.keys())"
   ]
  },
  {
   "cell_type": "markdown",
   "metadata": {},
   "source": [
    "----"
   ]
  },
  {
   "cell_type": "markdown",
   "metadata": {},
   "source": [
    "# >"
   ]
  },
  {
   "cell_type": "markdown",
   "metadata": {},
   "source": [
    "------"
   ]
  },
  {
   "cell_type": "markdown",
   "metadata": {},
   "source": [
    "#  Глобальные и локальные переменные <a class=\"anchor\" id=\"глобальные-локальные\"></a>\n",
    "* [к оглавлению](#разделы)"
   ]
  },
  {
   "cell_type": "markdown",
   "metadata": {},
   "source": [
    "### Передача параметров функций"
   ]
  },
  {
   "cell_type": "markdown",
   "metadata": {},
   "source": [
    "Объекты в  функцию передаются по ссылке. Если объект относится к  неизменяемому типу, то изменение значения внутри функции не затронет значение переменной вне функuии."
   ]
  },
  {
   "cell_type": "code",
   "execution_count": 132,
   "metadata": {},
   "outputs": [],
   "source": [
    "def change(a, b): \n",
    "    а = 20\n",
    "    b = 'str'"
   ]
  },
  {
   "cell_type": "code",
   "execution_count": 133,
   "metadata": {},
   "outputs": [
    {
     "name": "stdout",
     "output_type": "stream",
     "text": [
      "v1: 30\n",
      "v2: val\n"
     ]
    }
   ],
   "source": [
    "v1 = 30\n",
    "v2 = 'val'\n",
    "change(v1, v2)\n",
    "print(f'v1: {v1}')\n",
    "print(f'v2: {v2}')"
   ]
  },
  {
   "cell_type": "code",
   "execution_count": 134,
   "metadata": {},
   "outputs": [],
   "source": [
    "def change2(a): \n",
    "    a.append(10)"
   ]
  },
  {
   "cell_type": "code",
   "execution_count": 135,
   "metadata": {},
   "outputs": [
    {
     "data": {
      "text/plain": [
       "[1, 10]"
      ]
     },
     "execution_count": 135,
     "metadata": {},
     "output_type": "execute_result"
    }
   ],
   "source": [
    "s1 = [1]\n",
    "# изменяемый объект может быть неявно изменен внутри функции:\n",
    "change2(s1)\n",
    "s1"
   ]
  },
  {
   "cell_type": "markdown",
   "metadata": {},
   "source": [
    "##  Глобальные и локальные переменные"
   ]
  },
  {
   "cell_type": "markdown",
   "metadata": {},
   "source": [
    "__Глобальные  переменные__ - это  переменные,  объявленные  в  программе  вне  функции. В  Pythoп  глобальные  персменные видны  в  любой части  модуля,  включая функции."
   ]
  },
  {
   "cell_type": "code",
   "execution_count": 136,
   "metadata": {},
   "outputs": [
    {
     "name": "stdout",
     "output_type": "stream",
     "text": [
      "Значение глобальной nеременной glоb =  10\n",
      "Значение глобальной nеременной glоb2 =  5\n",
      "----Вход в функцию func_glob\n",
      "    Значение  глобальной nеременной glоb =  10\n",
      "    Значение  ЛОКАЛЬНОЙ nеременной glоb2 =  77\n",
      "    Значение  ЛОКАЛЬНОЙ переменной glob2 =  87\n",
      "----Выход из функции func_glob\n",
      "Значение глобальной nеременной glоb =  10\n",
      "Значение глобальной nеременной glоb2 =  5\n"
     ]
    }
   ],
   "source": [
    "def func_glob(glob2): \n",
    "    print(\"----Вход в функцию func_glob\")\n",
    "    print(\"    Значение  глобальной nеременной glоb = \",  glob)     \n",
    "    print(\"    Значение  ЛОКАЛЬНОЙ nеременной glоb2 = \",  glob2) \n",
    "    glob2 += 10 \n",
    "    print(\"    Значение  ЛОКАЛЬНОЙ переменной glob2 = \", glob2) \n",
    "    print(\"----Выход из функции func_glob\")    \n",
    "\n",
    "glob, glob2 = 10, 5 \n",
    "print(\"Значение глобальной nеременной glоb = \",  glob)     \n",
    "print(\"Значение глобальной nеременной glоb2 = \",  glob2) \n",
    "func_glob(77)  #  Вызываем функцию \n",
    "print(\"Значение глобальной nеременной glоb = \",  glob)     \n",
    "print(\"Значение глобальной nеременной glоb2 = \",  glob2)"
   ]
  },
  {
   "cell_type": "markdown",
   "metadata": {},
   "source": [
    "Переменной `glob2`  внутри функции присваивается значение, переданное при вызове функции. По этой причине создается новое имя `glob2`,  которое является __локальным__. Все изменения этой переменной внутри функции не затронут значение одноименной глобальной переменной. \n",
    "\n",
    "__Локальные переменные__ - это переменные, которым внутри функции присваивается значение.  \n",
    "* Если имя локальной переменной совпадает с  именем глобальной переменной, то все операции внутри функции осуществляются с локальной переменной.\n",
    "* Значение глобальной переменной \"затененной\" локальной переменной не изменяется.\n",
    "* Локальные персменные видны только внутри тела функции."
   ]
  },
  {
   "cell_type": "code",
   "execution_count": 137,
   "metadata": {},
   "outputs": [
    {
     "name": "stdout",
     "output_type": "stream",
     "text": [
      "Значение glob внутри функции:  25\n",
      "Значение glob вне  функции:  10\n",
      "Переменная lос не видна вне функции\n"
     ]
    }
   ],
   "source": [
    "def func():\n",
    "    loc = 77 # Локальная  переменная \n",
    "    glob = 25 # Локальная  переменная \n",
    "    print('Значение glob внутри функции: ', glob)\n",
    "\n",
    "glob = 10 #  Глобальная  переменная \n",
    "func() # Вызываем функцию \n",
    "\n",
    "print(\"Значение glob вне  функции: \", glob) \n",
    "try: \n",
    "    print(loc)  #  Вызовет исключение NameError \n",
    "except NameError:  #  Обрабатываем исключение \n",
    "    print(\"Переменная lос не видна вне функции\") "
   ]
  },
  {
   "cell_type": "markdown",
   "metadata": {},
   "source": [
    "Как видно из примера, переменная `loc`, объявленная внутри функции `func()`, недоступна вне функции. Объявление внутри функции локальной переменной `glob` не изменило значения одноименной глобальной переменной. Если обращение к переменной производится до присваивания значения (даже если существует одноименная глобальная переменная), то будет возбуждено исключение `UnboundLocalError`."
   ]
  },
  {
   "cell_type": "markdown",
   "metadata": {},
   "source": [
    "Для того __чтобыI  значение глобальной переменной можно было  изменить внутри функции__, необходимо объявить переменную глобальной с  помощью ключевого слова `global`."
   ]
  },
  {
   "cell_type": "code",
   "execution_count": 138,
   "metadata": {},
   "outputs": [
    {
     "name": "stdout",
     "output_type": "stream",
     "text": [
      "Значение glob внутри функции:  25\n",
      "Значение glob вне  функции:  25\n"
     ]
    }
   ],
   "source": [
    "def func():\n",
    "    global glob\n",
    "    loc = 77 #  Локальная  переменная \n",
    "    glob = 25 #  Локальная  переменная \n",
    "    print('Значение glob внутри функции: ', glob)\n",
    "\n",
    "glob = 10 #  Глобальная  переменная \n",
    "func() # Вызываем функцию \n",
    "print(\"Значение glob вне  функции: \", glob) "
   ]
  },
  {
   "cell_type": "markdown",
   "metadata": {},
   "source": [
    "Поиск  идентификатора, используемого внутри функции, производится в следующем порядке: \n",
    "1.  Поиск объявления идентификатора внутри функции (в локальной области видимости). \n",
    "2.  Поиск объявления идентификатора в глобальной области. \n",
    "3.  Поиск во встроенной области видимости (встроенне функции, классы и т. д.). "
   ]
  },
  {
   "cell_type": "markdown",
   "metadata": {},
   "source": [
    "Получить все идентификаторы и их значения nозволяют следующие функции: \n",
    "* `globals()` - возвращает словарь с  глобальными идентификаторами; \n",
    "* `locals()` - возвращает словарь с локальными идентификаторами;\n",
    "* `vars( [<Объект>] )` - если  вызывается  без  параметра  внутри  функции,  то  возвращает словарь с локальными идентификаторами. Если вызывается без параметра вне функции, то возвращает словарь с  глобальными идентификаторами. При указании объекта в  качестве  параметра  возвращает  идентификаторы  этого  объекта  (эквивалентно  вызову \n",
    "`<Объект>.__dict__` )"
   ]
  },
  {
   "cell_type": "code",
   "execution_count": 139,
   "metadata": {},
   "outputs": [
    {
     "data": {
      "text/plain": [
       "{'__name__': '__main__',\n",
       " '__doc__': 'Automatically created module for IPython interactive environment',\n",
       " '__package__': None,\n",
       " '__loader__': None,\n",
       " '__spec__': None,\n",
       " '__builtin__': <module 'builtins' (built-in)>,\n",
       " '__builtins__': <module 'builtins' (built-in)>,\n",
       " '_ih': ['',\n",
       "  'def func(): \\n    pass ',\n",
       "  'func()',\n",
       "  'def  func(): \\n    print (\"Текст до инструкции return\") \\n    return  \"Возвращаемое  значение\" \\n    print (\"Эта инструкция никогда не будет выполнена\") ',\n",
       "  'func()',\n",
       "  \"r = func()\\nprint(f'Результат {r}')\",\n",
       "  \"r = func()\\nprint(f'Результат: {r}')\",\n",
       "  'def print_ok(): \\n    \"\"\"  Пример  функции  без  \\n            параметров  \"\"\" \\n    print(\"Сообщение при удачно выполненной операции\") \\n    \\ndef echo(m): \\n    \"\"\"  Пример функции с параметром \"\"\" \\n    print(m) \\n    \\ndef summa(x, у): \\n    \"\"\"  Пример функции с параметрами, \\n    возвращающей сумму двух переменных\"\"\"\\n    return x + у\\n\\ndef pow2(x, у): \\n    \"\"\"  Пример функции с параметрами, \\n    возвращающей значение х в степени y\"\"\"\\n    return x ** у',\n",
       "  'def print_ok(): \\n    \"\"\"  Пример  функции  без  \\n            параметров  \"\"\" \\n    print(\"Сообщение при удачно выполненной операции\") \\n    \\ndef echo(m): \\n    \"\"\"  Пример функции с параметром \"\"\" \\n    print(m) \\n    \\ndef summa(x, у): \\n    \"\"\"  Пример функции с параметрами, \\n    возвращающей сумму двух переменных\"\"\"\\n    return x + у\\n\\ndef pow2(x, у): \\n    \"\"\"  Пример функции с параметрами, \\n    возвращающей значение х в степени y\"\"\"\\n    return x ** у',\n",
       "  'print_ok()',\n",
       "  'echo(\"Сообщение\")',\n",
       "  'x = summa(5, 2)\\nx',\n",
       "  'y, x = 10, 40\\nz = summa(y, x)\\nz',\n",
       "  'y, x = 10, 40\\nz = summa(y, x)\\nz',\n",
       "  \"# в Python нет ограничений на тип значений передваемых в функцию:\\nsumma('str', 'ing')\",\n",
       "  'summa([1, 3], [5, 7])',\n",
       "  'f = summa\\nv = f(10, 20)\\nv',\n",
       "  'type(summa)',\n",
       "  'type(f)',\n",
       "  '# функции в Python можно передавать в качестве аргументов других функций:\\ndef  func(fp,  а,  b): \\n    \"\"\" Через переменную fp будет доступна ссылка на \\n    функцию summa() \"\"\"\\n    return fp(а, b)  #  Вызываем функцию summa()',\n",
       "  'func(summa, 10, 20)',\n",
       "  'func(f, 10, 20)',\n",
       "  'func(razn, 10, 20)',\n",
       "  'func(f, 10, 20)',\n",
       "  'def razn(a, b):\\n    return a - b',\n",
       "  'func(razn, 10, 20)',\n",
       "  'summa.__name__',\n",
       "  'f.__name__',\n",
       "  \"# неверно!\\nf2()\\n\\ndef f2():\\n    print('Функция f2!')\",\n",
       "  \"for i in range(5):\\n    if i > 2:\\n        f2()\\n    def f2():\\n        print('Функция f2!')\\n# работает т.к. определение функции было выполнено ранее, чем вызов        \",\n",
       "  \"for i in range(5):\\n    if i > 2:\\n        f2()\\n    def f2():\\n        print('Функция f2!')\\n# работает т.к. определение функции было выполнено ранее, чем вызов        \",\n",
       "  '# Оnределение функции в зависимости от условия\\nn = input(\"Введите 1 для вызова первой функции:\") \\nn = n.rstrip(\"\\\\r\")\\nif n == \"1\": \\n    def echo(): \\n        print(\"Вызов первой функции\") \\nelse: \\n    def echo(): \\n        print (\"Апьтернативная функция\") \\necho() # Вызываем функцию ',\n",
       "  'fl = lambda: 10 + 20  # функция без nараметров \\nf2 = lambda х, y:  х + y  # функция с двумя nараметрами \\nf3 = lambda х, y, z: х + y + z  # функция с тремя nараметрами \\nprint(fl())\\nprint(f2(5, 10))\\nprint(f3(5, 10, 30))',\n",
       "  'arr  =  [\"единица1\",  \"Единый\",  \"Единица2\"] \\narr.sort() \\nprint(arr)\\n# распространенный пример использования лямбда-функций:\\narr.sort(key=lambda s: s.lower()) \\nprint(arr)',\n",
       "  'arr  =  [\"единица1\",  \"Единый\",  \"Единица2\"] \\narr.sort() \\nprint(arr)\\n# распространенный пример использования лямбда-функций:\\narr.sort(key=lambda s: s.lower()) \\nprint(arr)',\n",
       "  \"ls = ['дыня', 'вишня', 'арбуз', 'яблоко', 'абрикос']\",\n",
       "  'sorted(ls)',\n",
       "  'sorted(ls, key=len)',\n",
       "  'def summa(x, y=2):\\n    return x + y',\n",
       "  'summa(5)',\n",
       "  'summa(5, 4)',\n",
       "  '# ошибка:\\ndef bad(a, b=1, с):\\n    return a + b + c',\n",
       "  'summa(y=10, x=20)',\n",
       "  'def multi_summa(x=1, y=1, z=1):\\n    return x + 10 * y + 100 * z',\n",
       "  'multi_summa(1, 2, 3)',\n",
       "  'multi_summa(1, 2)',\n",
       "  'multi_summa(5)',\n",
       "  'multi_summa()',\n",
       "  'multi_summa(z=3)',\n",
       "  'def append_if_even(x, lst=[]): # ОШИБКА! \\n    if x % 2 == 0: \\n        lst.append(x) \\n    return lst ',\n",
       "  'append_if_even(2)',\n",
       "  'append_if_even(4)',\n",
       "  '# пример решения задачи без ошибки:\\ndef append_if_even(x, lst=None):\\n    if lst is None:\\n        lst = []\\n    if x % 2 == 0: \\n        lst.append(x) \\n    return lst ',\n",
       "  'append_if_even(2)',\n",
       "  'append_if_even(4)',\n",
       "  'def min_med_max(l):\\n    \"Возвращает минимальное, медианное и максимальное значение итерируемого объекта (списка)\"\\n    ls = sorted(l)\\n    l_min = ls[0]\\n    l_max = ls[-1]\\n    l_med = ls[len(ls)//2]\\n    return l_min, l_med, l_max # удобный синтаксис для запаковки результатов в кортеж',\n",
       "  'min_med_max([3, 1, 100, 11, 7])',\n",
       "  \"print(f'min1: {min1}, med1: {med1}, max1: {max1}')\",\n",
       "  '# распаковка кортежа, возвращаемого функцией:\\nmin1, med1, max1 = min_med_max([3, 1, 100, 11, 7])',\n",
       "  \"print(f'min1: {min1}, med1: {med1}, max1: {max1}')\",\n",
       "  'all_res = min_med_max([3, 1, 100, 11, 7])\\nall_res',\n",
       "  '# неудобный способ передачи параметров:\\nmulti_summa(t1[0], t1[1], t1[2])',\n",
       "  't1 = (5, 10 ,15)\\nt2 = [25, 35, 45]\\nt3 = (5, 10 ,15, 20)',\n",
       "  '# неудобный способ передачи параметров:\\nmulti_summa(t1[0], t1[1], t1[2])',\n",
       "  'multi_summa(*t2)',\n",
       "  't1 = (5, 10 ,15)\\nt2 = [25, 35, 45]\\nt3 = (5, 10 ,15, 20)',\n",
       "  '# неудобный способ передачи параметров:\\nmulti_summa(t1[0], t1[1], t1[2])',\n",
       "  '# распаковка (картеж распаковывается в позиционные аргументы):\\nmulti_summa(*t1)',\n",
       "  'multi_summa(*t2)',\n",
       "  '# Ошибка! количество передаваемых параметров \\n# должно равняться количеству объявленных в функции параметров:\\nmulti_summa(*t3)',\n",
       "  '# решение проблемы:\\nmulti_summa(*t3[:3])',\n",
       "  \"d1 = {'x': 11, 'y': 12, 'z': 13}\",\n",
       "  'multi_summa(**d1)',\n",
       "  \"t3 = [0, -1]\\nd2 = {'z': -2}\\n# сначала позиционные параметры, потом пары имя - значение:\\nmulti_summa(*t3, **d2)\",\n",
       "  \"t3 = [0, -1]\\nd2 = {'z': -2}\\n# сначала позиционные параметры, потом пары имя - значение:\\nmulti_summa(*t3, **d2)\",\n",
       "  \"print(1, 3, 4, 'val')\",\n",
       "  'def min_med_max(l):\\n    \"Возвращает минимальное, медианное и максимальное значение итерируемого объекта (списка)\"\\n    ls = sorted(l)\\n    l_min = ls[0]\\n    l_max = ls[-1]\\n    l_med = ls[len(ls)//2]\\n    return l_min, l_med, l_max # удобный синтаксис для запаковки результатов в кортеж',\n",
       "  'min_med_max([3, 1, 100, 11, 7])',\n",
       "  'def min_med_max(l):\\n    \"Возвращает минимальное, медианное и максимальное значение итерируемого объекта (списка)\"\\n    ls = sorted(l)\\n    l_min = ls[0]\\n    l_max = ls[-1]\\n    l_med = ls[len(ls)//2]\\n    return l_min, l_med, l_max # удобный синтаксис для запаковки результатов в кортеж',\n",
       "  'min_med_max([3, 1, 100, 11, 7])',\n",
       "  '# распаковка кортежа, возвращаемого функцией:\\nmin1, med1, max1 = min_med_max([3, 1, 100, 11, 7])',\n",
       "  \"print(f'min1: {min1}, med1: {med1}, max1: {max1}')\",\n",
       "  'all_res = min_med_max([3, 1, 100, 11, 7])\\nall_res',\n",
       "  'min_med_max([3, 1, 100, 11, 7])',\n",
       "  '# неудобный способ передачи параметров:\\nmulti_summa(t1[0], t1[1], t1[2])',\n",
       "  't1 = (5, 10 ,15)\\nt2 = [25, 35, 45]\\nt3 = (5, 10 ,15, 20)',\n",
       "  '# неудобный способ передачи параметров:\\nmulti_summa(t1[0], t1[1], t1[2])',\n",
       "  '# распаковка (картеж распаковывается в позиционные аргументы):\\nmulti_summa(*t1)',\n",
       "  'multi_summa(*t2)',\n",
       "  '# Ошибка! количество передаваемых параметров \\n# должно равняться количеству объявленных в функции параметров:\\nmulti_summa(*t3)',\n",
       "  '# решение проблемы:\\nmulti_summa(*t3[:3])',\n",
       "  \"d1 = {'x': 11, 'y': 12, 'z': 13}\",\n",
       "  \"multi_summa(x=d1['x'], y=d1['y'], z=d1['z'])\",\n",
       "  'multi_summa(**d1)',\n",
       "  \"print(1, 3, 5, 'val')\",\n",
       "  '# упаковка последовательности параметров в параметр-кортеж:\\ndef all_summa(*t): \\n    \"\"\"Функция принимает произвольное количество параметров\"\"\" \\n#     print(type(t)) # проверка типа параметра\\n    res = 0\\n    for i in t: \\n        res += i \\n    return  res ',\n",
       "  'all_summa(10, 20, 30, 40, 50)',\n",
       "  't4 = [10, 20, 30, 40, 50, 60, 70]\\n# одновременная распаковка (t4) и упаковка (в параметр функции t):\\nall_summa(*t4)',\n",
       "  'all_summa(t4)',\n",
       "  'def d_summa(**d): \\n    for k, v in d.items():  #  Перебираем словарь с переданными параметрами \\n        print(f\"{k} => {v}\", end=\"; \") ',\n",
       "  'd_summa(a=1, x=10, z=-2)',\n",
       "  'def c_summa(*t, **d): \\n    for v in t: \\n        print(v, end=\"; \") \\n    for k, v in d.items(): \\n        print(f\"{k} => {v}\", end=\"; \") ',\n",
       "  'c_summa(10, 20, 30, 42, a=1, b=2)',\n",
       "  'def echo(m): \\n    \"\"\"  Пример функции с параметром \"\"\" \\n    print(m) ',\n",
       "  'help(echo)',\n",
       "  \"get_ipython().run_line_magic('pinfo', 'echo')\",\n",
       "  \"get_ipython().run_line_magic('pinfo', 'print')\",\n",
       "  'echo.__doc__',\n",
       "  'summa.__doc__',\n",
       "  'from typing import Callable, Iterator, Iterable, Mapping, Union, Optional, Tuple, List, Dict, Any\\nfrom typing import get_type_hints\\nimport __main__',\n",
       "  '# аннотация для аргумента и возвращаемого значения:\\ndef stringify(num: int) -> str:\\n    return str(num)\\n\\n# аннотация для функции многих аргументов:\\ndef plus(num1: int, num2: int) -> int:\\n    return num1 + num2\\n\\n# аннотация для функций с несколькими параметрами:\\ndef f(num1: int, my_float: float = 3.5) -> float:\\n    return num1 + my_float',\n",
       "  '# получение аннотации функции:\\nstringify.__annotations__',\n",
       "  '# получение аннотаций переменных текущего модуля:\\nget_type_hints(__main__)',\n",
       "  'li1: List[int] = [1, 2]',\n",
       "  \"di1: Dict[str, float] = {'length': 10.0, 'width': 100.0}\",\n",
       "  'tu1: Tuple[str, float, float] = (\"rect\", 10.0, 100.0)',\n",
       "  '# аннтация переменной, которая может указывать на кортежа разного размера\\ntu1: Tuple[int, ...] = (1, 2, 3) ',\n",
       "  '# можно даже проаннотировать не инициализированную переменную:\\nwo_init: str',\n",
       "  '# получение аннотаций переменных текущего модуля:\\nget_type_hints(__main__)',\n",
       "  '# Optional[X] эквивалентно: Union[X, None]\\nst1: Optional[str] = None',\n",
       "  \"st1 = 'My string'\",\n",
       "  'def mystery_function():\\n    return None',\n",
       "  '# Аннотация Any для случая, когда тип неизвестен или слишком \"динамичен\":\\nx: Any = mystery_function()',\n",
       "  'def scale(scalar: float, vector: List[float]) -> List[float]:\\n    return [scalar * num for num in vector]\\n\\nnew_vector = scale(2.0, [1.0, -4.2, 5.4])',\n",
       "  'scale.__annotations__',\n",
       "  'Vector = List[float]\\n\\ndef scale2(scalar: float, vector: Vector) -> Vector:\\n    return [scalar * num for num in vector]\\n\\nnew_vector = scale2(2.0, [1.0, -4.2, 5.4])',\n",
       "  'scale2.__annotations__',\n",
       "  'Более сложные типы аннотаций:',\n",
       "  'scale2.__annotations__',\n",
       "  'Более сложные типы аннотаций:',\n",
       "  '# Анотация Iterable используется для любых представителей \\n# iterables (что-то что можно обойти с помощьюу \"for\"),\\n# и Sequence (поддерживают \"len\" и \"__getitem__\") \\ndef f(ints: Iterable[int]) -> List[str]:\\n    return [str(x) for x in ints]\\n\\nf(range(1, 3))',\n",
       "  '# Mapping описывает объекты с интерфейсом словаря (имеющие \"__getitem__\") (для не поддерживающих изменения)\\n# и для поддерживающих изменения: MutableMapping (имеющие и \"__getitem__\" и \"__setitem__\")\\ndef f(my_mapping: Mapping[int, str]) -> List[int]:\\n#     my_mapping[5] = \\'maybe\\'  # if we try this, mypy will throw an error...\\n    return list(my_mapping.keys())',\n",
       "  \"def change(a, b): \\n    а = 20\\n    b = 'str'\",\n",
       "  \"v1 = 30\\nv2 = 'val'\\nchange(v1, v2)\\nprint(f'v1: {v1}')\\nprint(f'v2: {v2}')\",\n",
       "  'def change2(a): \\n    a.append(10)',\n",
       "  's1 = [1]\\n# изменяемый объект может быть неявно изменен внутри функции:\\nchange2(s1)\\ns1',\n",
       "  'def func_glob(glob2): \\n    print(\"----Вход в функцию func_glob\")\\n    print(\"    Значение  глобальной nеременной glоb = \",  glob)     \\n    print(\"    Значение  ЛОКАЛЬНОЙ nеременной glоb2 = \",  glob2) \\n    glob2 += 10 \\n    print(\"    Значение  ЛОКАЛЬНОЙ переменной glob2 = \", glob2) \\n    print(\"----Выход из функции func_glob\")    \\n\\nglob, glob2 = 10, 5 \\nprint(\"Значение глобальной nеременной glоb = \",  glob)     \\nprint(\"Значение глобальной nеременной glоb2 = \",  glob2) \\nfunc_glob(77)  #  Вызываем функцию \\nprint(\"Значение глобальной nеременной glоb = \",  glob)     \\nprint(\"Значение глобальной nеременной glоb2 = \",  glob2)',\n",
       "  'def func():\\n    loc = 77 # Локальная  переменная \\n    glob = 25 # Локальная  переменная \\n    print(\\'Значение glob внутри функции: \\', glob)\\n\\nglob = 10 #  Глобальная  переменная \\nfunc() # Вызываем функцию \\n\\nprint(\"Значение glob вне  функции: \", glob) \\ntry: \\n    print(loc)  #  Вызовет исключение NameError \\nexcept NameError:  #  Обрабатываем исключение \\n    print(\"Переменная lос не видна вне функции\") ',\n",
       "  'def func():\\n    global glob\\n    loc = 77 #  Локальная  переменная \\n    glob = 25 #  Локальная  переменная \\n    print(\\'Значение glob внутри функции: \\', glob)\\n\\nglob = 10 #  Глобальная  переменная \\nfunc() # Вызываем функцию \\nprint(\"Значение glob вне  функции: \", glob) ',\n",
       "  'globals()'],\n",
       " '_oh': {4: 'Возвращаемое  значение',\n",
       "  11: 7,\n",
       "  12: 50,\n",
       "  13: 50,\n",
       "  14: 'string',\n",
       "  15: [1, 3, 5, 7],\n",
       "  16: 30,\n",
       "  17: function,\n",
       "  18: function,\n",
       "  20: 30,\n",
       "  21: 30,\n",
       "  23: 30,\n",
       "  25: -10,\n",
       "  26: 'summa',\n",
       "  27: 'summa',\n",
       "  36: ['абрикос', 'арбуз', 'вишня', 'дыня', 'яблоко'],\n",
       "  37: ['дыня', 'вишня', 'арбуз', 'яблоко', 'абрикос'],\n",
       "  39: 7,\n",
       "  40: 9,\n",
       "  42: 30,\n",
       "  44: 321,\n",
       "  45: 121,\n",
       "  46: 115,\n",
       "  47: 111,\n",
       "  48: 311,\n",
       "  50: [2, 4],\n",
       "  51: [2, 4],\n",
       "  53: [2],\n",
       "  54: [4],\n",
       "  56: (1, 7, 100),\n",
       "  60: (1, 7, 100),\n",
       "  63: 1605,\n",
       "  64: 4875,\n",
       "  66: 1605,\n",
       "  67: 1605,\n",
       "  68: 4875,\n",
       "  70: 1605,\n",
       "  72: 1431,\n",
       "  73: -210,\n",
       "  74: -210,\n",
       "  77: (1, 7, 100),\n",
       "  79: (1, 7, 100),\n",
       "  82: (1, 7, 100),\n",
       "  83: (1, 7, 100),\n",
       "  84: 1605,\n",
       "  86: 1605,\n",
       "  87: 1605,\n",
       "  88: 4875,\n",
       "  90: 1605,\n",
       "  92: 1431,\n",
       "  93: 1431,\n",
       "  96: 150,\n",
       "  97: 280,\n",
       "  107: '  Пример функции с параметром ',\n",
       "  111: {'num': int, 'return': str},\n",
       "  112: {},\n",
       "  118: {'li1': typing.List[int],\n",
       "   'di1': typing.Dict[str, float],\n",
       "   'tu1': typing.Tuple[int, ...],\n",
       "   'wo_init': str},\n",
       "  124: {'scalar': float,\n",
       "   'vector': typing.List[float],\n",
       "   'return': typing.List[float]},\n",
       "  126: {'scalar': float,\n",
       "   'vector': typing.List[float],\n",
       "   'return': typing.List[float]},\n",
       "  128: {'scalar': float,\n",
       "   'vector': typing.List[float],\n",
       "   'return': typing.List[float]},\n",
       "  130: ['1', '2'],\n",
       "  135: [1, 10]},\n",
       " '_dh': ['E:\\\\YandexDisk\\\\Python\\\\Ipynb\\\\fa1_2021\\\\lec04_functions'],\n",
       " 'In': ['',\n",
       "  'def func(): \\n    pass ',\n",
       "  'func()',\n",
       "  'def  func(): \\n    print (\"Текст до инструкции return\") \\n    return  \"Возвращаемое  значение\" \\n    print (\"Эта инструкция никогда не будет выполнена\") ',\n",
       "  'func()',\n",
       "  \"r = func()\\nprint(f'Результат {r}')\",\n",
       "  \"r = func()\\nprint(f'Результат: {r}')\",\n",
       "  'def print_ok(): \\n    \"\"\"  Пример  функции  без  \\n            параметров  \"\"\" \\n    print(\"Сообщение при удачно выполненной операции\") \\n    \\ndef echo(m): \\n    \"\"\"  Пример функции с параметром \"\"\" \\n    print(m) \\n    \\ndef summa(x, у): \\n    \"\"\"  Пример функции с параметрами, \\n    возвращающей сумму двух переменных\"\"\"\\n    return x + у\\n\\ndef pow2(x, у): \\n    \"\"\"  Пример функции с параметрами, \\n    возвращающей значение х в степени y\"\"\"\\n    return x ** у',\n",
       "  'def print_ok(): \\n    \"\"\"  Пример  функции  без  \\n            параметров  \"\"\" \\n    print(\"Сообщение при удачно выполненной операции\") \\n    \\ndef echo(m): \\n    \"\"\"  Пример функции с параметром \"\"\" \\n    print(m) \\n    \\ndef summa(x, у): \\n    \"\"\"  Пример функции с параметрами, \\n    возвращающей сумму двух переменных\"\"\"\\n    return x + у\\n\\ndef pow2(x, у): \\n    \"\"\"  Пример функции с параметрами, \\n    возвращающей значение х в степени y\"\"\"\\n    return x ** у',\n",
       "  'print_ok()',\n",
       "  'echo(\"Сообщение\")',\n",
       "  'x = summa(5, 2)\\nx',\n",
       "  'y, x = 10, 40\\nz = summa(y, x)\\nz',\n",
       "  'y, x = 10, 40\\nz = summa(y, x)\\nz',\n",
       "  \"# в Python нет ограничений на тип значений передваемых в функцию:\\nsumma('str', 'ing')\",\n",
       "  'summa([1, 3], [5, 7])',\n",
       "  'f = summa\\nv = f(10, 20)\\nv',\n",
       "  'type(summa)',\n",
       "  'type(f)',\n",
       "  '# функции в Python можно передавать в качестве аргументов других функций:\\ndef  func(fp,  а,  b): \\n    \"\"\" Через переменную fp будет доступна ссылка на \\n    функцию summa() \"\"\"\\n    return fp(а, b)  #  Вызываем функцию summa()',\n",
       "  'func(summa, 10, 20)',\n",
       "  'func(f, 10, 20)',\n",
       "  'func(razn, 10, 20)',\n",
       "  'func(f, 10, 20)',\n",
       "  'def razn(a, b):\\n    return a - b',\n",
       "  'func(razn, 10, 20)',\n",
       "  'summa.__name__',\n",
       "  'f.__name__',\n",
       "  \"# неверно!\\nf2()\\n\\ndef f2():\\n    print('Функция f2!')\",\n",
       "  \"for i in range(5):\\n    if i > 2:\\n        f2()\\n    def f2():\\n        print('Функция f2!')\\n# работает т.к. определение функции было выполнено ранее, чем вызов        \",\n",
       "  \"for i in range(5):\\n    if i > 2:\\n        f2()\\n    def f2():\\n        print('Функция f2!')\\n# работает т.к. определение функции было выполнено ранее, чем вызов        \",\n",
       "  '# Оnределение функции в зависимости от условия\\nn = input(\"Введите 1 для вызова первой функции:\") \\nn = n.rstrip(\"\\\\r\")\\nif n == \"1\": \\n    def echo(): \\n        print(\"Вызов первой функции\") \\nelse: \\n    def echo(): \\n        print (\"Апьтернативная функция\") \\necho() # Вызываем функцию ',\n",
       "  'fl = lambda: 10 + 20  # функция без nараметров \\nf2 = lambda х, y:  х + y  # функция с двумя nараметрами \\nf3 = lambda х, y, z: х + y + z  # функция с тремя nараметрами \\nprint(fl())\\nprint(f2(5, 10))\\nprint(f3(5, 10, 30))',\n",
       "  'arr  =  [\"единица1\",  \"Единый\",  \"Единица2\"] \\narr.sort() \\nprint(arr)\\n# распространенный пример использования лямбда-функций:\\narr.sort(key=lambda s: s.lower()) \\nprint(arr)',\n",
       "  'arr  =  [\"единица1\",  \"Единый\",  \"Единица2\"] \\narr.sort() \\nprint(arr)\\n# распространенный пример использования лямбда-функций:\\narr.sort(key=lambda s: s.lower()) \\nprint(arr)',\n",
       "  \"ls = ['дыня', 'вишня', 'арбуз', 'яблоко', 'абрикос']\",\n",
       "  'sorted(ls)',\n",
       "  'sorted(ls, key=len)',\n",
       "  'def summa(x, y=2):\\n    return x + y',\n",
       "  'summa(5)',\n",
       "  'summa(5, 4)',\n",
       "  '# ошибка:\\ndef bad(a, b=1, с):\\n    return a + b + c',\n",
       "  'summa(y=10, x=20)',\n",
       "  'def multi_summa(x=1, y=1, z=1):\\n    return x + 10 * y + 100 * z',\n",
       "  'multi_summa(1, 2, 3)',\n",
       "  'multi_summa(1, 2)',\n",
       "  'multi_summa(5)',\n",
       "  'multi_summa()',\n",
       "  'multi_summa(z=3)',\n",
       "  'def append_if_even(x, lst=[]): # ОШИБКА! \\n    if x % 2 == 0: \\n        lst.append(x) \\n    return lst ',\n",
       "  'append_if_even(2)',\n",
       "  'append_if_even(4)',\n",
       "  '# пример решения задачи без ошибки:\\ndef append_if_even(x, lst=None):\\n    if lst is None:\\n        lst = []\\n    if x % 2 == 0: \\n        lst.append(x) \\n    return lst ',\n",
       "  'append_if_even(2)',\n",
       "  'append_if_even(4)',\n",
       "  'def min_med_max(l):\\n    \"Возвращает минимальное, медианное и максимальное значение итерируемого объекта (списка)\"\\n    ls = sorted(l)\\n    l_min = ls[0]\\n    l_max = ls[-1]\\n    l_med = ls[len(ls)//2]\\n    return l_min, l_med, l_max # удобный синтаксис для запаковки результатов в кортеж',\n",
       "  'min_med_max([3, 1, 100, 11, 7])',\n",
       "  \"print(f'min1: {min1}, med1: {med1}, max1: {max1}')\",\n",
       "  '# распаковка кортежа, возвращаемого функцией:\\nmin1, med1, max1 = min_med_max([3, 1, 100, 11, 7])',\n",
       "  \"print(f'min1: {min1}, med1: {med1}, max1: {max1}')\",\n",
       "  'all_res = min_med_max([3, 1, 100, 11, 7])\\nall_res',\n",
       "  '# неудобный способ передачи параметров:\\nmulti_summa(t1[0], t1[1], t1[2])',\n",
       "  't1 = (5, 10 ,15)\\nt2 = [25, 35, 45]\\nt3 = (5, 10 ,15, 20)',\n",
       "  '# неудобный способ передачи параметров:\\nmulti_summa(t1[0], t1[1], t1[2])',\n",
       "  'multi_summa(*t2)',\n",
       "  't1 = (5, 10 ,15)\\nt2 = [25, 35, 45]\\nt3 = (5, 10 ,15, 20)',\n",
       "  '# неудобный способ передачи параметров:\\nmulti_summa(t1[0], t1[1], t1[2])',\n",
       "  '# распаковка (картеж распаковывается в позиционные аргументы):\\nmulti_summa(*t1)',\n",
       "  'multi_summa(*t2)',\n",
       "  '# Ошибка! количество передаваемых параметров \\n# должно равняться количеству объявленных в функции параметров:\\nmulti_summa(*t3)',\n",
       "  '# решение проблемы:\\nmulti_summa(*t3[:3])',\n",
       "  \"d1 = {'x': 11, 'y': 12, 'z': 13}\",\n",
       "  'multi_summa(**d1)',\n",
       "  \"t3 = [0, -1]\\nd2 = {'z': -2}\\n# сначала позиционные параметры, потом пары имя - значение:\\nmulti_summa(*t3, **d2)\",\n",
       "  \"t3 = [0, -1]\\nd2 = {'z': -2}\\n# сначала позиционные параметры, потом пары имя - значение:\\nmulti_summa(*t3, **d2)\",\n",
       "  \"print(1, 3, 4, 'val')\",\n",
       "  'def min_med_max(l):\\n    \"Возвращает минимальное, медианное и максимальное значение итерируемого объекта (списка)\"\\n    ls = sorted(l)\\n    l_min = ls[0]\\n    l_max = ls[-1]\\n    l_med = ls[len(ls)//2]\\n    return l_min, l_med, l_max # удобный синтаксис для запаковки результатов в кортеж',\n",
       "  'min_med_max([3, 1, 100, 11, 7])',\n",
       "  'def min_med_max(l):\\n    \"Возвращает минимальное, медианное и максимальное значение итерируемого объекта (списка)\"\\n    ls = sorted(l)\\n    l_min = ls[0]\\n    l_max = ls[-1]\\n    l_med = ls[len(ls)//2]\\n    return l_min, l_med, l_max # удобный синтаксис для запаковки результатов в кортеж',\n",
       "  'min_med_max([3, 1, 100, 11, 7])',\n",
       "  '# распаковка кортежа, возвращаемого функцией:\\nmin1, med1, max1 = min_med_max([3, 1, 100, 11, 7])',\n",
       "  \"print(f'min1: {min1}, med1: {med1}, max1: {max1}')\",\n",
       "  'all_res = min_med_max([3, 1, 100, 11, 7])\\nall_res',\n",
       "  'min_med_max([3, 1, 100, 11, 7])',\n",
       "  '# неудобный способ передачи параметров:\\nmulti_summa(t1[0], t1[1], t1[2])',\n",
       "  't1 = (5, 10 ,15)\\nt2 = [25, 35, 45]\\nt3 = (5, 10 ,15, 20)',\n",
       "  '# неудобный способ передачи параметров:\\nmulti_summa(t1[0], t1[1], t1[2])',\n",
       "  '# распаковка (картеж распаковывается в позиционные аргументы):\\nmulti_summa(*t1)',\n",
       "  'multi_summa(*t2)',\n",
       "  '# Ошибка! количество передаваемых параметров \\n# должно равняться количеству объявленных в функции параметров:\\nmulti_summa(*t3)',\n",
       "  '# решение проблемы:\\nmulti_summa(*t3[:3])',\n",
       "  \"d1 = {'x': 11, 'y': 12, 'z': 13}\",\n",
       "  \"multi_summa(x=d1['x'], y=d1['y'], z=d1['z'])\",\n",
       "  'multi_summa(**d1)',\n",
       "  \"print(1, 3, 5, 'val')\",\n",
       "  '# упаковка последовательности параметров в параметр-кортеж:\\ndef all_summa(*t): \\n    \"\"\"Функция принимает произвольное количество параметров\"\"\" \\n#     print(type(t)) # проверка типа параметра\\n    res = 0\\n    for i in t: \\n        res += i \\n    return  res ',\n",
       "  'all_summa(10, 20, 30, 40, 50)',\n",
       "  't4 = [10, 20, 30, 40, 50, 60, 70]\\n# одновременная распаковка (t4) и упаковка (в параметр функции t):\\nall_summa(*t4)',\n",
       "  'all_summa(t4)',\n",
       "  'def d_summa(**d): \\n    for k, v in d.items():  #  Перебираем словарь с переданными параметрами \\n        print(f\"{k} => {v}\", end=\"; \") ',\n",
       "  'd_summa(a=1, x=10, z=-2)',\n",
       "  'def c_summa(*t, **d): \\n    for v in t: \\n        print(v, end=\"; \") \\n    for k, v in d.items(): \\n        print(f\"{k} => {v}\", end=\"; \") ',\n",
       "  'c_summa(10, 20, 30, 42, a=1, b=2)',\n",
       "  'def echo(m): \\n    \"\"\"  Пример функции с параметром \"\"\" \\n    print(m) ',\n",
       "  'help(echo)',\n",
       "  \"get_ipython().run_line_magic('pinfo', 'echo')\",\n",
       "  \"get_ipython().run_line_magic('pinfo', 'print')\",\n",
       "  'echo.__doc__',\n",
       "  'summa.__doc__',\n",
       "  'from typing import Callable, Iterator, Iterable, Mapping, Union, Optional, Tuple, List, Dict, Any\\nfrom typing import get_type_hints\\nimport __main__',\n",
       "  '# аннотация для аргумента и возвращаемого значения:\\ndef stringify(num: int) -> str:\\n    return str(num)\\n\\n# аннотация для функции многих аргументов:\\ndef plus(num1: int, num2: int) -> int:\\n    return num1 + num2\\n\\n# аннотация для функций с несколькими параметрами:\\ndef f(num1: int, my_float: float = 3.5) -> float:\\n    return num1 + my_float',\n",
       "  '# получение аннотации функции:\\nstringify.__annotations__',\n",
       "  '# получение аннотаций переменных текущего модуля:\\nget_type_hints(__main__)',\n",
       "  'li1: List[int] = [1, 2]',\n",
       "  \"di1: Dict[str, float] = {'length': 10.0, 'width': 100.0}\",\n",
       "  'tu1: Tuple[str, float, float] = (\"rect\", 10.0, 100.0)',\n",
       "  '# аннтация переменной, которая может указывать на кортежа разного размера\\ntu1: Tuple[int, ...] = (1, 2, 3) ',\n",
       "  '# можно даже проаннотировать не инициализированную переменную:\\nwo_init: str',\n",
       "  '# получение аннотаций переменных текущего модуля:\\nget_type_hints(__main__)',\n",
       "  '# Optional[X] эквивалентно: Union[X, None]\\nst1: Optional[str] = None',\n",
       "  \"st1 = 'My string'\",\n",
       "  'def mystery_function():\\n    return None',\n",
       "  '# Аннотация Any для случая, когда тип неизвестен или слишком \"динамичен\":\\nx: Any = mystery_function()',\n",
       "  'def scale(scalar: float, vector: List[float]) -> List[float]:\\n    return [scalar * num for num in vector]\\n\\nnew_vector = scale(2.0, [1.0, -4.2, 5.4])',\n",
       "  'scale.__annotations__',\n",
       "  'Vector = List[float]\\n\\ndef scale2(scalar: float, vector: Vector) -> Vector:\\n    return [scalar * num for num in vector]\\n\\nnew_vector = scale2(2.0, [1.0, -4.2, 5.4])',\n",
       "  'scale2.__annotations__',\n",
       "  'Более сложные типы аннотаций:',\n",
       "  'scale2.__annotations__',\n",
       "  'Более сложные типы аннотаций:',\n",
       "  '# Анотация Iterable используется для любых представителей \\n# iterables (что-то что можно обойти с помощьюу \"for\"),\\n# и Sequence (поддерживают \"len\" и \"__getitem__\") \\ndef f(ints: Iterable[int]) -> List[str]:\\n    return [str(x) for x in ints]\\n\\nf(range(1, 3))',\n",
       "  '# Mapping описывает объекты с интерфейсом словаря (имеющие \"__getitem__\") (для не поддерживающих изменения)\\n# и для поддерживающих изменения: MutableMapping (имеющие и \"__getitem__\" и \"__setitem__\")\\ndef f(my_mapping: Mapping[int, str]) -> List[int]:\\n#     my_mapping[5] = \\'maybe\\'  # if we try this, mypy will throw an error...\\n    return list(my_mapping.keys())',\n",
       "  \"def change(a, b): \\n    а = 20\\n    b = 'str'\",\n",
       "  \"v1 = 30\\nv2 = 'val'\\nchange(v1, v2)\\nprint(f'v1: {v1}')\\nprint(f'v2: {v2}')\",\n",
       "  'def change2(a): \\n    a.append(10)',\n",
       "  's1 = [1]\\n# изменяемый объект может быть неявно изменен внутри функции:\\nchange2(s1)\\ns1',\n",
       "  'def func_glob(glob2): \\n    print(\"----Вход в функцию func_glob\")\\n    print(\"    Значение  глобальной nеременной glоb = \",  glob)     \\n    print(\"    Значение  ЛОКАЛЬНОЙ nеременной glоb2 = \",  glob2) \\n    glob2 += 10 \\n    print(\"    Значение  ЛОКАЛЬНОЙ переменной glob2 = \", glob2) \\n    print(\"----Выход из функции func_glob\")    \\n\\nglob, glob2 = 10, 5 \\nprint(\"Значение глобальной nеременной glоb = \",  glob)     \\nprint(\"Значение глобальной nеременной glоb2 = \",  glob2) \\nfunc_glob(77)  #  Вызываем функцию \\nprint(\"Значение глобальной nеременной glоb = \",  glob)     \\nprint(\"Значение глобальной nеременной glоb2 = \",  glob2)',\n",
       "  'def func():\\n    loc = 77 # Локальная  переменная \\n    glob = 25 # Локальная  переменная \\n    print(\\'Значение glob внутри функции: \\', glob)\\n\\nglob = 10 #  Глобальная  переменная \\nfunc() # Вызываем функцию \\n\\nprint(\"Значение glob вне  функции: \", glob) \\ntry: \\n    print(loc)  #  Вызовет исключение NameError \\nexcept NameError:  #  Обрабатываем исключение \\n    print(\"Переменная lос не видна вне функции\") ',\n",
       "  'def func():\\n    global glob\\n    loc = 77 #  Локальная  переменная \\n    glob = 25 #  Локальная  переменная \\n    print(\\'Значение glob внутри функции: \\', glob)\\n\\nglob = 10 #  Глобальная  переменная \\nfunc() # Вызываем функцию \\nprint(\"Значение glob вне  функции: \", glob) ',\n",
       "  'globals()'],\n",
       " 'Out': {4: 'Возвращаемое  значение',\n",
       "  11: 7,\n",
       "  12: 50,\n",
       "  13: 50,\n",
       "  14: 'string',\n",
       "  15: [1, 3, 5, 7],\n",
       "  16: 30,\n",
       "  17: function,\n",
       "  18: function,\n",
       "  20: 30,\n",
       "  21: 30,\n",
       "  23: 30,\n",
       "  25: -10,\n",
       "  26: 'summa',\n",
       "  27: 'summa',\n",
       "  36: ['абрикос', 'арбуз', 'вишня', 'дыня', 'яблоко'],\n",
       "  37: ['дыня', 'вишня', 'арбуз', 'яблоко', 'абрикос'],\n",
       "  39: 7,\n",
       "  40: 9,\n",
       "  42: 30,\n",
       "  44: 321,\n",
       "  45: 121,\n",
       "  46: 115,\n",
       "  47: 111,\n",
       "  48: 311,\n",
       "  50: [2, 4],\n",
       "  51: [2, 4],\n",
       "  53: [2],\n",
       "  54: [4],\n",
       "  56: (1, 7, 100),\n",
       "  60: (1, 7, 100),\n",
       "  63: 1605,\n",
       "  64: 4875,\n",
       "  66: 1605,\n",
       "  67: 1605,\n",
       "  68: 4875,\n",
       "  70: 1605,\n",
       "  72: 1431,\n",
       "  73: -210,\n",
       "  74: -210,\n",
       "  77: (1, 7, 100),\n",
       "  79: (1, 7, 100),\n",
       "  82: (1, 7, 100),\n",
       "  83: (1, 7, 100),\n",
       "  84: 1605,\n",
       "  86: 1605,\n",
       "  87: 1605,\n",
       "  88: 4875,\n",
       "  90: 1605,\n",
       "  92: 1431,\n",
       "  93: 1431,\n",
       "  96: 150,\n",
       "  97: 280,\n",
       "  107: '  Пример функции с параметром ',\n",
       "  111: {'num': int, 'return': str},\n",
       "  112: {},\n",
       "  118: {'li1': typing.List[int],\n",
       "   'di1': typing.Dict[str, float],\n",
       "   'tu1': typing.Tuple[int, ...],\n",
       "   'wo_init': str},\n",
       "  124: {'scalar': float,\n",
       "   'vector': typing.List[float],\n",
       "   'return': typing.List[float]},\n",
       "  126: {'scalar': float,\n",
       "   'vector': typing.List[float],\n",
       "   'return': typing.List[float]},\n",
       "  128: {'scalar': float,\n",
       "   'vector': typing.List[float],\n",
       "   'return': typing.List[float]},\n",
       "  130: ['1', '2'],\n",
       "  135: [1, 10]},\n",
       " 'get_ipython': <bound method InteractiveShell.get_ipython of <ipykernel.zmqshell.ZMQInteractiveShell object at 0x00000183B585ED08>>,\n",
       " 'exit': <IPython.core.autocall.ZMQExitAutocall at 0x183b58d9408>,\n",
       " 'quit': <IPython.core.autocall.ZMQExitAutocall at 0x183b58d9408>,\n",
       " '_': [1, 10],\n",
       " '__': ['1', '2'],\n",
       " '___': {'scalar': float,\n",
       "  'vector': typing.List[float],\n",
       "  'return': typing.List[float]},\n",
       " '_i': 'def func():\\n    global glob\\n    loc = 77 #  Локальная  переменная \\n    glob = 25 #  Локальная  переменная \\n    print(\\'Значение glob внутри функции: \\', glob)\\n\\nglob = 10 #  Глобальная  переменная \\nfunc() # Вызываем функцию \\nprint(\"Значение glob вне  функции: \", glob) ',\n",
       " '_ii': 'def func():\\n    loc = 77 # Локальная  переменная \\n    glob = 25 # Локальная  переменная \\n    print(\\'Значение glob внутри функции: \\', glob)\\n\\nglob = 10 #  Глобальная  переменная \\nfunc() # Вызываем функцию \\n\\nprint(\"Значение glob вне  функции: \", glob) \\ntry: \\n    print(loc)  #  Вызовет исключение NameError \\nexcept NameError:  #  Обрабатываем исключение \\n    print(\"Переменная lос не видна вне функции\") ',\n",
       " '_iii': 'def func_glob(glob2): \\n    print(\"----Вход в функцию func_glob\")\\n    print(\"    Значение  глобальной nеременной glоb = \",  glob)     \\n    print(\"    Значение  ЛОКАЛЬНОЙ nеременной glоb2 = \",  glob2) \\n    glob2 += 10 \\n    print(\"    Значение  ЛОКАЛЬНОЙ переменной glob2 = \", glob2) \\n    print(\"----Выход из функции func_glob\")    \\n\\nglob, glob2 = 10, 5 \\nprint(\"Значение глобальной nеременной glоb = \",  glob)     \\nprint(\"Значение глобальной nеременной glоb2 = \",  glob2) \\nfunc_glob(77)  #  Вызываем функцию \\nprint(\"Значение глобальной nеременной glоb = \",  glob)     \\nprint(\"Значение глобальной nеременной glоb2 = \",  glob2)',\n",
       " '_i1': 'def func(): \\n    pass ',\n",
       " 'func': <function __main__.func()>,\n",
       " '_i2': 'func()',\n",
       " '_i3': 'def  func(): \\n    print (\"Текст до инструкции return\") \\n    return  \"Возвращаемое  значение\" \\n    print (\"Эта инструкция никогда не будет выполнена\") ',\n",
       " '_i4': 'func()',\n",
       " '_4': 'Возвращаемое  значение',\n",
       " '_i5': \"r = func()\\nprint(f'Результат {r}')\",\n",
       " 'r': 'Возвращаемое  значение',\n",
       " '_i6': \"r = func()\\nprint(f'Результат: {r}')\",\n",
       " '_i7': 'def print_ok(): \\n    \"\"\"  Пример  функции  без  \\n            параметров  \"\"\" \\n    print(\"Сообщение при удачно выполненной операции\") \\n    \\ndef echo(m): \\n    \"\"\"  Пример функции с параметром \"\"\" \\n    print(m) \\n    \\ndef summa(x, у): \\n    \"\"\"  Пример функции с параметрами, \\n    возвращающей сумму двух переменных\"\"\"\\n    return x + у\\n\\ndef pow2(x, у): \\n    \"\"\"  Пример функции с параметрами, \\n    возвращающей значение х в степени y\"\"\"\\n    return x ** у',\n",
       " 'print_ok': <function __main__.print_ok()>,\n",
       " 'echo': <function __main__.echo(m)>,\n",
       " 'summa': <function __main__.summa(x, y=2)>,\n",
       " 'pow2': <function __main__.pow2(x, у)>,\n",
       " '_i8': 'def print_ok(): \\n    \"\"\"  Пример  функции  без  \\n            параметров  \"\"\" \\n    print(\"Сообщение при удачно выполненной операции\") \\n    \\ndef echo(m): \\n    \"\"\"  Пример функции с параметром \"\"\" \\n    print(m) \\n    \\ndef summa(x, у): \\n    \"\"\"  Пример функции с параметрами, \\n    возвращающей сумму двух переменных\"\"\"\\n    return x + у\\n\\ndef pow2(x, у): \\n    \"\"\"  Пример функции с параметрами, \\n    возвращающей значение х в степени y\"\"\"\\n    return x ** у',\n",
       " '_i9': 'print_ok()',\n",
       " '_i10': 'echo(\"Сообщение\")',\n",
       " '_i11': 'x = summa(5, 2)\\nx',\n",
       " 'x': None,\n",
       " '_11': 7,\n",
       " '_i12': 'y, x = 10, 40\\nz = summa(y, x)\\nz',\n",
       " 'y': 10,\n",
       " 'z': 50,\n",
       " '_12': 50,\n",
       " '_i13': 'y, x = 10, 40\\nz = summa(y, x)\\nz',\n",
       " '_13': 50,\n",
       " '_i14': \"# в Python нет ограничений на тип значений передваемых в функцию:\\nsumma('str', 'ing')\",\n",
       " '_14': 'string',\n",
       " '_i15': 'summa([1, 3], [5, 7])',\n",
       " '_15': [1, 3, 5, 7],\n",
       " '_i16': 'f = summa\\nv = f(10, 20)\\nv',\n",
       " 'f': <function __main__.f(my_mapping: Mapping[int, str]) -> List[int]>,\n",
       " 'v': 30,\n",
       " '_16': 30,\n",
       " '_i17': 'type(summa)',\n",
       " '_17': function,\n",
       " '_i18': 'type(f)',\n",
       " '_18': function,\n",
       " '_i19': '# функции в Python можно передавать в качестве аргументов других функций:\\ndef  func(fp,  а,  b): \\n    \"\"\" Через переменную fp будет доступна ссылка на \\n    функцию summa() \"\"\"\\n    return fp(а, b)  #  Вызываем функцию summa()',\n",
       " '_i20': 'func(summa, 10, 20)',\n",
       " '_20': 30,\n",
       " '_i21': 'func(f, 10, 20)',\n",
       " '_21': 30,\n",
       " '_i22': 'func(razn, 10, 20)',\n",
       " '_i23': 'func(f, 10, 20)',\n",
       " '_23': 30,\n",
       " '_i24': 'def razn(a, b):\\n    return a - b',\n",
       " 'razn': <function __main__.razn(a, b)>,\n",
       " '_i25': 'func(razn, 10, 20)',\n",
       " '_25': -10,\n",
       " '_i26': 'summa.__name__',\n",
       " '_26': 'summa',\n",
       " '_i27': 'f.__name__',\n",
       " '_27': 'summa',\n",
       " '_i28': \"# неверно!\\nf2()\\n\\ndef f2():\\n    print('Функция f2!')\",\n",
       " '_i29': \"for i in range(5):\\n    if i > 2:\\n        f2()\\n    def f2():\\n        print('Функция f2!')\\n# работает т.к. определение функции было выполнено ранее, чем вызов        \",\n",
       " 'i': 4,\n",
       " 'f2': <function __main__.<lambda>(х, y)>,\n",
       " '_i30': \"for i in range(5):\\n    if i > 2:\\n        f2()\\n    def f2():\\n        print('Функция f2!')\\n# работает т.к. определение функции было выполнено ранее, чем вызов        \",\n",
       " '_i31': '# Оnределение функции в зависимости от условия\\nn = input(\"Введите 1 для вызова первой функции:\") \\nn = n.rstrip(\"\\\\r\")\\nif n == \"1\": \\n    def echo(): \\n        print(\"Вызов первой функции\") \\nelse: \\n    def echo(): \\n        print (\"Апьтернативная функция\") \\necho() # Вызываем функцию ',\n",
       " 'n': '1',\n",
       " '_i32': 'fl = lambda: 10 + 20  # функция без nараметров \\nf2 = lambda х, y:  х + y  # функция с двумя nараметрами \\nf3 = lambda х, y, z: х + y + z  # функция с тремя nараметрами \\nprint(fl())\\nprint(f2(5, 10))\\nprint(f3(5, 10, 30))',\n",
       " 'fl': <function __main__.<lambda>()>,\n",
       " 'f3': <function __main__.<lambda>(х, y, z)>,\n",
       " '_i33': 'arr  =  [\"единица1\",  \"Единый\",  \"Единица2\"] \\narr.sort() \\nprint(arr)\\n# распространенный пример использования лямбда-функций:\\narr.sort(key=lambda s: s.lower()) \\nprint(arr)',\n",
       " 'arr': ['единица1', 'Единица2', 'Единый'],\n",
       " '_i34': 'arr  =  [\"единица1\",  \"Единый\",  \"Единица2\"] \\narr.sort() \\nprint(arr)\\n# распространенный пример использования лямбда-функций:\\narr.sort(key=lambda s: s.lower()) \\nprint(arr)',\n",
       " '_i35': \"ls = ['дыня', 'вишня', 'арбуз', 'яблоко', 'абрикос']\",\n",
       " 'ls': ['дыня', 'вишня', 'арбуз', 'яблоко', 'абрикос'],\n",
       " '_i36': 'sorted(ls)',\n",
       " '_36': ['абрикос', 'арбуз', 'вишня', 'дыня', 'яблоко'],\n",
       " '_i37': 'sorted(ls, key=len)',\n",
       " '_37': ['дыня', 'вишня', 'арбуз', 'яблоко', 'абрикос'],\n",
       " '_i38': 'def summa(x, y=2):\\n    return x + y',\n",
       " '_i39': 'summa(5)',\n",
       " '_39': 7,\n",
       " '_i40': 'summa(5, 4)',\n",
       " '_40': 9,\n",
       " '_i41': '# ошибка:\\ndef bad(a, b=1, с):\\n    return a + b + c',\n",
       " '_i42': 'summa(y=10, x=20)',\n",
       " '_42': 30,\n",
       " '_i43': 'def multi_summa(x=1, y=1, z=1):\\n    return x + 10 * y + 100 * z',\n",
       " 'multi_summa': <function __main__.multi_summa(x=1, y=1, z=1)>,\n",
       " '_i44': 'multi_summa(1, 2, 3)',\n",
       " '_44': 321,\n",
       " '_i45': 'multi_summa(1, 2)',\n",
       " '_45': 121,\n",
       " '_i46': 'multi_summa(5)',\n",
       " '_46': 115,\n",
       " '_i47': 'multi_summa()',\n",
       " '_47': 111,\n",
       " '_i48': 'multi_summa(z=3)',\n",
       " '_48': 311,\n",
       " '_i49': 'def append_if_even(x, lst=[]): # ОШИБКА! \\n    if x % 2 == 0: \\n        lst.append(x) \\n    return lst ',\n",
       " 'append_if_even': <function __main__.append_if_even(x, lst=None)>,\n",
       " '_i50': 'append_if_even(2)',\n",
       " '_50': [2, 4],\n",
       " '_i51': 'append_if_even(4)',\n",
       " '_51': [2, 4],\n",
       " '_i52': '# пример решения задачи без ошибки:\\ndef append_if_even(x, lst=None):\\n    if lst is None:\\n        lst = []\\n    if x % 2 == 0: \\n        lst.append(x) \\n    return lst ',\n",
       " '_i53': 'append_if_even(2)',\n",
       " '_53': [2],\n",
       " '_i54': 'append_if_even(4)',\n",
       " '_54': [4],\n",
       " '_i55': 'def min_med_max(l):\\n    \"Возвращает минимальное, медианное и максимальное значение итерируемого объекта (списка)\"\\n    ls = sorted(l)\\n    l_min = ls[0]\\n    l_max = ls[-1]\\n    l_med = ls[len(ls)//2]\\n    return l_min, l_med, l_max # удобный синтаксис для запаковки результатов в кортеж',\n",
       " 'min_med_max': <function __main__.min_med_max(l)>,\n",
       " '_i56': 'min_med_max([3, 1, 100, 11, 7])',\n",
       " '_56': (1, 7, 100),\n",
       " '_i57': \"print(f'min1: {min1}, med1: {med1}, max1: {max1}')\",\n",
       " '_i58': '# распаковка кортежа, возвращаемого функцией:\\nmin1, med1, max1 = min_med_max([3, 1, 100, 11, 7])',\n",
       " 'min1': 1,\n",
       " 'med1': 7,\n",
       " 'max1': 100,\n",
       " '_i59': \"print(f'min1: {min1}, med1: {med1}, max1: {max1}')\",\n",
       " '_i60': 'all_res = min_med_max([3, 1, 100, 11, 7])\\nall_res',\n",
       " 'all_res': (1, 7, 100),\n",
       " '_60': (1, 7, 100),\n",
       " '_i61': '# неудобный способ передачи параметров:\\nmulti_summa(t1[0], t1[1], t1[2])',\n",
       " '_i62': 't1 = (5, 10 ,15)\\nt2 = [25, 35, 45]\\nt3 = (5, 10 ,15, 20)',\n",
       " 't1': (5, 10, 15),\n",
       " 't2': [25, 35, 45],\n",
       " 't3': (5, 10, 15, 20),\n",
       " '_i63': '# неудобный способ передачи параметров:\\nmulti_summa(t1[0], t1[1], t1[2])',\n",
       " '_63': 1605,\n",
       " '_i64': 'multi_summa(*t2)',\n",
       " '_64': 4875,\n",
       " '_i65': 't1 = (5, 10 ,15)\\nt2 = [25, 35, 45]\\nt3 = (5, 10 ,15, 20)',\n",
       " '_i66': '# неудобный способ передачи параметров:\\nmulti_summa(t1[0], t1[1], t1[2])',\n",
       " '_66': 1605,\n",
       " '_i67': '# распаковка (картеж распаковывается в позиционные аргументы):\\nmulti_summa(*t1)',\n",
       " '_67': 1605,\n",
       " '_i68': 'multi_summa(*t2)',\n",
       " '_68': 4875,\n",
       " '_i69': '# Ошибка! количество передаваемых параметров \\n# должно равняться количеству объявленных в функции параметров:\\nmulti_summa(*t3)',\n",
       " '_i70': '# решение проблемы:\\nmulti_summa(*t3[:3])',\n",
       " '_70': 1605,\n",
       " '_i71': \"d1 = {'x': 11, 'y': 12, 'z': 13}\",\n",
       " 'd1': {'x': 11, 'y': 12, 'z': 13},\n",
       " '_i72': 'multi_summa(**d1)',\n",
       " '_72': 1431,\n",
       " '_i73': \"t3 = [0, -1]\\nd2 = {'z': -2}\\n# сначала позиционные параметры, потом пары имя - значение:\\nmulti_summa(*t3, **d2)\",\n",
       " 'd2': {'z': -2},\n",
       " '_73': -210,\n",
       " '_i74': \"t3 = [0, -1]\\nd2 = {'z': -2}\\n# сначала позиционные параметры, потом пары имя - значение:\\nmulti_summa(*t3, **d2)\",\n",
       " '_74': -210,\n",
       " '_i75': \"print(1, 3, 4, 'val')\",\n",
       " '_i76': 'def min_med_max(l):\\n    \"Возвращает минимальное, медианное и максимальное значение итерируемого объекта (списка)\"\\n    ls = sorted(l)\\n    l_min = ls[0]\\n    l_max = ls[-1]\\n    l_med = ls[len(ls)//2]\\n    return l_min, l_med, l_max # удобный синтаксис для запаковки результатов в кортеж',\n",
       " '_i77': 'min_med_max([3, 1, 100, 11, 7])',\n",
       " '_77': (1, 7, 100),\n",
       " '_i78': 'def min_med_max(l):\\n    \"Возвращает минимальное, медианное и максимальное значение итерируемого объекта (списка)\"\\n    ls = sorted(l)\\n    l_min = ls[0]\\n    l_max = ls[-1]\\n    l_med = ls[len(ls)//2]\\n    return l_min, l_med, l_max # удобный синтаксис для запаковки результатов в кортеж',\n",
       " '_i79': 'min_med_max([3, 1, 100, 11, 7])',\n",
       " '_79': (1, 7, 100),\n",
       " '_i80': '# распаковка кортежа, возвращаемого функцией:\\nmin1, med1, max1 = min_med_max([3, 1, 100, 11, 7])',\n",
       " '_i81': \"print(f'min1: {min1}, med1: {med1}, max1: {max1}')\",\n",
       " '_i82': 'all_res = min_med_max([3, 1, 100, 11, 7])\\nall_res',\n",
       " '_82': (1, 7, 100),\n",
       " '_i83': 'min_med_max([3, 1, 100, 11, 7])',\n",
       " '_83': (1, 7, 100),\n",
       " '_i84': '# неудобный способ передачи параметров:\\nmulti_summa(t1[0], t1[1], t1[2])',\n",
       " '_84': 1605,\n",
       " '_i85': 't1 = (5, 10 ,15)\\nt2 = [25, 35, 45]\\nt3 = (5, 10 ,15, 20)',\n",
       " '_i86': '# неудобный способ передачи параметров:\\nmulti_summa(t1[0], t1[1], t1[2])',\n",
       " '_86': 1605,\n",
       " '_i87': '# распаковка (картеж распаковывается в позиционные аргументы):\\nmulti_summa(*t1)',\n",
       " '_87': 1605,\n",
       " '_i88': 'multi_summa(*t2)',\n",
       " '_88': 4875,\n",
       " '_i89': '# Ошибка! количество передаваемых параметров \\n# должно равняться количеству объявленных в функции параметров:\\nmulti_summa(*t3)',\n",
       " '_i90': '# решение проблемы:\\nmulti_summa(*t3[:3])',\n",
       " '_90': 1605,\n",
       " '_i91': \"d1 = {'x': 11, 'y': 12, 'z': 13}\",\n",
       " '_i92': \"multi_summa(x=d1['x'], y=d1['y'], z=d1['z'])\",\n",
       " '_92': 1431,\n",
       " '_i93': 'multi_summa(**d1)',\n",
       " '_93': 1431,\n",
       " '_i94': \"print(1, 3, 5, 'val')\",\n",
       " '_i95': '# упаковка последовательности параметров в параметр-кортеж:\\ndef all_summa(*t): \\n    \"\"\"Функция принимает произвольное количество параметров\"\"\" \\n#     print(type(t)) # проверка типа параметра\\n    res = 0\\n    for i in t: \\n        res += i \\n    return  res ',\n",
       " 'all_summa': <function __main__.all_summa(*t)>,\n",
       " '_i96': 'all_summa(10, 20, 30, 40, 50)',\n",
       " '_96': 150,\n",
       " '_i97': 't4 = [10, 20, 30, 40, 50, 60, 70]\\n# одновременная распаковка (t4) и упаковка (в параметр функции t):\\nall_summa(*t4)',\n",
       " 't4': [10, 20, 30, 40, 50, 60, 70],\n",
       " '_97': 280,\n",
       " '_i98': 'all_summa(t4)',\n",
       " '_i99': 'def d_summa(**d): \\n    for k, v in d.items():  #  Перебираем словарь с переданными параметрами \\n        print(f\"{k} => {v}\", end=\"; \") ',\n",
       " 'd_summa': <function __main__.d_summa(**d)>,\n",
       " '_i100': 'd_summa(a=1, x=10, z=-2)',\n",
       " '_i101': 'def c_summa(*t, **d): \\n    for v in t: \\n        print(v, end=\"; \") \\n    for k, v in d.items(): \\n        print(f\"{k} => {v}\", end=\"; \") ',\n",
       " 'c_summa': <function __main__.c_summa(*t, **d)>,\n",
       " '_i102': 'c_summa(10, 20, 30, 42, a=1, b=2)',\n",
       " '_i103': 'def echo(m): \\n    \"\"\"  Пример функции с параметром \"\"\" \\n    print(m) ',\n",
       " '_i104': 'help(echo)',\n",
       " '_i105': '?echo',\n",
       " '_i106': '?print',\n",
       " '_i107': 'echo.__doc__',\n",
       " '_107': '  Пример функции с параметром ',\n",
       " '_i108': 'summa.__doc__',\n",
       " '_i109': 'from typing import Callable, Iterator, Iterable, Mapping, Union, Optional, Tuple, List, Dict, Any\\nfrom typing import get_type_hints\\nimport __main__',\n",
       " 'Callable': typing.Callable,\n",
       " 'Iterator': typing.Iterator,\n",
       " 'Iterable': typing.Iterable,\n",
       " 'Mapping': typing.Mapping,\n",
       " 'Union': typing.Union,\n",
       " 'Optional': typing.Optional,\n",
       " 'Tuple': typing.Tuple,\n",
       " 'List': typing.List,\n",
       " 'Dict': typing.Dict,\n",
       " 'Any': typing.Any,\n",
       " 'get_type_hints': <function typing.get_type_hints(obj, globalns=None, localns=None)>,\n",
       " '__main__': <module '__main__'>,\n",
       " '_i110': '# аннотация для аргумента и возвращаемого значения:\\ndef stringify(num: int) -> str:\\n    return str(num)\\n\\n# аннотация для функции многих аргументов:\\ndef plus(num1: int, num2: int) -> int:\\n    return num1 + num2\\n\\n# аннотация для функций с несколькими параметрами:\\ndef f(num1: int, my_float: float = 3.5) -> float:\\n    return num1 + my_float',\n",
       " 'stringify': <function __main__.stringify(num: int) -> str>,\n",
       " 'plus': <function __main__.plus(num1: int, num2: int) -> int>,\n",
       " '_i111': '# получение аннотации функции:\\nstringify.__annotations__',\n",
       " '_111': {'num': int, 'return': str},\n",
       " '_i112': '# получение аннотаций переменных текущего модуля:\\nget_type_hints(__main__)',\n",
       " '_112': {},\n",
       " '_i113': 'li1: List[int] = [1, 2]',\n",
       " '__annotations__': {'li1': typing.List[int],\n",
       "  'di1': typing.Dict[str, float],\n",
       "  'tu1': typing.Tuple[int, ...],\n",
       "  'wo_init': str,\n",
       "  'st1': typing.Union[str, NoneType],\n",
       "  'x': typing.Any},\n",
       " 'li1': [1, 2],\n",
       " '_i114': \"di1: Dict[str, float] = {'length': 10.0, 'width': 100.0}\",\n",
       " 'di1': {'length': 10.0, 'width': 100.0},\n",
       " '_i115': 'tu1: Tuple[str, float, float] = (\"rect\", 10.0, 100.0)',\n",
       " 'tu1': (1, 2, 3),\n",
       " '_i116': '# аннтация переменной, которая может указывать на кортежа разного размера\\ntu1: Tuple[int, ...] = (1, 2, 3) ',\n",
       " '_i117': '# можно даже проаннотировать не инициализированную переменную:\\nwo_init: str',\n",
       " '_i118': '# получение аннотаций переменных текущего модуля:\\nget_type_hints(__main__)',\n",
       " '_118': {'li1': typing.List[int],\n",
       "  'di1': typing.Dict[str, float],\n",
       "  'tu1': typing.Tuple[int, ...],\n",
       "  'wo_init': str},\n",
       " '_i119': '# Optional[X] эквивалентно: Union[X, None]\\nst1: Optional[str] = None',\n",
       " 'st1': 'My string',\n",
       " '_i120': \"st1 = 'My string'\",\n",
       " '_i121': 'def mystery_function():\\n    return None',\n",
       " 'mystery_function': <function __main__.mystery_function()>,\n",
       " '_i122': '# Аннотация Any для случая, когда тип неизвестен или слишком \"динамичен\":\\nx: Any = mystery_function()',\n",
       " '_i123': 'def scale(scalar: float, vector: List[float]) -> List[float]:\\n    return [scalar * num for num in vector]\\n\\nnew_vector = scale(2.0, [1.0, -4.2, 5.4])',\n",
       " 'scale': <function __main__.scale(scalar: float, vector: List[float]) -> List[float]>,\n",
       " 'new_vector': [2.0, -8.4, 10.8],\n",
       " '_i124': 'scale.__annotations__',\n",
       " '_124': {'scalar': float,\n",
       "  'vector': typing.List[float],\n",
       "  'return': typing.List[float]},\n",
       " '_i125': 'Vector = List[float]\\n\\ndef scale2(scalar: float, vector: Vector) -> Vector:\\n    return [scalar * num for num in vector]\\n\\nnew_vector = scale2(2.0, [1.0, -4.2, 5.4])',\n",
       " 'Vector': typing.List[float],\n",
       " 'scale2': <function __main__.scale2(scalar: float, vector: List[float]) -> List[float]>,\n",
       " '_i126': 'scale2.__annotations__',\n",
       " '_126': {'scalar': float,\n",
       "  'vector': typing.List[float],\n",
       "  'return': typing.List[float]},\n",
       " '_i127': 'Более сложные типы аннотаций:',\n",
       " '_i128': 'scale2.__annotations__',\n",
       " '_128': {'scalar': float,\n",
       "  'vector': typing.List[float],\n",
       "  'return': typing.List[float]},\n",
       " '_i129': 'Более сложные типы аннотаций:',\n",
       " '_i130': '# Анотация Iterable используется для любых представителей \\n# iterables (что-то что можно обойти с помощьюу \"for\"),\\n# и Sequence (поддерживают \"len\" и \"__getitem__\") \\ndef f(ints: Iterable[int]) -> List[str]:\\n    return [str(x) for x in ints]\\n\\nf(range(1, 3))',\n",
       " '_130': ['1', '2'],\n",
       " '_i131': '# Mapping описывает объекты с интерфейсом словаря (имеющие \"__getitem__\") (для не поддерживающих изменения)\\n# и для поддерживающих изменения: MutableMapping (имеющие и \"__getitem__\" и \"__setitem__\")\\ndef f(my_mapping: Mapping[int, str]) -> List[int]:\\n#     my_mapping[5] = \\'maybe\\'  # if we try this, mypy will throw an error...\\n    return list(my_mapping.keys())',\n",
       " '_i132': \"def change(a, b): \\n    а = 20\\n    b = 'str'\",\n",
       " 'change': <function __main__.change(a, b)>,\n",
       " '_i133': \"v1 = 30\\nv2 = 'val'\\nchange(v1, v2)\\nprint(f'v1: {v1}')\\nprint(f'v2: {v2}')\",\n",
       " 'v1': 30,\n",
       " 'v2': 'val',\n",
       " '_i134': 'def change2(a): \\n    a.append(10)',\n",
       " 'change2': <function __main__.change2(a)>,\n",
       " '_i135': 's1 = [1]\\n# изменяемый объект может быть неявно изменен внутри функции:\\nchange2(s1)\\ns1',\n",
       " 's1': [1, 10],\n",
       " '_135': [1, 10],\n",
       " '_i136': 'def func_glob(glob2): \\n    print(\"----Вход в функцию func_glob\")\\n    print(\"    Значение  глобальной nеременной glоb = \",  glob)     \\n    print(\"    Значение  ЛОКАЛЬНОЙ nеременной glоb2 = \",  glob2) \\n    glob2 += 10 \\n    print(\"    Значение  ЛОКАЛЬНОЙ переменной glob2 = \", glob2) \\n    print(\"----Выход из функции func_glob\")    \\n\\nglob, glob2 = 10, 5 \\nprint(\"Значение глобальной nеременной glоb = \",  glob)     \\nprint(\"Значение глобальной nеременной glоb2 = \",  glob2) \\nfunc_glob(77)  #  Вызываем функцию \\nprint(\"Значение глобальной nеременной glоb = \",  glob)     \\nprint(\"Значение глобальной nеременной glоb2 = \",  glob2)',\n",
       " 'func_glob': <function __main__.func_glob(glob2)>,\n",
       " 'glob': 25,\n",
       " 'glob2': 5,\n",
       " '_i137': 'def func():\\n    loc = 77 # Локальная  переменная \\n    glob = 25 # Локальная  переменная \\n    print(\\'Значение glob внутри функции: \\', glob)\\n\\nglob = 10 #  Глобальная  переменная \\nfunc() # Вызываем функцию \\n\\nprint(\"Значение glob вне  функции: \", glob) \\ntry: \\n    print(loc)  #  Вызовет исключение NameError \\nexcept NameError:  #  Обрабатываем исключение \\n    print(\"Переменная lос не видна вне функции\") ',\n",
       " '_i138': 'def func():\\n    global glob\\n    loc = 77 #  Локальная  переменная \\n    glob = 25 #  Локальная  переменная \\n    print(\\'Значение glob внутри функции: \\', glob)\\n\\nglob = 10 #  Глобальная  переменная \\nfunc() # Вызываем функцию \\nprint(\"Значение glob вне  функции: \", glob) ',\n",
       " '_i139': 'globals()'}"
      ]
     },
     "execution_count": 139,
     "metadata": {},
     "output_type": "execute_result"
    }
   ],
   "source": [
    "globals()"
   ]
  },
  {
   "cell_type": "code",
   "execution_count": 140,
   "metadata": {},
   "outputs": [
    {
     "data": {
      "text/plain": [
       "{'__name__': '__main__',\n",
       " '__doc__': 'Automatically created module for IPython interactive environment',\n",
       " '__package__': None,\n",
       " '__loader__': None,\n",
       " '__spec__': None,\n",
       " '__builtin__': <module 'builtins' (built-in)>,\n",
       " '__builtins__': <module 'builtins' (built-in)>,\n",
       " '_ih': ['',\n",
       "  'def func(): \\n    pass ',\n",
       "  'func()',\n",
       "  'def  func(): \\n    print (\"Текст до инструкции return\") \\n    return  \"Возвращаемое  значение\" \\n    print (\"Эта инструкция никогда не будет выполнена\") ',\n",
       "  'func()',\n",
       "  \"r = func()\\nprint(f'Результат {r}')\",\n",
       "  \"r = func()\\nprint(f'Результат: {r}')\",\n",
       "  'def print_ok(): \\n    \"\"\"  Пример  функции  без  \\n            параметров  \"\"\" \\n    print(\"Сообщение при удачно выполненной операции\") \\n    \\ndef echo(m): \\n    \"\"\"  Пример функции с параметром \"\"\" \\n    print(m) \\n    \\ndef summa(x, у): \\n    \"\"\"  Пример функции с параметрами, \\n    возвращающей сумму двух переменных\"\"\"\\n    return x + у\\n\\ndef pow2(x, у): \\n    \"\"\"  Пример функции с параметрами, \\n    возвращающей значение х в степени y\"\"\"\\n    return x ** у',\n",
       "  'def print_ok(): \\n    \"\"\"  Пример  функции  без  \\n            параметров  \"\"\" \\n    print(\"Сообщение при удачно выполненной операции\") \\n    \\ndef echo(m): \\n    \"\"\"  Пример функции с параметром \"\"\" \\n    print(m) \\n    \\ndef summa(x, у): \\n    \"\"\"  Пример функции с параметрами, \\n    возвращающей сумму двух переменных\"\"\"\\n    return x + у\\n\\ndef pow2(x, у): \\n    \"\"\"  Пример функции с параметрами, \\n    возвращающей значение х в степени y\"\"\"\\n    return x ** у',\n",
       "  'print_ok()',\n",
       "  'echo(\"Сообщение\")',\n",
       "  'x = summa(5, 2)\\nx',\n",
       "  'y, x = 10, 40\\nz = summa(y, x)\\nz',\n",
       "  'y, x = 10, 40\\nz = summa(y, x)\\nz',\n",
       "  \"# в Python нет ограничений на тип значений передваемых в функцию:\\nsumma('str', 'ing')\",\n",
       "  'summa([1, 3], [5, 7])',\n",
       "  'f = summa\\nv = f(10, 20)\\nv',\n",
       "  'type(summa)',\n",
       "  'type(f)',\n",
       "  '# функции в Python можно передавать в качестве аргументов других функций:\\ndef  func(fp,  а,  b): \\n    \"\"\" Через переменную fp будет доступна ссылка на \\n    функцию summa() \"\"\"\\n    return fp(а, b)  #  Вызываем функцию summa()',\n",
       "  'func(summa, 10, 20)',\n",
       "  'func(f, 10, 20)',\n",
       "  'func(razn, 10, 20)',\n",
       "  'func(f, 10, 20)',\n",
       "  'def razn(a, b):\\n    return a - b',\n",
       "  'func(razn, 10, 20)',\n",
       "  'summa.__name__',\n",
       "  'f.__name__',\n",
       "  \"# неверно!\\nf2()\\n\\ndef f2():\\n    print('Функция f2!')\",\n",
       "  \"for i in range(5):\\n    if i > 2:\\n        f2()\\n    def f2():\\n        print('Функция f2!')\\n# работает т.к. определение функции было выполнено ранее, чем вызов        \",\n",
       "  \"for i in range(5):\\n    if i > 2:\\n        f2()\\n    def f2():\\n        print('Функция f2!')\\n# работает т.к. определение функции было выполнено ранее, чем вызов        \",\n",
       "  '# Оnределение функции в зависимости от условия\\nn = input(\"Введите 1 для вызова первой функции:\") \\nn = n.rstrip(\"\\\\r\")\\nif n == \"1\": \\n    def echo(): \\n        print(\"Вызов первой функции\") \\nelse: \\n    def echo(): \\n        print (\"Апьтернативная функция\") \\necho() # Вызываем функцию ',\n",
       "  'fl = lambda: 10 + 20  # функция без nараметров \\nf2 = lambda х, y:  х + y  # функция с двумя nараметрами \\nf3 = lambda х, y, z: х + y + z  # функция с тремя nараметрами \\nprint(fl())\\nprint(f2(5, 10))\\nprint(f3(5, 10, 30))',\n",
       "  'arr  =  [\"единица1\",  \"Единый\",  \"Единица2\"] \\narr.sort() \\nprint(arr)\\n# распространенный пример использования лямбда-функций:\\narr.sort(key=lambda s: s.lower()) \\nprint(arr)',\n",
       "  'arr  =  [\"единица1\",  \"Единый\",  \"Единица2\"] \\narr.sort() \\nprint(arr)\\n# распространенный пример использования лямбда-функций:\\narr.sort(key=lambda s: s.lower()) \\nprint(arr)',\n",
       "  \"ls = ['дыня', 'вишня', 'арбуз', 'яблоко', 'абрикос']\",\n",
       "  'sorted(ls)',\n",
       "  'sorted(ls, key=len)',\n",
       "  'def summa(x, y=2):\\n    return x + y',\n",
       "  'summa(5)',\n",
       "  'summa(5, 4)',\n",
       "  '# ошибка:\\ndef bad(a, b=1, с):\\n    return a + b + c',\n",
       "  'summa(y=10, x=20)',\n",
       "  'def multi_summa(x=1, y=1, z=1):\\n    return x + 10 * y + 100 * z',\n",
       "  'multi_summa(1, 2, 3)',\n",
       "  'multi_summa(1, 2)',\n",
       "  'multi_summa(5)',\n",
       "  'multi_summa()',\n",
       "  'multi_summa(z=3)',\n",
       "  'def append_if_even(x, lst=[]): # ОШИБКА! \\n    if x % 2 == 0: \\n        lst.append(x) \\n    return lst ',\n",
       "  'append_if_even(2)',\n",
       "  'append_if_even(4)',\n",
       "  '# пример решения задачи без ошибки:\\ndef append_if_even(x, lst=None):\\n    if lst is None:\\n        lst = []\\n    if x % 2 == 0: \\n        lst.append(x) \\n    return lst ',\n",
       "  'append_if_even(2)',\n",
       "  'append_if_even(4)',\n",
       "  'def min_med_max(l):\\n    \"Возвращает минимальное, медианное и максимальное значение итерируемого объекта (списка)\"\\n    ls = sorted(l)\\n    l_min = ls[0]\\n    l_max = ls[-1]\\n    l_med = ls[len(ls)//2]\\n    return l_min, l_med, l_max # удобный синтаксис для запаковки результатов в кортеж',\n",
       "  'min_med_max([3, 1, 100, 11, 7])',\n",
       "  \"print(f'min1: {min1}, med1: {med1}, max1: {max1}')\",\n",
       "  '# распаковка кортежа, возвращаемого функцией:\\nmin1, med1, max1 = min_med_max([3, 1, 100, 11, 7])',\n",
       "  \"print(f'min1: {min1}, med1: {med1}, max1: {max1}')\",\n",
       "  'all_res = min_med_max([3, 1, 100, 11, 7])\\nall_res',\n",
       "  '# неудобный способ передачи параметров:\\nmulti_summa(t1[0], t1[1], t1[2])',\n",
       "  't1 = (5, 10 ,15)\\nt2 = [25, 35, 45]\\nt3 = (5, 10 ,15, 20)',\n",
       "  '# неудобный способ передачи параметров:\\nmulti_summa(t1[0], t1[1], t1[2])',\n",
       "  'multi_summa(*t2)',\n",
       "  't1 = (5, 10 ,15)\\nt2 = [25, 35, 45]\\nt3 = (5, 10 ,15, 20)',\n",
       "  '# неудобный способ передачи параметров:\\nmulti_summa(t1[0], t1[1], t1[2])',\n",
       "  '# распаковка (картеж распаковывается в позиционные аргументы):\\nmulti_summa(*t1)',\n",
       "  'multi_summa(*t2)',\n",
       "  '# Ошибка! количество передаваемых параметров \\n# должно равняться количеству объявленных в функции параметров:\\nmulti_summa(*t3)',\n",
       "  '# решение проблемы:\\nmulti_summa(*t3[:3])',\n",
       "  \"d1 = {'x': 11, 'y': 12, 'z': 13}\",\n",
       "  'multi_summa(**d1)',\n",
       "  \"t3 = [0, -1]\\nd2 = {'z': -2}\\n# сначала позиционные параметры, потом пары имя - значение:\\nmulti_summa(*t3, **d2)\",\n",
       "  \"t3 = [0, -1]\\nd2 = {'z': -2}\\n# сначала позиционные параметры, потом пары имя - значение:\\nmulti_summa(*t3, **d2)\",\n",
       "  \"print(1, 3, 4, 'val')\",\n",
       "  'def min_med_max(l):\\n    \"Возвращает минимальное, медианное и максимальное значение итерируемого объекта (списка)\"\\n    ls = sorted(l)\\n    l_min = ls[0]\\n    l_max = ls[-1]\\n    l_med = ls[len(ls)//2]\\n    return l_min, l_med, l_max # удобный синтаксис для запаковки результатов в кортеж',\n",
       "  'min_med_max([3, 1, 100, 11, 7])',\n",
       "  'def min_med_max(l):\\n    \"Возвращает минимальное, медианное и максимальное значение итерируемого объекта (списка)\"\\n    ls = sorted(l)\\n    l_min = ls[0]\\n    l_max = ls[-1]\\n    l_med = ls[len(ls)//2]\\n    return l_min, l_med, l_max # удобный синтаксис для запаковки результатов в кортеж',\n",
       "  'min_med_max([3, 1, 100, 11, 7])',\n",
       "  '# распаковка кортежа, возвращаемого функцией:\\nmin1, med1, max1 = min_med_max([3, 1, 100, 11, 7])',\n",
       "  \"print(f'min1: {min1}, med1: {med1}, max1: {max1}')\",\n",
       "  'all_res = min_med_max([3, 1, 100, 11, 7])\\nall_res',\n",
       "  'min_med_max([3, 1, 100, 11, 7])',\n",
       "  '# неудобный способ передачи параметров:\\nmulti_summa(t1[0], t1[1], t1[2])',\n",
       "  't1 = (5, 10 ,15)\\nt2 = [25, 35, 45]\\nt3 = (5, 10 ,15, 20)',\n",
       "  '# неудобный способ передачи параметров:\\nmulti_summa(t1[0], t1[1], t1[2])',\n",
       "  '# распаковка (картеж распаковывается в позиционные аргументы):\\nmulti_summa(*t1)',\n",
       "  'multi_summa(*t2)',\n",
       "  '# Ошибка! количество передаваемых параметров \\n# должно равняться количеству объявленных в функции параметров:\\nmulti_summa(*t3)',\n",
       "  '# решение проблемы:\\nmulti_summa(*t3[:3])',\n",
       "  \"d1 = {'x': 11, 'y': 12, 'z': 13}\",\n",
       "  \"multi_summa(x=d1['x'], y=d1['y'], z=d1['z'])\",\n",
       "  'multi_summa(**d1)',\n",
       "  \"print(1, 3, 5, 'val')\",\n",
       "  '# упаковка последовательности параметров в параметр-кортеж:\\ndef all_summa(*t): \\n    \"\"\"Функция принимает произвольное количество параметров\"\"\" \\n#     print(type(t)) # проверка типа параметра\\n    res = 0\\n    for i in t: \\n        res += i \\n    return  res ',\n",
       "  'all_summa(10, 20, 30, 40, 50)',\n",
       "  't4 = [10, 20, 30, 40, 50, 60, 70]\\n# одновременная распаковка (t4) и упаковка (в параметр функции t):\\nall_summa(*t4)',\n",
       "  'all_summa(t4)',\n",
       "  'def d_summa(**d): \\n    for k, v in d.items():  #  Перебираем словарь с переданными параметрами \\n        print(f\"{k} => {v}\", end=\"; \") ',\n",
       "  'd_summa(a=1, x=10, z=-2)',\n",
       "  'def c_summa(*t, **d): \\n    for v in t: \\n        print(v, end=\"; \") \\n    for k, v in d.items(): \\n        print(f\"{k} => {v}\", end=\"; \") ',\n",
       "  'c_summa(10, 20, 30, 42, a=1, b=2)',\n",
       "  'def echo(m): \\n    \"\"\"  Пример функции с параметром \"\"\" \\n    print(m) ',\n",
       "  'help(echo)',\n",
       "  \"get_ipython().run_line_magic('pinfo', 'echo')\",\n",
       "  \"get_ipython().run_line_magic('pinfo', 'print')\",\n",
       "  'echo.__doc__',\n",
       "  'summa.__doc__',\n",
       "  'from typing import Callable, Iterator, Iterable, Mapping, Union, Optional, Tuple, List, Dict, Any\\nfrom typing import get_type_hints\\nimport __main__',\n",
       "  '# аннотация для аргумента и возвращаемого значения:\\ndef stringify(num: int) -> str:\\n    return str(num)\\n\\n# аннотация для функции многих аргументов:\\ndef plus(num1: int, num2: int) -> int:\\n    return num1 + num2\\n\\n# аннотация для функций с несколькими параметрами:\\ndef f(num1: int, my_float: float = 3.5) -> float:\\n    return num1 + my_float',\n",
       "  '# получение аннотации функции:\\nstringify.__annotations__',\n",
       "  '# получение аннотаций переменных текущего модуля:\\nget_type_hints(__main__)',\n",
       "  'li1: List[int] = [1, 2]',\n",
       "  \"di1: Dict[str, float] = {'length': 10.0, 'width': 100.0}\",\n",
       "  'tu1: Tuple[str, float, float] = (\"rect\", 10.0, 100.0)',\n",
       "  '# аннтация переменной, которая может указывать на кортежа разного размера\\ntu1: Tuple[int, ...] = (1, 2, 3) ',\n",
       "  '# можно даже проаннотировать не инициализированную переменную:\\nwo_init: str',\n",
       "  '# получение аннотаций переменных текущего модуля:\\nget_type_hints(__main__)',\n",
       "  '# Optional[X] эквивалентно: Union[X, None]\\nst1: Optional[str] = None',\n",
       "  \"st1 = 'My string'\",\n",
       "  'def mystery_function():\\n    return None',\n",
       "  '# Аннотация Any для случая, когда тип неизвестен или слишком \"динамичен\":\\nx: Any = mystery_function()',\n",
       "  'def scale(scalar: float, vector: List[float]) -> List[float]:\\n    return [scalar * num for num in vector]\\n\\nnew_vector = scale(2.0, [1.0, -4.2, 5.4])',\n",
       "  'scale.__annotations__',\n",
       "  'Vector = List[float]\\n\\ndef scale2(scalar: float, vector: Vector) -> Vector:\\n    return [scalar * num for num in vector]\\n\\nnew_vector = scale2(2.0, [1.0, -4.2, 5.4])',\n",
       "  'scale2.__annotations__',\n",
       "  'Более сложные типы аннотаций:',\n",
       "  'scale2.__annotations__',\n",
       "  'Более сложные типы аннотаций:',\n",
       "  '# Анотация Iterable используется для любых представителей \\n# iterables (что-то что можно обойти с помощьюу \"for\"),\\n# и Sequence (поддерживают \"len\" и \"__getitem__\") \\ndef f(ints: Iterable[int]) -> List[str]:\\n    return [str(x) for x in ints]\\n\\nf(range(1, 3))',\n",
       "  '# Mapping описывает объекты с интерфейсом словаря (имеющие \"__getitem__\") (для не поддерживающих изменения)\\n# и для поддерживающих изменения: MutableMapping (имеющие и \"__getitem__\" и \"__setitem__\")\\ndef f(my_mapping: Mapping[int, str]) -> List[int]:\\n#     my_mapping[5] = \\'maybe\\'  # if we try this, mypy will throw an error...\\n    return list(my_mapping.keys())',\n",
       "  \"def change(a, b): \\n    а = 20\\n    b = 'str'\",\n",
       "  \"v1 = 30\\nv2 = 'val'\\nchange(v1, v2)\\nprint(f'v1: {v1}')\\nprint(f'v2: {v2}')\",\n",
       "  'def change2(a): \\n    a.append(10)',\n",
       "  's1 = [1]\\n# изменяемый объект может быть неявно изменен внутри функции:\\nchange2(s1)\\ns1',\n",
       "  'def func_glob(glob2): \\n    print(\"----Вход в функцию func_glob\")\\n    print(\"    Значение  глобальной nеременной glоb = \",  glob)     \\n    print(\"    Значение  ЛОКАЛЬНОЙ nеременной glоb2 = \",  glob2) \\n    glob2 += 10 \\n    print(\"    Значение  ЛОКАЛЬНОЙ переменной glob2 = \", glob2) \\n    print(\"----Выход из функции func_glob\")    \\n\\nglob, glob2 = 10, 5 \\nprint(\"Значение глобальной nеременной glоb = \",  glob)     \\nprint(\"Значение глобальной nеременной glоb2 = \",  glob2) \\nfunc_glob(77)  #  Вызываем функцию \\nprint(\"Значение глобальной nеременной glоb = \",  glob)     \\nprint(\"Значение глобальной nеременной glоb2 = \",  glob2)',\n",
       "  'def func():\\n    loc = 77 # Локальная  переменная \\n    glob = 25 # Локальная  переменная \\n    print(\\'Значение glob внутри функции: \\', glob)\\n\\nglob = 10 #  Глобальная  переменная \\nfunc() # Вызываем функцию \\n\\nprint(\"Значение glob вне  функции: \", glob) \\ntry: \\n    print(loc)  #  Вызовет исключение NameError \\nexcept NameError:  #  Обрабатываем исключение \\n    print(\"Переменная lос не видна вне функции\") ',\n",
       "  'def func():\\n    global glob\\n    loc = 77 #  Локальная  переменная \\n    glob = 25 #  Локальная  переменная \\n    print(\\'Значение glob внутри функции: \\', glob)\\n\\nglob = 10 #  Глобальная  переменная \\nfunc() # Вызываем функцию \\nprint(\"Значение glob вне  функции: \", glob) ',\n",
       "  'globals()',\n",
       "  'locals()'],\n",
       " '_oh': {4: 'Возвращаемое  значение',\n",
       "  11: 7,\n",
       "  12: 50,\n",
       "  13: 50,\n",
       "  14: 'string',\n",
       "  15: [1, 3, 5, 7],\n",
       "  16: 30,\n",
       "  17: function,\n",
       "  18: function,\n",
       "  20: 30,\n",
       "  21: 30,\n",
       "  23: 30,\n",
       "  25: -10,\n",
       "  26: 'summa',\n",
       "  27: 'summa',\n",
       "  36: ['абрикос', 'арбуз', 'вишня', 'дыня', 'яблоко'],\n",
       "  37: ['дыня', 'вишня', 'арбуз', 'яблоко', 'абрикос'],\n",
       "  39: 7,\n",
       "  40: 9,\n",
       "  42: 30,\n",
       "  44: 321,\n",
       "  45: 121,\n",
       "  46: 115,\n",
       "  47: 111,\n",
       "  48: 311,\n",
       "  50: [2, 4],\n",
       "  51: [2, 4],\n",
       "  53: [2],\n",
       "  54: [4],\n",
       "  56: (1, 7, 100),\n",
       "  60: (1, 7, 100),\n",
       "  63: 1605,\n",
       "  64: 4875,\n",
       "  66: 1605,\n",
       "  67: 1605,\n",
       "  68: 4875,\n",
       "  70: 1605,\n",
       "  72: 1431,\n",
       "  73: -210,\n",
       "  74: -210,\n",
       "  77: (1, 7, 100),\n",
       "  79: (1, 7, 100),\n",
       "  82: (1, 7, 100),\n",
       "  83: (1, 7, 100),\n",
       "  84: 1605,\n",
       "  86: 1605,\n",
       "  87: 1605,\n",
       "  88: 4875,\n",
       "  90: 1605,\n",
       "  92: 1431,\n",
       "  93: 1431,\n",
       "  96: 150,\n",
       "  97: 280,\n",
       "  107: '  Пример функции с параметром ',\n",
       "  111: {'num': int, 'return': str},\n",
       "  112: {},\n",
       "  118: {'li1': typing.List[int],\n",
       "   'di1': typing.Dict[str, float],\n",
       "   'tu1': typing.Tuple[int, ...],\n",
       "   'wo_init': str},\n",
       "  124: {'scalar': float,\n",
       "   'vector': typing.List[float],\n",
       "   'return': typing.List[float]},\n",
       "  126: {'scalar': float,\n",
       "   'vector': typing.List[float],\n",
       "   'return': typing.List[float]},\n",
       "  128: {'scalar': float,\n",
       "   'vector': typing.List[float],\n",
       "   'return': typing.List[float]},\n",
       "  130: ['1', '2'],\n",
       "  135: [1, 10],\n",
       "  139: {...}},\n",
       " '_dh': ['E:\\\\YandexDisk\\\\Python\\\\Ipynb\\\\fa1_2021\\\\lec04_functions'],\n",
       " 'In': ['',\n",
       "  'def func(): \\n    pass ',\n",
       "  'func()',\n",
       "  'def  func(): \\n    print (\"Текст до инструкции return\") \\n    return  \"Возвращаемое  значение\" \\n    print (\"Эта инструкция никогда не будет выполнена\") ',\n",
       "  'func()',\n",
       "  \"r = func()\\nprint(f'Результат {r}')\",\n",
       "  \"r = func()\\nprint(f'Результат: {r}')\",\n",
       "  'def print_ok(): \\n    \"\"\"  Пример  функции  без  \\n            параметров  \"\"\" \\n    print(\"Сообщение при удачно выполненной операции\") \\n    \\ndef echo(m): \\n    \"\"\"  Пример функции с параметром \"\"\" \\n    print(m) \\n    \\ndef summa(x, у): \\n    \"\"\"  Пример функции с параметрами, \\n    возвращающей сумму двух переменных\"\"\"\\n    return x + у\\n\\ndef pow2(x, у): \\n    \"\"\"  Пример функции с параметрами, \\n    возвращающей значение х в степени y\"\"\"\\n    return x ** у',\n",
       "  'def print_ok(): \\n    \"\"\"  Пример  функции  без  \\n            параметров  \"\"\" \\n    print(\"Сообщение при удачно выполненной операции\") \\n    \\ndef echo(m): \\n    \"\"\"  Пример функции с параметром \"\"\" \\n    print(m) \\n    \\ndef summa(x, у): \\n    \"\"\"  Пример функции с параметрами, \\n    возвращающей сумму двух переменных\"\"\"\\n    return x + у\\n\\ndef pow2(x, у): \\n    \"\"\"  Пример функции с параметрами, \\n    возвращающей значение х в степени y\"\"\"\\n    return x ** у',\n",
       "  'print_ok()',\n",
       "  'echo(\"Сообщение\")',\n",
       "  'x = summa(5, 2)\\nx',\n",
       "  'y, x = 10, 40\\nz = summa(y, x)\\nz',\n",
       "  'y, x = 10, 40\\nz = summa(y, x)\\nz',\n",
       "  \"# в Python нет ограничений на тип значений передваемых в функцию:\\nsumma('str', 'ing')\",\n",
       "  'summa([1, 3], [5, 7])',\n",
       "  'f = summa\\nv = f(10, 20)\\nv',\n",
       "  'type(summa)',\n",
       "  'type(f)',\n",
       "  '# функции в Python можно передавать в качестве аргументов других функций:\\ndef  func(fp,  а,  b): \\n    \"\"\" Через переменную fp будет доступна ссылка на \\n    функцию summa() \"\"\"\\n    return fp(а, b)  #  Вызываем функцию summa()',\n",
       "  'func(summa, 10, 20)',\n",
       "  'func(f, 10, 20)',\n",
       "  'func(razn, 10, 20)',\n",
       "  'func(f, 10, 20)',\n",
       "  'def razn(a, b):\\n    return a - b',\n",
       "  'func(razn, 10, 20)',\n",
       "  'summa.__name__',\n",
       "  'f.__name__',\n",
       "  \"# неверно!\\nf2()\\n\\ndef f2():\\n    print('Функция f2!')\",\n",
       "  \"for i in range(5):\\n    if i > 2:\\n        f2()\\n    def f2():\\n        print('Функция f2!')\\n# работает т.к. определение функции было выполнено ранее, чем вызов        \",\n",
       "  \"for i in range(5):\\n    if i > 2:\\n        f2()\\n    def f2():\\n        print('Функция f2!')\\n# работает т.к. определение функции было выполнено ранее, чем вызов        \",\n",
       "  '# Оnределение функции в зависимости от условия\\nn = input(\"Введите 1 для вызова первой функции:\") \\nn = n.rstrip(\"\\\\r\")\\nif n == \"1\": \\n    def echo(): \\n        print(\"Вызов первой функции\") \\nelse: \\n    def echo(): \\n        print (\"Апьтернативная функция\") \\necho() # Вызываем функцию ',\n",
       "  'fl = lambda: 10 + 20  # функция без nараметров \\nf2 = lambda х, y:  х + y  # функция с двумя nараметрами \\nf3 = lambda х, y, z: х + y + z  # функция с тремя nараметрами \\nprint(fl())\\nprint(f2(5, 10))\\nprint(f3(5, 10, 30))',\n",
       "  'arr  =  [\"единица1\",  \"Единый\",  \"Единица2\"] \\narr.sort() \\nprint(arr)\\n# распространенный пример использования лямбда-функций:\\narr.sort(key=lambda s: s.lower()) \\nprint(arr)',\n",
       "  'arr  =  [\"единица1\",  \"Единый\",  \"Единица2\"] \\narr.sort() \\nprint(arr)\\n# распространенный пример использования лямбда-функций:\\narr.sort(key=lambda s: s.lower()) \\nprint(arr)',\n",
       "  \"ls = ['дыня', 'вишня', 'арбуз', 'яблоко', 'абрикос']\",\n",
       "  'sorted(ls)',\n",
       "  'sorted(ls, key=len)',\n",
       "  'def summa(x, y=2):\\n    return x + y',\n",
       "  'summa(5)',\n",
       "  'summa(5, 4)',\n",
       "  '# ошибка:\\ndef bad(a, b=1, с):\\n    return a + b + c',\n",
       "  'summa(y=10, x=20)',\n",
       "  'def multi_summa(x=1, y=1, z=1):\\n    return x + 10 * y + 100 * z',\n",
       "  'multi_summa(1, 2, 3)',\n",
       "  'multi_summa(1, 2)',\n",
       "  'multi_summa(5)',\n",
       "  'multi_summa()',\n",
       "  'multi_summa(z=3)',\n",
       "  'def append_if_even(x, lst=[]): # ОШИБКА! \\n    if x % 2 == 0: \\n        lst.append(x) \\n    return lst ',\n",
       "  'append_if_even(2)',\n",
       "  'append_if_even(4)',\n",
       "  '# пример решения задачи без ошибки:\\ndef append_if_even(x, lst=None):\\n    if lst is None:\\n        lst = []\\n    if x % 2 == 0: \\n        lst.append(x) \\n    return lst ',\n",
       "  'append_if_even(2)',\n",
       "  'append_if_even(4)',\n",
       "  'def min_med_max(l):\\n    \"Возвращает минимальное, медианное и максимальное значение итерируемого объекта (списка)\"\\n    ls = sorted(l)\\n    l_min = ls[0]\\n    l_max = ls[-1]\\n    l_med = ls[len(ls)//2]\\n    return l_min, l_med, l_max # удобный синтаксис для запаковки результатов в кортеж',\n",
       "  'min_med_max([3, 1, 100, 11, 7])',\n",
       "  \"print(f'min1: {min1}, med1: {med1}, max1: {max1}')\",\n",
       "  '# распаковка кортежа, возвращаемого функцией:\\nmin1, med1, max1 = min_med_max([3, 1, 100, 11, 7])',\n",
       "  \"print(f'min1: {min1}, med1: {med1}, max1: {max1}')\",\n",
       "  'all_res = min_med_max([3, 1, 100, 11, 7])\\nall_res',\n",
       "  '# неудобный способ передачи параметров:\\nmulti_summa(t1[0], t1[1], t1[2])',\n",
       "  't1 = (5, 10 ,15)\\nt2 = [25, 35, 45]\\nt3 = (5, 10 ,15, 20)',\n",
       "  '# неудобный способ передачи параметров:\\nmulti_summa(t1[0], t1[1], t1[2])',\n",
       "  'multi_summa(*t2)',\n",
       "  't1 = (5, 10 ,15)\\nt2 = [25, 35, 45]\\nt3 = (5, 10 ,15, 20)',\n",
       "  '# неудобный способ передачи параметров:\\nmulti_summa(t1[0], t1[1], t1[2])',\n",
       "  '# распаковка (картеж распаковывается в позиционные аргументы):\\nmulti_summa(*t1)',\n",
       "  'multi_summa(*t2)',\n",
       "  '# Ошибка! количество передаваемых параметров \\n# должно равняться количеству объявленных в функции параметров:\\nmulti_summa(*t3)',\n",
       "  '# решение проблемы:\\nmulti_summa(*t3[:3])',\n",
       "  \"d1 = {'x': 11, 'y': 12, 'z': 13}\",\n",
       "  'multi_summa(**d1)',\n",
       "  \"t3 = [0, -1]\\nd2 = {'z': -2}\\n# сначала позиционные параметры, потом пары имя - значение:\\nmulti_summa(*t3, **d2)\",\n",
       "  \"t3 = [0, -1]\\nd2 = {'z': -2}\\n# сначала позиционные параметры, потом пары имя - значение:\\nmulti_summa(*t3, **d2)\",\n",
       "  \"print(1, 3, 4, 'val')\",\n",
       "  'def min_med_max(l):\\n    \"Возвращает минимальное, медианное и максимальное значение итерируемого объекта (списка)\"\\n    ls = sorted(l)\\n    l_min = ls[0]\\n    l_max = ls[-1]\\n    l_med = ls[len(ls)//2]\\n    return l_min, l_med, l_max # удобный синтаксис для запаковки результатов в кортеж',\n",
       "  'min_med_max([3, 1, 100, 11, 7])',\n",
       "  'def min_med_max(l):\\n    \"Возвращает минимальное, медианное и максимальное значение итерируемого объекта (списка)\"\\n    ls = sorted(l)\\n    l_min = ls[0]\\n    l_max = ls[-1]\\n    l_med = ls[len(ls)//2]\\n    return l_min, l_med, l_max # удобный синтаксис для запаковки результатов в кортеж',\n",
       "  'min_med_max([3, 1, 100, 11, 7])',\n",
       "  '# распаковка кортежа, возвращаемого функцией:\\nmin1, med1, max1 = min_med_max([3, 1, 100, 11, 7])',\n",
       "  \"print(f'min1: {min1}, med1: {med1}, max1: {max1}')\",\n",
       "  'all_res = min_med_max([3, 1, 100, 11, 7])\\nall_res',\n",
       "  'min_med_max([3, 1, 100, 11, 7])',\n",
       "  '# неудобный способ передачи параметров:\\nmulti_summa(t1[0], t1[1], t1[2])',\n",
       "  't1 = (5, 10 ,15)\\nt2 = [25, 35, 45]\\nt3 = (5, 10 ,15, 20)',\n",
       "  '# неудобный способ передачи параметров:\\nmulti_summa(t1[0], t1[1], t1[2])',\n",
       "  '# распаковка (картеж распаковывается в позиционные аргументы):\\nmulti_summa(*t1)',\n",
       "  'multi_summa(*t2)',\n",
       "  '# Ошибка! количество передаваемых параметров \\n# должно равняться количеству объявленных в функции параметров:\\nmulti_summa(*t3)',\n",
       "  '# решение проблемы:\\nmulti_summa(*t3[:3])',\n",
       "  \"d1 = {'x': 11, 'y': 12, 'z': 13}\",\n",
       "  \"multi_summa(x=d1['x'], y=d1['y'], z=d1['z'])\",\n",
       "  'multi_summa(**d1)',\n",
       "  \"print(1, 3, 5, 'val')\",\n",
       "  '# упаковка последовательности параметров в параметр-кортеж:\\ndef all_summa(*t): \\n    \"\"\"Функция принимает произвольное количество параметров\"\"\" \\n#     print(type(t)) # проверка типа параметра\\n    res = 0\\n    for i in t: \\n        res += i \\n    return  res ',\n",
       "  'all_summa(10, 20, 30, 40, 50)',\n",
       "  't4 = [10, 20, 30, 40, 50, 60, 70]\\n# одновременная распаковка (t4) и упаковка (в параметр функции t):\\nall_summa(*t4)',\n",
       "  'all_summa(t4)',\n",
       "  'def d_summa(**d): \\n    for k, v in d.items():  #  Перебираем словарь с переданными параметрами \\n        print(f\"{k} => {v}\", end=\"; \") ',\n",
       "  'd_summa(a=1, x=10, z=-2)',\n",
       "  'def c_summa(*t, **d): \\n    for v in t: \\n        print(v, end=\"; \") \\n    for k, v in d.items(): \\n        print(f\"{k} => {v}\", end=\"; \") ',\n",
       "  'c_summa(10, 20, 30, 42, a=1, b=2)',\n",
       "  'def echo(m): \\n    \"\"\"  Пример функции с параметром \"\"\" \\n    print(m) ',\n",
       "  'help(echo)',\n",
       "  \"get_ipython().run_line_magic('pinfo', 'echo')\",\n",
       "  \"get_ipython().run_line_magic('pinfo', 'print')\",\n",
       "  'echo.__doc__',\n",
       "  'summa.__doc__',\n",
       "  'from typing import Callable, Iterator, Iterable, Mapping, Union, Optional, Tuple, List, Dict, Any\\nfrom typing import get_type_hints\\nimport __main__',\n",
       "  '# аннотация для аргумента и возвращаемого значения:\\ndef stringify(num: int) -> str:\\n    return str(num)\\n\\n# аннотация для функции многих аргументов:\\ndef plus(num1: int, num2: int) -> int:\\n    return num1 + num2\\n\\n# аннотация для функций с несколькими параметрами:\\ndef f(num1: int, my_float: float = 3.5) -> float:\\n    return num1 + my_float',\n",
       "  '# получение аннотации функции:\\nstringify.__annotations__',\n",
       "  '# получение аннотаций переменных текущего модуля:\\nget_type_hints(__main__)',\n",
       "  'li1: List[int] = [1, 2]',\n",
       "  \"di1: Dict[str, float] = {'length': 10.0, 'width': 100.0}\",\n",
       "  'tu1: Tuple[str, float, float] = (\"rect\", 10.0, 100.0)',\n",
       "  '# аннтация переменной, которая может указывать на кортежа разного размера\\ntu1: Tuple[int, ...] = (1, 2, 3) ',\n",
       "  '# можно даже проаннотировать не инициализированную переменную:\\nwo_init: str',\n",
       "  '# получение аннотаций переменных текущего модуля:\\nget_type_hints(__main__)',\n",
       "  '# Optional[X] эквивалентно: Union[X, None]\\nst1: Optional[str] = None',\n",
       "  \"st1 = 'My string'\",\n",
       "  'def mystery_function():\\n    return None',\n",
       "  '# Аннотация Any для случая, когда тип неизвестен или слишком \"динамичен\":\\nx: Any = mystery_function()',\n",
       "  'def scale(scalar: float, vector: List[float]) -> List[float]:\\n    return [scalar * num for num in vector]\\n\\nnew_vector = scale(2.0, [1.0, -4.2, 5.4])',\n",
       "  'scale.__annotations__',\n",
       "  'Vector = List[float]\\n\\ndef scale2(scalar: float, vector: Vector) -> Vector:\\n    return [scalar * num for num in vector]\\n\\nnew_vector = scale2(2.0, [1.0, -4.2, 5.4])',\n",
       "  'scale2.__annotations__',\n",
       "  'Более сложные типы аннотаций:',\n",
       "  'scale2.__annotations__',\n",
       "  'Более сложные типы аннотаций:',\n",
       "  '# Анотация Iterable используется для любых представителей \\n# iterables (что-то что можно обойти с помощьюу \"for\"),\\n# и Sequence (поддерживают \"len\" и \"__getitem__\") \\ndef f(ints: Iterable[int]) -> List[str]:\\n    return [str(x) for x in ints]\\n\\nf(range(1, 3))',\n",
       "  '# Mapping описывает объекты с интерфейсом словаря (имеющие \"__getitem__\") (для не поддерживающих изменения)\\n# и для поддерживающих изменения: MutableMapping (имеющие и \"__getitem__\" и \"__setitem__\")\\ndef f(my_mapping: Mapping[int, str]) -> List[int]:\\n#     my_mapping[5] = \\'maybe\\'  # if we try this, mypy will throw an error...\\n    return list(my_mapping.keys())',\n",
       "  \"def change(a, b): \\n    а = 20\\n    b = 'str'\",\n",
       "  \"v1 = 30\\nv2 = 'val'\\nchange(v1, v2)\\nprint(f'v1: {v1}')\\nprint(f'v2: {v2}')\",\n",
       "  'def change2(a): \\n    a.append(10)',\n",
       "  's1 = [1]\\n# изменяемый объект может быть неявно изменен внутри функции:\\nchange2(s1)\\ns1',\n",
       "  'def func_glob(glob2): \\n    print(\"----Вход в функцию func_glob\")\\n    print(\"    Значение  глобальной nеременной glоb = \",  glob)     \\n    print(\"    Значение  ЛОКАЛЬНОЙ nеременной glоb2 = \",  glob2) \\n    glob2 += 10 \\n    print(\"    Значение  ЛОКАЛЬНОЙ переменной glob2 = \", glob2) \\n    print(\"----Выход из функции func_glob\")    \\n\\nglob, glob2 = 10, 5 \\nprint(\"Значение глобальной nеременной glоb = \",  glob)     \\nprint(\"Значение глобальной nеременной glоb2 = \",  glob2) \\nfunc_glob(77)  #  Вызываем функцию \\nprint(\"Значение глобальной nеременной glоb = \",  glob)     \\nprint(\"Значение глобальной nеременной glоb2 = \",  glob2)',\n",
       "  'def func():\\n    loc = 77 # Локальная  переменная \\n    glob = 25 # Локальная  переменная \\n    print(\\'Значение glob внутри функции: \\', glob)\\n\\nglob = 10 #  Глобальная  переменная \\nfunc() # Вызываем функцию \\n\\nprint(\"Значение glob вне  функции: \", glob) \\ntry: \\n    print(loc)  #  Вызовет исключение NameError \\nexcept NameError:  #  Обрабатываем исключение \\n    print(\"Переменная lос не видна вне функции\") ',\n",
       "  'def func():\\n    global glob\\n    loc = 77 #  Локальная  переменная \\n    glob = 25 #  Локальная  переменная \\n    print(\\'Значение glob внутри функции: \\', glob)\\n\\nglob = 10 #  Глобальная  переменная \\nfunc() # Вызываем функцию \\nprint(\"Значение glob вне  функции: \", glob) ',\n",
       "  'globals()',\n",
       "  'locals()'],\n",
       " 'Out': {4: 'Возвращаемое  значение',\n",
       "  11: 7,\n",
       "  12: 50,\n",
       "  13: 50,\n",
       "  14: 'string',\n",
       "  15: [1, 3, 5, 7],\n",
       "  16: 30,\n",
       "  17: function,\n",
       "  18: function,\n",
       "  20: 30,\n",
       "  21: 30,\n",
       "  23: 30,\n",
       "  25: -10,\n",
       "  26: 'summa',\n",
       "  27: 'summa',\n",
       "  36: ['абрикос', 'арбуз', 'вишня', 'дыня', 'яблоко'],\n",
       "  37: ['дыня', 'вишня', 'арбуз', 'яблоко', 'абрикос'],\n",
       "  39: 7,\n",
       "  40: 9,\n",
       "  42: 30,\n",
       "  44: 321,\n",
       "  45: 121,\n",
       "  46: 115,\n",
       "  47: 111,\n",
       "  48: 311,\n",
       "  50: [2, 4],\n",
       "  51: [2, 4],\n",
       "  53: [2],\n",
       "  54: [4],\n",
       "  56: (1, 7, 100),\n",
       "  60: (1, 7, 100),\n",
       "  63: 1605,\n",
       "  64: 4875,\n",
       "  66: 1605,\n",
       "  67: 1605,\n",
       "  68: 4875,\n",
       "  70: 1605,\n",
       "  72: 1431,\n",
       "  73: -210,\n",
       "  74: -210,\n",
       "  77: (1, 7, 100),\n",
       "  79: (1, 7, 100),\n",
       "  82: (1, 7, 100),\n",
       "  83: (1, 7, 100),\n",
       "  84: 1605,\n",
       "  86: 1605,\n",
       "  87: 1605,\n",
       "  88: 4875,\n",
       "  90: 1605,\n",
       "  92: 1431,\n",
       "  93: 1431,\n",
       "  96: 150,\n",
       "  97: 280,\n",
       "  107: '  Пример функции с параметром ',\n",
       "  111: {'num': int, 'return': str},\n",
       "  112: {},\n",
       "  118: {'li1': typing.List[int],\n",
       "   'di1': typing.Dict[str, float],\n",
       "   'tu1': typing.Tuple[int, ...],\n",
       "   'wo_init': str},\n",
       "  124: {'scalar': float,\n",
       "   'vector': typing.List[float],\n",
       "   'return': typing.List[float]},\n",
       "  126: {'scalar': float,\n",
       "   'vector': typing.List[float],\n",
       "   'return': typing.List[float]},\n",
       "  128: {'scalar': float,\n",
       "   'vector': typing.List[float],\n",
       "   'return': typing.List[float]},\n",
       "  130: ['1', '2'],\n",
       "  135: [1, 10],\n",
       "  139: {...}},\n",
       " 'get_ipython': <bound method InteractiveShell.get_ipython of <ipykernel.zmqshell.ZMQInteractiveShell object at 0x00000183B585ED08>>,\n",
       " 'exit': <IPython.core.autocall.ZMQExitAutocall at 0x183b58d9408>,\n",
       " 'quit': <IPython.core.autocall.ZMQExitAutocall at 0x183b58d9408>,\n",
       " '_': {...},\n",
       " '__': [1, 10],\n",
       " '___': ['1', '2'],\n",
       " '_i': 'globals()',\n",
       " '_ii': 'def func():\\n    global glob\\n    loc = 77 #  Локальная  переменная \\n    glob = 25 #  Локальная  переменная \\n    print(\\'Значение glob внутри функции: \\', glob)\\n\\nglob = 10 #  Глобальная  переменная \\nfunc() # Вызываем функцию \\nprint(\"Значение glob вне  функции: \", glob) ',\n",
       " '_iii': 'def func():\\n    loc = 77 # Локальная  переменная \\n    glob = 25 # Локальная  переменная \\n    print(\\'Значение glob внутри функции: \\', glob)\\n\\nglob = 10 #  Глобальная  переменная \\nfunc() # Вызываем функцию \\n\\nprint(\"Значение glob вне  функции: \", glob) \\ntry: \\n    print(loc)  #  Вызовет исключение NameError \\nexcept NameError:  #  Обрабатываем исключение \\n    print(\"Переменная lос не видна вне функции\") ',\n",
       " '_i1': 'def func(): \\n    pass ',\n",
       " 'func': <function __main__.func()>,\n",
       " '_i2': 'func()',\n",
       " '_i3': 'def  func(): \\n    print (\"Текст до инструкции return\") \\n    return  \"Возвращаемое  значение\" \\n    print (\"Эта инструкция никогда не будет выполнена\") ',\n",
       " '_i4': 'func()',\n",
       " '_4': 'Возвращаемое  значение',\n",
       " '_i5': \"r = func()\\nprint(f'Результат {r}')\",\n",
       " 'r': 'Возвращаемое  значение',\n",
       " '_i6': \"r = func()\\nprint(f'Результат: {r}')\",\n",
       " '_i7': 'def print_ok(): \\n    \"\"\"  Пример  функции  без  \\n            параметров  \"\"\" \\n    print(\"Сообщение при удачно выполненной операции\") \\n    \\ndef echo(m): \\n    \"\"\"  Пример функции с параметром \"\"\" \\n    print(m) \\n    \\ndef summa(x, у): \\n    \"\"\"  Пример функции с параметрами, \\n    возвращающей сумму двух переменных\"\"\"\\n    return x + у\\n\\ndef pow2(x, у): \\n    \"\"\"  Пример функции с параметрами, \\n    возвращающей значение х в степени y\"\"\"\\n    return x ** у',\n",
       " 'print_ok': <function __main__.print_ok()>,\n",
       " 'echo': <function __main__.echo(m)>,\n",
       " 'summa': <function __main__.summa(x, y=2)>,\n",
       " 'pow2': <function __main__.pow2(x, у)>,\n",
       " '_i8': 'def print_ok(): \\n    \"\"\"  Пример  функции  без  \\n            параметров  \"\"\" \\n    print(\"Сообщение при удачно выполненной операции\") \\n    \\ndef echo(m): \\n    \"\"\"  Пример функции с параметром \"\"\" \\n    print(m) \\n    \\ndef summa(x, у): \\n    \"\"\"  Пример функции с параметрами, \\n    возвращающей сумму двух переменных\"\"\"\\n    return x + у\\n\\ndef pow2(x, у): \\n    \"\"\"  Пример функции с параметрами, \\n    возвращающей значение х в степени y\"\"\"\\n    return x ** у',\n",
       " '_i9': 'print_ok()',\n",
       " '_i10': 'echo(\"Сообщение\")',\n",
       " '_i11': 'x = summa(5, 2)\\nx',\n",
       " 'x': None,\n",
       " '_11': 7,\n",
       " '_i12': 'y, x = 10, 40\\nz = summa(y, x)\\nz',\n",
       " 'y': 10,\n",
       " 'z': 50,\n",
       " '_12': 50,\n",
       " '_i13': 'y, x = 10, 40\\nz = summa(y, x)\\nz',\n",
       " '_13': 50,\n",
       " '_i14': \"# в Python нет ограничений на тип значений передваемых в функцию:\\nsumma('str', 'ing')\",\n",
       " '_14': 'string',\n",
       " '_i15': 'summa([1, 3], [5, 7])',\n",
       " '_15': [1, 3, 5, 7],\n",
       " '_i16': 'f = summa\\nv = f(10, 20)\\nv',\n",
       " 'f': <function __main__.f(my_mapping: Mapping[int, str]) -> List[int]>,\n",
       " 'v': 30,\n",
       " '_16': 30,\n",
       " '_i17': 'type(summa)',\n",
       " '_17': function,\n",
       " '_i18': 'type(f)',\n",
       " '_18': function,\n",
       " '_i19': '# функции в Python можно передавать в качестве аргументов других функций:\\ndef  func(fp,  а,  b): \\n    \"\"\" Через переменную fp будет доступна ссылка на \\n    функцию summa() \"\"\"\\n    return fp(а, b)  #  Вызываем функцию summa()',\n",
       " '_i20': 'func(summa, 10, 20)',\n",
       " '_20': 30,\n",
       " '_i21': 'func(f, 10, 20)',\n",
       " '_21': 30,\n",
       " '_i22': 'func(razn, 10, 20)',\n",
       " '_i23': 'func(f, 10, 20)',\n",
       " '_23': 30,\n",
       " '_i24': 'def razn(a, b):\\n    return a - b',\n",
       " 'razn': <function __main__.razn(a, b)>,\n",
       " '_i25': 'func(razn, 10, 20)',\n",
       " '_25': -10,\n",
       " '_i26': 'summa.__name__',\n",
       " '_26': 'summa',\n",
       " '_i27': 'f.__name__',\n",
       " '_27': 'summa',\n",
       " '_i28': \"# неверно!\\nf2()\\n\\ndef f2():\\n    print('Функция f2!')\",\n",
       " '_i29': \"for i in range(5):\\n    if i > 2:\\n        f2()\\n    def f2():\\n        print('Функция f2!')\\n# работает т.к. определение функции было выполнено ранее, чем вызов        \",\n",
       " 'i': 4,\n",
       " 'f2': <function __main__.<lambda>(х, y)>,\n",
       " '_i30': \"for i in range(5):\\n    if i > 2:\\n        f2()\\n    def f2():\\n        print('Функция f2!')\\n# работает т.к. определение функции было выполнено ранее, чем вызов        \",\n",
       " '_i31': '# Оnределение функции в зависимости от условия\\nn = input(\"Введите 1 для вызова первой функции:\") \\nn = n.rstrip(\"\\\\r\")\\nif n == \"1\": \\n    def echo(): \\n        print(\"Вызов первой функции\") \\nelse: \\n    def echo(): \\n        print (\"Апьтернативная функция\") \\necho() # Вызываем функцию ',\n",
       " 'n': '1',\n",
       " '_i32': 'fl = lambda: 10 + 20  # функция без nараметров \\nf2 = lambda х, y:  х + y  # функция с двумя nараметрами \\nf3 = lambda х, y, z: х + y + z  # функция с тремя nараметрами \\nprint(fl())\\nprint(f2(5, 10))\\nprint(f3(5, 10, 30))',\n",
       " 'fl': <function __main__.<lambda>()>,\n",
       " 'f3': <function __main__.<lambda>(х, y, z)>,\n",
       " '_i33': 'arr  =  [\"единица1\",  \"Единый\",  \"Единица2\"] \\narr.sort() \\nprint(arr)\\n# распространенный пример использования лямбда-функций:\\narr.sort(key=lambda s: s.lower()) \\nprint(arr)',\n",
       " 'arr': ['единица1', 'Единица2', 'Единый'],\n",
       " '_i34': 'arr  =  [\"единица1\",  \"Единый\",  \"Единица2\"] \\narr.sort() \\nprint(arr)\\n# распространенный пример использования лямбда-функций:\\narr.sort(key=lambda s: s.lower()) \\nprint(arr)',\n",
       " '_i35': \"ls = ['дыня', 'вишня', 'арбуз', 'яблоко', 'абрикос']\",\n",
       " 'ls': ['дыня', 'вишня', 'арбуз', 'яблоко', 'абрикос'],\n",
       " '_i36': 'sorted(ls)',\n",
       " '_36': ['абрикос', 'арбуз', 'вишня', 'дыня', 'яблоко'],\n",
       " '_i37': 'sorted(ls, key=len)',\n",
       " '_37': ['дыня', 'вишня', 'арбуз', 'яблоко', 'абрикос'],\n",
       " '_i38': 'def summa(x, y=2):\\n    return x + y',\n",
       " '_i39': 'summa(5)',\n",
       " '_39': 7,\n",
       " '_i40': 'summa(5, 4)',\n",
       " '_40': 9,\n",
       " '_i41': '# ошибка:\\ndef bad(a, b=1, с):\\n    return a + b + c',\n",
       " '_i42': 'summa(y=10, x=20)',\n",
       " '_42': 30,\n",
       " '_i43': 'def multi_summa(x=1, y=1, z=1):\\n    return x + 10 * y + 100 * z',\n",
       " 'multi_summa': <function __main__.multi_summa(x=1, y=1, z=1)>,\n",
       " '_i44': 'multi_summa(1, 2, 3)',\n",
       " '_44': 321,\n",
       " '_i45': 'multi_summa(1, 2)',\n",
       " '_45': 121,\n",
       " '_i46': 'multi_summa(5)',\n",
       " '_46': 115,\n",
       " '_i47': 'multi_summa()',\n",
       " '_47': 111,\n",
       " '_i48': 'multi_summa(z=3)',\n",
       " '_48': 311,\n",
       " '_i49': 'def append_if_even(x, lst=[]): # ОШИБКА! \\n    if x % 2 == 0: \\n        lst.append(x) \\n    return lst ',\n",
       " 'append_if_even': <function __main__.append_if_even(x, lst=None)>,\n",
       " '_i50': 'append_if_even(2)',\n",
       " '_50': [2, 4],\n",
       " '_i51': 'append_if_even(4)',\n",
       " '_51': [2, 4],\n",
       " '_i52': '# пример решения задачи без ошибки:\\ndef append_if_even(x, lst=None):\\n    if lst is None:\\n        lst = []\\n    if x % 2 == 0: \\n        lst.append(x) \\n    return lst ',\n",
       " '_i53': 'append_if_even(2)',\n",
       " '_53': [2],\n",
       " '_i54': 'append_if_even(4)',\n",
       " '_54': [4],\n",
       " '_i55': 'def min_med_max(l):\\n    \"Возвращает минимальное, медианное и максимальное значение итерируемого объекта (списка)\"\\n    ls = sorted(l)\\n    l_min = ls[0]\\n    l_max = ls[-1]\\n    l_med = ls[len(ls)//2]\\n    return l_min, l_med, l_max # удобный синтаксис для запаковки результатов в кортеж',\n",
       " 'min_med_max': <function __main__.min_med_max(l)>,\n",
       " '_i56': 'min_med_max([3, 1, 100, 11, 7])',\n",
       " '_56': (1, 7, 100),\n",
       " '_i57': \"print(f'min1: {min1}, med1: {med1}, max1: {max1}')\",\n",
       " '_i58': '# распаковка кортежа, возвращаемого функцией:\\nmin1, med1, max1 = min_med_max([3, 1, 100, 11, 7])',\n",
       " 'min1': 1,\n",
       " 'med1': 7,\n",
       " 'max1': 100,\n",
       " '_i59': \"print(f'min1: {min1}, med1: {med1}, max1: {max1}')\",\n",
       " '_i60': 'all_res = min_med_max([3, 1, 100, 11, 7])\\nall_res',\n",
       " 'all_res': (1, 7, 100),\n",
       " '_60': (1, 7, 100),\n",
       " '_i61': '# неудобный способ передачи параметров:\\nmulti_summa(t1[0], t1[1], t1[2])',\n",
       " '_i62': 't1 = (5, 10 ,15)\\nt2 = [25, 35, 45]\\nt3 = (5, 10 ,15, 20)',\n",
       " 't1': (5, 10, 15),\n",
       " 't2': [25, 35, 45],\n",
       " 't3': (5, 10, 15, 20),\n",
       " '_i63': '# неудобный способ передачи параметров:\\nmulti_summa(t1[0], t1[1], t1[2])',\n",
       " '_63': 1605,\n",
       " '_i64': 'multi_summa(*t2)',\n",
       " '_64': 4875,\n",
       " '_i65': 't1 = (5, 10 ,15)\\nt2 = [25, 35, 45]\\nt3 = (5, 10 ,15, 20)',\n",
       " '_i66': '# неудобный способ передачи параметров:\\nmulti_summa(t1[0], t1[1], t1[2])',\n",
       " '_66': 1605,\n",
       " '_i67': '# распаковка (картеж распаковывается в позиционные аргументы):\\nmulti_summa(*t1)',\n",
       " '_67': 1605,\n",
       " '_i68': 'multi_summa(*t2)',\n",
       " '_68': 4875,\n",
       " '_i69': '# Ошибка! количество передаваемых параметров \\n# должно равняться количеству объявленных в функции параметров:\\nmulti_summa(*t3)',\n",
       " '_i70': '# решение проблемы:\\nmulti_summa(*t3[:3])',\n",
       " '_70': 1605,\n",
       " '_i71': \"d1 = {'x': 11, 'y': 12, 'z': 13}\",\n",
       " 'd1': {'x': 11, 'y': 12, 'z': 13},\n",
       " '_i72': 'multi_summa(**d1)',\n",
       " '_72': 1431,\n",
       " '_i73': \"t3 = [0, -1]\\nd2 = {'z': -2}\\n# сначала позиционные параметры, потом пары имя - значение:\\nmulti_summa(*t3, **d2)\",\n",
       " 'd2': {'z': -2},\n",
       " '_73': -210,\n",
       " '_i74': \"t3 = [0, -1]\\nd2 = {'z': -2}\\n# сначала позиционные параметры, потом пары имя - значение:\\nmulti_summa(*t3, **d2)\",\n",
       " '_74': -210,\n",
       " '_i75': \"print(1, 3, 4, 'val')\",\n",
       " '_i76': 'def min_med_max(l):\\n    \"Возвращает минимальное, медианное и максимальное значение итерируемого объекта (списка)\"\\n    ls = sorted(l)\\n    l_min = ls[0]\\n    l_max = ls[-1]\\n    l_med = ls[len(ls)//2]\\n    return l_min, l_med, l_max # удобный синтаксис для запаковки результатов в кортеж',\n",
       " '_i77': 'min_med_max([3, 1, 100, 11, 7])',\n",
       " '_77': (1, 7, 100),\n",
       " '_i78': 'def min_med_max(l):\\n    \"Возвращает минимальное, медианное и максимальное значение итерируемого объекта (списка)\"\\n    ls = sorted(l)\\n    l_min = ls[0]\\n    l_max = ls[-1]\\n    l_med = ls[len(ls)//2]\\n    return l_min, l_med, l_max # удобный синтаксис для запаковки результатов в кортеж',\n",
       " '_i79': 'min_med_max([3, 1, 100, 11, 7])',\n",
       " '_79': (1, 7, 100),\n",
       " '_i80': '# распаковка кортежа, возвращаемого функцией:\\nmin1, med1, max1 = min_med_max([3, 1, 100, 11, 7])',\n",
       " '_i81': \"print(f'min1: {min1}, med1: {med1}, max1: {max1}')\",\n",
       " '_i82': 'all_res = min_med_max([3, 1, 100, 11, 7])\\nall_res',\n",
       " '_82': (1, 7, 100),\n",
       " '_i83': 'min_med_max([3, 1, 100, 11, 7])',\n",
       " '_83': (1, 7, 100),\n",
       " '_i84': '# неудобный способ передачи параметров:\\nmulti_summa(t1[0], t1[1], t1[2])',\n",
       " '_84': 1605,\n",
       " '_i85': 't1 = (5, 10 ,15)\\nt2 = [25, 35, 45]\\nt3 = (5, 10 ,15, 20)',\n",
       " '_i86': '# неудобный способ передачи параметров:\\nmulti_summa(t1[0], t1[1], t1[2])',\n",
       " '_86': 1605,\n",
       " '_i87': '# распаковка (картеж распаковывается в позиционные аргументы):\\nmulti_summa(*t1)',\n",
       " '_87': 1605,\n",
       " '_i88': 'multi_summa(*t2)',\n",
       " '_88': 4875,\n",
       " '_i89': '# Ошибка! количество передаваемых параметров \\n# должно равняться количеству объявленных в функции параметров:\\nmulti_summa(*t3)',\n",
       " '_i90': '# решение проблемы:\\nmulti_summa(*t3[:3])',\n",
       " '_90': 1605,\n",
       " '_i91': \"d1 = {'x': 11, 'y': 12, 'z': 13}\",\n",
       " '_i92': \"multi_summa(x=d1['x'], y=d1['y'], z=d1['z'])\",\n",
       " '_92': 1431,\n",
       " '_i93': 'multi_summa(**d1)',\n",
       " '_93': 1431,\n",
       " '_i94': \"print(1, 3, 5, 'val')\",\n",
       " '_i95': '# упаковка последовательности параметров в параметр-кортеж:\\ndef all_summa(*t): \\n    \"\"\"Функция принимает произвольное количество параметров\"\"\" \\n#     print(type(t)) # проверка типа параметра\\n    res = 0\\n    for i in t: \\n        res += i \\n    return  res ',\n",
       " 'all_summa': <function __main__.all_summa(*t)>,\n",
       " '_i96': 'all_summa(10, 20, 30, 40, 50)',\n",
       " '_96': 150,\n",
       " '_i97': 't4 = [10, 20, 30, 40, 50, 60, 70]\\n# одновременная распаковка (t4) и упаковка (в параметр функции t):\\nall_summa(*t4)',\n",
       " 't4': [10, 20, 30, 40, 50, 60, 70],\n",
       " '_97': 280,\n",
       " '_i98': 'all_summa(t4)',\n",
       " '_i99': 'def d_summa(**d): \\n    for k, v in d.items():  #  Перебираем словарь с переданными параметрами \\n        print(f\"{k} => {v}\", end=\"; \") ',\n",
       " 'd_summa': <function __main__.d_summa(**d)>,\n",
       " '_i100': 'd_summa(a=1, x=10, z=-2)',\n",
       " '_i101': 'def c_summa(*t, **d): \\n    for v in t: \\n        print(v, end=\"; \") \\n    for k, v in d.items(): \\n        print(f\"{k} => {v}\", end=\"; \") ',\n",
       " 'c_summa': <function __main__.c_summa(*t, **d)>,\n",
       " '_i102': 'c_summa(10, 20, 30, 42, a=1, b=2)',\n",
       " '_i103': 'def echo(m): \\n    \"\"\"  Пример функции с параметром \"\"\" \\n    print(m) ',\n",
       " '_i104': 'help(echo)',\n",
       " '_i105': '?echo',\n",
       " '_i106': '?print',\n",
       " '_i107': 'echo.__doc__',\n",
       " '_107': '  Пример функции с параметром ',\n",
       " '_i108': 'summa.__doc__',\n",
       " '_i109': 'from typing import Callable, Iterator, Iterable, Mapping, Union, Optional, Tuple, List, Dict, Any\\nfrom typing import get_type_hints\\nimport __main__',\n",
       " 'Callable': typing.Callable,\n",
       " 'Iterator': typing.Iterator,\n",
       " 'Iterable': typing.Iterable,\n",
       " 'Mapping': typing.Mapping,\n",
       " 'Union': typing.Union,\n",
       " 'Optional': typing.Optional,\n",
       " 'Tuple': typing.Tuple,\n",
       " 'List': typing.List,\n",
       " 'Dict': typing.Dict,\n",
       " 'Any': typing.Any,\n",
       " 'get_type_hints': <function typing.get_type_hints(obj, globalns=None, localns=None)>,\n",
       " '__main__': <module '__main__'>,\n",
       " '_i110': '# аннотация для аргумента и возвращаемого значения:\\ndef stringify(num: int) -> str:\\n    return str(num)\\n\\n# аннотация для функции многих аргументов:\\ndef plus(num1: int, num2: int) -> int:\\n    return num1 + num2\\n\\n# аннотация для функций с несколькими параметрами:\\ndef f(num1: int, my_float: float = 3.5) -> float:\\n    return num1 + my_float',\n",
       " 'stringify': <function __main__.stringify(num: int) -> str>,\n",
       " 'plus': <function __main__.plus(num1: int, num2: int) -> int>,\n",
       " '_i111': '# получение аннотации функции:\\nstringify.__annotations__',\n",
       " '_111': {'num': int, 'return': str},\n",
       " '_i112': '# получение аннотаций переменных текущего модуля:\\nget_type_hints(__main__)',\n",
       " '_112': {},\n",
       " '_i113': 'li1: List[int] = [1, 2]',\n",
       " '__annotations__': {'li1': typing.List[int],\n",
       "  'di1': typing.Dict[str, float],\n",
       "  'tu1': typing.Tuple[int, ...],\n",
       "  'wo_init': str,\n",
       "  'st1': typing.Union[str, NoneType],\n",
       "  'x': typing.Any},\n",
       " 'li1': [1, 2],\n",
       " '_i114': \"di1: Dict[str, float] = {'length': 10.0, 'width': 100.0}\",\n",
       " 'di1': {'length': 10.0, 'width': 100.0},\n",
       " '_i115': 'tu1: Tuple[str, float, float] = (\"rect\", 10.0, 100.0)',\n",
       " 'tu1': (1, 2, 3),\n",
       " '_i116': '# аннтация переменной, которая может указывать на кортежа разного размера\\ntu1: Tuple[int, ...] = (1, 2, 3) ',\n",
       " '_i117': '# можно даже проаннотировать не инициализированную переменную:\\nwo_init: str',\n",
       " '_i118': '# получение аннотаций переменных текущего модуля:\\nget_type_hints(__main__)',\n",
       " '_118': {'li1': typing.List[int],\n",
       "  'di1': typing.Dict[str, float],\n",
       "  'tu1': typing.Tuple[int, ...],\n",
       "  'wo_init': str},\n",
       " '_i119': '# Optional[X] эквивалентно: Union[X, None]\\nst1: Optional[str] = None',\n",
       " 'st1': 'My string',\n",
       " '_i120': \"st1 = 'My string'\",\n",
       " '_i121': 'def mystery_function():\\n    return None',\n",
       " 'mystery_function': <function __main__.mystery_function()>,\n",
       " '_i122': '# Аннотация Any для случая, когда тип неизвестен или слишком \"динамичен\":\\nx: Any = mystery_function()',\n",
       " '_i123': 'def scale(scalar: float, vector: List[float]) -> List[float]:\\n    return [scalar * num for num in vector]\\n\\nnew_vector = scale(2.0, [1.0, -4.2, 5.4])',\n",
       " 'scale': <function __main__.scale(scalar: float, vector: List[float]) -> List[float]>,\n",
       " 'new_vector': [2.0, -8.4, 10.8],\n",
       " '_i124': 'scale.__annotations__',\n",
       " '_124': {'scalar': float,\n",
       "  'vector': typing.List[float],\n",
       "  'return': typing.List[float]},\n",
       " '_i125': 'Vector = List[float]\\n\\ndef scale2(scalar: float, vector: Vector) -> Vector:\\n    return [scalar * num for num in vector]\\n\\nnew_vector = scale2(2.0, [1.0, -4.2, 5.4])',\n",
       " 'Vector': typing.List[float],\n",
       " 'scale2': <function __main__.scale2(scalar: float, vector: List[float]) -> List[float]>,\n",
       " '_i126': 'scale2.__annotations__',\n",
       " '_126': {'scalar': float,\n",
       "  'vector': typing.List[float],\n",
       "  'return': typing.List[float]},\n",
       " '_i127': 'Более сложные типы аннотаций:',\n",
       " '_i128': 'scale2.__annotations__',\n",
       " '_128': {'scalar': float,\n",
       "  'vector': typing.List[float],\n",
       "  'return': typing.List[float]},\n",
       " '_i129': 'Более сложные типы аннотаций:',\n",
       " '_i130': '# Анотация Iterable используется для любых представителей \\n# iterables (что-то что можно обойти с помощьюу \"for\"),\\n# и Sequence (поддерживают \"len\" и \"__getitem__\") \\ndef f(ints: Iterable[int]) -> List[str]:\\n    return [str(x) for x in ints]\\n\\nf(range(1, 3))',\n",
       " '_130': ['1', '2'],\n",
       " '_i131': '# Mapping описывает объекты с интерфейсом словаря (имеющие \"__getitem__\") (для не поддерживающих изменения)\\n# и для поддерживающих изменения: MutableMapping (имеющие и \"__getitem__\" и \"__setitem__\")\\ndef f(my_mapping: Mapping[int, str]) -> List[int]:\\n#     my_mapping[5] = \\'maybe\\'  # if we try this, mypy will throw an error...\\n    return list(my_mapping.keys())',\n",
       " '_i132': \"def change(a, b): \\n    а = 20\\n    b = 'str'\",\n",
       " 'change': <function __main__.change(a, b)>,\n",
       " '_i133': \"v1 = 30\\nv2 = 'val'\\nchange(v1, v2)\\nprint(f'v1: {v1}')\\nprint(f'v2: {v2}')\",\n",
       " 'v1': 30,\n",
       " 'v2': 'val',\n",
       " '_i134': 'def change2(a): \\n    a.append(10)',\n",
       " 'change2': <function __main__.change2(a)>,\n",
       " '_i135': 's1 = [1]\\n# изменяемый объект может быть неявно изменен внутри функции:\\nchange2(s1)\\ns1',\n",
       " 's1': [1, 10],\n",
       " '_135': [1, 10],\n",
       " '_i136': 'def func_glob(glob2): \\n    print(\"----Вход в функцию func_glob\")\\n    print(\"    Значение  глобальной nеременной glоb = \",  glob)     \\n    print(\"    Значение  ЛОКАЛЬНОЙ nеременной glоb2 = \",  glob2) \\n    glob2 += 10 \\n    print(\"    Значение  ЛОКАЛЬНОЙ переменной glob2 = \", glob2) \\n    print(\"----Выход из функции func_glob\")    \\n\\nglob, glob2 = 10, 5 \\nprint(\"Значение глобальной nеременной glоb = \",  glob)     \\nprint(\"Значение глобальной nеременной glоb2 = \",  glob2) \\nfunc_glob(77)  #  Вызываем функцию \\nprint(\"Значение глобальной nеременной glоb = \",  glob)     \\nprint(\"Значение глобальной nеременной glоb2 = \",  glob2)',\n",
       " 'func_glob': <function __main__.func_glob(glob2)>,\n",
       " 'glob': 25,\n",
       " 'glob2': 5,\n",
       " '_i137': 'def func():\\n    loc = 77 # Локальная  переменная \\n    glob = 25 # Локальная  переменная \\n    print(\\'Значение glob внутри функции: \\', glob)\\n\\nglob = 10 #  Глобальная  переменная \\nfunc() # Вызываем функцию \\n\\nprint(\"Значение glob вне  функции: \", glob) \\ntry: \\n    print(loc)  #  Вызовет исключение NameError \\nexcept NameError:  #  Обрабатываем исключение \\n    print(\"Переменная lос не видна вне функции\") ',\n",
       " '_i138': 'def func():\\n    global glob\\n    loc = 77 #  Локальная  переменная \\n    glob = 25 #  Локальная  переменная \\n    print(\\'Значение glob внутри функции: \\', glob)\\n\\nglob = 10 #  Глобальная  переменная \\nfunc() # Вызываем функцию \\nprint(\"Значение glob вне  функции: \", glob) ',\n",
       " '_i139': 'globals()',\n",
       " '_139': {...},\n",
       " '_i140': 'locals()'}"
      ]
     },
     "execution_count": 140,
     "metadata": {},
     "output_type": "execute_result"
    }
   ],
   "source": [
    "locals()"
   ]
  },
  {
   "cell_type": "code",
   "execution_count": 141,
   "metadata": {},
   "outputs": [],
   "source": [
    "def func(): \n",
    "    loc = 54 \n",
    "    glob2 = 25 \n",
    "    print(\"Локальные идентификаторы внутри  функции\", sorted(vars().keys())) "
   ]
  },
  {
   "cell_type": "code",
   "execution_count": 142,
   "metadata": {},
   "outputs": [
    {
     "name": "stdout",
     "output_type": "stream",
     "text": [
      "Локальные идентификаторы внутри  функции ['glob2', 'loc']\n"
     ]
    }
   ],
   "source": [
    "func()"
   ]
  },
  {
   "cell_type": "markdown",
   "metadata": {},
   "source": [
    "#### Вложенные функции"
   ]
  },
  {
   "cell_type": "markdown",
   "metadata": {},
   "source": [
    "Одну функцию можно вложить в другую функцию, причем уровень вложенности неограничен.  В этом случае вложенная функция получает свою собственную локальную область видимости и  имеет достуn к идентификаторам внутри функции-родителя. "
   ]
  },
  {
   "cell_type": "code",
   "execution_count": 247,
   "metadata": {
    "collapsed": true
   },
   "outputs": [],
   "source": [
    "def f1(x): \n",
    "    def f2(): \n",
    "        print(x) \n",
    "    return f2 "
   ]
  },
  {
   "cell_type": "code",
   "execution_count": 256,
   "metadata": {},
   "outputs": [
    {
     "name": "stdout",
     "output_type": "stream",
     "text": [
      "12\n"
     ]
    }
   ],
   "source": [
    "fa = f1(12)\n",
    "fa()"
   ]
  },
  {
   "cell_type": "code",
   "execution_count": 257,
   "metadata": {},
   "outputs": [
    {
     "name": "stdout",
     "output_type": "stream",
     "text": [
      "22\n"
     ]
    }
   ],
   "source": [
    "fb = f1(22)\n",
    "fb()"
   ]
  },
  {
   "cell_type": "markdown",
   "metadata": {},
   "source": [
    "# >"
   ]
  },
  {
   "cell_type": "markdown",
   "metadata": {},
   "source": [
    "-------"
   ]
  },
  {
   "cell_type": "markdown",
   "metadata": {},
   "source": [
    "#  Задание к следующей лекции\n",
    "\n",
    "По книге Н. Прохоренок:\n",
    "\n",
    "повторить Глава 11 Пользовательские функции\n",
    "Глава 14 Обработка исключений\n",
    "\n",
    "\n",
    "По книге М. Саммерфильд:\n",
    "повторить Глава 4 Управляющие структуры и функции (разедел \"Собственные функции\")\n",
    "Глава 4 Управляющие структуры и функции (разедел \"Обработка исключений\")"
   ]
  },
  {
   "cell_type": "markdown",
   "metadata": {},
   "source": [
    "#  Задание к следующей лекции\n",
    "\n",
    "По книге Н. Прохоренок:\n",
    "\n",
    "повторить Глава 11 Пользовательские функции\n",
    "Глава 14 Обработка исключений\n",
    "\n",
    "\n",
    "По книге М. Саммерфильд:\n",
    "повторить Глава 4 Управляющие структуры и функции (разедел \"Собственные функции\")\n",
    "Глава 4 Управляющие структуры и функции (разедел \"Обработка исключений\")"
   ]
  }
 ],
 "metadata": {
  "anaconda-cloud": {},
  "kernelspec": {
   "display_name": "Python 3",
   "language": "python",
   "name": "python3"
  },
  "language_info": {
   "codemirror_mode": {
    "name": "ipython",
    "version": 3
   },
   "file_extension": ".py",
   "mimetype": "text/x-python",
   "name": "python",
   "nbconvert_exporter": "python",
   "pygments_lexer": "ipython3",
   "version": "3.7.6"
  }
 },
 "nbformat": 4,
 "nbformat_minor": 1
}
