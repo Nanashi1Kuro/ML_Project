{
 "cells": [
  {
   "cell_type": "markdown",
   "id": "80b5613d",
   "metadata": {},
   "source": [
    "# Множественная линейная регрессия на чистых данных\n",
    "## Цель работы\n",
    "\n",
    "Познакомиться с основными приемами работы с множественными регрессионными моделями с использованием библиотеки sklearn.\n",
    "\n",
    "Содержание работы\n",
    "\n",
    "1-  Ваша задача - построить предиктивную модель предсказания целевой переменной в зависимости от значения нескольких факторов (признаков).\n",
    "\n",
    "2-  Загрузите датасет из приложения. Вам понадобится два файла - отдельно с признаками (помечен x) и значениями целевой переменной (помечен y). Файлы не содержат заголовков столбцов и строк. Выведите первые строки датасета.\n",
    "\n",
    "3-  Сделайте количественное описание датасета: количество точек данных, признаков, статистику по каждому признаку.\n",
    "\n",
    "4- Для целевой и каждого из признаков постройте парную регрессионную модель. Визуализируйте линию регрессии и исходные данные на графике. При помощи коэффициентов оцените силу связи.\n",
    "\n",
    "5- Постройте модель множественной линейной регрессии целевой переменной от всех показателей. Оцените качество регрессии, сделайте вывод.\n",
    "\n",
    "## Методические указания\n",
    "\n",
    "Отчет по лабораторной работе сдается в виде файла интерактивного ноутбука Jupyter notebook и должен включать весь программный код, реализующий задания лабораторной работы, подробные пояснения, обоснования и выводы там, где это требуется в виде текстовых ячеек.\n",
    "\n",
    "Для начала работы как всегда выполним стандартный импорт необходимых библиотек:"
   ]
  },
  {
   "cell_type": "code",
   "execution_count": 1,
   "id": "4835bbd6",
   "metadata": {
    "tags": []
   },
   "outputs": [],
   "source": [
    "\n",
    "# Для полноценной работы с регрессионным анализом данных на потребуются следующие библиотеки языка Python:\n",
    "\n",
    "import numpy as np\n",
    "import pandas as pd\n",
    "import matplotlib.pyplot as plt"
   ]
  },
  {
   "cell_type": "markdown",
   "id": "43a95cbd",
   "metadata": {},
   "source": [
    "Теперь мы можем приступить к чтению данных. Для этой работы представлено сразу 50 однотипных датасетов. Мы для примера возьмем '0x.csv', '0y.csv'. Читать данные можно многими способами, но мы воспользуемся самым простым чтением по URL:"
   ]
  },
  {
   "cell_type": "code",
   "execution_count": 2,
   "id": "2f92164f",
   "metadata": {
    "tags": []
   },
   "outputs": [],
   "source": [
    "x = pd.read_csv(\"https://raw.githubusercontent.com/koroteevmv/ML_course/main/ML1.2_regression/data/0_x.csv\",\n",
    "                header=None)\n",
    "y= pd.read_csv(\"https://raw.githubusercontent.com/koroteevmv/ML_course/main/ML1.2_regression/data/0_y.csv\",\n",
    "                header=None)"
   ]
  },
  {
   "cell_type": "markdown",
   "id": "3488081c",
   "metadata": {},
   "source": [
    "Посмотрим формат файла с данными - состав и названия полей:"
   ]
  },
  {
   "cell_type": "code",
   "execution_count": 3,
   "id": "87479555",
   "metadata": {
    "tags": []
   },
   "outputs": [
    {
     "data": {
      "text/html": [
       "<div>\n",
       "<style scoped>\n",
       "    .dataframe tbody tr th:only-of-type {\n",
       "        vertical-align: middle;\n",
       "    }\n",
       "\n",
       "    .dataframe tbody tr th {\n",
       "        vertical-align: top;\n",
       "    }\n",
       "\n",
       "    .dataframe thead th {\n",
       "        text-align: right;\n",
       "    }\n",
       "</style>\n",
       "<table border=\"1\" class=\"dataframe\">\n",
       "  <thead>\n",
       "    <tr style=\"text-align: right;\">\n",
       "      <th></th>\n",
       "      <th>0</th>\n",
       "      <th>1</th>\n",
       "      <th>2</th>\n",
       "      <th>3</th>\n",
       "      <th>4</th>\n",
       "    </tr>\n",
       "  </thead>\n",
       "  <tbody>\n",
       "    <tr>\n",
       "      <th>0</th>\n",
       "      <td>0.071841</td>\n",
       "      <td>0.855352</td>\n",
       "      <td>-0.305597</td>\n",
       "      <td>0.028253</td>\n",
       "      <td>1.826895</td>\n",
       "    </tr>\n",
       "    <tr>\n",
       "      <th>1</th>\n",
       "      <td>0.139521</td>\n",
       "      <td>-0.423507</td>\n",
       "      <td>0.461059</td>\n",
       "      <td>-0.447400</td>\n",
       "      <td>-0.034988</td>\n",
       "    </tr>\n",
       "    <tr>\n",
       "      <th>2</th>\n",
       "      <td>1.626311</td>\n",
       "      <td>-0.257622</td>\n",
       "      <td>-0.697520</td>\n",
       "      <td>1.413219</td>\n",
       "      <td>1.086292</td>\n",
       "    </tr>\n",
       "    <tr>\n",
       "      <th>3</th>\n",
       "      <td>-1.183233</td>\n",
       "      <td>-0.826343</td>\n",
       "      <td>0.073047</td>\n",
       "      <td>-0.639690</td>\n",
       "      <td>-0.503273</td>\n",
       "    </tr>\n",
       "    <tr>\n",
       "      <th>4</th>\n",
       "      <td>-0.783365</td>\n",
       "      <td>-0.861232</td>\n",
       "      <td>0.951448</td>\n",
       "      <td>-0.117306</td>\n",
       "      <td>0.680597</td>\n",
       "    </tr>\n",
       "  </tbody>\n",
       "</table>\n",
       "</div>"
      ],
      "text/plain": [
       "          0         1         2         3         4\n",
       "0  0.071841  0.855352 -0.305597  0.028253  1.826895\n",
       "1  0.139521 -0.423507  0.461059 -0.447400 -0.034988\n",
       "2  1.626311 -0.257622 -0.697520  1.413219  1.086292\n",
       "3 -1.183233 -0.826343  0.073047 -0.639690 -0.503273\n",
       "4 -0.783365 -0.861232  0.951448 -0.117306  0.680597"
      ]
     },
     "execution_count": 3,
     "metadata": {},
     "output_type": "execute_result"
    }
   ],
   "source": [
    "x.head()"
   ]
  },
  {
   "cell_type": "code",
   "execution_count": 4,
   "id": "5da5d462",
   "metadata": {
    "tags": []
   },
   "outputs": [
    {
     "data": {
      "text/plain": [
       "((387, 5), (387, 1))"
      ]
     },
     "execution_count": 4,
     "metadata": {},
     "output_type": "execute_result"
    }
   ],
   "source": [
    "x.shape, y.shape"
   ]
  },
  {
   "cell_type": "markdown",
   "id": "9994f069",
   "metadata": {},
   "source": [
    "Здесь мы должны заметить сразу несколько вещей. Во-первых, обе переменные представлют собой двумерные массивы. Точнее они представлены в виде DataFrame. В матрице атрибутов (X) 387 строк и 5 столбцов. Это значит, что в датасете описаны 387 объектов и у каждого есть 5 признаков. Или, можно сказать, что в X 5 векторов признаков по 387 значенй. Важно то, что по строкам у нам объекты, а по столбцам - атрибуты (характеристики).\n",
    "\n",
    "В целевой переменной (Y) у нас один стоблец и 387 строчек. Очень важно, чтобы количество строк в обоих переменных совпадало. Фактически, Y пердставляет собой вектор-столбец. То есть один единственный атрибут описан для 387 объектов.\n",
    "\n",
    "Такое представление данных подходит для начала машинного обучения. Все, что нужно совпадает. Теперь мы можем приступать к созданию и обучению модели. Для этого сначала импортируем нужный объект из библиотеки scikit-learn:"
   ]
  },
  {
   "cell_type": "code",
   "execution_count": 5,
   "id": "68a3463d",
   "metadata": {
    "tags": []
   },
   "outputs": [],
   "source": [
    "from sklearn.linear_model import LinearRegression\n",
    "from sklearn.metrics import accuracy_score"
   ]
  },
  {
   "cell_type": "markdown",
   "id": "1960c2f7",
   "metadata": {},
   "source": [
    "В данном случае нам нужна модель линейной регрессии, которая является частью пакета \"linear_model\" и называется LinearRegression. Про другие модели и пакеты данной библиотеки можно узнать из документации.\n",
    "\n",
    "Создадим объект модели:"
   ]
  },
  {
   "cell_type": "code",
   "execution_count": 6,
   "id": "7db50b3f",
   "metadata": {
    "tags": []
   },
   "outputs": [],
   "source": [
    "models = [LinearRegression() for i in range(5)]\n"
   ]
  },
  {
   "cell_type": "markdown",
   "id": "f6c1e493",
   "metadata": {},
   "source": [
    "Для начала мы построим модель парной регрессии от одного из признаков в датасете. Для этого из матрицы атрибутов нужно вытащить один столбец. Можно сделать это так: x[1]. Напоминаем, что в DataFrame по умолчанию индексация происходит по столбцам. Но тут возникает проблема. Дело в том, что все библиотечные средства предполагают, что X - это двумерный массив. А взятие одного столбца возвращает не DataFrame, а Series - одномерный массив. Превратить его в двумерный можно многими разными способами, но в Pandas можно взять несколкьо столбцов из датафрейма. Такая операция вернет всегда именно датафрейм. А нам нужен датафрейм из одного столбца. Сделать это можно так: x[[1]]. Итак, возьмем один столбец и обучим парную регрессию его с целевой переменной:"
   ]
  },
  {
   "cell_type": "code",
   "execution_count": 7,
   "id": "7ea24880",
   "metadata": {
    "tags": []
   },
   "outputs": [
    {
     "ename": "ValueError",
     "evalue": "continuous is not supported",
     "output_type": "error",
     "traceback": [
      "\u001b[0;31m---------------------------------------------------------------------------\u001b[0m",
      "\u001b[0;31mValueError\u001b[0m                                Traceback (most recent call last)",
      "Cell \u001b[0;32mIn[7], line 5\u001b[0m\n\u001b[1;32m      2\u001b[0m scores \u001b[38;5;241m=\u001b[39m [estimators[i]\u001b[38;5;241m.\u001b[39mscore(x[[i]], y) \u001b[38;5;28;01mfor\u001b[39;00m i \u001b[38;5;129;01min\u001b[39;00m \u001b[38;5;28mrange\u001b[39m(\u001b[38;5;241m5\u001b[39m)]\n\u001b[1;32m      4\u001b[0m estimates \u001b[38;5;241m=\u001b[39m [models[i]\u001b[38;5;241m.\u001b[39mpredict(x[[i]])\u001b[38;5;241m.\u001b[39mreshape(\u001b[38;5;241m1\u001b[39m, \u001b[38;5;241m387\u001b[39m)[\u001b[38;5;241m0\u001b[39m] \u001b[38;5;28;01mfor\u001b[39;00m i \u001b[38;5;129;01min\u001b[39;00m \u001b[38;5;28mrange\u001b[39m(\u001b[38;5;241m5\u001b[39m)]\n\u001b[0;32m----> 5\u001b[0m acc_scores \u001b[38;5;241m=\u001b[39m [accuracy_score(y, estimates[i]) \u001b[38;5;28;01mfor\u001b[39;00m i \u001b[38;5;129;01min\u001b[39;00m \u001b[38;5;28mrange\u001b[39m(\u001b[38;5;241m5\u001b[39m)]\n",
      "Cell \u001b[0;32mIn[7], line 5\u001b[0m, in \u001b[0;36m<listcomp>\u001b[0;34m(.0)\u001b[0m\n\u001b[1;32m      2\u001b[0m scores \u001b[38;5;241m=\u001b[39m [estimators[i]\u001b[38;5;241m.\u001b[39mscore(x[[i]], y) \u001b[38;5;28;01mfor\u001b[39;00m i \u001b[38;5;129;01min\u001b[39;00m \u001b[38;5;28mrange\u001b[39m(\u001b[38;5;241m5\u001b[39m)]\n\u001b[1;32m      4\u001b[0m estimates \u001b[38;5;241m=\u001b[39m [models[i]\u001b[38;5;241m.\u001b[39mpredict(x[[i]])\u001b[38;5;241m.\u001b[39mreshape(\u001b[38;5;241m1\u001b[39m, \u001b[38;5;241m387\u001b[39m)[\u001b[38;5;241m0\u001b[39m] \u001b[38;5;28;01mfor\u001b[39;00m i \u001b[38;5;129;01min\u001b[39;00m \u001b[38;5;28mrange\u001b[39m(\u001b[38;5;241m5\u001b[39m)]\n\u001b[0;32m----> 5\u001b[0m acc_scores \u001b[38;5;241m=\u001b[39m [\u001b[43maccuracy_score\u001b[49m\u001b[43m(\u001b[49m\u001b[43my\u001b[49m\u001b[43m,\u001b[49m\u001b[43m \u001b[49m\u001b[43mestimates\u001b[49m\u001b[43m[\u001b[49m\u001b[43mi\u001b[49m\u001b[43m]\u001b[49m\u001b[43m)\u001b[49m \u001b[38;5;28;01mfor\u001b[39;00m i \u001b[38;5;129;01min\u001b[39;00m \u001b[38;5;28mrange\u001b[39m(\u001b[38;5;241m5\u001b[39m)]\n",
      "File \u001b[0;32m~/.local/lib/python3.8/site-packages/sklearn/metrics/_classification.py:211\u001b[0m, in \u001b[0;36maccuracy_score\u001b[0;34m(y_true, y_pred, normalize, sample_weight)\u001b[0m\n\u001b[1;32m    145\u001b[0m \u001b[38;5;250m\u001b[39m\u001b[38;5;124;03m\"\"\"Accuracy classification score.\u001b[39;00m\n\u001b[1;32m    146\u001b[0m \n\u001b[1;32m    147\u001b[0m \u001b[38;5;124;03mIn multilabel classification, this function computes subset accuracy:\u001b[39;00m\n\u001b[0;32m   (...)\u001b[0m\n\u001b[1;32m    207\u001b[0m \u001b[38;5;124;03m0.5\u001b[39;00m\n\u001b[1;32m    208\u001b[0m \u001b[38;5;124;03m\"\"\"\u001b[39;00m\n\u001b[1;32m    210\u001b[0m \u001b[38;5;66;03m# Compute accuracy for each possible representation\u001b[39;00m\n\u001b[0;32m--> 211\u001b[0m y_type, y_true, y_pred \u001b[38;5;241m=\u001b[39m \u001b[43m_check_targets\u001b[49m\u001b[43m(\u001b[49m\u001b[43my_true\u001b[49m\u001b[43m,\u001b[49m\u001b[43m \u001b[49m\u001b[43my_pred\u001b[49m\u001b[43m)\u001b[49m\n\u001b[1;32m    212\u001b[0m check_consistent_length(y_true, y_pred, sample_weight)\n\u001b[1;32m    213\u001b[0m \u001b[38;5;28;01mif\u001b[39;00m y_type\u001b[38;5;241m.\u001b[39mstartswith(\u001b[38;5;124m\"\u001b[39m\u001b[38;5;124mmultilabel\u001b[39m\u001b[38;5;124m\"\u001b[39m):\n",
      "File \u001b[0;32m~/.local/lib/python3.8/site-packages/sklearn/metrics/_classification.py:104\u001b[0m, in \u001b[0;36m_check_targets\u001b[0;34m(y_true, y_pred)\u001b[0m\n\u001b[1;32m    102\u001b[0m \u001b[38;5;66;03m# No metrics support \"multiclass-multioutput\" format\u001b[39;00m\n\u001b[1;32m    103\u001b[0m \u001b[38;5;28;01mif\u001b[39;00m y_type \u001b[38;5;129;01mnot\u001b[39;00m \u001b[38;5;129;01min\u001b[39;00m [\u001b[38;5;124m\"\u001b[39m\u001b[38;5;124mbinary\u001b[39m\u001b[38;5;124m\"\u001b[39m, \u001b[38;5;124m\"\u001b[39m\u001b[38;5;124mmulticlass\u001b[39m\u001b[38;5;124m\"\u001b[39m, \u001b[38;5;124m\"\u001b[39m\u001b[38;5;124mmultilabel-indicator\u001b[39m\u001b[38;5;124m\"\u001b[39m]:\n\u001b[0;32m--> 104\u001b[0m     \u001b[38;5;28;01mraise\u001b[39;00m \u001b[38;5;167;01mValueError\u001b[39;00m(\u001b[38;5;124m\"\u001b[39m\u001b[38;5;132;01m{0}\u001b[39;00m\u001b[38;5;124m is not supported\u001b[39m\u001b[38;5;124m\"\u001b[39m\u001b[38;5;241m.\u001b[39mformat(y_type))\n\u001b[1;32m    106\u001b[0m \u001b[38;5;28;01mif\u001b[39;00m y_type \u001b[38;5;129;01min\u001b[39;00m [\u001b[38;5;124m\"\u001b[39m\u001b[38;5;124mbinary\u001b[39m\u001b[38;5;124m\"\u001b[39m, \u001b[38;5;124m\"\u001b[39m\u001b[38;5;124mmulticlass\u001b[39m\u001b[38;5;124m\"\u001b[39m]:\n\u001b[1;32m    107\u001b[0m     y_true \u001b[38;5;241m=\u001b[39m column_or_1d(y_true)\n",
      "\u001b[0;31mValueError\u001b[0m: continuous is not supported"
     ]
    }
   ],
   "source": [
    "estimators = [models[i].fit(x[[i]], y) for i in range(5)]\n",
    "scores = [estimators[i].score(x[[i]], y) for i in range(5)]\n",
    "\n",
    "estimates = [models[i].predict(x[[i]]).reshape(1, 387)[0] for i in range(5)]\n",
    "acc_scores = [accuracy_score(y, estimates[i]) for i in range(5)]\n",
    "\n",
    "\n",
    "\n",
    "\n",
    "\n",
    "\n",
    "\n",
    "\n"
   ]
  },
  {
   "cell_type": "markdown",
   "id": "61a20284",
   "metadata": {},
   "source": [
    "Данный метод подстроил коэффициенты линейной модели таким образом, чтобы функция модели была как можно ближе к точкам. Сами коэффициенты тоже можно посмотреть. Получаем коэффициенты bn:"
   ]
  },
  {
   "cell_type": "code",
   "execution_count": 8,
   "id": "e51ffc4f",
   "metadata": {
    "tags": []
   },
   "outputs": [
    {
     "ename": "NameError",
     "evalue": "name 'binary' is not defined",
     "output_type": "error",
     "traceback": [
      "\u001b[0;31m---------------------------------------------------------------------------\u001b[0m",
      "\u001b[0;31mNameError\u001b[0m                                 Traceback (most recent call last)",
      "Cell \u001b[0;32mIn[8], line 1\u001b[0m\n\u001b[0;32m----> 1\u001b[0m \u001b[43mbinary\u001b[49m\u001b[38;5;241m.\u001b[39mcoef_\n",
      "\u001b[0;31mNameError\u001b[0m: name 'binary' is not defined"
     ]
    }
   ],
   "source": [
    "binary.coef_"
   ]
  },
  {
   "cell_type": "markdown",
   "id": "3ddc83dc",
   "metadata": {},
   "source": [
    "Метод predict() рассчитывает теоретические значения признака:"
   ]
  },
  {
   "cell_type": "code",
   "execution_count": 9,
   "id": "2d9dd52b",
   "metadata": {
    "tags": []
   },
   "outputs": [
    {
     "ename": "NameError",
     "evalue": "name 'binary' is not defined",
     "output_type": "error",
     "traceback": [
      "\u001b[0;31m---------------------------------------------------------------------------\u001b[0m",
      "\u001b[0;31mNameError\u001b[0m                                 Traceback (most recent call last)",
      "Cell \u001b[0;32mIn[9], line 1\u001b[0m\n\u001b[0;32m----> 1\u001b[0m \u001b[43mbinary\u001b[49m\u001b[38;5;241m.\u001b[39mpredict(x[[\u001b[38;5;241m1\u001b[39m]])\n",
      "\u001b[0;31mNameError\u001b[0m: name 'binary' is not defined"
     ]
    }
   ],
   "source": [
    "binary.predict(x[[1]])"
   ]
  },
  {
   "cell_type": "markdown",
   "id": "b91d1e5a",
   "metadata": {},
   "source": [
    "\n",
    "Конечно, вручную сравнивать их с реальными (эмпирическими) не нужно. Гораздо проще построить их на графике. Построить точки очень просто:"
   ]
  },
  {
   "cell_type": "markdown",
   "id": "24285609",
   "metadata": {},
   "source": [
    "Для построения линии модели просто использовать plot вот так: plt.plot(x[1], y) будет уже неправильно. Лучше построить равномерное распределение точек от минимального до максимального по X и уже по нему расчитать модельные значения:"
   ]
  },
  {
   "cell_type": "code",
   "execution_count": 17,
   "id": "14fa0ae6",
   "metadata": {},
   "outputs": [
    {
     "data": {
      "text/plain": [
       "[<matplotlib.lines.Line2D at 0x1e966d289a0>]"
      ]
     },
     "execution_count": 17,
     "metadata": {},
     "output_type": "execute_result"
    },
    {
     "data": {
      "image/png": "[encoded data removed]",
      "text/plain": [
       "<Figure size 432x288 with 1 Axes>"
      ]
     },
     "metadata": {
      "needs_background": "light"
     },
     "output_type": "display_data"
    }
   ],
   "source": [
    "\n",
    "plt.scatter(x[1], y)\n",
    "xxx = np.linspace(x[1].min(), x[1].max(), 100).reshape((-1, 1))\n",
    "plt.plot(xxx, binary.predict(xxx), c='r')"
   ]
  },
  {
   "cell_type": "markdown",
   "id": "40ea84d6",
   "metadata": {},
   "source": [
    "Для оценки качества построенной регрессии можно использовать целый ряд показателей. Одним из самых простых и универсальных является коэффициент детерминации (R2-score). Как использовать его читайте в официальной документации sklearn. Методом score можно узнать значение метрики эффективности полученной модели:"
   ]
  },
  {
   "cell_type": "code",
   "execution_count": 16,
   "id": "16a14b26",
   "metadata": {},
   "outputs": [
    {
     "data": {
      "text/plain": [
       "-11663.620529181258"
      ]
     },
     "execution_count": 16,
     "metadata": {},
     "output_type": "execute_result"
    }
   ],
   "source": [
    "from sklearn.metrics import r2_score\n",
    "r2_score(x[1], y)\n"
   ]
  },
  {
   "cell_type": "markdown",
   "id": "62729cab",
   "metadata": {},
   "source": [
    "## построениe множественной регрессии\n",
    "\n",
    "Для построения множественной регрессии выполним те же шаги, но будем использовать полный датасет:"
   ]
  },
  {
   "cell_type": "code",
   "execution_count": 26,
   "id": "73779a74",
   "metadata": {},
   "outputs": [
    {
     "data": {
      "text/plain": [
       "0.9922198026415868"
      ]
     },
     "execution_count": 26,
     "metadata": {},
     "output_type": "execute_result"
    }
   ],
   "source": [
    "multiple = LinearRegression()\n",
    "multiple.fit(x, y)\n",
    "multiple.score(x, y)"
   ]
  },
  {
   "cell_type": "markdown",
   "id": "a64c0694",
   "metadata": {},
   "source": [
    "Теперь точность возросла до 0.99, что говорит о почти идеальной модели. Вообще чем больше информации мы подаем на вход моделям машинного обучения, тем на более сильный результат мы можем рассчитывать."
   ]
  },
  {
   "cell_type": "markdown",
   "id": "1638bef4",
   "metadata": {},
   "source": [
    "В модели множественной регрессии уже не удасся построить такой красивый и однозначный график. Для того, чтобы хоть как-то увидеть, как модель соотносится с точками, можно построить график зависимости теоретических значений от эмпирических, то есть как предсказанные значения отличаются от истинных:"
   ]
  },
  {
   "cell_type": "code",
   "execution_count": 21,
   "id": "1a632f98",
   "metadata": {},
   "outputs": [
    {
     "name": "stdout",
     "output_type": "stream",
     "text": [
      "[[15.79537523 93.21521093 37.19410687 31.19129121 -0.23773114]]\n",
      "[[95.52010745]]\n"
     ]
    },
    {
     "data": {
      "image/png": "[encoded data removed]",
      "text/plain": [
       "<Figure size 432x288 with 1 Axes>"
      ]
     },
     "metadata": {
      "needs_background": "light"
     },
     "output_type": "display_data"
    }
   ],
   "source": [
    "yy = multiple.predict(x)\n",
    "plt.scatter(yy, y)\n",
    "plt.plot(yy, yy, c='r')\n",
    "print(multiple.coef_)\n",
    "print(binary.coef_)"
   ]
  },
  {
   "cell_type": "markdown",
   "id": "4fc1092e",
   "metadata": {},
   "source": [
    "Дополнительно на этом графике мы добавили линию y=y. Это всегда будет прямая, даже если мы будем использовать нелинейные модели. Обратите внимание, что на данном графике по обоим осям Y - то есть целевая переменная:"
   ]
  },
  {
   "cell_type": "markdown",
   "id": "a97dc175",
   "metadata": {},
   "source": [
    "Такой график наряду с диагностическими кривыми можно использовать для диагностики многомерных задач регресии.\n",
    "\n"
   ]
  },
  {
   "cell_type": "markdown",
   "id": "c1e7fbea",
   "metadata": {},
   "source": [
    "## Задания для самостоятельного выполнения\n",
    "1- Сравните коэффициенты парной и множественной регрессии до и после обучения.\n",
    "\n",
    "2-Самостоятельно постройте парные регрессии от каждого атрибута с целевой переменной.\n",
    "\n",
    "3- Постройте сводную таблицу показателей точности всех построенных моделей. Сделайте вывод, какие модели более точные.\n",
    "\n",
    "4- Используйте другие метрики качества регрессионной модели в дополнение к коэффициенту детерминации.\n",
    "\n",
    "5-(*) Замерьте время обучения полиномиальных моделей с разной степенью полинома. Сделайте вывод.\n"
   ]
  },
  {
   "cell_type": "code",
   "execution_count": 18,
   "id": "fc27fc6b",
   "metadata": {
    "tags": []
   },
   "outputs": [
    {
     "name": "stdout",
     "output_type": "stream",
     "text": [
      "     Scores  Max errors  R2 coeff\n",
      "0  0.043643  289.747058  0.043643\n",
      "1  0.769974  159.965566  0.769974\n",
      "2  0.187945  317.717310  0.187945\n",
      "3  0.047470  301.831888  0.047470\n",
      "4  0.000172  318.221440  0.000172\n"
     ]
    }
   ],
   "source": [
    "import numpy as np\n",
    "import pandas as pd\n",
    "import matplotlib.pyplot as plt\n",
    "from sklearn.linear_model import LinearRegression\n",
    "from sklearn.preprocessing import PolynomialFeatures\n",
    "from sklearn.metrics import max_error\n",
    "from sklearn.metrics import r2_score\n",
    "\n",
    "x = pd.read_csv(\"https://raw.githubusercontent.com/koroteevmv/ML_course/main/ML1.2_regression/data/0_x.csv\",\n",
    "                header=None)\n",
    "y= pd.read_csv(\"https://raw.githubusercontent.com/koroteevmv/ML_course/main/ML1.2_regression/data/0_y.csv\",\n",
    "                header=None)\n",
    "\n",
    "models = [LinearRegression() for i in range(5)]\n",
    "estimators = [models[i].fit(x[[i]], y) for i in range(5)]\n",
    "scores = [estimators[i].score(x[[i]], y) for i in range(5)]\n",
    "\n",
    "estimates = [models[i].predict(x[[i]]).reshape(1, 387)[0] for i in range(5)]\n",
    "max_errors = [max_error(y, estimates[i]) for i in range(5)]\n",
    "r_sqrd = [r2_score(y, estimates[i]) for i in range(5)]\n",
    "\n",
    "sc_table = pd.DataFrame({'Scores' : scores, 'Max errors': max_errors, 'R2 coeff': r_sqrd})\n",
    "print(sc_table)\n"
   ]
  },
  {
   "cell_type": "code",
   "execution_count": 19,
   "id": "4ec697e1",
   "metadata": {
    "tags": []
   },
   "outputs": [
    {
     "name": "stdout",
     "output_type": "stream",
     "text": [
      "[0.008044719696044922, 0.003321409225463867, 0.003233194351196289, 0.0033278465270996094]\n"
     ]
    }
   ],
   "source": [
    "import time\n",
    "times = []\n",
    "poly_regs = [PolynomialFeatures(degree=i, include_bias=False) for i in range(2, 6)]\n",
    "\n",
    "poly_features = [i.fit_transform(np.array(x[[1]])) for i in poly_regs]\n",
    "poly_reg_models = [LinearRegression() for i in range(2, 6)]\n",
    "\n",
    "for i in range(4):\n",
    "    start = time.time()\n",
    "    poly_reg_models[i].fit(poly_features[i], y)\n",
    "    times.append(time.time() - start)\n",
    "print(times)"
   ]
  },
  {
   "cell_type": "markdown",
   "id": "e0a1f1c4",
   "metadata": {},
   "source": [
    "## Контрольные вопросы\n",
    "1- Как должны выглядеть данные для модели машинного обучения?\n",
    "\n",
    "2- В чем физический смысл коэфициентов линейной регрессии?\n",
    "\n",
    "3- Чем множественная регрессия отличается от парной?\n",
    "\n",
    "4- Какую функцию ошибки использует модель линейной регрессии?\n",
    "\n",
    "5- Какие метрики эффективности можно применять для оценки регрессионных моделей?\n",
    "\n",
    "6- Какие еще регрессоры есть в библиотеке sklearn?\n",
    "\n",
    "7- Почему для визуализации модели нельзя использовать предсказанные значения по датасету?\n"
   ]
  },
  {
   "cell_type": "markdown",
   "id": "3c79febc",
   "metadata": {},
   "source": [
    "## Дополнительные задания:\n",
    "\n",
    "1-Для целевой переменной и каждого из признаков постройте полиномиальную регрессию второго, третьего и десятого порядков. Сделайте вывод о значимости регрессии.\n",
    "\n",
    "2- (*) Модифицируйте класс модели из предыдущей лабораторной работы таким образом, чтобы он работал в режиме множественной регрессии. Для этого на вход ему в качестве X должен подаваться датафреймиз произвольногоколичества строк."
   ]
  },
  {
   "cell_type": "code",
   "execution_count": 20,
   "id": "0c44745a",
   "metadata": {
    "tags": []
   },
   "outputs": [
    {
     "name": "stdout",
     "output_type": "stream",
     "text": [
      "[0.04367170367915507, 0.04376506816920167, 0.05035596325168745, 0.04367170367915507, 0.04376506816920167, 0.7726769307411923, 0.7699942588883133, 0.7711184109235001, 0.7726769307411923, 0.7699942588883133, 0.19280163734543854, 0.20440944561264418, 0.19000787278473819, 0.19280163734543854, 0.20440944561264418]\n"
     ]
    }
   ],
   "source": [
    "poly_regs = [PolynomialFeatures(degree=2, include_bias=False),  PolynomialFeatures(degree=3, include_bias=False),\n",
    "            PolynomialFeatures(degree=10, include_bias=False)]\n",
    "\n",
    "poly_features_new = [[i.fit_transform(np.array(x[[j]])) for i in poly_regs] for j in range(5)]\n",
    "poly_reg_models_new = [LinearRegression() for i in range(15)]\n",
    "\n",
    "estimators_new = [poly_reg_models_new[i].fit(poly_features_new[i // 5][i % 3], y) for i in range(15)]\n",
    "scores = [estimators_new[i].score(poly_features_new[i // 5][i % 3], y) for i in range(15)]\n",
    "print(scores)\n",
    "\n",
    "\n"
   ]
  },
  {
   "cell_type": "code",
   "execution_count": null,
   "id": "70ddd03c",
   "metadata": {},
   "outputs": [],
   "source": []
  }
 ],
 "metadata": {
  "kernelspec": {
   "display_name": "Python 3 (ipykernel)",
   "language": "python",
   "name": "python3"
  },
  "language_info": {
   "codemirror_mode": {
    "name": "ipython",
    "version": 3
   },
   "file_extension": ".py",
   "mimetype": "text/x-python",
   "name": "python",
   "nbconvert_exporter": "python",
   "pygments_lexer": "ipython3",
   "version": "3.8.10"
  }
 },
 "nbformat": 4,
 "nbformat_minor": 5
}
