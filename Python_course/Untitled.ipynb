{
 "cells": [
  {
   "cell_type": "code",
   "execution_count": 6,
   "id": "44510fec-4393-48e2-a4b8-dd2e92577e08",
   "metadata": {
    "tags": []
   },
   "outputs": [],
   "source": [
    "import torch.nn\n",
    "import torch.optim as optim\n",
    "import torch\n",
    "import numpy as np\n",
    "import matplotlib.pyplot as plt"
   ]
  },
  {
   "cell_type": "markdown",
   "id": "2ad9f6cd-440c-4bbf-8e45-a807bee5914b",
   "metadata": {},
   "source": [
    "3.3.1 Решить задачу регрессии, соблюдая следующие условия:\n",
    "\n",
    "1. Оформить нейронную сеть в виде класса - наследника nn.Module\n",
    "2. При создании сети использовать готовые блоки из torch.nn: слои, функции активации, функции потерь и т.д.\n",
    "3. Для оптимизации использовать любой алгоритм оптимизации из torch.optim"
   ]
  },
  {
   "cell_type": "code",
   "execution_count": 7,
   "id": "0d99ae6f-8548-4043-9680-105a1c61efcf",
   "metadata": {
    "tags": []
   },
   "outputs": [
    {
     "data": {
      "text/plain": [
       "[1, 2, 3, 4, 5, 6, 7, 8, 9]"
      ]
     },
     "execution_count": 7,
     "metadata": {},
     "output_type": "execute_result"
    }
   ],
   "source": [
    "l = [i for i in range(1, 10, 1)]\n",
    "l"
   ]
  },
  {
   "cell_type": "code",
   "execution_count": 8,
   "id": "3343d715-9cf6-4bbe-8f38-7e4e79beba31",
   "metadata": {
    "tags": []
   },
   "outputs": [
    {
     "data": {
      "text/plain": [
       "<matplotlib.collections.PathCollection at 0x7f3409d348e0>"
      ]
     },
     "execution_count": 8,
     "metadata": {},
     "output_type": "execute_result"
    },
    {
     "data": {
      "image/png": "[encoded data removed]",
      "text/plain": [
       "<Figure size 640x480 with 1 Axes>"
      ]
     },
     "metadata": {},
     "output_type": "display_data"
    }
   ],
   "source": [
    "X = torch.linspace(0, 1, 100).view(-1,1)\n",
    "y = torch.sin(2 * np.pi * X)\n",
    "\n",
    "# plt.plot(X.detach(), y.detach())\n",
    "plt.scatter(X.detach(), y.detach(), c = 'red')"
   ]
  },
  {
   "cell_type": "code",
   "execution_count": 21,
   "id": "c05d2ebb-7d9d-4361-90e0-5f6160856541",
   "metadata": {},
   "outputs": [],
   "source": [
    "class Ourmodel(torch.nn.Module):\n",
    "    def __init__(self,nf,hid,out):\n",
    "        super().__init__()\n",
    "        self.l1 = torch.nn.Linear(nf, hid)\n",
    "        #self.l2 = torch.nn.Linear(hid, hid*2)\n",
    "        self.l3 = torch.nn.Linear(hid*2, out)\n",
    "        self.activ = torch.nn.ReLU()\n",
    "    def forward(self, inputs):\n",
    "        out1 = self.activ(self.l1(inputs))\n",
    "        #out2 = self.activ(self.l2(out1))\n",
    "        out3 = self.l3(out2)\n",
    "        return out3\n",
    "    "
   ]
  },
  {
   "cell_type": "code",
   "execution_count": 22,
   "id": "f39eca0e-224b-42cf-b054-e9973e9c8f4a",
   "metadata": {},
   "outputs": [],
   "source": [
    "model_seq = torch.nn.Sequential(\n",
    "    torch.nn.Linear(1,10),\n",
    "    torch.nn.ReLU(),\n",
    "    torch.nn.Linear(10,20),\n",
    "    torch.nn.ReLU(),\n",
    "    torch.nn.Linear(20,1)\n",
    ")\n",
    "    "
   ]
  },
  {
   "cell_type": "code",
   "execution_count": 23,
   "id": "691cf140-80fb-4612-ae09-5c764f7840f7",
   "metadata": {
    "tags": []
   },
   "outputs": [
    {
     "data": {
      "text/plain": [
       "1"
      ]
     },
     "execution_count": 23,
     "metadata": {},
     "output_type": "execute_result"
    }
   ],
   "source": [
    "X.shape[1]\n",
    "y.shape[1]"
   ]
  },
  {
   "cell_type": "code",
   "execution_count": 24,
   "id": "bc3d6468-2195-4c9c-a502-31809e518f12",
   "metadata": {},
   "outputs": [
    {
     "ename": "AttributeError",
     "evalue": "'Ourmodel' object has no attribute 'parametrs'",
     "output_type": "error",
     "traceback": [
      "\u001b[0;31m---------------------------------------------------------------------------\u001b[0m",
      "\u001b[0;31mAttributeError\u001b[0m                            Traceback (most recent call last)",
      "Cell \u001b[0;32mIn[24], line 4\u001b[0m\n\u001b[1;32m      2\u001b[0m \u001b[38;5;66;03m#our = model_seq\u001b[39;00m\n\u001b[1;32m      3\u001b[0m lrr \u001b[38;5;241m=\u001b[39m \u001b[38;5;241m0.005\u001b[39m\n\u001b[0;32m----> 4\u001b[0m optimazer \u001b[38;5;241m=\u001b[39m optim\u001b[38;5;241m.\u001b[39mSGD(\u001b[43mour\u001b[49m\u001b[38;5;241;43m.\u001b[39;49m\u001b[43mparametrs\u001b[49m(), lr \u001b[38;5;241m=\u001b[39m lrr)\n",
      "File \u001b[0;32m~/.local/lib/python3.8/site-packages/torch/nn/modules/module.py:1614\u001b[0m, in \u001b[0;36mModule.__getattr__\u001b[0;34m(self, name)\u001b[0m\n\u001b[1;32m   1612\u001b[0m     \u001b[38;5;28;01mif\u001b[39;00m name \u001b[38;5;129;01min\u001b[39;00m modules:\n\u001b[1;32m   1613\u001b[0m         \u001b[38;5;28;01mreturn\u001b[39;00m modules[name]\n\u001b[0;32m-> 1614\u001b[0m \u001b[38;5;28;01mraise\u001b[39;00m \u001b[38;5;167;01mAttributeError\u001b[39;00m(\u001b[38;5;124m\"\u001b[39m\u001b[38;5;124m'\u001b[39m\u001b[38;5;132;01m{}\u001b[39;00m\u001b[38;5;124m'\u001b[39m\u001b[38;5;124m object has no attribute \u001b[39m\u001b[38;5;124m'\u001b[39m\u001b[38;5;132;01m{}\u001b[39;00m\u001b[38;5;124m'\u001b[39m\u001b[38;5;124m\"\u001b[39m\u001b[38;5;241m.\u001b[39mformat(\n\u001b[1;32m   1615\u001b[0m     \u001b[38;5;28mtype\u001b[39m(\u001b[38;5;28mself\u001b[39m)\u001b[38;5;241m.\u001b[39m\u001b[38;5;18m__name__\u001b[39m, name))\n",
      "\u001b[0;31mAttributeError\u001b[0m: 'Ourmodel' object has no attribute 'parametrs'"
     ]
    }
   ],
   "source": [
    "our = Ourmodel(X.shape[1], 10, y.shape[1])\n",
    "#our = model_seq\n",
    "lrr = 0.005\n",
    "optimazer = optim.SGD(our.parametrs(), lr = lrr)"
   ]
  },
  {
   "cell_type": "code",
   "execution_count": 25,
   "id": "652b8d10-e838-4953-a2d7-b081600bf988",
   "metadata": {},
   "outputs": [
    {
     "data": {
      "text/plain": [
       "Ourmodel(\n",
       "  (l1): Linear(in_features=1, out_features=10, bias=True)\n",
       "  (l3): Linear(in_features=20, out_features=1, bias=True)\n",
       "  (activ): ReLU()\n",
       ")"
      ]
     },
     "execution_count": 25,
     "metadata": {},
     "output_type": "execute_result"
    }
   ],
   "source": [
    "our"
   ]
  },
  {
   "cell_type": "code",
   "execution_count": null,
   "id": "373d6343-586b-4fa6-845b-37e02c9a1d94",
   "metadata": {},
   "outputs": [],
   "source": [
    "ys = []\n",
    "losses = []\n",
    "epoch = 10000\n",
    "loss = touch.nn.MSELoss()\n",
    "\n",
    "for epich in range(epoch):\n",
    "    y_pred = our(X)\n",
    "    data_loss = loss(y_pred, y)\n",
    "    data_loss.backward()\n",
    "    losses.append(data_loss.detach())\n",
    "    \n",
    "    optimazer.zero_grad()\n",
    "    \n",
    "    if epoch % 500 == 0:\n",
    "        print(f\"Epoch {epoch}: {data_loss}\")\n",
    "        ys.append(y_pred.flatten())\n",
    "    "
   ]
  },
  {
   "cell_type": "code",
   "execution_count": null,
   "id": "e1312f67-0192-4ce2-9dd1-a5b2543ce9ea",
   "metadata": {},
   "outputs": [],
   "source": [
    "plt.plot(range(len(losses)).losses)"
   ]
  },
  {
   "cell_type": "code",
   "execution_count": null,
   "id": "9fc9d028-6be8-48db-9594-34f70947c1f1",
   "metadata": {},
   "outputs": [],
   "source": [
    "plt.plot(X.detach(),ys)\n",
    "plt.scatter(X.detach(), y.detach(), c = 'red')"
   ]
  },
  {
   "cell_type": "code",
   "execution_count": null,
   "id": "b53552d5-5ddf-403a-9161-51ad5380f282",
   "metadata": {},
   "outputs": [],
   "source": [
    "Y_pred = our(X)\n",
    "Y_pred\n",
    "plt.plot(X.detach(),Y_pred.detach())\n",
    "plt.scatter(X.detach(), y.detach(), c = 'red')"
   ]
  }
 ],
 "metadata": {
  "kernelspec": {
   "display_name": "Python 3 (ipykernel)",
   "language": "python",
   "name": "python3"
  },
  "language_info": {
   "codemirror_mode": {
    "name": "ipython",
    "version": 3
   },
   "file_extension": ".py",
   "mimetype": "text/x-python",
   "name": "python",
   "nbconvert_exporter": "python",
   "pygments_lexer": "ipython3",
   "version": "3.8.10"
  }
 },
 "nbformat": 4,
 "nbformat_minor": 5
}
