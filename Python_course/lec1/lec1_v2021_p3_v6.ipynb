{
 "cells": [
  {
   "cell_type": "markdown",
   "metadata": {
    "collapsed": true
   },
   "source": [
    "# Лекция 1 \"Введение в программирование на Python\"\n",
    "##  часть 3 Строки\n",
    "### Финансовый университет при Правительстве РФ, лектор С.В. Макрушин\n",
    "\n",
    "v 0.6 08.09.2020"
   ]
  },
  {
   "cell_type": "code",
   "execution_count": 1,
   "metadata": {},
   "outputs": [
    {
     "data": {
      "text/html": [
       "﻿<style>\r\n",
       "\r\n",
       "\r\n",
       "b.n {\r\n",
       "    font-weight: normal;        \r\n",
       "}\r\n",
       "\r\n",
       "b.grbg {\r\n",
       "    background-color: #a0a0a0;      \r\n",
       "}\r\n",
       "\r\n",
       "b.r {\r\n",
       "    color: #ff0000;    \r\n",
       "}\r\n",
       "\r\n",
       "\r\n",
       "b.b {    \r\n",
       "    color: #0000ff;    \r\n",
       "}\r\n",
       "\r\n",
       "b.g {\r\n",
       "    color: #00ff00;    \r\n",
       "}\r\n",
       "\r\n",
       "\r\n",
       "// add your CSS styling here\r\n",
       "\r\n",
       "list-style: none;\r\n",
       "\r\n",
       "ul.s {\r\n",
       "//    list-style-type: none;\r\n",
       "    list-style: none;\r\n",
       "//    background-color: #ff0000;  \r\n",
       "//    color: #ffff00;\r\n",
       "//  padding-left: 1.2em;\r\n",
       "//  text-indent: -1.2em;\r\n",
       "}\r\n",
       "\r\n",
       "li.t {\r\n",
       "    list-style: none;\r\n",
       "//  padding-left: 1.2em;\r\n",
       "//  text-indent: -1.2em;    \r\n",
       "}\r\n",
       "\r\n",
       "\r\n",
       "*.r {\r\n",
       "    color: #ff0000;    \r\n",
       "}\r\n",
       "\r\n",
       "li.t:before {\r\n",
       "    content: \"\\21D2\";    \r\n",
       "//    content: \"►\";\r\n",
       "//    padding-left: -1.2em;    \r\n",
       "    text-indent: -1.2em;    \r\n",
       "    display: block;\r\n",
       "    float: left;\r\n",
       "    \r\n",
       "    \r\n",
       "//    width: 1.2em;\r\n",
       "//    color: #ff0000;\r\n",
       "}\r\n",
       "\r\n",
       "i.m:before {\r\n",
       "    font-style: normal;    \r\n",
       "    content: \"\\21D2\";  \r\n",
       "}\r\n",
       "i.m {\r\n",
       "    font-style: normal; \r\n",
       "}    \r\n",
       "\r\n",
       "/*--------------------*/\r\n",
       "/* em {\r\n",
       "    font-style: normal; \r\n",
       "} */\r\n",
       "\r\n",
       "\r\n",
       "em.bl {\r\n",
       "    font-style: normal;     \r\n",
       "    font-weight: bold;        \r\n",
       "}\r\n",
       "\r\n",
       "/* em.grbg {\r\n",
       "    font-style: normal;         \r\n",
       "    background-color: #a0a0a0;      \r\n",
       "} */\r\n",
       "\r\n",
       "em.cr {\r\n",
       "    font-style: normal;         \r\n",
       "    color: #ff0000;    \r\n",
       "}\r\n",
       "\r\n",
       "em.cb {    \r\n",
       "    font-style: normal;         \r\n",
       "    color: #0000ff;    \r\n",
       "}\r\n",
       "\r\n",
       "em.cg {\r\n",
       "    font-style: normal;         \r\n",
       "    color: #00ff00;    \r\n",
       "}\r\n",
       "\r\n",
       "/*--------------------*/\r\n",
       "\r\n",
       "em.qs {\r\n",
       "    font-style: normal; \r\n",
       "}\r\n",
       "\r\n",
       "em.qs::before {\r\n",
       "    font-weight: bold;    \r\n",
       "    color: #ff0000;    \r\n",
       "    content: \"Q:\";  \r\n",
       "}\r\n",
       "\r\n",
       "em.an {\r\n",
       "    font-style: normal; \r\n",
       "}\r\n",
       "\r\n",
       "em.an:before {\r\n",
       "    font-weight: bold;    \r\n",
       "    color: #0000ff;    \r\n",
       "    content: \"A:\";  \r\n",
       "}\r\n",
       "    \r\n",
       "em.nt {\r\n",
       "    font-style: normal; \r\n",
       "}\r\n",
       "\r\n",
       "em.nt:before {\r\n",
       "    font-weight: bold;    \r\n",
       "    color: #0000ff;    \r\n",
       "    content: \"Note:\";  \r\n",
       "}    \r\n",
       "    \r\n",
       "em.ex {\r\n",
       "    font-style: normal; \r\n",
       "}\r\n",
       "\r\n",
       "em.ex:before {\r\n",
       "    font-weight: bold;    \r\n",
       "    color: #00ff00;    \r\n",
       "    content: \"Ex:\";  \r\n",
       "} \r\n",
       "    \r\n",
       "em.df {\r\n",
       "    font-style: normal; \r\n",
       "}\r\n",
       "\r\n",
       "em.df:before {\r\n",
       "    font-weight: bold;    \r\n",
       "    color: #0000ff;    \r\n",
       "    content: \"Def:\";  \r\n",
       "}    \r\n",
       "\r\n",
       "em.pl {\r\n",
       "    font-style: normal; \r\n",
       "}\r\n",
       "\r\n",
       "em.pl:before {\r\n",
       "    font-weight: bold;    \r\n",
       "    color: #0000ff;    \r\n",
       "    content: \"+\";  \r\n",
       "}    \r\n",
       "\r\n",
       "em.mn {\r\n",
       "    font-style: normal; \r\n",
       "}\r\n",
       "\r\n",
       "em.mn:before {\r\n",
       "    font-weight: bold;    \r\n",
       "    color: #0000ff;    \r\n",
       "    content: \"-\";  \r\n",
       "}        \r\n",
       "\r\n",
       "em.plmn {\r\n",
       "    font-style: normal; \r\n",
       "}\r\n",
       "\r\n",
       "em.plmn:before {\r\n",
       "    font-weight: bold;    \r\n",
       "    color: #0000ff;    \r\n",
       "    content: \"\\00B1\";\\\\\"&plusmn;\";  \r\n",
       "}\r\n",
       "    \r\n",
       "em.hn {\r\n",
       "    font-style: normal; \r\n",
       "}\r\n",
       "\r\n",
       "em.hn:before {\r\n",
       "    font-weight: bold;    \r\n",
       "    color: #0000ff;    \r\n",
       "    content: \"\\21D2\";\\\\\"&rArr;\";  \r\n",
       "}     \r\n",
       "    \r\n",
       "</style>"
      ],
      "text/plain": [
       "<IPython.core.display.HTML object>"
      ]
     },
     "execution_count": 1,
     "metadata": {},
     "output_type": "execute_result"
    }
   ],
   "source": [
    "# загружаем стиль для оформления презентации\n",
    "from IPython.display import HTML\n",
    "from urllib.request import urlopen\n",
    "html = urlopen(\"file:./lec_v1.css\")\n",
    "HTML(html.read().decode('utf-8'))"
   ]
  },
  {
   "cell_type": "markdown",
   "metadata": {},
   "source": [
    "## Разделы: <a class=\"anchor\" id=\"разделы\"></a>\n",
    "* Строки\n",
    "    * [Строки: введение](#строки-введение)\n",
    "        * [Специальные символы](#cпециальные-символы)\n",
    "    * [Индексирование строк](#индексирование-строк)\n",
    "    * [Основные функции для работы со строками](#основные-функции)\n",
    "* Вывод и форматирование\n",
    "    * [Вывод на экран, функция print](#вывод-на-экран)\n",
    "    * [Современный способ форматирования текста в Python](#современный-способ-форматирования)\n",
    "    * [Расширенное форматирование](#современный-способ-форматирования)\n",
    "\n",
    "-\n",
    "\n",
    "* [к оглавлению](#разделы)"
   ]
  },
  {
   "cell_type": "markdown",
   "metadata": {},
   "source": [
    "# Строки: введение <a class=\"anchor\" id=\"строки-введение\"></a>\n",
    "* [к оглавлению](#разделы)"
   ]
  },
  {
   "cell_type": "markdown",
   "metadata": {},
   "source": [
    "Строки в Python являются неизменяемым типом данных, содержащим массив символов."
   ]
  },
  {
   "cell_type": "code",
   "execution_count": 17,
   "metadata": {},
   "outputs": [
    {
     "data": {
      "text/plain": [
       "str"
      ]
     },
     "execution_count": 17,
     "metadata": {},
     "output_type": "execute_result"
    }
   ],
   "source": [
    "s = \"Hello world\" # объявление строки с помощью двойных кавычек (не единственный способ!)\n",
    "type(s)"
   ]
  },
  {
   "cell_type": "code",
   "execution_count": 18,
   "metadata": {},
   "outputs": [
    {
     "name": "stdout",
     "output_type": "stream",
     "text": [
      "Hello world\n"
     ]
    }
   ],
   "source": [
    "print(s)"
   ]
  },
  {
   "cell_type": "code",
   "execution_count": 20,
   "metadata": {},
   "outputs": [
    {
     "name": "stdout",
     "output_type": "stream",
     "text": [
      "Hello world\n",
      "Проверка равенства:  True\n",
      "Проверка идентичности:  False\n"
     ]
    }
   ],
   "source": [
    "s2 = 'Hello world' # объявление строки с помощью одинарных кавычек \n",
    "print(s2)\n",
    "print('Проверка равенства: ', s == s2)\n",
    "print('Проверка идентичности: ', s is s2)"
   ]
  },
  {
   "cell_type": "code",
   "execution_count": 21,
   "metadata": {},
   "outputs": [
    {
     "name": "stdout",
     "output_type": "stream",
     "text": [
      "Проверка идентичности коротких строк:  True\n"
     ]
    }
   ],
   "source": [
    "a1 = 'ab'\n",
    "a2 = 'ab'\n",
    "# тут, как и для малых чисел, работает кэширLование:\n",
    "print('Проверка идентичности коротких строк: ', a1 is a2) "
   ]
  },
  {
   "cell_type": "code",
   "execution_count": 23,
   "metadata": {},
   "outputs": [
    {
     "data": {
      "text/plain": [
       "11"
      ]
     },
     "execution_count": 23,
     "metadata": {},
     "output_type": "execute_result"
    }
   ],
   "source": [
    "# длина строки (количество символов)\n",
    "len(s)"
   ]
  },
  {
   "cell_type": "code",
   "execution_count": 10,
   "metadata": {},
   "outputs": [
    {
     "data": {
      "text/plain": [
       "'11'"
      ]
     },
     "execution_count": 10,
     "metadata": {},
     "output_type": "execute_result"
    }
   ],
   "source": [
    "# функция str() возвращает строковое представление любого объекта\n",
    "str(11)"
   ]
  },
  {
   "cell_type": "code",
   "execution_count": 24,
   "metadata": {},
   "outputs": [
    {
     "data": {
      "text/plain": [
       "str"
      ]
     },
     "execution_count": 24,
     "metadata": {},
     "output_type": "execute_result"
    }
   ],
   "source": [
    "type(str(11))"
   ]
  },
  {
   "cell_type": "code",
   "execution_count": 25,
   "metadata": {},
   "outputs": [
    {
     "data": {
      "text/plain": [
       "'[1, 3, 5]'"
      ]
     },
     "execution_count": 25,
     "metadata": {},
     "output_type": "execute_result"
    }
   ],
   "source": [
    "str([1, 3, 5])"
   ]
  },
  {
   "cell_type": "markdown",
   "metadata": {},
   "source": [
    "### Специальные символы <a class=\"anchor\" id=\"cпециальные-символы\"></a>\n",
    "* [к оглавлению](#разделы)"
   ]
  },
  {
   "cell_type": "markdown",
   "metadata": {},
   "source": [
    "Использование кавычек в тексте строки."
   ]
  },
  {
   "cell_type": "code",
   "execution_count": 26,
   "metadata": {
    "scrolled": false
   },
   "outputs": [
    {
     "name": "stdout",
     "output_type": "stream",
     "text": [
      "With \" double quotes\n"
     ]
    }
   ],
   "source": [
    "st1 = 'With \" double quotes' \n",
    "print(st1)"
   ]
  },
  {
   "cell_type": "code",
   "execution_count": 27,
   "metadata": {},
   "outputs": [
    {
     "name": "stdout",
     "output_type": "stream",
     "text": [
      "With ' unary quotes\n"
     ]
    }
   ],
   "source": [
    "st2 = \"With ' unary quotes\"\n",
    "print(st2)"
   ]
  },
  {
   "cell_type": "markdown",
   "metadata": {},
   "source": [
    "* \\n - перевод строки; \n",
    "* \\r - возврат каретки; \n",
    "* \\t - знак табуляции; \n",
    "* \\v - вертикальная табуляция; \n",
    "* \\a - звонок; \n",
    "* \\b - забой; \n",
    "* \\f - перевод формата; \n",
    "* \\О - нулевой символ (не является концом строки); \n",
    "* \\\" - кавычка; \n",
    "* \\' - апостроф; \n",
    "* \\N - восьмеричное значение N.  Например, \\74 соответствует символу <; \n",
    "* \\xN - шестнадцатеричное значение N.  Например, \\х6а соответствует символу j; \n",
    "* \\\\\\\\ - обратный слэш; \n",
    "* \\uxxxx - 16-битный символ Unicode. Например, \\u043a соответствует русской букве к; \n",
    "*  \\Uxxxxxxxx - 32-битный символ Unicode. \n",
    "\n",
    "Если после слэша не стоит символ, который вместе со слэшем интерпретируется как спец\n",
    "символ, то слэш сохраняется в составе строки."
   ]
  },
  {
   "cell_type": "code",
   "execution_count": 29,
   "metadata": {},
   "outputs": [
    {
     "name": "stdout",
     "output_type": "stream",
     "text": [
      "Строка1 \n",
      "Строка2 обра\tный слэш: \\ символ с кодом 6A: j\n"
     ]
    }
   ],
   "source": [
    "print('Строка1 \\nСтрока2 обра\\тный слэш: \\\\ символ с кодом 6A: \\x6A')"
   ]
  },
  {
   "cell_type": "code",
   "execution_count": 30,
   "metadata": {},
   "outputs": [
    {
     "data": {
      "text/plain": [
       "'cтрока, введенная на нескольких строках'"
      ]
     },
     "execution_count": 30,
     "metadata": {},
     "output_type": "execute_result"
    }
   ],
   "source": [
    "# обратный слэш может экранировать перевод каретки:\n",
    "sl = 'cтрока, введенная \\\n",
    "на нескольких строках'\n",
    "sl"
   ]
  },
  {
   "cell_type": "markdown",
   "metadata": {},
   "source": [
    "Строку, введенную между утроенными апострофами или утроенными кавычками, можно разместить  на  нескольких  строках,  а  также одновременно  использовать кавычки и апострофы без необходимости их экранировать."
   ]
  },
  {
   "cell_type": "code",
   "execution_count": 31,
   "metadata": {},
   "outputs": [
    {
     "name": "stdout",
     "output_type": "stream",
     "text": [
      "Строка1 \n",
      "Одинарные кавычки '\n",
      "Двойные кавычки \"\n",
      "Строка2 \n"
     ]
    }
   ],
   "source": [
    "print('''Строка1 \n",
    "Одинарные кавычки '\n",
    "Двойные кавычки \"\n",
    "Строка2 ''') "
   ]
  },
  {
   "cell_type": "markdown",
   "metadata": {},
   "source": [
    "Если перед строкой разместить модификатор `r` (сокращение от raw), то специальные символы внутри строки выводятся как есть. Например, символ `\\n` не будет преобразован в символ перевода строки.  Иными словами, он будет считаться последовательностью двух символов: `\\` и `n`."
   ]
  },
  {
   "cell_type": "code",
   "execution_count": 32,
   "metadata": {},
   "outputs": [
    {
     "name": "stdout",
     "output_type": "stream",
     "text": [
      "Cтpoкa1\n",
      "Cтpoкa2\n",
      "Cтpoкa1\\nCтpoкa2\n"
     ]
    }
   ],
   "source": [
    "print('Cтpoкa1\\nCтpoкa2') \n",
    "print(r'Cтpoкa1\\nCтpoкa2') "
   ]
  },
  {
   "cell_type": "markdown",
   "metadata": {},
   "source": [
    "Если модификатор не указать, то все слэши в пути необходимо экранировать:"
   ]
  },
  {
   "cell_type": "code",
   "execution_count": 33,
   "metadata": {},
   "outputs": [
    {
     "name": "stdout",
     "output_type": "stream",
     "text": [
      "С:\\Python32\\lib\\site-packages\n"
     ]
    }
   ],
   "source": [
    "print('С:\\\\Python32\\\\lib\\\\site-packages')"
   ]
  },
  {
   "cell_type": "code",
   "execution_count": 34,
   "metadata": {},
   "outputs": [
    {
     "name": "stdout",
     "output_type": "stream",
     "text": [
      "С:\\Python32\\lib\\site-packages\n"
     ]
    }
   ],
   "source": [
    "# raw строка удобна для записи путей:\n",
    "print(r'С:\\Python32\\lib\\site-packages')"
   ]
  },
  {
   "cell_type": "code",
   "execution_count": 35,
   "metadata": {},
   "outputs": [
    {
     "ename": "SyntaxError",
     "evalue": "EOL while scanning string literal (<ipython-input-35-f88735a4bc25>, line 2)",
     "output_type": "error",
     "traceback": [
      "\u001b[1;36m  File \u001b[1;32m\"<ipython-input-35-f88735a4bc25>\"\u001b[1;36m, line \u001b[1;32m2\u001b[0m\n\u001b[1;33m    print(r'C:\\Python32\\lib\\site-packages\\')\u001b[0m\n\u001b[1;37m                                            ^\u001b[0m\n\u001b[1;31mSyntaxError\u001b[0m\u001b[1;31m:\u001b[0m EOL while scanning string literal\n"
     ]
    }
   ],
   "source": [
    "# проблема: обратный слеш перед кавычкой нужно экранировать\n",
    "print(r'C:\\Python32\\lib\\site-packages\\')"
   ]
  },
  {
   "cell_type": "markdown",
   "metadata": {},
   "source": [
    "Если в конце строки расположен символ \\\\ ,то его необходимо экранировать, иначе будет выведено сообщение об ошибке:"
   ]
  },
  {
   "cell_type": "code",
   "execution_count": 36,
   "metadata": {},
   "outputs": [
    {
     "ename": "SyntaxError",
     "evalue": "EOL while scanning string literal (<ipython-input-36-2b033448615f>, line 1)",
     "output_type": "error",
     "traceback": [
      "\u001b[1;36m  File \u001b[1;32m\"<ipython-input-36-2b033448615f>\"\u001b[1;36m, line \u001b[1;32m1\u001b[0m\n\u001b[1;33m    print(\"string\\\")\u001b[0m\n\u001b[1;37m                    ^\u001b[0m\n\u001b[1;31mSyntaxError\u001b[0m\u001b[1;31m:\u001b[0m EOL while scanning string literal\n"
     ]
    }
   ],
   "source": [
    "print(\"string\\\")"
   ]
  },
  {
   "cell_type": "code",
   "execution_count": 37,
   "metadata": {
    "scrolled": true
   },
   "outputs": [
    {
     "name": "stdout",
     "output_type": "stream",
     "text": [
      "string\\\n"
     ]
    }
   ],
   "source": [
    "print(\"string\\\\\") "
   ]
  },
  {
   "cell_type": "markdown",
   "metadata": {},
   "source": [
    "Запись специальных символов из таблицы символов Unicode:"
   ]
  },
  {
   "cell_type": "code",
   "execution_count": 38,
   "metadata": {},
   "outputs": [
    {
     "name": "stdout",
     "output_type": "stream",
     "text": [
      "€ € €\n"
     ]
    }
   ],
   "source": [
    "euros = \"\\N{euro sign} \\u20AC \\U000020AC\" \n",
    "print(euros)"
   ]
  },
  {
   "cell_type": "markdown",
   "metadata": {},
   "source": [
    "# >"
   ]
  },
  {
   "cell_type": "markdown",
   "metadata": {},
   "source": [
    "----"
   ]
  },
  {
   "cell_type": "markdown",
   "metadata": {},
   "source": [
    "# Индексирование строк <a class=\"anchor\" id=\"индексирование-строк\"></a>\n",
    "* [к оглавлению](#разделы)"
   ]
  },
  {
   "cell_type": "markdown",
   "metadata": {},
   "source": [
    "По сути строки являются неизменяемыми последовательностями (массивами) и все функциональные возможности, существующие у неизменяемых последовательностей, могут использоваться и у строк. "
   ]
  },
  {
   "cell_type": "markdown",
   "metadata": {},
   "source": [
    "Индексирование строк начинается с 0 и до len(s) - 1:"
   ]
  },
  {
   "cell_type": "markdown",
   "metadata": {
    "collapsed": true
   },
   "source": [
    "<center>\n",
    "    <img src=\"./img/indexing1.png\" alt=\"Индексирование строк\" style=\"width: 500px;\"/>\n",
    "    <b>Индексирование строк</b>\n",
    "</center>"
   ]
  },
  {
   "cell_type": "code",
   "execution_count": 39,
   "metadata": {},
   "outputs": [
    {
     "data": {
      "text/plain": [
       "'Light ray'"
      ]
     },
     "execution_count": 39,
     "metadata": {},
     "output_type": "execute_result"
    }
   ],
   "source": [
    "lr = 'Light ray'\n",
    "lr"
   ]
  },
  {
   "cell_type": "code",
   "execution_count": 40,
   "metadata": {},
   "outputs": [
    {
     "data": {
      "text/plain": [
       "'L'"
      ]
     },
     "execution_count": 40,
     "metadata": {},
     "output_type": "execute_result"
    }
   ],
   "source": [
    "# индексирование строк начинается с 0:\n",
    "lr[0]"
   ]
  },
  {
   "cell_type": "code",
   "execution_count": 41,
   "metadata": {},
   "outputs": [
    {
     "data": {
      "text/plain": [
       "9"
      ]
     },
     "execution_count": 41,
     "metadata": {},
     "output_type": "execute_result"
    }
   ],
   "source": [
    "len(lr)"
   ]
  },
  {
   "cell_type": "code",
   "execution_count": 42,
   "metadata": {},
   "outputs": [
    {
     "data": {
      "text/plain": [
       "'y'"
      ]
     },
     "execution_count": 42,
     "metadata": {},
     "output_type": "execute_result"
    }
   ],
   "source": [
    "# последний символ строки имеет индекс на 1 меньший, чем длина строки:\n",
    "lr[8]"
   ]
  },
  {
   "cell_type": "code",
   "execution_count": 43,
   "metadata": {
    "scrolled": false
   },
   "outputs": [
    {
     "ename": "IndexError",
     "evalue": "string index out of range",
     "output_type": "error",
     "traceback": [
      "\u001b[1;31m---------------------------------------------------------------------------\u001b[0m",
      "\u001b[1;31mIndexError\u001b[0m                                Traceback (most recent call last)",
      "\u001b[1;32m<ipython-input-43-7e4641780de8>\u001b[0m in \u001b[0;36m<module>\u001b[1;34m\u001b[0m\n\u001b[0;32m      1\u001b[0m \u001b[1;31m# выход за пределы последовательности вызывает ошибку:\u001b[0m\u001b[1;33m\u001b[0m\u001b[1;33m\u001b[0m\u001b[1;33m\u001b[0m\u001b[0m\n\u001b[1;32m----> 2\u001b[1;33m \u001b[0mlr\u001b[0m\u001b[1;33m[\u001b[0m\u001b[1;36m9\u001b[0m\u001b[1;33m]\u001b[0m\u001b[1;33m\u001b[0m\u001b[1;33m\u001b[0m\u001b[0m\n\u001b[0m",
      "\u001b[1;31mIndexError\u001b[0m: string index out of range"
     ]
    }
   ],
   "source": [
    "# выход за пределы последовательности вызывает ошибку:\n",
    "lr[9]"
   ]
  },
  {
   "cell_type": "code",
   "execution_count": 44,
   "metadata": {
    "scrolled": true
   },
   "outputs": [
    {
     "ename": "TypeError",
     "evalue": "'str' object does not support item assignment",
     "output_type": "error",
     "traceback": [
      "\u001b[1;31m---------------------------------------------------------------------------\u001b[0m",
      "\u001b[1;31mTypeError\u001b[0m                                 Traceback (most recent call last)",
      "\u001b[1;32m<ipython-input-44-cef4942fbd0e>\u001b[0m in \u001b[0;36m<module>\u001b[1;34m\u001b[0m\n\u001b[0;32m      1\u001b[0m \u001b[1;31m# Изменять строки нельзя!\u001b[0m\u001b[1;33m\u001b[0m\u001b[1;33m\u001b[0m\u001b[1;33m\u001b[0m\u001b[0m\n\u001b[1;32m----> 2\u001b[1;33m \u001b[0mlr\u001b[0m\u001b[1;33m[\u001b[0m\u001b[1;36m1\u001b[0m\u001b[1;33m]\u001b[0m \u001b[1;33m=\u001b[0m \u001b[1;34m'F'\u001b[0m\u001b[1;33m\u001b[0m\u001b[1;33m\u001b[0m\u001b[0m\n\u001b[0m",
      "\u001b[1;31mTypeError\u001b[0m: 'str' object does not support item assignment"
     ]
    }
   ],
   "source": [
    "# Изменять строки нельзя!\n",
    "lr[1] = 'F'"
   ]
  },
  {
   "cell_type": "markdown",
   "metadata": {},
   "source": [
    "В Python возможно обращение к последовательности с отрицательными индексами:\n",
    "\n",
    "* -1 - самый последний элемент последовательности\n",
    "* -2 - второй с конца\n",
    "* ...\n",
    "* -len(s) - первый символ последовательности"
   ]
  },
  {
   "cell_type": "code",
   "execution_count": 31,
   "metadata": {
    "scrolled": true
   },
   "outputs": [
    {
     "data": {
      "text/plain": [
       "'y'"
      ]
     },
     "execution_count": 31,
     "metadata": {},
     "output_type": "execute_result"
    }
   ],
   "source": [
    "# самый последний элемент последовательности:\n",
    "lr[-1]"
   ]
  },
  {
   "cell_type": "code",
   "execution_count": 45,
   "metadata": {},
   "outputs": [
    {
     "data": {
      "text/plain": [
       "'y'"
      ]
     },
     "execution_count": 45,
     "metadata": {},
     "output_type": "execute_result"
    }
   ],
   "source": [
    "# запись с отрицательным индексом гораздо удобнее, чем использование len:\n",
    "lr[len(lr) - 1]"
   ]
  },
  {
   "cell_type": "code",
   "execution_count": 46,
   "metadata": {},
   "outputs": [
    {
     "data": {
      "text/plain": [
       "8"
      ]
     },
     "execution_count": 46,
     "metadata": {},
     "output_type": "execute_result"
    }
   ],
   "source": [
    "len(lr) - 1"
   ]
  },
  {
   "cell_type": "code",
   "execution_count": 47,
   "metadata": {},
   "outputs": [
    {
     "data": {
      "text/plain": [
       "'a'"
      ]
     },
     "execution_count": 47,
     "metadata": {},
     "output_type": "execute_result"
    }
   ],
   "source": [
    "# второй с конца:\n",
    "lr[-2]"
   ]
  },
  {
   "cell_type": "code",
   "execution_count": 48,
   "metadata": {},
   "outputs": [
    {
     "data": {
      "text/plain": [
       "'L'"
      ]
     },
     "execution_count": 48,
     "metadata": {},
     "output_type": "execute_result"
    }
   ],
   "source": [
    "# первый символ последовательности:\n",
    "lr[-9]"
   ]
  },
  {
   "cell_type": "code",
   "execution_count": 49,
   "metadata": {},
   "outputs": [
    {
     "name": "stdout",
     "output_type": "stream",
     "text": [
      "Строка: Light ray; первый символ: L; последний символ: y\n"
     ]
    }
   ],
   "source": [
    "# Т.к. отрицательные индексы отсчитваются с -1, а положительные с 0,\n",
    "# то и модуль крайних положительных и отрицательных индексов отличается на 1:\n",
    "print(f'Строка: {lr}; первый символ: {lr[-9]}; последний символ: {lr[8]}')"
   ]
  },
  {
   "cell_type": "code",
   "execution_count": 50,
   "metadata": {
    "scrolled": true
   },
   "outputs": [
    {
     "ename": "IndexError",
     "evalue": "string index out of range",
     "output_type": "error",
     "traceback": [
      "\u001b[1;31m---------------------------------------------------------------------------\u001b[0m",
      "\u001b[1;31mIndexError\u001b[0m                                Traceback (most recent call last)",
      "\u001b[1;32m<ipython-input-50-974571d4294a>\u001b[0m in \u001b[0;36m<module>\u001b[1;34m\u001b[0m\n\u001b[0;32m      1\u001b[0m \u001b[1;31m# выход за пределы последовательности вызывает ошибку:\u001b[0m\u001b[1;33m\u001b[0m\u001b[1;33m\u001b[0m\u001b[1;33m\u001b[0m\u001b[0m\n\u001b[1;32m----> 2\u001b[1;33m \u001b[0mlr\u001b[0m\u001b[1;33m[\u001b[0m\u001b[1;33m-\u001b[0m\u001b[1;36m10\u001b[0m\u001b[1;33m]\u001b[0m\u001b[1;33m\u001b[0m\u001b[1;33m\u001b[0m\u001b[0m\n\u001b[0m",
      "\u001b[1;31mIndexError\u001b[0m: string index out of range"
     ]
    }
   ],
   "source": [
    "# выход за пределы последовательности вызывает ошибку:\n",
    "lr[-10]"
   ]
  },
  {
   "cell_type": "markdown",
   "metadata": {},
   "source": [
    "### Получение срезов\n",
    "\n",
    "Три формы оператора получения среза:\n",
    "* `seq[start]`\n",
    "* `seq[start:end]`\n",
    "* `seq[start:end:step]`"
   ]
  },
  {
   "cell_type": "markdown",
   "metadata": {},
   "source": [
    "Получение среза с 2 параметрами: `seq[start:end]`\n",
    "\n",
    "Срез возвращает подстроку от индекса `start` до индекса `end` (не включая символ с индексом `end`!)"
   ]
  },
  {
   "cell_type": "markdown",
   "metadata": {
    "collapsed": true
   },
   "source": [
    "<center>\n",
    "    <img src=\"./img/indexing2.png\" alt=\"Срезы строк\" style=\"width: 700px;\"/>\n",
    "    <b>Срезы строк</b>\n",
    "</center>"
   ]
  },
  {
   "cell_type": "code",
   "execution_count": 51,
   "metadata": {},
   "outputs": [
    {
     "data": {
      "text/plain": [
       "'The waxwork man'"
      ]
     },
     "execution_count": 51,
     "metadata": {},
     "output_type": "execute_result"
    }
   ],
   "source": [
    "wm = 'The waxwork man'\n",
    "wm"
   ]
  },
  {
   "cell_type": "code",
   "execution_count": 52,
   "metadata": {},
   "outputs": [
    {
     "data": {
      "text/plain": [
       "'waxwork'"
      ]
     },
     "execution_count": 52,
     "metadata": {},
     "output_type": "execute_result"
    }
   ],
   "source": [
    "# заданы 2 положительных параметра:\n",
    "wm[4:11]"
   ]
  },
  {
   "cell_type": "code",
   "execution_count": 53,
   "metadata": {},
   "outputs": [
    {
     "data": {
      "text/plain": [
       "'The wax'"
      ]
     },
     "execution_count": 53,
     "metadata": {},
     "output_type": "execute_result"
    }
   ],
   "source": [
    "wm[:7] # отсутствие первого индекса интерпретируется как значение 0"
   ]
  },
  {
   "cell_type": "code",
   "execution_count": 40,
   "metadata": {},
   "outputs": [
    {
     "data": {
      "text/plain": [
       "'work man'"
      ]
     },
     "execution_count": 40,
     "metadata": {},
     "output_type": "execute_result"
    }
   ],
   "source": [
    "wm[7:] # отсутствие второго индекса интерпретируется как срез до последнего символа включительно"
   ]
  },
  {
   "cell_type": "code",
   "execution_count": 41,
   "metadata": {},
   "outputs": [
    {
     "data": {
      "text/plain": [
       "'The waxwork man'"
      ]
     },
     "execution_count": 41,
     "metadata": {},
     "output_type": "execute_result"
    }
   ],
   "source": [
    "wm[:] # от 0-го до последнего символа включительно"
   ]
  },
  {
   "cell_type": "code",
   "execution_count": 54,
   "metadata": {},
   "outputs": [
    {
     "data": {
      "text/plain": [
       "''"
      ]
     },
     "execution_count": 54,
     "metadata": {},
     "output_type": "execute_result"
    }
   ],
   "source": [
    "wm[4:3] # нет ошибки, вернет пустую строку"
   ]
  },
  {
   "cell_type": "code",
   "execution_count": 56,
   "metadata": {},
   "outputs": [
    {
     "data": {
      "text/plain": [
       "'ma'"
      ]
     },
     "execution_count": 56,
     "metadata": {},
     "output_type": "execute_result"
    }
   ],
   "source": [
    "wm[-3:-1]"
   ]
  },
  {
   "cell_type": "code",
   "execution_count": 57,
   "metadata": {},
   "outputs": [
    {
     "data": {
      "text/plain": [
       "'man'"
      ]
     },
     "execution_count": 57,
     "metadata": {},
     "output_type": "execute_result"
    }
   ],
   "source": [
    "wm[-3:]"
   ]
  },
  {
   "cell_type": "code",
   "execution_count": 58,
   "metadata": {},
   "outputs": [
    {
     "data": {
      "text/plain": [
       "'The waxwork '"
      ]
     },
     "execution_count": 58,
     "metadata": {},
     "output_type": "execute_result"
    }
   ],
   "source": [
    "wm[:-3]"
   ]
  },
  {
   "cell_type": "code",
   "execution_count": 59,
   "metadata": {
    "scrolled": true
   },
   "outputs": [
    {
     "data": {
      "text/plain": [
       "''"
      ]
     },
     "execution_count": 59,
     "metadata": {},
     "output_type": "execute_result"
    }
   ],
   "source": [
    "wm[-3:3]"
   ]
  },
  {
   "cell_type": "markdown",
   "metadata": {},
   "source": [
    "Получение среза с 3 параметрами: `seq[start:end:step]`\n",
    "\n",
    "от символа с индексом `start` до символа с индексом `end` (не включая символ `end`!) с шагом `step`"
   ]
  },
  {
   "cell_type": "markdown",
   "metadata": {
    "collapsed": true
   },
   "source": [
    "<center>\n",
    "    <img src=\"./img/indexing3.png\" alt=\"Срезы строк с шагом\" style=\"width: 700px;\"/>\n",
    "    <b>Срезы строк с шагом</b>\n",
    "</center>"
   ]
  },
  {
   "cell_type": "code",
   "execution_count": 60,
   "metadata": {},
   "outputs": [
    {
     "data": {
      "text/plain": [
       "'he ate camel food'"
      ]
     },
     "execution_count": 60,
     "metadata": {},
     "output_type": "execute_result"
    }
   ],
   "source": [
    "acf = 'he ate camel food'\n",
    "acf"
   ]
  },
  {
   "cell_type": "code",
   "execution_count": 62,
   "metadata": {},
   "outputs": [
    {
     "data": {
      "text/plain": [
       "'ha m o'"
      ]
     },
     "execution_count": 62,
     "metadata": {},
     "output_type": "execute_result"
    }
   ],
   "source": [
    "acf[::3]"
   ]
  },
  {
   "cell_type": "code",
   "execution_count": 63,
   "metadata": {},
   "outputs": [
    {
     "data": {
      "text/plain": [
       "'do ea t h'"
      ]
     },
     "execution_count": 63,
     "metadata": {},
     "output_type": "execute_result"
    }
   ],
   "source": [
    "acf[::-2]"
   ]
  },
  {
   "cell_type": "markdown",
   "metadata": {
    "collapsed": true
   },
   "source": [
    "<center>\n",
    "    <img src=\"./img/indexing4.png\" alt=\"Срезы строк с шагом (2)\" style=\"width: 700px;\"/>\n",
    "    <b>Срезы строк с шагом (2)</b>\n",
    "</center>"
   ]
  },
  {
   "cell_type": "code",
   "execution_count": 65,
   "metadata": {},
   "outputs": [
    {
     "data": {
      "text/plain": [
       "'do ea t'"
      ]
     },
     "execution_count": 65,
     "metadata": {},
     "output_type": "execute_result"
    }
   ],
   "source": [
    "acf[:2:-2]"
   ]
  },
  {
   "cell_type": "code",
   "execution_count": 51,
   "metadata": {},
   "outputs": [
    {
     "data": {
      "text/plain": [
       "'do ea t'"
      ]
     },
     "execution_count": 51,
     "metadata": {},
     "output_type": "execute_result"
    }
   ],
   "source": [
    "acf[-1:2:-2]"
   ]
  },
  {
   "cell_type": "code",
   "execution_count": 66,
   "metadata": {},
   "outputs": [
    {
     "data": {
      "text/plain": [
       "'ha m'"
      ]
     },
     "execution_count": 66,
     "metadata": {},
     "output_type": "execute_result"
    }
   ],
   "source": [
    "acf[0:-5:3]"
   ]
  },
  {
   "cell_type": "code",
   "execution_count": 67,
   "metadata": {},
   "outputs": [
    {
     "data": {
      "text/plain": [
       "'ha m'"
      ]
     },
     "execution_count": 67,
     "metadata": {},
     "output_type": "execute_result"
    }
   ],
   "source": [
    "acf[:-5:3]"
   ]
  },
  {
   "cell_type": "code",
   "execution_count": 68,
   "metadata": {},
   "outputs": [
    {
     "name": "stdout",
     "output_type": "stream",
     "text": [
      "h-e- -a-t-e- -c-a-m-e-l- -f-o-o-d-"
     ]
    }
   ],
   "source": [
    "# можно организовать цикл по символам строки:\n",
    "for i in acf:\n",
    "    print(i,  end=\"-\") "
   ]
  },
  {
   "cell_type": "markdown",
   "metadata": {},
   "source": [
    "# >"
   ]
  },
  {
   "cell_type": "markdown",
   "metadata": {},
   "source": [
    "----"
   ]
  },
  {
   "cell_type": "markdown",
   "metadata": {},
   "source": [
    "# Основные функции для работы со строками <a class=\"anchor\" id=\"основные-функции\"></a>\n",
    "* [к оглавлению](#разделы)\n",
    "\n",
    "Т.к. строки являются неизменяемыми объектами, функции, выполняющие их преобразование, возвращают новые объекты строк."
   ]
  },
  {
   "cell_type": "code",
   "execution_count": 71,
   "metadata": {},
   "outputs": [
    {
     "data": {
      "text/plain": [
       "'Hello world'"
      ]
     },
     "execution_count": 71,
     "metadata": {},
     "output_type": "execute_result"
    }
   ],
   "source": [
    "s"
   ]
  },
  {
   "cell_type": "code",
   "execution_count": 72,
   "metadata": {},
   "outputs": [
    {
     "data": {
      "text/plain": [
       "11"
      ]
     },
     "execution_count": 72,
     "metadata": {},
     "output_type": "execute_result"
    }
   ],
   "source": [
    "# длина последовательности:\n",
    "len(s)"
   ]
  },
  {
   "cell_type": "markdown",
   "metadata": {},
   "source": [
    "__Проверка вхождения подстроки в строку__"
   ]
  },
  {
   "cell_type": "code",
   "execution_count": 73,
   "metadata": {},
   "outputs": [
    {
     "data": {
      "text/plain": [
       "'Hello world'"
      ]
     },
     "execution_count": 73,
     "metadata": {},
     "output_type": "execute_result"
    }
   ],
   "source": [
    "s"
   ]
  },
  {
   "cell_type": "code",
   "execution_count": 75,
   "metadata": {},
   "outputs": [
    {
     "data": {
      "text/plain": [
       "True"
      ]
     },
     "execution_count": 75,
     "metadata": {},
     "output_type": "execute_result"
    }
   ],
   "source": [
    "# оператор проверки вхождения подстроки в строку:\n",
    "'e' in s"
   ]
  },
  {
   "cell_type": "code",
   "execution_count": 76,
   "metadata": {},
   "outputs": [
    {
     "data": {
      "text/plain": [
       "True"
      ]
     },
     "execution_count": 76,
     "metadata": {},
     "output_type": "execute_result"
    }
   ],
   "source": [
    "'l' in s"
   ]
  },
  {
   "cell_type": "code",
   "execution_count": 77,
   "metadata": {},
   "outputs": [
    {
     "data": {
      "text/plain": [
       "False"
      ]
     },
     "execution_count": 77,
     "metadata": {},
     "output_type": "execute_result"
    }
   ],
   "source": [
    "'x' in s"
   ]
  },
  {
   "cell_type": "code",
   "execution_count": 78,
   "metadata": {},
   "outputs": [
    {
     "data": {
      "text/plain": [
       "False"
      ]
     },
     "execution_count": 78,
     "metadata": {},
     "output_type": "execute_result"
    }
   ],
   "source": [
    "'L' in s"
   ]
  },
  {
   "cell_type": "code",
   "execution_count": 79,
   "metadata": {},
   "outputs": [
    {
     "data": {
      "text/plain": [
       "True"
      ]
     },
     "execution_count": 79,
     "metadata": {},
     "output_type": "execute_result"
    }
   ],
   "source": [
    "'wor' in s"
   ]
  },
  {
   "cell_type": "markdown",
   "metadata": {},
   "source": [
    "__Операция конкатенации (\"склеивания\") строк__"
   ]
  },
  {
   "cell_type": "code",
   "execution_count": 80,
   "metadata": {},
   "outputs": [
    {
     "data": {
      "text/plain": [
       "'Строка1Строка2'"
      ]
     },
     "execution_count": 80,
     "metadata": {},
     "output_type": "execute_result"
    }
   ],
   "source": [
    "# конкатенация cтрок при помощи оператора +:\n",
    "\"Строка1\" + \"Строка2\""
   ]
  },
  {
   "cell_type": "code",
   "execution_count": 81,
   "metadata": {},
   "outputs": [
    {
     "data": {
      "text/plain": [
       "'Строка1Строка2Строка3Строка4'"
      ]
     },
     "execution_count": 81,
     "metadata": {},
     "output_type": "execute_result"
    }
   ],
   "source": [
    "# конкатенация нескольких строк (неэффективный вариант):\n",
    "\"Строка1\" + \"Строка2\" + \"Строка3\" + \"Строка4\""
   ]
  },
  {
   "cell_type": "code",
   "execution_count": 82,
   "metadata": {},
   "outputs": [
    {
     "data": {
      "text/plain": [
       "'НачалоКонец'"
      ]
     },
     "execution_count": 82,
     "metadata": {},
     "output_type": "execute_result"
    }
   ],
   "source": [
    "s1 = 'Начало'\n",
    "# добавление в конец последовательности:\n",
    "s1 += 'Конец' # вместо: s1 = s1 + 'Конец'\n",
    "s1"
   ]
  },
  {
   "cell_type": "markdown",
   "metadata": {},
   "source": [
    "__Повторная конкатенация__"
   ]
  },
  {
   "cell_type": "code",
   "execution_count": 83,
   "metadata": {},
   "outputs": [
    {
     "data": {
      "text/plain": [
       "'Hello worldHello worldHello world'"
      ]
     },
     "execution_count": 83,
     "metadata": {},
     "output_type": "execute_result"
    }
   ],
   "source": [
    "# повторяем последовательность 3 раза:\n",
    "s * 3"
   ]
  },
  {
   "cell_type": "code",
   "execution_count": 67,
   "metadata": {},
   "outputs": [
    {
     "data": {
      "text/plain": [
       "'НачалоКонец'"
      ]
     },
     "execution_count": 67,
     "metadata": {},
     "output_type": "execute_result"
    }
   ],
   "source": [
    "s1"
   ]
  },
  {
   "cell_type": "code",
   "execution_count": 84,
   "metadata": {},
   "outputs": [
    {
     "data": {
      "text/plain": [
       "'НачалоКонецНачалоКонецНачалоКонецНачалоКонец'"
      ]
     },
     "execution_count": 84,
     "metadata": {},
     "output_type": "execute_result"
    }
   ],
   "source": [
    "# дублирование с присвоением:\n",
    "s1 *= 4\n",
    "s1"
   ]
  },
  {
   "cell_type": "markdown",
   "metadata": {},
   "source": [
    "__Преобразование строк__"
   ]
  },
  {
   "cell_type": "markdown",
   "metadata": {
    "collapsed": true
   },
   "source": [
    "`strip([<Символы>])` - удаляет пробельные или указанные символы в  начале  и в конце строки. Пробельными символами считаются:\n",
    "* пробел\n",
    "* символ nеревода строки (\\n)\n",
    "* символ возврата каретки (\\r)\n",
    "* символы горизонтальной (\\t) и вертикальной (\\v) табуляции"
   ]
  },
  {
   "cell_type": "code",
   "execution_count": 85,
   "metadata": {},
   "outputs": [
    {
     "data": {
      "text/plain": [
       "'strstrstrokstrstrstr'"
      ]
     },
     "execution_count": 85,
     "metadata": {},
     "output_type": "execute_result"
    }
   ],
   "source": [
    "'  \\n\\r\\v\\t strstrstrokstrstrstr \\n\\r\\v '.strip()"
   ]
  },
  {
   "cell_type": "markdown",
   "metadata": {},
   "source": [
    "`lstrip( [<Символы>] )` - удаляет nробельные или указанные символы в начале строки\n",
    "\n",
    "\n",
    "`rstrip( [<Символы>] )` - удаляет nробельные или указанные символы в конце строки"
   ]
  },
  {
   "cell_type": "markdown",
   "metadata": {},
   "source": [
    "`split ( [<Разделитель> [,  <Лимит> ]])`  - разделяет строку  на  подстроки  по  указанному разделителю и добавляет их в список. Если первый параметр не указан или имеет значение `None`, то в качестве разделителя используется символ пробела. Если во втором параметре задано число, то в  списке будет указанное  количество подстрок.  Если подстрок больше указанного количества, то список будет содержать еше один элемент, в котором будет остаток строки."
   ]
  },
  {
   "cell_type": "code",
   "execution_count": 87,
   "metadata": {},
   "outputs": [
    {
     "data": {
      "text/plain": [
       "['word1 ', 'word2', 'word3']"
      ]
     },
     "execution_count": 87,
     "metadata": {},
     "output_type": "execute_result"
    }
   ],
   "source": [
    "sw = \"word1 \\nword2\\nword3\" \n",
    "sw.split(\"\\n\") "
   ]
  },
  {
   "cell_type": "markdown",
   "metadata": {},
   "source": [
    "Если в строке содержатся несколько пробелов подряд и разделитель не указан, то пустые \n",
    "элементы не будут добавлены в список. При использовании другого разделителя могут быть пустые элементы."
   ]
  },
  {
   "cell_type": "code",
   "execution_count": 60,
   "metadata": {},
   "outputs": [
    {
     "data": {
      "text/plain": [
       "['word', 'word2', 'word3']"
      ]
     },
     "execution_count": 60,
     "metadata": {},
     "output_type": "execute_result"
    }
   ],
   "source": [
    "sw2 = 'word    word2  word3  '\n",
    "sw2.split() "
   ]
  },
  {
   "cell_type": "code",
   "execution_count": 88,
   "metadata": {},
   "outputs": [
    {
     "data": {
      "text/plain": [
       "['word', '', '', '', 'word2', '', 'word3', '', '', '']"
      ]
     },
     "execution_count": 88,
     "metadata": {},
     "output_type": "execute_result"
    }
   ],
   "source": [
    "sw2 = 'word,,,,word2,,word3,,,'\n",
    "sw2.split(',') "
   ]
  },
  {
   "cell_type": "markdown",
   "metadata": {},
   "source": [
    "`splitlines([True])` - разделяет строку на подстроки по символу перевода строки (`\\n`) и добавляет их в список. Символы новой строки включаются в результат, только если необязательный параметр имеет значение `True`.  Если разделитель не  найден в  строке, то список будет содержать только один элемент."
   ]
  },
  {
   "cell_type": "code",
   "execution_count": 71,
   "metadata": {},
   "outputs": [
    {
     "data": {
      "text/plain": [
       "['word1', 'word2', 'word3']"
      ]
     },
     "execution_count": 71,
     "metadata": {},
     "output_type": "execute_result"
    }
   ],
   "source": [
    "'word1\\nword2\\nword3'.splitlines()"
   ]
  },
  {
   "cell_type": "code",
   "execution_count": 89,
   "metadata": {},
   "outputs": [
    {
     "data": {
      "text/plain": [
       "['word1\\n', 'word2\\n', 'word3']"
      ]
     },
     "execution_count": 89,
     "metadata": {},
     "output_type": "execute_result"
    }
   ],
   "source": [
    "'word1\\nword2\\nword3'.splitlines(True)"
   ]
  },
  {
   "cell_type": "markdown",
   "metadata": {},
   "source": [
    "`join()`  - nреобразует последовательность (в частности, список) в  строку. Элементы добавляются через указанный разделитель. Формат метода: \n",
    "\n",
    "`<Строка>  =  <Разделитель>.jоin(<Последовательность>)`\n",
    "\n",
    "Использование `join()` является лучшим способом \"сборки\" строки из подстрок, хранящихся в списке или других итерируемых структурах данных."
   ]
  },
  {
   "cell_type": "code",
   "execution_count": 93,
   "metadata": {},
   "outputs": [
    {
     "data": {
      "text/plain": [
       "'wordl => word2 => wordЗ'"
      ]
     },
     "execution_count": 93,
     "metadata": {},
     "output_type": "execute_result"
    }
   ],
   "source": [
    "' => '.join(['wordl',  'word2',  'wordЗ']) "
   ]
  },
  {
   "cell_type": "code",
   "execution_count": 94,
   "metadata": {},
   "outputs": [
    {
     "data": {
      "text/plain": [
       "'wordl word2 wordЗ'"
      ]
     },
     "execution_count": 94,
     "metadata": {},
     "output_type": "execute_result"
    }
   ],
   "source": [
    "' '.join(['wordl',  'word2',  'wordЗ'])"
   ]
  },
  {
   "cell_type": "code",
   "execution_count": 95,
   "metadata": {},
   "outputs": [
    {
     "data": {
      "text/plain": [
       "['H', 'e', 'l', 'l', 'o', ' ', 'w', 'o', 'r', 'l', 'd']"
      ]
     },
     "execution_count": 95,
     "metadata": {},
     "output_type": "execute_result"
    }
   ],
   "source": [
    "lst = list(s)\n",
    "lst"
   ]
  },
  {
   "cell_type": "code",
   "execution_count": 97,
   "metadata": {},
   "outputs": [
    {
     "data": {
      "text/plain": [
       "'Hello world'"
      ]
     },
     "execution_count": 97,
     "metadata": {},
     "output_type": "execute_result"
    }
   ],
   "source": [
    "\"\".join(lst)"
   ]
  },
  {
   "cell_type": "markdown",
   "metadata": {},
   "source": [
    "Для изменения регистра символов предназначены следующие методы: \n",
    "* `upper()` - заменяет все символы строки соответствующими прописными буквами;\n",
    "* `lower()` - заменяет все символы строки соответствующими строчными буквами;\n",
    "* `swapcase()` - заменяет все строчные символы соответствующими прописными буквами, а все прописные символы - строчными;\n",
    "* `capitalize()` - делает первую букву прописной;\n",
    "* `title()` - делает первую букву каждого слова прописной."
   ]
  },
  {
   "cell_type": "code",
   "execution_count": 98,
   "metadata": {
    "scrolled": true
   },
   "outputs": [
    {
     "name": "stdout",
     "output_type": "stream",
     "text": [
      "СТРОКА\n",
      "строка\n",
      "строка СТРОКА\n",
      "Cтpoкa  строка\n",
      "Первая  Буква  Каждого Слова  Станет  Прописной\n"
     ]
    }
   ],
   "source": [
    "print(\"строка\".upper())\n",
    "print(\"СТРОКА\".lower())\n",
    "print(\"СТРОКА строка\".swapcase())\n",
    "print(\"cтpoкa  строка\".capitalize())\n",
    "st =  \"первая  буква  каждого слова  станет  прописной\" \n",
    "print(st.title()) "
   ]
  },
  {
   "cell_type": "markdown",
   "metadata": {},
   "source": [
    "__Работа с кодом символа__\n",
    "\n",
    "* функция `chr(<Код  символа>)` - возвращает символ по указанному коду;\n",
    "* функция `ord(<Символ>)` - возвращает код указанного символа."
   ]
  },
  {
   "cell_type": "code",
   "execution_count": 99,
   "metadata": {},
   "outputs": [
    {
     "name": "stdout",
     "output_type": "stream",
     "text": [
      "1055\n"
     ]
    }
   ],
   "source": [
    "print(ord(\"П\")) "
   ]
  },
  {
   "cell_type": "code",
   "execution_count": 102,
   "metadata": {},
   "outputs": [
    {
     "name": "stdout",
     "output_type": "stream",
     "text": [
      "П\n"
     ]
    }
   ],
   "source": [
    "print(chr(1055))"
   ]
  },
  {
   "cell_type": "markdown",
   "metadata": {},
   "source": [
    "#### Поиск и замена в строке"
   ]
  },
  {
   "cell_type": "markdown",
   "metadata": {},
   "source": [
    "`find()` - ищет подстроку в  строке.  Возвращает номер позиции, с  которой начинается вхождение подстроки в строку. Формат метода: `<Строка>.find(<Подстрока>[, <Начало>[, <Конец>]])` \n",
    "* Если подстрока в строку не входит, то возвращается значение -1.\n",
    "* Метод зависит от регистра символов.\n",
    "* Если начальная  позиция  не  указана,  то  поиск будет осуществляться с  начала строки.\n",
    "* Если  параметры  `<Начало>`  и  `<Конец>`  указаны,  то  производится  операция  извлечения среза `<Строка>[<Начало>:<Конец>]` и поиск подстроки будет выполняться в этом фраrменте."
   ]
  },
  {
   "cell_type": "code",
   "execution_count": 104,
   "metadata": {},
   "outputs": [
    {
     "data": {
      "text/plain": [
       "(0, 14, -1)"
      ]
     },
     "execution_count": 104,
     "metadata": {},
     "output_type": "execute_result"
    }
   ],
   "source": [
    "sf = \"пример пример Пример\"\n",
    "sf.find(\"при\"), sf.find(\"При\"),  sf.find(\"тест\") "
   ]
  },
  {
   "cell_type": "code",
   "execution_count": 80,
   "metadata": {},
   "outputs": [
    {
     "data": {
      "text/plain": [
       "(7, 0, 7)"
      ]
     },
     "execution_count": 80,
     "metadata": {},
     "output_type": "execute_result"
    }
   ],
   "source": [
    "sf.find(\"при\", 6), sf.find(\"при\", 0, 6), sf.find(\"при\", 7, 12) "
   ]
  },
  {
   "cell_type": "markdown",
   "metadata": {},
   "source": [
    "`index()` - метод аналогичен методу `find()`,  но если подстрока в  строку не входит, то возбуждается исключение ValueError. Параметры метода: `<Строка>.indех(<Подстрока>[, <Начало>[, <Конец>]])`."
   ]
  },
  {
   "cell_type": "code",
   "execution_count": 81,
   "metadata": {},
   "outputs": [
    {
     "data": {
      "text/plain": [
       "(0, 14)"
      ]
     },
     "execution_count": 81,
     "metadata": {},
     "output_type": "execute_result"
    }
   ],
   "source": [
    "sf.index(\"при\"), sf.index(\"При\")"
   ]
  },
  {
   "cell_type": "code",
   "execution_count": 82,
   "metadata": {},
   "outputs": [
    {
     "ename": "ValueError",
     "evalue": "substring not found",
     "output_type": "error",
     "traceback": [
      "\u001b[1;31m---------------------------------------------------------------------------\u001b[0m",
      "\u001b[1;31mValueError\u001b[0m                                Traceback (most recent call last)",
      "\u001b[1;32m<ipython-input-82-f08eacdc32e6>\u001b[0m in \u001b[0;36m<module>\u001b[1;34m()\u001b[0m\n\u001b[1;32m----> 1\u001b[1;33m \u001b[0msf\u001b[0m\u001b[1;33m.\u001b[0m\u001b[0mindex\u001b[0m\u001b[1;33m(\u001b[0m\u001b[1;34m\"тест\"\u001b[0m\u001b[1;33m)\u001b[0m\u001b[1;33m\u001b[0m\u001b[0m\n\u001b[0m",
      "\u001b[1;31mValueError\u001b[0m: substring not found"
     ]
    }
   ],
   "source": [
    "sf.index(\"тест\") "
   ]
  },
  {
   "cell_type": "markdown",
   "metadata": {},
   "source": [
    "`rfind()` - ищет подстроку в  строке.  Возвращает позицию __последнего__ вхождения подстроки в строку. Формат метода: `<Строка>.rfind(<Подстрока>[, <Начало>[, <Конец>]])`. Аналогичен методу `find()`.\n",
    "\n",
    "`rindex()` - метод аналогичен методу `index()`, но возвращает позицию __последнего__ вхождения. Если подстрока в строку не входит, то возбуждается исключение ValueError. Параметры метода: `<Строка>.rindех(<Подстрока>[, <Начало>[, <Конец>]])`."
   ]
  },
  {
   "cell_type": "code",
   "execution_count": 83,
   "metadata": {},
   "outputs": [
    {
     "data": {
      "text/plain": [
       "(7, 14, -1)"
      ]
     },
     "execution_count": 83,
     "metadata": {},
     "output_type": "execute_result"
    }
   ],
   "source": [
    "sf.rfind(\"при\"), sf.rfind(\"При\"),  sf.rfind(\"тест\") "
   ]
  },
  {
   "cell_type": "code",
   "execution_count": 84,
   "metadata": {},
   "outputs": [
    {
     "data": {
      "text/plain": [
       "(7, 14)"
      ]
     },
     "execution_count": 84,
     "metadata": {},
     "output_type": "execute_result"
    }
   ],
   "source": [
    "sf.rindex(\"при\"), sf.rindex(\"При\")"
   ]
  },
  {
   "cell_type": "markdown",
   "metadata": {},
   "source": [
    "`count()` - возвращает число вхождений подстроки в строку. Если nодстрока в строку не входит, то возвращается значение 0.  Метод зависит от регистра символов. Формат метода: `<Строка>.соunt(<Подстрока>[, <Начало>[, <Конец>]])`."
   ]
  },
  {
   "cell_type": "code",
   "execution_count": 85,
   "metadata": {},
   "outputs": [
    {
     "data": {
      "text/plain": [
       "(2, 1, 1)"
      ]
     },
     "execution_count": 85,
     "metadata": {},
     "output_type": "execute_result"
    }
   ],
   "source": [
    "sf.count(\"при\"),  sf.count(\"при\",  6) , sf.count(\"При\") "
   ]
  },
  {
   "cell_type": "markdown",
   "metadata": {},
   "source": [
    "`startswith()` - nроверяет, начинается ли строка с указанной nодстроки. Если начинается, то возвращается значение `True`,  в противном случае - `False`. Метод зависит от регистра символов. Параметры метода: `<Cтpoкa>.startswith(<Пoдcтpoкa>[, <Начало>[, <Конец>]])`.\n",
    "\n",
    "Если начальная nозиция не указана, сравнение будет производиться с  началом строки. \n",
    "\n",
    "`endswith()` - проверяет, заканчивается ли строка указанной nодстрокой. Если заканчивается, то возвращается значение `True`,  в  nротивном случае - `False`.  Метод зависит от регистра символов."
   ]
  },
  {
   "cell_type": "code",
   "execution_count": 86,
   "metadata": {},
   "outputs": [
    {
     "data": {
      "text/plain": [
       "(False, False)"
      ]
     },
     "execution_count": 86,
     "metadata": {},
     "output_type": "execute_result"
    }
   ],
   "source": [
    "sf2 = \"пример  пример Пример ,Пример\" \n",
    "sf2.startswith(\"пpи\"), sf2.startswith(\"Пpи\") "
   ]
  },
  {
   "cell_type": "code",
   "execution_count": 87,
   "metadata": {},
   "outputs": [
    {
     "data": {
      "text/plain": [
       "(False, True)"
      ]
     },
     "execution_count": 87,
     "metadata": {},
     "output_type": "execute_result"
    }
   ],
   "source": [
    "sf3 = \"подстрока  ПОДСТРОКА\" \n",
    "sf3.endswith(\"ока\"), sf3.endswith(\"ОКА\") "
   ]
  },
  {
   "cell_type": "markdown",
   "metadata": {},
   "source": [
    "`replace()` - производит замену всех  вхождений подстроки  в  строке  на другую подстроку и возвращает результат в виде новой строки. Метод зависит от регистра символов. Параметры метода: `<Строка>.rерlасе(<Подстрока  для  замены>,  <Новая  подстрока>[, <Максимальное  количество  замен>])`"
   ]
  },
  {
   "cell_type": "code",
   "execution_count": 2,
   "metadata": {},
   "outputs": [
    {
     "name": "stdout",
     "output_type": "stream",
     "text": [
      "Привет, Вася\n"
     ]
    }
   ],
   "source": [
    "sf4 = \"Привет, Петя\" \n",
    "print(sf4.replace(\"Петя\", \"Вася\"))"
   ]
  },
  {
   "cell_type": "markdown",
   "metadata": {},
   "source": [
    "#### Проверка типа содержимого строки"
   ]
  },
  {
   "cell_type": "markdown",
   "metadata": {},
   "source": [
    "* `isdigit()`  - возвращает True,  если строка содержит только цифры, в  противном случае - False; \n",
    "* `isdecimal()` - возвращает True,  если  строка  содержит только  десятичные  символы, в противном случае- False. Обратите внимание на то, что к десятичным символам относятся не только десятичные цифры в кодировке ASCII,  но и надстрочные и подстрочные десятичные цифры в других языках.\n",
    "* `isnumeric()` - возвращает True, если строка содержит только числовые символы, в противном случае - False. Обратите внимание на то,  что к числовым символам относятся не только десятичные цифры в  кодировке ASCII,  но символы римских чисел, дробные числа и др. \n",
    "* `isalpha()` - возвращает True,  если строка содержит только буквы,  в  противном случае - False. Если строка пустая, то возвращается значение False.\n",
    "* `isspace()` - возвращает True, если строка содержит только пробельные символы, в противном случае - False.\n",
    "* `isalnum()` - возвращает True, если строка содержит только буквы и (или) цифры, в противном случае- False. Если строка пустая, то возвращается значение False.\n",
    "* `islower()` - возвращает True, если строка содержит буквы, и они все в нижнем регистре, в противном случае - False. Помимо букв строка может иметь другие символы, например цифры.  \n",
    "* `isupper()` - возвращает True, если строка содержит буквы, и они все в верхнем регистре, в противном случае - False.  Помимо букв строка может иметь другие символы, например цифры.  \n",
    "* `istitle()` - возвращает True, если строка содержит буквы, и первые буквы всех слов являются заглавными, в противном случае - False.  Помимо букв строка может иметь другие символы, например цифры."
   ]
  },
  {
   "cell_type": "markdown",
   "metadata": {},
   "source": [
    "# >"
   ]
  },
  {
   "cell_type": "markdown",
   "metadata": {},
   "source": [
    "----"
   ]
  },
  {
   "cell_type": "markdown",
   "metadata": {},
   "source": [
    "# Вывод на экран, функция print <a class=\"anchor\" id=\"вывод-на-экран\"></a>\n",
    "* [к оглавлению](#разделы)"
   ]
  },
  {
   "cell_type": "markdown",
   "metadata": {
    "collapsed": true
   },
   "source": [
    "Формат функции `print(*objects, sep=' ', end='\\n', file=sys.stdout, flush=False)`\n",
    "\n",
    "Передает строковые представления объектов `objects` в выходной поток (по умолчанию - стандартный выходной поток).\n",
    "* `*objects` - объект, направляемый на печать (один объект или несколько объектов, указанных через запятую)\n",
    "Необязательные параметры:\n",
    "* `file` - выходной поток, в который направляется печать (по умолчанию sys.stdout)\n",
    "* `sep` - строка, которая вставляется между строковыми представлениями нескольких объектов (по умолчанию - пробел)\n",
    "* `end` - строка, добавляемая в конце вывода (по умолчанию - `\\n`)\n",
    "* `flush` - форсировать ли сброс (flush) в потоке вывода."
   ]
  },
  {
   "cell_type": "code",
   "execution_count": 105,
   "metadata": {},
   "outputs": [
    {
     "name": "stdout",
     "output_type": "stream",
     "text": [
      "str1\n"
     ]
    }
   ],
   "source": [
    "print('str1')"
   ]
  },
  {
   "cell_type": "code",
   "execution_count": 106,
   "metadata": {},
   "outputs": [
    {
     "name": "stdout",
     "output_type": "stream",
     "text": [
      "str1 42 42.2\n"
     ]
    }
   ],
   "source": [
    "# конкатенация строкового представления нескольких объектов\n",
    "# (по умолчанию строки склеиваются с помощью пробелов):\n",
    "print('str1', 42, 42.2)  "
   ]
  },
  {
   "cell_type": "code",
   "execution_count": 107,
   "metadata": {
    "scrolled": true
   },
   "outputs": [
    {
     "name": "stdout",
     "output_type": "stream",
     "text": [
      "str1-42-42.2\n"
     ]
    }
   ],
   "source": [
    "# склейка с помощью другого символа:\n",
    "print('str1', 42, 42.2, sep='-')"
   ]
  },
  {
   "cell_type": "code",
   "execution_count": 108,
   "metadata": {},
   "outputs": [
    {
     "name": "stdout",
     "output_type": "stream",
     "text": [
      "0\n",
      "1\n",
      "2\n",
      "3\n",
      "4\n",
      "5\n",
      "6\n",
      "7\n",
      "8\n",
      "9\n"
     ]
    }
   ],
   "source": [
    "for i in range(10):\n",
    "    print(i) # по умолчанию в конце вывода добавляется \\n"
   ]
  },
  {
   "cell_type": "code",
   "execution_count": 109,
   "metadata": {},
   "outputs": [
    {
     "name": "stdout",
     "output_type": "stream",
     "text": [
      "0 1 2 3 4 5 6 7 8 9 "
     ]
    }
   ],
   "source": [
    "for i in range(10):\n",
    "    print(i, end=' ')"
   ]
  },
  {
   "cell_type": "code",
   "execution_count": 110,
   "metadata": {},
   "outputs": [
    {
     "name": "stdout",
     "output_type": "stream",
     "text": [
      "0123456789"
     ]
    }
   ],
   "source": [
    "for i in range(10):\n",
    "    print(i, end='')"
   ]
  },
  {
   "cell_type": "code",
   "execution_count": 111,
   "metadata": {},
   "outputs": [],
   "source": [
    "# использование файла в качестве потока вывода:\n",
    "with open('test.txt', mode='w') as f:\n",
    "    print('string 1', file=f)"
   ]
  },
  {
   "cell_type": "markdown",
   "metadata": {},
   "source": [
    "# >"
   ]
  },
  {
   "cell_type": "markdown",
   "metadata": {},
   "source": [
    "----"
   ]
  },
  {
   "cell_type": "markdown",
   "metadata": {},
   "source": [
    "# Современный способ форматирования текста в Python <a class=\"anchor\" id=\"современный-способ-форматирования\"></a>\n",
    "* [к оглавлению](#разделы)"
   ]
  },
  {
   "cell_type": "markdown",
   "metadata": {},
   "source": [
    "Начиная с версии 3.6 в Python появился новый способ форматирования строк - __f-строки__, которые буквально означают \"formatted string\". Этот способ форматирования  улучшает читаемость кода, а также работает быстрее, чем другие способы форматирования. \n",
    "F-строки задаются с помощью литерала `f` перед кавычками."
   ]
  },
  {
   "cell_type": "code",
   "execution_count": 109,
   "metadata": {
    "scrolled": true
   },
   "outputs": [
    {
     "name": "stdout",
     "output_type": "stream",
     "text": [
      "обычная строка\n",
      "f-строка\n"
     ]
    }
   ],
   "source": [
    "print(\"обычная строка\")\n",
    "print(f\"f-строка\")"
   ]
  },
  {
   "cell_type": "markdown",
   "metadata": {},
   "source": [
    "#### Способы форматирования строк\n",
    "\n",
    "В Python существует 5 способов форматирования строк.\n",
    "f-строки - это пятый, самый современный, способ форматирования строк в Python, который очень похож на использование метода format()."
   ]
  },
  {
   "cell_type": "markdown",
   "metadata": {},
   "source": [
    "__0. Конкатенация__\n",
    "\n",
    "Грубый способ форматирования, в котором мы просто склеиваем несколько строк с помощью операции сложения:"
   ]
  },
  {
   "cell_type": "code",
   "execution_count": 110,
   "metadata": {},
   "outputs": [
    {
     "name": "stdout",
     "output_type": "stream",
     "text": [
      "Меня зовут Петя. Мне 20 лет.\n"
     ]
    }
   ],
   "source": [
    "name = \"Петя\"\n",
    "age = 20\n",
    "print(\"Меня зовут \" + name + \". Мне \" + str(age) + \" лет.\")"
   ]
  },
  {
   "cell_type": "markdown",
   "metadata": {},
   "source": [
    "__1. %-форматирование__\n",
    " \n",
    "Широко распространненый старый способ, который перешел в Python из языка С. Передавать значения в строку можно через списки и кортежи, а также с помощью словаря. Во втором случае значения помещаются не по позиции, а в соответствии с именами."
   ]
  },
  {
   "cell_type": "code",
   "execution_count": 112,
   "metadata": {},
   "outputs": [
    {
     "name": "stdout",
     "output_type": "stream",
     "text": [
      "Меня зовут Дмитрий. Мне 25 лет.\n",
      "Меня зовут Дмитрий. Мне 25 лет.\n"
     ]
    }
   ],
   "source": [
    "name = \"Дмитрий\"\n",
    "age = 25\n",
    "print(\"Меня зовут %s. Мне %d лет.\" % (name, age))\n",
    "print(\"Меня зовут %(name)s. Мне %(age)d лет.\" % {\"name\": name, \"age\": age})"
   ]
  },
  {
   "cell_type": "markdown",
   "metadata": {},
   "source": [
    "__2. Template-строки.__\n",
    "\n",
    "Этот способ появился в Python 2.4, как замена %-форматированию, но популярным так и не стал. Поддерживает передачу значений по имени и использует $-синтаксис как в PHP."
   ]
  },
  {
   "cell_type": "code",
   "execution_count": 112,
   "metadata": {},
   "outputs": [
    {
     "name": "stdout",
     "output_type": "stream",
     "text": [
      "Меня зовут Дмитрий. Мне 25 лет.\n"
     ]
    }
   ],
   "source": [
    "from string import Template\n",
    "name = \"Дмитрий\"\n",
    "age = 25\n",
    "s = Template('Меня зовут $name. Мне $age лет.')\n",
    "print(s.substitute(name=name, age=age))"
   ]
  },
  {
   "cell_type": "markdown",
   "metadata": {},
   "source": [
    "__3. Форматирование с помощью метода format().__\n",
    "\n",
    "В Python 3 появился новый способ форматирования - метод format() у строк."
   ]
  },
  {
   "cell_type": "code",
   "execution_count": 113,
   "metadata": {},
   "outputs": [
    {
     "name": "stdout",
     "output_type": "stream",
     "text": [
      "Меня зовут Дмитрий Мне 25 лет.\n"
     ]
    }
   ],
   "source": [
    "name = \"Дмитрий\"\n",
    "age = 25\n",
    "print(\"Меня зовут {} Мне {} лет.\".format(name, age))"
   ]
  },
  {
   "cell_type": "markdown",
   "metadata": {},
   "source": [
    "__4. f-строки.__\n",
    "\n",
    "f-строки использовать значения переменных, которые есть в текущей области видимости, и подставлять их в строку. В самой строке вам лишь нужно указать имя этой переменной в фигурных скобках.\n",
    "\n",
    "Форматирование с помощью f-строк появилось в Python 3.6 . Этот способ похож на форматирование с помощью метода format(), но гибче, читабельней и быстрей."
   ]
  },
  {
   "cell_type": "code",
   "execution_count": 113,
   "metadata": {},
   "outputs": [
    {
     "name": "stdout",
     "output_type": "stream",
     "text": [
      "Меня зовут Дмитрий Мне 25 лет.\n"
     ]
    }
   ],
   "source": [
    "name = \"Дмитрий\"\n",
    "age = 25\n",
    "print(f\"Меня зовут {name} Мне {age} лет.\")"
   ]
  },
  {
   "cell_type": "markdown",
   "metadata": {},
   "source": [
    "f-строки также поддерживают расширенное форматирование чисел:"
   ]
  },
  {
   "cell_type": "code",
   "execution_count": 115,
   "metadata": {},
   "outputs": [
    {
     "name": "stdout",
     "output_type": "stream",
     "text": [
      "Значение числа pi: 3.14\n"
     ]
    }
   ],
   "source": [
    "from math import pi\n",
    "print(f\"Значение числа pi: {pi:.2f}\")"
   ]
  },
  {
   "cell_type": "markdown",
   "metadata": {},
   "source": [
    "С помощью f-строк можно форматировать дату без вызова метода strftime():"
   ]
  },
  {
   "cell_type": "code",
   "execution_count": 114,
   "metadata": {},
   "outputs": [
    {
     "name": "stdout",
     "output_type": "stream",
     "text": [
      "Текущее время 27.07.2021 15:21\n"
     ]
    }
   ],
   "source": [
    "from datetime import datetime as dt\n",
    "now = dt.now()\n",
    "print(f\"Текущее время {now:%d.%m.%Y %H:%M}\")"
   ]
  },
  {
   "cell_type": "markdown",
   "metadata": {},
   "source": [
    "Они поддерживают базовые арифметические операции прямо в строках:"
   ]
  },
  {
   "cell_type": "code",
   "execution_count": 115,
   "metadata": {},
   "outputs": [
    {
     "name": "stdout",
     "output_type": "stream",
     "text": [
      "10 x 5 / 2 = 25.0\n"
     ]
    }
   ],
   "source": [
    "x = 10\n",
    "y = 5\n",
    "print(f\"{x} x {y} / 2 = {x * y / 2}\")"
   ]
  },
  {
   "cell_type": "markdown",
   "metadata": {},
   "source": [
    "f-строки позволяют обращаться к значениям списков по индексу:"
   ]
  },
  {
   "cell_type": "code",
   "execution_count": 116,
   "metadata": {},
   "outputs": [
    {
     "name": "stdout",
     "output_type": "stream",
     "text": [
      "Мы живем на планете Земля\n"
     ]
    }
   ],
   "source": [
    "planets = [\"Меркурий\", \"Венера\", \"Земля\", \"Марс\"]\n",
    "print(f\"Мы живем на планете {planets[2]}\")"
   ]
  },
  {
   "cell_type": "markdown",
   "metadata": {},
   "source": [
    "А также к элементам словаря по ключу:"
   ]
  },
  {
   "cell_type": "code",
   "execution_count": 117,
   "metadata": {},
   "outputs": [
    {
     "name": "stdout",
     "output_type": "stream",
     "text": [
      "Планета Земля. Радиус 6378.0 км.\n"
     ]
    }
   ],
   "source": [
    "planet = {\"name\": \"Земля\", \"radius\": 6378000}\n",
    "print(f\"Планета {planet['name']}. Радиус {planet['radius']/1000} км.\")"
   ]
  },
  {
   "cell_type": "markdown",
   "metadata": {},
   "source": [
    "Можно использовать как строковые, так и числовые ключи. Точно также, как в обычном Python коде:"
   ]
  },
  {
   "cell_type": "code",
   "execution_count": 120,
   "metadata": {},
   "outputs": [
    {
     "name": "stdout",
     "output_type": "stream",
     "text": [
      "0 - ноль, 1 - один\n"
     ]
    }
   ],
   "source": [
    "digits = {0: 'ноль', 'one': 'один'}\n",
    "print(f\"0 - {digits[0]}, 1 - {digits['one']}\")"
   ]
  },
  {
   "cell_type": "markdown",
   "metadata": {},
   "source": [
    "В f-строках можно вызывать методы объектов:"
   ]
  },
  {
   "cell_type": "code",
   "execution_count": 118,
   "metadata": {},
   "outputs": [
    {
     "name": "stdout",
     "output_type": "stream",
     "text": [
      "Имя: ДМИТРИЙ\n"
     ]
    }
   ],
   "source": [
    "name = \"Дмитрий\"\n",
    "print(f\"Имя: {name.upper()}\")"
   ]
  },
  {
   "cell_type": "markdown",
   "metadata": {},
   "source": [
    "А также вызывать функции:"
   ]
  },
  {
   "cell_type": "code",
   "execution_count": 119,
   "metadata": {},
   "outputs": [
    {
     "name": "stdout",
     "output_type": "stream",
     "text": [
      "13 / 3 = 4\n"
     ]
    }
   ],
   "source": [
    "print(f\"13 / 3 = {round(13/3)}\")"
   ]
  },
  {
   "cell_type": "markdown",
   "metadata": {},
   "source": [
    "Кроме удобства и большой гибкости f-строки являются и одним из самых производительных (быстрых) способов форматирования строк на Python."
   ]
  },
  {
   "cell_type": "markdown",
   "metadata": {},
   "source": [
    "# >"
   ]
  },
  {
   "cell_type": "markdown",
   "metadata": {},
   "source": [
    "---"
   ]
  },
  {
   "cell_type": "markdown",
   "metadata": {},
   "source": [
    "#  Расширенное форматирование <a class=\"anchor\" id=\"разделы\"></a>\n",
    "* [к оглавлению](#разделы)\n",
    "\n",
    "Пример. Сформировать строку форматирования, которая приводит к формированию следующей таблицы:\n",
    "\n",
    "```\n",
    "0123456789012345678901234567890123456789\n",
    "|   1 | xxx59.06|      453 | 00000001 |\n",
    "|   5 | xx159.00|  123,453 | 00000111 |\n",
    "|  15 | x-159.10| -     12 | 00010000 |\n",
    "| 105 | -1059.10|    1,200 | 11111111 |\n",
    "```"
   ]
  },
  {
   "cell_type": "code",
   "execution_count": 123,
   "metadata": {},
   "outputs": [
    {
     "name": "stdout",
     "output_type": "stream",
     "text": [
      "0123456789012345678901234567890123456789\n",
      "|  1|xxx59.06|     453|00000001|\n",
      "|  5|xx159.00| 123.453|00000111|\n",
      "| 15|x-159.10|-     12|00010000|\n",
      "|105|-1059.10|    1200|01111111|\n"
     ]
    }
   ],
   "source": [
    "print('0123456789'*4)\n",
    "\n",
    "def f(a,b,c,d):\n",
    "    s2 = f'|{a: >3}|{b:x>8.2f}|{c:=8}|{d:0>8}|' # .format(a,b,c,d) \n",
    "#     s2='|{: >3}|{:#>8.2f}|{:=8}|{:0>8}|'.format(a,b,c,d) \n",
    "    return s2\n",
    "\n",
    "print(f(1, 59.06, 453, 1))\n",
    "print(f(5, 159.00, 123.453, 111))\n",
    "print(f(15, -159.10, -12,10000))\n",
    "print(f(105, -1059.10, 1200, 1111111))"
   ]
  },
  {
   "cell_type": "markdown",
   "metadata": {},
   "source": [
    "Подробная информация по возможностям расширенного форматирования:\n",
    "\n",
    "http://www.python-course.eu/python3_formatted_output.php\n",
    "\n",
    "Возможности расширенного форматирования в f-строках и у функции format() совпадают. Синтаксис функции format(): `<Строка  сnециального фopмaтa>.format(*args,  **kwargs)`"
   ]
  },
  {
   "cell_type": "markdown",
   "metadata": {},
   "source": [
    "В параметре `<Формат>` указывается значение, имеющее следующий синтаксис: \n",
    "\n",
    "`[ [<Заполнитель>] <Выравнивание>] [<Знак>] [ #] [0] [<Ширина>] [,] \n",
    "[.<Точность>] [ <Преобразование>]`"
   ]
  },
  {
   "cell_type": "code",
   "execution_count": 136,
   "metadata": {},
   "outputs": [
    {
     "data": {
      "text/plain": [
       "'         3'"
      ]
     },
     "execution_count": 136,
     "metadata": {},
     "output_type": "execute_result"
    }
   ],
   "source": [
    "i = 3\n",
    "f\"{i:10}\" #  10 - это ширина  поля "
   ]
  },
  {
   "cell_type": "markdown",
   "metadata": {},
   "source": [
    "По умолчанию значение внутри поля выравнивается по правому краю. Управлять выравниванием nозволяет параметр <Выравнивание>. Можно указать следующие значения: \n",
    "* < - по левому краю;\n",
    "* \\> - по nравому краю; \n",
    "* ^ - по центру nоля;\n",
    "* = - знак числа выравнивается по левому краю, а число по nравому краю."
   ]
  },
  {
   "cell_type": "code",
   "execution_count": 137,
   "metadata": {},
   "outputs": [
    {
     "data": {
      "text/plain": [
       "\"'3         ' '         3' '    3     ' '-        3'\""
      ]
     },
     "execution_count": 137,
     "metadata": {},
     "output_type": "execute_result"
    }
   ],
   "source": [
    "\"'{0:<10}' '{1:>10}' '{2:^10}' '{3:=10}'\".format(3,  3,  3, -3) "
   ]
  },
  {
   "cell_type": "markdown",
   "metadata": {},
   "source": [
    "Пространство между знаком и числом по умолчанию заполняется nробелами, а знак положительного числа не указывается. Чтобы вместо nробелов пространство заполнялось нулями, необходимо указать нуль nеред шириной nоля. Такого же эффекта можно достичь, указав нуль в параметре <Заполнитель>. В этом параметре допускаются и другие символы, которые будут выводиться вместо пробелов: "
   ]
  },
  {
   "cell_type": "code",
   "execution_count": 69,
   "metadata": {},
   "outputs": [
    {
     "data": {
      "text/plain": [
       "\"'-000000003'  '0000000003'\""
      ]
     },
     "execution_count": 69,
     "metadata": {},
     "output_type": "execute_result"
    }
   ],
   "source": [
    "\"'{0:=010}'  '{1:=010}'\".format(-3,  3) "
   ]
  },
  {
   "cell_type": "code",
   "execution_count": 138,
   "metadata": {},
   "outputs": [
    {
     "data": {
      "text/plain": [
       "\"'-000000003'  '_________3'\""
      ]
     },
     "execution_count": 138,
     "metadata": {},
     "output_type": "execute_result"
    }
   ],
   "source": [
    "\"'{0:0=10}'  '{1:_=10}'\".format(-3,  3) "
   ]
  },
  {
   "cell_type": "code",
   "execution_count": 139,
   "metadata": {},
   "outputs": [
    {
     "data": {
      "text/plain": [
       "\"'3*********' '+++++++++3' '....3.....'\""
      ]
     },
     "execution_count": 139,
     "metadata": {},
     "output_type": "execute_result"
    }
   ],
   "source": [
    "\"'{0:*<10}' '{1:+>10}' '{2:.^10}'\".format(3, 3, 3)"
   ]
  },
  {
   "cell_type": "markdown",
   "metadata": {},
   "source": [
    "Управлять выводом знака числа позволяет параметр <Знак>. Допустимые значения: \n",
    "* \\+ - задает обязательный вывод знака как для отрицательных, так и для положительных чисел; \n",
    "* \\- -вывод знака только для отрицательных чисел (значение по умолчанию); \n",
    "* пробел - вставляет пробел перед положительным числом. Перед отрицательным числом будет стоять минус. "
   ]
  },
  {
   "cell_type": "code",
   "execution_count": 73,
   "metadata": {},
   "outputs": [
    {
     "data": {
      "text/plain": [
       "\"'+3' '-3' '3' '-3'\""
      ]
     },
     "execution_count": 73,
     "metadata": {},
     "output_type": "execute_result"
    }
   ],
   "source": [
    "\"'{0:+}' '{1:+}' '{0:-}' '{1:-}'\".format(3,  -3) "
   ]
  },
  {
   "cell_type": "code",
   "execution_count": 76,
   "metadata": {},
   "outputs": [
    {
     "data": {
      "text/plain": [
       "\"' 3' '-3'\""
      ]
     },
     "execution_count": 76,
     "metadata": {},
     "output_type": "execute_result"
    }
   ],
   "source": [
    "\"'{0: }' '{1: }'\".format(3,  -3) "
   ]
  },
  {
   "cell_type": "markdown",
   "metadata": {},
   "source": [
    "Для целых чисел в параметре <Преобразование> могут быть указаны следующие опции:\n",
    "* b - двоичное значение: \n",
    "* с - преобразует целое число в соответствующий символ;\n",
    "* d - десятичное значение; \n",
    "* n - аналогично опции d,  но учитывает настройки локали. Например, выведем большое \n",
    "число с разделением тысячных разрядов пробелом;\n",
    "* о - восьмеричное значение;\n",
    "* x - шестнадцатеричное значение в нижнем регистре;\n",
    "* X - шестнадцатеричное значение в верхнем регистре."
   ]
  },
  {
   "cell_type": "code",
   "execution_count": 140,
   "metadata": {},
   "outputs": [
    {
     "data": {
      "text/plain": [
       "\"'11' '0b11'\""
      ]
     },
     "execution_count": 140,
     "metadata": {},
     "output_type": "execute_result"
    }
   ],
   "source": [
    "\"'{0:b}' '{0:#b}'\".format(3) "
   ]
  },
  {
   "cell_type": "code",
   "execution_count": 141,
   "metadata": {},
   "outputs": [
    {
     "data": {
      "text/plain": [
       "\"'\\n'\""
      ]
     },
     "execution_count": 141,
     "metadata": {},
     "output_type": "execute_result"
    }
   ],
   "source": [
    "\"'{0:c}'\".format(10) "
   ]
  },
  {
   "cell_type": "code",
   "execution_count": 142,
   "metadata": {},
   "outputs": [
    {
     "data": {
      "text/plain": [
       "\"'100'\""
      ]
     },
     "execution_count": 142,
     "metadata": {},
     "output_type": "execute_result"
    }
   ],
   "source": [
    "\"'{0:d}'\".format(100) "
   ]
  },
  {
   "cell_type": "code",
   "execution_count": 145,
   "metadata": {},
   "outputs": [
    {
     "data": {
      "text/plain": [
       "'Russian_Russia.1251'"
      ]
     },
     "execution_count": 145,
     "metadata": {},
     "output_type": "execute_result"
    }
   ],
   "source": [
    "import locale\n",
    "locale.setlocale(locale.LC_NUMERIC, 'Russian_Russia.1251')"
   ]
  },
  {
   "cell_type": "code",
   "execution_count": 147,
   "metadata": {},
   "outputs": [
    {
     "name": "stdout",
     "output_type": "stream",
     "text": [
      "100 000 000\n"
     ]
    }
   ],
   "source": [
    "print(\"{0:n}\".format(100000000))"
   ]
  },
  {
   "cell_type": "code",
   "execution_count": 146,
   "metadata": {},
   "outputs": [
    {
     "name": "stdout",
     "output_type": "stream",
     "text": [
      "100,000,000\n"
     ]
    }
   ],
   "source": [
    "print(\"{0:,d}\".format(100000000))"
   ]
  },
  {
   "cell_type": "code",
   "execution_count": 95,
   "metadata": {},
   "outputs": [
    {
     "data": {
      "text/plain": [
       "\"'310' 'c8' 'C8'\""
      ]
     },
     "execution_count": 95,
     "metadata": {},
     "output_type": "execute_result"
    }
   ],
   "source": [
    "\"'{0:o}' '{0:x}' '{0:X}'\".format(200) "
   ]
  },
  {
   "cell_type": "markdown",
   "metadata": {},
   "source": [
    "Для  вещественных  чисел  в  параметре  <Преобразование>  могут быть указаны  следующие опции: \n",
    "* f  и F - вещественное число в десятичном nредставлении. Задать количество знаков nосле запятой nозволяет параметр <Точность>;\n",
    "* е - вещественное число в экспоненциальной форме (буква \"е\" в нижнем регистре);\n",
    "* Е - вещественное число в экспоненциальной форме (буква \"е\" в верхнем регистре);\n",
    "* n - аналогично опции g,  но учитывает настройки локали;\n",
    "* % - умножает число на 100  и добавляет символ процента в конец. Значение отображается в соответствии с опцией f."
   ]
  },
  {
   "cell_type": "code",
   "execution_count": 106,
   "metadata": {},
   "outputs": [
    {
     "data": {
      "text/plain": [
       "\"'30.000000' '18.657815' '-2.500000'\""
      ]
     },
     "execution_count": 106,
     "metadata": {},
     "output_type": "execute_result"
    }
   ],
   "source": [
    "\"'{0:f}' '{1:f}' '{2:f}'\".format(30, 18.6578145, -2.5)"
   ]
  },
  {
   "cell_type": "code",
   "execution_count": 107,
   "metadata": {},
   "outputs": [
    {
     "data": {
      "text/plain": [
       "\"'18.6578145' '-2.50'\""
      ]
     },
     "execution_count": 107,
     "metadata": {},
     "output_type": "execute_result"
    }
   ],
   "source": [
    "\"'{0:.7f}' '{1:.2f}'\".format(18.6578145, -2.5)"
   ]
  },
  {
   "cell_type": "code",
   "execution_count": 104,
   "metadata": {},
   "outputs": [
    {
     "data": {
      "text/plain": [
       "\"'3.000000e+03' '1.865781e+04'\""
      ]
     },
     "execution_count": 104,
     "metadata": {},
     "output_type": "execute_result"
    }
   ],
   "source": [
    "\"'{0:e}' '{1:e}'\".format(3000, 18657.81452) "
   ]
  },
  {
   "cell_type": "code",
   "execution_count": 105,
   "metadata": {},
   "outputs": [
    {
     "data": {
      "text/plain": [
       "\"'3.000000E+03' '1.865781E+04'\""
      ]
     },
     "execution_count": 105,
     "metadata": {},
     "output_type": "execute_result"
    }
   ],
   "source": [
    "\"'{0:E}' '{1:E}'\".format(3000, 18657.81452) "
   ]
  },
  {
   "cell_type": "code",
   "execution_count": 148,
   "metadata": {},
   "outputs": [
    {
     "data": {
      "text/plain": [
       "\"'8.657800%' '0.0087%'\""
      ]
     },
     "execution_count": 148,
     "metadata": {},
     "output_type": "execute_result"
    }
   ],
   "source": [
    "\"'{0:%}' '{1:.4%}'\".format(0.086578, 0.000086578)"
   ]
  },
  {
   "cell_type": "code",
   "execution_count": null,
   "metadata": {},
   "outputs": [],
   "source": []
  }
 ],
 "metadata": {
  "anaconda-cloud": {},
  "kernelspec": {
   "display_name": "Python 3",
   "language": "python",
   "name": "python3"
  },
  "language_info": {
   "codemirror_mode": {
    "name": "ipython",
    "version": 3
   },
   "file_extension": ".py",
   "mimetype": "text/x-python",
   "name": "python",
   "nbconvert_exporter": "python",
   "pygments_lexer": "ipython3",
   "version": "3.7.6"
  }
 },
 "nbformat": 4,
 "nbformat_minor": 1
}
