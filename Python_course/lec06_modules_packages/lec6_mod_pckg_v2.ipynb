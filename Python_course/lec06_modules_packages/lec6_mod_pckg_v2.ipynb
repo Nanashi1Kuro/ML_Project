{
 "cells": [
  {
   "cell_type": "markdown",
   "metadata": {},
   "source": [
    "# Лекция 6 Модули и пакеты\n",
    "\n",
    "### Финансовый университет при Правительстве РФ, лектор С.В. Макрушин\n",
    "\n",
    "v 0.3 19.08.2021"
   ]
  },
  {
   "cell_type": "markdown",
   "metadata": {},
   "source": [
    "## Разделы: <a class=\"anchor\" id=\"разделы\"></a>\n",
    "\n",
    "\n",
    "* [Модули](#модули)\n",
    "* [Пакеты](#пакеты)\n",
    "* [Запуск программы](#запуск)\n",
    "* [Установка модулей из глобального репозитория](#репозиторий)\n",
    "* [Встроенные функции ](#встроенные)\n",
    "\n",
    "<a class=\"anchor\" id=\"разделы\"></a>\n",
    "-\n",
    "* [к оглавлению](#разделы)"
   ]
  },
  {
   "cell_type": "code",
   "execution_count": 4,
   "metadata": {},
   "outputs": [
    {
     "data": {
      "text/html": [
       "﻿<style>\r\n",
       "\r\n",
       "\r\n",
       "b.n {\r\n",
       "    font-weight: normal;        \r\n",
       "}\r\n",
       "\r\n",
       "b.grbg {\r\n",
       "    background-color: #a0a0a0;      \r\n",
       "}\r\n",
       "\r\n",
       "b.r {\r\n",
       "    color: #ff0000;    \r\n",
       "}\r\n",
       "\r\n",
       "\r\n",
       "b.b {    \r\n",
       "    color: #0000ff;    \r\n",
       "}\r\n",
       "\r\n",
       "b.g {\r\n",
       "    color: #00ff00;    \r\n",
       "}\r\n",
       "\r\n",
       "\r\n",
       "// add your CSS styling here\r\n",
       "\r\n",
       "list-style: none;\r\n",
       "\r\n",
       "ul.s {\r\n",
       "//    list-style-type: none;\r\n",
       "    list-style: none;\r\n",
       "//    background-color: #ff0000;  \r\n",
       "//    color: #ffff00;\r\n",
       "//  padding-left: 1.2em;\r\n",
       "//  text-indent: -1.2em;\r\n",
       "}\r\n",
       "\r\n",
       "li.t {\r\n",
       "    list-style: none;\r\n",
       "//  padding-left: 1.2em;\r\n",
       "//  text-indent: -1.2em;    \r\n",
       "}\r\n",
       "\r\n",
       "\r\n",
       "*.r {\r\n",
       "    color: #ff0000;    \r\n",
       "}\r\n",
       "\r\n",
       "li.t:before {\r\n",
       "    content: \"\\21D2\";    \r\n",
       "//    content: \"►\";\r\n",
       "//    padding-left: -1.2em;    \r\n",
       "    text-indent: -1.2em;    \r\n",
       "    display: block;\r\n",
       "    float: left;\r\n",
       "    \r\n",
       "    \r\n",
       "//    width: 1.2em;\r\n",
       "//    color: #ff0000;\r\n",
       "}\r\n",
       "\r\n",
       "i.m:before {\r\n",
       "    font-style: normal;    \r\n",
       "    content: \"\\21D2\";  \r\n",
       "}\r\n",
       "i.m {\r\n",
       "    font-style: normal; \r\n",
       "}    \r\n",
       "\r\n",
       "/*--------------------*/\r\n",
       "/* em {\r\n",
       "    font-style: normal; \r\n",
       "} */\r\n",
       "\r\n",
       "\r\n",
       "em.bl {\r\n",
       "    font-style: normal;     \r\n",
       "    font-weight: bold;        \r\n",
       "}\r\n",
       "\r\n",
       "/* em.grbg {\r\n",
       "    font-style: normal;         \r\n",
       "    background-color: #a0a0a0;      \r\n",
       "} */\r\n",
       "\r\n",
       "em.cr {\r\n",
       "    font-style: normal;         \r\n",
       "    color: #ff0000;    \r\n",
       "}\r\n",
       "\r\n",
       "em.cb {    \r\n",
       "    font-style: normal;         \r\n",
       "    color: #0000ff;    \r\n",
       "}\r\n",
       "\r\n",
       "em.cg {\r\n",
       "    font-style: normal;         \r\n",
       "    color: #00ff00;    \r\n",
       "}\r\n",
       "\r\n",
       "/*--------------------*/\r\n",
       "\r\n",
       "em.qs {\r\n",
       "    font-style: normal; \r\n",
       "}\r\n",
       "\r\n",
       "em.qs::before {\r\n",
       "    font-weight: bold;    \r\n",
       "    color: #ff0000;    \r\n",
       "    content: \"Q:\";  \r\n",
       "}\r\n",
       "\r\n",
       "em.an {\r\n",
       "    font-style: normal; \r\n",
       "}\r\n",
       "\r\n",
       "em.an:before {\r\n",
       "    font-weight: bold;    \r\n",
       "    color: #0000ff;    \r\n",
       "    content: \"A:\";  \r\n",
       "}\r\n",
       "    \r\n",
       "em.nt {\r\n",
       "    font-style: normal; \r\n",
       "}\r\n",
       "\r\n",
       "em.nt:before {\r\n",
       "    font-weight: bold;    \r\n",
       "    color: #0000ff;    \r\n",
       "    content: \"Note:\";  \r\n",
       "}    \r\n",
       "    \r\n",
       "em.ex {\r\n",
       "    font-style: normal; \r\n",
       "}\r\n",
       "\r\n",
       "em.ex:before {\r\n",
       "    font-weight: bold;    \r\n",
       "    color: #00ff00;    \r\n",
       "    content: \"Ex:\";  \r\n",
       "} \r\n",
       "    \r\n",
       "em.df {\r\n",
       "    font-style: normal; \r\n",
       "}\r\n",
       "\r\n",
       "em.df:before {\r\n",
       "    font-weight: bold;    \r\n",
       "    color: #0000ff;    \r\n",
       "    content: \"Def:\";  \r\n",
       "}    \r\n",
       "\r\n",
       "em.pl {\r\n",
       "    font-style: normal; \r\n",
       "}\r\n",
       "\r\n",
       "em.pl:before {\r\n",
       "    font-weight: bold;    \r\n",
       "    color: #0000ff;    \r\n",
       "    content: \"+\";  \r\n",
       "}    \r\n",
       "\r\n",
       "em.mn {\r\n",
       "    font-style: normal; \r\n",
       "}\r\n",
       "\r\n",
       "em.mn:before {\r\n",
       "    font-weight: bold;    \r\n",
       "    color: #0000ff;    \r\n",
       "    content: \"-\";  \r\n",
       "}        \r\n",
       "\r\n",
       "em.plmn {\r\n",
       "    font-style: normal; \r\n",
       "}\r\n",
       "\r\n",
       "em.plmn:before {\r\n",
       "    font-weight: bold;    \r\n",
       "    color: #0000ff;    \r\n",
       "    content: \"\\00B1\";\\\\\"&plusmn;\";  \r\n",
       "}\r\n",
       "    \r\n",
       "em.hn {\r\n",
       "    font-style: normal; \r\n",
       "}\r\n",
       "\r\n",
       "em.hn:before {\r\n",
       "    font-weight: bold;    \r\n",
       "    color: #0000ff;    \r\n",
       "    content: \"\\21D2\";\\\\\"&rArr;\";  \r\n",
       "}     \r\n",
       "    \r\n",
       "</style>"
      ],
      "text/plain": [
       "<IPython.core.display.HTML object>"
      ]
     },
     "execution_count": 4,
     "metadata": {},
     "output_type": "execute_result"
    }
   ],
   "source": [
    "# загружаем стиль для оформления презентации\n",
    "from IPython.display import HTML\n",
    "from urllib.request import urlopen\n",
    "html = urlopen(\"file:./lec_v1.css\")\n",
    "HTML(html.read().decode('utf-8'))"
   ]
  },
  {
   "cell_type": "markdown",
   "metadata": {},
   "source": [
    "### Модули<a class=\"anchor\" id=\"модули\"></a>\n",
    "-\n",
    "* [к оглавлению](#разделы)"
   ]
  },
  {
   "cell_type": "markdown",
   "metadata": {},
   "source": [
    "Модуль в языке Python - это обычный файл с расширением __.ру__. Модуль может содержать любой программный код на языке Python. \n",
    " \n",
    "Программа, которая находится в отдельном файле .ру можно считать не только программой, но и модулем. Основное различие:\n",
    "* программа предназначена для того, чтобы ее непосредственно запускали\n",
    "* модуль предназначен для того, чтобы его импортировали и использовали в других программах\n",
    "\n",
    "Не все модули располагаются в файлах с расширением .ру, например, модуль sys встроен в Python, а некоторые модули написаны на других языках программирования (чаще всего на языке С). Однако большая часть библиотеки языка Python написана именно на языке Python."
   ]
  },
  {
   "cell_type": "markdown",
   "metadata": {},
   "source": [
    "Импортирование может выполняться несколькими синтаксическими конструкциями, например: \n",
    "\n",
    "`\n",
    "import importable \n",
    "import importablel, importable2, importableN \n",
    "import importable as preferred_name`"
   ]
  },
  {
   "cell_type": "code",
   "execution_count": 5,
   "metadata": {},
   "outputs": [],
   "source": [
    "# пример:\n",
    "import math"
   ]
  },
  {
   "cell_type": "code",
   "execution_count": 6,
   "metadata": {},
   "outputs": [],
   "source": [
    "# одновременный импорт нескольких модулей:\n",
    "import math, collections"
   ]
  },
  {
   "cell_type": "code",
   "execution_count": 7,
   "metadata": {},
   "outputs": [],
   "source": [
    "# для импортируемого модуля задается произвольное имя:\n",
    "import numpy as np"
   ]
  },
  {
   "cell_type": "code",
   "execution_count": 8,
   "metadata": {},
   "outputs": [
    {
     "data": {
      "text/plain": [
       "1.0"
      ]
     },
     "execution_count": 8,
     "metadata": {},
     "output_type": "execute_result"
    }
   ],
   "source": [
    "# использование импортированных модулей:\n",
    "math.cos(0.0)"
   ]
  },
  {
   "cell_type": "code",
   "execution_count": 9,
   "metadata": {},
   "outputs": [
    {
     "data": {
      "text/plain": [
       "__main__.Person"
      ]
     },
     "execution_count": 9,
     "metadata": {},
     "output_type": "execute_result"
    }
   ],
   "source": [
    "nt = collections.namedtuple('Person', ['name', 'age'])\n",
    "nt"
   ]
  },
  {
   "cell_type": "code",
   "execution_count": 10,
   "metadata": {},
   "outputs": [
    {
     "data": {
      "text/plain": [
       "array([0, 1, 2, 3, 4, 5, 6, 7, 8, 9])"
      ]
     },
     "execution_count": 10,
     "metadata": {},
     "output_type": "execute_result"
    }
   ],
   "source": [
    "np.arange(10)"
   ]
  },
  {
   "cell_type": "markdown",
   "metadata": {},
   "source": [
    "Теоретически последний способ может привести к конфликтам имен, но на практике синтаксис `as` обычно используется, чтобы \n",
    "как раз избежать их. Подобное переименование, в частности, удобно использовать при экспериментировании с различными реализациями одного и того же модуля. \n",
    "\n",
    "Например, допустим, что у нас имеется два модуля MyModuleA и MyModuleB, которые имеют один и тот же API (Application Programming Interface - прикладной программный интерфейс). Мы могли бы в программе записать инструкцию import MyModuleA as MyModule, а позднее легко переключиться на использование import MyModuleB as MyModule. "
   ]
  },
  {
   "cell_type": "markdown",
   "metadata": {},
   "source": [
    "__Расположение и порядок выполнения__|\n",
    "\n",
    "Обычно все инструкции `import` помещаются в начало файла `.ру` после описания модуля. Рекомендуется сначала импортировать модули стандартной библиотеки, затем модули сторонних разработчиков и в последнюю очередь свои собственные модули. "
   ]
  },
  {
   "cell_type": "markdown",
   "metadata": {},
   "source": [
    "Альтернативный вариант использования инструкции import: \n",
    "\n",
    "`from importable import object as preferred_name \n",
    "from importable import objecth object2 objectN \n",
    "from importable import (objectl, object2, object3, object4, objects, \n",
    "object6 objectN) \n",
    "from importable import * `\n",
    "\n",
    "Эти синтаксические конструкции могут приводить к конфликтам имен, поскольку они обеспечивают непосредственный доступ к  импортируемым объектам (переменным, функциям, типам данных или  модулям). Если для импортирования большого числа объектов  необходимо использовать синтаксис from ... import, мы можем расположить инструкцию импорта в нескольких строках, либо экранируя каждый символ перевода строки, кроме последнего, либо заключая список имен объектов в круглые скобки, как показано в третьем примере. \n"
   ]
  },
  {
   "cell_type": "code",
   "execution_count": 11,
   "metadata": {},
   "outputs": [],
   "source": [
    "from math import sin"
   ]
  },
  {
   "cell_type": "code",
   "execution_count": 12,
   "metadata": {},
   "outputs": [
    {
     "data": {
      "text/plain": [
       "0.0"
      ]
     },
     "execution_count": 12,
     "metadata": {},
     "output_type": "execute_result"
    }
   ],
   "source": [
    "# использование импортированного объекта без указания имени модуля:\n",
    "sin(0.0)"
   ]
  },
  {
   "cell_type": "code",
   "execution_count": 13,
   "metadata": {},
   "outputs": [],
   "source": [
    "from math import (sin, cos, tan)"
   ]
  },
  {
   "cell_type": "code",
   "execution_count": 14,
   "metadata": {},
   "outputs": [
    {
     "data": {
      "text/plain": [
       "0.0"
      ]
     },
     "execution_count": 14,
     "metadata": {},
     "output_type": "execute_result"
    }
   ],
   "source": [
    "tan(0.0)"
   ]
  },
  {
   "cell_type": "markdown",
   "metadata": {},
   "source": [
    "В синтаксической конструкции:\n",
    "\n",
    "`from importable import * `\n",
    "\n",
    "символ «*» означает «импортировать все имена, которые не являются частными». \n",
    "\n",
    "На практике это означает, что будут импортированы все объекты из модуля за исключением тех, чьи имена начинаются с символа подчеркивания, либо, если в модуле определена глобальная переменная `__all__` со списком имен, будут импортированы все  \n",
    "объекты, имена которых перечислены в переменной `__all__`.\n",
    "\n",
    "Синтаксис `import *` потенциально опасен появлением конфликтов имен."
   ]
  },
  {
   "cell_type": "code",
   "execution_count": 16,
   "metadata": {},
   "outputs": [],
   "source": [
    "filename = 'C:\\Python\\Ipynb\\2016\\lec_6'"
   ]
  },
  {
   "cell_type": "code",
   "execution_count": 17,
   "metadata": {},
   "outputs": [
    {
     "name": "stdout",
     "output_type": "stream",
     "text": [
      "lec_6\n"
     ]
    }
   ],
   "source": [
    "import os \n",
    "\n",
    "print(os.path.basename(filename)) # безопасный доступ по полным квалифицированным именам "
   ]
  },
  {
   "cell_type": "code",
   "execution_count": 18,
   "metadata": {},
   "outputs": [
    {
     "name": "stdout",
     "output_type": "stream",
     "text": [
      "lec_6\n"
     ]
    }
   ],
   "source": [
    "import os.path as p \n",
    "\n",
    "print(p.basename(filename)) "
   ]
  },
  {
   "cell_type": "code",
   "execution_count": 19,
   "metadata": {},
   "outputs": [
    {
     "name": "stdout",
     "output_type": "stream",
     "text": [
      "lec_6\n"
     ]
    }
   ],
   "source": [
    "from os import path \n",
    "\n",
    "print(path.basename(filename))"
   ]
  },
  {
   "cell_type": "code",
   "execution_count": 20,
   "metadata": {},
   "outputs": [
    {
     "name": "stdout",
     "output_type": "stream",
     "text": [
      "lec_6\n"
     ]
    }
   ],
   "source": [
    "from os.path import basename \n",
    "\n",
    "print(basename(filename)) "
   ]
  },
  {
   "cell_type": "code",
   "execution_count": 21,
   "metadata": {},
   "outputs": [
    {
     "name": "stdout",
     "output_type": "stream",
     "text": [
      "lec_6\n"
     ]
    }
   ],
   "source": [
    "from os.path import * \n",
    "\n",
    "print(basename(filename)) # есть риск множественных конфликтов имен "
   ]
  },
  {
   "cell_type": "markdown",
   "metadata": {},
   "source": [
    "__Порядок поиска файлов содержащих модули__\n",
    "\n",
    "Порядок следующий:\n",
    "1. каталог, где находится сама программа, даже если она вызывается из другого каталога;\n",
    "2. пути к каталогам из переменной окружения PYTHONPATH, если она определена;\n",
    "3.  пути к каталогам стандартной библиотеки языка Python - они определяются на этапе установки Python. "
   ]
  },
  {
   "cell_type": "markdown",
   "metadata": {},
   "source": [
    "Программа __может импортировать некоторые модули, которые в свою очередь импортируют другие модули__, включая те, что уже были импортированы. Это не является проблемой. Всякий раз, когда выполняется попытка импортировать модуль, интерпретатор Python сначала проверяет - не был ли импортирован требуемый модуль ранее. \n",
    "\n",
    "Если модуль еще не был импортирован, Python __выполняет скомпилированный байт-код модуля__, создавая тем самым переменные, функции и другие объекты модуля, после чего добавляет во внутреннюю  структуру запись о том, что модуль был импортирован. \n",
    "\n",
    "Когда интерпретатору требуется скомпилированный __байт-код модуля, он генерирует его автоматически__ - этим Python отличается от таких языков программирования, например Java, где компилирование в байт-код должно выполняться явно.\n",
    "\n",
    "1. Сначала интерпретатор попытается  отыскать файл, имя которого совпадает с именем файла, имеющего  расширение .ру, но имеющий расширение .руо - это оптимизированный байт-код скомпилированной версии модуля.\n",
    "2. Если файл с  расширением .руо не будет найден (или он более старый, чем файл с расширением .ру), интерпретатор попытается отыскать одноименный файл с расширением .рус - это неоптимизированный байт-код скомпилированной версии модуля. Если интерпретатор обнаружит актуальную скомпилированную версию модуля, он загрузит ее, в противном случае  Python загрузит файл с расширением .ру и скомпилирует его в байт-код. \n",
    "3. В любом случае интерпретатор загрузит в память модуль в виде  скомпилированного байт-кода. \n",
    "\n",
    "При любых  последующих попытках импортировать этот модуль интерпретатор будет обнаруживать, что модуль уже импортирован и не будет выполнять никаких действий. "
   ]
  },
  {
   "cell_type": "markdown",
   "metadata": {},
   "source": [
    "__Повторная загрузка модулей__"
   ]
  },
  {
   "cell_type": "code",
   "execution_count": 22,
   "metadata": {},
   "outputs": [
    {
     "name": "stdout",
     "output_type": "stream",
     "text": [
      "file bashful.bmp loaded as BMP v2\n"
     ]
    }
   ],
   "source": [
    "import Graphics.Bmp \n",
    "\n",
    "image = Graphics.Bmp.g_load(\"bashful.bmp\") "
   ]
  },
  {
   "cell_type": "code",
   "execution_count": 23,
   "metadata": {},
   "outputs": [
    {
     "name": "stdout",
     "output_type": "stream",
     "text": [
      "file bashful.bmp loaded as BMP v2\n"
     ]
    }
   ],
   "source": [
    "image = Graphics.Bmp.g_load(\"bashful.bmp\") "
   ]
  },
  {
   "cell_type": "code",
   "execution_count": 25,
   "metadata": {},
   "outputs": [
    {
     "data": {
      "text/plain": [
       "<module 'Graphics.Bmp' from 'E:\\\\YandexDisk\\\\Python\\\\Ipynb\\\\fa1_2021\\\\lec06_modules_packages\\\\Graphics\\\\Bmp.py'>"
      ]
     },
     "execution_count": 25,
     "metadata": {},
     "output_type": "execute_result"
    }
   ],
   "source": [
    "from imp import reload \n",
    "\n",
    "reload(Graphics.Bmp) "
   ]
  },
  {
   "cell_type": "code",
   "execution_count": 26,
   "metadata": {
    "scrolled": true
   },
   "outputs": [
    {
     "name": "stdout",
     "output_type": "stream",
     "text": [
      "file bashful.bmp loaded as BMP v3\n"
     ]
    }
   ],
   "source": [
    "image = Graphics.Bmp.g_load(\"bashful.bmp\") "
   ]
  },
  {
   "cell_type": "markdown",
   "metadata": {},
   "source": [
    "### Пакеты<a class=\"anchor\" id=\"пакеты\"></a>\n",
    "-\n",
    "* [к оглавлению](#разделы)"
   ]
  },
  {
   "cell_type": "markdown",
   "metadata": {},
   "source": [
    "Пакет - это простой каталог, содержащий множество модулей и файл с именем `__init__.ру`."
   ]
  },
  {
   "cell_type": "markdown",
   "metadata": {},
   "source": [
    "Например, допустим, что у нас имеется некоторое множество файлов модулей, предназначенных для чтения и записи \n",
    "графических файлов различных форматов. Если поместить эти модули в каталог Graphics вместе с пустым файлом `__init__.ру`, то этот каталог превратится в пакет: \n",
    "\n",
    "`Graphics/ \n",
    "    __init__.ру \n",
    "    Bmp.py \n",
    "    Jpeg.py \n",
    "    Png.py \n",
    "    Tiff.py`"
   ]
  },
  {
   "cell_type": "markdown",
   "metadata": {},
   "source": [
    "Пока каталог Graphics является подкаталогом каталога с программой или находится в пути поиска Python, мы будем иметь возможность импортировать любой из этих модулей и использовать их. Мы должны сделать все возможное, чтобы гарантировать несовпадение имени нашего модуля верхнего уровня (Graphics) с каким-либо из имен верхнего \n",
    "уровня в стандартной библиотеке - с целью избежать конфликтов имен. "
   ]
  },
  {
   "cell_type": "code",
   "execution_count": 27,
   "metadata": {},
   "outputs": [
    {
     "name": "stdout",
     "output_type": "stream",
     "text": [
      "file bashful.bmp loaded as BMP v3\n"
     ]
    }
   ],
   "source": [
    "import Graphics.Bmp \n",
    "\n",
    "image = Graphics.Bmp.g_load(\"bashful.bmp\") "
   ]
  },
  {
   "cell_type": "code",
   "execution_count": 30,
   "metadata": {},
   "outputs": [
    {
     "name": "stdout",
     "output_type": "stream",
     "text": [
      "file doc.jpeg loaded as JPEG\n"
     ]
    }
   ],
   "source": [
    "import Graphics.Jpeg as Jpeg \n",
    "\n",
    "image = Jpeg.g_load(\"doc.jpeg\") "
   ]
  },
  {
   "cell_type": "code",
   "execution_count": 29,
   "metadata": {},
   "outputs": [
    {
     "name": "stdout",
     "output_type": "stream",
     "text": [
      "file dopey.png loaded as PNG\n"
     ]
    }
   ],
   "source": [
    "from Graphics import Png \n",
    "\n",
    "image = Png.g_load(\"dopey.png\") "
   ]
  },
  {
   "cell_type": "code",
   "execution_count": 31,
   "metadata": {},
   "outputs": [
    {
     "name": "stdout",
     "output_type": "stream",
     "text": [
      "file grumpy.tiff loaded as TIFF\n"
     ]
    }
   ],
   "source": [
    "from Graphics import Tiff as picture \n",
    "\n",
    "image = picture.g_load(\"grumpy.tiff\") "
   ]
  },
  {
   "cell_type": "markdown",
   "metadata": {},
   "source": [
    "В некоторых ситуациях бывает удобно загружать все модули пакета одной инструкцией. Для этого необходимо в файле `__init__.py` необходимо задать переменную `__all__` , которая указывала бы, какие модули должны загружаться.\n",
    "\n",
    "Например, ниже приводится необходимая строка для файла `Graphics/__init__.py`: \n",
    "\n",
    "`__all__ = [\"Bmp\", \"Jpeg\", \"Png\", \"Tiff\"]`\n",
    "\n",
    "Этим ограничивается необходимое содержимое файла, но помимо этого мы можем поместить в него любой программный код  \n",
    "какой только пожелаем."
   ]
  },
  {
   "cell_type": "code",
   "execution_count": 32,
   "metadata": {},
   "outputs": [
    {
     "name": "stdout",
     "output_type": "stream",
     "text": [
      "file sleepy.tiff loaded as TIFF\n"
     ]
    }
   ],
   "source": [
    "# Теперь мы можем использовать другую разновидность инструкции import: \n",
    "# Синтаксис from package import * напрямую импортирует все имена  модулей, упомянутые в списке all . \n",
    "\n",
    "from Graphics import * \n",
    "\n",
    "image = Tiff.g_load(\"sleepy.tiff\") "
   ]
  },
  {
   "cell_type": "markdown",
   "metadata": {},
   "source": [
    "__Наполнение файла \\_\\_init\\_\\_.py__\n",
    "\n",
    "Этим ограничивается необходимое содержимое файла `__init__.py`, но помимо этого мы можем поместить в него любой программный код\n",
    "какой только пожелаем. Это позволяет определять любую переменную на уровне пакета. Часто это бывает удобно, если пакет определяет что-то, что будет часто импортироваться в стиле API. Этот шаблон способствует соблюдению пункта \"Философии Python\": «плоский лучше, чем вложенный».\n",
    "\n",
    "_Пример_\n",
    "\n",
    "Этим ограничивается необходимое содержимое файла `__init__.py`, но помимо этого мы можем поместить в него любой программный код\n",
    "какой только пожелаем. Это позволяет определять любую переменную на уровне пакета. Часто это бывает удобно, если пакет определяет что-то, что будет часто импортироваться в стиле API. Этот шаблон способствует соблюдению пункта \"Философии Python\": «плоский лучше, чем вложенный».\n",
    "\n",
    "Рассмотрим пример в котором для случая, в котором для взаимодействия с базой данных часто импортируется sessionmaker с именем Session. Для решения этой задачи можно создать пакет \"database\" с несколькими модулями:\n",
    "\n",
    "`database/\n",
    "    __init__.py\n",
    "    schema.py\n",
    "    insertions.py\n",
    "    queries.py`\n",
    "    \n",
    "Файл `__init__.py` в этом случае содержит следующий код:\n",
    "\n",
    "```python\n",
    "import os\n",
    "\n",
    "from sqlalchemy.orm import sessionmaker\n",
    "from sqlalchemy import create_engine\n",
    "\n",
    "engine = create_engine(os.environ['DATABASE_URL'])\n",
    "Session = sessionmaker(bind=engine)```\n",
    "\n",
    "Поскольку Session определена на уровне пакета то новую сессию можно начать, используя приведенный ниже синтаксис. Этот код будет одинаково выполняться изнутри или вне каталога пакета `database`.\n",
    "\n",
    "`from database import Session\n",
    "session = Session()`\n",
    "\n",
    "При этом, нужно понимать что большинство экспертов считает, что файлы `__init__.py` должны быть очень тонкими, чтобы не нарушать философию «явное лучше, чем неявное»."
   ]
  },
  {
   "cell_type": "markdown",
   "metadata": {},
   "source": [
    "Python позволяет организовать произвольное количество уровней вложенности пакетов. Пример:\n",
    "\n",
    "`Graphics/ \n",
    "    __init__.py \n",
    "    Bmp.py \n",
    "    Jpeg.py \n",
    "    Png.py \n",
    "    Tiff.py \n",
    "    Vector/ \n",
    "        __init__.py \n",
    "        Eps.py \n",
    "        Svg.py`"
   ]
  },
  {
   "cell_type": "markdown",
   "metadata": {},
   "source": [
    "### Запуск программы <a class=\"anchor\" id=\"запуск\"></a>\n",
    "-\n",
    "* [к оглавлению](#разделы)"
   ]
  },
  {
   "cell_type": "markdown",
   "metadata": {},
   "source": [
    "Всякий раз, когда файл с расширением .ру запускается как программа, интерпретатор Python создает в программе переменную с именем `__name__` и записывает в нее строку `__main__`. Это можно использовать для того чтобы выполнять некоторый программный код только если файл запускается как программа."
   ]
  },
  {
   "cell_type": "code",
   "execution_count": 33,
   "metadata": {},
   "outputs": [
    {
     "name": "stdout",
     "output_type": "stream",
     "text": [
      "Test  Bmp.py\n",
      "file test.bmp loaded as BMP v2\n",
      "None\n"
     ]
    }
   ],
   "source": [
    "# Пример, файл Bmp.py: \n",
    "\n",
    "def g_load(file):\n",
    "    print(\"file {} loaded as BMP v2\".format(file))\n",
    "    return None\n",
    "\n",
    "if __name__ == '__main__':\n",
    "    print(\"Test  Bmp.py\")\n",
    "    print(g_load(\"test.bmp\"))"
   ]
  },
  {
   "cell_type": "code",
   "execution_count": 34,
   "metadata": {},
   "outputs": [
    {
     "name": "stdout",
     "output_type": "stream",
     "text": [
      " ’®¬ ў гбва®©бвўҐ E Ё¬ҐҐв ¬ҐвЄг Data\n",
      " ‘ҐаЁ©­л© ­®¬Ґа в®¬ : EE2C-D1DD\n",
      "\n",
      " ‘®¤Ґа¦Ё¬®Ґ Ї ЇЄЁ E:\\YandexDisk\\Python\\Ipynb\\fa1_2021\\lec06_modules_packages\n",
      "\n",
      "19.08.2021  19:36    <DIR>          .\n",
      "19.08.2021  19:36    <DIR>          ..\n",
      "19.08.2021  16:55    <DIR>          .ipynb_checkpoints\n",
      "19.08.2021  19:21    <DIR>          Graphics\n",
      "08.09.2020  21:09             2я745 lec_v1.css\n",
      "19.08.2021  19:36            43я257 lec6_mod_pckg_v2.ipynb\n",
      "               2 д ©«®ў         46я002 Ў ©в\n",
      "               4 Ї Ї®Є  171я160я297я472 Ў ©в бў®Ў®¤­®\n"
     ]
    }
   ],
   "source": [
    "ls"
   ]
  },
  {
   "cell_type": "code",
   "execution_count": 36,
   "metadata": {},
   "outputs": [
    {
     "name": "stdout",
     "output_type": "stream",
     "text": [
      "Test  Bmp.py\n",
      "file test.bmp loaded as BMP v4\n",
      "None\n"
     ]
    }
   ],
   "source": [
    "%run Graphics/Bmp.py"
   ]
  },
  {
   "cell_type": "markdown",
   "metadata": {},
   "source": [
    "Модуль `sys` позволяет также получить те параметры (аргументы командной строки), которые были введены в команде, запустившей сценарий на языке Python. Аргументами командной строки находятся во встроенном списке строк `sys.argv`. Программисты на C могут заметить сходство с массивом `argv` в языке C (массивом строк)."
   ]
  },
  {
   "cell_type": "code",
   "execution_count": 37,
   "metadata": {},
   "outputs": [
    {
     "name": "stdout",
     "output_type": "stream",
     "text": [
      "Test  Jpeg.py\n",
      "Command line arguments:  ['C:\\\\Users\\\\alpha\\\\.conda\\\\envs\\\\pyTorch_1_5v2\\\\lib\\\\site-packages\\\\ipykernel_launcher.py', '-f', 'C:\\\\Users\\\\alpha\\\\AppData\\\\Roaming\\\\jupyter\\\\runtime\\\\kernel-655df575-86c0-41b7-915c-8876009eed1d.json']\n",
      "file test.jpeg loaded as JPEG\n",
      "None\n"
     ]
    }
   ],
   "source": [
    "# Jpeg.py\n",
    "\n",
    "import sys\n",
    "\n",
    "def g_load(file):\n",
    "    print('file {} loaded as JPEG'.format(file))\n",
    "    return None\n",
    "\n",
    "if __name__ == '__main__':\n",
    "    print('Test  Jpeg.py')\n",
    "    print('Command line arguments: ', sys.argv)\n",
    "    print(g_load('test.jpeg'))"
   ]
  },
  {
   "cell_type": "code",
   "execution_count": 38,
   "metadata": {},
   "outputs": [
    {
     "name": "stdout",
     "output_type": "stream",
     "text": [
      "Test  Jpeg.py\n",
      "Command line arguments:  ['Graphics/Jpeg.py', 'arg1', 'my_value', '11']\n",
      "file test.jpeg loaded as JPEG\n",
      "None\n"
     ]
    }
   ],
   "source": [
    "%run Graphics/Jpeg.py arg1 my_value 11"
   ]
  },
  {
   "cell_type": "markdown",
   "metadata": {},
   "source": [
    "Для серьезной работы с аргументами командной строки подходит модуль argparse:\n",
    "\n",
    "https://docs.python.org/3.5/library/argparse.html\n",
    "\n",
    "https://docs.python.org/3.5/library/argparse.html#argparse.ArgumentParser.add_argument\n",
    "\n",
    "https://pymotw.com/3/argparse/index.html\n",
    "    "
   ]
  },
  {
   "cell_type": "code",
   "execution_count": 40,
   "metadata": {},
   "outputs": [
    {
     "name": "stdout",
     "output_type": "stream",
     "text": [
      "Namespace(a=True, b='val', c=3)\n"
     ]
    }
   ],
   "source": [
    "import argparse\n",
    "\n",
    "parser = argparse.ArgumentParser(description='Short sample app')\n",
    "\n",
    "parser.add_argument('-a', action=\"store_true\", default=False)\n",
    "parser.add_argument('-b', action=\"store\", dest=\"b\")\n",
    "parser.add_argument('-c', action=\"store\", dest=\"c\", type=int)\n",
    "\n",
    "ns = parser.parse_args(['-a', '-bval', '-c', '3'])\n",
    "print(ns)"
   ]
  },
  {
   "cell_type": "code",
   "execution_count": 42,
   "metadata": {},
   "outputs": [
    {
     "data": {
      "text/plain": [
       "True"
      ]
     },
     "execution_count": 42,
     "metadata": {},
     "output_type": "execute_result"
    }
   ],
   "source": [
    "ns.a"
   ]
  },
  {
   "cell_type": "code",
   "execution_count": 43,
   "metadata": {},
   "outputs": [
    {
     "data": {
      "text/plain": [
       "'val'"
      ]
     },
     "execution_count": 43,
     "metadata": {},
     "output_type": "execute_result"
    }
   ],
   "source": [
    "ns.b"
   ]
  },
  {
   "cell_type": "code",
   "execution_count": 44,
   "metadata": {},
   "outputs": [
    {
     "data": {
      "text/plain": [
       "3"
      ]
     },
     "execution_count": 44,
     "metadata": {},
     "output_type": "execute_result"
    }
   ],
   "source": [
    "ns.c"
   ]
  },
  {
   "cell_type": "code",
   "execution_count": 45,
   "metadata": {
    "scrolled": true
   },
   "outputs": [
    {
     "data": {
      "text/plain": [
       "{'a': True, 'b': 'val', 'c': 3}"
      ]
     },
     "execution_count": 45,
     "metadata": {},
     "output_type": "execute_result"
    }
   ],
   "source": [
    "vars(ns)"
   ]
  },
  {
   "cell_type": "code",
   "execution_count": 47,
   "metadata": {},
   "outputs": [
    {
     "name": "stdout",
     "output_type": "stream",
     "text": [
      "10\n"
     ]
    }
   ],
   "source": [
    "import argparse\n",
    "\n",
    "parser = argparse.ArgumentParser(description='Process some integers.')\n",
    "parser.add_argument('integers', metavar='N', type=int, nargs='+',\n",
    "                    help='an integer for the accumulator')\n",
    "parser.add_argument('--sum', dest='accumulate', action='store_const',\n",
    "                    const=sum, default=max,\n",
    "                    help='sum the integers (default: find the max)')\n",
    "\n",
    "# $ python prog.py 1 2 3 --sum\n",
    "args = parser.parse_args(['1', '2', '3', '4', '--sum'])\n",
    "print(args.accumulate(args.integers))"
   ]
  },
  {
   "cell_type": "markdown",
   "metadata": {},
   "source": [
    "### Установка модулей из глобального репозитория <a class=\"anchor\" id=\"репозиторий\"></a>\n",
    "-\n",
    "* [к оглавлению](#разделы)"
   ]
  },
  {
   "cell_type": "markdown",
   "metadata": {},
   "source": [
    "`pip` - это система управления пакетами, которая используется для установки и управления программными пакетами, написанными на Python. Начиная с Python версии 3.4, pip поставляется вместе с интерпретатором python.\n",
    "\n",
    "pip очень легко использовать для загрузки модулей из PyPI - the Python Package Index ( https://pypi.python.org/pypi ). На 19.08.2021 в этом репозитории содержалось 322 383 пакетов!"
   ]
  },
  {
   "cell_type": "markdown",
   "metadata": {},
   "source": [
    "Для установки пакетов в командной строке нужно выполнить (для выполнения команды могут потребоваться права администратора):\n",
    "\n",
    "pip install package_name"
   ]
  },
  {
   "cell_type": "markdown",
   "metadata": {},
   "source": [
    "pip help - помощь по доступным командам.\n",
    "\n",
    "pip install package_name - установка пакета(ов).\n",
    "\n",
    "pip uninstall package_name - удаление пакета(ов).\n",
    "\n",
    "pip list - список установленных пакетов.\n",
    "\n",
    "pip show package_name - показывает информацию об установленном пакете.\n",
    "\n",
    "pip search - поиск пакетов по имени.\n",
    "\n",
    "pip --proxy user:passwd@proxy.server:port - использование с прокси.\n",
    "\n",
    "pip install -U - обновление пакета(ов).\n",
    "\n",
    "pip install --force-reinstall - при обновлении, переустановить пакет, даже если он последней версии."
   ]
  },
  {
   "cell_type": "markdown",
   "metadata": {},
   "source": [
    "Модули Python:\n",
    "\n",
    "https://docs.python.org/3/library/index.html"
   ]
  },
  {
   "cell_type": "markdown",
   "metadata": {},
   "source": [
    "Хорошие учебные материалы по встроенным модулям:\n",
    "\n",
    "https://pymotw.com/3/"
   ]
  },
  {
   "cell_type": "markdown",
   "metadata": {},
   "source": [
    "---"
   ]
  },
  {
   "cell_type": "markdown",
   "metadata": {},
   "source": [
    "### Встроенные функции <a class=\"anchor\" id=\"встроенные\"></a>\n",
    "-\n",
    "* [к оглавлению](#разделы)"
   ]
  },
  {
   "cell_type": "markdown",
   "metadata": {},
   "source": [
    "https://docs.python.org/3/library/functions.html\n",
    "\n",
    "http://python-reference.readthedocs.io/en/latest/docs/functions/"
   ]
  }
 ],
 "metadata": {
  "anaconda-cloud": {},
  "kernelspec": {
   "display_name": "Python 3",
   "language": "python",
   "name": "python3"
  },
  "language_info": {
   "codemirror_mode": {
    "name": "ipython",
    "version": 3
   },
   "file_extension": ".py",
   "mimetype": "text/x-python",
   "name": "python",
   "nbconvert_exporter": "python",
   "pygments_lexer": "ipython3",
   "version": "3.7.6"
  }
 },
 "nbformat": 4,
 "nbformat_minor": 1
}
