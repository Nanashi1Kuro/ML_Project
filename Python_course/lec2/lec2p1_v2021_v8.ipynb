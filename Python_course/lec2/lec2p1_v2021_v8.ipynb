{
 "cells": [
  {
   "cell_type": "markdown",
   "metadata": {},
   "source": [
    "# Лекция 2 \"Управляющие конструкции и списки\"\n",
    "##  часть 1 Управляющие конструкции\n",
    "### Финансовый университет при Правительстве РФ, лектор С.В. Макрушин\n",
    "\n",
    "v 0.8 27.07.2021"
   ]
  },
  {
   "cell_type": "markdown",
   "metadata": {},
   "source": [
    "## Разделы: <a class=\"anchor\" id=\"разделы\"></a>\n",
    "* [Булев тип](#булев-тип)\n",
    "* [Операции сравнения](#операции-сравнения)\n",
    "* [Условные операторы](#условные-операторы)\n",
    "* [Циклы](#циклы)\n",
    "    * [Цикл for](#цикл-for)\n",
    "* [ Функции range и enumerate](#range-enumerate)\n",
    "\n",
    "-\n",
    "\n",
    "* [к оглавлению](#разделы)"
   ]
  },
  {
   "cell_type": "code",
   "execution_count": 1,
   "metadata": {},
   "outputs": [
    {
     "data": {
      "text/html": [
       "﻿<style>\r\n",
       "\r\n",
       "\r\n",
       "b.n {\r\n",
       "    font-weight: normal;        \r\n",
       "}\r\n",
       "\r\n",
       "b.grbg {\r\n",
       "    background-color: #a0a0a0;      \r\n",
       "}\r\n",
       "\r\n",
       "b.r {\r\n",
       "    color: #ff0000;    \r\n",
       "}\r\n",
       "\r\n",
       "\r\n",
       "b.b {    \r\n",
       "    color: #0000ff;    \r\n",
       "}\r\n",
       "\r\n",
       "b.g {\r\n",
       "    color: #00ff00;    \r\n",
       "}\r\n",
       "\r\n",
       "\r\n",
       "// add your CSS styling here\r\n",
       "\r\n",
       "list-style: none;\r\n",
       "\r\n",
       "ul.s {\r\n",
       "//    list-style-type: none;\r\n",
       "    list-style: none;\r\n",
       "//    background-color: #ff0000;  \r\n",
       "//    color: #ffff00;\r\n",
       "//  padding-left: 1.2em;\r\n",
       "//  text-indent: -1.2em;\r\n",
       "}\r\n",
       "\r\n",
       "li.t {\r\n",
       "    list-style: none;\r\n",
       "//  padding-left: 1.2em;\r\n",
       "//  text-indent: -1.2em;    \r\n",
       "}\r\n",
       "\r\n",
       "\r\n",
       "*.r {\r\n",
       "    color: #ff0000;    \r\n",
       "}\r\n",
       "\r\n",
       "li.t:before {\r\n",
       "    content: \"\\21D2\";    \r\n",
       "//    content: \"►\";\r\n",
       "//    padding-left: -1.2em;    \r\n",
       "    text-indent: -1.2em;    \r\n",
       "    display: block;\r\n",
       "    float: left;\r\n",
       "    \r\n",
       "    \r\n",
       "//    width: 1.2em;\r\n",
       "//    color: #ff0000;\r\n",
       "}\r\n",
       "\r\n",
       "i.m:before {\r\n",
       "    font-style: normal;    \r\n",
       "    content: \"\\21D2\";  \r\n",
       "}\r\n",
       "i.m {\r\n",
       "    font-style: normal; \r\n",
       "}    \r\n",
       "\r\n",
       "/*--------------------*/\r\n",
       "/* em {\r\n",
       "    font-style: normal; \r\n",
       "} */\r\n",
       "\r\n",
       "\r\n",
       "em.bl {\r\n",
       "    font-style: normal;     \r\n",
       "    font-weight: bold;        \r\n",
       "}\r\n",
       "\r\n",
       "/* em.grbg {\r\n",
       "    font-style: normal;         \r\n",
       "    background-color: #a0a0a0;      \r\n",
       "} */\r\n",
       "\r\n",
       "em.cr {\r\n",
       "    font-style: normal;         \r\n",
       "    color: #ff0000;    \r\n",
       "}\r\n",
       "\r\n",
       "em.cb {    \r\n",
       "    font-style: normal;         \r\n",
       "    color: #0000ff;    \r\n",
       "}\r\n",
       "\r\n",
       "em.cg {\r\n",
       "    font-style: normal;         \r\n",
       "    color: #00ff00;    \r\n",
       "}\r\n",
       "\r\n",
       "/*--------------------*/\r\n",
       "\r\n",
       "em.qs {\r\n",
       "    font-style: normal; \r\n",
       "}\r\n",
       "\r\n",
       "em.qs::before {\r\n",
       "    font-weight: bold;    \r\n",
       "    color: #ff0000;    \r\n",
       "    content: \"Q:\";  \r\n",
       "}\r\n",
       "\r\n",
       "em.an {\r\n",
       "    font-style: normal; \r\n",
       "}\r\n",
       "\r\n",
       "em.an:before {\r\n",
       "    font-weight: bold;    \r\n",
       "    color: #0000ff;    \r\n",
       "    content: \"A:\";  \r\n",
       "}\r\n",
       "    \r\n",
       "em.nt {\r\n",
       "    font-style: normal; \r\n",
       "}\r\n",
       "\r\n",
       "em.nt:before {\r\n",
       "    font-weight: bold;    \r\n",
       "    color: #0000ff;    \r\n",
       "    content: \"Note:\";  \r\n",
       "}    \r\n",
       "    \r\n",
       "em.ex {\r\n",
       "    font-style: normal; \r\n",
       "}\r\n",
       "\r\n",
       "em.ex:before {\r\n",
       "    font-weight: bold;    \r\n",
       "    color: #00ff00;    \r\n",
       "    content: \"Ex:\";  \r\n",
       "} \r\n",
       "    \r\n",
       "em.df {\r\n",
       "    font-style: normal; \r\n",
       "}\r\n",
       "\r\n",
       "em.df:before {\r\n",
       "    font-weight: bold;    \r\n",
       "    color: #0000ff;    \r\n",
       "    content: \"Def:\";  \r\n",
       "}    \r\n",
       "\r\n",
       "em.pl {\r\n",
       "    font-style: normal; \r\n",
       "}\r\n",
       "\r\n",
       "em.pl:before {\r\n",
       "    font-weight: bold;    \r\n",
       "    color: #0000ff;    \r\n",
       "    content: \"+\";  \r\n",
       "}    \r\n",
       "\r\n",
       "em.mn {\r\n",
       "    font-style: normal; \r\n",
       "}\r\n",
       "\r\n",
       "em.mn:before {\r\n",
       "    font-weight: bold;    \r\n",
       "    color: #0000ff;    \r\n",
       "    content: \"-\";  \r\n",
       "}        \r\n",
       "\r\n",
       "em.plmn {\r\n",
       "    font-style: normal; \r\n",
       "}\r\n",
       "\r\n",
       "em.plmn:before {\r\n",
       "    font-weight: bold;    \r\n",
       "    color: #0000ff;    \r\n",
       "    content: \"\\00B1\";\\\\\"&plusmn;\";  \r\n",
       "}\r\n",
       "    \r\n",
       "em.hn {\r\n",
       "    font-style: normal; \r\n",
       "}\r\n",
       "\r\n",
       "em.hn:before {\r\n",
       "    font-weight: bold;    \r\n",
       "    color: #0000ff;    \r\n",
       "    content: \"\\21D2\";\\\\\"&rArr;\";  \r\n",
       "}     \r\n",
       "    \r\n",
       "</style>"
      ],
      "text/plain": [
       "<IPython.core.display.HTML object>"
      ]
     },
     "execution_count": 1,
     "metadata": {},
     "output_type": "execute_result"
    }
   ],
   "source": [
    "# загружаем стиль для оформления презентации\n",
    "from IPython.display import HTML\n",
    "from urllib.request import urlopen\n",
    "html = urlopen(\"file:./lec_v1.css\")\n",
    "HTML(html.read().decode('utf-8'))"
   ]
  },
  {
   "cell_type": "markdown",
   "metadata": {},
   "source": [
    "# Булев тип <a class=\"anchor\" id=\"булев-тип\"></a>\n",
    "* [к оглавлению](#разделы)"
   ]
  },
  {
   "cell_type": "code",
   "execution_count": 6,
   "metadata": {},
   "outputs": [],
   "source": [
    "t1 = True\n",
    "t2 = False"
   ]
  },
  {
   "cell_type": "code",
   "execution_count": 7,
   "metadata": {},
   "outputs": [
    {
     "name": "stdout",
     "output_type": "stream",
     "text": [
      "True\n",
      "False\n"
     ]
    }
   ],
   "source": [
    "print(t1)\n",
    "print(t2)"
   ]
  },
  {
   "cell_type": "code",
   "execution_count": 8,
   "metadata": {},
   "outputs": [
    {
     "data": {
      "text/plain": [
       "bool"
      ]
     },
     "execution_count": 8,
     "metadata": {},
     "output_type": "execute_result"
    }
   ],
   "source": [
    "type(t1)"
   ]
  },
  {
   "cell_type": "code",
   "execution_count": 9,
   "metadata": {},
   "outputs": [
    {
     "data": {
      "text/plain": [
       "False"
      ]
     },
     "execution_count": 9,
     "metadata": {},
     "output_type": "execute_result"
    }
   ],
   "source": [
    "t3 = bool()\n",
    "t3"
   ]
  },
  {
   "cell_type": "markdown",
   "metadata": {},
   "source": [
    "Приведение других типов к значениям типа bool:"
   ]
  },
  {
   "cell_type": "code",
   "execution_count": 10,
   "metadata": {},
   "outputs": [
    {
     "name": "stdout",
     "output_type": "stream",
     "text": [
      "False False False False False False False False\n"
     ]
    }
   ],
   "source": [
    "# Значения других типов, интерпретируемые как False:\n",
    "# число 0\n",
    "ft1 = bool(0)\n",
    "ft2 = bool(0.0)\n",
    "\n",
    "ft3 = bool('') # пустая строка\n",
    "# последовательность, не содержащая элементов:\n",
    "ft4 = bool(tuple()) # пустой кортеж\n",
    "ft5 = bool(list()) # пустой список\n",
    "\n",
    "ft6 = bool(set()) # пустое множество\n",
    "ft7 = bool(dict()) # пустой словарь\n",
    "\n",
    "ft8 = bool(None) # ссылка на объект None\n",
    "\n",
    "print(ft1, ft2, ft3, ft4, ft5, ft6, ft7, ft8)"
   ]
  },
  {
   "cell_type": "markdown",
   "metadata": {},
   "source": [
    "Для упрощения можно запомнить, что \"объекты-контейнеры\", не содержащие элементов (т.е. для которых `len(obj)` возвращает 0), приводятся к `False`."
   ]
  },
  {
   "cell_type": "code",
   "execution_count": 11,
   "metadata": {},
   "outputs": [
    {
     "name": "stdout",
     "output_type": "stream",
     "text": [
      "True True True True True True True\n"
     ]
    }
   ],
   "source": [
    "# Примеры значений других типов, интерпретируемых как True:\n",
    "# число, отличное от 0\n",
    "tt1 = bool(42)\n",
    "tt2 = bool(42.42)\n",
    "\n",
    "tt3 = bool('a b c') # НЕ пустая строка\n",
    "# последовательность, содержащая элементы:\n",
    "tt4 = bool((1, 2, 3)) # НЕ пустой кортеж\n",
    "tt5 = bool([1, 2, 3]) # НЕ пустой список\n",
    "\n",
    "tt6 = bool({1, 2, 3}) # НЕ пустое множество\n",
    "tt7 = bool({'a':1, 'b':2, 'c':3}) # не пустой словарь\n",
    "\n",
    "print(tt1, tt2, tt3, tt4, tt5, tt6, tt7)"
   ]
  },
  {
   "cell_type": "code",
   "execution_count": 12,
   "metadata": {},
   "outputs": [
    {
     "data": {
      "text/plain": [
       "True"
      ]
     },
     "execution_count": 12,
     "metadata": {},
     "output_type": "execute_result"
    }
   ],
   "source": [
    "bool('False')"
   ]
  },
  {
   "cell_type": "markdown",
   "metadata": {},
   "source": [
    "Операции с логическим типом"
   ]
  },
  {
   "cell_type": "code",
   "execution_count": 13,
   "metadata": {},
   "outputs": [
    {
     "data": {
      "text/plain": [
       "True"
      ]
     },
     "execution_count": 13,
     "metadata": {},
     "output_type": "execute_result"
    }
   ],
   "source": [
    "t1"
   ]
  },
  {
   "cell_type": "code",
   "execution_count": 14,
   "metadata": {},
   "outputs": [
    {
     "data": {
      "text/plain": [
       "False"
      ]
     },
     "execution_count": 14,
     "metadata": {},
     "output_type": "execute_result"
    }
   ],
   "source": [
    "t2"
   ]
  },
  {
   "cell_type": "code",
   "execution_count": 15,
   "metadata": {},
   "outputs": [
    {
     "data": {
      "text/plain": [
       "False"
      ]
     },
     "execution_count": 15,
     "metadata": {},
     "output_type": "execute_result"
    }
   ],
   "source": [
    "not t1"
   ]
  },
  {
   "cell_type": "code",
   "execution_count": 16,
   "metadata": {},
   "outputs": [
    {
     "data": {
      "text/plain": [
       "True"
      ]
     },
     "execution_count": 16,
     "metadata": {},
     "output_type": "execute_result"
    }
   ],
   "source": [
    "t1 or t2"
   ]
  },
  {
   "cell_type": "code",
   "execution_count": 17,
   "metadata": {},
   "outputs": [
    {
     "data": {
      "text/plain": [
       "False"
      ]
     },
     "execution_count": 17,
     "metadata": {},
     "output_type": "execute_result"
    }
   ],
   "source": [
    "t1 and t2"
   ]
  },
  {
   "cell_type": "markdown",
   "metadata": {},
   "source": [
    "Приоритет:\n",
    "1. not (соответствует унарному -)\n",
    "2. and (соответствует *)\n",
    "3. or (соответствует +)"
   ]
  },
  {
   "cell_type": "markdown",
   "metadata": {},
   "source": [
    "# >"
   ]
  },
  {
   "cell_type": "markdown",
   "metadata": {},
   "source": [
    "------"
   ]
  },
  {
   "cell_type": "markdown",
   "metadata": {},
   "source": [
    "# Операции сравнения <a class=\"anchor\" id=\"операции-сравнения\"></a>\n",
    "* [к оглавлению](#разделы)"
   ]
  },
  {
   "cell_type": "code",
   "execution_count": 18,
   "metadata": {},
   "outputs": [],
   "source": [
    "# создаем переменные:\n",
    "a = 2\n",
    "b = 6"
   ]
  },
  {
   "cell_type": "markdown",
   "metadata": {},
   "source": [
    "Виды сравнений:"
   ]
  },
  {
   "cell_type": "code",
   "execution_count": 15,
   "metadata": {},
   "outputs": [
    {
     "data": {
      "text/plain": [
       "False"
      ]
     },
     "execution_count": 15,
     "metadata": {},
     "output_type": "execute_result"
    }
   ],
   "source": [
    "a == b # проверка на равенство"
   ]
  },
  {
   "cell_type": "code",
   "execution_count": 19,
   "metadata": {},
   "outputs": [
    {
     "data": {
      "text/plain": [
       "True"
      ]
     },
     "execution_count": 19,
     "metadata": {},
     "output_type": "execute_result"
    }
   ],
   "source": [
    "a != b # проверка на неравенство"
   ]
  },
  {
   "cell_type": "code",
   "execution_count": 20,
   "metadata": {},
   "outputs": [
    {
     "data": {
      "text/plain": [
       "True"
      ]
     },
     "execution_count": 20,
     "metadata": {},
     "output_type": "execute_result"
    }
   ],
   "source": [
    "a < b # меньше"
   ]
  },
  {
   "cell_type": "code",
   "execution_count": 21,
   "metadata": {},
   "outputs": [
    {
     "data": {
      "text/plain": [
       "True"
      ]
     },
     "execution_count": 21,
     "metadata": {},
     "output_type": "execute_result"
    }
   ],
   "source": [
    "a <= b # меньше или равно"
   ]
  },
  {
   "cell_type": "code",
   "execution_count": 22,
   "metadata": {},
   "outputs": [
    {
     "data": {
      "text/plain": [
       "False"
      ]
     },
     "execution_count": 22,
     "metadata": {},
     "output_type": "execute_result"
    }
   ],
   "source": [
    "a > b # больше"
   ]
  },
  {
   "cell_type": "code",
   "execution_count": 23,
   "metadata": {
    "scrolled": true
   },
   "outputs": [
    {
     "data": {
      "text/plain": [
       "False"
      ]
     },
     "execution_count": 23,
     "metadata": {},
     "output_type": "execute_result"
    }
   ],
   "source": [
    "a >= b # больше или равно"
   ]
  },
  {
   "cell_type": "code",
   "execution_count": 24,
   "metadata": {
    "scrolled": true
   },
   "outputs": [
    {
     "data": {
      "text/plain": [
       "True"
      ]
     },
     "execution_count": 24,
     "metadata": {},
     "output_type": "execute_result"
    }
   ],
   "source": [
    "# Цепочка сравнений:\n",
    "0 <= a <= 10 # эквивалентно: (0 <= a) and (a <= 10)"
   ]
  },
  {
   "cell_type": "code",
   "execution_count": 25,
   "metadata": {},
   "outputs": [
    {
     "data": {
      "text/plain": [
       "True"
      ]
     },
     "execution_count": 25,
     "metadata": {},
     "output_type": "execute_result"
    }
   ],
   "source": [
    "# Можно даже так:\n",
    "0 < a < b > 2"
   ]
  },
  {
   "cell_type": "code",
   "execution_count": 26,
   "metadata": {},
   "outputs": [
    {
     "data": {
      "text/plain": [
       "True"
      ]
     },
     "execution_count": 26,
     "metadata": {},
     "output_type": "execute_result"
    }
   ],
   "source": [
    "# сравнение значений различных числовых типов выполняет автоматическое приведение типов\n",
    "# (автоматическое приведение типов работает в Python только для числовых типов!):\n",
    "3.0 < 4"
   ]
  },
  {
   "cell_type": "code",
   "execution_count": 27,
   "metadata": {
    "scrolled": true
   },
   "outputs": [
    {
     "data": {
      "text/plain": [
       "True"
      ]
     },
     "execution_count": 27,
     "metadata": {},
     "output_type": "execute_result"
    }
   ],
   "source": [
    "# автоматического приведения типов при сравнении (кроме случая числовых типов) нет:\n",
    "int(\"3\") < 4 "
   ]
  },
  {
   "cell_type": "markdown",
   "metadata": {},
   "source": [
    "Сравнения для нечисловых типов:"
   ]
  },
  {
   "cell_type": "code",
   "execution_count": 28,
   "metadata": {},
   "outputs": [
    {
     "data": {
      "text/plain": [
       "True"
      ]
     },
     "execution_count": 28,
     "metadata": {},
     "output_type": "execute_result"
    }
   ],
   "source": [
    "True > False"
   ]
  },
  {
   "cell_type": "code",
   "execution_count": 29,
   "metadata": {},
   "outputs": [
    {
     "data": {
      "text/plain": [
       "True"
      ]
     },
     "execution_count": 29,
     "metadata": {},
     "output_type": "execute_result"
    }
   ],
   "source": [
    "False == False"
   ]
  },
  {
   "cell_type": "code",
   "execution_count": 30,
   "metadata": {},
   "outputs": [
    {
     "data": {
      "text/plain": [
       "(2, 6)"
      ]
     },
     "execution_count": 30,
     "metadata": {},
     "output_type": "execute_result"
    }
   ],
   "source": [
    "a, b"
   ]
  },
  {
   "cell_type": "code",
   "execution_count": 29,
   "metadata": {},
   "outputs": [
    {
     "data": {
      "text/plain": [
       "True"
      ]
     },
     "execution_count": 29,
     "metadata": {},
     "output_type": "execute_result"
    }
   ],
   "source": [
    "(a < b) == True # бессмысленное сравнение с True"
   ]
  },
  {
   "cell_type": "code",
   "execution_count": 31,
   "metadata": {},
   "outputs": [
    {
     "data": {
      "text/plain": [
       "True"
      ]
     },
     "execution_count": 31,
     "metadata": {},
     "output_type": "execute_result"
    }
   ],
   "source": [
    "a < b  # правильная альтернатива!"
   ]
  },
  {
   "cell_type": "code",
   "execution_count": 32,
   "metadata": {},
   "outputs": [
    {
     "data": {
      "text/plain": [
       "True"
      ]
     },
     "execution_count": 32,
     "metadata": {},
     "output_type": "execute_result"
    }
   ],
   "source": [
    "None == None"
   ]
  },
  {
   "cell_type": "code",
   "execution_count": 33,
   "metadata": {},
   "outputs": [
    {
     "name": "stdout",
     "output_type": "stream",
     "text": [
      "---- ==:\n",
      "True\n",
      "True\n",
      "---- is:\n",
      "True\n",
      "True\n",
      "---- is not:\n",
      "False\n",
      "False\n"
     ]
    }
   ],
   "source": [
    "# в случае булева типа и None \"is\" и \"==\" эквивалентно\n",
    "# Но проверка \"is\" предпочтительна\n",
    "b1 = True\n",
    "n1 = None\n",
    "print('---- ==:')\n",
    "print(b1 == True)\n",
    "print(n1 == None)\n",
    "print('---- is:')\n",
    "print(b1 is True)\n",
    "print(n1 is None)\n",
    "\n",
    "print('---- is not:')\n",
    "# проверка на несовпадение (предпочтительная):\n",
    "print(b1 is not True) # is not - это не два оператора, а один!\n",
    "print(n1 is not None)"
   ]
  },
  {
   "cell_type": "markdown",
   "metadata": {},
   "source": [
    "Сравнение последовательностей:"
   ]
  },
  {
   "cell_type": "code",
   "execution_count": 34,
   "metadata": {},
   "outputs": [
    {
     "data": {
      "text/plain": [
       "False"
      ]
     },
     "execution_count": 34,
     "metadata": {},
     "output_type": "execute_result"
    }
   ],
   "source": [
    "s1 = 'Hello world'\n",
    "s2 = 'Hello world'\n",
    "s3 = 'Hello'\n",
    "s4 = 'Halo'\n",
    "s5 = 'A'\n",
    "s6 = '1'\n",
    "s1 is s2 # совпадают ли объекты?"
   ]
  },
  {
   "cell_type": "code",
   "execution_count": 35,
   "metadata": {},
   "outputs": [
    {
     "data": {
      "text/plain": [
       "True"
      ]
     },
     "execution_count": 35,
     "metadata": {},
     "output_type": "execute_result"
    }
   ],
   "source": [
    "s1 == s2  # совпадает ли содержимое объектов?"
   ]
  },
  {
   "cell_type": "code",
   "execution_count": 36,
   "metadata": {},
   "outputs": [
    {
     "data": {
      "text/plain": [
       "False"
      ]
     },
     "execution_count": 36,
     "metadata": {},
     "output_type": "execute_result"
    }
   ],
   "source": [
    "s1 == s3"
   ]
  },
  {
   "cell_type": "markdown",
   "metadata": {},
   "source": [
    "Лексикографический порядок используется для операций порядка для объектов, хранящих упорядоченные последовательности:"
   ]
  },
  {
   "cell_type": "code",
   "execution_count": 41,
   "metadata": {},
   "outputs": [
    {
     "name": "stdout",
     "output_type": "stream",
     "text": [
      "\"Hello world\" > \"Hello\" is: True\n"
     ]
    }
   ],
   "source": [
    "print(f'\"{s1}\" > \"{s3}\" is: {s1>s3}') # сравнение в лексикографическом порядке"
   ]
  },
  {
   "cell_type": "code",
   "execution_count": 42,
   "metadata": {
    "scrolled": true
   },
   "outputs": [
    {
     "name": "stdout",
     "output_type": "stream",
     "text": [
      "\"Hello\" > \"Halo\" is: True\n"
     ]
    }
   ],
   "source": [
    "print(f'\"{s3}\" > \"{s4}\" is: {s3 > s4}')"
   ]
  },
  {
   "cell_type": "code",
   "execution_count": 43,
   "metadata": {
    "scrolled": true
   },
   "outputs": [
    {
     "name": "stdout",
     "output_type": "stream",
     "text": [
      "\"Halo\" > \"A\" is: True\n"
     ]
    }
   ],
   "source": [
    "print(f'\"{s4}\" > \"{s5}\" is: {s4 > s5}')"
   ]
  },
  {
   "cell_type": "code",
   "execution_count": 44,
   "metadata": {
    "scrolled": true
   },
   "outputs": [
    {
     "name": "stdout",
     "output_type": "stream",
     "text": [
      "\"1\" < \"A\" is: True\n"
     ]
    }
   ],
   "source": [
    "print(f'\"{s6}\" < \"{s5}\" is: {s6 < s5}')"
   ]
  },
  {
   "cell_type": "code",
   "execution_count": 45,
   "metadata": {},
   "outputs": [],
   "source": [
    "tu1 = (1, 2, 3)\n",
    "tu2 = (1, 3, 3)\n",
    "tu3 = (1, 2)"
   ]
  },
  {
   "cell_type": "code",
   "execution_count": 46,
   "metadata": {
    "scrolled": true
   },
   "outputs": [
    {
     "name": "stdout",
     "output_type": "stream",
     "text": [
      "\"(1, 2, 3)\" < \"(1, 3, 3)\" is: True\n"
     ]
    }
   ],
   "source": [
    "print(f'\"{tu1}\" < \"{tu2}\" is: {tu1 < tu2}')"
   ]
  },
  {
   "cell_type": "code",
   "execution_count": 47,
   "metadata": {
    "scrolled": true
   },
   "outputs": [
    {
     "name": "stdout",
     "output_type": "stream",
     "text": [
      "\"(1, 2, 3)\" > \"(1, 2)\" is: True\n"
     ]
    }
   ],
   "source": [
    "print(f'\"{tu1}\" > \"{tu3}\" is: {tu1 > tu3}')"
   ]
  },
  {
   "cell_type": "markdown",
   "metadata": {},
   "source": [
    "# >"
   ]
  },
  {
   "cell_type": "markdown",
   "metadata": {},
   "source": [
    "-------"
   ]
  },
  {
   "cell_type": "markdown",
   "metadata": {},
   "source": [
    "# Условные операторы <a class=\"anchor\" id=\"условные-операторы\"></a>"
   ]
  },
  {
   "cell_type": "markdown",
   "metadata": {},
   "source": [
    "В языке Python для обозначения блочной структуры используются __отступы__ (вместо фигурных скобок (`{` и `}`) в языках с С-образным синтаксисом или блоков `begin` - `end` в Pascal). \n",
    "\n",
    "Так как некоторые синтаксические конструкции языка Python требуют наличия блока кода, Python предоставляет ключевое \n",
    "слово `pass`, которое представляет собой инструкцию, не делающую ровным счетом ничего, и которая может использоваться везде, где  требуется блок кода (или когда мы хотим указать на наличие особого случая), но никаких действий выполнять не требуется. "
   ]
  },
  {
   "cell_type": "markdown",
   "metadata": {},
   "source": [
    "```python\n",
    "if x:\n",
    "    a = b\n",
    "```"
   ]
  },
  {
   "cell_type": "markdown",
   "metadata": {},
   "source": [
    "Общий вид синтаксиса условного оператора:\n",
    "\n",
    "```python\n",
    "if boolean_expression1:\n",
    "    suite1    \n",
    "elif boolean_expression2: \n",
    "    suite2    \n",
    "elif boolean_expressionN: \n",
    "    suiteN    \n",
    "else: \n",
    "    else_suite```\n",
    "    \n",
    "* может быть ноль или более предложений `elif`\n",
    "* блок `else` не обязательный\n"
   ]
  },
  {
   "cell_type": "code",
   "execution_count": 48,
   "metadata": {},
   "outputs": [],
   "source": [
    "x = 42"
   ]
  },
  {
   "cell_type": "code",
   "execution_count": 49,
   "metadata": {},
   "outputs": [
    {
     "name": "stdout",
     "output_type": "stream",
     "text": [
      "x is not False\n"
     ]
    }
   ],
   "source": [
    "if x:\n",
    "    print('x is not False')"
   ]
  },
  {
   "cell_type": "code",
   "execution_count": 50,
   "metadata": {},
   "outputs": [
    {
     "name": "stdout",
     "output_type": "stream",
     "text": [
      "result!\n"
     ]
    }
   ],
   "source": [
    "if x == 5:\n",
    "    print('x is not False')\n",
    "    y = 10\n",
    "print('result!')"
   ]
  },
  {
   "cell_type": "code",
   "execution_count": 51,
   "metadata": {},
   "outputs": [],
   "source": [
    "x = 0"
   ]
  },
  {
   "cell_type": "code",
   "execution_count": 52,
   "metadata": {},
   "outputs": [
    {
     "name": "stdout",
     "output_type": "stream",
     "text": [
      "x is False (or equivalent)\n",
      "y: 10\n"
     ]
    }
   ],
   "source": [
    "if not x:\n",
    "    print('x is False (or equivalent)')\n",
    "    y = 10\n",
    "else:\n",
    "    print('x is True (or equivalent)')\n",
    "    y = 5\n",
    "print(f'y: {y}')"
   ]
  },
  {
   "cell_type": "code",
   "execution_count": 53,
   "metadata": {},
   "outputs": [],
   "source": [
    "x = -150"
   ]
  },
  {
   "cell_type": "code",
   "execution_count": 54,
   "metadata": {},
   "outputs": [
    {
     "name": "stdout",
     "output_type": "stream",
     "text": [
      "x is totally negative\n"
     ]
    }
   ],
   "source": [
    "if x >= 0:    \n",
    "    print('x is positve')\n",
    "elif x >= -10:\n",
    "    print('x is slightly negative')\n",
    "elif x >= -100:\n",
    "    print('x is pretty negative')\n",
    "else:\n",
    "    print('x is totally negative')"
   ]
  },
  {
   "cell_type": "code",
   "execution_count": 57,
   "metadata": {},
   "outputs": [],
   "source": [
    "x = 10\n",
    "if x >= 0:\n",
    "    pass # если блок кода обязательный, а ничего выполнять не требуется, то используется оператор pass\n",
    "elif x >= -10:\n",
    "    print('x is slightly negative')\n",
    "elif x >= -100:\n",
    "    print('x is pretty negative')\n",
    "else:\n",
    "    print('x is totally negative')"
   ]
  },
  {
   "cell_type": "code",
   "execution_count": 58,
   "metadata": {},
   "outputs": [],
   "source": [
    "tv = x > 5 \n",
    "# работающий, но некрасивый способ:\n",
    "if tv == False:\n",
    "    print('win!')\n",
    "    \n",
    "# правильный способ:\n",
    "if not tv:\n",
    "    print('win! (correct)')"
   ]
  },
  {
   "cell_type": "markdown",
   "metadata": {},
   "source": [
    "Общий вид синтаксиса тернарного условного оператора:\n",
    "\n",
    "\n",
    "```python\n",
    "true_result if boolean_expression1 else false_result\n",
    "```"
   ]
  },
  {
   "cell_type": "code",
   "execution_count": 59,
   "metadata": {},
   "outputs": [
    {
     "name": "stdout",
     "output_type": "stream",
     "text": [
      "7\n"
     ]
    }
   ],
   "source": [
    "# пример:\n",
    "a = 5\n",
    "b = 7\n",
    "print(a if a > 5 else b)"
   ]
  },
  {
   "cell_type": "code",
   "execution_count": 60,
   "metadata": {},
   "outputs": [
    {
     "data": {
      "text/plain": [
       "5"
      ]
     },
     "execution_count": 60,
     "metadata": {},
     "output_type": "execute_result"
    }
   ],
   "source": [
    "# тернарный оператор хорошо подходит для присвоения значения:\n",
    "c = a if a > 0 else 0\n",
    "c"
   ]
  },
  {
   "cell_type": "code",
   "execution_count": 62,
   "metadata": {},
   "outputs": [
    {
     "data": {
      "text/plain": [
       "5"
      ]
     },
     "execution_count": 62,
     "metadata": {},
     "output_type": "execute_result"
    }
   ],
   "source": [
    "max(a, 0)A"
   ]
  },
  {
   "cell_type": "markdown",
   "metadata": {},
   "source": [
    "# >"
   ]
  },
  {
   "cell_type": "markdown",
   "metadata": {},
   "source": [
    "---------"
   ]
  },
  {
   "cell_type": "markdown",
   "metadata": {},
   "source": [
    "# Циклы <a class=\"anchor\" id=\"циклы\"></a>\n",
    "* [к оглавлению](#разделы)"
   ]
  },
  {
   "cell_type": "markdown",
   "metadata": {},
   "source": [
    "### Цикл while"
   ]
  },
  {
   "cell_type": "markdown",
   "metadata": {},
   "source": [
    "Синтаксис оператора цикла `while`:\n",
    "\n",
    "```python\n",
    "while boolean_expression:\n",
    "    suite\n",
    "else:\n",
    "    else_suite\n",
    "```\n",
    "\n",
    "* блок `else` не обязательный"
   ]
  },
  {
   "cell_type": "code",
   "execution_count": 69,
   "metadata": {},
   "outputs": [
    {
     "name": "stdout",
     "output_type": "stream",
     "text": [
      "0\n",
      "1\n",
      "2\n",
      "3\n",
      "4\n",
      "5\n",
      "6\n",
      "7\n",
      "8\n",
      "9\n"
     ]
    }
   ],
   "source": [
    "i = 0\n",
    "while i < 10:\n",
    "    print(i)\n",
    "    i += 1"
   ]
  },
  {
   "cell_type": "markdown",
   "metadata": {},
   "source": [
    "Операторы `break`, `continue`, блок `else`:"
   ]
  },
  {
   "cell_type": "code",
   "execution_count": 73,
   "metadata": {},
   "outputs": [
    {
     "name": "stdout",
     "output_type": "stream",
     "text": [
      "2\n"
     ]
    }
   ],
   "source": [
    "st = 'Hello world'\n",
    "target = 'l'\n",
    "\n",
    "# поиск индекса первого вхождения символа target в строку st\n",
    "index = 0 \n",
    "while index < len(st): \n",
    "    if st[index] == target: \n",
    "        break # преждевременный выход из цикла\n",
    "    index += 1 \n",
    "else: # блок else выполняется, если выход из цикла произошел не в результате выполнения оператора break\n",
    "    index = -1 \n",
    "    \n",
    "print(index)\n",
    "# print(f'resilt: {result}')"
   ]
  },
  {
   "cell_type": "code",
   "execution_count": 71,
   "metadata": {},
   "outputs": [
    {
     "data": {
      "text/plain": [
       "11"
      ]
     },
     "execution_count": 71,
     "metadata": {},
     "output_type": "execute_result"
    }
   ],
   "source": [
    "len(st)"
   ]
  },
  {
   "cell_type": "code",
   "execution_count": 66,
   "metadata": {},
   "outputs": [
    {
     "data": {
      "text/plain": [
       "-1"
      ]
     },
     "execution_count": 66,
     "metadata": {},
     "output_type": "execute_result"
    }
   ],
   "source": [
    "index"
   ]
  },
  {
   "cell_type": "code",
   "execution_count": 74,
   "metadata": {},
   "outputs": [
    {
     "data": {
      "text/plain": [
       "'Heo word'"
      ]
     },
     "execution_count": 74,
     "metadata": {},
     "output_type": "execute_result"
    }
   ],
   "source": [
    "st = 'Hello world'\n",
    "target = 'l'\n",
    "st_wo_t = ''\n",
    "\n",
    "# создание строки, в которой из строки st исключен символ target \n",
    "index = 0 \n",
    "while index < len(st):\n",
    "    cur = st[index]\n",
    "    index += 1\n",
    "    if cur == target:\n",
    "        continue # преждевременное окончание итерации цикла и переход к очередной проверке условия while\n",
    "    st_wo_t += cur\n",
    "    \n",
    "st_wo_t"
   ]
  },
  {
   "cell_type": "code",
   "execution_count": null,
   "metadata": {},
   "outputs": [],
   "source": [
    "# Пример использования \"вечного цикла\"\n",
    "while True: # вечный цикл\n",
    "    item = get_next_item() \n",
    "    if correct(item): # условие выхода из цикла\n",
    "        break \n",
    "    process_item(item) "
   ]
  },
  {
   "cell_type": "markdown",
   "metadata": {},
   "source": [
    "# >"
   ]
  },
  {
   "cell_type": "markdown",
   "metadata": {},
   "source": [
    "----"
   ]
  },
  {
   "cell_type": "markdown",
   "metadata": {},
   "source": [
    "## Цикл for <a class=\"anchor\" id=\"цикл-for\"></a>\n",
    "* [к оглавлению](#разделы)"
   ]
  },
  {
   "cell_type": "markdown",
   "metadata": {},
   "source": [
    "Синтаксис оператора цикла `for`:\n",
    "\n",
    "```python\n",
    "for expression in iterable: \n",
    "    for_suite \n",
    "else: \n",
    "    else_suite \n",
    "```\n",
    "\n",
    "* В качестве iterable может использоваться любой тип данных, допускающий выполнение итераций по нему, включая строки (где итерации выполняются по символам строки), списки, кортежи и другие типы коллекций языка Python. \n",
    "* блок `else` не обязательный\n",
    "* внутри цикла могут использоваться операторы `break` и `continue`\n",
    "* в практике программирования на Python циклы `for` используются намного чаще чем `while`"
   ]
  },
  {
   "cell_type": "code",
   "execution_count": 75,
   "metadata": {},
   "outputs": [
    {
     "name": "stdout",
     "output_type": "stream",
     "text": [
      "H\n",
      "e\n",
      "l\n",
      "l\n",
      "o\n",
      " \n",
      "w\n",
      "o\n",
      "r\n",
      "l\n",
      "d\n"
     ]
    }
   ],
   "source": [
    "st = 'Hello world'\n",
    "for symb in st:\n",
    "    print(symb)\n",
    "    \n",
    "    "
   ]
  },
  {
   "cell_type": "markdown",
   "metadata": {},
   "source": [
    "__Итерируемый тип данных__ - это такой тип, который может возвращать свои элементы по одному. Для возвращения элементов по одному у объекта итерируемого типа данных нужно запросить итератор. Любой объект, имеющий метод `__iter__()`, или любая последовательность (то есть объект, имеющий метод `__getitem__()`, принимающий целочисленный аргумент со значением от 0 и выше), является итерируемым и может предоставлять итератор.\n",
    "\n",
    "__Итератор__ - это объект, имеющий метод `__next__()`, который при каждом вызове возвращает очередной элемент и возбуждает __исключение StopIteration__ после исчерпания всех элементов. "
   ]
  },
  {
   "cell_type": "code",
   "execution_count": 80,
   "metadata": {},
   "outputs": [],
   "source": [
    "li1 = [1, 2, 3, 4]"
   ]
  },
  {
   "cell_type": "code",
   "execution_count": 81,
   "metadata": {},
   "outputs": [],
   "source": [
    "i1 = iter(li1)"
   ]
  },
  {
   "cell_type": "code",
   "execution_count": 82,
   "metadata": {},
   "outputs": [
    {
     "data": {
      "text/plain": [
       "list_iterator"
      ]
     },
     "execution_count": 82,
     "metadata": {},
     "output_type": "execute_result"
    }
   ],
   "source": [
    "type(i1)"
   ]
  },
  {
   "cell_type": "code",
   "execution_count": 83,
   "metadata": {
    "scrolled": true
   },
   "outputs": [
    {
     "data": {
      "text/plain": [
       "1"
      ]
     },
     "execution_count": 83,
     "metadata": {},
     "output_type": "execute_result"
    }
   ],
   "source": [
    "next(i1)"
   ]
  },
  {
   "cell_type": "code",
   "execution_count": 84,
   "metadata": {
    "scrolled": true
   },
   "outputs": [
    {
     "data": {
      "text/plain": [
       "2"
      ]
     },
     "execution_count": 84,
     "metadata": {},
     "output_type": "execute_result"
    }
   ],
   "source": [
    "next(i1)"
   ]
  },
  {
   "cell_type": "code",
   "execution_count": 85,
   "metadata": {},
   "outputs": [
    {
     "data": {
      "text/plain": [
       "3"
      ]
     },
     "execution_count": 85,
     "metadata": {},
     "output_type": "execute_result"
    }
   ],
   "source": [
    "next(i1)"
   ]
  },
  {
   "cell_type": "code",
   "execution_count": 86,
   "metadata": {},
   "outputs": [
    {
     "data": {
      "text/plain": [
       "4"
      ]
     },
     "execution_count": 86,
     "metadata": {},
     "output_type": "execute_result"
    }
   ],
   "source": [
    "next(i1)"
   ]
  },
  {
   "cell_type": "code",
   "execution_count": 87,
   "metadata": {},
   "outputs": [
    {
     "ename": "StopIteration",
     "evalue": "",
     "output_type": "error",
     "traceback": [
      "\u001b[1;31m---------------------------------------------------------------------------\u001b[0m",
      "\u001b[1;31mStopIteration\u001b[0m                             Traceback (most recent call last)",
      "\u001b[1;32m<ipython-input-87-cc9ef6da1ea7>\u001b[0m in \u001b[0;36m<module>\u001b[1;34m\u001b[0m\n\u001b[1;32m----> 1\u001b[1;33m \u001b[0mnext\u001b[0m\u001b[1;33m(\u001b[0m\u001b[0mi1\u001b[0m\u001b[1;33m)\u001b[0m\u001b[1;33m\u001b[0m\u001b[1;33m\u001b[0m\u001b[0m\n\u001b[0m",
      "\u001b[1;31mStopIteration\u001b[0m: "
     ]
    }
   ],
   "source": [
    "next(i1)"
   ]
  },
  {
   "cell_type": "code",
   "execution_count": null,
   "metadata": {},
   "outputs": [],
   "source": []
  },
  {
   "cell_type": "markdown",
   "metadata": {},
   "source": [
    "\n",
    "<center>         \n",
    "<b>Работа итерируемого типа данных и итератера</b>\n",
    "<br/>\n",
    "<br/>\n",
    "<b>Создание итерируемым объектом итератера</b>\n",
    "<img src=\"./img/iter0_v1.png\" alt=\"Работа итерируемого типа данных и итератера\" style=\"width: 300px;\"/>\n",
    "<b>Возвращение итератором 1го объекта</b>    \n",
    "<img src=\"./img/iter1_v1.png\" alt=\"Работа итерируемого типа данных и итератера\" style=\"width: 300px;\"/>\n",
    "<b>Возвращение итератором 2го объекта</b>    \n",
    "<img src=\"./img/iter2_v1.png\" alt=\"Работа итерируемого типа данных и итератера\" style=\"width: 300px;\"/>\n",
    "<b>Возвращение итератором 3го объекта</b>    \n",
    "<img src=\"./img/iter3_v1.png\" alt=\"Работа итерируемого типа данных и итератера\" style=\"width: 300px;\"/>\n",
    "<b>Возвращение итератором 4го объекта</b>    \n",
    "<img src=\"./img/iter4_v1.png\" alt=\"Работа итерируемого типа данных и итератера\" style=\"width: 300px;\"/>\n",
    "<b>Возвращение итератором исключительной ситуации StopIteration</b>    \n",
    "<img src=\"./img/iter5_v1.png\" alt=\"Работа итерируемого типа данных и итератера\" style=\"width: 300px;\"/>\n",
    "</center>"
   ]
  },
  {
   "cell_type": "markdown",
   "metadata": {},
   "source": [
    "Порядок, в котором возвращаются элементы, зависит от итерируемого объекта. \n",
    "* В случае списков и кортежей элементы обычно возвращаются в предопределенном порядке, начиная с первого элемента (находящегося в позиции с индексом 0).\n",
    "* Другие итераторы возвращают элементы в произвольном порядке - например, итераторы словарей и множеств."
   ]
  },
  {
   "cell_type": "markdown",
   "metadata": {},
   "source": [
    "В качестве выражения `expression` в\n",
    "```python\n",
    "for expression in iterable: \n",
    "    for_suite \n",
    "```\n",
    "обычно используется:\n",
    "* единственная переменная которая хранит очередной объект, возвращаемый итератором;\n",
    "* последовательность переменных, как правило, в форме кортежа. Если в качестве выражения expression используется кортеж или список, каждый элемент, возвращаемый итератором, распаковывается в элементы expression. \n",
    "\n",
    "Переменные, созданные в выражении `expression` цикла for ... in, **продолжают существовать после завершения цикла**. Как и любые локальные переменные, они прекращают свое существование после выхода из области видимости, включающей их. "
   ]
  },
  {
   "cell_type": "code",
   "execution_count": 88,
   "metadata": {},
   "outputs": [
    {
     "name": "stdout",
     "output_type": "stream",
     "text": [
      "8\n"
     ]
    }
   ],
   "source": [
    "product = 1 \n",
    "# расчет произведения всех элементов кортежа:\n",
    "for e in (1, 2, 4): \n",
    "    product *= e\n",
    "print(product) "
   ]
  },
  {
   "cell_type": "code",
   "execution_count": 89,
   "metadata": {},
   "outputs": [
    {
     "data": {
      "text/plain": [
       "4"
      ]
     },
     "execution_count": 89,
     "metadata": {},
     "output_type": "execute_result"
    }
   ],
   "source": [
    "e"
   ]
  },
  {
   "cell_type": "code",
   "execution_count": 78,
   "metadata": {},
   "outputs": [
    {
     "name": "stdout",
     "output_type": "stream",
     "text": [
      "8\n"
     ]
    }
   ],
   "source": [
    "product = 1 \n",
    "# расчет произведения всех элементов кортежа:\n",
    "# (полный аналог цикла for реализованный в цикле while):\n",
    "tu1 = (1, 2, 4)\n",
    "\n",
    "itr = iter(tu1) # создание итератора itr\n",
    "while True: \n",
    "    try: \n",
    "        e = next(itr) # получение у итератора очередного объекта\n",
    "        product *= e # тело цикла (см. цикл for)\n",
    "    except StopIteration: # обработка события StopIteration\n",
    "        break \n",
    "print(product) "
   ]
  },
  {
   "cell_type": "markdown",
   "metadata": {},
   "source": [
    "# >"
   ]
  },
  {
   "cell_type": "markdown",
   "metadata": {},
   "source": [
    "----"
   ]
  },
  {
   "cell_type": "markdown",
   "metadata": {},
   "source": [
    "# Функции range и enumerate <a class=\"anchor\" id=\"range-enumerate\"></a>\n",
    "* [к оглавлению](#разделы)\n",
    "\n",
    "Функция `range` возвращает целочисленный итератор. Способы обращения к функции `range`:\n",
    "\n",
    "* `range(stop)`\n",
    "\n",
    "С одним аргументом (stop) итератор представляет последовательность целых чисел от 0 до \n",
    "(stop - 1).\n",
    "\n",
    "* `range(start, stop)`\n",
    "\n",
    "С двумя аргументами (start, stop) - последовательность целых чисел от start до (stop - 1).\n",
    "\n",
    "* `range(start, stop, step)`\n",
    "\n",
    "С тремя аргументами -  последовательность целых чисел от start до (stop - 1) с шагом step.\n",
    "\n",
    "Функция `range` позволяет удобно реализовать обход целочисленной последовательности с помощью оператора `for`."
   ]
  },
  {
   "cell_type": "code",
   "execution_count": 90,
   "metadata": {},
   "outputs": [
    {
     "name": "stdout",
     "output_type": "stream",
     "text": [
      "0\n",
      "1\n",
      "2\n",
      "3\n"
     ]
    }
   ],
   "source": [
    "for i in range(4):\n",
    "    print(i)"
   ]
  },
  {
   "cell_type": "markdown",
   "metadata": {},
   "source": [
    "вместо:"
   ]
  },
  {
   "cell_type": "code",
   "execution_count": 81,
   "metadata": {},
   "outputs": [
    {
     "name": "stdout",
     "output_type": "stream",
     "text": [
      "0\n",
      "1\n",
      "2\n",
      "3\n"
     ]
    }
   ],
   "source": [
    "i = 0\n",
    "while i < 4:\n",
    "    print(i)\n",
    "    i += 1"
   ]
  },
  {
   "cell_type": "code",
   "execution_count": 91,
   "metadata": {},
   "outputs": [
    {
     "name": "stdout",
     "output_type": "stream",
     "text": [
      "3\n",
      "4\n",
      "5\n",
      "6\n"
     ]
    }
   ],
   "source": [
    "for i in range(3, 7):\n",
    "    print(i)"
   ]
  },
  {
   "cell_type": "code",
   "execution_count": 92,
   "metadata": {},
   "outputs": [
    {
     "name": "stdout",
     "output_type": "stream",
     "text": [
      "-3\n",
      "-2\n",
      "-1\n",
      "0\n",
      "1\n",
      "2\n"
     ]
    }
   ],
   "source": [
    "for i in range(-3, 3):\n",
    "    print(i)"
   ]
  },
  {
   "cell_type": "code",
   "execution_count": 93,
   "metadata": {},
   "outputs": [
    {
     "name": "stdout",
     "output_type": "stream",
     "text": [
      "-3\n",
      "-1\n",
      "1\n",
      "3\n"
     ]
    }
   ],
   "source": [
    "for i in range(-3, 5, 2):\n",
    "    print(i)"
   ]
  },
  {
   "cell_type": "markdown",
   "metadata": {},
   "source": [
    "Функция `enumerate` обычно используется в циклах `for ... in`, чтобы получить последовательность кортежей `(index, item)`, где значения индексов отсчитывается от 0 или от значения start; \n",
    "\n",
    "Синтаксис функции `enumerte`:\n",
    "\n",
    "* `enumerate(i)`\n",
    "генерируется последовательность кортежей `(index, item)`, где значения индексов отсчитывается от 0\n",
    "* `enumerate (i, start)`\n",
    "генерируется последовательность кортежей `(index, item)`, где значения индексов отсчитывается от значения start"
   ]
  },
  {
   "cell_type": "code",
   "execution_count": 95,
   "metadata": {},
   "outputs": [
    {
     "name": "stdout",
     "output_type": "stream",
     "text": [
      "Symbol 'H' has index 0\n",
      "Symbol 'e' has index 1\n",
      "Symbol 'l' has index 2\n",
      "Symbol 'l' has index 3\n",
      "Symbol 'o' has index 4\n",
      "Symbol ' ' has index 5\n",
      "Symbol 'w' has index 6\n",
      "Symbol 'o' has index 7\n",
      "Symbol 'r' has index 8\n",
      "Symbol 'l' has index 9\n",
      "Symbol 'd' has index 10\n"
     ]
    }
   ],
   "source": [
    "st = 'Hello world'\n",
    "for ind, symb in enumerate(st):\n",
    "    print(f\"Symbol '{symb}' has index {ind}\")"
   ]
  },
  {
   "cell_type": "code",
   "execution_count": 96,
   "metadata": {
    "scrolled": true
   },
   "outputs": [
    {
     "name": "stdout",
     "output_type": "stream",
     "text": [
      "Symbol 'H' has number 1\n",
      "Symbol 'e' has number 2\n",
      "Symbol 'l' has number 3\n",
      "Symbol 'l' has number 4\n",
      "Symbol 'o' has number 5\n",
      "Symbol ' ' has number 6\n",
      "Symbol 'w' has number 7\n",
      "Symbol 'o' has number 8\n",
      "Symbol 'r' has number 9\n",
      "Symbol 'l' has number 10\n",
      "Symbol 'd' has number 11\n"
     ]
    }
   ],
   "source": [
    "st = 'Hello world'\n",
    "for num, symb in enumerate(st, 1):\n",
    "    print(f\"Symbol '{symb}' has number {num}\")"
   ]
  },
  {
   "cell_type": "code",
   "execution_count": null,
   "metadata": {},
   "outputs": [],
   "source": []
  }
 ],
 "metadata": {
  "anaconda-cloud": {},
  "kernelspec": {
   "display_name": "Python 3",
   "language": "python",
   "name": "python3"
  },
  "language_info": {
   "codemirror_mode": {
    "name": "ipython",
    "version": 3
   },
   "file_extension": ".py",
   "mimetype": "text/x-python",
   "name": "python",
   "nbconvert_exporter": "python",
   "pygments_lexer": "ipython3",
   "version": "3.7.6"
  }
 },
 "nbformat": 4,
 "nbformat_minor": 1
}
