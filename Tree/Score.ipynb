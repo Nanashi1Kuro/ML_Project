{
 "cells": [
  {
   "cell_type": "markdown",
   "metadata": {},
   "source": [
    "Now we start with importing "
   ]
  },
  {
   "cell_type": "code",
   "execution_count": 280,
   "metadata": {
    "colab": {
     "base_uri": "https://localhost:8080/"
    },
    "id": "o7aEBZR2AOTX",
    "outputId": "98bdaf05-b44a-49b6-f478-c5f72dbdcbd2",
    "tags": []
   },
   "outputs": [],
   "source": [
    "import warnings\n",
    "warnings.filterwarnings(\"ignore\")\n",
    "\n",
    "import os\n",
    "import random\n",
    "import sys\n",
    "\n",
    "import matplotlib.pyplot as plt\n",
    "import pandas as pd\n",
    "import numpy as np\n",
    "import torch\n",
    "from torch import nn\n",
    "import torch.nn.functional as F\n",
    "from tqdm import tqdm\n",
    "\n",
    "from matplotlib import pyplot as plt\n",
    "from sklearn.preprocessing import LabelEncoder, StandardScaler, OneHotEncoder\n",
    "from sklearn.linear_model import LogisticRegression, LogisticRegressionCV\n",
    "from sklearn.model_selection import train_test_split, GridSearchCV\n",
    "from sklearn.tree import DecisionTreeClassifier\n",
    "from sklearn.metrics import roc_auc_score, roc_curve, confusion_matrix, precision_score, recall_score\n",
    "from catboost import CatBoostClassifier\n",
    "from sklearn.neural_network import MLPClassifier\n",
    "import seaborn as sns\n",
    "from sklearn.ensemble import RandomForestClassifier, GradientBoostingClassifier\n",
    "from scipy.stats import mode\n",
    "from sklearn.tree import DecisionTreeClassifier, plot_tree"
   ]
  },
  {
   "cell_type": "code",
   "execution_count": 281,
   "metadata": {
    "id": "zZrvQwmLAOTg",
    "tags": []
   },
   "outputs": [],
   "source": [
    "# init dataset\n",
    "df = pd.read_csv('./crx.csv')"
   ]
  },
  {
   "cell_type": "code",
   "execution_count": 282,
   "metadata": {
    "colab": {
     "base_uri": "https://localhost:8080/",
     "height": 221
    },
    "id": "kzr738RwNKQ9",
    "outputId": "5244fde3-d6ab-4bbd-ae9e-b6e54d1a1486",
    "tags": []
   },
   "outputs": [
    {
     "data": {
      "text/html": [
       "<div>\n",
       "<style scoped>\n",
       "    .dataframe tbody tr th:only-of-type {\n",
       "        vertical-align: middle;\n",
       "    }\n",
       "\n",
       "    .dataframe tbody tr th {\n",
       "        vertical-align: top;\n",
       "    }\n",
       "\n",
       "    .dataframe thead th {\n",
       "        text-align: right;\n",
       "    }\n",
       "</style>\n",
       "<table border=\"1\" class=\"dataframe\">\n",
       "  <thead>\n",
       "    <tr style=\"text-align: right;\">\n",
       "      <th></th>\n",
       "      <th>b</th>\n",
       "      <th>30.83</th>\n",
       "      <th>0</th>\n",
       "      <th>u</th>\n",
       "      <th>g</th>\n",
       "      <th>w</th>\n",
       "      <th>v</th>\n",
       "      <th>1.25</th>\n",
       "      <th>t</th>\n",
       "      <th>t.1</th>\n",
       "      <th>1</th>\n",
       "      <th>f</th>\n",
       "      <th>g.1</th>\n",
       "      <th>202</th>\n",
       "      <th>0.1</th>\n",
       "      <th>+</th>\n",
       "    </tr>\n",
       "  </thead>\n",
       "  <tbody>\n",
       "    <tr>\n",
       "      <th>0</th>\n",
       "      <td>a</td>\n",
       "      <td>58.67</td>\n",
       "      <td>4.460</td>\n",
       "      <td>u</td>\n",
       "      <td>g</td>\n",
       "      <td>q</td>\n",
       "      <td>h</td>\n",
       "      <td>3.04</td>\n",
       "      <td>t</td>\n",
       "      <td>t</td>\n",
       "      <td>6</td>\n",
       "      <td>f</td>\n",
       "      <td>g</td>\n",
       "      <td>43</td>\n",
       "      <td>560</td>\n",
       "      <td>+</td>\n",
       "    </tr>\n",
       "    <tr>\n",
       "      <th>1</th>\n",
       "      <td>a</td>\n",
       "      <td>24.5</td>\n",
       "      <td>0.500</td>\n",
       "      <td>u</td>\n",
       "      <td>g</td>\n",
       "      <td>q</td>\n",
       "      <td>h</td>\n",
       "      <td>1.50</td>\n",
       "      <td>t</td>\n",
       "      <td>f</td>\n",
       "      <td>0</td>\n",
       "      <td>f</td>\n",
       "      <td>g</td>\n",
       "      <td>280</td>\n",
       "      <td>824</td>\n",
       "      <td>+</td>\n",
       "    </tr>\n",
       "    <tr>\n",
       "      <th>2</th>\n",
       "      <td>b</td>\n",
       "      <td>27.83</td>\n",
       "      <td>1.540</td>\n",
       "      <td>u</td>\n",
       "      <td>g</td>\n",
       "      <td>w</td>\n",
       "      <td>v</td>\n",
       "      <td>3.75</td>\n",
       "      <td>t</td>\n",
       "      <td>t</td>\n",
       "      <td>5</td>\n",
       "      <td>t</td>\n",
       "      <td>g</td>\n",
       "      <td>100</td>\n",
       "      <td>3</td>\n",
       "      <td>+</td>\n",
       "    </tr>\n",
       "    <tr>\n",
       "      <th>3</th>\n",
       "      <td>b</td>\n",
       "      <td>20.17</td>\n",
       "      <td>5.625</td>\n",
       "      <td>u</td>\n",
       "      <td>g</td>\n",
       "      <td>w</td>\n",
       "      <td>v</td>\n",
       "      <td>1.71</td>\n",
       "      <td>t</td>\n",
       "      <td>f</td>\n",
       "      <td>0</td>\n",
       "      <td>f</td>\n",
       "      <td>s</td>\n",
       "      <td>120</td>\n",
       "      <td>0</td>\n",
       "      <td>+</td>\n",
       "    </tr>\n",
       "    <tr>\n",
       "      <th>4</th>\n",
       "      <td>b</td>\n",
       "      <td>32.08</td>\n",
       "      <td>4.000</td>\n",
       "      <td>u</td>\n",
       "      <td>g</td>\n",
       "      <td>m</td>\n",
       "      <td>v</td>\n",
       "      <td>2.50</td>\n",
       "      <td>t</td>\n",
       "      <td>f</td>\n",
       "      <td>0</td>\n",
       "      <td>t</td>\n",
       "      <td>g</td>\n",
       "      <td>360</td>\n",
       "      <td>0</td>\n",
       "      <td>+</td>\n",
       "    </tr>\n",
       "  </tbody>\n",
       "</table>\n",
       "</div>"
      ],
      "text/plain": [
       "   b  30.83      0  u  g  w  v  1.25  t t.1  1  f g.1  202  0.1  +\n",
       "0  a  58.67  4.460  u  g  q  h  3.04  t   t  6  f   g   43  560  +\n",
       "1  a   24.5  0.500  u  g  q  h  1.50  t   f  0  f   g  280  824  +\n",
       "2  b  27.83  1.540  u  g  w  v  3.75  t   t  5  t   g  100    3  +\n",
       "3  b  20.17  5.625  u  g  w  v  1.71  t   f  0  f   s  120    0  +\n",
       "4  b  32.08  4.000  u  g  m  v  2.50  t   f  0  t   g  360    0  +"
      ]
     },
     "execution_count": 282,
     "metadata": {},
     "output_type": "execute_result"
    }
   ],
   "source": [
    "df.head()"
   ]
  },
  {
   "cell_type": "code",
   "execution_count": 283,
   "metadata": {
    "tags": []
   },
   "outputs": [],
   "source": [
    "# adding header\n",
    "df.columns =['A1', 'A2', 'A3', 'A4', 'A5', 'A6', 'A7', \n",
    "               'A8', 'A9', 'A10', 'A11', 'A12', 'A13', 'A14',\n",
    "              'A15', 'A16']"
   ]
  },
  {
   "cell_type": "code",
   "execution_count": 284,
   "metadata": {
    "tags": []
   },
   "outputs": [
    {
     "data": {
      "text/html": [
       "<div>\n",
       "<style scoped>\n",
       "    .dataframe tbody tr th:only-of-type {\n",
       "        vertical-align: middle;\n",
       "    }\n",
       "\n",
       "    .dataframe tbody tr th {\n",
       "        vertical-align: top;\n",
       "    }\n",
       "\n",
       "    .dataframe thead th {\n",
       "        text-align: right;\n",
       "    }\n",
       "</style>\n",
       "<table border=\"1\" class=\"dataframe\">\n",
       "  <thead>\n",
       "    <tr style=\"text-align: right;\">\n",
       "      <th></th>\n",
       "      <th>A1</th>\n",
       "      <th>A2</th>\n",
       "      <th>A3</th>\n",
       "      <th>A4</th>\n",
       "      <th>A5</th>\n",
       "      <th>A6</th>\n",
       "      <th>A7</th>\n",
       "      <th>A8</th>\n",
       "      <th>A9</th>\n",
       "      <th>A10</th>\n",
       "      <th>A11</th>\n",
       "      <th>A12</th>\n",
       "      <th>A13</th>\n",
       "      <th>A14</th>\n",
       "      <th>A15</th>\n",
       "      <th>A16</th>\n",
       "    </tr>\n",
       "  </thead>\n",
       "  <tbody>\n",
       "    <tr>\n",
       "      <th>0</th>\n",
       "      <td>a</td>\n",
       "      <td>58.67</td>\n",
       "      <td>4.460</td>\n",
       "      <td>u</td>\n",
       "      <td>g</td>\n",
       "      <td>q</td>\n",
       "      <td>h</td>\n",
       "      <td>3.04</td>\n",
       "      <td>t</td>\n",
       "      <td>t</td>\n",
       "      <td>6</td>\n",
       "      <td>f</td>\n",
       "      <td>g</td>\n",
       "      <td>43</td>\n",
       "      <td>560</td>\n",
       "      <td>+</td>\n",
       "    </tr>\n",
       "    <tr>\n",
       "      <th>1</th>\n",
       "      <td>a</td>\n",
       "      <td>24.5</td>\n",
       "      <td>0.500</td>\n",
       "      <td>u</td>\n",
       "      <td>g</td>\n",
       "      <td>q</td>\n",
       "      <td>h</td>\n",
       "      <td>1.50</td>\n",
       "      <td>t</td>\n",
       "      <td>f</td>\n",
       "      <td>0</td>\n",
       "      <td>f</td>\n",
       "      <td>g</td>\n",
       "      <td>280</td>\n",
       "      <td>824</td>\n",
       "      <td>+</td>\n",
       "    </tr>\n",
       "    <tr>\n",
       "      <th>2</th>\n",
       "      <td>b</td>\n",
       "      <td>27.83</td>\n",
       "      <td>1.540</td>\n",
       "      <td>u</td>\n",
       "      <td>g</td>\n",
       "      <td>w</td>\n",
       "      <td>v</td>\n",
       "      <td>3.75</td>\n",
       "      <td>t</td>\n",
       "      <td>t</td>\n",
       "      <td>5</td>\n",
       "      <td>t</td>\n",
       "      <td>g</td>\n",
       "      <td>100</td>\n",
       "      <td>3</td>\n",
       "      <td>+</td>\n",
       "    </tr>\n",
       "    <tr>\n",
       "      <th>3</th>\n",
       "      <td>b</td>\n",
       "      <td>20.17</td>\n",
       "      <td>5.625</td>\n",
       "      <td>u</td>\n",
       "      <td>g</td>\n",
       "      <td>w</td>\n",
       "      <td>v</td>\n",
       "      <td>1.71</td>\n",
       "      <td>t</td>\n",
       "      <td>f</td>\n",
       "      <td>0</td>\n",
       "      <td>f</td>\n",
       "      <td>s</td>\n",
       "      <td>120</td>\n",
       "      <td>0</td>\n",
       "      <td>+</td>\n",
       "    </tr>\n",
       "    <tr>\n",
       "      <th>4</th>\n",
       "      <td>b</td>\n",
       "      <td>32.08</td>\n",
       "      <td>4.000</td>\n",
       "      <td>u</td>\n",
       "      <td>g</td>\n",
       "      <td>m</td>\n",
       "      <td>v</td>\n",
       "      <td>2.50</td>\n",
       "      <td>t</td>\n",
       "      <td>f</td>\n",
       "      <td>0</td>\n",
       "      <td>t</td>\n",
       "      <td>g</td>\n",
       "      <td>360</td>\n",
       "      <td>0</td>\n",
       "      <td>+</td>\n",
       "    </tr>\n",
       "  </tbody>\n",
       "</table>\n",
       "</div>"
      ],
      "text/plain": [
       "  A1     A2     A3 A4 A5 A6 A7    A8 A9 A10  A11 A12 A13  A14  A15 A16\n",
       "0  a  58.67  4.460  u  g  q  h  3.04  t   t    6   f   g   43  560   +\n",
       "1  a   24.5  0.500  u  g  q  h  1.50  t   f    0   f   g  280  824   +\n",
       "2  b  27.83  1.540  u  g  w  v  3.75  t   t    5   t   g  100    3   +\n",
       "3  b  20.17  5.625  u  g  w  v  1.71  t   f    0   f   s  120    0   +\n",
       "4  b  32.08  4.000  u  g  m  v  2.50  t   f    0   t   g  360    0   +"
      ]
     },
     "execution_count": 284,
     "metadata": {},
     "output_type": "execute_result"
    }
   ],
   "source": [
    "df.head()"
   ]
  },
  {
   "cell_type": "code",
   "execution_count": 285,
   "metadata": {
    "tags": []
   },
   "outputs": [],
   "source": [
    "#replace nan-value\n",
    "df = df.replace(to_replace='?',value=np.nan)"
   ]
  },
  {
   "cell_type": "code",
   "execution_count": 286,
   "metadata": {
    "tags": []
   },
   "outputs": [
    {
     "data": {
      "text/html": [
       "<div>\n",
       "<style scoped>\n",
       "    .dataframe tbody tr th:only-of-type {\n",
       "        vertical-align: middle;\n",
       "    }\n",
       "\n",
       "    .dataframe tbody tr th {\n",
       "        vertical-align: top;\n",
       "    }\n",
       "\n",
       "    .dataframe thead th {\n",
       "        text-align: right;\n",
       "    }\n",
       "</style>\n",
       "<table border=\"1\" class=\"dataframe\">\n",
       "  <thead>\n",
       "    <tr style=\"text-align: right;\">\n",
       "      <th></th>\n",
       "      <th>A1</th>\n",
       "      <th>A2</th>\n",
       "      <th>A3</th>\n",
       "      <th>A4</th>\n",
       "      <th>A5</th>\n",
       "      <th>A6</th>\n",
       "      <th>A7</th>\n",
       "      <th>A8</th>\n",
       "      <th>A9</th>\n",
       "      <th>A10</th>\n",
       "      <th>A11</th>\n",
       "      <th>A12</th>\n",
       "      <th>A13</th>\n",
       "      <th>A14</th>\n",
       "      <th>A15</th>\n",
       "      <th>A16</th>\n",
       "    </tr>\n",
       "  </thead>\n",
       "  <tbody>\n",
       "    <tr>\n",
       "      <th>0</th>\n",
       "      <td>a</td>\n",
       "      <td>58.67</td>\n",
       "      <td>4.460</td>\n",
       "      <td>u</td>\n",
       "      <td>g</td>\n",
       "      <td>q</td>\n",
       "      <td>h</td>\n",
       "      <td>3.04</td>\n",
       "      <td>t</td>\n",
       "      <td>t</td>\n",
       "      <td>6</td>\n",
       "      <td>f</td>\n",
       "      <td>g</td>\n",
       "      <td>43</td>\n",
       "      <td>560</td>\n",
       "      <td>+</td>\n",
       "    </tr>\n",
       "    <tr>\n",
       "      <th>1</th>\n",
       "      <td>a</td>\n",
       "      <td>24.5</td>\n",
       "      <td>0.500</td>\n",
       "      <td>u</td>\n",
       "      <td>g</td>\n",
       "      <td>q</td>\n",
       "      <td>h</td>\n",
       "      <td>1.50</td>\n",
       "      <td>t</td>\n",
       "      <td>f</td>\n",
       "      <td>0</td>\n",
       "      <td>f</td>\n",
       "      <td>g</td>\n",
       "      <td>280</td>\n",
       "      <td>824</td>\n",
       "      <td>+</td>\n",
       "    </tr>\n",
       "    <tr>\n",
       "      <th>2</th>\n",
       "      <td>b</td>\n",
       "      <td>27.83</td>\n",
       "      <td>1.540</td>\n",
       "      <td>u</td>\n",
       "      <td>g</td>\n",
       "      <td>w</td>\n",
       "      <td>v</td>\n",
       "      <td>3.75</td>\n",
       "      <td>t</td>\n",
       "      <td>t</td>\n",
       "      <td>5</td>\n",
       "      <td>t</td>\n",
       "      <td>g</td>\n",
       "      <td>100</td>\n",
       "      <td>3</td>\n",
       "      <td>+</td>\n",
       "    </tr>\n",
       "    <tr>\n",
       "      <th>3</th>\n",
       "      <td>b</td>\n",
       "      <td>20.17</td>\n",
       "      <td>5.625</td>\n",
       "      <td>u</td>\n",
       "      <td>g</td>\n",
       "      <td>w</td>\n",
       "      <td>v</td>\n",
       "      <td>1.71</td>\n",
       "      <td>t</td>\n",
       "      <td>f</td>\n",
       "      <td>0</td>\n",
       "      <td>f</td>\n",
       "      <td>s</td>\n",
       "      <td>120</td>\n",
       "      <td>0</td>\n",
       "      <td>+</td>\n",
       "    </tr>\n",
       "    <tr>\n",
       "      <th>4</th>\n",
       "      <td>b</td>\n",
       "      <td>32.08</td>\n",
       "      <td>4.000</td>\n",
       "      <td>u</td>\n",
       "      <td>g</td>\n",
       "      <td>m</td>\n",
       "      <td>v</td>\n",
       "      <td>2.50</td>\n",
       "      <td>t</td>\n",
       "      <td>f</td>\n",
       "      <td>0</td>\n",
       "      <td>t</td>\n",
       "      <td>g</td>\n",
       "      <td>360</td>\n",
       "      <td>0</td>\n",
       "      <td>+</td>\n",
       "    </tr>\n",
       "  </tbody>\n",
       "</table>\n",
       "</div>"
      ],
      "text/plain": [
       "  A1     A2     A3 A4 A5 A6 A7    A8 A9 A10  A11 A12 A13  A14  A15 A16\n",
       "0  a  58.67  4.460  u  g  q  h  3.04  t   t    6   f   g   43  560   +\n",
       "1  a   24.5  0.500  u  g  q  h  1.50  t   f    0   f   g  280  824   +\n",
       "2  b  27.83  1.540  u  g  w  v  3.75  t   t    5   t   g  100    3   +\n",
       "3  b  20.17  5.625  u  g  w  v  1.71  t   f    0   f   s  120    0   +\n",
       "4  b  32.08  4.000  u  g  m  v  2.50  t   f    0   t   g  360    0   +"
      ]
     },
     "execution_count": 286,
     "metadata": {},
     "output_type": "execute_result"
    }
   ],
   "source": [
    "df.head()"
   ]
  },
  {
   "cell_type": "code",
   "execution_count": 287,
   "metadata": {
    "tags": []
   },
   "outputs": [
    {
     "data": {
      "text/plain": [
       "A1       2\n",
       "A2     348\n",
       "A3     215\n",
       "A4       3\n",
       "A5       3\n",
       "A6      14\n",
       "A7       9\n",
       "A8     132\n",
       "A9       2\n",
       "A10      2\n",
       "A11     23\n",
       "A12      2\n",
       "A13      3\n",
       "A14    169\n",
       "A15    240\n",
       "A16      2\n",
       "dtype: int64"
      ]
     },
     "execution_count": 287,
     "metadata": {},
     "output_type": "execute_result"
    }
   ],
   "source": [
    "df.nunique()"
   ]
  },
  {
   "cell_type": "code",
   "execution_count": 288,
   "metadata": {
    "tags": []
   },
   "outputs": [
    {
     "data": {
      "text/plain": [
       "0      560.0\n",
       "1      824.0\n",
       "2        3.0\n",
       "3        0.0\n",
       "4        0.0\n",
       "       ...  \n",
       "684      0.0\n",
       "685    394.0\n",
       "686      1.0\n",
       "687    750.0\n",
       "688      0.0\n",
       "Name: A15, Length: 689, dtype: float64"
      ]
     },
     "execution_count": 288,
     "metadata": {},
     "output_type": "execute_result"
    }
   ],
   "source": [
    "#convert number value which were object\n",
    "df['A2'] = pd.to_numeric(df['A2'], errors='coerce')\n",
    "df['A15'].astype('float')"
   ]
  },
  {
   "cell_type": "code",
   "execution_count": 289,
   "metadata": {
    "tags": []
   },
   "outputs": [
    {
     "name": "stdout",
     "output_type": "stream",
     "text": [
      "<class 'pandas.core.frame.DataFrame'>\n",
      "RangeIndex: 689 entries, 0 to 688\n",
      "Data columns (total 16 columns):\n",
      " #   Column  Non-Null Count  Dtype  \n",
      "---  ------  --------------  -----  \n",
      " 0   A1      677 non-null    object \n",
      " 1   A2      677 non-null    float64\n",
      " 2   A3      689 non-null    float64\n",
      " 3   A4      683 non-null    object \n",
      " 4   A5      683 non-null    object \n",
      " 5   A6      680 non-null    object \n",
      " 6   A7      680 non-null    object \n",
      " 7   A8      689 non-null    float64\n",
      " 8   A9      689 non-null    object \n",
      " 9   A10     689 non-null    object \n",
      " 10  A11     689 non-null    int64  \n",
      " 11  A12     689 non-null    object \n",
      " 12  A13     689 non-null    object \n",
      " 13  A14     676 non-null    object \n",
      " 14  A15     689 non-null    int64  \n",
      " 15  A16     689 non-null    object \n",
      "dtypes: float64(3), int64(2), object(11)\n",
      "memory usage: 86.2+ KB\n"
     ]
    }
   ],
   "source": [
    "df.info()"
   ]
  },
  {
   "cell_type": "code",
   "execution_count": 290,
   "metadata": {
    "tags": []
   },
   "outputs": [],
   "source": [
    "#let's get rid of nan\n",
    "df2=df.dropna()\n",
    "df2=df.dropna(axis=0)"
   ]
  },
  {
   "cell_type": "code",
   "execution_count": 291,
   "metadata": {
    "tags": []
   },
   "outputs": [],
   "source": [
    "#Now we convert our 'a' and 'b' to a numbers\n",
    "from sklearn.preprocessing import LabelEncoder\n",
    "\n",
    "le = LabelEncoder()\n",
    "\n",
    "for col in df.columns:\n",
    "    if df2[col].dtypes=='object':\n",
    "        df2[col]=le.fit_transform(df2[col])"
   ]
  },
  {
   "cell_type": "code",
   "execution_count": 292,
   "metadata": {
    "tags": []
   },
   "outputs": [
    {
     "name": "stdout",
     "output_type": "stream",
     "text": [
      "<class 'pandas.core.frame.DataFrame'>\n",
      "Int64Index: 652 entries, 0 to 688\n",
      "Data columns (total 16 columns):\n",
      " #   Column  Non-Null Count  Dtype  \n",
      "---  ------  --------------  -----  \n",
      " 0   A1      652 non-null    int64  \n",
      " 1   A2      652 non-null    float64\n",
      " 2   A3      652 non-null    float64\n",
      " 3   A4      652 non-null    int64  \n",
      " 4   A5      652 non-null    int64  \n",
      " 5   A6      652 non-null    int64  \n",
      " 6   A7      652 non-null    int64  \n",
      " 7   A8      652 non-null    float64\n",
      " 8   A9      652 non-null    int64  \n",
      " 9   A10     652 non-null    int64  \n",
      " 10  A11     652 non-null    int64  \n",
      " 11  A12     652 non-null    int64  \n",
      " 12  A13     652 non-null    int64  \n",
      " 13  A14     652 non-null    int64  \n",
      " 14  A15     652 non-null    int64  \n",
      " 15  A16     652 non-null    int64  \n",
      "dtypes: float64(3), int64(13)\n",
      "memory usage: 86.6 KB\n"
     ]
    }
   ],
   "source": [
    "df2.info()"
   ]
  },
  {
   "cell_type": "code",
   "execution_count": 293,
   "metadata": {
    "colab": {
     "base_uri": "https://localhost:8080/",
     "height": 313
    },
    "id": "lCCADc-ZHB1_",
    "outputId": "d5b3c3f6-3936-42f2-9d21-7588c619596b",
    "tags": []
   },
   "outputs": [
    {
     "data": {
      "text/html": [
       "<div>\n",
       "<style scoped>\n",
       "    .dataframe tbody tr th:only-of-type {\n",
       "        vertical-align: middle;\n",
       "    }\n",
       "\n",
       "    .dataframe tbody tr th {\n",
       "        vertical-align: top;\n",
       "    }\n",
       "\n",
       "    .dataframe thead th {\n",
       "        text-align: right;\n",
       "    }\n",
       "</style>\n",
       "<table border=\"1\" class=\"dataframe\">\n",
       "  <thead>\n",
       "    <tr style=\"text-align: right;\">\n",
       "      <th></th>\n",
       "      <th>A1</th>\n",
       "      <th>A2</th>\n",
       "      <th>A3</th>\n",
       "      <th>A4</th>\n",
       "      <th>A5</th>\n",
       "      <th>A6</th>\n",
       "      <th>A7</th>\n",
       "      <th>A8</th>\n",
       "      <th>A9</th>\n",
       "      <th>A10</th>\n",
       "      <th>A11</th>\n",
       "      <th>A12</th>\n",
       "      <th>A13</th>\n",
       "      <th>A14</th>\n",
       "      <th>A15</th>\n",
       "      <th>A16</th>\n",
       "    </tr>\n",
       "  </thead>\n",
       "  <tbody>\n",
       "    <tr>\n",
       "      <th>count</th>\n",
       "      <td>652.000000</td>\n",
       "      <td>652.000000</td>\n",
       "      <td>652.000000</td>\n",
       "      <td>652.000000</td>\n",
       "      <td>652.000000</td>\n",
       "      <td>652.000000</td>\n",
       "      <td>652.000000</td>\n",
       "      <td>652.000000</td>\n",
       "      <td>652.000000</td>\n",
       "      <td>652.000000</td>\n",
       "      <td>652.000000</td>\n",
       "      <td>652.000000</td>\n",
       "      <td>652.000000</td>\n",
       "      <td>652.000000</td>\n",
       "      <td>652.000000</td>\n",
       "      <td>652.000000</td>\n",
       "    </tr>\n",
       "    <tr>\n",
       "      <th>mean</th>\n",
       "      <td>0.688650</td>\n",
       "      <td>31.504847</td>\n",
       "      <td>4.836940</td>\n",
       "      <td>1.230061</td>\n",
       "      <td>0.469325</td>\n",
       "      <td>5.763804</td>\n",
       "      <td>5.081288</td>\n",
       "      <td>2.245821</td>\n",
       "      <td>0.533742</td>\n",
       "      <td>0.438650</td>\n",
       "      <td>2.504601</td>\n",
       "      <td>0.463190</td>\n",
       "      <td>0.165644</td>\n",
       "      <td>51.940184</td>\n",
       "      <td>1015.315951</td>\n",
       "      <td>0.547546</td>\n",
       "    </tr>\n",
       "    <tr>\n",
       "      <th>std</th>\n",
       "      <td>0.463401</td>\n",
       "      <td>11.847327</td>\n",
       "      <td>5.027369</td>\n",
       "      <td>0.428427</td>\n",
       "      <td>0.846413</td>\n",
       "      <td>4.292605</td>\n",
       "      <td>2.495062</td>\n",
       "      <td>3.373483</td>\n",
       "      <td>0.499243</td>\n",
       "      <td>0.496603</td>\n",
       "      <td>4.971962</td>\n",
       "      <td>0.499026</td>\n",
       "      <td>0.548858</td>\n",
       "      <td>50.875358</td>\n",
       "      <td>5257.161359</td>\n",
       "      <td>0.498116</td>\n",
       "    </tr>\n",
       "    <tr>\n",
       "      <th>min</th>\n",
       "      <td>0.000000</td>\n",
       "      <td>13.750000</td>\n",
       "      <td>0.000000</td>\n",
       "      <td>0.000000</td>\n",
       "      <td>0.000000</td>\n",
       "      <td>0.000000</td>\n",
       "      <td>0.000000</td>\n",
       "      <td>0.000000</td>\n",
       "      <td>0.000000</td>\n",
       "      <td>0.000000</td>\n",
       "      <td>0.000000</td>\n",
       "      <td>0.000000</td>\n",
       "      <td>0.000000</td>\n",
       "      <td>0.000000</td>\n",
       "      <td>0.000000</td>\n",
       "      <td>0.000000</td>\n",
       "    </tr>\n",
       "    <tr>\n",
       "      <th>25%</th>\n",
       "      <td>0.000000</td>\n",
       "      <td>22.580000</td>\n",
       "      <td>1.040000</td>\n",
       "      <td>1.000000</td>\n",
       "      <td>0.000000</td>\n",
       "      <td>1.000000</td>\n",
       "      <td>3.000000</td>\n",
       "      <td>0.165000</td>\n",
       "      <td>0.000000</td>\n",
       "      <td>0.000000</td>\n",
       "      <td>0.000000</td>\n",
       "      <td>0.000000</td>\n",
       "      <td>0.000000</td>\n",
       "      <td>3.750000</td>\n",
       "      <td>0.000000</td>\n",
       "      <td>0.000000</td>\n",
       "    </tr>\n",
       "    <tr>\n",
       "      <th>50%</th>\n",
       "      <td>1.000000</td>\n",
       "      <td>28.375000</td>\n",
       "      <td>2.855000</td>\n",
       "      <td>1.000000</td>\n",
       "      <td>0.000000</td>\n",
       "      <td>6.000000</td>\n",
       "      <td>7.000000</td>\n",
       "      <td>1.000000</td>\n",
       "      <td>1.000000</td>\n",
       "      <td>0.000000</td>\n",
       "      <td>0.000000</td>\n",
       "      <td>0.000000</td>\n",
       "      <td>0.000000</td>\n",
       "      <td>39.000000</td>\n",
       "      <td>5.000000</td>\n",
       "      <td>1.000000</td>\n",
       "    </tr>\n",
       "    <tr>\n",
       "      <th>75%</th>\n",
       "      <td>1.000000</td>\n",
       "      <td>38.250000</td>\n",
       "      <td>7.500000</td>\n",
       "      <td>1.000000</td>\n",
       "      <td>0.000000</td>\n",
       "      <td>10.000000</td>\n",
       "      <td>7.000000</td>\n",
       "      <td>2.625000</td>\n",
       "      <td>1.000000</td>\n",
       "      <td>1.000000</td>\n",
       "      <td>3.000000</td>\n",
       "      <td>1.000000</td>\n",
       "      <td>0.000000</td>\n",
       "      <td>86.000000</td>\n",
       "      <td>400.000000</td>\n",
       "      <td>1.000000</td>\n",
       "    </tr>\n",
       "    <tr>\n",
       "      <th>max</th>\n",
       "      <td>1.000000</td>\n",
       "      <td>76.750000</td>\n",
       "      <td>28.000000</td>\n",
       "      <td>2.000000</td>\n",
       "      <td>2.000000</td>\n",
       "      <td>13.000000</td>\n",
       "      <td>8.000000</td>\n",
       "      <td>28.500000</td>\n",
       "      <td>1.000000</td>\n",
       "      <td>1.000000</td>\n",
       "      <td>67.000000</td>\n",
       "      <td>1.000000</td>\n",
       "      <td>2.000000</td>\n",
       "      <td>162.000000</td>\n",
       "      <td>100000.000000</td>\n",
       "      <td>1.000000</td>\n",
       "    </tr>\n",
       "  </tbody>\n",
       "</table>\n",
       "</div>"
      ],
      "text/plain": [
       "               A1          A2          A3          A4          A5          A6  \\\n",
       "count  652.000000  652.000000  652.000000  652.000000  652.000000  652.000000   \n",
       "mean     0.688650   31.504847    4.836940    1.230061    0.469325    5.763804   \n",
       "std      0.463401   11.847327    5.027369    0.428427    0.846413    4.292605   \n",
       "min      0.000000   13.750000    0.000000    0.000000    0.000000    0.000000   \n",
       "25%      0.000000   22.580000    1.040000    1.000000    0.000000    1.000000   \n",
       "50%      1.000000   28.375000    2.855000    1.000000    0.000000    6.000000   \n",
       "75%      1.000000   38.250000    7.500000    1.000000    0.000000   10.000000   \n",
       "max      1.000000   76.750000   28.000000    2.000000    2.000000   13.000000   \n",
       "\n",
       "               A7          A8          A9         A10         A11         A12  \\\n",
       "count  652.000000  652.000000  652.000000  652.000000  652.000000  652.000000   \n",
       "mean     5.081288    2.245821    0.533742    0.438650    2.504601    0.463190   \n",
       "std      2.495062    3.373483    0.499243    0.496603    4.971962    0.499026   \n",
       "min      0.000000    0.000000    0.000000    0.000000    0.000000    0.000000   \n",
       "25%      3.000000    0.165000    0.000000    0.000000    0.000000    0.000000   \n",
       "50%      7.000000    1.000000    1.000000    0.000000    0.000000    0.000000   \n",
       "75%      7.000000    2.625000    1.000000    1.000000    3.000000    1.000000   \n",
       "max      8.000000   28.500000    1.000000    1.000000   67.000000    1.000000   \n",
       "\n",
       "              A13         A14            A15         A16  \n",
       "count  652.000000  652.000000     652.000000  652.000000  \n",
       "mean     0.165644   51.940184    1015.315951    0.547546  \n",
       "std      0.548858   50.875358    5257.161359    0.498116  \n",
       "min      0.000000    0.000000       0.000000    0.000000  \n",
       "25%      0.000000    3.750000       0.000000    0.000000  \n",
       "50%      0.000000   39.000000       5.000000    1.000000  \n",
       "75%      0.000000   86.000000     400.000000    1.000000  \n",
       "max      2.000000  162.000000  100000.000000    1.000000  "
      ]
     },
     "execution_count": 293,
     "metadata": {},
     "output_type": "execute_result"
    }
   ],
   "source": [
    "df2.describe()"
   ]
  },
  {
   "cell_type": "code",
   "execution_count": 294,
   "metadata": {
    "id": "IrencvYMAOTi",
    "tags": []
   },
   "outputs": [
    {
     "data": {
      "image/png": "[encoded data removed]",
      "text/plain": [
       "<Figure size 640x480 with 2 Axes>"
      ]
     },
     "metadata": {},
     "output_type": "display_data"
    }
   ],
   "source": [
    "correlation_matrix = df2.corr().round(2)\n",
    "sns.heatmap(data=correlation_matrix, annot=True)\n",
    "plt.show()"
   ]
  },
  {
   "cell_type": "code",
   "execution_count": 295,
   "metadata": {
    "tags": []
   },
   "outputs": [],
   "source": [
    "X = pd.get_dummies(df2.drop('A16', axis=1))\n",
    "y = df2['A16']"
   ]
  },
  {
   "cell_type": "code",
   "execution_count": 296,
   "metadata": {
    "colab": {
     "base_uri": "https://localhost:8080/"
    },
    "id": "fHpidGkC4QJN",
    "outputId": "8c9276b3-464d-4105-dd59-776a0396d059",
    "tags": []
   },
   "outputs": [
    {
     "data": {
      "text/plain": [
       "0    0\n",
       "1    0\n",
       "2    0\n",
       "3    0\n",
       "4    0\n",
       "Name: A16, dtype: int64"
      ]
     },
     "execution_count": 296,
     "metadata": {},
     "output_type": "execute_result"
    }
   ],
   "source": [
    "y.head()"
   ]
  },
  {
   "cell_type": "code",
   "execution_count": 297,
   "metadata": {
    "colab": {
     "base_uri": "https://localhost:8080/",
     "height": 221
    },
    "id": "V0em7WyS4cph",
    "outputId": "a7ceca7c-5e09-40fc-b523-167041a69d13",
    "tags": []
   },
   "outputs": [
    {
     "data": {
      "text/html": [
       "<div>\n",
       "<style scoped>\n",
       "    .dataframe tbody tr th:only-of-type {\n",
       "        vertical-align: middle;\n",
       "    }\n",
       "\n",
       "    .dataframe tbody tr th {\n",
       "        vertical-align: top;\n",
       "    }\n",
       "\n",
       "    .dataframe thead th {\n",
       "        text-align: right;\n",
       "    }\n",
       "</style>\n",
       "<table border=\"1\" class=\"dataframe\">\n",
       "  <thead>\n",
       "    <tr style=\"text-align: right;\">\n",
       "      <th></th>\n",
       "      <th>A1</th>\n",
       "      <th>A2</th>\n",
       "      <th>A3</th>\n",
       "      <th>A4</th>\n",
       "      <th>A5</th>\n",
       "      <th>A6</th>\n",
       "      <th>A7</th>\n",
       "      <th>A8</th>\n",
       "      <th>A9</th>\n",
       "      <th>A10</th>\n",
       "      <th>A11</th>\n",
       "      <th>A12</th>\n",
       "      <th>A13</th>\n",
       "      <th>A14</th>\n",
       "      <th>A15</th>\n",
       "      <th>A16</th>\n",
       "    </tr>\n",
       "  </thead>\n",
       "  <tbody>\n",
       "    <tr>\n",
       "      <th>0</th>\n",
       "      <td>0</td>\n",
       "      <td>58.67</td>\n",
       "      <td>4.460</td>\n",
       "      <td>1</td>\n",
       "      <td>0</td>\n",
       "      <td>10</td>\n",
       "      <td>3</td>\n",
       "      <td>3.04</td>\n",
       "      <td>1</td>\n",
       "      <td>1</td>\n",
       "      <td>6</td>\n",
       "      <td>0</td>\n",
       "      <td>0</td>\n",
       "      <td>112</td>\n",
       "      <td>560</td>\n",
       "      <td>0</td>\n",
       "    </tr>\n",
       "    <tr>\n",
       "      <th>1</th>\n",
       "      <td>0</td>\n",
       "      <td>24.50</td>\n",
       "      <td>0.500</td>\n",
       "      <td>1</td>\n",
       "      <td>0</td>\n",
       "      <td>10</td>\n",
       "      <td>3</td>\n",
       "      <td>1.50</td>\n",
       "      <td>1</td>\n",
       "      <td>0</td>\n",
       "      <td>0</td>\n",
       "      <td>0</td>\n",
       "      <td>0</td>\n",
       "      <td>70</td>\n",
       "      <td>824</td>\n",
       "      <td>0</td>\n",
       "    </tr>\n",
       "    <tr>\n",
       "      <th>2</th>\n",
       "      <td>1</td>\n",
       "      <td>27.83</td>\n",
       "      <td>1.540</td>\n",
       "      <td>1</td>\n",
       "      <td>0</td>\n",
       "      <td>12</td>\n",
       "      <td>7</td>\n",
       "      <td>3.75</td>\n",
       "      <td>1</td>\n",
       "      <td>1</td>\n",
       "      <td>5</td>\n",
       "      <td>1</td>\n",
       "      <td>0</td>\n",
       "      <td>1</td>\n",
       "      <td>3</td>\n",
       "      <td>0</td>\n",
       "    </tr>\n",
       "    <tr>\n",
       "      <th>3</th>\n",
       "      <td>1</td>\n",
       "      <td>20.17</td>\n",
       "      <td>5.625</td>\n",
       "      <td>1</td>\n",
       "      <td>0</td>\n",
       "      <td>12</td>\n",
       "      <td>7</td>\n",
       "      <td>1.71</td>\n",
       "      <td>1</td>\n",
       "      <td>0</td>\n",
       "      <td>0</td>\n",
       "      <td>0</td>\n",
       "      <td>2</td>\n",
       "      <td>7</td>\n",
       "      <td>0</td>\n",
       "      <td>0</td>\n",
       "    </tr>\n",
       "    <tr>\n",
       "      <th>4</th>\n",
       "      <td>1</td>\n",
       "      <td>32.08</td>\n",
       "      <td>4.000</td>\n",
       "      <td>1</td>\n",
       "      <td>0</td>\n",
       "      <td>9</td>\n",
       "      <td>7</td>\n",
       "      <td>2.50</td>\n",
       "      <td>1</td>\n",
       "      <td>0</td>\n",
       "      <td>0</td>\n",
       "      <td>1</td>\n",
       "      <td>0</td>\n",
       "      <td>92</td>\n",
       "      <td>0</td>\n",
       "      <td>0</td>\n",
       "    </tr>\n",
       "  </tbody>\n",
       "</table>\n",
       "</div>"
      ],
      "text/plain": [
       "   A1     A2     A3  A4  A5  A6  A7    A8  A9  A10  A11  A12  A13  A14  A15  \\\n",
       "0   0  58.67  4.460   1   0  10   3  3.04   1    1    6    0    0  112  560   \n",
       "1   0  24.50  0.500   1   0  10   3  1.50   1    0    0    0    0   70  824   \n",
       "2   1  27.83  1.540   1   0  12   7  3.75   1    1    5    1    0    1    3   \n",
       "3   1  20.17  5.625   1   0  12   7  1.71   1    0    0    0    2    7    0   \n",
       "4   1  32.08  4.000   1   0   9   7  2.50   1    0    0    1    0   92    0   \n",
       "\n",
       "   A16  \n",
       "0    0  \n",
       "1    0  \n",
       "2    0  \n",
       "3    0  \n",
       "4    0  "
      ]
     },
     "execution_count": 297,
     "metadata": {},
     "output_type": "execute_result"
    }
   ],
   "source": [
    "df2.head()"
   ]
  },
  {
   "cell_type": "code",
   "execution_count": 298,
   "metadata": {
    "colab": {
     "base_uri": "https://localhost:8080/"
    },
    "id": "A7CUrbew7p4l",
    "outputId": "fd166ac4-5e4f-4edc-da94-bb04607d5fbb",
    "tags": []
   },
   "outputs": [
    {
     "data": {
      "text/plain": [
       "((521, 15), (521,), (131, 15), (131,))"
      ]
     },
     "execution_count": 298,
     "metadata": {},
     "output_type": "execute_result"
    }
   ],
   "source": [
    "from sklearn.model_selection import train_test_split\n",
    "\n",
    "X_train, X_test, y_train, y_test = train_test_split(X, y, test_size=0.2, random_state=42, stratify=y)\n",
    "X_train.shape, y_train.shape, X_test.shape, y_test.shape"
   ]
  },
  {
   "cell_type": "code",
   "execution_count": 299,
   "metadata": {
    "tags": []
   },
   "outputs": [
    {
     "name": "stdout",
     "output_type": "stream",
     "text": [
      "Learning rate set to 0.007799\n",
      "0:\tlearn: 0.6857955\ttotal: 1.77ms\tremaining: 1.77s\n",
      "1:\tlearn: 0.6784071\ttotal: 3.49ms\tremaining: 1.74s\n",
      "2:\tlearn: 0.6711230\ttotal: 4.8ms\tremaining: 1.59s\n",
      "3:\tlearn: 0.6636088\ttotal: 6.29ms\tremaining: 1.57s\n",
      "4:\tlearn: 0.6571350\ttotal: 7.13ms\tremaining: 1.42s\n",
      "5:\tlearn: 0.6498979\ttotal: 8.37ms\tremaining: 1.39s\n",
      "6:\tlearn: 0.6433439\ttotal: 9.63ms\tremaining: 1.36s\n",
      "7:\tlearn: 0.6359269\ttotal: 10.8ms\tremaining: 1.34s\n",
      "8:\tlearn: 0.6290288\ttotal: 11.9ms\tremaining: 1.31s\n",
      "9:\tlearn: 0.6223318\ttotal: 12.9ms\tremaining: 1.28s\n",
      "10:\tlearn: 0.6162752\ttotal: 13.9ms\tremaining: 1.25s\n",
      "11:\tlearn: 0.6095317\ttotal: 14.9ms\tremaining: 1.23s\n",
      "12:\tlearn: 0.6032451\ttotal: 15.7ms\tremaining: 1.19s\n",
      "13:\tlearn: 0.5976626\ttotal: 16.5ms\tremaining: 1.16s\n",
      "14:\tlearn: 0.5900097\ttotal: 17.4ms\tremaining: 1.14s\n",
      "15:\tlearn: 0.5846432\ttotal: 18.3ms\tremaining: 1.12s\n",
      "16:\tlearn: 0.5784028\ttotal: 19.1ms\tremaining: 1.11s\n",
      "17:\tlearn: 0.5728126\ttotal: 20ms\tremaining: 1.09s\n",
      "18:\tlearn: 0.5672608\ttotal: 20.9ms\tremaining: 1.08s\n",
      "19:\tlearn: 0.5626597\ttotal: 21.8ms\tremaining: 1.07s\n",
      "20:\tlearn: 0.5571885\ttotal: 22.6ms\tremaining: 1.05s\n",
      "21:\tlearn: 0.5515901\ttotal: 23.5ms\tremaining: 1.04s\n",
      "22:\tlearn: 0.5466535\ttotal: 24.3ms\tremaining: 1.03s\n",
      "23:\tlearn: 0.5418131\ttotal: 25.1ms\tremaining: 1.02s\n",
      "24:\tlearn: 0.5365929\ttotal: 26ms\tremaining: 1.01s\n",
      "25:\tlearn: 0.5315581\ttotal: 26.7ms\tremaining: 999ms\n",
      "26:\tlearn: 0.5268888\ttotal: 27.6ms\tremaining: 995ms\n",
      "27:\tlearn: 0.5223367\ttotal: 28.4ms\tremaining: 986ms\n",
      "28:\tlearn: 0.5176265\ttotal: 29.4ms\tremaining: 984ms\n",
      "29:\tlearn: 0.5127205\ttotal: 30.3ms\tremaining: 981ms\n",
      "30:\tlearn: 0.5085594\ttotal: 31.3ms\tremaining: 977ms\n",
      "31:\tlearn: 0.5040053\ttotal: 32.2ms\tremaining: 973ms\n",
      "32:\tlearn: 0.5001697\ttotal: 32.7ms\tremaining: 959ms\n",
      "33:\tlearn: 0.4960769\ttotal: 33.6ms\tremaining: 955ms\n",
      "34:\tlearn: 0.4918848\ttotal: 34.5ms\tremaining: 952ms\n",
      "35:\tlearn: 0.4874300\ttotal: 35.4ms\tremaining: 949ms\n",
      "36:\tlearn: 0.4833844\ttotal: 36.3ms\tremaining: 946ms\n",
      "37:\tlearn: 0.4794406\ttotal: 37.2ms\tremaining: 942ms\n",
      "38:\tlearn: 0.4755109\ttotal: 38ms\tremaining: 937ms\n",
      "39:\tlearn: 0.4715091\ttotal: 38.9ms\tremaining: 934ms\n",
      "40:\tlearn: 0.4683280\ttotal: 39.8ms\tremaining: 931ms\n",
      "41:\tlearn: 0.4643715\ttotal: 40.7ms\tremaining: 928ms\n",
      "42:\tlearn: 0.4610690\ttotal: 41.3ms\tremaining: 919ms\n",
      "43:\tlearn: 0.4579215\ttotal: 42.2ms\tremaining: 916ms\n",
      "44:\tlearn: 0.4544446\ttotal: 43.1ms\tremaining: 915ms\n",
      "45:\tlearn: 0.4508865\ttotal: 44ms\tremaining: 912ms\n",
      "46:\tlearn: 0.4472619\ttotal: 44.8ms\tremaining: 909ms\n",
      "47:\tlearn: 0.4443843\ttotal: 45.7ms\tremaining: 907ms\n",
      "48:\tlearn: 0.4415573\ttotal: 46.6ms\tremaining: 904ms\n",
      "49:\tlearn: 0.4382203\ttotal: 47.5ms\tremaining: 902ms\n",
      "50:\tlearn: 0.4354220\ttotal: 48.4ms\tremaining: 902ms\n",
      "51:\tlearn: 0.4327914\ttotal: 49.3ms\tremaining: 899ms\n",
      "52:\tlearn: 0.4294486\ttotal: 50.2ms\tremaining: 897ms\n",
      "53:\tlearn: 0.4266120\ttotal: 51.1ms\tremaining: 896ms\n",
      "54:\tlearn: 0.4237248\ttotal: 52ms\tremaining: 893ms\n",
      "55:\tlearn: 0.4208828\ttotal: 52.9ms\tremaining: 891ms\n",
      "56:\tlearn: 0.4184246\ttotal: 53.8ms\tremaining: 890ms\n",
      "57:\tlearn: 0.4160060\ttotal: 54.7ms\tremaining: 888ms\n",
      "58:\tlearn: 0.4133070\ttotal: 55.6ms\tremaining: 887ms\n",
      "59:\tlearn: 0.4108612\ttotal: 56.6ms\tremaining: 886ms\n",
      "60:\tlearn: 0.4087027\ttotal: 57.5ms\tremaining: 886ms\n",
      "61:\tlearn: 0.4063712\ttotal: 58.3ms\tremaining: 882ms\n",
      "62:\tlearn: 0.4037549\ttotal: 59.6ms\tremaining: 887ms\n",
      "63:\tlearn: 0.4019610\ttotal: 60.4ms\tremaining: 884ms\n",
      "64:\tlearn: 0.3995262\ttotal: 61.6ms\tremaining: 886ms\n",
      "65:\tlearn: 0.3974770\ttotal: 62.2ms\tremaining: 880ms\n",
      "66:\tlearn: 0.3959323\ttotal: 62.6ms\tremaining: 872ms\n",
      "67:\tlearn: 0.3936210\ttotal: 63.5ms\tremaining: 870ms\n",
      "68:\tlearn: 0.3913141\ttotal: 64.4ms\tremaining: 868ms\n",
      "69:\tlearn: 0.3893636\ttotal: 65.2ms\tremaining: 867ms\n",
      "70:\tlearn: 0.3871840\ttotal: 66.3ms\tremaining: 867ms\n",
      "71:\tlearn: 0.3852951\ttotal: 67.3ms\tremaining: 867ms\n",
      "72:\tlearn: 0.3834918\ttotal: 68.1ms\tremaining: 865ms\n",
      "73:\tlearn: 0.3815790\ttotal: 69.3ms\tremaining: 867ms\n",
      "74:\tlearn: 0.3793615\ttotal: 70.3ms\tremaining: 868ms\n",
      "75:\tlearn: 0.3773443\ttotal: 71.5ms\tremaining: 870ms\n",
      "76:\tlearn: 0.3760962\ttotal: 72.1ms\tremaining: 864ms\n",
      "77:\tlearn: 0.3738216\ttotal: 73.8ms\tremaining: 872ms\n",
      "78:\tlearn: 0.3719349\ttotal: 75.6ms\tremaining: 881ms\n",
      "79:\tlearn: 0.3700875\ttotal: 76.6ms\tremaining: 881ms\n",
      "80:\tlearn: 0.3682140\ttotal: 77.6ms\tremaining: 881ms\n",
      "81:\tlearn: 0.3663476\ttotal: 78.5ms\tremaining: 879ms\n",
      "82:\tlearn: 0.3652500\ttotal: 79ms\tremaining: 873ms\n",
      "83:\tlearn: 0.3629688\ttotal: 80ms\tremaining: 873ms\n",
      "84:\tlearn: 0.3608159\ttotal: 81.4ms\tremaining: 876ms\n",
      "85:\tlearn: 0.3594204\ttotal: 82.9ms\tremaining: 881ms\n",
      "86:\tlearn: 0.3575825\ttotal: 84ms\tremaining: 882ms\n",
      "87:\tlearn: 0.3558773\ttotal: 84.7ms\tremaining: 878ms\n",
      "88:\tlearn: 0.3541300\ttotal: 85.6ms\tremaining: 876ms\n",
      "89:\tlearn: 0.3525245\ttotal: 86.7ms\tremaining: 877ms\n",
      "90:\tlearn: 0.3508053\ttotal: 87.6ms\tremaining: 875ms\n",
      "91:\tlearn: 0.3492405\ttotal: 88.6ms\tremaining: 874ms\n",
      "92:\tlearn: 0.3474750\ttotal: 89.5ms\tremaining: 873ms\n",
      "93:\tlearn: 0.3465942\ttotal: 90.4ms\tremaining: 872ms\n",
      "94:\tlearn: 0.3453369\ttotal: 91.3ms\tremaining: 870ms\n",
      "95:\tlearn: 0.3438165\ttotal: 92.1ms\tremaining: 867ms\n",
      "96:\tlearn: 0.3420975\ttotal: 93ms\tremaining: 866ms\n",
      "97:\tlearn: 0.3408138\ttotal: 93.9ms\tremaining: 864ms\n",
      "98:\tlearn: 0.3394029\ttotal: 94.8ms\tremaining: 863ms\n",
      "99:\tlearn: 0.3376970\ttotal: 95.7ms\tremaining: 861ms\n",
      "100:\tlearn: 0.3362344\ttotal: 96.9ms\tremaining: 863ms\n",
      "101:\tlearn: 0.3349291\ttotal: 98.4ms\tremaining: 867ms\n",
      "102:\tlearn: 0.3336778\ttotal: 99.5ms\tremaining: 866ms\n",
      "103:\tlearn: 0.3320588\ttotal: 100ms\tremaining: 865ms\n",
      "104:\tlearn: 0.3304365\ttotal: 101ms\tremaining: 864ms\n",
      "105:\tlearn: 0.3292366\ttotal: 103ms\tremaining: 865ms\n",
      "106:\tlearn: 0.3281021\ttotal: 104ms\tremaining: 865ms\n",
      "107:\tlearn: 0.3266377\ttotal: 104ms\tremaining: 862ms\n",
      "108:\tlearn: 0.3255618\ttotal: 105ms\tremaining: 860ms\n",
      "109:\tlearn: 0.3241993\ttotal: 106ms\tremaining: 857ms\n",
      "110:\tlearn: 0.3232159\ttotal: 107ms\tremaining: 855ms\n",
      "111:\tlearn: 0.3219827\ttotal: 108ms\tremaining: 853ms\n",
      "112:\tlearn: 0.3211254\ttotal: 108ms\tremaining: 851ms\n",
      "113:\tlearn: 0.3200001\ttotal: 109ms\tremaining: 848ms\n",
      "114:\tlearn: 0.3187546\ttotal: 110ms\tremaining: 847ms\n",
      "115:\tlearn: 0.3175543\ttotal: 111ms\tremaining: 845ms\n",
      "116:\tlearn: 0.3163966\ttotal: 112ms\tremaining: 843ms\n",
      "117:\tlearn: 0.3150925\ttotal: 113ms\tremaining: 842ms\n",
      "118:\tlearn: 0.3139615\ttotal: 114ms\tremaining: 841ms\n",
      "119:\tlearn: 0.3125014\ttotal: 114ms\tremaining: 839ms\n",
      "120:\tlearn: 0.3109895\ttotal: 115ms\tremaining: 837ms\n",
      "121:\tlearn: 0.3099232\ttotal: 116ms\tremaining: 835ms\n",
      "122:\tlearn: 0.3090547\ttotal: 117ms\tremaining: 835ms\n",
      "123:\tlearn: 0.3085837\ttotal: 117ms\tremaining: 830ms\n",
      "124:\tlearn: 0.3080381\ttotal: 118ms\tremaining: 826ms\n",
      "125:\tlearn: 0.3069631\ttotal: 119ms\tremaining: 825ms\n",
      "126:\tlearn: 0.3058866\ttotal: 120ms\tremaining: 823ms\n",
      "127:\tlearn: 0.3046279\ttotal: 121ms\tremaining: 823ms\n",
      "128:\tlearn: 0.3037687\ttotal: 122ms\tremaining: 821ms\n",
      "129:\tlearn: 0.3028938\ttotal: 122ms\tremaining: 819ms\n",
      "130:\tlearn: 0.3021227\ttotal: 123ms\tremaining: 818ms\n",
      "131:\tlearn: 0.3010436\ttotal: 124ms\tremaining: 816ms\n",
      "132:\tlearn: 0.2998574\ttotal: 125ms\tremaining: 814ms\n",
      "133:\tlearn: 0.2988882\ttotal: 126ms\tremaining: 812ms\n",
      "134:\tlearn: 0.2981299\ttotal: 126ms\tremaining: 810ms\n",
      "135:\tlearn: 0.2975563\ttotal: 129ms\tremaining: 817ms\n",
      "136:\tlearn: 0.2962476\ttotal: 129ms\tremaining: 815ms\n",
      "137:\tlearn: 0.2952284\ttotal: 130ms\tremaining: 814ms\n",
      "138:\tlearn: 0.2945360\ttotal: 132ms\tremaining: 820ms\n",
      "139:\tlearn: 0.2936783\ttotal: 133ms\tremaining: 819ms\n",
      "140:\tlearn: 0.2930471\ttotal: 134ms\tremaining: 817ms\n",
      "141:\tlearn: 0.2921247\ttotal: 135ms\tremaining: 817ms\n",
      "142:\tlearn: 0.2912695\ttotal: 136ms\tremaining: 815ms\n",
      "143:\tlearn: 0.2903233\ttotal: 137ms\tremaining: 814ms\n",
      "144:\tlearn: 0.2898252\ttotal: 138ms\tremaining: 812ms\n",
      "145:\tlearn: 0.2888095\ttotal: 139ms\tremaining: 810ms\n",
      "146:\tlearn: 0.2877713\ttotal: 139ms\tremaining: 809ms\n",
      "147:\tlearn: 0.2871223\ttotal: 140ms\tremaining: 807ms\n",
      "148:\tlearn: 0.2861613\ttotal: 141ms\tremaining: 805ms\n",
      "149:\tlearn: 0.2853833\ttotal: 142ms\tremaining: 804ms\n",
      "150:\tlearn: 0.2844001\ttotal: 143ms\tremaining: 802ms\n",
      "151:\tlearn: 0.2835035\ttotal: 144ms\tremaining: 801ms\n",
      "152:\tlearn: 0.2823418\ttotal: 144ms\tremaining: 799ms\n",
      "153:\tlearn: 0.2818973\ttotal: 145ms\tremaining: 797ms\n",
      "154:\tlearn: 0.2810198\ttotal: 146ms\tremaining: 796ms\n",
      "155:\tlearn: 0.2801786\ttotal: 147ms\tremaining: 795ms\n",
      "156:\tlearn: 0.2793546\ttotal: 148ms\tremaining: 793ms\n",
      "157:\tlearn: 0.2787947\ttotal: 149ms\tremaining: 792ms\n",
      "158:\tlearn: 0.2781878\ttotal: 149ms\tremaining: 790ms\n",
      "159:\tlearn: 0.2774239\ttotal: 150ms\tremaining: 789ms\n",
      "160:\tlearn: 0.2771253\ttotal: 151ms\tremaining: 788ms\n",
      "161:\tlearn: 0.2762392\ttotal: 152ms\tremaining: 787ms\n",
      "162:\tlearn: 0.2758554\ttotal: 153ms\tremaining: 785ms\n",
      "163:\tlearn: 0.2754050\ttotal: 154ms\tremaining: 784ms\n",
      "164:\tlearn: 0.2745032\ttotal: 155ms\tremaining: 783ms\n",
      "165:\tlearn: 0.2738809\ttotal: 156ms\tremaining: 782ms\n",
      "166:\tlearn: 0.2733648\ttotal: 156ms\tremaining: 780ms\n",
      "167:\tlearn: 0.2730142\ttotal: 157ms\tremaining: 779ms\n",
      "168:\tlearn: 0.2723301\ttotal: 158ms\tremaining: 777ms\n",
      "169:\tlearn: 0.2716796\ttotal: 159ms\tremaining: 776ms\n",
      "170:\tlearn: 0.2707430\ttotal: 160ms\tremaining: 774ms\n",
      "171:\tlearn: 0.2701265\ttotal: 160ms\tremaining: 773ms\n",
      "172:\tlearn: 0.2692694\ttotal: 161ms\tremaining: 771ms\n",
      "173:\tlearn: 0.2684570\ttotal: 162ms\tremaining: 770ms\n",
      "174:\tlearn: 0.2680189\ttotal: 163ms\tremaining: 768ms\n",
      "175:\tlearn: 0.2672141\ttotal: 164ms\tremaining: 767ms\n",
      "176:\tlearn: 0.2666641\ttotal: 165ms\tremaining: 765ms\n",
      "177:\tlearn: 0.2660049\ttotal: 166ms\tremaining: 765ms\n",
      "178:\tlearn: 0.2652619\ttotal: 166ms\tremaining: 764ms\n",
      "179:\tlearn: 0.2645847\ttotal: 167ms\tremaining: 762ms\n",
      "180:\tlearn: 0.2638745\ttotal: 168ms\tremaining: 761ms\n",
      "181:\tlearn: 0.2634560\ttotal: 169ms\tremaining: 759ms\n",
      "182:\tlearn: 0.2629147\ttotal: 170ms\tremaining: 758ms\n",
      "183:\tlearn: 0.2625481\ttotal: 171ms\tremaining: 756ms\n",
      "184:\tlearn: 0.2621559\ttotal: 171ms\tremaining: 755ms\n",
      "185:\tlearn: 0.2616912\ttotal: 172ms\tremaining: 753ms\n",
      "186:\tlearn: 0.2612051\ttotal: 173ms\tremaining: 752ms\n",
      "187:\tlearn: 0.2606157\ttotal: 174ms\tremaining: 751ms\n",
      "188:\tlearn: 0.2600658\ttotal: 175ms\tremaining: 749ms\n",
      "189:\tlearn: 0.2593453\ttotal: 175ms\tremaining: 748ms\n",
      "190:\tlearn: 0.2587971\ttotal: 178ms\tremaining: 753ms\n",
      "191:\tlearn: 0.2582853\ttotal: 179ms\tremaining: 752ms\n",
      "192:\tlearn: 0.2577464\ttotal: 179ms\tremaining: 750ms\n",
      "193:\tlearn: 0.2572562\ttotal: 180ms\tremaining: 749ms\n",
      "194:\tlearn: 0.2570378\ttotal: 181ms\tremaining: 748ms\n",
      "195:\tlearn: 0.2565269\ttotal: 182ms\tremaining: 747ms\n",
      "196:\tlearn: 0.2560847\ttotal: 183ms\tremaining: 744ms\n",
      "197:\tlearn: 0.2555870\ttotal: 183ms\tremaining: 743ms\n",
      "198:\tlearn: 0.2550235\ttotal: 184ms\tremaining: 742ms\n",
      "199:\tlearn: 0.2544914\ttotal: 185ms\tremaining: 740ms\n",
      "200:\tlearn: 0.2539660\ttotal: 186ms\tremaining: 739ms\n",
      "201:\tlearn: 0.2533930\ttotal: 187ms\tremaining: 737ms\n",
      "202:\tlearn: 0.2528904\ttotal: 188ms\tremaining: 737ms\n",
      "203:\tlearn: 0.2524005\ttotal: 189ms\tremaining: 737ms\n",
      "204:\tlearn: 0.2518128\ttotal: 190ms\tremaining: 736ms\n",
      "205:\tlearn: 0.2511117\ttotal: 191ms\tremaining: 735ms\n",
      "206:\tlearn: 0.2506794\ttotal: 191ms\tremaining: 734ms\n",
      "207:\tlearn: 0.2503394\ttotal: 192ms\tremaining: 733ms\n",
      "208:\tlearn: 0.2498118\ttotal: 193ms\tremaining: 731ms\n",
      "209:\tlearn: 0.2494987\ttotal: 194ms\tremaining: 730ms\n",
      "210:\tlearn: 0.2490143\ttotal: 196ms\tremaining: 731ms\n",
      "211:\tlearn: 0.2484760\ttotal: 197ms\tremaining: 731ms\n",
      "212:\tlearn: 0.2481225\ttotal: 198ms\tremaining: 730ms\n",
      "213:\tlearn: 0.2472282\ttotal: 198ms\tremaining: 729ms\n",
      "214:\tlearn: 0.2468780\ttotal: 199ms\tremaining: 727ms\n",
      "215:\tlearn: 0.2465411\ttotal: 200ms\tremaining: 726ms\n",
      "216:\tlearn: 0.2461545\ttotal: 201ms\tremaining: 725ms\n",
      "217:\tlearn: 0.2458014\ttotal: 202ms\tremaining: 723ms\n",
      "218:\tlearn: 0.2453248\ttotal: 202ms\tremaining: 722ms\n",
      "219:\tlearn: 0.2449553\ttotal: 203ms\tremaining: 721ms\n",
      "220:\tlearn: 0.2444004\ttotal: 204ms\tremaining: 719ms\n",
      "221:\tlearn: 0.2436353\ttotal: 205ms\tremaining: 718ms\n",
      "222:\tlearn: 0.2431070\ttotal: 206ms\tremaining: 717ms\n",
      "223:\tlearn: 0.2425542\ttotal: 207ms\tremaining: 715ms\n",
      "224:\tlearn: 0.2422676\ttotal: 207ms\tremaining: 714ms\n",
      "225:\tlearn: 0.2415037\ttotal: 208ms\tremaining: 712ms\n",
      "226:\tlearn: 0.2409227\ttotal: 209ms\tremaining: 711ms\n",
      "227:\tlearn: 0.2405468\ttotal: 210ms\tremaining: 710ms\n",
      "228:\tlearn: 0.2402304\ttotal: 211ms\tremaining: 709ms\n",
      "229:\tlearn: 0.2396131\ttotal: 211ms\tremaining: 708ms\n",
      "230:\tlearn: 0.2392456\ttotal: 212ms\tremaining: 706ms\n",
      "231:\tlearn: 0.2388033\ttotal: 213ms\tremaining: 705ms\n",
      "232:\tlearn: 0.2383861\ttotal: 214ms\tremaining: 704ms\n",
      "233:\tlearn: 0.2380670\ttotal: 215ms\tremaining: 703ms\n",
      "234:\tlearn: 0.2376288\ttotal: 216ms\tremaining: 702ms\n",
      "235:\tlearn: 0.2372183\ttotal: 216ms\tremaining: 701ms\n",
      "236:\tlearn: 0.2365741\ttotal: 217ms\tremaining: 700ms\n",
      "237:\tlearn: 0.2360916\ttotal: 218ms\tremaining: 699ms\n",
      "238:\tlearn: 0.2355699\ttotal: 219ms\tremaining: 697ms\n",
      "239:\tlearn: 0.2349818\ttotal: 220ms\tremaining: 697ms\n",
      "240:\tlearn: 0.2345688\ttotal: 221ms\tremaining: 695ms\n",
      "241:\tlearn: 0.2341960\ttotal: 222ms\tremaining: 694ms\n",
      "242:\tlearn: 0.2337330\ttotal: 223ms\tremaining: 693ms\n",
      "243:\tlearn: 0.2333033\ttotal: 224ms\tremaining: 693ms\n",
      "244:\tlearn: 0.2326310\ttotal: 224ms\tremaining: 692ms\n",
      "245:\tlearn: 0.2320165\ttotal: 225ms\tremaining: 691ms\n",
      "246:\tlearn: 0.2316003\ttotal: 226ms\tremaining: 690ms\n",
      "247:\tlearn: 0.2313660\ttotal: 227ms\tremaining: 689ms\n",
      "248:\tlearn: 0.2310050\ttotal: 228ms\tremaining: 689ms\n",
      "249:\tlearn: 0.2305537\ttotal: 230ms\tremaining: 689ms\n",
      "250:\tlearn: 0.2301670\ttotal: 231ms\tremaining: 689ms\n",
      "251:\tlearn: 0.2296712\ttotal: 232ms\tremaining: 689ms\n",
      "252:\tlearn: 0.2291553\ttotal: 233ms\tremaining: 689ms\n",
      "253:\tlearn: 0.2291241\ttotal: 234ms\tremaining: 687ms\n",
      "254:\tlearn: 0.2289083\ttotal: 235ms\tremaining: 685ms\n",
      "255:\tlearn: 0.2283111\ttotal: 236ms\tremaining: 684ms\n",
      "256:\tlearn: 0.2281200\ttotal: 236ms\tremaining: 683ms\n",
      "257:\tlearn: 0.2276964\ttotal: 237ms\tremaining: 682ms\n",
      "258:\tlearn: 0.2271875\ttotal: 238ms\tremaining: 681ms\n",
      "259:\tlearn: 0.2268131\ttotal: 239ms\tremaining: 681ms\n",
      "260:\tlearn: 0.2263643\ttotal: 240ms\tremaining: 680ms\n",
      "261:\tlearn: 0.2260802\ttotal: 241ms\tremaining: 680ms\n",
      "262:\tlearn: 0.2255786\ttotal: 242ms\tremaining: 679ms\n",
      "263:\tlearn: 0.2252701\ttotal: 243ms\tremaining: 678ms\n",
      "264:\tlearn: 0.2247998\ttotal: 244ms\tremaining: 678ms\n",
      "265:\tlearn: 0.2245358\ttotal: 245ms\tremaining: 677ms\n",
      "266:\tlearn: 0.2240060\ttotal: 246ms\tremaining: 675ms\n",
      "267:\tlearn: 0.2235086\ttotal: 247ms\tremaining: 674ms\n",
      "268:\tlearn: 0.2231269\ttotal: 248ms\tremaining: 673ms\n",
      "269:\tlearn: 0.2227737\ttotal: 248ms\tremaining: 672ms\n",
      "270:\tlearn: 0.2220417\ttotal: 249ms\tremaining: 670ms\n",
      "271:\tlearn: 0.2217408\ttotal: 250ms\tremaining: 669ms\n",
      "272:\tlearn: 0.2211330\ttotal: 251ms\tremaining: 668ms\n",
      "273:\tlearn: 0.2208970\ttotal: 252ms\tremaining: 667ms\n",
      "274:\tlearn: 0.2204414\ttotal: 253ms\tremaining: 666ms\n",
      "275:\tlearn: 0.2200204\ttotal: 253ms\tremaining: 665ms\n",
      "276:\tlearn: 0.2196787\ttotal: 254ms\tremaining: 664ms\n",
      "277:\tlearn: 0.2192900\ttotal: 255ms\tremaining: 662ms\n",
      "278:\tlearn: 0.2192611\ttotal: 256ms\tremaining: 660ms\n",
      "279:\tlearn: 0.2190995\ttotal: 256ms\tremaining: 659ms\n",
      "280:\tlearn: 0.2185173\ttotal: 257ms\tremaining: 658ms\n",
      "281:\tlearn: 0.2182030\ttotal: 258ms\tremaining: 657ms\n",
      "282:\tlearn: 0.2177921\ttotal: 259ms\tremaining: 656ms\n",
      "283:\tlearn: 0.2174895\ttotal: 260ms\tremaining: 655ms\n",
      "284:\tlearn: 0.2172179\ttotal: 260ms\tremaining: 654ms\n",
      "285:\tlearn: 0.2170122\ttotal: 261ms\tremaining: 652ms\n",
      "286:\tlearn: 0.2169945\ttotal: 262ms\tremaining: 650ms\n",
      "287:\tlearn: 0.2164896\ttotal: 262ms\tremaining: 649ms\n",
      "288:\tlearn: 0.2162205\ttotal: 263ms\tremaining: 648ms\n",
      "289:\tlearn: 0.2157894\ttotal: 264ms\tremaining: 646ms\n",
      "290:\tlearn: 0.2154872\ttotal: 265ms\tremaining: 645ms\n",
      "291:\tlearn: 0.2151773\ttotal: 266ms\tremaining: 644ms\n",
      "292:\tlearn: 0.2145606\ttotal: 266ms\tremaining: 643ms\n",
      "293:\tlearn: 0.2141839\ttotal: 267ms\tremaining: 642ms\n",
      "294:\tlearn: 0.2136948\ttotal: 268ms\tremaining: 641ms\n",
      "295:\tlearn: 0.2134881\ttotal: 269ms\tremaining: 640ms\n",
      "296:\tlearn: 0.2130104\ttotal: 270ms\tremaining: 638ms\n",
      "297:\tlearn: 0.2124966\ttotal: 270ms\tremaining: 637ms\n",
      "298:\tlearn: 0.2121955\ttotal: 271ms\tremaining: 636ms\n",
      "299:\tlearn: 0.2121327\ttotal: 272ms\tremaining: 634ms\n",
      "300:\tlearn: 0.2116043\ttotal: 273ms\tremaining: 633ms\n",
      "301:\tlearn: 0.2111731\ttotal: 273ms\tremaining: 632ms\n",
      "302:\tlearn: 0.2109718\ttotal: 274ms\tremaining: 631ms\n",
      "303:\tlearn: 0.2108120\ttotal: 275ms\tremaining: 630ms\n",
      "304:\tlearn: 0.2105293\ttotal: 276ms\tremaining: 628ms\n",
      "305:\tlearn: 0.2104755\ttotal: 276ms\tremaining: 627ms\n",
      "306:\tlearn: 0.2101604\ttotal: 278ms\tremaining: 627ms\n",
      "307:\tlearn: 0.2098522\ttotal: 279ms\tremaining: 626ms\n",
      "308:\tlearn: 0.2095038\ttotal: 280ms\tremaining: 625ms\n",
      "309:\tlearn: 0.2092642\ttotal: 280ms\tremaining: 624ms\n",
      "310:\tlearn: 0.2089739\ttotal: 281ms\tremaining: 623ms\n",
      "311:\tlearn: 0.2088833\ttotal: 282ms\tremaining: 623ms\n",
      "312:\tlearn: 0.2085355\ttotal: 283ms\tremaining: 622ms\n",
      "313:\tlearn: 0.2082666\ttotal: 284ms\tremaining: 621ms\n",
      "314:\tlearn: 0.2080761\ttotal: 285ms\tremaining: 619ms\n",
      "315:\tlearn: 0.2078446\ttotal: 286ms\tremaining: 619ms\n",
      "316:\tlearn: 0.2077340\ttotal: 291ms\tremaining: 628ms\n",
      "317:\tlearn: 0.2074384\ttotal: 293ms\tremaining: 627ms\n",
      "318:\tlearn: 0.2071181\ttotal: 293ms\tremaining: 626ms\n",
      "319:\tlearn: 0.2067982\ttotal: 295ms\tremaining: 626ms\n",
      "320:\tlearn: 0.2064602\ttotal: 296ms\tremaining: 626ms\n",
      "321:\tlearn: 0.2062779\ttotal: 297ms\tremaining: 625ms\n",
      "322:\tlearn: 0.2060652\ttotal: 298ms\tremaining: 624ms\n",
      "323:\tlearn: 0.2058205\ttotal: 299ms\tremaining: 623ms\n",
      "324:\tlearn: 0.2054679\ttotal: 299ms\tremaining: 622ms\n",
      "325:\tlearn: 0.2053806\ttotal: 300ms\tremaining: 621ms\n",
      "326:\tlearn: 0.2051660\ttotal: 302ms\tremaining: 621ms\n",
      "327:\tlearn: 0.2049191\ttotal: 303ms\tremaining: 621ms\n",
      "328:\tlearn: 0.2042644\ttotal: 304ms\tremaining: 620ms\n",
      "329:\tlearn: 0.2038715\ttotal: 305ms\tremaining: 619ms\n",
      "330:\tlearn: 0.2032958\ttotal: 306ms\tremaining: 618ms\n",
      "331:\tlearn: 0.2031105\ttotal: 307ms\tremaining: 617ms\n",
      "332:\tlearn: 0.2030509\ttotal: 307ms\tremaining: 616ms\n",
      "333:\tlearn: 0.2029419\ttotal: 308ms\tremaining: 615ms\n",
      "334:\tlearn: 0.2027061\ttotal: 309ms\tremaining: 614ms\n",
      "335:\tlearn: 0.2025473\ttotal: 310ms\tremaining: 613ms\n",
      "336:\tlearn: 0.2022330\ttotal: 311ms\tremaining: 612ms\n",
      "337:\tlearn: 0.2020102\ttotal: 312ms\tremaining: 611ms\n",
      "338:\tlearn: 0.2018376\ttotal: 313ms\tremaining: 609ms\n",
      "339:\tlearn: 0.2016854\ttotal: 313ms\tremaining: 608ms\n",
      "340:\tlearn: 0.2013297\ttotal: 314ms\tremaining: 608ms\n",
      "341:\tlearn: 0.2010446\ttotal: 315ms\tremaining: 607ms\n",
      "342:\tlearn: 0.2008988\ttotal: 316ms\tremaining: 606ms\n",
      "343:\tlearn: 0.2005015\ttotal: 317ms\tremaining: 605ms\n",
      "344:\tlearn: 0.2002262\ttotal: 318ms\tremaining: 604ms\n",
      "345:\tlearn: 0.1998428\ttotal: 319ms\tremaining: 603ms\n",
      "346:\tlearn: 0.1993750\ttotal: 320ms\tremaining: 602ms\n",
      "347:\tlearn: 0.1989221\ttotal: 321ms\tremaining: 601ms\n",
      "348:\tlearn: 0.1984171\ttotal: 322ms\tremaining: 600ms\n",
      "349:\tlearn: 0.1978875\ttotal: 323ms\tremaining: 600ms\n",
      "350:\tlearn: 0.1977871\ttotal: 324ms\tremaining: 598ms\n",
      "351:\tlearn: 0.1975556\ttotal: 325ms\tremaining: 598ms\n",
      "352:\tlearn: 0.1971168\ttotal: 326ms\tremaining: 597ms\n",
      "353:\tlearn: 0.1967432\ttotal: 327ms\tremaining: 596ms\n",
      "354:\tlearn: 0.1964475\ttotal: 327ms\tremaining: 595ms\n",
      "355:\tlearn: 0.1961128\ttotal: 328ms\tremaining: 594ms\n",
      "356:\tlearn: 0.1958053\ttotal: 329ms\tremaining: 593ms\n",
      "357:\tlearn: 0.1954589\ttotal: 330ms\tremaining: 592ms\n",
      "358:\tlearn: 0.1952900\ttotal: 331ms\tremaining: 591ms\n",
      "359:\tlearn: 0.1948633\ttotal: 332ms\tremaining: 590ms\n",
      "360:\tlearn: 0.1946451\ttotal: 333ms\tremaining: 589ms\n",
      "361:\tlearn: 0.1942350\ttotal: 334ms\tremaining: 588ms\n",
      "362:\tlearn: 0.1939386\ttotal: 335ms\tremaining: 588ms\n",
      "363:\tlearn: 0.1935199\ttotal: 336ms\tremaining: 587ms\n",
      "364:\tlearn: 0.1930805\ttotal: 337ms\tremaining: 586ms\n",
      "365:\tlearn: 0.1926219\ttotal: 338ms\tremaining: 585ms\n",
      "366:\tlearn: 0.1922158\ttotal: 338ms\tremaining: 584ms\n",
      "367:\tlearn: 0.1919477\ttotal: 339ms\tremaining: 583ms\n",
      "368:\tlearn: 0.1915761\ttotal: 340ms\tremaining: 582ms\n",
      "369:\tlearn: 0.1914472\ttotal: 341ms\tremaining: 581ms\n",
      "370:\tlearn: 0.1912113\ttotal: 342ms\tremaining: 580ms\n",
      "371:\tlearn: 0.1910859\ttotal: 343ms\tremaining: 579ms\n",
      "372:\tlearn: 0.1908364\ttotal: 344ms\tremaining: 578ms\n",
      "373:\tlearn: 0.1905713\ttotal: 345ms\tremaining: 577ms\n",
      "374:\tlearn: 0.1905415\ttotal: 346ms\tremaining: 576ms\n",
      "375:\tlearn: 0.1903126\ttotal: 346ms\tremaining: 575ms\n",
      "376:\tlearn: 0.1901749\ttotal: 347ms\tremaining: 574ms\n",
      "377:\tlearn: 0.1899366\ttotal: 348ms\tremaining: 573ms\n",
      "378:\tlearn: 0.1896041\ttotal: 349ms\tremaining: 572ms\n",
      "379:\tlearn: 0.1891449\ttotal: 350ms\tremaining: 571ms\n",
      "380:\tlearn: 0.1889184\ttotal: 351ms\tremaining: 570ms\n",
      "381:\tlearn: 0.1886509\ttotal: 352ms\tremaining: 569ms\n",
      "382:\tlearn: 0.1883854\ttotal: 353ms\tremaining: 568ms\n",
      "383:\tlearn: 0.1881698\ttotal: 354ms\tremaining: 567ms\n",
      "384:\tlearn: 0.1879975\ttotal: 354ms\tremaining: 566ms\n",
      "385:\tlearn: 0.1879496\ttotal: 355ms\tremaining: 565ms\n",
      "386:\tlearn: 0.1877579\ttotal: 356ms\tremaining: 564ms\n",
      "387:\tlearn: 0.1874177\ttotal: 357ms\tremaining: 563ms\n",
      "388:\tlearn: 0.1873060\ttotal: 358ms\tremaining: 562ms\n",
      "389:\tlearn: 0.1871887\ttotal: 358ms\tremaining: 560ms\n",
      "390:\tlearn: 0.1869669\ttotal: 359ms\tremaining: 560ms\n",
      "391:\tlearn: 0.1865639\ttotal: 360ms\tremaining: 559ms\n",
      "392:\tlearn: 0.1864450\ttotal: 362ms\tremaining: 559ms\n",
      "393:\tlearn: 0.1862462\ttotal: 363ms\tremaining: 559ms\n",
      "394:\tlearn: 0.1859788\ttotal: 364ms\tremaining: 558ms\n",
      "395:\tlearn: 0.1858357\ttotal: 365ms\tremaining: 557ms\n",
      "396:\tlearn: 0.1855758\ttotal: 367ms\tremaining: 557ms\n",
      "397:\tlearn: 0.1852461\ttotal: 368ms\tremaining: 557ms\n",
      "398:\tlearn: 0.1847786\ttotal: 369ms\tremaining: 556ms\n",
      "399:\tlearn: 0.1844392\ttotal: 370ms\tremaining: 556ms\n",
      "400:\tlearn: 0.1842442\ttotal: 371ms\tremaining: 555ms\n",
      "401:\tlearn: 0.1839204\ttotal: 372ms\tremaining: 554ms\n",
      "402:\tlearn: 0.1837018\ttotal: 374ms\tremaining: 553ms\n",
      "403:\tlearn: 0.1834269\ttotal: 375ms\tremaining: 553ms\n",
      "404:\tlearn: 0.1831090\ttotal: 376ms\tremaining: 552ms\n",
      "405:\tlearn: 0.1830008\ttotal: 377ms\tremaining: 552ms\n",
      "406:\tlearn: 0.1828559\ttotal: 379ms\tremaining: 552ms\n",
      "407:\tlearn: 0.1825765\ttotal: 380ms\tremaining: 551ms\n",
      "408:\tlearn: 0.1823359\ttotal: 381ms\tremaining: 551ms\n",
      "409:\tlearn: 0.1821674\ttotal: 382ms\tremaining: 550ms\n",
      "410:\tlearn: 0.1820106\ttotal: 384ms\tremaining: 550ms\n",
      "411:\tlearn: 0.1817434\ttotal: 385ms\tremaining: 549ms\n",
      "412:\tlearn: 0.1815921\ttotal: 386ms\tremaining: 548ms\n",
      "413:\tlearn: 0.1815606\ttotal: 386ms\tremaining: 547ms\n",
      "414:\tlearn: 0.1813275\ttotal: 387ms\tremaining: 546ms\n",
      "415:\tlearn: 0.1810965\ttotal: 388ms\tremaining: 545ms\n",
      "416:\tlearn: 0.1809371\ttotal: 389ms\tremaining: 544ms\n",
      "417:\tlearn: 0.1806190\ttotal: 390ms\tremaining: 543ms\n",
      "418:\tlearn: 0.1804225\ttotal: 391ms\tremaining: 542ms\n",
      "419:\tlearn: 0.1800414\ttotal: 392ms\tremaining: 541ms\n",
      "420:\tlearn: 0.1798562\ttotal: 392ms\tremaining: 540ms\n",
      "421:\tlearn: 0.1796608\ttotal: 393ms\tremaining: 539ms\n",
      "422:\tlearn: 0.1794831\ttotal: 394ms\tremaining: 537ms\n",
      "423:\tlearn: 0.1791327\ttotal: 395ms\tremaining: 536ms\n",
      "424:\tlearn: 0.1789741\ttotal: 396ms\tremaining: 535ms\n",
      "425:\tlearn: 0.1788225\ttotal: 397ms\tremaining: 534ms\n",
      "426:\tlearn: 0.1786441\ttotal: 397ms\tremaining: 533ms\n",
      "427:\tlearn: 0.1784479\ttotal: 398ms\tremaining: 532ms\n",
      "428:\tlearn: 0.1780983\ttotal: 399ms\tremaining: 531ms\n",
      "429:\tlearn: 0.1780175\ttotal: 400ms\tremaining: 530ms\n",
      "430:\tlearn: 0.1779068\ttotal: 401ms\tremaining: 529ms\n",
      "431:\tlearn: 0.1777244\ttotal: 402ms\tremaining: 528ms\n",
      "432:\tlearn: 0.1774146\ttotal: 403ms\tremaining: 527ms\n",
      "433:\tlearn: 0.1771862\ttotal: 403ms\tremaining: 526ms\n",
      "434:\tlearn: 0.1769122\ttotal: 404ms\tremaining: 525ms\n",
      "435:\tlearn: 0.1766480\ttotal: 405ms\tremaining: 524ms\n",
      "436:\tlearn: 0.1764673\ttotal: 406ms\tremaining: 523ms\n",
      "437:\tlearn: 0.1763480\ttotal: 407ms\tremaining: 522ms\n",
      "438:\tlearn: 0.1760889\ttotal: 408ms\tremaining: 521ms\n",
      "439:\tlearn: 0.1757235\ttotal: 409ms\tremaining: 520ms\n",
      "440:\tlearn: 0.1756037\ttotal: 409ms\tremaining: 519ms\n",
      "441:\tlearn: 0.1755334\ttotal: 410ms\tremaining: 518ms\n",
      "442:\tlearn: 0.1754233\ttotal: 411ms\tremaining: 517ms\n",
      "443:\tlearn: 0.1751475\ttotal: 412ms\tremaining: 516ms\n",
      "444:\tlearn: 0.1748868\ttotal: 413ms\tremaining: 515ms\n",
      "445:\tlearn: 0.1747806\ttotal: 414ms\tremaining: 514ms\n",
      "446:\tlearn: 0.1744668\ttotal: 415ms\tremaining: 513ms\n",
      "447:\tlearn: 0.1742883\ttotal: 416ms\tremaining: 512ms\n",
      "448:\tlearn: 0.1740102\ttotal: 417ms\tremaining: 511ms\n",
      "449:\tlearn: 0.1738324\ttotal: 418ms\tremaining: 511ms\n",
      "450:\tlearn: 0.1736920\ttotal: 419ms\tremaining: 510ms\n",
      "451:\tlearn: 0.1733977\ttotal: 420ms\tremaining: 509ms\n",
      "452:\tlearn: 0.1730557\ttotal: 420ms\tremaining: 508ms\n",
      "453:\tlearn: 0.1730109\ttotal: 421ms\tremaining: 507ms\n",
      "454:\tlearn: 0.1728095\ttotal: 422ms\tremaining: 506ms\n",
      "455:\tlearn: 0.1726340\ttotal: 423ms\tremaining: 505ms\n",
      "456:\tlearn: 0.1724042\ttotal: 424ms\tremaining: 504ms\n",
      "457:\tlearn: 0.1721258\ttotal: 425ms\tremaining: 503ms\n",
      "458:\tlearn: 0.1718761\ttotal: 426ms\tremaining: 503ms\n",
      "459:\tlearn: 0.1715345\ttotal: 428ms\tremaining: 502ms\n",
      "460:\tlearn: 0.1713550\ttotal: 429ms\tremaining: 502ms\n",
      "461:\tlearn: 0.1713007\ttotal: 430ms\tremaining: 501ms\n",
      "462:\tlearn: 0.1711130\ttotal: 431ms\tremaining: 500ms\n",
      "463:\tlearn: 0.1708928\ttotal: 432ms\tremaining: 499ms\n",
      "464:\tlearn: 0.1706907\ttotal: 433ms\tremaining: 498ms\n",
      "465:\tlearn: 0.1704485\ttotal: 434ms\tremaining: 497ms\n",
      "466:\tlearn: 0.1702065\ttotal: 434ms\tremaining: 496ms\n",
      "467:\tlearn: 0.1700523\ttotal: 435ms\tremaining: 495ms\n",
      "468:\tlearn: 0.1699702\ttotal: 436ms\tremaining: 494ms\n",
      "469:\tlearn: 0.1695813\ttotal: 437ms\tremaining: 493ms\n",
      "470:\tlearn: 0.1693191\ttotal: 438ms\tremaining: 491ms\n",
      "471:\tlearn: 0.1690434\ttotal: 438ms\tremaining: 490ms\n",
      "472:\tlearn: 0.1689374\ttotal: 439ms\tremaining: 489ms\n",
      "473:\tlearn: 0.1685811\ttotal: 440ms\tremaining: 488ms\n",
      "474:\tlearn: 0.1682913\ttotal: 441ms\tremaining: 487ms\n",
      "475:\tlearn: 0.1681026\ttotal: 442ms\tremaining: 487ms\n",
      "476:\tlearn: 0.1679110\ttotal: 443ms\tremaining: 486ms\n",
      "477:\tlearn: 0.1676379\ttotal: 444ms\tremaining: 485ms\n",
      "478:\tlearn: 0.1674406\ttotal: 445ms\tremaining: 484ms\n",
      "479:\tlearn: 0.1671890\ttotal: 446ms\tremaining: 484ms\n",
      "480:\tlearn: 0.1670577\ttotal: 447ms\tremaining: 483ms\n",
      "481:\tlearn: 0.1668106\ttotal: 448ms\tremaining: 482ms\n",
      "482:\tlearn: 0.1666405\ttotal: 449ms\tremaining: 481ms\n",
      "483:\tlearn: 0.1663924\ttotal: 450ms\tremaining: 479ms\n",
      "484:\tlearn: 0.1662143\ttotal: 450ms\tremaining: 478ms\n",
      "485:\tlearn: 0.1660997\ttotal: 451ms\tremaining: 477ms\n",
      "486:\tlearn: 0.1658443\ttotal: 452ms\tremaining: 476ms\n",
      "487:\tlearn: 0.1656440\ttotal: 453ms\tremaining: 475ms\n",
      "488:\tlearn: 0.1653758\ttotal: 453ms\tremaining: 474ms\n",
      "489:\tlearn: 0.1651495\ttotal: 454ms\tremaining: 473ms\n",
      "490:\tlearn: 0.1649560\ttotal: 455ms\tremaining: 472ms\n",
      "491:\tlearn: 0.1647314\ttotal: 456ms\tremaining: 471ms\n",
      "492:\tlearn: 0.1644647\ttotal: 457ms\tremaining: 470ms\n",
      "493:\tlearn: 0.1642897\ttotal: 458ms\tremaining: 469ms\n",
      "494:\tlearn: 0.1640243\ttotal: 458ms\tremaining: 468ms\n",
      "495:\tlearn: 0.1638241\ttotal: 459ms\tremaining: 467ms\n",
      "496:\tlearn: 0.1635691\ttotal: 460ms\tremaining: 466ms\n",
      "497:\tlearn: 0.1633302\ttotal: 461ms\tremaining: 465ms\n",
      "498:\tlearn: 0.1633221\ttotal: 461ms\tremaining: 463ms\n",
      "499:\tlearn: 0.1631030\ttotal: 462ms\tremaining: 462ms\n",
      "500:\tlearn: 0.1628953\ttotal: 463ms\tremaining: 461ms\n",
      "501:\tlearn: 0.1627540\ttotal: 464ms\tremaining: 460ms\n",
      "502:\tlearn: 0.1625377\ttotal: 465ms\tremaining: 459ms\n",
      "503:\tlearn: 0.1622911\ttotal: 465ms\tremaining: 458ms\n",
      "504:\tlearn: 0.1619568\ttotal: 466ms\tremaining: 457ms\n",
      "505:\tlearn: 0.1619363\ttotal: 467ms\tremaining: 456ms\n",
      "506:\tlearn: 0.1614901\ttotal: 468ms\tremaining: 455ms\n",
      "507:\tlearn: 0.1612961\ttotal: 468ms\tremaining: 454ms\n",
      "508:\tlearn: 0.1611244\ttotal: 469ms\tremaining: 453ms\n",
      "509:\tlearn: 0.1609260\ttotal: 470ms\tremaining: 452ms\n",
      "510:\tlearn: 0.1607783\ttotal: 471ms\tremaining: 451ms\n",
      "511:\tlearn: 0.1605487\ttotal: 472ms\tremaining: 450ms\n",
      "512:\tlearn: 0.1603413\ttotal: 474ms\tremaining: 450ms\n",
      "513:\tlearn: 0.1601262\ttotal: 475ms\tremaining: 449ms\n",
      "514:\tlearn: 0.1599084\ttotal: 476ms\tremaining: 448ms\n",
      "515:\tlearn: 0.1597191\ttotal: 477ms\tremaining: 447ms\n",
      "516:\tlearn: 0.1595254\ttotal: 477ms\tremaining: 446ms\n",
      "517:\tlearn: 0.1592849\ttotal: 478ms\tremaining: 445ms\n",
      "518:\tlearn: 0.1589676\ttotal: 479ms\tremaining: 444ms\n",
      "519:\tlearn: 0.1588593\ttotal: 480ms\tremaining: 443ms\n",
      "520:\tlearn: 0.1587084\ttotal: 481ms\tremaining: 442ms\n",
      "521:\tlearn: 0.1584729\ttotal: 481ms\tremaining: 441ms\n",
      "522:\tlearn: 0.1583342\ttotal: 482ms\tremaining: 440ms\n",
      "523:\tlearn: 0.1582399\ttotal: 483ms\tremaining: 439ms\n",
      "524:\tlearn: 0.1582150\ttotal: 484ms\tremaining: 438ms\n",
      "525:\tlearn: 0.1580859\ttotal: 484ms\tremaining: 437ms\n",
      "526:\tlearn: 0.1578551\ttotal: 485ms\tremaining: 436ms\n",
      "527:\tlearn: 0.1578023\ttotal: 486ms\tremaining: 435ms\n",
      "528:\tlearn: 0.1575910\ttotal: 487ms\tremaining: 434ms\n",
      "529:\tlearn: 0.1572890\ttotal: 488ms\tremaining: 432ms\n",
      "530:\tlearn: 0.1570457\ttotal: 489ms\tremaining: 431ms\n",
      "531:\tlearn: 0.1569602\ttotal: 489ms\tremaining: 430ms\n",
      "532:\tlearn: 0.1568184\ttotal: 490ms\tremaining: 429ms\n",
      "533:\tlearn: 0.1565472\ttotal: 491ms\tremaining: 428ms\n",
      "534:\tlearn: 0.1562930\ttotal: 492ms\tremaining: 427ms\n",
      "535:\tlearn: 0.1562022\ttotal: 493ms\tremaining: 426ms\n",
      "536:\tlearn: 0.1561927\ttotal: 493ms\tremaining: 425ms\n",
      "537:\tlearn: 0.1561114\ttotal: 494ms\tremaining: 424ms\n",
      "538:\tlearn: 0.1559894\ttotal: 495ms\tremaining: 423ms\n",
      "539:\tlearn: 0.1558185\ttotal: 495ms\tremaining: 422ms\n",
      "540:\tlearn: 0.1555375\ttotal: 496ms\tremaining: 421ms\n",
      "541:\tlearn: 0.1554027\ttotal: 497ms\tremaining: 420ms\n",
      "542:\tlearn: 0.1551991\ttotal: 498ms\tremaining: 419ms\n",
      "543:\tlearn: 0.1550083\ttotal: 499ms\tremaining: 418ms\n",
      "544:\tlearn: 0.1547751\ttotal: 500ms\tremaining: 417ms\n",
      "545:\tlearn: 0.1546617\ttotal: 500ms\tremaining: 416ms\n",
      "546:\tlearn: 0.1544582\ttotal: 501ms\tremaining: 415ms\n",
      "547:\tlearn: 0.1542392\ttotal: 502ms\tremaining: 414ms\n",
      "548:\tlearn: 0.1539499\ttotal: 503ms\tremaining: 413ms\n",
      "549:\tlearn: 0.1536043\ttotal: 504ms\tremaining: 412ms\n",
      "550:\tlearn: 0.1535579\ttotal: 504ms\tremaining: 411ms\n",
      "551:\tlearn: 0.1533346\ttotal: 505ms\tremaining: 410ms\n",
      "552:\tlearn: 0.1530458\ttotal: 506ms\tremaining: 409ms\n",
      "553:\tlearn: 0.1528072\ttotal: 507ms\tremaining: 408ms\n",
      "554:\tlearn: 0.1525046\ttotal: 508ms\tremaining: 407ms\n",
      "555:\tlearn: 0.1522575\ttotal: 508ms\tremaining: 406ms\n",
      "556:\tlearn: 0.1519645\ttotal: 509ms\tremaining: 405ms\n",
      "557:\tlearn: 0.1517153\ttotal: 510ms\tremaining: 404ms\n",
      "558:\tlearn: 0.1515948\ttotal: 511ms\tremaining: 403ms\n",
      "559:\tlearn: 0.1513701\ttotal: 512ms\tremaining: 402ms\n",
      "560:\tlearn: 0.1512459\ttotal: 513ms\tremaining: 401ms\n",
      "561:\tlearn: 0.1512396\ttotal: 513ms\tremaining: 400ms\n",
      "562:\tlearn: 0.1509130\ttotal: 514ms\tremaining: 399ms\n",
      "563:\tlearn: 0.1505655\ttotal: 515ms\tremaining: 398ms\n",
      "564:\tlearn: 0.1502278\ttotal: 515ms\tremaining: 397ms\n",
      "565:\tlearn: 0.1500825\ttotal: 516ms\tremaining: 396ms\n",
      "566:\tlearn: 0.1499826\ttotal: 517ms\tremaining: 395ms\n",
      "567:\tlearn: 0.1498599\ttotal: 518ms\tremaining: 394ms\n",
      "568:\tlearn: 0.1497595\ttotal: 519ms\tremaining: 393ms\n",
      "569:\tlearn: 0.1496874\ttotal: 519ms\tremaining: 392ms\n",
      "570:\tlearn: 0.1494673\ttotal: 520ms\tremaining: 391ms\n",
      "571:\tlearn: 0.1494440\ttotal: 521ms\tremaining: 390ms\n",
      "572:\tlearn: 0.1493251\ttotal: 522ms\tremaining: 389ms\n",
      "573:\tlearn: 0.1492257\ttotal: 522ms\tremaining: 388ms\n",
      "574:\tlearn: 0.1489711\ttotal: 526ms\tremaining: 389ms\n",
      "575:\tlearn: 0.1489587\ttotal: 526ms\tremaining: 388ms\n",
      "576:\tlearn: 0.1487015\ttotal: 527ms\tremaining: 387ms\n",
      "577:\tlearn: 0.1485428\ttotal: 528ms\tremaining: 386ms\n",
      "578:\tlearn: 0.1484424\ttotal: 529ms\tremaining: 385ms\n",
      "579:\tlearn: 0.1482753\ttotal: 530ms\tremaining: 384ms\n",
      "580:\tlearn: 0.1481453\ttotal: 531ms\tremaining: 383ms\n",
      "581:\tlearn: 0.1478133\ttotal: 532ms\tremaining: 382ms\n",
      "582:\tlearn: 0.1476543\ttotal: 533ms\tremaining: 381ms\n",
      "583:\tlearn: 0.1475517\ttotal: 534ms\tremaining: 380ms\n",
      "584:\tlearn: 0.1472602\ttotal: 534ms\tremaining: 379ms\n",
      "585:\tlearn: 0.1471288\ttotal: 535ms\tremaining: 378ms\n",
      "586:\tlearn: 0.1468098\ttotal: 536ms\tremaining: 377ms\n",
      "587:\tlearn: 0.1467194\ttotal: 537ms\tremaining: 376ms\n",
      "588:\tlearn: 0.1465631\ttotal: 538ms\tremaining: 375ms\n",
      "589:\tlearn: 0.1462898\ttotal: 538ms\tremaining: 374ms\n",
      "590:\tlearn: 0.1461862\ttotal: 539ms\tremaining: 373ms\n",
      "591:\tlearn: 0.1460592\ttotal: 540ms\tremaining: 372ms\n",
      "592:\tlearn: 0.1460087\ttotal: 541ms\tremaining: 371ms\n",
      "593:\tlearn: 0.1459246\ttotal: 542ms\tremaining: 370ms\n",
      "594:\tlearn: 0.1457421\ttotal: 542ms\tremaining: 369ms\n",
      "595:\tlearn: 0.1453967\ttotal: 543ms\tremaining: 368ms\n",
      "596:\tlearn: 0.1452212\ttotal: 544ms\tremaining: 367ms\n",
      "597:\tlearn: 0.1448681\ttotal: 545ms\tremaining: 366ms\n",
      "598:\tlearn: 0.1447392\ttotal: 546ms\tremaining: 365ms\n",
      "599:\tlearn: 0.1444371\ttotal: 546ms\tremaining: 364ms\n",
      "600:\tlearn: 0.1441880\ttotal: 547ms\tremaining: 363ms\n",
      "601:\tlearn: 0.1439366\ttotal: 548ms\tremaining: 362ms\n",
      "602:\tlearn: 0.1437069\ttotal: 549ms\tremaining: 361ms\n",
      "603:\tlearn: 0.1435971\ttotal: 550ms\tremaining: 360ms\n",
      "604:\tlearn: 0.1434003\ttotal: 551ms\tremaining: 359ms\n",
      "605:\tlearn: 0.1431951\ttotal: 551ms\tremaining: 358ms\n",
      "606:\tlearn: 0.1430775\ttotal: 552ms\tremaining: 358ms\n",
      "607:\tlearn: 0.1429230\ttotal: 553ms\tremaining: 357ms\n",
      "608:\tlearn: 0.1426214\ttotal: 554ms\tremaining: 356ms\n",
      "609:\tlearn: 0.1424826\ttotal: 555ms\tremaining: 355ms\n",
      "610:\tlearn: 0.1423831\ttotal: 555ms\tremaining: 354ms\n",
      "611:\tlearn: 0.1421530\ttotal: 556ms\tremaining: 353ms\n",
      "612:\tlearn: 0.1420447\ttotal: 557ms\tremaining: 352ms\n",
      "613:\tlearn: 0.1418890\ttotal: 558ms\tremaining: 351ms\n",
      "614:\tlearn: 0.1417851\ttotal: 559ms\tremaining: 350ms\n",
      "615:\tlearn: 0.1416185\ttotal: 560ms\tremaining: 349ms\n",
      "616:\tlearn: 0.1414912\ttotal: 560ms\tremaining: 348ms\n",
      "617:\tlearn: 0.1413409\ttotal: 561ms\tremaining: 347ms\n",
      "618:\tlearn: 0.1410425\ttotal: 562ms\tremaining: 346ms\n",
      "619:\tlearn: 0.1408906\ttotal: 563ms\tremaining: 345ms\n",
      "620:\tlearn: 0.1408222\ttotal: 564ms\tremaining: 344ms\n",
      "621:\tlearn: 0.1406764\ttotal: 564ms\tremaining: 343ms\n",
      "622:\tlearn: 0.1403791\ttotal: 565ms\tremaining: 342ms\n",
      "623:\tlearn: 0.1402601\ttotal: 566ms\tremaining: 341ms\n",
      "624:\tlearn: 0.1400749\ttotal: 567ms\tremaining: 340ms\n",
      "625:\tlearn: 0.1398829\ttotal: 568ms\tremaining: 340ms\n",
      "626:\tlearn: 0.1396911\ttotal: 569ms\tremaining: 339ms\n",
      "627:\tlearn: 0.1394741\ttotal: 570ms\tremaining: 338ms\n",
      "628:\tlearn: 0.1393436\ttotal: 571ms\tremaining: 337ms\n",
      "629:\tlearn: 0.1390735\ttotal: 573ms\tremaining: 337ms\n",
      "630:\tlearn: 0.1388702\ttotal: 575ms\tremaining: 336ms\n",
      "631:\tlearn: 0.1386914\ttotal: 576ms\tremaining: 335ms\n",
      "632:\tlearn: 0.1385495\ttotal: 577ms\tremaining: 334ms\n",
      "633:\tlearn: 0.1382500\ttotal: 578ms\tremaining: 333ms\n",
      "634:\tlearn: 0.1381025\ttotal: 579ms\tremaining: 333ms\n",
      "635:\tlearn: 0.1380123\ttotal: 579ms\tremaining: 332ms\n",
      "636:\tlearn: 0.1379652\ttotal: 580ms\tremaining: 331ms\n",
      "637:\tlearn: 0.1379113\ttotal: 581ms\tremaining: 330ms\n",
      "638:\tlearn: 0.1377775\ttotal: 582ms\tremaining: 329ms\n",
      "639:\tlearn: 0.1375864\ttotal: 583ms\tremaining: 328ms\n",
      "640:\tlearn: 0.1373112\ttotal: 584ms\tremaining: 327ms\n",
      "641:\tlearn: 0.1370850\ttotal: 585ms\tremaining: 326ms\n",
      "642:\tlearn: 0.1368471\ttotal: 585ms\tremaining: 325ms\n",
      "643:\tlearn: 0.1367381\ttotal: 586ms\tremaining: 324ms\n",
      "644:\tlearn: 0.1364916\ttotal: 587ms\tremaining: 323ms\n",
      "645:\tlearn: 0.1363199\ttotal: 588ms\tremaining: 322ms\n",
      "646:\tlearn: 0.1362056\ttotal: 589ms\tremaining: 321ms\n",
      "647:\tlearn: 0.1360844\ttotal: 590ms\tremaining: 320ms\n",
      "648:\tlearn: 0.1360210\ttotal: 591ms\tremaining: 319ms\n",
      "649:\tlearn: 0.1358210\ttotal: 592ms\tremaining: 319ms\n",
      "650:\tlearn: 0.1357263\ttotal: 592ms\tremaining: 318ms\n",
      "651:\tlearn: 0.1354987\ttotal: 593ms\tremaining: 317ms\n",
      "652:\tlearn: 0.1353145\ttotal: 594ms\tremaining: 316ms\n",
      "653:\tlearn: 0.1352310\ttotal: 595ms\tremaining: 315ms\n",
      "654:\tlearn: 0.1350246\ttotal: 596ms\tremaining: 314ms\n",
      "655:\tlearn: 0.1349399\ttotal: 597ms\tremaining: 313ms\n",
      "656:\tlearn: 0.1347568\ttotal: 598ms\tremaining: 312ms\n",
      "657:\tlearn: 0.1347197\ttotal: 599ms\tremaining: 311ms\n",
      "658:\tlearn: 0.1344823\ttotal: 599ms\tremaining: 310ms\n",
      "659:\tlearn: 0.1343824\ttotal: 600ms\tremaining: 309ms\n",
      "660:\tlearn: 0.1341478\ttotal: 601ms\tremaining: 308ms\n",
      "661:\tlearn: 0.1340415\ttotal: 602ms\tremaining: 307ms\n",
      "662:\tlearn: 0.1336819\ttotal: 603ms\tremaining: 306ms\n",
      "663:\tlearn: 0.1335473\ttotal: 604ms\tremaining: 306ms\n",
      "664:\tlearn: 0.1333231\ttotal: 605ms\tremaining: 305ms\n",
      "665:\tlearn: 0.1332115\ttotal: 606ms\tremaining: 304ms\n",
      "666:\tlearn: 0.1331496\ttotal: 606ms\tremaining: 303ms\n",
      "667:\tlearn: 0.1329792\ttotal: 607ms\tremaining: 302ms\n",
      "668:\tlearn: 0.1328502\ttotal: 608ms\tremaining: 301ms\n",
      "669:\tlearn: 0.1327179\ttotal: 609ms\tremaining: 300ms\n",
      "670:\tlearn: 0.1326117\ttotal: 610ms\tremaining: 299ms\n",
      "671:\tlearn: 0.1324017\ttotal: 611ms\tremaining: 298ms\n",
      "672:\tlearn: 0.1322498\ttotal: 612ms\tremaining: 297ms\n",
      "673:\tlearn: 0.1321077\ttotal: 613ms\tremaining: 296ms\n",
      "674:\tlearn: 0.1319425\ttotal: 614ms\tremaining: 295ms\n",
      "675:\tlearn: 0.1318246\ttotal: 615ms\tremaining: 295ms\n",
      "676:\tlearn: 0.1316809\ttotal: 615ms\tremaining: 294ms\n",
      "677:\tlearn: 0.1316399\ttotal: 617ms\tremaining: 293ms\n",
      "678:\tlearn: 0.1314605\ttotal: 617ms\tremaining: 292ms\n",
      "679:\tlearn: 0.1313377\ttotal: 618ms\tremaining: 291ms\n",
      "680:\tlearn: 0.1312509\ttotal: 619ms\tremaining: 290ms\n",
      "681:\tlearn: 0.1309703\ttotal: 620ms\tremaining: 289ms\n",
      "682:\tlearn: 0.1308366\ttotal: 621ms\tremaining: 288ms\n",
      "683:\tlearn: 0.1307076\ttotal: 622ms\tremaining: 287ms\n",
      "684:\tlearn: 0.1306757\ttotal: 623ms\tremaining: 287ms\n",
      "685:\tlearn: 0.1303452\ttotal: 624ms\tremaining: 286ms\n",
      "686:\tlearn: 0.1301487\ttotal: 625ms\tremaining: 285ms\n",
      "687:\tlearn: 0.1300177\ttotal: 626ms\tremaining: 284ms\n",
      "688:\tlearn: 0.1299308\ttotal: 627ms\tremaining: 283ms\n",
      "689:\tlearn: 0.1298291\ttotal: 628ms\tremaining: 282ms\n",
      "690:\tlearn: 0.1295769\ttotal: 628ms\tremaining: 281ms\n",
      "691:\tlearn: 0.1293164\ttotal: 629ms\tremaining: 280ms\n",
      "692:\tlearn: 0.1291826\ttotal: 630ms\tremaining: 279ms\n",
      "693:\tlearn: 0.1291383\ttotal: 631ms\tremaining: 278ms\n",
      "694:\tlearn: 0.1289855\ttotal: 632ms\tremaining: 277ms\n",
      "695:\tlearn: 0.1288355\ttotal: 633ms\tremaining: 276ms\n",
      "696:\tlearn: 0.1286934\ttotal: 634ms\tremaining: 275ms\n",
      "697:\tlearn: 0.1286010\ttotal: 635ms\tremaining: 275ms\n",
      "698:\tlearn: 0.1284682\ttotal: 635ms\tremaining: 274ms\n",
      "699:\tlearn: 0.1282116\ttotal: 636ms\tremaining: 273ms\n",
      "700:\tlearn: 0.1279147\ttotal: 637ms\tremaining: 272ms\n",
      "701:\tlearn: 0.1277822\ttotal: 638ms\tremaining: 271ms\n",
      "702:\tlearn: 0.1274954\ttotal: 639ms\tremaining: 270ms\n",
      "703:\tlearn: 0.1273839\ttotal: 640ms\tremaining: 269ms\n",
      "704:\tlearn: 0.1271557\ttotal: 641ms\tremaining: 268ms\n",
      "705:\tlearn: 0.1269704\ttotal: 642ms\tremaining: 267ms\n",
      "706:\tlearn: 0.1267830\ttotal: 642ms\tremaining: 266ms\n",
      "707:\tlearn: 0.1266166\ttotal: 644ms\tremaining: 265ms\n",
      "708:\tlearn: 0.1264687\ttotal: 644ms\tremaining: 265ms\n",
      "709:\tlearn: 0.1263504\ttotal: 645ms\tremaining: 264ms\n",
      "710:\tlearn: 0.1262295\ttotal: 646ms\tremaining: 263ms\n",
      "711:\tlearn: 0.1260942\ttotal: 647ms\tremaining: 262ms\n",
      "712:\tlearn: 0.1259530\ttotal: 648ms\tremaining: 261ms\n",
      "713:\tlearn: 0.1258778\ttotal: 649ms\tremaining: 260ms\n",
      "714:\tlearn: 0.1257230\ttotal: 650ms\tremaining: 259ms\n",
      "715:\tlearn: 0.1254664\ttotal: 651ms\tremaining: 258ms\n",
      "716:\tlearn: 0.1252749\ttotal: 652ms\tremaining: 257ms\n",
      "717:\tlearn: 0.1251926\ttotal: 653ms\tremaining: 256ms\n",
      "718:\tlearn: 0.1251308\ttotal: 654ms\tremaining: 255ms\n",
      "719:\tlearn: 0.1248929\ttotal: 655ms\tremaining: 255ms\n",
      "720:\tlearn: 0.1247530\ttotal: 655ms\tremaining: 254ms\n",
      "721:\tlearn: 0.1246333\ttotal: 656ms\tremaining: 253ms\n",
      "722:\tlearn: 0.1245420\ttotal: 657ms\tremaining: 252ms\n",
      "723:\tlearn: 0.1244975\ttotal: 658ms\tremaining: 251ms\n",
      "724:\tlearn: 0.1243747\ttotal: 659ms\tremaining: 250ms\n",
      "725:\tlearn: 0.1242482\ttotal: 660ms\tremaining: 249ms\n",
      "726:\tlearn: 0.1240342\ttotal: 661ms\tremaining: 248ms\n",
      "727:\tlearn: 0.1239108\ttotal: 662ms\tremaining: 247ms\n",
      "728:\tlearn: 0.1237485\ttotal: 662ms\tremaining: 246ms\n",
      "729:\tlearn: 0.1236182\ttotal: 663ms\tremaining: 245ms\n",
      "730:\tlearn: 0.1234365\ttotal: 664ms\tremaining: 244ms\n",
      "731:\tlearn: 0.1233273\ttotal: 665ms\tremaining: 243ms\n",
      "732:\tlearn: 0.1231429\ttotal: 666ms\tremaining: 243ms\n",
      "733:\tlearn: 0.1230191\ttotal: 667ms\tremaining: 242ms\n",
      "734:\tlearn: 0.1228961\ttotal: 668ms\tremaining: 241ms\n",
      "735:\tlearn: 0.1227713\ttotal: 668ms\tremaining: 240ms\n",
      "736:\tlearn: 0.1226446\ttotal: 669ms\tremaining: 239ms\n",
      "737:\tlearn: 0.1224772\ttotal: 670ms\tremaining: 238ms\n",
      "738:\tlearn: 0.1223308\ttotal: 671ms\tremaining: 237ms\n",
      "739:\tlearn: 0.1222925\ttotal: 672ms\tremaining: 236ms\n",
      "740:\tlearn: 0.1221688\ttotal: 673ms\tremaining: 235ms\n",
      "741:\tlearn: 0.1220615\ttotal: 674ms\tremaining: 234ms\n",
      "742:\tlearn: 0.1218803\ttotal: 674ms\tremaining: 233ms\n",
      "743:\tlearn: 0.1215971\ttotal: 675ms\tremaining: 232ms\n",
      "744:\tlearn: 0.1214206\ttotal: 676ms\tremaining: 232ms\n",
      "745:\tlearn: 0.1212690\ttotal: 677ms\tremaining: 231ms\n",
      "746:\tlearn: 0.1210944\ttotal: 678ms\tremaining: 230ms\n",
      "747:\tlearn: 0.1208119\ttotal: 679ms\tremaining: 229ms\n",
      "748:\tlearn: 0.1206912\ttotal: 680ms\tremaining: 228ms\n",
      "749:\tlearn: 0.1204675\ttotal: 681ms\tremaining: 227ms\n",
      "750:\tlearn: 0.1201637\ttotal: 682ms\tremaining: 226ms\n",
      "751:\tlearn: 0.1200155\ttotal: 684ms\tremaining: 226ms\n",
      "752:\tlearn: 0.1199995\ttotal: 685ms\tremaining: 225ms\n",
      "753:\tlearn: 0.1198959\ttotal: 686ms\tremaining: 224ms\n",
      "754:\tlearn: 0.1197473\ttotal: 687ms\tremaining: 223ms\n",
      "755:\tlearn: 0.1195675\ttotal: 688ms\tremaining: 222ms\n",
      "756:\tlearn: 0.1194807\ttotal: 689ms\tremaining: 221ms\n",
      "757:\tlearn: 0.1193698\ttotal: 690ms\tremaining: 220ms\n",
      "758:\tlearn: 0.1192774\ttotal: 691ms\tremaining: 219ms\n",
      "759:\tlearn: 0.1191102\ttotal: 691ms\tremaining: 218ms\n",
      "760:\tlearn: 0.1189328\ttotal: 693ms\tremaining: 218ms\n",
      "761:\tlearn: 0.1188658\ttotal: 694ms\tremaining: 217ms\n",
      "762:\tlearn: 0.1186745\ttotal: 696ms\tremaining: 216ms\n",
      "763:\tlearn: 0.1185367\ttotal: 697ms\tremaining: 215ms\n",
      "764:\tlearn: 0.1184266\ttotal: 698ms\tremaining: 215ms\n",
      "765:\tlearn: 0.1182257\ttotal: 699ms\tremaining: 214ms\n",
      "766:\tlearn: 0.1180599\ttotal: 701ms\tremaining: 213ms\n",
      "767:\tlearn: 0.1179023\ttotal: 702ms\tremaining: 212ms\n",
      "768:\tlearn: 0.1176977\ttotal: 703ms\tremaining: 211ms\n",
      "769:\tlearn: 0.1174839\ttotal: 704ms\tremaining: 210ms\n",
      "770:\tlearn: 0.1173662\ttotal: 705ms\tremaining: 209ms\n",
      "771:\tlearn: 0.1171241\ttotal: 705ms\tremaining: 208ms\n",
      "772:\tlearn: 0.1169775\ttotal: 706ms\tremaining: 207ms\n",
      "773:\tlearn: 0.1167526\ttotal: 707ms\tremaining: 207ms\n",
      "774:\tlearn: 0.1166016\ttotal: 708ms\tremaining: 206ms\n",
      "775:\tlearn: 0.1165189\ttotal: 709ms\tremaining: 205ms\n",
      "776:\tlearn: 0.1164209\ttotal: 710ms\tremaining: 204ms\n",
      "777:\tlearn: 0.1162796\ttotal: 711ms\tremaining: 203ms\n",
      "778:\tlearn: 0.1161324\ttotal: 712ms\tremaining: 202ms\n",
      "779:\tlearn: 0.1159972\ttotal: 713ms\tremaining: 201ms\n",
      "780:\tlearn: 0.1157637\ttotal: 715ms\tremaining: 200ms\n",
      "781:\tlearn: 0.1156325\ttotal: 715ms\tremaining: 199ms\n",
      "782:\tlearn: 0.1154687\ttotal: 716ms\tremaining: 199ms\n",
      "783:\tlearn: 0.1153090\ttotal: 717ms\tremaining: 198ms\n",
      "784:\tlearn: 0.1151292\ttotal: 718ms\tremaining: 197ms\n",
      "785:\tlearn: 0.1148671\ttotal: 719ms\tremaining: 196ms\n",
      "786:\tlearn: 0.1147124\ttotal: 720ms\tremaining: 195ms\n",
      "787:\tlearn: 0.1145978\ttotal: 721ms\tremaining: 194ms\n",
      "788:\tlearn: 0.1144726\ttotal: 722ms\tremaining: 193ms\n",
      "789:\tlearn: 0.1142088\ttotal: 723ms\tremaining: 192ms\n",
      "790:\tlearn: 0.1140137\ttotal: 724ms\tremaining: 191ms\n",
      "791:\tlearn: 0.1138069\ttotal: 726ms\tremaining: 191ms\n",
      "792:\tlearn: 0.1136078\ttotal: 727ms\tremaining: 190ms\n",
      "793:\tlearn: 0.1134611\ttotal: 728ms\tremaining: 189ms\n",
      "794:\tlearn: 0.1133200\ttotal: 728ms\tremaining: 188ms\n",
      "795:\tlearn: 0.1131953\ttotal: 729ms\tremaining: 187ms\n",
      "796:\tlearn: 0.1131799\ttotal: 730ms\tremaining: 186ms\n",
      "797:\tlearn: 0.1130350\ttotal: 731ms\tremaining: 185ms\n",
      "798:\tlearn: 0.1129044\ttotal: 732ms\tremaining: 184ms\n",
      "799:\tlearn: 0.1126518\ttotal: 733ms\tremaining: 183ms\n",
      "800:\tlearn: 0.1124555\ttotal: 734ms\tremaining: 182ms\n",
      "801:\tlearn: 0.1124230\ttotal: 734ms\tremaining: 181ms\n",
      "802:\tlearn: 0.1122416\ttotal: 735ms\tremaining: 180ms\n",
      "803:\tlearn: 0.1120118\ttotal: 736ms\tremaining: 179ms\n",
      "804:\tlearn: 0.1119338\ttotal: 737ms\tremaining: 178ms\n",
      "805:\tlearn: 0.1117580\ttotal: 738ms\tremaining: 178ms\n",
      "806:\tlearn: 0.1116043\ttotal: 738ms\tremaining: 177ms\n",
      "807:\tlearn: 0.1114805\ttotal: 740ms\tremaining: 176ms\n",
      "808:\tlearn: 0.1113630\ttotal: 741ms\tremaining: 175ms\n",
      "809:\tlearn: 0.1112095\ttotal: 742ms\tremaining: 174ms\n",
      "810:\tlearn: 0.1111654\ttotal: 743ms\tremaining: 173ms\n",
      "811:\tlearn: 0.1110536\ttotal: 743ms\tremaining: 172ms\n",
      "812:\tlearn: 0.1109606\ttotal: 744ms\tremaining: 171ms\n",
      "813:\tlearn: 0.1108460\ttotal: 745ms\tremaining: 170ms\n",
      "814:\tlearn: 0.1107026\ttotal: 746ms\tremaining: 169ms\n",
      "815:\tlearn: 0.1106175\ttotal: 747ms\tremaining: 168ms\n",
      "816:\tlearn: 0.1103515\ttotal: 748ms\tremaining: 167ms\n",
      "817:\tlearn: 0.1101157\ttotal: 749ms\tremaining: 167ms\n",
      "818:\tlearn: 0.1100970\ttotal: 749ms\tremaining: 166ms\n",
      "819:\tlearn: 0.1098570\ttotal: 750ms\tremaining: 165ms\n",
      "820:\tlearn: 0.1096004\ttotal: 751ms\tremaining: 164ms\n",
      "821:\tlearn: 0.1093194\ttotal: 752ms\tremaining: 163ms\n",
      "822:\tlearn: 0.1091769\ttotal: 753ms\tremaining: 162ms\n",
      "823:\tlearn: 0.1090112\ttotal: 753ms\tremaining: 161ms\n",
      "824:\tlearn: 0.1087625\ttotal: 754ms\tremaining: 160ms\n",
      "825:\tlearn: 0.1087468\ttotal: 755ms\tremaining: 159ms\n",
      "826:\tlearn: 0.1086752\ttotal: 757ms\tremaining: 158ms\n",
      "827:\tlearn: 0.1084843\ttotal: 757ms\tremaining: 157ms\n",
      "828:\tlearn: 0.1082876\ttotal: 758ms\tremaining: 156ms\n",
      "829:\tlearn: 0.1082593\ttotal: 759ms\tremaining: 156ms\n",
      "830:\tlearn: 0.1081137\ttotal: 760ms\tremaining: 155ms\n",
      "831:\tlearn: 0.1078933\ttotal: 761ms\tremaining: 154ms\n",
      "832:\tlearn: 0.1077557\ttotal: 762ms\tremaining: 153ms\n",
      "833:\tlearn: 0.1075435\ttotal: 763ms\tremaining: 152ms\n",
      "834:\tlearn: 0.1074375\ttotal: 764ms\tremaining: 151ms\n",
      "835:\tlearn: 0.1072662\ttotal: 765ms\tremaining: 150ms\n",
      "836:\tlearn: 0.1070978\ttotal: 765ms\tremaining: 149ms\n",
      "837:\tlearn: 0.1069902\ttotal: 766ms\tremaining: 148ms\n",
      "838:\tlearn: 0.1069650\ttotal: 767ms\tremaining: 147ms\n",
      "839:\tlearn: 0.1068054\ttotal: 768ms\tremaining: 146ms\n",
      "840:\tlearn: 0.1066356\ttotal: 769ms\tremaining: 145ms\n",
      "841:\tlearn: 0.1065052\ttotal: 770ms\tremaining: 144ms\n",
      "842:\tlearn: 0.1064496\ttotal: 770ms\tremaining: 143ms\n",
      "843:\tlearn: 0.1062083\ttotal: 771ms\tremaining: 143ms\n",
      "844:\tlearn: 0.1061520\ttotal: 772ms\tremaining: 142ms\n",
      "845:\tlearn: 0.1061280\ttotal: 773ms\tremaining: 141ms\n",
      "846:\tlearn: 0.1060286\ttotal: 774ms\tremaining: 140ms\n",
      "847:\tlearn: 0.1058234\ttotal: 775ms\tremaining: 139ms\n",
      "848:\tlearn: 0.1055942\ttotal: 776ms\tremaining: 138ms\n",
      "849:\tlearn: 0.1054714\ttotal: 777ms\tremaining: 137ms\n",
      "850:\tlearn: 0.1052359\ttotal: 777ms\tremaining: 136ms\n",
      "851:\tlearn: 0.1050220\ttotal: 778ms\tremaining: 135ms\n",
      "852:\tlearn: 0.1049397\ttotal: 779ms\tremaining: 134ms\n",
      "853:\tlearn: 0.1048304\ttotal: 780ms\tremaining: 133ms\n",
      "854:\tlearn: 0.1047083\ttotal: 781ms\tremaining: 132ms\n",
      "855:\tlearn: 0.1045803\ttotal: 782ms\tremaining: 131ms\n",
      "856:\tlearn: 0.1043445\ttotal: 783ms\tremaining: 131ms\n",
      "857:\tlearn: 0.1042379\ttotal: 783ms\tremaining: 130ms\n",
      "858:\tlearn: 0.1040952\ttotal: 784ms\tremaining: 129ms\n",
      "859:\tlearn: 0.1039736\ttotal: 785ms\tremaining: 128ms\n",
      "860:\tlearn: 0.1037687\ttotal: 786ms\tremaining: 127ms\n",
      "861:\tlearn: 0.1036376\ttotal: 787ms\tremaining: 126ms\n",
      "862:\tlearn: 0.1035876\ttotal: 788ms\tremaining: 125ms\n",
      "863:\tlearn: 0.1032984\ttotal: 789ms\tremaining: 124ms\n",
      "864:\tlearn: 0.1031745\ttotal: 789ms\tremaining: 123ms\n",
      "865:\tlearn: 0.1030507\ttotal: 790ms\tremaining: 122ms\n",
      "866:\tlearn: 0.1029766\ttotal: 791ms\tremaining: 121ms\n",
      "867:\tlearn: 0.1028380\ttotal: 792ms\tremaining: 120ms\n",
      "868:\tlearn: 0.1026526\ttotal: 793ms\tremaining: 120ms\n",
      "869:\tlearn: 0.1024815\ttotal: 794ms\tremaining: 119ms\n",
      "870:\tlearn: 0.1023180\ttotal: 795ms\tremaining: 118ms\n",
      "871:\tlearn: 0.1021262\ttotal: 795ms\tremaining: 117ms\n",
      "872:\tlearn: 0.1019938\ttotal: 796ms\tremaining: 116ms\n",
      "873:\tlearn: 0.1018675\ttotal: 797ms\tremaining: 115ms\n",
      "874:\tlearn: 0.1016836\ttotal: 798ms\tremaining: 114ms\n",
      "875:\tlearn: 0.1016143\ttotal: 799ms\tremaining: 113ms\n",
      "876:\tlearn: 0.1014911\ttotal: 800ms\tremaining: 112ms\n",
      "877:\tlearn: 0.1013610\ttotal: 801ms\tremaining: 111ms\n",
      "878:\tlearn: 0.1011698\ttotal: 802ms\tremaining: 110ms\n",
      "879:\tlearn: 0.1011161\ttotal: 802ms\tremaining: 109ms\n",
      "880:\tlearn: 0.1010013\ttotal: 803ms\tremaining: 109ms\n",
      "881:\tlearn: 0.1008178\ttotal: 804ms\tremaining: 108ms\n",
      "882:\tlearn: 0.1007308\ttotal: 805ms\tremaining: 107ms\n",
      "883:\tlearn: 0.1006586\ttotal: 806ms\tremaining: 106ms\n",
      "884:\tlearn: 0.1005608\ttotal: 807ms\tremaining: 105ms\n",
      "885:\tlearn: 0.1004353\ttotal: 808ms\tremaining: 104ms\n",
      "886:\tlearn: 0.1002001\ttotal: 809ms\tremaining: 103ms\n",
      "887:\tlearn: 0.1000156\ttotal: 810ms\tremaining: 102ms\n",
      "888:\tlearn: 0.0999047\ttotal: 811ms\tremaining: 101ms\n",
      "889:\tlearn: 0.0997930\ttotal: 811ms\tremaining: 100ms\n",
      "890:\tlearn: 0.0997798\ttotal: 812ms\tremaining: 99.4ms\n",
      "891:\tlearn: 0.0996458\ttotal: 813ms\tremaining: 98.4ms\n",
      "892:\tlearn: 0.0994935\ttotal: 814ms\tremaining: 97.6ms\n",
      "893:\tlearn: 0.0994006\ttotal: 816ms\tremaining: 96.7ms\n",
      "894:\tlearn: 0.0992567\ttotal: 817ms\tremaining: 95.8ms\n",
      "895:\tlearn: 0.0990794\ttotal: 818ms\tremaining: 94.9ms\n",
      "896:\tlearn: 0.0988610\ttotal: 819ms\tremaining: 94.1ms\n",
      "897:\tlearn: 0.0986769\ttotal: 820ms\tremaining: 93.2ms\n",
      "898:\tlearn: 0.0986123\ttotal: 822ms\tremaining: 92.3ms\n",
      "899:\tlearn: 0.0984897\ttotal: 823ms\tremaining: 91.5ms\n",
      "900:\tlearn: 0.0983552\ttotal: 824ms\tremaining: 90.5ms\n",
      "901:\tlearn: 0.0982391\ttotal: 825ms\tremaining: 89.6ms\n",
      "902:\tlearn: 0.0980573\ttotal: 826ms\tremaining: 88.7ms\n",
      "903:\tlearn: 0.0978897\ttotal: 826ms\tremaining: 87.8ms\n",
      "904:\tlearn: 0.0977621\ttotal: 827ms\tremaining: 86.8ms\n",
      "905:\tlearn: 0.0976359\ttotal: 828ms\tremaining: 85.9ms\n",
      "906:\tlearn: 0.0975626\ttotal: 829ms\tremaining: 85ms\n",
      "907:\tlearn: 0.0974332\ttotal: 830ms\tremaining: 84.1ms\n",
      "908:\tlearn: 0.0972315\ttotal: 830ms\tremaining: 83.1ms\n",
      "909:\tlearn: 0.0971034\ttotal: 831ms\tremaining: 82.2ms\n",
      "910:\tlearn: 0.0970373\ttotal: 832ms\tremaining: 81.3ms\n",
      "911:\tlearn: 0.0968852\ttotal: 833ms\tremaining: 80.4ms\n",
      "912:\tlearn: 0.0968366\ttotal: 834ms\tremaining: 79.5ms\n",
      "913:\tlearn: 0.0967049\ttotal: 835ms\tremaining: 78.5ms\n",
      "914:\tlearn: 0.0966400\ttotal: 835ms\tremaining: 77.6ms\n",
      "915:\tlearn: 0.0965947\ttotal: 836ms\tremaining: 76.7ms\n",
      "916:\tlearn: 0.0964386\ttotal: 837ms\tremaining: 75.8ms\n",
      "917:\tlearn: 0.0963824\ttotal: 838ms\tremaining: 74.8ms\n",
      "918:\tlearn: 0.0962462\ttotal: 839ms\tremaining: 73.9ms\n",
      "919:\tlearn: 0.0961940\ttotal: 839ms\tremaining: 73ms\n",
      "920:\tlearn: 0.0961232\ttotal: 840ms\tremaining: 72.1ms\n",
      "921:\tlearn: 0.0959628\ttotal: 841ms\tremaining: 71.2ms\n",
      "922:\tlearn: 0.0958915\ttotal: 842ms\tremaining: 70.2ms\n",
      "923:\tlearn: 0.0958129\ttotal: 843ms\tremaining: 69.3ms\n",
      "924:\tlearn: 0.0957791\ttotal: 844ms\tremaining: 68.4ms\n",
      "925:\tlearn: 0.0957192\ttotal: 844ms\tremaining: 67.5ms\n",
      "926:\tlearn: 0.0956080\ttotal: 845ms\tremaining: 66.6ms\n",
      "927:\tlearn: 0.0954574\ttotal: 846ms\tremaining: 65.6ms\n",
      "928:\tlearn: 0.0954189\ttotal: 847ms\tremaining: 64.7ms\n",
      "929:\tlearn: 0.0953046\ttotal: 848ms\tremaining: 63.8ms\n",
      "930:\tlearn: 0.0951252\ttotal: 849ms\tremaining: 62.9ms\n",
      "931:\tlearn: 0.0950384\ttotal: 849ms\tremaining: 62ms\n",
      "932:\tlearn: 0.0949957\ttotal: 850ms\tremaining: 61.1ms\n",
      "933:\tlearn: 0.0949543\ttotal: 851ms\tremaining: 60.1ms\n",
      "934:\tlearn: 0.0948020\ttotal: 852ms\tremaining: 59.2ms\n",
      "935:\tlearn: 0.0946860\ttotal: 853ms\tremaining: 58.3ms\n",
      "936:\tlearn: 0.0945109\ttotal: 854ms\tremaining: 57.4ms\n",
      "937:\tlearn: 0.0944512\ttotal: 854ms\tremaining: 56.5ms\n",
      "938:\tlearn: 0.0943169\ttotal: 855ms\tremaining: 55.6ms\n",
      "939:\tlearn: 0.0942617\ttotal: 856ms\tremaining: 54.6ms\n",
      "940:\tlearn: 0.0940439\ttotal: 857ms\tremaining: 53.7ms\n",
      "941:\tlearn: 0.0938323\ttotal: 858ms\tremaining: 52.8ms\n",
      "942:\tlearn: 0.0936320\ttotal: 858ms\tremaining: 51.9ms\n",
      "943:\tlearn: 0.0935159\ttotal: 859ms\tremaining: 51ms\n",
      "944:\tlearn: 0.0933446\ttotal: 860ms\tremaining: 50.1ms\n",
      "945:\tlearn: 0.0932643\ttotal: 861ms\tremaining: 49.1ms\n",
      "946:\tlearn: 0.0931600\ttotal: 862ms\tremaining: 48.2ms\n",
      "947:\tlearn: 0.0929843\ttotal: 862ms\tremaining: 47.3ms\n",
      "948:\tlearn: 0.0928535\ttotal: 863ms\tremaining: 46.4ms\n",
      "949:\tlearn: 0.0927705\ttotal: 864ms\tremaining: 45.5ms\n",
      "950:\tlearn: 0.0927449\ttotal: 865ms\tremaining: 44.6ms\n",
      "951:\tlearn: 0.0927141\ttotal: 866ms\tremaining: 43.6ms\n",
      "952:\tlearn: 0.0926434\ttotal: 867ms\tremaining: 42.7ms\n",
      "953:\tlearn: 0.0925690\ttotal: 867ms\tremaining: 41.8ms\n",
      "954:\tlearn: 0.0925396\ttotal: 868ms\tremaining: 40.9ms\n",
      "955:\tlearn: 0.0924913\ttotal: 869ms\tremaining: 40ms\n",
      "956:\tlearn: 0.0924691\ttotal: 870ms\tremaining: 39.1ms\n",
      "957:\tlearn: 0.0924339\ttotal: 871ms\tremaining: 38.2ms\n",
      "958:\tlearn: 0.0923501\ttotal: 871ms\tremaining: 37.3ms\n",
      "959:\tlearn: 0.0922907\ttotal: 872ms\tremaining: 36.3ms\n",
      "960:\tlearn: 0.0921322\ttotal: 873ms\tremaining: 35.4ms\n",
      "961:\tlearn: 0.0920500\ttotal: 874ms\tremaining: 34.5ms\n",
      "962:\tlearn: 0.0919798\ttotal: 875ms\tremaining: 33.6ms\n",
      "963:\tlearn: 0.0918716\ttotal: 875ms\tremaining: 32.7ms\n",
      "964:\tlearn: 0.0918209\ttotal: 876ms\tremaining: 31.8ms\n",
      "965:\tlearn: 0.0917094\ttotal: 877ms\tremaining: 30.9ms\n",
      "966:\tlearn: 0.0916011\ttotal: 878ms\tremaining: 30ms\n",
      "967:\tlearn: 0.0915195\ttotal: 879ms\tremaining: 29.1ms\n",
      "968:\tlearn: 0.0914496\ttotal: 880ms\tremaining: 28.1ms\n",
      "969:\tlearn: 0.0914213\ttotal: 880ms\tremaining: 27.2ms\n",
      "970:\tlearn: 0.0913036\ttotal: 881ms\tremaining: 26.3ms\n",
      "971:\tlearn: 0.0911222\ttotal: 882ms\tremaining: 25.4ms\n",
      "972:\tlearn: 0.0909176\ttotal: 883ms\tremaining: 24.5ms\n",
      "973:\tlearn: 0.0908857\ttotal: 884ms\tremaining: 23.6ms\n",
      "974:\tlearn: 0.0908455\ttotal: 884ms\tremaining: 22.7ms\n",
      "975:\tlearn: 0.0907595\ttotal: 885ms\tremaining: 21.8ms\n",
      "976:\tlearn: 0.0907468\ttotal: 886ms\tremaining: 20.9ms\n",
      "977:\tlearn: 0.0906647\ttotal: 887ms\tremaining: 19.9ms\n",
      "978:\tlearn: 0.0905803\ttotal: 888ms\tremaining: 19ms\n",
      "979:\tlearn: 0.0905421\ttotal: 888ms\tremaining: 18.1ms\n",
      "980:\tlearn: 0.0904718\ttotal: 889ms\tremaining: 17.2ms\n",
      "981:\tlearn: 0.0902729\ttotal: 890ms\tremaining: 16.3ms\n",
      "982:\tlearn: 0.0900796\ttotal: 891ms\tremaining: 15.4ms\n",
      "983:\tlearn: 0.0900089\ttotal: 892ms\tremaining: 14.5ms\n",
      "984:\tlearn: 0.0897560\ttotal: 893ms\tremaining: 13.6ms\n",
      "985:\tlearn: 0.0895744\ttotal: 893ms\tremaining: 12.7ms\n",
      "986:\tlearn: 0.0894764\ttotal: 894ms\tremaining: 11.8ms\n",
      "987:\tlearn: 0.0894324\ttotal: 895ms\tremaining: 10.9ms\n",
      "988:\tlearn: 0.0893773\ttotal: 896ms\tremaining: 9.96ms\n",
      "989:\tlearn: 0.0891894\ttotal: 897ms\tremaining: 9.06ms\n",
      "990:\tlearn: 0.0891613\ttotal: 897ms\tremaining: 8.15ms\n",
      "991:\tlearn: 0.0890666\ttotal: 898ms\tremaining: 7.24ms\n",
      "992:\tlearn: 0.0889474\ttotal: 899ms\tremaining: 6.34ms\n",
      "993:\tlearn: 0.0889219\ttotal: 900ms\tremaining: 5.43ms\n",
      "994:\tlearn: 0.0888623\ttotal: 901ms\tremaining: 4.53ms\n",
      "995:\tlearn: 0.0888327\ttotal: 901ms\tremaining: 3.62ms\n",
      "996:\tlearn: 0.0887942\ttotal: 902ms\tremaining: 2.71ms\n",
      "997:\tlearn: 0.0887044\ttotal: 903ms\tremaining: 1.81ms\n",
      "998:\tlearn: 0.0885954\ttotal: 904ms\tremaining: 904us\n",
      "999:\tlearn: 0.0885143\ttotal: 905ms\tremaining: 0us\n"
     ]
    },
    {
     "data": {
      "text/plain": [
       "<catboost.core.CatBoostClassifier at 0x7fae066c2a00>"
      ]
     },
     "execution_count": 299,
     "metadata": {},
     "output_type": "execute_result"
    }
   ],
   "source": [
    "cat = CatBoostClassifier()\n",
    "cat.fit(X_train, y_train)"
   ]
  },
  {
   "cell_type": "code",
   "execution_count": 300,
   "metadata": {
    "tags": []
   },
   "outputs": [
    {
     "name": "stdout",
     "output_type": "stream",
     "text": [
      "0.9884836852207294\n",
      "0.8702290076335878\n"
     ]
    }
   ],
   "source": [
    "print(cat.score(X_train, y_train))\n",
    "print(cat.score(X_test, y_test))"
   ]
  },
  {
   "cell_type": "code",
   "execution_count": 301,
   "metadata": {
    "tags": []
   },
   "outputs": [
    {
     "data": {
      "text/plain": [
       "array([0, 0, 0, 0, 1, 1, 0, 1, 0, 0, 0, 0, 1, 0, 0, 1, 0, 1, 1, 1, 1, 0,\n",
       "       0, 1, 1, 1, 1, 0, 0, 1, 0, 1, 1, 1, 1, 0, 0, 0, 0, 1, 1, 1, 1, 1,\n",
       "       0, 1, 0, 1, 1, 1, 1, 1, 0, 0, 1, 1, 0, 0, 1, 0, 0, 1, 1, 1, 1, 0,\n",
       "       0, 1, 0, 0, 0, 1, 1, 1, 1, 0, 1, 0, 1, 0, 0, 1, 0, 1, 0, 0, 1, 1,\n",
       "       1, 0, 1, 1, 1, 0, 0, 1, 1, 1, 1, 1, 0, 1, 1, 1, 1, 1, 1, 0, 0, 0,\n",
       "       1, 1, 0, 0, 0, 1, 1, 1, 1, 0, 0, 1, 0, 1, 1, 0, 0, 0, 0, 1, 1])"
      ]
     },
     "execution_count": 301,
     "metadata": {},
     "output_type": "execute_result"
    }
   ],
   "source": [
    "y_pred = cat.predict(X_test)\n",
    "y_pred"
   ]
  },
  {
   "cell_type": "code",
   "execution_count": 302,
   "metadata": {
    "tags": []
   },
   "outputs": [
    {
     "data": {
      "text/plain": [
       "array([[50,  9],\n",
       "       [ 8, 64]])"
      ]
     },
     "execution_count": 302,
     "metadata": {},
     "output_type": "execute_result"
    }
   ],
   "source": [
    "from sklearn.metrics import confusion_matrix\n",
    "  \n",
    "cm = confusion_matrix(y_test, y_pred)\n",
    "cm"
   ]
  },
  {
   "cell_type": "code",
   "execution_count": 303,
   "metadata": {
    "tags": []
   },
   "outputs": [
    {
     "data": {
      "text/plain": [
       "<matplotlib.axes._subplots.AxesSubplot at 0x7fae07261ac0>"
      ]
     },
     "execution_count": 303,
     "metadata": {},
     "output_type": "execute_result"
    },
    {
     "data": {
      "image/png": "[encoded data removed]",
      "text/plain": [
       "<Figure size 640x480 with 2 Axes>"
      ]
     },
     "metadata": {},
     "output_type": "display_data"
    }
   ],
   "source": [
    "import seaborn as sns\n",
    "\n",
    "sns.heatmap(pd.DataFrame(cm), annot=True)"
   ]
  },
  {
   "cell_type": "code",
   "execution_count": 337,
   "metadata": {
    "tags": []
   },
   "outputs": [
    {
     "name": "stdout",
     "output_type": "stream",
     "text": [
      "cat: ROC AUC=0.932\n"
     ]
    },
    {
     "data": {
      "image/png": "[encoded data removed]",
      "text/plain": [
       "<Figure size 640x480 with 1 Axes>"
      ]
     },
     "metadata": {},
     "output_type": "display_data"
    }
   ],
   "source": [
    "from sklearn.metrics import roc_curve, auc\n",
    "from sklearn.metrics import roc_auc_score\n",
    "\n",
    "# получаем предказания\n",
    "lr_probs = cat.predict_proba(X_test)\n",
    "# сохраняем вероятности только для положительного исхода\n",
    "lr_probs = lr_probs[:, 1]\n",
    "# рассчитываем ROC AUC\n",
    "lr_auc = roc_auc_score(y_test, lr_probs)\n",
    "print('cat: ROC AUC=%.3f' % (lr_auc))\n",
    "# рассчитываем roc-кривую\n",
    "fpr, tpr, treshold = roc_curve(y_test, lr_probs)\n",
    "roc_auc = auc(fpr, tpr)\n",
    "# строим график\n",
    "plt.plot(fpr, tpr, color='darkorange',\n",
    "         label='ROC кривая (area = %0.2f)' % roc_auc)\n",
    "plt.plot([0, 1], [0, 1], color='navy', linestyle='--')\n",
    "plt.xlim([0.0, 1.0])\n",
    "plt.ylim([0.0, 1.05])\n",
    "plt.xlabel('False Positive Rate')\n",
    "plt.ylabel('True Positive Rate')\n",
    "plt.title('Пример ROC-кривой')\n",
    "plt.legend(loc=\"lower right\")\n",
    "plt.show()"
   ]
  },
  {
   "cell_type": "code",
   "execution_count": null,
   "metadata": {},
   "outputs": [],
   "source": []
  },
  {
   "cell_type": "code",
   "execution_count": 338,
   "metadata": {
    "tags": []
   },
   "outputs": [],
   "source": [
    "tree = RandomForestClassifier(n_estimators=200, min_samples_split=20, min_samples_leaf=20)"
   ]
  },
  {
   "cell_type": "code",
   "execution_count": 339,
   "metadata": {
    "tags": []
   },
   "outputs": [
    {
     "data": {
      "text/html": [
       "<style>#sk-container-id-28 {color: black;background-color: white;}#sk-container-id-28 pre{padding: 0;}#sk-container-id-28 div.sk-toggleable {background-color: white;}#sk-container-id-28 label.sk-toggleable__label {cursor: pointer;display: block;width: 100%;margin-bottom: 0;padding: 0.3em;box-sizing: border-box;text-align: center;}#sk-container-id-28 label.sk-toggleable__label-arrow:before {content: \"▸\";float: left;margin-right: 0.25em;color: #696969;}#sk-container-id-28 label.sk-toggleable__label-arrow:hover:before {color: black;}#sk-container-id-28 div.sk-estimator:hover label.sk-toggleable__label-arrow:before {color: black;}#sk-container-id-28 div.sk-toggleable__content {max-height: 0;max-width: 0;overflow: hidden;text-align: left;background-color: #f0f8ff;}#sk-container-id-28 div.sk-toggleable__content pre {margin: 0.2em;color: black;border-radius: 0.25em;background-color: #f0f8ff;}#sk-container-id-28 input.sk-toggleable__control:checked~div.sk-toggleable__content {max-height: 200px;max-width: 100%;overflow: auto;}#sk-container-id-28 input.sk-toggleable__control:checked~label.sk-toggleable__label-arrow:before {content: \"▾\";}#sk-container-id-28 div.sk-estimator input.sk-toggleable__control:checked~label.sk-toggleable__label {background-color: #d4ebff;}#sk-container-id-28 div.sk-label input.sk-toggleable__control:checked~label.sk-toggleable__label {background-color: #d4ebff;}#sk-container-id-28 input.sk-hidden--visually {border: 0;clip: rect(1px 1px 1px 1px);clip: rect(1px, 1px, 1px, 1px);height: 1px;margin: -1px;overflow: hidden;padding: 0;position: absolute;width: 1px;}#sk-container-id-28 div.sk-estimator {font-family: monospace;background-color: #f0f8ff;border: 1px dotted black;border-radius: 0.25em;box-sizing: border-box;margin-bottom: 0.5em;}#sk-container-id-28 div.sk-estimator:hover {background-color: #d4ebff;}#sk-container-id-28 div.sk-parallel-item::after {content: \"\";width: 100%;border-bottom: 1px solid gray;flex-grow: 1;}#sk-container-id-28 div.sk-label:hover label.sk-toggleable__label {background-color: #d4ebff;}#sk-container-id-28 div.sk-serial::before {content: \"\";position: absolute;border-left: 1px solid gray;box-sizing: border-box;top: 0;bottom: 0;left: 50%;z-index: 0;}#sk-container-id-28 div.sk-serial {display: flex;flex-direction: column;align-items: center;background-color: white;padding-right: 0.2em;padding-left: 0.2em;position: relative;}#sk-container-id-28 div.sk-item {position: relative;z-index: 1;}#sk-container-id-28 div.sk-parallel {display: flex;align-items: stretch;justify-content: center;background-color: white;position: relative;}#sk-container-id-28 div.sk-item::before, #sk-container-id-28 div.sk-parallel-item::before {content: \"\";position: absolute;border-left: 1px solid gray;box-sizing: border-box;top: 0;bottom: 0;left: 50%;z-index: -1;}#sk-container-id-28 div.sk-parallel-item {display: flex;flex-direction: column;z-index: 1;position: relative;background-color: white;}#sk-container-id-28 div.sk-parallel-item:first-child::after {align-self: flex-end;width: 50%;}#sk-container-id-28 div.sk-parallel-item:last-child::after {align-self: flex-start;width: 50%;}#sk-container-id-28 div.sk-parallel-item:only-child::after {width: 0;}#sk-container-id-28 div.sk-dashed-wrapped {border: 1px dashed gray;margin: 0 0.4em 0.5em 0.4em;box-sizing: border-box;padding-bottom: 0.4em;background-color: white;}#sk-container-id-28 div.sk-label label {font-family: monospace;font-weight: bold;display: inline-block;line-height: 1.2em;}#sk-container-id-28 div.sk-label-container {text-align: center;}#sk-container-id-28 div.sk-container {/* jupyter's `normalize.less` sets `[hidden] { display: none; }` but bootstrap.min.css set `[hidden] { display: none !important; }` so we also need the `!important` here to be able to override the default hidden behavior on the sphinx rendered scikit-learn.org. See: https://github.com/scikit-learn/scikit-learn/issues/21755 */display: inline-block !important;position: relative;}#sk-container-id-28 div.sk-text-repr-fallback {display: none;}</style><div id=\"sk-container-id-28\" class=\"sk-top-container\"><div class=\"sk-text-repr-fallback\"><pre>RandomForestClassifier(min_samples_leaf=20, min_samples_split=20,\n",
       "                       n_estimators=200)</pre><b>In a Jupyter environment, please rerun this cell to show the HTML representation or trust the notebook. <br />On GitHub, the HTML representation is unable to render, please try loading this page with nbviewer.org.</b></div><div class=\"sk-container\" hidden><div class=\"sk-item\"><div class=\"sk-estimator sk-toggleable\"><input class=\"sk-toggleable__control sk-hidden--visually\" id=\"sk-estimator-id-44\" type=\"checkbox\" checked><label for=\"sk-estimator-id-44\" class=\"sk-toggleable__label sk-toggleable__label-arrow\">RandomForestClassifier</label><div class=\"sk-toggleable__content\"><pre>RandomForestClassifier(min_samples_leaf=20, min_samples_split=20,\n",
       "                       n_estimators=200)</pre></div></div></div></div></div>"
      ],
      "text/plain": [
       "RandomForestClassifier(min_samples_leaf=20, min_samples_split=20,\n",
       "                       n_estimators=200)"
      ]
     },
     "execution_count": 339,
     "metadata": {},
     "output_type": "execute_result"
    }
   ],
   "source": [
    "tree.fit(X_train, y_train)"
   ]
  },
  {
   "cell_type": "code",
   "execution_count": 340,
   "metadata": {
    "tags": []
   },
   "outputs": [
    {
     "name": "stdout",
     "output_type": "stream",
     "text": [
      "0.8848368522072937\n",
      "0.8473282442748091\n"
     ]
    }
   ],
   "source": [
    "print(tree.score(X_train, y_train))\n",
    "print(tree.score(X_test, y_test))"
   ]
  },
  {
   "cell_type": "code",
   "execution_count": 341,
   "metadata": {
    "tags": []
   },
   "outputs": [],
   "source": [
    "param_grid = { \n",
    "    'n_estimators': [200, 500],\n",
    "    'max_features': ['auto', 'sqrt', 'log2'],\n",
    "    'max_depth' : [4,5,6,7,8],\n",
    "    'criterion' :['gini', 'entropy']\n",
    "}"
   ]
  },
  {
   "cell_type": "code",
   "execution_count": 342,
   "metadata": {
    "tags": []
   },
   "outputs": [
    {
     "data": {
      "text/html": [
       "<style>#sk-container-id-29 {color: black;background-color: white;}#sk-container-id-29 pre{padding: 0;}#sk-container-id-29 div.sk-toggleable {background-color: white;}#sk-container-id-29 label.sk-toggleable__label {cursor: pointer;display: block;width: 100%;margin-bottom: 0;padding: 0.3em;box-sizing: border-box;text-align: center;}#sk-container-id-29 label.sk-toggleable__label-arrow:before {content: \"▸\";float: left;margin-right: 0.25em;color: #696969;}#sk-container-id-29 label.sk-toggleable__label-arrow:hover:before {color: black;}#sk-container-id-29 div.sk-estimator:hover label.sk-toggleable__label-arrow:before {color: black;}#sk-container-id-29 div.sk-toggleable__content {max-height: 0;max-width: 0;overflow: hidden;text-align: left;background-color: #f0f8ff;}#sk-container-id-29 div.sk-toggleable__content pre {margin: 0.2em;color: black;border-radius: 0.25em;background-color: #f0f8ff;}#sk-container-id-29 input.sk-toggleable__control:checked~div.sk-toggleable__content {max-height: 200px;max-width: 100%;overflow: auto;}#sk-container-id-29 input.sk-toggleable__control:checked~label.sk-toggleable__label-arrow:before {content: \"▾\";}#sk-container-id-29 div.sk-estimator input.sk-toggleable__control:checked~label.sk-toggleable__label {background-color: #d4ebff;}#sk-container-id-29 div.sk-label input.sk-toggleable__control:checked~label.sk-toggleable__label {background-color: #d4ebff;}#sk-container-id-29 input.sk-hidden--visually {border: 0;clip: rect(1px 1px 1px 1px);clip: rect(1px, 1px, 1px, 1px);height: 1px;margin: -1px;overflow: hidden;padding: 0;position: absolute;width: 1px;}#sk-container-id-29 div.sk-estimator {font-family: monospace;background-color: #f0f8ff;border: 1px dotted black;border-radius: 0.25em;box-sizing: border-box;margin-bottom: 0.5em;}#sk-container-id-29 div.sk-estimator:hover {background-color: #d4ebff;}#sk-container-id-29 div.sk-parallel-item::after {content: \"\";width: 100%;border-bottom: 1px solid gray;flex-grow: 1;}#sk-container-id-29 div.sk-label:hover label.sk-toggleable__label {background-color: #d4ebff;}#sk-container-id-29 div.sk-serial::before {content: \"\";position: absolute;border-left: 1px solid gray;box-sizing: border-box;top: 0;bottom: 0;left: 50%;z-index: 0;}#sk-container-id-29 div.sk-serial {display: flex;flex-direction: column;align-items: center;background-color: white;padding-right: 0.2em;padding-left: 0.2em;position: relative;}#sk-container-id-29 div.sk-item {position: relative;z-index: 1;}#sk-container-id-29 div.sk-parallel {display: flex;align-items: stretch;justify-content: center;background-color: white;position: relative;}#sk-container-id-29 div.sk-item::before, #sk-container-id-29 div.sk-parallel-item::before {content: \"\";position: absolute;border-left: 1px solid gray;box-sizing: border-box;top: 0;bottom: 0;left: 50%;z-index: -1;}#sk-container-id-29 div.sk-parallel-item {display: flex;flex-direction: column;z-index: 1;position: relative;background-color: white;}#sk-container-id-29 div.sk-parallel-item:first-child::after {align-self: flex-end;width: 50%;}#sk-container-id-29 div.sk-parallel-item:last-child::after {align-self: flex-start;width: 50%;}#sk-container-id-29 div.sk-parallel-item:only-child::after {width: 0;}#sk-container-id-29 div.sk-dashed-wrapped {border: 1px dashed gray;margin: 0 0.4em 0.5em 0.4em;box-sizing: border-box;padding-bottom: 0.4em;background-color: white;}#sk-container-id-29 div.sk-label label {font-family: monospace;font-weight: bold;display: inline-block;line-height: 1.2em;}#sk-container-id-29 div.sk-label-container {text-align: center;}#sk-container-id-29 div.sk-container {/* jupyter's `normalize.less` sets `[hidden] { display: none; }` but bootstrap.min.css set `[hidden] { display: none !important; }` so we also need the `!important` here to be able to override the default hidden behavior on the sphinx rendered scikit-learn.org. See: https://github.com/scikit-learn/scikit-learn/issues/21755 */display: inline-block !important;position: relative;}#sk-container-id-29 div.sk-text-repr-fallback {display: none;}</style><div id=\"sk-container-id-29\" class=\"sk-top-container\"><div class=\"sk-text-repr-fallback\"><pre>GridSearchCV(cv=5,\n",
       "             estimator=RandomForestClassifier(min_samples_leaf=20,\n",
       "                                              min_samples_split=20,\n",
       "                                              n_estimators=200),\n",
       "             param_grid={&#x27;criterion&#x27;: [&#x27;gini&#x27;, &#x27;entropy&#x27;],\n",
       "                         &#x27;max_depth&#x27;: [4, 5, 6, 7, 8],\n",
       "                         &#x27;max_features&#x27;: [&#x27;auto&#x27;, &#x27;sqrt&#x27;, &#x27;log2&#x27;],\n",
       "                         &#x27;n_estimators&#x27;: [200, 500]})</pre><b>In a Jupyter environment, please rerun this cell to show the HTML representation or trust the notebook. <br />On GitHub, the HTML representation is unable to render, please try loading this page with nbviewer.org.</b></div><div class=\"sk-container\" hidden><div class=\"sk-item sk-dashed-wrapped\"><div class=\"sk-label-container\"><div class=\"sk-label sk-toggleable\"><input class=\"sk-toggleable__control sk-hidden--visually\" id=\"sk-estimator-id-45\" type=\"checkbox\" ><label for=\"sk-estimator-id-45\" class=\"sk-toggleable__label sk-toggleable__label-arrow\">GridSearchCV</label><div class=\"sk-toggleable__content\"><pre>GridSearchCV(cv=5,\n",
       "             estimator=RandomForestClassifier(min_samples_leaf=20,\n",
       "                                              min_samples_split=20,\n",
       "                                              n_estimators=200),\n",
       "             param_grid={&#x27;criterion&#x27;: [&#x27;gini&#x27;, &#x27;entropy&#x27;],\n",
       "                         &#x27;max_depth&#x27;: [4, 5, 6, 7, 8],\n",
       "                         &#x27;max_features&#x27;: [&#x27;auto&#x27;, &#x27;sqrt&#x27;, &#x27;log2&#x27;],\n",
       "                         &#x27;n_estimators&#x27;: [200, 500]})</pre></div></div></div><div class=\"sk-parallel\"><div class=\"sk-parallel-item\"><div class=\"sk-item\"><div class=\"sk-label-container\"><div class=\"sk-label sk-toggleable\"><input class=\"sk-toggleable__control sk-hidden--visually\" id=\"sk-estimator-id-46\" type=\"checkbox\" ><label for=\"sk-estimator-id-46\" class=\"sk-toggleable__label sk-toggleable__label-arrow\">estimator: RandomForestClassifier</label><div class=\"sk-toggleable__content\"><pre>RandomForestClassifier(min_samples_leaf=20, min_samples_split=20,\n",
       "                       n_estimators=200)</pre></div></div></div><div class=\"sk-serial\"><div class=\"sk-item\"><div class=\"sk-estimator sk-toggleable\"><input class=\"sk-toggleable__control sk-hidden--visually\" id=\"sk-estimator-id-47\" type=\"checkbox\" ><label for=\"sk-estimator-id-47\" class=\"sk-toggleable__label sk-toggleable__label-arrow\">RandomForestClassifier</label><div class=\"sk-toggleable__content\"><pre>RandomForestClassifier(min_samples_leaf=20, min_samples_split=20,\n",
       "                       n_estimators=200)</pre></div></div></div></div></div></div></div></div></div></div>"
      ],
      "text/plain": [
       "GridSearchCV(cv=5,\n",
       "             estimator=RandomForestClassifier(min_samples_leaf=20,\n",
       "                                              min_samples_split=20,\n",
       "                                              n_estimators=200),\n",
       "             param_grid={'criterion': ['gini', 'entropy'],\n",
       "                         'max_depth': [4, 5, 6, 7, 8],\n",
       "                         'max_features': ['auto', 'sqrt', 'log2'],\n",
       "                         'n_estimators': [200, 500]})"
      ]
     },
     "execution_count": 342,
     "metadata": {},
     "output_type": "execute_result"
    }
   ],
   "source": [
    "CV_rfc = GridSearchCV(estimator=tree, param_grid=param_grid, cv= 5)\n",
    "CV_rfc.fit(X_train, y_train)"
   ]
  },
  {
   "cell_type": "code",
   "execution_count": 343,
   "metadata": {
    "tags": []
   },
   "outputs": [
    {
     "data": {
      "text/plain": [
       "{'criterion': 'entropy',\n",
       " 'max_depth': 7,\n",
       " 'max_features': 'sqrt',\n",
       " 'n_estimators': 200}"
      ]
     },
     "execution_count": 343,
     "metadata": {},
     "output_type": "execute_result"
    }
   ],
   "source": [
    "CV_rfc.best_params_"
   ]
  },
  {
   "cell_type": "code",
   "execution_count": 344,
   "metadata": {
    "tags": []
   },
   "outputs": [],
   "source": [
    "rfc1=RandomForestClassifier(random_state=42, max_features='auto', n_estimators= 200, max_depth=7, criterion='entropy')"
   ]
  },
  {
   "cell_type": "code",
   "execution_count": 345,
   "metadata": {
    "tags": []
   },
   "outputs": [
    {
     "data": {
      "text/html": [
       "<style>#sk-container-id-30 {color: black;background-color: white;}#sk-container-id-30 pre{padding: 0;}#sk-container-id-30 div.sk-toggleable {background-color: white;}#sk-container-id-30 label.sk-toggleable__label {cursor: pointer;display: block;width: 100%;margin-bottom: 0;padding: 0.3em;box-sizing: border-box;text-align: center;}#sk-container-id-30 label.sk-toggleable__label-arrow:before {content: \"▸\";float: left;margin-right: 0.25em;color: #696969;}#sk-container-id-30 label.sk-toggleable__label-arrow:hover:before {color: black;}#sk-container-id-30 div.sk-estimator:hover label.sk-toggleable__label-arrow:before {color: black;}#sk-container-id-30 div.sk-toggleable__content {max-height: 0;max-width: 0;overflow: hidden;text-align: left;background-color: #f0f8ff;}#sk-container-id-30 div.sk-toggleable__content pre {margin: 0.2em;color: black;border-radius: 0.25em;background-color: #f0f8ff;}#sk-container-id-30 input.sk-toggleable__control:checked~div.sk-toggleable__content {max-height: 200px;max-width: 100%;overflow: auto;}#sk-container-id-30 input.sk-toggleable__control:checked~label.sk-toggleable__label-arrow:before {content: \"▾\";}#sk-container-id-30 div.sk-estimator input.sk-toggleable__control:checked~label.sk-toggleable__label {background-color: #d4ebff;}#sk-container-id-30 div.sk-label input.sk-toggleable__control:checked~label.sk-toggleable__label {background-color: #d4ebff;}#sk-container-id-30 input.sk-hidden--visually {border: 0;clip: rect(1px 1px 1px 1px);clip: rect(1px, 1px, 1px, 1px);height: 1px;margin: -1px;overflow: hidden;padding: 0;position: absolute;width: 1px;}#sk-container-id-30 div.sk-estimator {font-family: monospace;background-color: #f0f8ff;border: 1px dotted black;border-radius: 0.25em;box-sizing: border-box;margin-bottom: 0.5em;}#sk-container-id-30 div.sk-estimator:hover {background-color: #d4ebff;}#sk-container-id-30 div.sk-parallel-item::after {content: \"\";width: 100%;border-bottom: 1px solid gray;flex-grow: 1;}#sk-container-id-30 div.sk-label:hover label.sk-toggleable__label {background-color: #d4ebff;}#sk-container-id-30 div.sk-serial::before {content: \"\";position: absolute;border-left: 1px solid gray;box-sizing: border-box;top: 0;bottom: 0;left: 50%;z-index: 0;}#sk-container-id-30 div.sk-serial {display: flex;flex-direction: column;align-items: center;background-color: white;padding-right: 0.2em;padding-left: 0.2em;position: relative;}#sk-container-id-30 div.sk-item {position: relative;z-index: 1;}#sk-container-id-30 div.sk-parallel {display: flex;align-items: stretch;justify-content: center;background-color: white;position: relative;}#sk-container-id-30 div.sk-item::before, #sk-container-id-30 div.sk-parallel-item::before {content: \"\";position: absolute;border-left: 1px solid gray;box-sizing: border-box;top: 0;bottom: 0;left: 50%;z-index: -1;}#sk-container-id-30 div.sk-parallel-item {display: flex;flex-direction: column;z-index: 1;position: relative;background-color: white;}#sk-container-id-30 div.sk-parallel-item:first-child::after {align-self: flex-end;width: 50%;}#sk-container-id-30 div.sk-parallel-item:last-child::after {align-self: flex-start;width: 50%;}#sk-container-id-30 div.sk-parallel-item:only-child::after {width: 0;}#sk-container-id-30 div.sk-dashed-wrapped {border: 1px dashed gray;margin: 0 0.4em 0.5em 0.4em;box-sizing: border-box;padding-bottom: 0.4em;background-color: white;}#sk-container-id-30 div.sk-label label {font-family: monospace;font-weight: bold;display: inline-block;line-height: 1.2em;}#sk-container-id-30 div.sk-label-container {text-align: center;}#sk-container-id-30 div.sk-container {/* jupyter's `normalize.less` sets `[hidden] { display: none; }` but bootstrap.min.css set `[hidden] { display: none !important; }` so we also need the `!important` here to be able to override the default hidden behavior on the sphinx rendered scikit-learn.org. See: https://github.com/scikit-learn/scikit-learn/issues/21755 */display: inline-block !important;position: relative;}#sk-container-id-30 div.sk-text-repr-fallback {display: none;}</style><div id=\"sk-container-id-30\" class=\"sk-top-container\"><div class=\"sk-text-repr-fallback\"><pre>RandomForestClassifier(criterion=&#x27;entropy&#x27;, max_depth=7, max_features=&#x27;auto&#x27;,\n",
       "                       n_estimators=200, random_state=42)</pre><b>In a Jupyter environment, please rerun this cell to show the HTML representation or trust the notebook. <br />On GitHub, the HTML representation is unable to render, please try loading this page with nbviewer.org.</b></div><div class=\"sk-container\" hidden><div class=\"sk-item\"><div class=\"sk-estimator sk-toggleable\"><input class=\"sk-toggleable__control sk-hidden--visually\" id=\"sk-estimator-id-48\" type=\"checkbox\" checked><label for=\"sk-estimator-id-48\" class=\"sk-toggleable__label sk-toggleable__label-arrow\">RandomForestClassifier</label><div class=\"sk-toggleable__content\"><pre>RandomForestClassifier(criterion=&#x27;entropy&#x27;, max_depth=7, max_features=&#x27;auto&#x27;,\n",
       "                       n_estimators=200, random_state=42)</pre></div></div></div></div></div>"
      ],
      "text/plain": [
       "RandomForestClassifier(criterion='entropy', max_depth=7, max_features='auto',\n",
       "                       n_estimators=200, random_state=42)"
      ]
     },
     "execution_count": 345,
     "metadata": {},
     "output_type": "execute_result"
    }
   ],
   "source": [
    "rfc1.fit(X_train, y_train)"
   ]
  },
  {
   "cell_type": "code",
   "execution_count": 346,
   "metadata": {
    "tags": []
   },
   "outputs": [
    {
     "name": "stdout",
     "output_type": "stream",
     "text": [
      "0.9692898272552783\n",
      "0.8549618320610687\n"
     ]
    }
   ],
   "source": [
    "print(rfc1.score(X_train, y_train))\n",
    "print(rfc1.score(X_test, y_test))"
   ]
  },
  {
   "cell_type": "code",
   "execution_count": 347,
   "metadata": {
    "tags": []
   },
   "outputs": [
    {
     "data": {
      "text/plain": [
       "array([0, 0, 0, 0, 0, 1, 0, 1, 0, 0, 0, 0, 1, 0, 0, 1, 0, 1, 1, 1, 1, 0,\n",
       "       0, 1, 1, 1, 1, 0, 0, 0, 0, 1, 1, 1, 1, 0, 0, 0, 0, 1, 1, 1, 1, 1,\n",
       "       0, 1, 0, 1, 1, 1, 1, 1, 0, 0, 1, 1, 0, 0, 1, 0, 0, 1, 1, 1, 1, 0,\n",
       "       0, 1, 0, 0, 0, 1, 1, 1, 1, 0, 1, 0, 1, 0, 1, 1, 0, 1, 0, 0, 0, 1,\n",
       "       1, 0, 1, 1, 1, 0, 1, 0, 1, 1, 1, 1, 0, 1, 1, 1, 1, 1, 1, 0, 0, 0,\n",
       "       1, 1, 0, 0, 0, 1, 1, 1, 1, 0, 0, 1, 0, 0, 1, 0, 1, 0, 0, 1, 1])"
      ]
     },
     "execution_count": 347,
     "metadata": {},
     "output_type": "execute_result"
    }
   ],
   "source": [
    "y_pred1 = rfc1.predict(X_test)\n",
    "y_pred1"
   ]
  },
  {
   "cell_type": "code",
   "execution_count": 357,
   "metadata": {
    "tags": []
   },
   "outputs": [
    {
     "data": {
      "text/plain": [
       "array([[50,  9],\n",
       "       [10, 62]])"
      ]
     },
     "execution_count": 357,
     "metadata": {},
     "output_type": "execute_result"
    }
   ],
   "source": [
    "cm1 = confusion_matrix(y_test, y_pred1)\n",
    "cm1"
   ]
  },
  {
   "cell_type": "code",
   "execution_count": 349,
   "metadata": {
    "tags": []
   },
   "outputs": [
    {
     "data": {
      "text/plain": [
       "<matplotlib.axes._subplots.AxesSubplot at 0x7fae070ffca0>"
      ]
     },
     "execution_count": 349,
     "metadata": {},
     "output_type": "execute_result"
    },
    {
     "data": {
      "image/png": "[encoded data removed]",
      "text/plain": [
       "<Figure size 640x480 with 2 Axes>"
      ]
     },
     "metadata": {},
     "output_type": "display_data"
    }
   ],
   "source": [
    "sns.heatmap(pd.DataFrame(cm1), annot=True)"
   ]
  },
  {
   "cell_type": "code",
   "execution_count": 350,
   "metadata": {
    "tags": []
   },
   "outputs": [
    {
     "name": "stdout",
     "output_type": "stream",
     "text": [
      "RFC: ROC AUC=0.925\n"
     ]
    },
    {
     "data": {
      "image/png": "[encoded data removed]",
      "text/plain": [
       "<Figure size 640x480 with 1 Axes>"
      ]
     },
     "metadata": {},
     "output_type": "display_data"
    }
   ],
   "source": [
    "# получаем предказания\n",
    "lr_probs = rfc1.predict_proba(X_test)\n",
    "# сохраняем вероятности только для положительного исхода\n",
    "lr_probs = lr_probs[:, 1]\n",
    "# рассчитываем ROC AUC\n",
    "lr_auc = roc_auc_score(y_test, lr_probs)\n",
    "print('RFC: ROC AUC=%.3f' % (lr_auc))\n",
    "# рассчитываем roc-кривую\n",
    "fpr, tpr, treshold = roc_curve(y_test, lr_probs)\n",
    "roc_auc = auc(fpr, tpr)\n",
    "# строим график\n",
    "plt.plot(fpr, tpr, color='darkorange',\n",
    "         label='ROC кривая (area = %0.2f)' % roc_auc)\n",
    "plt.plot([0, 1], [0, 1], color='navy', linestyle='--')\n",
    "plt.xlim([0.0, 1.0])\n",
    "plt.ylim([0.0, 1.05])\n",
    "plt.xlabel('False Positive Rate')\n",
    "plt.ylabel('True Positive Rate')\n",
    "plt.title('Пример ROC-кривой')\n",
    "plt.legend(loc=\"lower right\")\n",
    "plt.show()"
   ]
  },
  {
   "cell_type": "code",
   "execution_count": 351,
   "metadata": {
    "tags": []
   },
   "outputs": [
    {
     "data": {
      "text/html": [
       "<style>#sk-container-id-31 {color: black;background-color: white;}#sk-container-id-31 pre{padding: 0;}#sk-container-id-31 div.sk-toggleable {background-color: white;}#sk-container-id-31 label.sk-toggleable__label {cursor: pointer;display: block;width: 100%;margin-bottom: 0;padding: 0.3em;box-sizing: border-box;text-align: center;}#sk-container-id-31 label.sk-toggleable__label-arrow:before {content: \"▸\";float: left;margin-right: 0.25em;color: #696969;}#sk-container-id-31 label.sk-toggleable__label-arrow:hover:before {color: black;}#sk-container-id-31 div.sk-estimator:hover label.sk-toggleable__label-arrow:before {color: black;}#sk-container-id-31 div.sk-toggleable__content {max-height: 0;max-width: 0;overflow: hidden;text-align: left;background-color: #f0f8ff;}#sk-container-id-31 div.sk-toggleable__content pre {margin: 0.2em;color: black;border-radius: 0.25em;background-color: #f0f8ff;}#sk-container-id-31 input.sk-toggleable__control:checked~div.sk-toggleable__content {max-height: 200px;max-width: 100%;overflow: auto;}#sk-container-id-31 input.sk-toggleable__control:checked~label.sk-toggleable__label-arrow:before {content: \"▾\";}#sk-container-id-31 div.sk-estimator input.sk-toggleable__control:checked~label.sk-toggleable__label {background-color: #d4ebff;}#sk-container-id-31 div.sk-label input.sk-toggleable__control:checked~label.sk-toggleable__label {background-color: #d4ebff;}#sk-container-id-31 input.sk-hidden--visually {border: 0;clip: rect(1px 1px 1px 1px);clip: rect(1px, 1px, 1px, 1px);height: 1px;margin: -1px;overflow: hidden;padding: 0;position: absolute;width: 1px;}#sk-container-id-31 div.sk-estimator {font-family: monospace;background-color: #f0f8ff;border: 1px dotted black;border-radius: 0.25em;box-sizing: border-box;margin-bottom: 0.5em;}#sk-container-id-31 div.sk-estimator:hover {background-color: #d4ebff;}#sk-container-id-31 div.sk-parallel-item::after {content: \"\";width: 100%;border-bottom: 1px solid gray;flex-grow: 1;}#sk-container-id-31 div.sk-label:hover label.sk-toggleable__label {background-color: #d4ebff;}#sk-container-id-31 div.sk-serial::before {content: \"\";position: absolute;border-left: 1px solid gray;box-sizing: border-box;top: 0;bottom: 0;left: 50%;z-index: 0;}#sk-container-id-31 div.sk-serial {display: flex;flex-direction: column;align-items: center;background-color: white;padding-right: 0.2em;padding-left: 0.2em;position: relative;}#sk-container-id-31 div.sk-item {position: relative;z-index: 1;}#sk-container-id-31 div.sk-parallel {display: flex;align-items: stretch;justify-content: center;background-color: white;position: relative;}#sk-container-id-31 div.sk-item::before, #sk-container-id-31 div.sk-parallel-item::before {content: \"\";position: absolute;border-left: 1px solid gray;box-sizing: border-box;top: 0;bottom: 0;left: 50%;z-index: -1;}#sk-container-id-31 div.sk-parallel-item {display: flex;flex-direction: column;z-index: 1;position: relative;background-color: white;}#sk-container-id-31 div.sk-parallel-item:first-child::after {align-self: flex-end;width: 50%;}#sk-container-id-31 div.sk-parallel-item:last-child::after {align-self: flex-start;width: 50%;}#sk-container-id-31 div.sk-parallel-item:only-child::after {width: 0;}#sk-container-id-31 div.sk-dashed-wrapped {border: 1px dashed gray;margin: 0 0.4em 0.5em 0.4em;box-sizing: border-box;padding-bottom: 0.4em;background-color: white;}#sk-container-id-31 div.sk-label label {font-family: monospace;font-weight: bold;display: inline-block;line-height: 1.2em;}#sk-container-id-31 div.sk-label-container {text-align: center;}#sk-container-id-31 div.sk-container {/* jupyter's `normalize.less` sets `[hidden] { display: none; }` but bootstrap.min.css set `[hidden] { display: none !important; }` so we also need the `!important` here to be able to override the default hidden behavior on the sphinx rendered scikit-learn.org. See: https://github.com/scikit-learn/scikit-learn/issues/21755 */display: inline-block !important;position: relative;}#sk-container-id-31 div.sk-text-repr-fallback {display: none;}</style><div id=\"sk-container-id-31\" class=\"sk-top-container\"><div class=\"sk-text-repr-fallback\"><pre>DecisionTreeClassifier(max_depth=8, min_samples_leaf=100, min_samples_split=100)</pre><b>In a Jupyter environment, please rerun this cell to show the HTML representation or trust the notebook. <br />On GitHub, the HTML representation is unable to render, please try loading this page with nbviewer.org.</b></div><div class=\"sk-container\" hidden><div class=\"sk-item\"><div class=\"sk-estimator sk-toggleable\"><input class=\"sk-toggleable__control sk-hidden--visually\" id=\"sk-estimator-id-49\" type=\"checkbox\" checked><label for=\"sk-estimator-id-49\" class=\"sk-toggleable__label sk-toggleable__label-arrow\">DecisionTreeClassifier</label><div class=\"sk-toggleable__content\"><pre>DecisionTreeClassifier(max_depth=8, min_samples_leaf=100, min_samples_split=100)</pre></div></div></div></div></div>"
      ],
      "text/plain": [
       "DecisionTreeClassifier(max_depth=8, min_samples_leaf=100, min_samples_split=100)"
      ]
     },
     "execution_count": 351,
     "metadata": {},
     "output_type": "execute_result"
    }
   ],
   "source": [
    "des_tree = DecisionTreeClassifier(max_depth = 8, min_samples_split=100, min_samples_leaf=100)\n",
    "des_tree.fit(X_train, y_train)"
   ]
  },
  {
   "cell_type": "code",
   "execution_count": 352,
   "metadata": {
    "tags": []
   },
   "outputs": [
    {
     "name": "stdout",
     "output_type": "stream",
     "text": [
      "0.8694817658349329\n",
      "0.8396946564885496\n"
     ]
    }
   ],
   "source": [
    "print(des_tree.score(X_train, y_train))\n",
    "print(des_tree.score(X_test, y_test))"
   ]
  },
  {
   "cell_type": "code",
   "execution_count": 353,
   "metadata": {
    "tags": []
   },
   "outputs": [
    {
     "name": "stdout",
     "output_type": "stream",
     "text": [
      "Fitting 5 folds for each of 90 candidates, totalling 450 fits\n"
     ]
    },
    {
     "data": {
      "text/html": [
       "<style>#sk-container-id-32 {color: black;background-color: white;}#sk-container-id-32 pre{padding: 0;}#sk-container-id-32 div.sk-toggleable {background-color: white;}#sk-container-id-32 label.sk-toggleable__label {cursor: pointer;display: block;width: 100%;margin-bottom: 0;padding: 0.3em;box-sizing: border-box;text-align: center;}#sk-container-id-32 label.sk-toggleable__label-arrow:before {content: \"▸\";float: left;margin-right: 0.25em;color: #696969;}#sk-container-id-32 label.sk-toggleable__label-arrow:hover:before {color: black;}#sk-container-id-32 div.sk-estimator:hover label.sk-toggleable__label-arrow:before {color: black;}#sk-container-id-32 div.sk-toggleable__content {max-height: 0;max-width: 0;overflow: hidden;text-align: left;background-color: #f0f8ff;}#sk-container-id-32 div.sk-toggleable__content pre {margin: 0.2em;color: black;border-radius: 0.25em;background-color: #f0f8ff;}#sk-container-id-32 input.sk-toggleable__control:checked~div.sk-toggleable__content {max-height: 200px;max-width: 100%;overflow: auto;}#sk-container-id-32 input.sk-toggleable__control:checked~label.sk-toggleable__label-arrow:before {content: \"▾\";}#sk-container-id-32 div.sk-estimator input.sk-toggleable__control:checked~label.sk-toggleable__label {background-color: #d4ebff;}#sk-container-id-32 div.sk-label input.sk-toggleable__control:checked~label.sk-toggleable__label {background-color: #d4ebff;}#sk-container-id-32 input.sk-hidden--visually {border: 0;clip: rect(1px 1px 1px 1px);clip: rect(1px, 1px, 1px, 1px);height: 1px;margin: -1px;overflow: hidden;padding: 0;position: absolute;width: 1px;}#sk-container-id-32 div.sk-estimator {font-family: monospace;background-color: #f0f8ff;border: 1px dotted black;border-radius: 0.25em;box-sizing: border-box;margin-bottom: 0.5em;}#sk-container-id-32 div.sk-estimator:hover {background-color: #d4ebff;}#sk-container-id-32 div.sk-parallel-item::after {content: \"\";width: 100%;border-bottom: 1px solid gray;flex-grow: 1;}#sk-container-id-32 div.sk-label:hover label.sk-toggleable__label {background-color: #d4ebff;}#sk-container-id-32 div.sk-serial::before {content: \"\";position: absolute;border-left: 1px solid gray;box-sizing: border-box;top: 0;bottom: 0;left: 50%;z-index: 0;}#sk-container-id-32 div.sk-serial {display: flex;flex-direction: column;align-items: center;background-color: white;padding-right: 0.2em;padding-left: 0.2em;position: relative;}#sk-container-id-32 div.sk-item {position: relative;z-index: 1;}#sk-container-id-32 div.sk-parallel {display: flex;align-items: stretch;justify-content: center;background-color: white;position: relative;}#sk-container-id-32 div.sk-item::before, #sk-container-id-32 div.sk-parallel-item::before {content: \"\";position: absolute;border-left: 1px solid gray;box-sizing: border-box;top: 0;bottom: 0;left: 50%;z-index: -1;}#sk-container-id-32 div.sk-parallel-item {display: flex;flex-direction: column;z-index: 1;position: relative;background-color: white;}#sk-container-id-32 div.sk-parallel-item:first-child::after {align-self: flex-end;width: 50%;}#sk-container-id-32 div.sk-parallel-item:last-child::after {align-self: flex-start;width: 50%;}#sk-container-id-32 div.sk-parallel-item:only-child::after {width: 0;}#sk-container-id-32 div.sk-dashed-wrapped {border: 1px dashed gray;margin: 0 0.4em 0.5em 0.4em;box-sizing: border-box;padding-bottom: 0.4em;background-color: white;}#sk-container-id-32 div.sk-label label {font-family: monospace;font-weight: bold;display: inline-block;line-height: 1.2em;}#sk-container-id-32 div.sk-label-container {text-align: center;}#sk-container-id-32 div.sk-container {/* jupyter's `normalize.less` sets `[hidden] { display: none; }` but bootstrap.min.css set `[hidden] { display: none !important; }` so we also need the `!important` here to be able to override the default hidden behavior on the sphinx rendered scikit-learn.org. See: https://github.com/scikit-learn/scikit-learn/issues/21755 */display: inline-block !important;position: relative;}#sk-container-id-32 div.sk-text-repr-fallback {display: none;}</style><div id=\"sk-container-id-32\" class=\"sk-top-container\"><div class=\"sk-text-repr-fallback\"><pre>GridSearchCV(cv=5, estimator=DecisionTreeClassifier(random_state=1024),\n",
       "             param_grid={&#x27;ccp_alpha&#x27;: [0.1, 0.01, 0.001],\n",
       "                         &#x27;criterion&#x27;: [&#x27;gini&#x27;, &#x27;entropy&#x27;],\n",
       "                         &#x27;max_depth&#x27;: [5, 6, 7, 8, 9],\n",
       "                         &#x27;max_features&#x27;: [&#x27;auto&#x27;, &#x27;sqrt&#x27;, &#x27;log2&#x27;]},\n",
       "             verbose=True)</pre><b>In a Jupyter environment, please rerun this cell to show the HTML representation or trust the notebook. <br />On GitHub, the HTML representation is unable to render, please try loading this page with nbviewer.org.</b></div><div class=\"sk-container\" hidden><div class=\"sk-item sk-dashed-wrapped\"><div class=\"sk-label-container\"><div class=\"sk-label sk-toggleable\"><input class=\"sk-toggleable__control sk-hidden--visually\" id=\"sk-estimator-id-50\" type=\"checkbox\" ><label for=\"sk-estimator-id-50\" class=\"sk-toggleable__label sk-toggleable__label-arrow\">GridSearchCV</label><div class=\"sk-toggleable__content\"><pre>GridSearchCV(cv=5, estimator=DecisionTreeClassifier(random_state=1024),\n",
       "             param_grid={&#x27;ccp_alpha&#x27;: [0.1, 0.01, 0.001],\n",
       "                         &#x27;criterion&#x27;: [&#x27;gini&#x27;, &#x27;entropy&#x27;],\n",
       "                         &#x27;max_depth&#x27;: [5, 6, 7, 8, 9],\n",
       "                         &#x27;max_features&#x27;: [&#x27;auto&#x27;, &#x27;sqrt&#x27;, &#x27;log2&#x27;]},\n",
       "             verbose=True)</pre></div></div></div><div class=\"sk-parallel\"><div class=\"sk-parallel-item\"><div class=\"sk-item\"><div class=\"sk-label-container\"><div class=\"sk-label sk-toggleable\"><input class=\"sk-toggleable__control sk-hidden--visually\" id=\"sk-estimator-id-51\" type=\"checkbox\" ><label for=\"sk-estimator-id-51\" class=\"sk-toggleable__label sk-toggleable__label-arrow\">estimator: DecisionTreeClassifier</label><div class=\"sk-toggleable__content\"><pre>DecisionTreeClassifier(random_state=1024)</pre></div></div></div><div class=\"sk-serial\"><div class=\"sk-item\"><div class=\"sk-estimator sk-toggleable\"><input class=\"sk-toggleable__control sk-hidden--visually\" id=\"sk-estimator-id-52\" type=\"checkbox\" ><label for=\"sk-estimator-id-52\" class=\"sk-toggleable__label sk-toggleable__label-arrow\">DecisionTreeClassifier</label><div class=\"sk-toggleable__content\"><pre>DecisionTreeClassifier(random_state=1024)</pre></div></div></div></div></div></div></div></div></div></div>"
      ],
      "text/plain": [
       "GridSearchCV(cv=5, estimator=DecisionTreeClassifier(random_state=1024),\n",
       "             param_grid={'ccp_alpha': [0.1, 0.01, 0.001],\n",
       "                         'criterion': ['gini', 'entropy'],\n",
       "                         'max_depth': [5, 6, 7, 8, 9],\n",
       "                         'max_features': ['auto', 'sqrt', 'log2']},\n",
       "             verbose=True)"
      ]
     },
     "execution_count": 353,
     "metadata": {},
     "output_type": "execute_result"
    }
   ],
   "source": [
    "param_grid = {'max_features': ['auto', 'sqrt', 'log2'],\n",
    "              'ccp_alpha': [0.1, .01, .001],\n",
    "              'max_depth' : [5, 6, 7, 8, 9],\n",
    "              'criterion' :['gini', 'entropy']\n",
    "             }\n",
    "tree_clas = DecisionTreeClassifier(random_state=1024)\n",
    "grid_search = GridSearchCV(estimator=tree_clas, param_grid=param_grid, cv=5, verbose=True)\n",
    "grid_search.fit(X_train, y_train)"
   ]
  },
  {
   "cell_type": "code",
   "execution_count": 354,
   "metadata": {
    "tags": []
   },
   "outputs": [
    {
     "data": {
      "text/html": [
       "<style>#sk-container-id-33 {color: black;background-color: white;}#sk-container-id-33 pre{padding: 0;}#sk-container-id-33 div.sk-toggleable {background-color: white;}#sk-container-id-33 label.sk-toggleable__label {cursor: pointer;display: block;width: 100%;margin-bottom: 0;padding: 0.3em;box-sizing: border-box;text-align: center;}#sk-container-id-33 label.sk-toggleable__label-arrow:before {content: \"▸\";float: left;margin-right: 0.25em;color: #696969;}#sk-container-id-33 label.sk-toggleable__label-arrow:hover:before {color: black;}#sk-container-id-33 div.sk-estimator:hover label.sk-toggleable__label-arrow:before {color: black;}#sk-container-id-33 div.sk-toggleable__content {max-height: 0;max-width: 0;overflow: hidden;text-align: left;background-color: #f0f8ff;}#sk-container-id-33 div.sk-toggleable__content pre {margin: 0.2em;color: black;border-radius: 0.25em;background-color: #f0f8ff;}#sk-container-id-33 input.sk-toggleable__control:checked~div.sk-toggleable__content {max-height: 200px;max-width: 100%;overflow: auto;}#sk-container-id-33 input.sk-toggleable__control:checked~label.sk-toggleable__label-arrow:before {content: \"▾\";}#sk-container-id-33 div.sk-estimator input.sk-toggleable__control:checked~label.sk-toggleable__label {background-color: #d4ebff;}#sk-container-id-33 div.sk-label input.sk-toggleable__control:checked~label.sk-toggleable__label {background-color: #d4ebff;}#sk-container-id-33 input.sk-hidden--visually {border: 0;clip: rect(1px 1px 1px 1px);clip: rect(1px, 1px, 1px, 1px);height: 1px;margin: -1px;overflow: hidden;padding: 0;position: absolute;width: 1px;}#sk-container-id-33 div.sk-estimator {font-family: monospace;background-color: #f0f8ff;border: 1px dotted black;border-radius: 0.25em;box-sizing: border-box;margin-bottom: 0.5em;}#sk-container-id-33 div.sk-estimator:hover {background-color: #d4ebff;}#sk-container-id-33 div.sk-parallel-item::after {content: \"\";width: 100%;border-bottom: 1px solid gray;flex-grow: 1;}#sk-container-id-33 div.sk-label:hover label.sk-toggleable__label {background-color: #d4ebff;}#sk-container-id-33 div.sk-serial::before {content: \"\";position: absolute;border-left: 1px solid gray;box-sizing: border-box;top: 0;bottom: 0;left: 50%;z-index: 0;}#sk-container-id-33 div.sk-serial {display: flex;flex-direction: column;align-items: center;background-color: white;padding-right: 0.2em;padding-left: 0.2em;position: relative;}#sk-container-id-33 div.sk-item {position: relative;z-index: 1;}#sk-container-id-33 div.sk-parallel {display: flex;align-items: stretch;justify-content: center;background-color: white;position: relative;}#sk-container-id-33 div.sk-item::before, #sk-container-id-33 div.sk-parallel-item::before {content: \"\";position: absolute;border-left: 1px solid gray;box-sizing: border-box;top: 0;bottom: 0;left: 50%;z-index: -1;}#sk-container-id-33 div.sk-parallel-item {display: flex;flex-direction: column;z-index: 1;position: relative;background-color: white;}#sk-container-id-33 div.sk-parallel-item:first-child::after {align-self: flex-end;width: 50%;}#sk-container-id-33 div.sk-parallel-item:last-child::after {align-self: flex-start;width: 50%;}#sk-container-id-33 div.sk-parallel-item:only-child::after {width: 0;}#sk-container-id-33 div.sk-dashed-wrapped {border: 1px dashed gray;margin: 0 0.4em 0.5em 0.4em;box-sizing: border-box;padding-bottom: 0.4em;background-color: white;}#sk-container-id-33 div.sk-label label {font-family: monospace;font-weight: bold;display: inline-block;line-height: 1.2em;}#sk-container-id-33 div.sk-label-container {text-align: center;}#sk-container-id-33 div.sk-container {/* jupyter's `normalize.less` sets `[hidden] { display: none; }` but bootstrap.min.css set `[hidden] { display: none !important; }` so we also need the `!important` here to be able to override the default hidden behavior on the sphinx rendered scikit-learn.org. See: https://github.com/scikit-learn/scikit-learn/issues/21755 */display: inline-block !important;position: relative;}#sk-container-id-33 div.sk-text-repr-fallback {display: none;}</style><div id=\"sk-container-id-33\" class=\"sk-top-container\"><div class=\"sk-text-repr-fallback\"><pre>DecisionTreeClassifier(ccp_alpha=0.01, max_depth=6, max_features=&#x27;auto&#x27;,\n",
       "                       random_state=1024)</pre><b>In a Jupyter environment, please rerun this cell to show the HTML representation or trust the notebook. <br />On GitHub, the HTML representation is unable to render, please try loading this page with nbviewer.org.</b></div><div class=\"sk-container\" hidden><div class=\"sk-item\"><div class=\"sk-estimator sk-toggleable\"><input class=\"sk-toggleable__control sk-hidden--visually\" id=\"sk-estimator-id-53\" type=\"checkbox\" checked><label for=\"sk-estimator-id-53\" class=\"sk-toggleable__label sk-toggleable__label-arrow\">DecisionTreeClassifier</label><div class=\"sk-toggleable__content\"><pre>DecisionTreeClassifier(ccp_alpha=0.01, max_depth=6, max_features=&#x27;auto&#x27;,\n",
       "                       random_state=1024)</pre></div></div></div></div></div>"
      ],
      "text/plain": [
       "DecisionTreeClassifier(ccp_alpha=0.01, max_depth=6, max_features='auto',\n",
       "                       random_state=1024)"
      ]
     },
     "execution_count": 354,
     "metadata": {},
     "output_type": "execute_result"
    }
   ],
   "source": [
    "final_model = grid_search.best_estimator_\n",
    "final_model"
   ]
  },
  {
   "cell_type": "code",
   "execution_count": 355,
   "metadata": {
    "tags": []
   },
   "outputs": [
    {
     "data": {
      "text/html": [
       "<style>#sk-container-id-34 {color: black;background-color: white;}#sk-container-id-34 pre{padding: 0;}#sk-container-id-34 div.sk-toggleable {background-color: white;}#sk-container-id-34 label.sk-toggleable__label {cursor: pointer;display: block;width: 100%;margin-bottom: 0;padding: 0.3em;box-sizing: border-box;text-align: center;}#sk-container-id-34 label.sk-toggleable__label-arrow:before {content: \"▸\";float: left;margin-right: 0.25em;color: #696969;}#sk-container-id-34 label.sk-toggleable__label-arrow:hover:before {color: black;}#sk-container-id-34 div.sk-estimator:hover label.sk-toggleable__label-arrow:before {color: black;}#sk-container-id-34 div.sk-toggleable__content {max-height: 0;max-width: 0;overflow: hidden;text-align: left;background-color: #f0f8ff;}#sk-container-id-34 div.sk-toggleable__content pre {margin: 0.2em;color: black;border-radius: 0.25em;background-color: #f0f8ff;}#sk-container-id-34 input.sk-toggleable__control:checked~div.sk-toggleable__content {max-height: 200px;max-width: 100%;overflow: auto;}#sk-container-id-34 input.sk-toggleable__control:checked~label.sk-toggleable__label-arrow:before {content: \"▾\";}#sk-container-id-34 div.sk-estimator input.sk-toggleable__control:checked~label.sk-toggleable__label {background-color: #d4ebff;}#sk-container-id-34 div.sk-label input.sk-toggleable__control:checked~label.sk-toggleable__label {background-color: #d4ebff;}#sk-container-id-34 input.sk-hidden--visually {border: 0;clip: rect(1px 1px 1px 1px);clip: rect(1px, 1px, 1px, 1px);height: 1px;margin: -1px;overflow: hidden;padding: 0;position: absolute;width: 1px;}#sk-container-id-34 div.sk-estimator {font-family: monospace;background-color: #f0f8ff;border: 1px dotted black;border-radius: 0.25em;box-sizing: border-box;margin-bottom: 0.5em;}#sk-container-id-34 div.sk-estimator:hover {background-color: #d4ebff;}#sk-container-id-34 div.sk-parallel-item::after {content: \"\";width: 100%;border-bottom: 1px solid gray;flex-grow: 1;}#sk-container-id-34 div.sk-label:hover label.sk-toggleable__label {background-color: #d4ebff;}#sk-container-id-34 div.sk-serial::before {content: \"\";position: absolute;border-left: 1px solid gray;box-sizing: border-box;top: 0;bottom: 0;left: 50%;z-index: 0;}#sk-container-id-34 div.sk-serial {display: flex;flex-direction: column;align-items: center;background-color: white;padding-right: 0.2em;padding-left: 0.2em;position: relative;}#sk-container-id-34 div.sk-item {position: relative;z-index: 1;}#sk-container-id-34 div.sk-parallel {display: flex;align-items: stretch;justify-content: center;background-color: white;position: relative;}#sk-container-id-34 div.sk-item::before, #sk-container-id-34 div.sk-parallel-item::before {content: \"\";position: absolute;border-left: 1px solid gray;box-sizing: border-box;top: 0;bottom: 0;left: 50%;z-index: -1;}#sk-container-id-34 div.sk-parallel-item {display: flex;flex-direction: column;z-index: 1;position: relative;background-color: white;}#sk-container-id-34 div.sk-parallel-item:first-child::after {align-self: flex-end;width: 50%;}#sk-container-id-34 div.sk-parallel-item:last-child::after {align-self: flex-start;width: 50%;}#sk-container-id-34 div.sk-parallel-item:only-child::after {width: 0;}#sk-container-id-34 div.sk-dashed-wrapped {border: 1px dashed gray;margin: 0 0.4em 0.5em 0.4em;box-sizing: border-box;padding-bottom: 0.4em;background-color: white;}#sk-container-id-34 div.sk-label label {font-family: monospace;font-weight: bold;display: inline-block;line-height: 1.2em;}#sk-container-id-34 div.sk-label-container {text-align: center;}#sk-container-id-34 div.sk-container {/* jupyter's `normalize.less` sets `[hidden] { display: none; }` but bootstrap.min.css set `[hidden] { display: none !important; }` so we also need the `!important` here to be able to override the default hidden behavior on the sphinx rendered scikit-learn.org. See: https://github.com/scikit-learn/scikit-learn/issues/21755 */display: inline-block !important;position: relative;}#sk-container-id-34 div.sk-text-repr-fallback {display: none;}</style><div id=\"sk-container-id-34\" class=\"sk-top-container\"><div class=\"sk-text-repr-fallback\"><pre>DecisionTreeClassifier(ccp_alpha=0.01, max_depth=6, max_features=&#x27;auto&#x27;,\n",
       "                       random_state=1024)</pre><b>In a Jupyter environment, please rerun this cell to show the HTML representation or trust the notebook. <br />On GitHub, the HTML representation is unable to render, please try loading this page with nbviewer.org.</b></div><div class=\"sk-container\" hidden><div class=\"sk-item\"><div class=\"sk-estimator sk-toggleable\"><input class=\"sk-toggleable__control sk-hidden--visually\" id=\"sk-estimator-id-54\" type=\"checkbox\" checked><label for=\"sk-estimator-id-54\" class=\"sk-toggleable__label sk-toggleable__label-arrow\">DecisionTreeClassifier</label><div class=\"sk-toggleable__content\"><pre>DecisionTreeClassifier(ccp_alpha=0.01, max_depth=6, max_features=&#x27;auto&#x27;,\n",
       "                       random_state=1024)</pre></div></div></div></div></div>"
      ],
      "text/plain": [
       "DecisionTreeClassifier(ccp_alpha=0.01, max_depth=6, max_features='auto',\n",
       "                       random_state=1024)"
      ]
     },
     "execution_count": 355,
     "metadata": {},
     "output_type": "execute_result"
    }
   ],
   "source": [
    "des_tree1 = DecisionTreeClassifier(ccp_alpha=0.01, max_depth=6, max_features='auto',\n",
    "                       random_state=1024)\n",
    "des_tree1.fit(X_train, y_train)"
   ]
  },
  {
   "cell_type": "code",
   "execution_count": 358,
   "metadata": {
    "tags": []
   },
   "outputs": [
    {
     "name": "stdout",
     "output_type": "stream",
     "text": [
      "0.8694817658349329\n",
      "0.8396946564885496\n"
     ]
    }
   ],
   "source": [
    "print(des_tree1.score(X_train, y_train))\n",
    "print(des_tree1.score(X_test, y_test))"
   ]
  },
  {
   "cell_type": "code",
   "execution_count": 359,
   "metadata": {
    "tags": []
   },
   "outputs": [
    {
     "data": {
      "text/plain": [
       "array([0, 0, 0, 0, 0, 1, 0, 1, 0, 0, 0, 0, 1, 0, 0, 1, 0, 1, 1, 1, 1, 0,\n",
       "       0, 1, 1, 1, 1, 0, 0, 0, 0, 1, 1, 1, 1, 0, 0, 0, 0, 1, 1, 1, 1, 1,\n",
       "       0, 1, 0, 1, 0, 1, 0, 0, 0, 0, 0, 0, 0, 0, 1, 0, 0, 1, 1, 0, 1, 0,\n",
       "       0, 1, 0, 0, 0, 1, 1, 1, 1, 0, 1, 0, 1, 0, 0, 1, 0, 1, 0, 0, 0, 1,\n",
       "       1, 0, 1, 1, 1, 0, 0, 0, 1, 1, 1, 1, 0, 1, 1, 1, 1, 1, 1, 0, 0, 0,\n",
       "       1, 1, 0, 0, 0, 1, 1, 1, 1, 0, 0, 0, 0, 0, 1, 0, 0, 0, 0, 1, 1])"
      ]
     },
     "execution_count": 359,
     "metadata": {},
     "output_type": "execute_result"
    }
   ],
   "source": [
    "y_pred2 = des_tree1.predict(X_test)\n",
    "y_pred2"
   ]
  },
  {
   "cell_type": "code",
   "execution_count": 360,
   "metadata": {
    "tags": []
   },
   "outputs": [
    {
     "data": {
      "text/plain": [
       "array([[54,  5],\n",
       "       [16, 56]])"
      ]
     },
     "execution_count": 360,
     "metadata": {},
     "output_type": "execute_result"
    }
   ],
   "source": [
    "cm2 = confusion_matrix(y_test, y_pred2)\n",
    "cm2"
   ]
  },
  {
   "cell_type": "code",
   "execution_count": 361,
   "metadata": {
    "tags": []
   },
   "outputs": [
    {
     "data": {
      "text/plain": [
       "<matplotlib.axes._subplots.AxesSubplot at 0x7fae05468670>"
      ]
     },
     "execution_count": 361,
     "metadata": {},
     "output_type": "execute_result"
    },
    {
     "data": {
      "image/png": "[encoded data removed]",
      "text/plain": [
       "<Figure size 640x480 with 2 Axes>"
      ]
     },
     "metadata": {},
     "output_type": "display_data"
    }
   ],
   "source": [
    "sns.heatmap(pd.DataFrame(cm2), annot=True)"
   ]
  },
  {
   "cell_type": "code",
   "execution_count": 362,
   "metadata": {
    "tags": []
   },
   "outputs": [
    {
     "name": "stdout",
     "output_type": "stream",
     "text": [
      "DT: ROC AUC=0.887\n"
     ]
    },
    {
     "data": {
      "image/png": "[encoded data removed]",
      "text/plain": [
       "<Figure size 640x480 with 1 Axes>"
      ]
     },
     "metadata": {},
     "output_type": "display_data"
    }
   ],
   "source": [
    "# получаем предказания\n",
    "lr_probs = des_tree1.predict_proba(X_test)\n",
    "# сохраняем вероятности только для положительного исхода\n",
    "lr_probs = lr_probs[:, 1]\n",
    "# рассчитываем ROC AUC\n",
    "lr_auc = roc_auc_score(y_test, lr_probs)\n",
    "print('DT: ROC AUC=%.3f' % (lr_auc))\n",
    "# рассчитываем roc-кривую\n",
    "fpr, tpr, treshold = roc_curve(y_test, lr_probs)\n",
    "roc_auc = auc(fpr, tpr)\n",
    "# строим график\n",
    "plt.plot(fpr, tpr, color='darkorange',\n",
    "         label='ROC кривая (area = %0.2f)' % roc_auc)\n",
    "plt.plot([0, 1], [0, 1], color='navy', linestyle='--')\n",
    "plt.xlim([0.0, 1.0])\n",
    "plt.ylim([0.0, 1.05])\n",
    "plt.xlabel('False Positive Rate')\n",
    "plt.ylabel('True Positive Rate')\n",
    "plt.title('Пример ROC-кривой')\n",
    "plt.legend(loc=\"lower right\")\n",
    "plt.show()"
   ]
  },
  {
   "cell_type": "code",
   "execution_count": 364,
   "metadata": {
    "tags": []
   },
   "outputs": [
    {
     "name": "stdout",
     "output_type": "stream",
     "text": [
      "The accuracy is  71.7557251908397\n"
     ]
    }
   ],
   "source": [
    "from sklearn.neighbors import KNeighborsClassifier\n",
    "n_neighbors=5\n",
    "\n",
    "model = KNeighborsClassifier(n_neighbors = n_neighbors)\n",
    "model.fit(X_train,y_train)\n",
    "\n",
    "score = model.score(X_test,y_test)\n",
    "print(\"The accuracy is \",score*100)"
   ]
  },
  {
   "cell_type": "code",
   "execution_count": null,
   "metadata": {},
   "outputs": [],
   "source": []
  }
 ],
 "metadata": {
  "accelerator": "GPU",
  "colab": {
   "collapsed_sections": [
    "FASceuwQAOTp",
    "_px_mArrS4Um",
    "ls7X_oTmUC5q"
   ],
   "provenance": []
  },
  "kernelspec": {
   "display_name": "Python 3 (ipykernel)",
   "language": "python",
   "name": "python3"
  },
  "language_info": {
   "codemirror_mode": {
    "name": "ipython",
    "version": 3
   },
   "file_extension": ".py",
   "mimetype": "text/x-python",
   "name": "python",
   "nbconvert_exporter": "python",
   "pygments_lexer": "ipython3",
   "version": "3.8.10"
  }
 },
 "nbformat": 4,
 "nbformat_minor": 4
}
