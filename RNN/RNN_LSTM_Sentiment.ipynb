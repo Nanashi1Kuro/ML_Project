{
 "cells": [
  {
   "cell_type": "code",
   "execution_count": 19,
   "metadata": {
    "id": "2e3txwbh3q76"
   },
   "outputs": [],
   "source": [
    "# импортируем библиотеки\n",
    "import tensorflow as tf \n",
    "import numpy as np\n",
    "from tensorflow.keras.preprocessing import sequence\n",
    "from numpy import array\n",
    "\n"
   ]
  },
  {
   "cell_type": "code",
   "execution_count": 33,
   "metadata": {
    "id": "GynKwXjv_28F"
   },
   "outputs": [],
   "source": [
    "# загружаем \"IMDB Movie Review\" данные, ограничим review 10000 самых известных используемых слов\n",
    "vocab_size = 10000\n",
    "(x_train, y_train), (x_test, y_test) = tf.keras.datasets.imdb.load_data(num_words=vocab_size)\n",
    "\n",
    "# введем два класса\n",
    "class_names = [\"Отрицательная\", \"Положительная\"]"
   ]
  },
  {
   "cell_type": "code",
   "execution_count": 34,
   "metadata": {
    "id": "E05AweFu0Imt"
   },
   "outputs": [],
   "source": [
    "# получим индекс слов из набора данных\n",
    "# Обзоры в наборе данных IMDB были закодированы как последовательность целых чисел.\n",
    "# Но набор данных также содержит указатель для преобразования отзывов в читаемую форму\n",
    "word_index = tf.keras.datasets.imdb.get_word_index()\n",
    "\n",
    "# введем маппинг для спец символов\n",
    "word_index = {k:(v+3) for k,v in word_index.items()}\n",
    "word_index[\"<PAD>\"] = 0\n",
    "word_index[\"<START>\"] = 1\n",
    "word_index[\"<UNKNOWN>\"] = 2\n",
    "word_index[\"<UNUSED>\"] = 3\n"
   ]
  },
  {
   "cell_type": "code",
   "execution_count": 35,
   "metadata": {
    "id": "D8V1TosTAhhW"
   },
   "outputs": [],
   "source": [
    "# создадим реверсивный индекс\n",
    "reverse_word_index = dict([(value, key) for (key, value) in word_index.items()])\n",
    "def decode_review(text):\n",
    "    return ' '.join([reverse_word_index.get(i, '?') for i in text])"
   ]
  },
  {
   "cell_type": "code",
   "execution_count": 36,
   "metadata": {
    "colab": {
     "base_uri": "https://localhost:8080/"
    },
    "id": "yD1qHVBn81Y_",
    "outputId": "b0083e78-6a4a-4384-a04a-2afd63ee7cc6"
   },
   "outputs": [
    {
     "name": "stdout",
     "output_type": "stream",
     "text": [
      "Максимальное количество слов в отзыве: 2494\n",
      "Максимальное количество слов в отзыве: 7\n",
      "Средняя длина отзыва: 234.75892\n",
      "\n",
      "Машинный вид отзыва\n",
      "  Отзыв: [1, 13, 219, 14, 33, 4, 2, 22, 1413, 12, 16, 373, 175, 2711, 1115, 1026, 430, 939, 16, 23, 2444, 25, 43, 697, 89, 12, 16, 170, 8, 130, 262, 19, 32, 4, 665, 7, 4, 2, 322, 5, 4, 1520, 7, 4, 86, 250, 10, 10, 4, 249, 173, 16, 4, 3891, 6, 19, 4, 167, 564, 5, 564, 1325, 36, 805, 8, 216, 638, 17, 2, 21, 25, 100, 376, 507, 4, 2110, 15, 79, 125, 23, 567, 13, 2134, 233, 36, 4852, 2, 5, 81, 1672, 10, 10, 92, 437, 129, 58, 13, 69, 8, 401, 61, 1432, 39, 1286, 46, 7, 12]\n",
      "  Эмоция: 0\n",
      "\n",
      "Отзыв\n",
      "  Отзыв: <START> i saw this at the <UNKNOWN> film festival it was awful every clichéd violent rich boy fantasy was on display you just knew how it was going to end especially with all the shots of the <UNKNOWN> wife and the rape of the first girl br br the worst part was the q a with the director writer and writer producer they tried to come across as <UNKNOWN> but you could tell they're the types that get off on violence i bet anything they frequent <UNKNOWN> and do drugs br br don't waste your time i had to keep my boyfriend from walking out of it\n",
      "  Эмоция: Отрицательная\n"
     ]
    }
   ],
   "source": [
    "# Рассмотрим DataInsights\n",
    "allreviews = np.concatenate((x_train, x_test), axis=0)\n",
    "\n",
    "print(\"Максимальное количество слов в отзыве: {}\".format(len(max((allreviews), key=len))))\n",
    "print(\"Максимальное количество слов в отзыве: {}\".format(len(min((allreviews), key=len))))\n",
    "\n",
    "result = [len(x) for x in allreviews]\n",
    "print(\"Средняя длина отзыва: {}\".format(np.mean(result)))\n",
    "\n",
    "print(\"\")\n",
    "print(\"Машинный вид отзыва\")\n",
    "print(\"  Отзыв: \" + str(x_train[60]))\n",
    "print(\"  Эмоция: \" + str(y_train[60]))\n",
    "\n",
    "print(\"\")\n",
    "print(\"Отзыв\")\n",
    "print(\"  Отзыв: \" + decode_review(x_train[60]))\n",
    "print(\"  Эмоция: \" + class_names[y_train[60]])"
   ]
  },
  {
   "cell_type": "code",
   "execution_count": 38,
   "metadata": {
    "colab": {
     "base_uri": "https://localhost:8080/"
    },
    "id": "uNtJTLJA6gaT",
    "outputId": "1ee9f198-e83f-42b6-d6ea-cfc7bb17e5b8"
   },
   "outputs": [
    {
     "name": "stdout",
     "output_type": "stream",
     "text": [
      "\n",
      "Пример обзора (добавление  PAD): <START> i saw this at the <UNKNOWN> film festival it was awful every clichéd violent rich boy fantasy was on display you just knew how it was going to end especially with all the shots of the <UNKNOWN> wife and the rape of the first girl br br the worst part was the q a with the director writer and writer producer they tried to come across as <UNKNOWN> but you could tell they're the types that get off on violence i bet anything they frequent <UNKNOWN> and do drugs br br don't waste your time i had to keep my boyfriend from walking out of it <PAD> <PAD> <PAD> <PAD> <PAD> <PAD> <PAD> <PAD> <PAD> <PAD> <PAD> <PAD> <PAD> <PAD> <PAD> <PAD> <PAD> <PAD> <PAD> <PAD> <PAD> <PAD> <PAD> <PAD> <PAD> <PAD> <PAD> <PAD> <PAD> <PAD> <PAD> <PAD> <PAD> <PAD> <PAD> <PAD> <PAD> <PAD> <PAD> <PAD> <PAD> <PAD> <PAD> <PAD> <PAD> <PAD> <PAD> <PAD> <PAD> <PAD> <PAD> <PAD> <PAD> <PAD> <PAD> <PAD> <PAD> <PAD> <PAD> <PAD> <PAD> <PAD> <PAD> <PAD> <PAD> <PAD> <PAD> <PAD> <PAD> <PAD> <PAD> <PAD> <PAD> <PAD> <PAD> <PAD> <PAD> <PAD> <PAD> <PAD> <PAD> <PAD> <PAD> <PAD> <PAD> <PAD> <PAD> <PAD> <PAD> <PAD> <PAD> <PAD> <PAD> <PAD> <PAD> <PAD> <PAD> <PAD> <PAD> <PAD> <PAD> <PAD> <PAD> <PAD> <PAD> <PAD> <PAD> <PAD> <PAD> <PAD> <PAD> <PAD> <PAD> <PAD> <PAD> <PAD> <PAD> <PAD> <PAD> <PAD> <PAD> <PAD> <PAD> <PAD> <PAD> <PAD> <PAD> <PAD> <PAD> <PAD> <PAD> <PAD> <PAD> <PAD> <PAD> <PAD> <PAD> <PAD> <PAD> <PAD> <PAD> <PAD> <PAD>\n"
     ]
    }
   ],
   "source": [
    "# Нам нужно убедиться, что наши обзоры имеют одинаковую длину. Это для параметров LSTM.\n",
    "# Некоторые отзывы нужно будет усечь, а другие дополнить.\n",
    "review_length = 250\n",
    "\n",
    "x_train = sequence.pad_sequences(x_train, maxlen = review_length,padding='post')\n",
    "x_test = sequence.pad_sequences(x_test, maxlen = review_length,padding='post')\n",
    "\n",
    "# Дополняем короткие отзывы символом PAD в конце\n",
    "print(\"\")\n",
    "print(\"Пример обзора (добавление  PAD): \" + decode_review(x_train[60]))"
   ]
  },
  {
   "cell_type": "code",
   "execution_count": 40,
   "metadata": {
    "id": "qaaJbp5P531O"
   },
   "outputs": [],
   "source": [
    "#tf.keras.layers.Bidirectional(tf.keras.layers.LSTM(units=32))"
   ]
  },
  {
   "cell_type": "code",
   "execution_count": 42,
   "metadata": {
    "colab": {
     "base_uri": "https://localhost:8080/"
    },
    "id": "8nmO8M4aCKwT",
    "outputId": "ccad64f9-d51c-4f30-c4fb-75cf5e5cb1dd"
   },
   "outputs": [
    {
     "name": "stdout",
     "output_type": "stream",
     "text": [
      "Model: \"sequential_2\"\n",
      "_________________________________________________________________\n",
      " Layer (type)                Output Shape              Param #   \n",
      "=================================================================\n",
      " embedding_2 (Embedding)     (None, 250, 32)           320000    \n",
      "                                                                 \n",
      " dropout_4 (Dropout)         (None, 250, 32)           0         \n",
      "                                                                 \n",
      " lstm_4 (LSTM)               (None, 32)                8320      \n",
      "                                                                 \n",
      " dropout_5 (Dropout)         (None, 32)                0         \n",
      "                                                                 \n",
      " dense_2 (Dense)             (None, 1)                 33        \n",
      "                                                                 \n",
      "=================================================================\n",
      "Total params: 328,353\n",
      "Trainable params: 328,353\n",
      "Non-trainable params: 0\n",
      "_________________________________________________________________\n"
     ]
    }
   ],
   "source": [
    "model = tf.keras.models.Sequential()\n",
    "\n",
    "model.add(\n",
    "    tf.keras.layers.Embedding(\n",
    "        input_dim = vocab_size, # размер словаря\n",
    "        output_dim = 32, \n",
    "        input_length = review_length \n",
    "    )\n",
    ")\n",
    "\n",
    "# слой Dropout \n",
    "model.add(\n",
    "    tf.keras.layers.Dropout(\n",
    "        rate=0.2 # рандомно отключаем 20% нейронов\n",
    "    )\n",
    ")\n",
    "\n",
    "model.add(\n",
    "    tf.keras.layers.LSTM(\n",
    "        units=32 \n",
    "    )\n",
    ")\n",
    "\n",
    "# слой Dropout \n",
    "model.add(\n",
    "    tf.keras.layers.Dropout(\n",
    "        rate=0.2 # рандомно отключаем 20% нейронов\n",
    "    )\n",
    ")\n",
    "\n",
    "model.add(\n",
    "    tf.keras.layers.Dense(\n",
    "        units=1, \n",
    "        activation='sigmoid'\n",
    "    )\n",
    ")\n",
    "\n",
    "\n",
    "model.compile(\n",
    "    loss=tf.keras.losses.binary_crossentropy,\n",
    "    optimizer=tf.keras.optimizers.Adam(), \n",
    "    metrics=['accuracy']) \n",
    "\n",
    "\n",
    "model.summary()"
   ]
  },
  {
   "cell_type": "code",
   "execution_count": 43,
   "metadata": {
    "colab": {
     "base_uri": "https://localhost:8080/",
     "height": 644
    },
    "id": "cz0Erj2WU3Vh",
    "outputId": "003c94a6-7296-478d-cc1b-2427e0e659ed"
   },
   "outputs": [
    {
     "data": {
      "image/png": "[encoded data removed]",
      "text/plain": [
       "<IPython.core.display.Image object>"
      ]
     },
     "execution_count": 43,
     "metadata": {},
     "output_type": "execute_result"
    }
   ],
   "source": [
    "tf.keras.utils.plot_model(model, to_file='model.png', show_shapes=True, show_layer_names=False)"
   ]
  },
  {
   "cell_type": "code",
   "execution_count": 44,
   "metadata": {
    "colab": {
     "base_uri": "https://localhost:8080/"
    },
    "id": "rEN1vV4nG1V3",
    "outputId": "252d3ecb-2607-4735-ec13-37832d59985d"
   },
   "outputs": [
    {
     "name": "stdout",
     "output_type": "stream",
     "text": [
      "Epoch 1/3\n",
      "157/157 [==============================] - 28s 161ms/step - loss: 0.7012 - accuracy: 0.5353 - val_loss: 0.6418 - val_accuracy: 0.7282\n",
      "Epoch 2/3\n",
      "157/157 [==============================] - 22s 141ms/step - loss: 0.6228 - accuracy: 0.6996 - val_loss: 0.5769 - val_accuracy: 0.7520\n",
      "Epoch 3/3\n",
      "157/157 [==============================] - 12s 79ms/step - loss: 0.6271 - accuracy: 0.6537 - val_loss: 0.5382 - val_accuracy: 0.7640\n"
     ]
    }
   ],
   "source": [
    "# Обучение\n",
    "history = model.fit(\n",
    "    x_train, y_train,                   \n",
    "    batch_size=128, \n",
    "    epochs=3, \n",
    "    validation_split=0.2,    \n",
    "    verbose=1\n",
    ") "
   ]
  },
  {
   "cell_type": "code",
   "execution_count": 45,
   "metadata": {
    "colab": {
     "base_uri": "https://localhost:8080/"
    },
    "id": "6RkLnq3x2loA",
    "outputId": "23da63ee-1eda-4808-e826-fed42c8435f5"
   },
   "outputs": [
    {
     "name": "stdout",
     "output_type": "stream",
     "text": [
      "782/782 [==============================] - 4s 5ms/step - loss: 0.5465 - accuracy: 0.7543\n"
     ]
    },
    {
     "data": {
      "text/plain": [
       "[0.54654461145401, 0.7543200254440308]"
      ]
     },
     "execution_count": 45,
     "metadata": {},
     "output_type": "execute_result"
    }
   ],
   "source": [
    "# определение качества модели\n",
    "model.evaluate(x_test,y_test)"
   ]
  },
  {
   "cell_type": "code",
   "execution_count": 46,
   "metadata": {
    "colab": {
     "base_uri": "https://localhost:8080/"
    },
    "id": "nPnfxwbnITqV",
    "outputId": "400af06e-f597-40bf-863c-21d636da343b"
   },
   "outputs": [
    {
     "name": "stdout",
     "output_type": "stream",
     "text": [
      "782/782 [==============================] - 4s 4ms/step\n",
      "               precision    recall  f1-score   support\n",
      "\n",
      "Отрицательная       0.50      1.00      0.67     12500\n",
      "Положительная       0.00      0.00      0.00     12500\n",
      "\n",
      "     accuracy                           0.50     25000\n",
      "    macro avg       0.25      0.50      0.33     25000\n",
      " weighted avg       0.25      0.50      0.33     25000\n",
      "\n"
     ]
    },
    {
     "name": "stderr",
     "output_type": "stream",
     "text": [
      "/usr/local/lib/python3.10/dist-packages/sklearn/metrics/_classification.py:1344: UndefinedMetricWarning: Precision and F-score are ill-defined and being set to 0.0 in labels with no predicted samples. Use `zero_division` parameter to control this behavior.\n",
      "  _warn_prf(average, modifier, msg_start, len(result))\n",
      "/usr/local/lib/python3.10/dist-packages/sklearn/metrics/_classification.py:1344: UndefinedMetricWarning: Precision and F-score are ill-defined and being set to 0.0 in labels with no predicted samples. Use `zero_division` parameter to control this behavior.\n",
      "  _warn_prf(average, modifier, msg_start, len(result))\n",
      "/usr/local/lib/python3.10/dist-packages/sklearn/metrics/_classification.py:1344: UndefinedMetricWarning: Precision and F-score are ill-defined and being set to 0.0 in labels with no predicted samples. Use `zero_division` parameter to control this behavior.\n",
      "  _warn_prf(average, modifier, msg_start, len(result))\n"
     ]
    }
   ],
   "source": [
    "from sklearn.metrics import classification_report\n",
    "predicted_classes = np.argmax(model.predict(x_test),axis=1)\n",
    "print(classification_report(y_test, predicted_classes, target_names=class_names))"
   ]
  },
  {
   "cell_type": "code",
   "execution_count": 48,
   "metadata": {
    "colab": {
     "base_uri": "https://localhost:8080/"
    },
    "id": "bwKLBwBbp7zg",
    "outputId": "4ae022fa-df2b-4f62-bea0-628ebae59365"
   },
   "outputs": [
    {
     "name": "stdout",
     "output_type": "stream",
     "text": [
      "Неправильно классифицированный отзыв из Test [1]\n",
      "Test отзыв #1: Предсказания [Отрицательная] Актуальность [Положительная]\n",
      "Текст отзыва Test: focuses on mood and character development the plot is very simple and many of the scenes take place on the same set in frances <UNKNOWN> the sandy dennis character apartment but the film builds to a disturbing climax br br the characters create an atmosphere <UNKNOWN> with sexual tension and psychological <UNKNOWN> it's very interesting that robert altman directed this considering the style and structure of his other films still the trademark altman audio style is evident here and there i think what really makes this film work is the brilliant performance by sandy dennis it's definitely one of her darker characters but she plays it so perfectly and convincingly that it's scary michael burns does a good job as the mute young man regular altman player michael murphy has a small part the <UNKNOWN> moody set fits the content of the story very well in short this movie is a powerful study of loneliness sexual <UNKNOWN> and desperation be patient <UNKNOWN> up the atmosphere and pay attention to the wonderfully written script br br i praise robert altman this is one of his many films that deals with unconventional fascinating subject matter this film is disturbing but it's sincere and it's sure to <UNKNOWN> a strong emotional response from the viewer if you want to see an unusual film some might even say bizarre this is worth the time br br unfortunately it's very difficult to find in video stores you may have to buy it off the internet\n",
      "\n",
      "Неправильно классифицированный отзыв из Test [2]\n",
      "Test отзыв #2: Предсказания [Отрицательная] Актуальность [Положительная]\n",
      "Текст отзыва Test: king irritated <UNKNOWN> sends them a <UNKNOWN> br br delighted with this <UNKNOWN> looking new king who towers above them the <UNKNOWN> welcome him with a <UNKNOWN> of <UNKNOWN> dressed <UNKNOWN> the mayor steps forward to hand him the key to the <UNKNOWN> as <UNKNOWN> cameras record the event to everyone's horror the <UNKNOWN> promptly eats the mayor and then goes on a merry rampage <UNKNOWN> citizens at random a title card <UNKNOWN> reads news of the king's <UNKNOWN> throughout the kingdom when the now terrified <UNKNOWN> once more <UNKNOWN> <UNKNOWN> for help he loses his temper and <UNKNOWN> their community with lightning <UNKNOWN> the moral of our story delivered by a hapless frog just before he is eaten is let well enough alone br br considering the time period when this startling little film was made and considering the fact that it was made by a russian <UNKNOWN> at the height of that <UNKNOWN> country's civil war it would be easy to see this as a <UNKNOWN> about those events <UNKNOWN> may or may not have had <UNKNOWN> turmoil in mind when he made <UNKNOWN> but whatever <UNKNOWN> his choice of material the film stands as a <UNKNOWN> tale of universal <UNKNOWN> <UNKNOWN> could be the soviet union italy germany or japan in the 1930s or any country of any era that lets its guard down and is overwhelmed by <UNKNOWN> it's a fascinating film even a charming one in its macabre way but its message is no joke\n",
      "\n",
      "Неправильно классифицированный отзыв из Test [3]\n",
      "Test отзыв #4: Предсказания [Отрицательная] Актуальность [Положительная]\n",
      "Текст отзыва Test: <START> like some other people wrote i'm a die hard mario fan and i loved this game br br this game starts slightly boring but trust me it's worth it as soon as you start your hooked the levels are fun and <UNKNOWN> they will hook you <UNKNOWN> your mind turns to <UNKNOWN> i'm not kidding this game is also <UNKNOWN> and is beautifully done br br to keep this spoiler free i have to keep my mouth shut about details but please try this game it'll be worth it br br story 9 9 action 10 1 it's that good <UNKNOWN> 10 attention <UNKNOWN> 10 average 10 <PAD>\n",
      "\n",
      "Неправильно классифицированный отзыв из Test [4]\n",
      "Test отзыв #5: Предсказания [Отрицательная] Актуальность [Положительная]\n",
      "Текст отзыва Test: <START> i'm absolutely disgusted this movie isn't being sold all who love this movie should email disney and increase the demand for it they'd eventually have to sell it then i'd buy copies for everybody i know everything and everybody in this movie did a good job and i haven't figured out why disney hasn't put this movie on dvd or on vhs in rental stores at least i haven't seen any copies this is a wicked good movie and should be seen by all the kids in the new generation don't get to see it and i think they should it should at least be put back on the channel this movie doesn't deserve a cheap <UNKNOWN> it deserves the real thing i'm them now this movie will be on dvd <PAD>\n",
      "\n",
      "Неправильно классифицированный отзыв из Test [5]\n",
      "Test отзыв #6: Предсказания [Отрицательная] Актуальность [Положительная]\n",
      "Текст отзыва Test: the steps are filled with hundreds of extras rapid and dramatic violence is always suggested and not explicit yet the visual images of the deaths of a few will last in the minds of the viewer forever br br the <UNKNOWN> shots of <UNKNOWN> boots and legs <UNKNOWN> the steps are cleverly <UNKNOWN> with long menacing shadows from a sun at the top of the steps the pace of the sequence is deliberately varied between the <UNKNOWN> soldiers and a few civilians who <UNKNOWN> up courage to beg them to stop a close up of a woman's face frozen in horror after being struck by a <UNKNOWN> sword is the direct <UNKNOWN> of the bank <UNKNOWN> in bonnie in clyde and gives a lasting impression of the horror of the <UNKNOWN> regime br br the death of a young mother leads to a baby <UNKNOWN> <UNKNOWN> down the steps in a sequence that has been copied by hitchcock in foreign <UNKNOWN> by terry gilliam in brazil and brian <UNKNOWN> in the <UNKNOWN> this sequence is shown repeatedly from various angles thus drawing out what probably was only a five second event br br <UNKNOWN> is a film that the revolutionary spirit <UNKNOWN> it for those already committed and it for the <UNKNOWN> it <UNKNOWN> of fire and <UNKNOWN> with the senseless <UNKNOWN> of the <UNKNOWN> <UNKNOWN> regime its greatest impact has been on film students who have borrowed and only slightly improved on techniques invented in russia several generations ago\n",
      "\n",
      "Неправильно классифицированный отзыв из Test [6]\n",
      "Test отзыв #9: Предсказания [Отрицательная] Актуальность [Положительная]\n",
      "Текст отзыва Test: film though it <UNKNOWN> all the minor <UNKNOWN> of style found in batman a weaker script that <UNKNOWN> the <UNKNOWN> between not just two but three characters invites <UNKNOWN> comparisons to the masterful pairing of keaton and jack nicholson as the joker in the first film yet for all this it remains a <UNKNOWN> dark film true to the way the batman was always meant to be and highly satisfying br br michael keaton returns as the batman and his alter ego bruce wayne with <UNKNOWN> max <UNKNOWN> christopher walken named in honour of the 1920s german silent actor his partner in crime <UNKNOWN> <UNKNOWN> the penguin danny <UNKNOWN> in brilliant makeup reminiscent of laurence <UNKNOWN> richard iii and <UNKNOWN> kyle the <UNKNOWN> michelle pfeiffer whom wayne romances both as himself and as the batman the four principals turn in excellent performances especially walken and <UNKNOWN> while together keaton and pfeiffer explore the darker side of double identities br br there are some intriguing concepts in this film about the only weakness i can really point out is a certain to the script in some places which i think is due mostly to the way this film is a four <UNKNOWN> fight there simply isn't enough time to properly explore what's going on br br nevertheless this is a damn good film i highly recommend watching this in <UNKNOWN> with the first and then <UNKNOWN> for how good the series could have been had it continued under burton and keaton\n",
      "\n",
      "Неправильно классифицированный отзыв из Test [7]\n",
      "Test отзыв #10: Предсказания [Отрицательная] Актуальность [Положительная]\n",
      "Текст отзыва Test: <START> inspired by hitchcock's strangers on a train concept of two men <UNKNOWN> murders in exchange for getting rid of the two people messing up their lives throw <UNKNOWN> from the train is an original and very inventive comedy take on the idea it's a credit to danny <UNKNOWN> that he both wrote and starred in this minor comedy gem br br anne <UNKNOWN> is the mother who <UNKNOWN> the film's title and it's understandable why she gets under the skin of danny <UNKNOWN> with her sharp tongue and relentlessly putting him down for any minor <UNKNOWN> billy crystal is the writer who's wife has stolen his book idea and is now being <UNKNOWN> as a great new author even appearing on the oprah show to in <UNKNOWN> he should be enjoying thus <UNKNOWN> gets the idea of <UNKNOWN> murders to rid themselves of these <UNKNOWN> factors br br of course everything and anything can happen when writer carl <UNKNOWN> lets his imagination <UNKNOWN> with <UNKNOWN> ideas for how the plot develops and it's amusing all the way through providing plenty of laughs and chuckles along the way as well as a good deal of suspense br br for <UNKNOWN> of black comedy this one is guaranteed to please <PAD>\n",
      "\n",
      "Неправильно классифицированный отзыв из Test [8]\n",
      "Test отзыв #14: Предсказания [Отрицательная] Актуальность [Положительная]\n",
      "Текст отзыва Test: <START> a touching documentary that puts a human face on the tragedy of 9 11 by showing how one small community to honor two high school friends lost on that day the film <UNKNOWN> the lives of chris and tom through interviews with family and friends and snippets of old photos through their <UNKNOWN> we glimpse two lives <UNKNOWN> cut short the film also documents how through a series of <UNKNOWN> an inspirational <UNKNOWN> garden was brought forth through the efforts of many people both known and unknown to the two victims through the laughter and the tears and the sweat we see the power of hope and honor and love this films evokes many different emotions but the final feeling is one of admiration of the human spirit by tragedy <PAD>\n",
      "\n",
      "Неправильно классифицированный отзыв из Test [9]\n",
      "Test отзыв #16: Предсказания [Отрицательная] Актуальность [Положительная]\n",
      "Текст отзыва Test: <START> from 1996 first i watched this movie i feel never reach the end of my satisfaction i feel that i want to watch more and more until now my god i don't believe it was ten years ago and i can believe that i almost remember every word of the dialogues i love this movie and i love this novel absolutely perfection i love willem <UNKNOWN> he has a strange voice to spell the words black night and i always say it for many times never being bored i love the music of it's so much made me come into another world deep in my heart anyone can feel what i feel and anyone could make the movie like this i don't believe so thanks thanks <PAD>\n",
      "\n",
      "Неправильно классифицированный отзыв из Test [10]\n",
      "Test отзыв #20: Предсказания [Отрицательная] Актуальность [Положительная]\n",
      "Текст отзыва Test: <START> this film was one that i have waited to see for some time i was glad to find it has been everything anticipated the writing of this film has been so finely crafted and <UNKNOWN> far beyond what is seen by the audience i found it amusing that so many people watching will not read between some very important lines but indeed if not the movie will make sense in a different way and is very brilliant the film has many stories and characters woven together around this one character <UNKNOWN> a man whom has rose from the streets amidst many <UNKNOWN> and become a very powerful criminal after spending some time in prison <UNKNOWN> finds a <UNKNOWN> in the justice system and through a disturbing turn of events is released only to find everything is not at all what it seems <UNKNOWN> finds himself going up against the higher realm of society and political <UNKNOWN> in order to make clear how important a man's word is and stands for a war begins as the street is in arms against <UNKNOWN> of wealth and corrupt power br br a build up to explosive and powerful non stop twists and turns this film will leave you <UNKNOWN> i found the cast of this movie to be outstanding and is not a movie to be ignored excellent go rent it today <PAD>\n",
      "\n",
      "Неправильно классифицированный отзыв из Test [11]\n",
      "Test отзыв #21: Предсказания [Отрицательная] Актуальность [Положительная]\n",
      "Текст отзыва Test: <START> this is one of my favourite disney films it has everything you could hope for in a disney animation cute animals great songs a nasty villain and lots of adventure the story begins in paris where <UNKNOWN> and her three <UNKNOWN> live with their mistress in a mansion life is perfect for them until the <UNKNOWN> butler edgar discovers that she plans to leave her entire fortune to the cats he realises that if he even stands a chance of claiming the fortune the cats will be out of the way an excellent often forgotten masterpiece from the 1970's a time when the disney studio made few animations which features songs such as the title number the <UNKNOWN> as well as wants to be a cat this will <UNKNOWN> viewers young and old with its enduring <PAD>\n",
      "\n",
      "Неправильно классифицированный отзыв из Test [12]\n",
      "Test отзыв #22: Предсказания [Отрицательная] Актуальность [Положительная]\n",
      "Текст отзыва Test: <START> how managed to avoid attention remains a mystery a potent mix of comedy and crime this one takes chances where tarantino plays it safe with the hollywood formula the risks don't always pay off one character in one sequence comes off <UNKNOWN> silly and falls flat in the lead role thomas jane gives a wonderful and complex performance and two brief appearances by mickey rourke hint at the high potential of this much under and <UNKNOWN> used actor here's a director one should keep one's eye on <PAD>\n",
      "\n",
      "Неправильно классифицированный отзыв из Test [13]\n",
      "Test отзыв #23: Предсказания [Отрицательная] Актуальность [Положительная]\n",
      "Текст отзыва Test: <START> eric ability to roll from character to character in this <UNKNOWN> man <UNKNOWN> <UNKNOWN> his true range as a character actor each persona has their own message to convey about truth society class drugs etc this is an absolute must have for anyone who is a serious fan of acting his performance contains some of the most hilarious and real moments i have ever experienced as a viewing audience <PAD>\n",
      "\n",
      "Неправильно классифицированный отзыв из Test [14]\n",
      "Test отзыв #24: Предсказания [Отрицательная] Актуальность [Положительная]\n",
      "Текст отзыва Test: <START> <UNKNOWN> poet dylan thomas <UNKNOWN> from serving in active duty is doing his bit for the war effort producing bits of <UNKNOWN> for some propaganda branch of government in <UNKNOWN> br br thomas is portrayed as a believing in free love married to a woman with an equally demanding artistic streak and likewise with a <UNKNOWN> for <UNKNOWN> romance thomas writing and <UNKNOWN> his poetry in <UNKNOWN> domestic mayhem throughout becomes somewhat <UNKNOWN> towards the end <UNKNOWN> somewhat <UNKNOWN> on his society connections and pulling rank on a war veteran who had shot up his house and who was incidentally married to the woman he had been having an affair with br br the real story of this film is the love of two women one <UNKNOWN> knightley whose first love was thomas matthew rhys the second <UNKNOWN> miller who is <UNKNOWN> wife at times it reminds of the singing detective as in very good television with slightly sinister overtones laid on top of scenes of surreal camp absurdity <PAD>\n",
      "\n",
      "Неправильно классифицированный отзыв из Test [15]\n",
      "Test отзыв #25: Предсказания [Отрицательная] Актуальность [Положительная]\n",
      "Текст отзыва Test: wax is the story of a group of college kids on their way to a football game whom decide to camp out for the night and have a run in with a local weirdo upon waking the next morning they make a gruesome discovery and decide to go into town for a broken car part the town is creepy and i'm just gonna stop there because thats when the truly gruesome mayhem begins trust me when i say if your looking for a horror film go see this you will love it it's wonderfully diabolical and inventive with it's killing scenes the story is interesting and the characters are <UNKNOWN> drawn with the actors giving them <UNKNOWN> of personality paris hilton included whom does quite well with her part the film lies a little on the shallow side but it's so much fun and who cares this movie should eat up the box office and all horror fans should have part in it go see house of wax the film that features skin being <UNKNOWN> super glued lips dead animal <UNKNOWN> hot wax <UNKNOWN> on a still living person a finger being cut off a <UNKNOWN> a pole through the head and much more i was lucky enough to witness this film at the <UNKNOWN> premiere and all the actors were on hand to promote the film and boy do they have something to be proud of house of wax is the scariest roller ride of the year 9 10\n",
      "\n",
      "Неправильно классифицированный отзыв из Test [16]\n",
      "Test отзыв #27: Предсказания [Отрицательная] Актуальность [Положительная]\n",
      "Текст отзыва Test: <START> wicked little things was a really good movie i will say at some parts it seemed really unbelievable and others it seemed as if there just wasn't enough thought put into the actions of the characters but overall it was exciting and entertaining i don't understand why this movie's rating is so low nor do i not understand why all the <UNKNOWN> film's ratings are so low these are b movies people and nothing more they provide great entertainment and most of them don't have many flaws at all this is definitely worth a look because you won't be disappointed with the outcome wicked little things is one of the best 1st <UNKNOWN> <UNKNOWN> films and compared to a lot of other films in the series this is one of the best overall <PAD>\n",
      "\n",
      "Неправильно классифицированный отзыв из Test [17]\n",
      "Test отзыв #28: Предсказания [Отрицательная] Актуальность [Положительная]\n",
      "Текст отзыва Test: <START> due to a very misleading advertising campaign i saw this film in theatres at the relatively young age of 10 the trailers on tv portrayed the film as a comedy and i <UNKNOWN> my parents until they took me after seeing the movie i was blown away i had no idea what to think totally different than anything i had seen before leaving far to many questions for such a young mind needless to say i loved it this morning was the first time i'd watched in in probably 2 3 years and i still think it's one of the greatest films made in the last decade kevin spacey and jeff bridges are both in top form as a mysterious man who may or may not be from another planet and the psychiatrist that develops a bond with him while trying to <UNKNOWN> his mystery the supporting cast are near perfect as well each resident of the mental institution is incredibly convincing in their own way the open ending was handled very well giving lots of evidence to support whatever you believe happened in the end how this movie failed to receive at least a nomination in that year's oscars is beyond me if you haven't seen this film run to wal mart right now the dvd is usually in the bargain bin pick it up br br 9 5 10 <PAD>\n",
      "\n",
      "Неправильно классифицированный отзыв из Test [18]\n",
      "Test отзыв #30: Предсказания [Отрицательная] Актуальность [Положительная]\n",
      "Текст отзыва Test: <START> tim robbins did a masterful job directing this film i say this because he avoided convention and cliché he also <UNKNOWN> superb performances from susan sarandon who won an oscar for her role and sean penn even more amazing robbins doesn't <UNKNOWN> he just tells the story and lets the events play on the viewer's mind this is so effective because it allows the viewer to form his own opinions on the death penalty one of the most controversial subjects of our time without being unfairly manipulated in either direction i can't recommend this film enough 9 10 <PAD>\n",
      "\n",
      "Неправильно классифицированный отзыв из Test [19]\n",
      "Test отзыв #31: Предсказания [Отрицательная] Актуальность [Положительная]\n",
      "Текст отзыва Test: <START> if you expect that this movie is full of action and grabbing you from the start then don't watch it but if you like those kind of <UNKNOWN> movies which stick in your mind for a while until you get the details then you will love it now don't get me wrong there is action and there are things going on just not in the usual way br br basically the plot is in a post apocalyptic world where anyone fights in his or their way for survival in this fight they lost the ability to speak i don't want to write more to not spoil the movie for you but trust me if you like sf authors like or or even some from orson scott card you will love this movie <PAD>\n",
      "\n",
      "Неправильно классифицированный отзыв из Test [20]\n",
      "Test отзыв #36: Предсказания [Отрицательная] Актуальность [Положительная]\n",
      "Текст отзыва Test: <START> this movie is certainly one of the greatest films ever made it is a story told in a steady pace told mostly not by words but by cinematic means of expression perfect blend of spectacular special effects and classical music bring to life creations of human imagination in both realistic and <UNKNOWN> way the story itself is quite simple at a first glance as the title implies there is an <UNKNOWN> journey a motive repeated for thousands of years this motive was always used not only to depict a trip in space and time and beyond but also had rich <UNKNOWN> meaning the film is a <UNKNOWN> <UNKNOWN> of most exciting eternal questions it is not just an odyssey of a person it is an odyssey of our species the film is great by itself yet in my case the impression from it will always be <UNKNOWN> with that from the book i've read it at the age of 10 really not thinking about problems like <UNKNOWN> is the relationship between evolution of <UNKNOWN> and development of human but the impression was great enough to make me fall for entire genre of science fiction br br the day i learned got only special effects oscar and was not even nominated for the best picture was the day when <UNKNOWN> completely became two words meaning nothing to me <PAD>\n",
      "\n"
     ]
    }
   ],
   "source": [
    "# Выведем несколько примеров некорретных отзывов\n",
    "predicted_classes_reshaped = np.reshape(predicted_classes, 25000)\n",
    "\n",
    "incorrect = np.nonzero(predicted_classes_reshaped!=y_test)[0]\n",
    "\n",
    "for j, incorrect in enumerate(incorrect[0:20]):\n",
    "    \n",
    "    predicted = class_names[predicted_classes_reshaped[incorrect]]\n",
    "    actual = class_names[y_test[incorrect]]\n",
    "    human_readable_review = decode_review(x_test[incorrect])\n",
    "    \n",
    "    print(\"Неправильно классифицированный отзыв из Test [\"+ str(j+1) +\"]\") \n",
    "    print(\"Test отзыв #\" + str(incorrect)  + \": Предсказания [\"+ predicted + \"] Актуальность [\"+ actual + \"]\")\n",
    "    print(\"Текст отзыва Test: \" + human_readable_review.replace(\"<PAD> \", \"\"))\n",
    "    print(\"\")"
   ]
  },
  {
   "cell_type": "code",
   "execution_count": 56,
   "metadata": {
    "colab": {
     "base_uri": "https://localhost:8080/"
    },
    "id": "UEKEB0DpD_8P",
    "outputId": "28578e20-8703-4f43-9e4c-5d5da805fddb"
   },
   "outputs": [
    {
     "name": "stdout",
     "output_type": "stream",
     "text": [
      "1/1 [==============================] - 0s 24ms/step\n",
      "Отзыв: <START> i think this movie is best\n",
      "Прогноз: 0.7613288\n",
      "Классификация: Положительная\n"
     ]
    }
   ],
   "source": [
    "# review = \"<START> this was a terrible film with too much violence\"\n",
    "# review = \"<START> this is the best film i have ever seen it is great and fantastic and i loved it\"\n",
    "#review = \"<START> i dont think this movie is bad or good\"\n",
    "review = \"<START> i think this movie is best\"\n",
    "\n",
    "tmp = []\n",
    "for word in review.split(\" \"):\n",
    "    tmp.append(word_index[word])\n",
    "\n",
    "tmp_padded = sequence.pad_sequences([tmp], maxlen=review_length,padding='post') \n",
    "\n",
    "rawprediction = model.predict(array([tmp_padded][0]))[0][0]\n",
    "prediction = int(round(rawprediction))\n",
    "\n",
    "print(\"Отзыв: \" + review)\n",
    "print(\"Прогноз: \" + str(rawprediction))\n",
    "print(\"Классификация: \" + class_names[prediction])"
   ]
  }
 ],
 "metadata": {
  "accelerator": "GPU",
  "colab": {
   "machine_shape": "hm",
   "provenance": []
  },
  "kernelspec": {
   "display_name": "Python 3 (ipykernel)",
   "language": "python",
   "name": "python3"
  },
  "language_info": {
   "codemirror_mode": {
    "name": "ipython",
    "version": 3
   },
   "file_extension": ".py",
   "mimetype": "text/x-python",
   "name": "python",
   "nbconvert_exporter": "python",
   "pygments_lexer": "ipython3",
   "version": "3.8.10"
  }
 },
 "nbformat": 4,
 "nbformat_minor": 4
}
