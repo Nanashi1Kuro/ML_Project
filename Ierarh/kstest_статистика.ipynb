{
 "cells": [
  {
   "cell_type": "code",
   "execution_count": 6,
   "metadata": {
    "colab": {
     "base_uri": "https://localhost:8080/"
    },
    "id": "Pe_VIWgSngMr",
    "outputId": "77c326ce-0079-4dc5-819c-ee9e741a4af8"
   },
   "outputs": [
    {
     "data": {
      "text/plain": [
       "KstestResult(statistic=0.5012229900953932, pvalue=9.172156938247408e-24, statistic_location=0.0030655863543372908, statistic_sign=-1)"
      ]
     },
     "execution_count": 6,
     "metadata": {},
     "output_type": "execute_result"
    }
   ],
   "source": [
    "# Предположим, мы хотим проверить нулевую гипотезу о том, что выборка распределена в соответствии со стандартной нормой. \n",
    "# Мы выбираем уровень достоверности 95%; то есть мы отклоним нулевую гипотезу в пользу альтернативы, если p-значение меньше 0,05.\n",
    "# При проверке равномерно распределенных данных мы ожидаем, что нулевая гипотеза будет отвергнута.\n",
    "\n",
    "import numpy as np\n",
    "from scipy import stats\n",
    "rng = np.random.default_rng()\n",
    "stats.kstest(stats.uniform.rvs(size=100, random_state=rng),stats.norm.cdf)"
   ]
  },
  {
   "cell_type": "code",
   "execution_count": 8,
   "metadata": {
    "colab": {
     "base_uri": "https://localhost:8080/"
    },
    "id": "p5TalZRrnmjF",
    "outputId": "21bfbba7-04f7-41e4-b2c5-0d191962ee44"
   },
   "outputs": [
    {
     "data": {
      "text/plain": [
       "KstestResult(statistic=0.058152605651525524, pvalue=0.8680334869758003, statistic_location=-0.49062063536384304, statistic_sign=1)"
      ]
     },
     "execution_count": 8,
     "metadata": {},
     "output_type": "execute_result"
    }
   ],
   "source": [
    "# Если, p-value ниже  порога 0.05, то мы отклоняем нулевую гипотезу в пользу альтернативы по умолчанию: \n",
    "# данные не распределяются в соответствии со стандартной нормой.\n",
    "# При тестировании случайных отклонений от стандартного нормального распределения мы ожидаем, что данные в большинстве случаев \n",
    "# будут соответствовать нулевой гипотезе.\n",
    "x = stats.norm.rvs(size=100, random_state=rng)\n",
    "stats.kstest(x, stats.norm.cdf)"
   ]
  },
  {
   "cell_type": "code",
   "execution_count": 10,
   "metadata": {
    "colab": {
     "base_uri": "https://localhost:8080/"
    },
    "id": "Y9YwqiuPnoWO",
    "outputId": "17f54b3e-ba1a-4a9d-962f-136cdd526bda"
   },
   "outputs": [
    {
     "data": {
      "text/plain": [
       "KstestResult(statistic=0.2971246854128803, pvalue=1.2690020512986598e-08, statistic_location=0.7625184611059994, statistic_sign=-1)"
      ]
     },
     "execution_count": 10,
     "metadata": {},
     "output_type": "execute_result"
    }
   ],
   "source": [
    "# Как и ожидалось, p-value не ниже нашего порога 0.05, поэтому мы не можем отвергнуть нулевую гипотезу.\n",
    "# Предположим, однако, что случайные величины распределены в соответствии с нормальным распределением, \n",
    "# сдвинутым в сторону больших значений. В этом случае кумулятивная функция плотности (CDF) базового распределения \n",
    "# имеет тенденцию быть меньше, чем CDF стандартного нормального распределения. \n",
    "# Следовательно, мы ожидаем, что нулевая гипотеза будет отклонена\n",
    "x = stats.norm.rvs(size=100, loc=0.5, random_state=rng)\n",
    "stats.kstest(x, stats.norm.cdf, alternative='less')"
   ]
  },
  {
   "cell_type": "code",
   "execution_count": 11,
   "metadata": {
    "colab": {
     "base_uri": "https://localhost:8080/"
    },
    "id": "e0A4IKBqnsNZ",
    "outputId": "d9c30f68-dfa8-4739-85dc-b498330a53da"
   },
   "outputs": [
    {
     "data": {
      "text/plain": [
       "KstestResult(statistic=0.2971246854128803, pvalue=1.2690020512986598e-08, statistic_location=0.7625184611059994, statistic_sign=-1)"
      ]
     },
     "execution_count": 11,
     "metadata": {},
     "output_type": "execute_result"
    }
   ],
   "source": [
    "stats.kstest(x, \"norm\", alternative='less')"
   ]
  },
  {
   "cell_type": "code",
   "execution_count": 12,
   "metadata": {
    "colab": {
     "base_uri": "https://localhost:8080/"
    },
    "id": "qKO207cLnvZF",
    "outputId": "1a718d3f-bcc2-4d03-96e1-c0e635806040"
   },
   "outputs": [
    {
     "data": {
      "text/plain": [
       "KstestResult(statistic=0.11979949874686717, pvalue=0.4284604237891626, statistic_location=-0.5347645799650641, statistic_sign=1)"
      ]
     },
     "execution_count": 12,
     "metadata": {},
     "output_type": "execute_result"
    }
   ],
   "source": [
    "sample1 = stats.laplace.rvs(size=105, random_state=rng)\n",
    "sample2 = stats.laplace.rvs(size=95, random_state=rng)\n",
    "stats.kstest(sample1, sample2)"
   ]
  }
 ],
 "metadata": {
  "colab": {
   "provenance": []
  },
  "kernelspec": {
   "display_name": "Python 3 (ipykernel)",
   "language": "python",
   "name": "python3"
  },
  "language_info": {
   "codemirror_mode": {
    "name": "ipython",
    "version": 3
   },
   "file_extension": ".py",
   "mimetype": "text/x-python",
   "name": "python",
   "nbconvert_exporter": "python",
   "pygments_lexer": "ipython3",
   "version": "3.8.10"
  }
 },
 "nbformat": 4,
 "nbformat_minor": 4
}
