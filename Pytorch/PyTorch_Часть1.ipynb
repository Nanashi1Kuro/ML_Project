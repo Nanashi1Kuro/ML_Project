{
 "cells": [
  {
   "cell_type": "code",
   "execution_count": null,
   "id": "92651a1b",
   "metadata": {
    "execution": {
     "iopub.execute_input": "2023-05-03T17:05:32.505649Z",
     "iopub.status.busy": "2023-05-03T17:05:32.505283Z",
     "iopub.status.idle": "2023-05-03T17:05:36.066029Z",
     "shell.execute_reply": "2023-05-03T17:05:36.064653Z"
    },
    "id": "92651a1b",
    "lines_to_next_cell": 0,
    "papermill": {
     "duration": 3.577588,
     "end_time": "2023-05-03T17:05:36.068960",
     "exception": false,
     "start_time": "2023-05-03T17:05:32.491372",
     "status": "completed"
    },
    "tags": []
   },
   "outputs": [],
   "source": [
    "! pip install --quiet \"urllib3\" \"pytorch-lightning>=1.4, <2.1.0\" \"setuptools==67.7.2\" \"torch>=1.8.1, <2.1.0\" \"torchmetrics>=0.7, <0.12\" \"matplotlib>=3.0.0, <3.8.0\" \"ipython[notebook]>=8.0.0, <8.14.0\" \"lightning>=2.0.0rc0\" \"matplotlib\""
   ]
  },
  {
   "cell_type": "code",
   "execution_count": null,
   "id": "ef060fb4",
   "metadata": {
    "execution": {
     "iopub.execute_input": "2023-05-03T17:05:36.126572Z",
     "iopub.status.busy": "2023-05-03T17:05:36.126192Z",
     "iopub.status.idle": "2023-05-03T17:05:37.362410Z",
     "shell.execute_reply": "2023-05-03T17:05:37.361159Z"
    },
    "id": "ef060fb4",
    "papermill": {
     "duration": 1.253162,
     "end_time": "2023-05-03T17:05:37.365219",
     "exception": false,
     "start_time": "2023-05-03T17:05:36.112057",
     "status": "completed"
    },
    "tags": []
   },
   "outputs": [],
   "source": [
    "import time\n",
    "\n",
    "import matplotlib.pyplot as plt\n",
    "\n",
    "%matplotlib inline\n",
    "import matplotlib_inline.backend_inline\n",
    "import numpy as np\n",
    "import torch\n",
    "import torch.nn as nn\n",
    "import torch.utils.data as data\n",
    "from matplotlib.colors import to_rgba\n",
    "from torch import Tensor\n",
    "from tqdm.notebook import tqdm  # Progress bar\n",
    "\n",
    "matplotlib_inline.backend_inline.set_matplotlib_formats(\"svg\", \"pdf\")  # For export"
   ]
  },
  {
   "cell_type": "code",
   "execution_count": null,
   "id": "ee4f9313",
   "metadata": {
    "colab": {
     "base_uri": "https://localhost:8080/"
    },
    "execution": {
     "iopub.execute_input": "2023-05-03T17:05:37.421480Z",
     "iopub.status.busy": "2023-05-03T17:05:37.420955Z",
     "iopub.status.idle": "2023-05-03T17:05:37.427741Z",
     "shell.execute_reply": "2023-05-03T17:05:37.426499Z"
    },
    "id": "ee4f9313",
    "outputId": "f762b835-4ba9-41c1-9513-c11e4cdfd1cc",
    "papermill": {
     "duration": 0.022416,
     "end_time": "2023-05-03T17:05:37.429291",
     "exception": false,
     "start_time": "2023-05-03T17:05:37.406875",
     "status": "completed"
    },
    "tags": []
   },
   "outputs": [
    {
     "name": "stdout",
     "output_type": "stream",
     "text": [
      "Using torch 2.0.1+cu118\n"
     ]
    }
   ],
   "source": [
    "print(\"Using torch\", torch.__version__)"
   ]
  },
  {
   "cell_type": "markdown",
   "id": "6dbdfcd6",
   "metadata": {
    "id": "6dbdfcd6",
    "papermill": {
     "duration": 0.01277,
     "end_time": "2023-05-03T17:05:37.530254",
     "exception": false,
     "start_time": "2023-05-03T17:05:37.517484",
     "status": "completed"
    },
    "tags": []
   },
   "source": [
    "### Тензоры\n"
   ]
  },
  {
   "cell_type": "code",
   "execution_count": null,
   "id": "899e4216",
   "metadata": {
    "colab": {
     "base_uri": "https://localhost:8080/"
    },
    "execution": {
     "iopub.execute_input": "2023-05-03T17:05:37.559861Z",
     "iopub.status.busy": "2023-05-03T17:05:37.559469Z",
     "iopub.status.idle": "2023-05-03T17:05:37.570514Z",
     "shell.execute_reply": "2023-05-03T17:05:37.569642Z"
    },
    "id": "899e4216",
    "outputId": "d1b855d3-a4b2-4395-b585-38573c1bdca8",
    "papermill": {
     "duration": 0.029322,
     "end_time": "2023-05-03T17:05:37.572743",
     "exception": false,
     "start_time": "2023-05-03T17:05:37.543421",
     "status": "completed"
    },
    "tags": []
   },
   "outputs": [
    {
     "name": "stdout",
     "output_type": "stream",
     "text": [
      "tensor([[[-5.6481e+02,  4.5818e-41,  0.0000e+00,  0.0000e+00],\n",
      "         [ 1.4013e-45,  0.0000e+00,  1.2810e-34,  0.0000e+00],\n",
      "         [ 0.0000e+00,  0.0000e+00,  0.0000e+00,  0.0000e+00]],\n",
      "\n",
      "        [[ 4.1216e-35,  0.0000e+00,  1.5817e-35,  0.0000e+00],\n",
      "         [-1.2842e+13,  4.5818e-41,  1.4013e-45,  0.0000e+00],\n",
      "         [ 3.0829e-44,  0.0000e+00,  0.0000e+00,  0.0000e+00]]])\n"
     ]
    }
   ],
   "source": [
    "x = Tensor(2, 3, 4)\n",
    "print(x)"
   ]
  },
  {
   "cell_type": "code",
   "execution_count": null,
   "id": "5f6faaa4",
   "metadata": {
    "colab": {
     "base_uri": "https://localhost:8080/"
    },
    "execution": {
     "iopub.execute_input": "2023-05-03T17:05:37.629725Z",
     "iopub.status.busy": "2023-05-03T17:05:37.629088Z",
     "iopub.status.idle": "2023-05-03T17:05:37.635741Z",
     "shell.execute_reply": "2023-05-03T17:05:37.634662Z"
    },
    "id": "5f6faaa4",
    "outputId": "ab5e04dd-fa18-477a-e402-5aefb74fbd42",
    "papermill": {
     "duration": 0.022253,
     "end_time": "2023-05-03T17:05:37.637352",
     "exception": false,
     "start_time": "2023-05-03T17:05:37.615099",
     "status": "completed"
    },
    "tags": []
   },
   "outputs": [
    {
     "name": "stdout",
     "output_type": "stream",
     "text": [
      "tensor([[1., 2.],\n",
      "        [3., 4.]])\n"
     ]
    }
   ],
   "source": [
    "\n",
    "x = Tensor([[1, 2], [3, 4]])\n",
    "print(x)"
   ]
  },
  {
   "cell_type": "code",
   "execution_count": null,
   "id": "c80d2c4f",
   "metadata": {
    "colab": {
     "base_uri": "https://localhost:8080/"
    },
    "execution": {
     "iopub.execute_input": "2023-05-03T17:05:37.667304Z",
     "iopub.status.busy": "2023-05-03T17:05:37.666990Z",
     "iopub.status.idle": "2023-05-03T17:05:37.672586Z",
     "shell.execute_reply": "2023-05-03T17:05:37.671641Z"
    },
    "id": "c80d2c4f",
    "outputId": "bba00f2c-3f60-4efe-902d-03611ded2311",
    "papermill": {
     "duration": 0.020746,
     "end_time": "2023-05-03T17:05:37.673995",
     "exception": false,
     "start_time": "2023-05-03T17:05:37.653249",
     "status": "completed"
    },
    "tags": []
   },
   "outputs": [
    {
     "name": "stdout",
     "output_type": "stream",
     "text": [
      "tensor([[[0.3768, 0.6951, 0.3462, 0.4157],\n",
      "         [0.1533, 0.2404, 0.0081, 0.9509],\n",
      "         [0.3383, 0.9279, 0.9881, 0.4599]],\n",
      "\n",
      "        [[0.3467, 0.8705, 0.2348, 0.9923],\n",
      "         [0.8201, 0.9465, 0.5365, 0.2300],\n",
      "         [0.8573, 0.6190, 0.6361, 0.2774]]])\n"
     ]
    }
   ],
   "source": [
    "\n",
    "x = torch.rand(2, 3, 4)\n",
    "print(x)"
   ]
  },
  {
   "cell_type": "code",
   "execution_count": null,
   "id": "cc8880b0",
   "metadata": {
    "colab": {
     "base_uri": "https://localhost:8080/"
    },
    "execution": {
     "iopub.execute_input": "2023-05-03T17:05:37.730771Z",
     "iopub.status.busy": "2023-05-03T17:05:37.730397Z",
     "iopub.status.idle": "2023-05-03T17:05:37.737514Z",
     "shell.execute_reply": "2023-05-03T17:05:37.736426Z"
    },
    "id": "cc8880b0",
    "outputId": "20761966-ed8f-4cc0-d55f-783e5dc8d944",
    "papermill": {
     "duration": 0.022978,
     "end_time": "2023-05-03T17:05:37.739240",
     "exception": false,
     "start_time": "2023-05-03T17:05:37.716262",
     "status": "completed"
    },
    "tags": []
   },
   "outputs": [
    {
     "name": "stdout",
     "output_type": "stream",
     "text": [
      "Shape: torch.Size([2, 3, 4])\n",
      "Size: torch.Size([2, 3, 4])\n",
      "Size: 2 3 4\n"
     ]
    }
   ],
   "source": [
    "shape = x.shape\n",
    "print(\"Shape:\", x.shape)\n",
    "\n",
    "size = x.size()\n",
    "print(\"Size:\", size)\n",
    "\n",
    "dim1, dim2, dim3 = x.size()\n",
    "print(\"Size:\", dim1, dim2, dim3)"
   ]
  },
  {
   "cell_type": "markdown",
   "id": "5cc138df",
   "metadata": {
    "id": "5cc138df",
    "papermill": {
     "duration": 0.01305,
     "end_time": "2023-05-03T17:05:37.768923",
     "exception": false,
     "start_time": "2023-05-03T17:05:37.755873",
     "status": "completed"
    },
    "tags": []
   },
   "source": [
    "#### Tensor в Numpy, и Numpy в Tensor\n",
    "\n"
   ]
  },
  {
   "cell_type": "code",
   "execution_count": null,
   "id": "2015edfe",
   "metadata": {
    "colab": {
     "base_uri": "https://localhost:8080/"
    },
    "execution": {
     "iopub.execute_input": "2023-05-03T17:05:37.796407Z",
     "iopub.status.busy": "2023-05-03T17:05:37.796098Z",
     "iopub.status.idle": "2023-05-03T17:05:37.801989Z",
     "shell.execute_reply": "2023-05-03T17:05:37.801044Z"
    },
    "id": "2015edfe",
    "outputId": "a01c5051-6cd4-4bee-b5f3-de3621445f6c",
    "papermill": {
     "duration": 0.021433,
     "end_time": "2023-05-03T17:05:37.803443",
     "exception": false,
     "start_time": "2023-05-03T17:05:37.782010",
     "status": "completed"
    },
    "tags": []
   },
   "outputs": [
    {
     "name": "stdout",
     "output_type": "stream",
     "text": [
      "Numpy array: [[1 2]\n",
      " [3 4]]\n",
      "PyTorch tensor: tensor([[1, 2],\n",
      "        [3, 4]])\n"
     ]
    }
   ],
   "source": [
    "np_arr = np.array([[1, 2], [3, 4]])\n",
    "tensor = torch.from_numpy(np_arr)\n",
    "\n",
    "print(\"Numpy array:\", np_arr)\n",
    "print(\"PyTorch tensor:\", tensor)"
   ]
  },
  {
   "cell_type": "code",
   "execution_count": null,
   "id": "ae72833d",
   "metadata": {
    "colab": {
     "base_uri": "https://localhost:8080/"
    },
    "execution": {
     "iopub.execute_input": "2023-05-03T17:05:37.861016Z",
     "iopub.status.busy": "2023-05-03T17:05:37.860570Z",
     "iopub.status.idle": "2023-05-03T17:05:37.867294Z",
     "shell.execute_reply": "2023-05-03T17:05:37.866269Z"
    },
    "id": "ae72833d",
    "outputId": "a7d3ba9d-6b28-463a-9e8d-f7124cb29939",
    "papermill": {
     "duration": 0.023351,
     "end_time": "2023-05-03T17:05:37.869693",
     "exception": false,
     "start_time": "2023-05-03T17:05:37.846342",
     "status": "completed"
    },
    "tags": []
   },
   "outputs": [
    {
     "name": "stdout",
     "output_type": "stream",
     "text": [
      "PyTorch tensor: tensor([0, 1, 2, 3])\n",
      "Numpy array: [0 1 2 3]\n"
     ]
    }
   ],
   "source": [
    "tensor = torch.arange(4)\n",
    "np_arr = tensor.numpy()\n",
    "\n",
    "print(\"PyTorch tensor:\", tensor)\n",
    "print(\"Numpy array:\", np_arr)"
   ]
  },
  {
   "cell_type": "markdown",
   "id": "5b617c9d",
   "metadata": {
    "id": "5b617c9d",
    "papermill": {
     "duration": 0.013174,
     "end_time": "2023-05-03T17:05:37.928248",
     "exception": false,
     "start_time": "2023-05-03T17:05:37.915074",
     "status": "completed"
    },
    "tags": []
   },
   "source": [
    "#### Операции\n"
   ]
  },
  {
   "cell_type": "code",
   "execution_count": null,
   "id": "c5bb5655",
   "metadata": {
    "colab": {
     "base_uri": "https://localhost:8080/"
    },
    "execution": {
     "iopub.execute_input": "2023-05-03T17:05:37.955942Z",
     "iopub.status.busy": "2023-05-03T17:05:37.955702Z",
     "iopub.status.idle": "2023-05-03T17:05:37.962441Z",
     "shell.execute_reply": "2023-05-03T17:05:37.961513Z"
    },
    "id": "c5bb5655",
    "outputId": "511ce138-f3d0-4a0a-ddde-92fa3062e3e8",
    "papermill": {
     "duration": 0.022619,
     "end_time": "2023-05-03T17:05:37.964136",
     "exception": false,
     "start_time": "2023-05-03T17:05:37.941517",
     "status": "completed"
    },
    "tags": []
   },
   "outputs": [
    {
     "name": "stdout",
     "output_type": "stream",
     "text": [
      "X1 tensor([[0.1630, 0.1581, 0.1296],\n",
      "        [0.0488, 0.8344, 0.4976]])\n",
      "X2 tensor([[0.4140, 0.5681, 0.3120],\n",
      "        [0.5110, 0.0917, 0.1197]])\n",
      "Y tensor([[0.5770, 0.7262, 0.4416],\n",
      "        [0.5598, 0.9261, 0.6173]])\n"
     ]
    }
   ],
   "source": [
    "x1 = torch.rand(2, 3)\n",
    "x2 = torch.rand(2, 3)\n",
    "y = x1 + x2\n",
    "\n",
    "print(\"X1\", x1)\n",
    "print(\"X2\", x2)\n",
    "print(\"Y\", y)"
   ]
  },
  {
   "cell_type": "code",
   "execution_count": null,
   "id": "cc3f88ca",
   "metadata": {
    "colab": {
     "base_uri": "https://localhost:8080/"
    },
    "execution": {
     "iopub.execute_input": "2023-05-03T17:05:38.023297Z",
     "iopub.status.busy": "2023-05-03T17:05:38.022891Z",
     "iopub.status.idle": "2023-05-03T17:05:38.030029Z",
     "shell.execute_reply": "2023-05-03T17:05:38.029094Z"
    },
    "id": "cc3f88ca",
    "outputId": "9d9b04b4-7069-4e68-ea15-93599ae1c227",
    "papermill": {
     "duration": 0.022797,
     "end_time": "2023-05-03T17:05:38.031336",
     "exception": false,
     "start_time": "2023-05-03T17:05:38.008539",
     "status": "completed"
    },
    "tags": []
   },
   "outputs": [
    {
     "name": "stdout",
     "output_type": "stream",
     "text": [
      "X1 (before) tensor([[0.0147, 0.8658, 0.7572],\n",
      "        [0.3502, 0.1745, 0.1207]])\n",
      "X2 (before) tensor([[0.8851, 0.0843, 0.4493],\n",
      "        [0.7686, 0.1414, 0.2033]])\n",
      "X1 (after) tensor([[0.0147, 0.8658, 0.7572],\n",
      "        [0.3502, 0.1745, 0.1207]])\n",
      "X2 (after) tensor([[0.8999, 0.9501, 1.2065],\n",
      "        [1.1189, 0.3158, 0.3240]])\n"
     ]
    }
   ],
   "source": [
    "x1 = torch.rand(2, 3)\n",
    "x2 = torch.rand(2, 3)\n",
    "print(\"X1 (before)\", x1)\n",
    "print(\"X2 (before)\", x2)\n",
    "\n",
    "x2.add_(x1)\n",
    "print(\"X1 (after)\", x1)\n",
    "print(\"X2 (after)\", x2)"
   ]
  },
  {
   "cell_type": "code",
   "execution_count": null,
   "id": "3e788250",
   "metadata": {
    "colab": {
     "base_uri": "https://localhost:8080/"
    },
    "execution": {
     "iopub.execute_input": "2023-05-03T17:05:38.091135Z",
     "iopub.status.busy": "2023-05-03T17:05:38.090687Z",
     "iopub.status.idle": "2023-05-03T17:05:38.096680Z",
     "shell.execute_reply": "2023-05-03T17:05:38.095667Z"
    },
    "id": "3e788250",
    "outputId": "d21e10f8-36d8-4b0b-e70a-ec6da6b99006",
    "papermill": {
     "duration": 0.021988,
     "end_time": "2023-05-03T17:05:38.098071",
     "exception": false,
     "start_time": "2023-05-03T17:05:38.076083",
     "status": "completed"
    },
    "tags": []
   },
   "outputs": [
    {
     "name": "stdout",
     "output_type": "stream",
     "text": [
      "X tensor([0, 1, 2, 3, 4, 5])\n"
     ]
    }
   ],
   "source": [
    "x = torch.arange(6)\n",
    "print(\"X\", x)"
   ]
  },
  {
   "cell_type": "code",
   "execution_count": null,
   "id": "b89e4bbe",
   "metadata": {
    "colab": {
     "base_uri": "https://localhost:8080/"
    },
    "execution": {
     "iopub.execute_input": "2023-05-03T17:05:38.129101Z",
     "iopub.status.busy": "2023-05-03T17:05:38.128676Z",
     "iopub.status.idle": "2023-05-03T17:05:38.134024Z",
     "shell.execute_reply": "2023-05-03T17:05:38.133175Z"
    },
    "id": "b89e4bbe",
    "outputId": "afd4a07a-f148-4093-b11e-5670469ea5cc",
    "papermill": {
     "duration": 0.021397,
     "end_time": "2023-05-03T17:05:38.135436",
     "exception": false,
     "start_time": "2023-05-03T17:05:38.114039",
     "status": "completed"
    },
    "tags": []
   },
   "outputs": [
    {
     "name": "stdout",
     "output_type": "stream",
     "text": [
      "X tensor([[0, 1, 2],\n",
      "        [3, 4, 5]])\n"
     ]
    }
   ],
   "source": [
    "x = x.view(2, 3)\n",
    "print(\"X\", x)"
   ]
  },
  {
   "cell_type": "code",
   "execution_count": null,
   "id": "ccf150b2",
   "metadata": {
    "colab": {
     "base_uri": "https://localhost:8080/"
    },
    "execution": {
     "iopub.execute_input": "2023-05-03T17:05:38.166003Z",
     "iopub.status.busy": "2023-05-03T17:05:38.165704Z",
     "iopub.status.idle": "2023-05-03T17:05:38.170859Z",
     "shell.execute_reply": "2023-05-03T17:05:38.170027Z"
    },
    "id": "ccf150b2",
    "outputId": "ba3a5319-8f75-4aaa-eca8-e9f7ad378aaa",
    "papermill": {
     "duration": 0.020789,
     "end_time": "2023-05-03T17:05:38.172162",
     "exception": false,
     "start_time": "2023-05-03T17:05:38.151373",
     "status": "completed"
    },
    "tags": []
   },
   "outputs": [
    {
     "name": "stdout",
     "output_type": "stream",
     "text": [
      "X tensor([[0, 1, 2],\n",
      "        [3, 4, 5]])\n"
     ]
    }
   ],
   "source": [
    "x = x.permute(1, 0)  \n",
    "print(\"X\", x)"
   ]
  },
  {
   "cell_type": "code",
   "execution_count": null,
   "id": "5c71b963",
   "metadata": {
    "execution": {
     "iopub.execute_input": "2023-05-03T17:05:38.230672Z",
     "iopub.status.busy": "2023-05-03T17:05:38.230328Z",
     "iopub.status.idle": "2023-05-03T17:05:38.235455Z",
     "shell.execute_reply": "2023-05-03T17:05:38.234607Z"
    },
    "id": "5c71b963",
    "outputId": "886ec1df-4fc5-4a4f-9240-5586d338015a",
    "papermill": {
     "duration": 0.021444,
     "end_time": "2023-05-03T17:05:38.237074",
     "exception": false,
     "start_time": "2023-05-03T17:05:38.215630",
     "status": "completed"
    },
    "tags": []
   },
   "outputs": [
    {
     "name": "stdout",
     "output_type": "stream",
     "text": [
      "X tensor([[0, 1, 2],\n",
      "        [3, 4, 5]])\n"
     ]
    }
   ],
   "source": [
    "x = torch.arange(6)\n",
    "x = x.view(2, 3)\n",
    "print(\"X\", x)"
   ]
  },
  {
   "cell_type": "code",
   "execution_count": null,
   "id": "ed6f026d",
   "metadata": {
    "colab": {
     "base_uri": "https://localhost:8080/"
    },
    "execution": {
     "iopub.execute_input": "2023-05-03T17:05:38.269608Z",
     "iopub.status.busy": "2023-05-03T17:05:38.269310Z",
     "iopub.status.idle": "2023-05-03T17:05:38.274430Z",
     "shell.execute_reply": "2023-05-03T17:05:38.273597Z"
    },
    "id": "ed6f026d",
    "outputId": "c0e83e3b-4d49-45de-e9a0-6c251811e39b",
    "papermill": {
     "duration": 0.022219,
     "end_time": "2023-05-03T17:05:38.277046",
     "exception": false,
     "start_time": "2023-05-03T17:05:38.254827",
     "status": "completed"
    },
    "tags": []
   },
   "outputs": [
    {
     "name": "stdout",
     "output_type": "stream",
     "text": [
      "W tensor([[0, 1, 2],\n",
      "        [3, 4, 5],\n",
      "        [6, 7, 8]])\n"
     ]
    }
   ],
   "source": [
    "W = torch.arange(9).view(3, 3)  \n",
    "print(\"W\", W)"
   ]
  },
  {
   "cell_type": "code",
   "execution_count": null,
   "id": "b47d4b2d",
   "metadata": {
    "colab": {
     "base_uri": "https://localhost:8080/"
    },
    "execution": {
     "iopub.execute_input": "2023-05-03T17:05:38.310912Z",
     "iopub.status.busy": "2023-05-03T17:05:38.310614Z",
     "iopub.status.idle": "2023-05-03T17:05:38.315702Z",
     "shell.execute_reply": "2023-05-03T17:05:38.314820Z"
    },
    "id": "b47d4b2d",
    "outputId": "0756f17e-d574-4c79-a972-3651dcb2b8b9",
    "papermill": {
     "duration": 0.021778,
     "end_time": "2023-05-03T17:05:38.317360",
     "exception": false,
     "start_time": "2023-05-03T17:05:38.295582",
     "status": "completed"
    },
    "tags": []
   },
   "outputs": [
    {
     "name": "stdout",
     "output_type": "stream",
     "text": [
      "h tensor([[15, 18, 21],\n",
      "        [42, 54, 66]])\n"
     ]
    }
   ],
   "source": [
    "h = torch.matmul(x, W)  \n",
    "print(\"h\", h)"
   ]
  },
  {
   "cell_type": "markdown",
   "id": "16cd52c8",
   "metadata": {
    "id": "16cd52c8",
    "papermill": {
     "duration": 0.013855,
     "end_time": "2023-05-03T17:05:38.348131",
     "exception": false,
     "start_time": "2023-05-03T17:05:38.334276",
     "status": "completed"
    },
    "tags": []
   },
   "source": [
    "#### Индексирование\n",
    "\n"
   ]
  },
  {
   "cell_type": "code",
   "execution_count": null,
   "id": "b4182c5b",
   "metadata": {
    "colab": {
     "base_uri": "https://localhost:8080/"
    },
    "execution": {
     "iopub.execute_input": "2023-05-03T17:05:38.378139Z",
     "iopub.status.busy": "2023-05-03T17:05:38.377211Z",
     "iopub.status.idle": "2023-05-03T17:05:38.383830Z",
     "shell.execute_reply": "2023-05-03T17:05:38.382718Z"
    },
    "id": "b4182c5b",
    "outputId": "21ae40e2-05e0-4201-b838-880944b96302",
    "papermill": {
     "duration": 0.023157,
     "end_time": "2023-05-03T17:05:38.385233",
     "exception": false,
     "start_time": "2023-05-03T17:05:38.362076",
     "status": "completed"
    },
    "tags": []
   },
   "outputs": [
    {
     "name": "stdout",
     "output_type": "stream",
     "text": [
      "X tensor([[ 0,  1,  2,  3],\n",
      "        [ 4,  5,  6,  7],\n",
      "        [ 8,  9, 10, 11]])\n"
     ]
    }
   ],
   "source": [
    "x = torch.arange(12).view(3, 4)\n",
    "print(\"X\", x)"
   ]
  },
  {
   "cell_type": "code",
   "execution_count": null,
   "id": "4d690996",
   "metadata": {
    "colab": {
     "base_uri": "https://localhost:8080/"
    },
    "execution": {
     "iopub.execute_input": "2023-05-03T17:05:38.419864Z",
     "iopub.status.busy": "2023-05-03T17:05:38.419561Z",
     "iopub.status.idle": "2023-05-03T17:05:38.423728Z",
     "shell.execute_reply": "2023-05-03T17:05:38.422988Z"
    },
    "id": "4d690996",
    "outputId": "e70177cb-e626-4900-b274-e4140eee10e2",
    "papermill": {
     "duration": 0.020487,
     "end_time": "2023-05-03T17:05:38.425310",
     "exception": false,
     "start_time": "2023-05-03T17:05:38.404823",
     "status": "completed"
    },
    "tags": []
   },
   "outputs": [
    {
     "name": "stdout",
     "output_type": "stream",
     "text": [
      "tensor([1, 5, 9])\n"
     ]
    }
   ],
   "source": [
    "print(x[:, 1])   "
   ]
  },
  {
   "cell_type": "code",
   "execution_count": null,
   "id": "9b000bee",
   "metadata": {
    "colab": {
     "base_uri": "https://localhost:8080/"
    },
    "execution": {
     "iopub.execute_input": "2023-05-03T17:05:38.457934Z",
     "iopub.status.busy": "2023-05-03T17:05:38.457511Z",
     "iopub.status.idle": "2023-05-03T17:05:38.463238Z",
     "shell.execute_reply": "2023-05-03T17:05:38.462230Z"
    },
    "id": "9b000bee",
    "outputId": "66da6d45-0705-42d7-9f9d-2b73d760b445",
    "papermill": {
     "duration": 0.022186,
     "end_time": "2023-05-03T17:05:38.464512",
     "exception": false,
     "start_time": "2023-05-03T17:05:38.442326",
     "status": "completed"
    },
    "tags": []
   },
   "outputs": [
    {
     "name": "stdout",
     "output_type": "stream",
     "text": [
      "tensor([0, 1, 2, 3])\n"
     ]
    }
   ],
   "source": [
    "print(x[0])   "
   ]
  },
  {
   "cell_type": "code",
   "execution_count": null,
   "id": "ae2e204d",
   "metadata": {
    "colab": {
     "base_uri": "https://localhost:8080/"
    },
    "execution": {
     "iopub.execute_input": "2023-05-03T17:05:38.496309Z",
     "iopub.status.busy": "2023-05-03T17:05:38.496009Z",
     "iopub.status.idle": "2023-05-03T17:05:38.501025Z",
     "shell.execute_reply": "2023-05-03T17:05:38.500181Z"
    },
    "id": "ae2e204d",
    "outputId": "7cbf8227-9349-4151-9191-e28246f450cf",
    "papermill": {
     "duration": 0.021377,
     "end_time": "2023-05-03T17:05:38.502364",
     "exception": false,
     "start_time": "2023-05-03T17:05:38.480987",
     "status": "completed"
    },
    "tags": []
   },
   "outputs": [
    {
     "name": "stdout",
     "output_type": "stream",
     "text": [
      "tensor([3, 7])\n"
     ]
    }
   ],
   "source": [
    "print(x[:2, -1])  "
   ]
  },
  {
   "cell_type": "code",
   "execution_count": null,
   "id": "c953e24a",
   "metadata": {
    "colab": {
     "base_uri": "https://localhost:8080/"
    },
    "execution": {
     "iopub.execute_input": "2023-05-03T17:05:38.534466Z",
     "iopub.status.busy": "2023-05-03T17:05:38.534122Z",
     "iopub.status.idle": "2023-05-03T17:05:38.540189Z",
     "shell.execute_reply": "2023-05-03T17:05:38.539093Z"
    },
    "id": "c953e24a",
    "outputId": "7aa6bee9-5012-42f4-d438-8e80a7bb3d75",
    "papermill": {
     "duration": 0.022678,
     "end_time": "2023-05-03T17:05:38.541574",
     "exception": false,
     "start_time": "2023-05-03T17:05:38.518896",
     "status": "completed"
    },
    "tags": []
   },
   "outputs": [
    {
     "name": "stdout",
     "output_type": "stream",
     "text": [
      "tensor([[ 4,  5,  6,  7],\n",
      "        [ 8,  9, 10, 11]])\n"
     ]
    }
   ],
   "source": [
    "print(x[1:3, :])   "
   ]
  },
  {
   "cell_type": "markdown",
   "id": "07bc4c06",
   "metadata": {
    "id": "07bc4c06",
    "papermill": {
     "duration": 0.014313,
     "end_time": "2023-05-03T17:05:38.573421",
     "exception": false,
     "start_time": "2023-05-03T17:05:38.559108",
     "status": "completed"
    },
    "tags": []
   },
   "source": [
    "### Dynamic Computation Graph и Backpropagation\n"
   ]
  },
  {
   "cell_type": "code",
   "execution_count": null,
   "id": "61f8890b",
   "metadata": {
    "colab": {
     "base_uri": "https://localhost:8080/"
    },
    "execution": {
     "iopub.execute_input": "2023-05-03T17:05:38.603383Z",
     "iopub.status.busy": "2023-05-03T17:05:38.602989Z",
     "iopub.status.idle": "2023-05-03T17:05:38.607792Z",
     "shell.execute_reply": "2023-05-03T17:05:38.606848Z"
    },
    "id": "61f8890b",
    "outputId": "689a43f7-dd21-47dd-f0f3-d218096e08b2",
    "papermill": {
     "duration": 0.021477,
     "end_time": "2023-05-03T17:05:38.609188",
     "exception": false,
     "start_time": "2023-05-03T17:05:38.587711",
     "status": "completed"
    },
    "tags": []
   },
   "outputs": [
    {
     "name": "stdout",
     "output_type": "stream",
     "text": [
      "False\n"
     ]
    }
   ],
   "source": [
    "x = torch.ones((3,))\n",
    "print(x.requires_grad)"
   ]
  },
  {
   "cell_type": "code",
   "execution_count": null,
   "id": "aa0d2e59",
   "metadata": {
    "colab": {
     "base_uri": "https://localhost:8080/"
    },
    "execution": {
     "iopub.execute_input": "2023-05-03T17:05:38.671162Z",
     "iopub.status.busy": "2023-05-03T17:05:38.670848Z",
     "iopub.status.idle": "2023-05-03T17:05:38.675547Z",
     "shell.execute_reply": "2023-05-03T17:05:38.674676Z"
    },
    "id": "aa0d2e59",
    "outputId": "7ca372fd-8df8-4e4e-a63d-bd9f5b490c34",
    "papermill": {
     "duration": 0.02122,
     "end_time": "2023-05-03T17:05:38.676891",
     "exception": false,
     "start_time": "2023-05-03T17:05:38.655671",
     "status": "completed"
    },
    "tags": []
   },
   "outputs": [
    {
     "name": "stdout",
     "output_type": "stream",
     "text": [
      "True\n"
     ]
    }
   ],
   "source": [
    "x.requires_grad_(True)\n",
    "print(x.requires_grad)"
   ]
  },
  {
   "cell_type": "code",
   "execution_count": null,
   "id": "d59fe4a7",
   "metadata": {
    "colab": {
     "base_uri": "https://localhost:8080/"
    },
    "execution": {
     "iopub.execute_input": "2023-05-03T17:05:38.738543Z",
     "iopub.status.busy": "2023-05-03T17:05:38.738139Z",
     "iopub.status.idle": "2023-05-03T17:05:38.745260Z",
     "shell.execute_reply": "2023-05-03T17:05:38.744241Z"
    },
    "id": "d59fe4a7",
    "outputId": "57e478ca-612e-47ed-8d93-9155fc061ca7",
    "papermill": {
     "duration": 0.02403,
     "end_time": "2023-05-03T17:05:38.746679",
     "exception": false,
     "start_time": "2023-05-03T17:05:38.722649",
     "status": "completed"
    },
    "tags": []
   },
   "outputs": [
    {
     "name": "stdout",
     "output_type": "stream",
     "text": [
      "X tensor([0., 1., 2.], requires_grad=True)\n"
     ]
    }
   ],
   "source": [
    "x = torch.arange(3, dtype=torch.float32, requires_grad=True) \n",
    "print(\"X\", x)"
   ]
  },
  {
   "cell_type": "code",
   "execution_count": null,
   "id": "2186ab70",
   "metadata": {
    "colab": {
     "base_uri": "https://localhost:8080/"
    },
    "execution": {
     "iopub.execute_input": "2023-05-03T17:05:38.811854Z",
     "iopub.status.busy": "2023-05-03T17:05:38.811483Z",
     "iopub.status.idle": "2023-05-03T17:05:38.818329Z",
     "shell.execute_reply": "2023-05-03T17:05:38.817316Z"
    },
    "id": "2186ab70",
    "outputId": "86c6466d-68fc-4be5-bec8-0462385ea1ee",
    "papermill": {
     "duration": 0.024097,
     "end_time": "2023-05-03T17:05:38.819849",
     "exception": false,
     "start_time": "2023-05-03T17:05:38.795752",
     "status": "completed"
    },
    "tags": []
   },
   "outputs": [
    {
     "name": "stdout",
     "output_type": "stream",
     "text": [
      "Y tensor(12.6667, grad_fn=<MeanBackward0>)\n"
     ]
    }
   ],
   "source": [
    "a = x + 2\n",
    "b = a**2\n",
    "c = b + 3\n",
    "y = c.mean()\n",
    "print(\"Y\", y)"
   ]
  },
  {
   "cell_type": "markdown",
   "id": "84971c61",
   "metadata": {
    "id": "84971c61",
    "papermill": {
     "duration": 0.014586,
     "end_time": "2023-05-03T17:05:38.853347",
     "exception": false,
     "start_time": "2023-05-03T17:05:38.838761",
     "status": "completed"
    },
    "tags": []
   },
   "source": [
    "\n",
    "\n",
    "<center style=\"width: 100%\"><img src=\"https://github.com/Lightning-AI/lightning-tutorials/raw/main/course_UvA-DL/01-introduction-to-pytorch/pytorch_computation_graph.svg\" width=\"200px\"></center>\n",
    "\n"
   ]
  },
  {
   "cell_type": "code",
   "execution_count": null,
   "id": "efb525ed",
   "metadata": {
    "execution": {
     "iopub.execute_input": "2023-05-03T17:05:38.883966Z",
     "iopub.status.busy": "2023-05-03T17:05:38.883652Z",
     "iopub.status.idle": "2023-05-03T17:05:38.974997Z",
     "shell.execute_reply": "2023-05-03T17:05:38.973812Z"
    },
    "id": "efb525ed",
    "papermill": {
     "duration": 0.109442,
     "end_time": "2023-05-03T17:05:38.977408",
     "exception": false,
     "start_time": "2023-05-03T17:05:38.867966",
     "status": "completed"
    },
    "tags": []
   },
   "outputs": [],
   "source": [
    "y.backward()"
   ]
  },
  {
   "cell_type": "code",
   "execution_count": null,
   "id": "7940bafb",
   "metadata": {
    "colab": {
     "base_uri": "https://localhost:8080/"
    },
    "execution": {
     "iopub.execute_input": "2023-05-03T17:05:39.045917Z",
     "iopub.status.busy": "2023-05-03T17:05:39.045530Z",
     "iopub.status.idle": "2023-05-03T17:05:39.052108Z",
     "shell.execute_reply": "2023-05-03T17:05:39.051132Z"
    },
    "id": "7940bafb",
    "outputId": "88bd1196-089f-41f2-c469-ec05c7cb1ace",
    "papermill": {
     "duration": 0.024423,
     "end_time": "2023-05-03T17:05:39.053786",
     "exception": false,
     "start_time": "2023-05-03T17:05:39.029363",
     "status": "completed"
    },
    "tags": []
   },
   "outputs": [
    {
     "name": "stdout",
     "output_type": "stream",
     "text": [
      "tensor([1.3333, 2.0000, 2.6667])\n"
     ]
    }
   ],
   "source": [
    "print(x.grad)"
   ]
  },
  {
   "cell_type": "markdown",
   "id": "920c5453",
   "metadata": {
    "id": "920c5453",
    "papermill": {
     "duration": 0.014877,
     "end_time": "2023-05-03T17:05:39.116958",
     "exception": false,
     "start_time": "2023-05-03T17:05:39.102081",
     "status": "completed"
    },
    "tags": []
   },
   "source": [
    "### GPU support\n",
    "\n"
   ]
  },
  {
   "cell_type": "code",
   "execution_count": null,
   "id": "8f37df15",
   "metadata": {
    "colab": {
     "base_uri": "https://localhost:8080/"
    },
    "execution": {
     "iopub.execute_input": "2023-05-03T17:05:39.147644Z",
     "iopub.status.busy": "2023-05-03T17:05:39.147403Z",
     "iopub.status.idle": "2023-05-03T17:05:39.152080Z",
     "shell.execute_reply": "2023-05-03T17:05:39.151196Z"
    },
    "id": "8f37df15",
    "outputId": "2b0a699e-3ec6-4e44-fe9f-6be455bfd412",
    "papermill": {
     "duration": 0.021888,
     "end_time": "2023-05-03T17:05:39.153574",
     "exception": false,
     "start_time": "2023-05-03T17:05:39.131686",
     "status": "completed"
    },
    "tags": []
   },
   "outputs": [
    {
     "name": "stdout",
     "output_type": "stream",
     "text": [
      "Is the GPU available? False\n"
     ]
    }
   ],
   "source": [
    "gpu_avail = torch.cuda.is_available()\n",
    "print(f\"Is the GPU available? {gpu_avail}\")"
   ]
  },
  {
   "cell_type": "code",
   "execution_count": null,
   "id": "5ca81537",
   "metadata": {
    "colab": {
     "base_uri": "https://localhost:8080/"
    },
    "execution": {
     "iopub.execute_input": "2023-05-03T17:05:39.217428Z",
     "iopub.status.busy": "2023-05-03T17:05:39.217062Z",
     "iopub.status.idle": "2023-05-03T17:05:39.223045Z",
     "shell.execute_reply": "2023-05-03T17:05:39.222058Z"
    },
    "id": "5ca81537",
    "outputId": "3186ac6e-1ba6-43c4-d224-f14355942f13",
    "papermill": {
     "duration": 0.024482,
     "end_time": "2023-05-03T17:05:39.225481",
     "exception": false,
     "start_time": "2023-05-03T17:05:39.200999",
     "status": "completed"
    },
    "tags": []
   },
   "outputs": [
    {
     "name": "stdout",
     "output_type": "stream",
     "text": [
      "Device cpu\n"
     ]
    }
   ],
   "source": [
    "device = torch.device(\"cuda\") if torch.cuda.is_available() else torch.device(\"cpu\")\n",
    "print(\"Device\", device)"
   ]
  },
  {
   "cell_type": "code",
   "execution_count": null,
   "id": "49b3275f",
   "metadata": {
    "colab": {
     "base_uri": "https://localhost:8080/"
    },
    "execution": {
     "iopub.execute_input": "2023-05-03T17:05:39.292071Z",
     "iopub.status.busy": "2023-05-03T17:05:39.291756Z",
     "iopub.status.idle": "2023-05-03T17:05:40.422151Z",
     "shell.execute_reply": "2023-05-03T17:05:40.420894Z"
    },
    "id": "49b3275f",
    "outputId": "b99bf0b3-4e94-462d-af49-6941090d36aa",
    "papermill": {
     "duration": 1.148884,
     "end_time": "2023-05-03T17:05:40.424769",
     "exception": false,
     "start_time": "2023-05-03T17:05:39.275885",
     "status": "completed"
    },
    "tags": []
   },
   "outputs": [
    {
     "name": "stdout",
     "output_type": "stream",
     "text": [
      "X tensor([[0., 0., 0.],\n",
      "        [0., 0., 0.]])\n"
     ]
    }
   ],
   "source": [
    "x = torch.zeros(2, 3)\n",
    "x = x.to(device)\n",
    "print(\"X\", x)"
   ]
  },
  {
   "cell_type": "code",
   "execution_count": null,
   "id": "858b43fc",
   "metadata": {
    "colab": {
     "base_uri": "https://localhost:8080/"
    },
    "execution": {
     "iopub.execute_input": "2023-05-03T17:05:40.492999Z",
     "iopub.status.busy": "2023-05-03T17:05:40.492523Z",
     "iopub.status.idle": "2023-05-03T17:05:42.249581Z",
     "shell.execute_reply": "2023-05-03T17:05:42.248252Z"
    },
    "id": "858b43fc",
    "outputId": "e6f04172-a0a6-45d9-bce4-9c5d76d02ac0",
    "papermill": {
     "duration": 1.777167,
     "end_time": "2023-05-03T17:05:42.252196",
     "exception": false,
     "start_time": "2023-05-03T17:05:40.475029",
     "status": "completed"
    },
    "tags": []
   },
   "outputs": [
    {
     "name": "stdout",
     "output_type": "stream",
     "text": [
      "CPU time: 4.03986s\n"
     ]
    }
   ],
   "source": [
    "x = torch.randn(5000, 5000)\n",
    "\n",
    "# CPU версия\n",
    "start_time = time.time()\n",
    "_ = torch.matmul(x, x)\n",
    "end_time = time.time()\n",
    "print(f\"CPU time: {(end_time - start_time):6.5f}s\")\n",
    "\n",
    "# GPU версия\n",
    "if torch.cuda.is_available():\n",
    "    x = x.to(device)\n",
    "    start = torch.cuda.Event(enable_timing=True)\n",
    "    end = torch.cuda.Event(enable_timing=True)\n",
    "    start.record()\n",
    "    _ = torch.matmul(x, x)\n",
    "    end.record()\n",
    "    torch.cuda.synchronize()  \n",
    "    print(f\"GPU time: {0.001 * start.elapsed_time(end):6.5f}s\")   "
   ]
  },
  {
   "cell_type": "code",
   "execution_count": null,
   "id": "c917d79b",
   "metadata": {
    "execution": {
     "iopub.execute_input": "2023-05-03T17:05:42.319889Z",
     "iopub.status.busy": "2023-05-03T17:05:42.319471Z",
     "iopub.status.idle": "2023-05-03T17:05:42.327421Z",
     "shell.execute_reply": "2023-05-03T17:05:42.326220Z"
    },
    "id": "c917d79b",
    "papermill": {
     "duration": 0.026338,
     "end_time": "2023-05-03T17:05:42.329097",
     "exception": false,
     "start_time": "2023-05-03T17:05:42.302759",
     "status": "completed"
    },
    "tags": []
   },
   "outputs": [],
   "source": [
    "\n",
    "if torch.cuda.is_available():\n",
    "    torch.cuda.manual_seed(42)\n",
    "    torch.cuda.manual_seed_all(42)\n",
    "\n",
    "torch.backends.cudnn.deterministic = True\n",
    "torch.backends.cudnn.benchmark = False"
   ]
  },
  {
   "cell_type": "markdown",
   "id": "a0b6aec3",
   "metadata": {
    "id": "a0b6aec3",
    "papermill": {
     "duration": 0.015215,
     "end_time": "2023-05-03T17:05:42.363973",
     "exception": false,
     "start_time": "2023-05-03T17:05:42.348758",
     "status": "completed"
    },
    "tags": []
   },
   "source": [
    "## Непрерывный XOR\n",
    "<div class=\"center-wrapper\"><div class=\"video-wrapper\"><iframe src=\"https://www.youtube.com/embed/schbjeU5X2g\" title=\"YouTube video player\" frameborder=\"0\" allow=\"accelerometer; autoplay; clipboard-write; encrypted-media; gyroscope; picture-in-picture\" allowfullscreen></iframe></div></div>\n",
    "\n",
    "\n",
    "\n",
    "<center style=\"width: 100%\"><img src=\"https://github.com/Lightning-AI/lightning-tutorials/raw/main/course_UvA-DL/01-introduction-to-pytorch/continuous_xor.svg\" width=\"350px\"></center>"
   ]
  },
  {
   "cell_type": "markdown",
   "id": "f4a71b40",
   "metadata": {
    "id": "f4a71b40",
    "lines_to_next_cell": 2,
    "papermill": {
     "duration": 0.015247,
     "end_time": "2023-05-03T17:05:42.516778",
     "exception": false,
     "start_time": "2023-05-03T17:05:42.501531",
     "status": "completed"
    },
    "tags": []
   },
   "source": [
    "#### nn.Module\n"
   ]
  },
  {
   "cell_type": "code",
   "execution_count": null,
   "id": "3c06d0e7",
   "metadata": {
    "execution": {
     "iopub.execute_input": "2023-05-03T17:05:42.549086Z",
     "iopub.status.busy": "2023-05-03T17:05:42.548711Z",
     "iopub.status.idle": "2023-05-03T17:05:42.555207Z",
     "shell.execute_reply": "2023-05-03T17:05:42.554027Z"
    },
    "id": "3c06d0e7",
    "lines_to_next_cell": 2,
    "papermill": {
     "duration": 0.0255,
     "end_time": "2023-05-03T17:05:42.557678",
     "exception": false,
     "start_time": "2023-05-03T17:05:42.532178",
     "status": "completed"
    },
    "tags": []
   },
   "outputs": [],
   "source": [
    "class MyModule(nn.Module):\n",
    "    def __init__(self):\n",
    "        super().__init__()\n",
    "        \n",
    "\n",
    "    def forward(self, x):\n",
    "        \n",
    "        pass"
   ]
  },
  {
   "cell_type": "markdown",
   "id": "21447f82",
   "metadata": {
    "id": "21447f82",
    "lines_to_next_cell": 2,
    "papermill": {
     "duration": 0.015278,
     "end_time": "2023-05-03T17:05:42.591961",
     "exception": false,
     "start_time": "2023-05-03T17:05:42.576683",
     "status": "completed"
    },
    "tags": []
   },
   "source": [
    "\n",
    "\n",
    "#### Простой классификатор\n",
    "\n",
    "\n",
    "<center width=\"100%\"><img src=\"https://github.com/Lightning-AI/lightning-tutorials/raw/main/course_UvA-DL/01-introduction-to-pytorch/small_neural_network.svg\" width=\"300px\"></center>\n"
   ]
  },
  {
   "cell_type": "code",
   "execution_count": null,
   "id": "0736be46",
   "metadata": {
    "execution": {
     "iopub.execute_input": "2023-05-03T17:05:42.624513Z",
     "iopub.status.busy": "2023-05-03T17:05:42.623789Z",
     "iopub.status.idle": "2023-05-03T17:05:42.631984Z",
     "shell.execute_reply": "2023-05-03T17:05:42.630802Z"
    },
    "id": "0736be46",
    "papermill": {
     "duration": 0.026246,
     "end_time": "2023-05-03T17:05:42.633499",
     "exception": false,
     "start_time": "2023-05-03T17:05:42.607253",
     "status": "completed"
    },
    "tags": []
   },
   "outputs": [],
   "source": [
    "class SimpleClassifier(nn.Module):\n",
    "    def __init__(self, num_inputs, num_hidden, num_outputs):\n",
    "        super().__init__()\n",
    "        \n",
    "        self.linear1 = nn.Linear(num_inputs, num_hidden)\n",
    "        self.act_fn = nn.Tanh()\n",
    "        self.linear2 = nn.Linear(num_hidden, num_outputs)\n",
    "\n",
    "    def forward(self, x):\n",
    "        \n",
    "        x = self.linear1(x)\n",
    "        x = self.act_fn(x)\n",
    "        x = self.linear2(x)\n",
    "        return x"
   ]
  },
  {
   "cell_type": "code",
   "execution_count": null,
   "id": "d6bb65d4",
   "metadata": {
    "colab": {
     "base_uri": "https://localhost:8080/"
    },
    "execution": {
     "iopub.execute_input": "2023-05-03T17:05:42.701667Z",
     "iopub.status.busy": "2023-05-03T17:05:42.701296Z",
     "iopub.status.idle": "2023-05-03T17:05:42.709285Z",
     "shell.execute_reply": "2023-05-03T17:05:42.708081Z"
    },
    "id": "d6bb65d4",
    "outputId": "00d25347-71da-4477-f2ea-0e7428742387",
    "papermill": {
     "duration": 0.025964,
     "end_time": "2023-05-03T17:05:42.710947",
     "exception": false,
     "start_time": "2023-05-03T17:05:42.684983",
     "status": "completed"
    },
    "tags": []
   },
   "outputs": [
    {
     "name": "stdout",
     "output_type": "stream",
     "text": [
      "SimpleClassifier(\n",
      "  (linear1): Linear(in_features=2, out_features=4, bias=True)\n",
      "  (act_fn): Tanh()\n",
      "  (linear2): Linear(in_features=4, out_features=1, bias=True)\n",
      ")\n"
     ]
    }
   ],
   "source": [
    "model = SimpleClassifier(num_inputs=2, num_hidden=4, num_outputs=1)\n",
    "\n",
    "print(model)"
   ]
  },
  {
   "cell_type": "code",
   "execution_count": null,
   "id": "713179ea",
   "metadata": {
    "colab": {
     "base_uri": "https://localhost:8080/"
    },
    "execution": {
     "iopub.execute_input": "2023-05-03T17:05:42.776720Z",
     "iopub.status.busy": "2023-05-03T17:05:42.776352Z",
     "iopub.status.idle": "2023-05-03T17:05:42.781928Z",
     "shell.execute_reply": "2023-05-03T17:05:42.780975Z"
    },
    "id": "713179ea",
    "outputId": "96327bd1-fbc8-4f19-877d-d9442812418d",
    "papermill": {
     "duration": 0.023549,
     "end_time": "2023-05-03T17:05:42.783231",
     "exception": false,
     "start_time": "2023-05-03T17:05:42.759682",
     "status": "completed"
    },
    "tags": []
   },
   "outputs": [
    {
     "name": "stdout",
     "output_type": "stream",
     "text": [
      "Parameter linear1.weight, shape torch.Size([4, 2])\n",
      "Parameter linear1.bias, shape torch.Size([4])\n",
      "Parameter linear2.weight, shape torch.Size([1, 4])\n",
      "Parameter linear2.bias, shape torch.Size([1])\n"
     ]
    }
   ],
   "source": [
    "for name, param in model.named_parameters():\n",
    "    print(f\"Parameter {name}, shape {param.shape}\")"
   ]
  },
  {
   "cell_type": "code",
   "execution_count": null,
   "id": "a18b8e0d",
   "metadata": {
    "execution": {
     "iopub.execute_input": "2023-05-03T17:05:42.972978Z",
     "iopub.status.busy": "2023-05-03T17:05:42.972459Z",
     "iopub.status.idle": "2023-05-03T17:05:42.984691Z",
     "shell.execute_reply": "2023-05-03T17:05:42.983856Z"
    },
    "id": "a18b8e0d",
    "papermill": {
     "duration": 0.031212,
     "end_time": "2023-05-03T17:05:42.986975",
     "exception": false,
     "start_time": "2023-05-03T17:05:42.955763",
     "status": "completed"
    },
    "tags": []
   },
   "outputs": [],
   "source": [
    "\n",
    "\n",
    "class XORDataset(data.Dataset):\n",
    "    def __init__(self, size, std=0.1):\n",
    "        \"\"\"XORDataset.\n",
    "\n",
    "        Args:\n",
    "            size: Number of data points we want to generate\n",
    "            std: Standard deviation of the noise (see generate_continuous_xor function)\n",
    "        \"\"\"\n",
    "        super().__init__()\n",
    "        self.size = size\n",
    "        self.std = std\n",
    "        self.generate_continuous_xor()\n",
    "\n",
    "    def generate_continuous_xor(self):\n",
    "        \n",
    "        data = torch.randint(low=0, high=2, size=(self.size, 2), dtype=torch.float32)\n",
    "        label = (data.sum(dim=1) == 1).to(torch.long)\n",
    "        \n",
    "        data += self.std * torch.randn(data.shape)\n",
    "\n",
    "        self.data = data\n",
    "        self.label = label\n",
    "\n",
    "    def __len__(self):\n",
    "        \n",
    "        return self.size\n",
    "\n",
    "    def __getitem__(self, idx):\n",
    "        \n",
    "        data_point = self.data[idx]\n",
    "        data_label = self.label[idx]\n",
    "        return data_point, data_label"
   ]
  },
  {
   "cell_type": "code",
   "execution_count": null,
   "id": "8072c5e5",
   "metadata": {
    "colab": {
     "base_uri": "https://localhost:8080/"
    },
    "execution": {
     "iopub.execute_input": "2023-05-03T17:05:43.056508Z",
     "iopub.status.busy": "2023-05-03T17:05:43.056134Z",
     "iopub.status.idle": "2023-05-03T17:05:43.064499Z",
     "shell.execute_reply": "2023-05-03T17:05:43.063382Z"
    },
    "id": "8072c5e5",
    "outputId": "f39900dc-b642-4048-bfce-f2a9546540e5",
    "papermill": {
     "duration": 0.027441,
     "end_time": "2023-05-03T17:05:43.066872",
     "exception": false,
     "start_time": "2023-05-03T17:05:43.039431",
     "status": "completed"
    },
    "tags": []
   },
   "outputs": [
    {
     "name": "stdout",
     "output_type": "stream",
     "text": [
      "Size of dataset: 200\n",
      "Data point 0: (tensor([1.0799, 1.0889]), tensor(0))\n"
     ]
    }
   ],
   "source": [
    "dataset = XORDataset(size=200)\n",
    "print(\"Size of dataset:\", len(dataset))\n",
    "print(\"Data point 0:\", dataset[0])"
   ]
  },
  {
   "cell_type": "code",
   "execution_count": null,
   "id": "7e0b0ac4",
   "metadata": {
    "execution": {
     "iopub.execute_input": "2023-05-03T17:05:43.135535Z",
     "iopub.status.busy": "2023-05-03T17:05:43.135282Z",
     "iopub.status.idle": "2023-05-03T17:05:43.142344Z",
     "shell.execute_reply": "2023-05-03T17:05:43.141435Z"
    },
    "id": "7e0b0ac4",
    "papermill": {
     "duration": 0.025336,
     "end_time": "2023-05-03T17:05:43.143997",
     "exception": false,
     "start_time": "2023-05-03T17:05:43.118661",
     "status": "completed"
    },
    "tags": []
   },
   "outputs": [],
   "source": [
    "def visualize_samples(data, label):\n",
    "    if isinstance(data, Tensor):\n",
    "        data = data.cpu().numpy()\n",
    "    if isinstance(label, Tensor):\n",
    "        label = label.cpu().numpy()\n",
    "    data_0 = data[label == 0]\n",
    "    data_1 = data[label == 1]\n",
    "\n",
    "    plt.figure(figsize=(4, 4))\n",
    "    plt.scatter(data_0[:, 0], data_0[:, 1], edgecolor=\"#333\", label=\"Class 0\")\n",
    "    plt.scatter(data_1[:, 0], data_1[:, 1], edgecolor=\"#333\", label=\"Class 1\")\n",
    "    plt.title(\"Dataset samples\")\n",
    "    plt.ylabel(r\"$x_2$\")\n",
    "    plt.xlabel(r\"$x_1$\")\n",
    "    plt.legend()"
   ]
  },
  {
   "cell_type": "code",
   "execution_count": null,
   "id": "0301bc26",
   "metadata": {
    "colab": {
     "base_uri": "https://localhost:8080/",
     "height": 397
    },
    "execution": {
     "iopub.execute_input": "2023-05-03T17:05:43.180534Z",
     "iopub.status.busy": "2023-05-03T17:05:43.180268Z",
     "iopub.status.idle": "2023-05-03T17:05:43.673179Z",
     "shell.execute_reply": "2023-05-03T17:05:43.672180Z"
    },
    "id": "0301bc26",
    "outputId": "65a4130a-e50c-4391-9328-3e98f00c60df",
    "papermill": {
     "duration": 0.510752,
     "end_time": "2023-05-03T17:05:43.674611",
     "exception": false,
     "start_time": "2023-05-03T17:05:43.163859",
     "status": "completed"
    },
    "tags": []
   },
   "outputs": [
    {
     "data": {
      "application/pdf": "[encoded data removed]",
      "image/svg+xml": [
       "<?xml version=\"1.0\" encoding=\"utf-8\" standalone=\"no\"?>\n",
       "<!DOCTYPE svg PUBLIC \"-//W3C//DTD SVG 1.1//EN\"\n",
       "  \"http://www.w3.org/Graphics/SVG/1.1/DTD/svg11.dtd\">\n",
       "<svg xmlns:xlink=\"http://www.w3.org/1999/xlink\" width=\"285.782616pt\" height=\"281.634375pt\" viewBox=\"0 0 285.782616 281.634375\" xmlns=\"http://www.w3.org/2000/svg\" version=\"1.1\">\n",
       " <metadata>\n",
       "  <rdf:RDF xmlns:dc=\"http://purl.org/dc/elements/1.1/\" xmlns:cc=\"http://creativecommons.org/ns#\" xmlns:rdf=\"http://www.w3.org/1999/02/22-rdf-syntax-ns#\">\n",
       "   <cc:Work>\n",
       "    <dc:type rdf:resource=\"http://purl.org/dc/dcmitype/StillImage\"/>\n",
       "    <dc:date>2023-05-24T15:43:08.794562</dc:date>\n",
       "    <dc:format>image/svg+xml</dc:format>\n",
       "    <dc:creator>\n",
       "     <cc:Agent>\n",
       "      <dc:title>Matplotlib v3.7.1, https://matplotlib.org/</dc:title>\n",
       "     </cc:Agent>\n",
       "    </dc:creator>\n",
       "   </cc:Work>\n",
       "  </rdf:RDF>\n",
       " </metadata>\n",
       " <defs>\n",
       "  <style type=\"text/css\">*{stroke-linejoin: round; stroke-linecap: butt}</style>\n",
       " </defs>\n",
       " <g id=\"figure_1\">\n",
       "  <g id=\"patch_1\">\n",
       "   <path d=\"M 0 281.634375 \n",
       "L 285.782616 281.634375 \n",
       "L 285.782616 0 \n",
       "L 0 0 \n",
       "z\n",
       "\" style=\"fill: #ffffff\"/>\n",
       "  </g>\n",
       "  <g id=\"axes_1\">\n",
       "   <g id=\"patch_2\">\n",
       "    <path d=\"M 52.160938 244.078125 \n",
       "L 275.360937 244.078125 \n",
       "L 275.360937 22.318125 \n",
       "L 52.160938 22.318125 \n",
       "z\n",
       "\" style=\"fill: #ffffff\"/>\n",
       "   </g>\n",
       "   <g id=\"PathCollection_1\">\n",
       "    <defs>\n",
       "     <path id=\"m8b2f42da7b\" d=\"M 0 3 \n",
       "C 0.795609 3 1.55874 2.683901 2.12132 2.12132 \n",
       "C 2.683901 1.55874 3 0.795609 3 0 \n",
       "C 3 -0.795609 2.683901 -1.55874 2.12132 -2.12132 \n",
       "C 1.55874 -2.683901 0.795609 -3 0 -3 \n",
       "C -0.795609 -3 -1.55874 -2.683901 -2.12132 -2.12132 \n",
       "C -2.683901 -1.55874 -3 -0.795609 -3 0 \n",
       "C -3 0.795609 -2.683901 1.55874 -2.12132 2.12132 \n",
       "C -1.55874 2.683901 -0.795609 3 0 3 \n",
       "z\n",
       "\" style=\"stroke: #333333\"/>\n",
       "    </defs>\n",
       "    <g clip-path=\"url(#pefc6822a9a)\">\n",
       "     <use xlink:href=\"#m8b2f42da7b\" x=\"243.920059\" y=\"57.997972\" style=\"fill: #1f77b4; stroke: #333333\"/>\n",
       "     <use xlink:href=\"#m8b2f42da7b\" x=\"234.571366\" y=\"78.740374\" style=\"fill: #1f77b4; stroke: #333333\"/>\n",
       "     <use xlink:href=\"#m8b2f42da7b\" x=\"236.756127\" y=\"66.659859\" style=\"fill: #1f77b4; stroke: #333333\"/>\n",
       "     <use xlink:href=\"#m8b2f42da7b\" x=\"241.091725\" y=\"60.994277\" style=\"fill: #1f77b4; stroke: #333333\"/>\n",
       "     <use xlink:href=\"#m8b2f42da7b\" x=\"107.188637\" y=\"219.476939\" style=\"fill: #1f77b4; stroke: #333333\"/>\n",
       "     <use xlink:href=\"#m8b2f42da7b\" x=\"236.154511\" y=\"86.362534\" style=\"fill: #1f77b4; stroke: #333333\"/>\n",
       "     <use xlink:href=\"#m8b2f42da7b\" x=\"228.903979\" y=\"78.437263\" style=\"fill: #1f77b4; stroke: #333333\"/>\n",
       "     <use xlink:href=\"#m8b2f42da7b\" x=\"244.593845\" y=\"54.885178\" style=\"fill: #1f77b4; stroke: #333333\"/>\n",
       "     <use xlink:href=\"#m8b2f42da7b\" x=\"80.025356\" y=\"199.040632\" style=\"fill: #1f77b4; stroke: #333333\"/>\n",
       "     <use xlink:href=\"#m8b2f42da7b\" x=\"65.349313\" y=\"204.956763\" style=\"fill: #1f77b4; stroke: #333333\"/>\n",
       "     <use xlink:href=\"#m8b2f42da7b\" x=\"230.304135\" y=\"57.793978\" style=\"fill: #1f77b4; stroke: #333333\"/>\n",
       "     <use xlink:href=\"#m8b2f42da7b\" x=\"92.943812\" y=\"201.420075\" style=\"fill: #1f77b4; stroke: #333333\"/>\n",
       "     <use xlink:href=\"#m8b2f42da7b\" x=\"101.469228\" y=\"207.326597\" style=\"fill: #1f77b4; stroke: #333333\"/>\n",
       "     <use xlink:href=\"#m8b2f42da7b\" x=\"239.48343\" y=\"89.863903\" style=\"fill: #1f77b4; stroke: #333333\"/>\n",
       "     <use xlink:href=\"#m8b2f42da7b\" x=\"102.218733\" y=\"180.869479\" style=\"fill: #1f77b4; stroke: #333333\"/>\n",
       "     <use xlink:href=\"#m8b2f42da7b\" x=\"72.971654\" y=\"189.319347\" style=\"fill: #1f77b4; stroke: #333333\"/>\n",
       "     <use xlink:href=\"#m8b2f42da7b\" x=\"91.838689\" y=\"198.176307\" style=\"fill: #1f77b4; stroke: #333333\"/>\n",
       "     <use xlink:href=\"#m8b2f42da7b\" x=\"230.361173\" y=\"60.941517\" style=\"fill: #1f77b4; stroke: #333333\"/>\n",
       "     <use xlink:href=\"#m8b2f42da7b\" x=\"82.945836\" y=\"187.560426\" style=\"fill: #1f77b4; stroke: #333333\"/>\n",
       "     <use xlink:href=\"#m8b2f42da7b\" x=\"230.804572\" y=\"41.907609\" style=\"fill: #1f77b4; stroke: #333333\"/>\n",
       "     <use xlink:href=\"#m8b2f42da7b\" x=\"243.134391\" y=\"74.252092\" style=\"fill: #1f77b4; stroke: #333333\"/>\n",
       "     <use xlink:href=\"#m8b2f42da7b\" x=\"92.472734\" y=\"218.664188\" style=\"fill: #1f77b4; stroke: #333333\"/>\n",
       "     <use xlink:href=\"#m8b2f42da7b\" x=\"228.901241\" y=\"79.798603\" style=\"fill: #1f77b4; stroke: #333333\"/>\n",
       "     <use xlink:href=\"#m8b2f42da7b\" x=\"93.378349\" y=\"194.095728\" style=\"fill: #1f77b4; stroke: #333333\"/>\n",
       "     <use xlink:href=\"#m8b2f42da7b\" x=\"223.845522\" y=\"71.730604\" style=\"fill: #1f77b4; stroke: #333333\"/>\n",
       "     <use xlink:href=\"#m8b2f42da7b\" x=\"228.654131\" y=\"64.313184\" style=\"fill: #1f77b4; stroke: #333333\"/>\n",
       "     <use xlink:href=\"#m8b2f42da7b\" x=\"96.818851\" y=\"210.472755\" style=\"fill: #1f77b4; stroke: #333333\"/>\n",
       "     <use xlink:href=\"#m8b2f42da7b\" x=\"102.880088\" y=\"207.976345\" style=\"fill: #1f77b4; stroke: #333333\"/>\n",
       "     <use xlink:href=\"#m8b2f42da7b\" x=\"238.513264\" y=\"66.305275\" style=\"fill: #1f77b4; stroke: #333333\"/>\n",
       "     <use xlink:href=\"#m8b2f42da7b\" x=\"76.182116\" y=\"201.787512\" style=\"fill: #1f77b4; stroke: #333333\"/>\n",
       "     <use xlink:href=\"#m8b2f42da7b\" x=\"229.067688\" y=\"57.951568\" style=\"fill: #1f77b4; stroke: #333333\"/>\n",
       "     <use xlink:href=\"#m8b2f42da7b\" x=\"104.441079\" y=\"208.445265\" style=\"fill: #1f77b4; stroke: #333333\"/>\n",
       "     <use xlink:href=\"#m8b2f42da7b\" x=\"223.390364\" y=\"86.194532\" style=\"fill: #1f77b4; stroke: #333333\"/>\n",
       "     <use xlink:href=\"#m8b2f42da7b\" x=\"105.161661\" y=\"185.405117\" style=\"fill: #1f77b4; stroke: #333333\"/>\n",
       "     <use xlink:href=\"#m8b2f42da7b\" x=\"253.081253\" y=\"68.783065\" style=\"fill: #1f77b4; stroke: #333333\"/>\n",
       "     <use xlink:href=\"#m8b2f42da7b\" x=\"222.070953\" y=\"80.969807\" style=\"fill: #1f77b4; stroke: #333333\"/>\n",
       "     <use xlink:href=\"#m8b2f42da7b\" x=\"227.209916\" y=\"62.461012\" style=\"fill: #1f77b4; stroke: #333333\"/>\n",
       "     <use xlink:href=\"#m8b2f42da7b\" x=\"97.280344\" y=\"200.234614\" style=\"fill: #1f77b4; stroke: #333333\"/>\n",
       "     <use xlink:href=\"#m8b2f42da7b\" x=\"65.456741\" y=\"206.384977\" style=\"fill: #1f77b4; stroke: #333333\"/>\n",
       "     <use xlink:href=\"#m8b2f42da7b\" x=\"241.927546\" y=\"54.269304\" style=\"fill: #1f77b4; stroke: #333333\"/>\n",
       "     <use xlink:href=\"#m8b2f42da7b\" x=\"239.726029\" y=\"64.409837\" style=\"fill: #1f77b4; stroke: #333333\"/>\n",
       "     <use xlink:href=\"#m8b2f42da7b\" x=\"103.406254\" y=\"205.164219\" style=\"fill: #1f77b4; stroke: #333333\"/>\n",
       "     <use xlink:href=\"#m8b2f42da7b\" x=\"224.776527\" y=\"86.582385\" style=\"fill: #1f77b4; stroke: #333333\"/>\n",
       "     <use xlink:href=\"#m8b2f42da7b\" x=\"227.058114\" y=\"68.56319\" style=\"fill: #1f77b4; stroke: #333333\"/>\n",
       "     <use xlink:href=\"#m8b2f42da7b\" x=\"212.167794\" y=\"63.866669\" style=\"fill: #1f77b4; stroke: #333333\"/>\n",
       "     <use xlink:href=\"#m8b2f42da7b\" x=\"79.171373\" y=\"198.317968\" style=\"fill: #1f77b4; stroke: #333333\"/>\n",
       "     <use xlink:href=\"#m8b2f42da7b\" x=\"74.300226\" y=\"217.633301\" style=\"fill: #1f77b4; stroke: #333333\"/>\n",
       "     <use xlink:href=\"#m8b2f42da7b\" x=\"87.463563\" y=\"196.973192\" style=\"fill: #1f77b4; stroke: #333333\"/>\n",
       "     <use xlink:href=\"#m8b2f42da7b\" x=\"236.583718\" y=\"61.078925\" style=\"fill: #1f77b4; stroke: #333333\"/>\n",
       "     <use xlink:href=\"#m8b2f42da7b\" x=\"80.638598\" y=\"197.334117\" style=\"fill: #1f77b4; stroke: #333333\"/>\n",
       "     <use xlink:href=\"#m8b2f42da7b\" x=\"239.541581\" y=\"72.436524\" style=\"fill: #1f77b4; stroke: #333333\"/>\n",
       "     <use xlink:href=\"#m8b2f42da7b\" x=\"105.634797\" y=\"189.051602\" style=\"fill: #1f77b4; stroke: #333333\"/>\n",
       "     <use xlink:href=\"#m8b2f42da7b\" x=\"226.19692\" y=\"65.784187\" style=\"fill: #1f77b4; stroke: #333333\"/>\n",
       "     <use xlink:href=\"#m8b2f42da7b\" x=\"241.851682\" y=\"51.896594\" style=\"fill: #1f77b4; stroke: #333333\"/>\n",
       "     <use xlink:href=\"#m8b2f42da7b\" x=\"243.596121\" y=\"78.091223\" style=\"fill: #1f77b4; stroke: #333333\"/>\n",
       "     <use xlink:href=\"#m8b2f42da7b\" x=\"244.541053\" y=\"66.446449\" style=\"fill: #1f77b4; stroke: #333333\"/>\n",
       "     <use xlink:href=\"#m8b2f42da7b\" x=\"87.432689\" y=\"204.443908\" style=\"fill: #1f77b4; stroke: #333333\"/>\n",
       "     <use xlink:href=\"#m8b2f42da7b\" x=\"92.677888\" y=\"201.531468\" style=\"fill: #1f77b4; stroke: #333333\"/>\n",
       "     <use xlink:href=\"#m8b2f42da7b\" x=\"232.272075\" y=\"58.38242\" style=\"fill: #1f77b4; stroke: #333333\"/>\n",
       "     <use xlink:href=\"#m8b2f42da7b\" x=\"237.620182\" y=\"80.855514\" style=\"fill: #1f77b4; stroke: #333333\"/>\n",
       "     <use xlink:href=\"#m8b2f42da7b\" x=\"106.205623\" y=\"185.758602\" style=\"fill: #1f77b4; stroke: #333333\"/>\n",
       "     <use xlink:href=\"#m8b2f42da7b\" x=\"65.039898\" y=\"175.597677\" style=\"fill: #1f77b4; stroke: #333333\"/>\n",
       "     <use xlink:href=\"#m8b2f42da7b\" x=\"109.797637\" y=\"195.217301\" style=\"fill: #1f77b4; stroke: #333333\"/>\n",
       "     <use xlink:href=\"#m8b2f42da7b\" x=\"66.642444\" y=\"206.731508\" style=\"fill: #1f77b4; stroke: #333333\"/>\n",
       "     <use xlink:href=\"#m8b2f42da7b\" x=\"213.071431\" y=\"71.022447\" style=\"fill: #1f77b4; stroke: #333333\"/>\n",
       "     <use xlink:href=\"#m8b2f42da7b\" x=\"240.570228\" y=\"53.307101\" style=\"fill: #1f77b4; stroke: #333333\"/>\n",
       "     <use xlink:href=\"#m8b2f42da7b\" x=\"240.898537\" y=\"83.020535\" style=\"fill: #1f77b4; stroke: #333333\"/>\n",
       "     <use xlink:href=\"#m8b2f42da7b\" x=\"228.668479\" y=\"75.378625\" style=\"fill: #1f77b4; stroke: #333333\"/>\n",
       "     <use xlink:href=\"#m8b2f42da7b\" x=\"63.070396\" y=\"192.14008\" style=\"fill: #1f77b4; stroke: #333333\"/>\n",
       "     <use xlink:href=\"#m8b2f42da7b\" x=\"91.608213\" y=\"194.041296\" style=\"fill: #1f77b4; stroke: #333333\"/>\n",
       "     <use xlink:href=\"#m8b2f42da7b\" x=\"240.390925\" y=\"67.049925\" style=\"fill: #1f77b4; stroke: #333333\"/>\n",
       "     <use xlink:href=\"#m8b2f42da7b\" x=\"217.773229\" y=\"45.941303\" style=\"fill: #1f77b4; stroke: #333333\"/>\n",
       "     <use xlink:href=\"#m8b2f42da7b\" x=\"94.829544\" y=\"195.630071\" style=\"fill: #1f77b4; stroke: #333333\"/>\n",
       "     <use xlink:href=\"#m8b2f42da7b\" x=\"218.110221\" y=\"82.167445\" style=\"fill: #1f77b4; stroke: #333333\"/>\n",
       "     <use xlink:href=\"#m8b2f42da7b\" x=\"245.174631\" y=\"54.583385\" style=\"fill: #1f77b4; stroke: #333333\"/>\n",
       "     <use xlink:href=\"#m8b2f42da7b\" x=\"265.215483\" y=\"54.897309\" style=\"fill: #1f77b4; stroke: #333333\"/>\n",
       "     <use xlink:href=\"#m8b2f42da7b\" x=\"242.84408\" y=\"51.849813\" style=\"fill: #1f77b4; stroke: #333333\"/>\n",
       "     <use xlink:href=\"#m8b2f42da7b\" x=\"101.861421\" y=\"185.020179\" style=\"fill: #1f77b4; stroke: #333333\"/>\n",
       "     <use xlink:href=\"#m8b2f42da7b\" x=\"221.155368\" y=\"61.388392\" style=\"fill: #1f77b4; stroke: #333333\"/>\n",
       "     <use xlink:href=\"#m8b2f42da7b\" x=\"234.371761\" y=\"32.398125\" style=\"fill: #1f77b4; stroke: #333333\"/>\n",
       "     <use xlink:href=\"#m8b2f42da7b\" x=\"82.403211\" y=\"207.62881\" style=\"fill: #1f77b4; stroke: #333333\"/>\n",
       "     <use xlink:href=\"#m8b2f42da7b\" x=\"72.880704\" y=\"216.645652\" style=\"fill: #1f77b4; stroke: #333333\"/>\n",
       "     <use xlink:href=\"#m8b2f42da7b\" x=\"102.44211\" y=\"199.564198\" style=\"fill: #1f77b4; stroke: #333333\"/>\n",
       "     <use xlink:href=\"#m8b2f42da7b\" x=\"84.454067\" y=\"205.547767\" style=\"fill: #1f77b4; stroke: #333333\"/>\n",
       "     <use xlink:href=\"#m8b2f42da7b\" x=\"84.1581\" y=\"190.716914\" style=\"fill: #1f77b4; stroke: #333333\"/>\n",
       "     <use xlink:href=\"#m8b2f42da7b\" x=\"89.79492\" y=\"201.604855\" style=\"fill: #1f77b4; stroke: #333333\"/>\n",
       "     <use xlink:href=\"#m8b2f42da7b\" x=\"127.362467\" y=\"208.105693\" style=\"fill: #1f77b4; stroke: #333333\"/>\n",
       "     <use xlink:href=\"#m8b2f42da7b\" x=\"65.774395\" y=\"228.3644\" style=\"fill: #1f77b4; stroke: #333333\"/>\n",
       "     <use xlink:href=\"#m8b2f42da7b\" x=\"122.787117\" y=\"202.23542\" style=\"fill: #1f77b4; stroke: #333333\"/>\n",
       "     <use xlink:href=\"#m8b2f42da7b\" x=\"201.537416\" y=\"66.005223\" style=\"fill: #1f77b4; stroke: #333333\"/>\n",
       "     <use xlink:href=\"#m8b2f42da7b\" x=\"220.105941\" y=\"77.063697\" style=\"fill: #1f77b4; stroke: #333333\"/>\n",
       "     <use xlink:href=\"#m8b2f42da7b\" x=\"237.49603\" y=\"82.998933\" style=\"fill: #1f77b4; stroke: #333333\"/>\n",
       "     <use xlink:href=\"#m8b2f42da7b\" x=\"94.111825\" y=\"225.226926\" style=\"fill: #1f77b4; stroke: #333333\"/>\n",
       "     <use xlink:href=\"#m8b2f42da7b\" x=\"238.548409\" y=\"97.267428\" style=\"fill: #1f77b4; stroke: #333333\"/>\n",
       "     <use xlink:href=\"#m8b2f42da7b\" x=\"231.175126\" y=\"62.242408\" style=\"fill: #1f77b4; stroke: #333333\"/>\n",
       "     <use xlink:href=\"#m8b2f42da7b\" x=\"212.362723\" y=\"63.266222\" style=\"fill: #1f77b4; stroke: #333333\"/>\n",
       "    </g>\n",
       "   </g>\n",
       "   <g id=\"PathCollection_2\">\n",
       "    <defs>\n",
       "     <path id=\"m7739f6310e\" d=\"M 0 3 \n",
       "C 0.795609 3 1.55874 2.683901 2.12132 2.12132 \n",
       "C 2.683901 1.55874 3 0.795609 3 0 \n",
       "C 3 -0.795609 2.683901 -1.55874 2.12132 -2.12132 \n",
       "C 1.55874 -2.683901 0.795609 -3 0 -3 \n",
       "C -0.795609 -3 -1.55874 -2.683901 -2.12132 -2.12132 \n",
       "C -2.683901 -1.55874 -3 -0.795609 -3 0 \n",
       "C -3 0.795609 -2.683901 1.55874 -2.12132 2.12132 \n",
       "C -1.55874 2.683901 -0.795609 3 0 3 \n",
       "z\n",
       "\" style=\"stroke: #333333\"/>\n",
       "    </defs>\n",
       "    <g clip-path=\"url(#pefc6822a9a)\">\n",
       "     <use xlink:href=\"#m7739f6310e\" x=\"77.686575\" y=\"45.136783\" style=\"fill: #ff7f0e; stroke: #333333\"/>\n",
       "     <use xlink:href=\"#m7739f6310e\" x=\"62.306392\" y=\"89.585077\" style=\"fill: #ff7f0e; stroke: #333333\"/>\n",
       "     <use xlink:href=\"#m7739f6310e\" x=\"85.915965\" y=\"95.487475\" style=\"fill: #ff7f0e; stroke: #333333\"/>\n",
       "     <use xlink:href=\"#m7739f6310e\" x=\"258.556639\" y=\"233.998125\" style=\"fill: #ff7f0e; stroke: #333333\"/>\n",
       "     <use xlink:href=\"#m7739f6310e\" x=\"222.868776\" y=\"214.796642\" style=\"fill: #ff7f0e; stroke: #333333\"/>\n",
       "     <use xlink:href=\"#m7739f6310e\" x=\"76.511771\" y=\"73.920835\" style=\"fill: #ff7f0e; stroke: #333333\"/>\n",
       "     <use xlink:href=\"#m7739f6310e\" x=\"221.422549\" y=\"195.589699\" style=\"fill: #ff7f0e; stroke: #333333\"/>\n",
       "     <use xlink:href=\"#m7739f6310e\" x=\"118.931907\" y=\"61.16417\" style=\"fill: #ff7f0e; stroke: #333333\"/>\n",
       "     <use xlink:href=\"#m7739f6310e\" x=\"79.234389\" y=\"63.919037\" style=\"fill: #ff7f0e; stroke: #333333\"/>\n",
       "     <use xlink:href=\"#m7739f6310e\" x=\"114.079953\" y=\"54.181643\" style=\"fill: #ff7f0e; stroke: #333333\"/>\n",
       "     <use xlink:href=\"#m7739f6310e\" x=\"111.891837\" y=\"70.533625\" style=\"fill: #ff7f0e; stroke: #333333\"/>\n",
       "     <use xlink:href=\"#m7739f6310e\" x=\"240.354511\" y=\"184.120221\" style=\"fill: #ff7f0e; stroke: #333333\"/>\n",
       "     <use xlink:href=\"#m7739f6310e\" x=\"226.893861\" y=\"221.041306\" style=\"fill: #ff7f0e; stroke: #333333\"/>\n",
       "     <use xlink:href=\"#m7739f6310e\" x=\"256.931538\" y=\"205.64377\" style=\"fill: #ff7f0e; stroke: #333333\"/>\n",
       "     <use xlink:href=\"#m7739f6310e\" x=\"256.971317\" y=\"193.100336\" style=\"fill: #ff7f0e; stroke: #333333\"/>\n",
       "     <use xlink:href=\"#m7739f6310e\" x=\"240.604218\" y=\"198.863747\" style=\"fill: #ff7f0e; stroke: #333333\"/>\n",
       "     <use xlink:href=\"#m7739f6310e\" x=\"237.509454\" y=\"225.927142\" style=\"fill: #ff7f0e; stroke: #333333\"/>\n",
       "     <use xlink:href=\"#m7739f6310e\" x=\"228.725641\" y=\"203.803829\" style=\"fill: #ff7f0e; stroke: #333333\"/>\n",
       "     <use xlink:href=\"#m7739f6310e\" x=\"226.945539\" y=\"203.138634\" style=\"fill: #ff7f0e; stroke: #333333\"/>\n",
       "     <use xlink:href=\"#m7739f6310e\" x=\"118.516767\" y=\"68.572873\" style=\"fill: #ff7f0e; stroke: #333333\"/>\n",
       "     <use xlink:href=\"#m7739f6310e\" x=\"251.730598\" y=\"206.44735\" style=\"fill: #ff7f0e; stroke: #333333\"/>\n",
       "     <use xlink:href=\"#m7739f6310e\" x=\"228.007607\" y=\"207.190843\" style=\"fill: #ff7f0e; stroke: #333333\"/>\n",
       "     <use xlink:href=\"#m7739f6310e\" x=\"227.773823\" y=\"202.817797\" style=\"fill: #ff7f0e; stroke: #333333\"/>\n",
       "     <use xlink:href=\"#m7739f6310e\" x=\"255.463557\" y=\"207.096592\" style=\"fill: #ff7f0e; stroke: #333333\"/>\n",
       "     <use xlink:href=\"#m7739f6310e\" x=\"223.957627\" y=\"188.953896\" style=\"fill: #ff7f0e; stroke: #333333\"/>\n",
       "     <use xlink:href=\"#m7739f6310e\" x=\"245.341697\" y=\"208.049432\" style=\"fill: #ff7f0e; stroke: #333333\"/>\n",
       "     <use xlink:href=\"#m7739f6310e\" x=\"108.147925\" y=\"60.130845\" style=\"fill: #ff7f0e; stroke: #333333\"/>\n",
       "     <use xlink:href=\"#m7739f6310e\" x=\"100.602469\" y=\"82.541387\" style=\"fill: #ff7f0e; stroke: #333333\"/>\n",
       "     <use xlink:href=\"#m7739f6310e\" x=\"254.149778\" y=\"203.487931\" style=\"fill: #ff7f0e; stroke: #333333\"/>\n",
       "     <use xlink:href=\"#m7739f6310e\" x=\"86.632475\" y=\"58.446244\" style=\"fill: #ff7f0e; stroke: #333333\"/>\n",
       "     <use xlink:href=\"#m7739f6310e\" x=\"239.607945\" y=\"193.189807\" style=\"fill: #ff7f0e; stroke: #333333\"/>\n",
       "     <use xlink:href=\"#m7739f6310e\" x=\"105.564177\" y=\"65.171891\" style=\"fill: #ff7f0e; stroke: #333333\"/>\n",
       "     <use xlink:href=\"#m7739f6310e\" x=\"82.225476\" y=\"64.80742\" style=\"fill: #ff7f0e; stroke: #333333\"/>\n",
       "     <use xlink:href=\"#m7739f6310e\" x=\"95.025227\" y=\"34.256919\" style=\"fill: #ff7f0e; stroke: #333333\"/>\n",
       "     <use xlink:href=\"#m7739f6310e\" x=\"217.338538\" y=\"223.242894\" style=\"fill: #ff7f0e; stroke: #333333\"/>\n",
       "     <use xlink:href=\"#m7739f6310e\" x=\"235.404086\" y=\"202.596978\" style=\"fill: #ff7f0e; stroke: #333333\"/>\n",
       "     <use xlink:href=\"#m7739f6310e\" x=\"109.722856\" y=\"63.513858\" style=\"fill: #ff7f0e; stroke: #333333\"/>\n",
       "     <use xlink:href=\"#m7739f6310e\" x=\"108.697039\" y=\"68.267627\" style=\"fill: #ff7f0e; stroke: #333333\"/>\n",
       "     <use xlink:href=\"#m7739f6310e\" x=\"99.842706\" y=\"86.664044\" style=\"fill: #ff7f0e; stroke: #333333\"/>\n",
       "     <use xlink:href=\"#m7739f6310e\" x=\"251.211607\" y=\"231.696571\" style=\"fill: #ff7f0e; stroke: #333333\"/>\n",
       "     <use xlink:href=\"#m7739f6310e\" x=\"246.378309\" y=\"197.634321\" style=\"fill: #ff7f0e; stroke: #333333\"/>\n",
       "     <use xlink:href=\"#m7739f6310e\" x=\"114.854513\" y=\"53.010016\" style=\"fill: #ff7f0e; stroke: #333333\"/>\n",
       "     <use xlink:href=\"#m7739f6310e\" x=\"228.215037\" y=\"207.076507\" style=\"fill: #ff7f0e; stroke: #333333\"/>\n",
       "     <use xlink:href=\"#m7739f6310e\" x=\"78.009964\" y=\"52.848126\" style=\"fill: #ff7f0e; stroke: #333333\"/>\n",
       "     <use xlink:href=\"#m7739f6310e\" x=\"116.704351\" y=\"71.149114\" style=\"fill: #ff7f0e; stroke: #333333\"/>\n",
       "     <use xlink:href=\"#m7739f6310e\" x=\"242.523572\" y=\"208.040518\" style=\"fill: #ff7f0e; stroke: #333333\"/>\n",
       "     <use xlink:href=\"#m7739f6310e\" x=\"96.379958\" y=\"84.413732\" style=\"fill: #ff7f0e; stroke: #333333\"/>\n",
       "     <use xlink:href=\"#m7739f6310e\" x=\"69.297872\" y=\"92.246257\" style=\"fill: #ff7f0e; stroke: #333333\"/>\n",
       "     <use xlink:href=\"#m7739f6310e\" x=\"67.82215\" y=\"43.953841\" style=\"fill: #ff7f0e; stroke: #333333\"/>\n",
       "     <use xlink:href=\"#m7739f6310e\" x=\"227.564505\" y=\"202.63047\" style=\"fill: #ff7f0e; stroke: #333333\"/>\n",
       "     <use xlink:href=\"#m7739f6310e\" x=\"127.049871\" y=\"62.215682\" style=\"fill: #ff7f0e; stroke: #333333\"/>\n",
       "     <use xlink:href=\"#m7739f6310e\" x=\"226.320611\" y=\"198.232282\" style=\"fill: #ff7f0e; stroke: #333333\"/>\n",
       "     <use xlink:href=\"#m7739f6310e\" x=\"105.085132\" y=\"93.767125\" style=\"fill: #ff7f0e; stroke: #333333\"/>\n",
       "     <use xlink:href=\"#m7739f6310e\" x=\"240.444756\" y=\"215.772435\" style=\"fill: #ff7f0e; stroke: #333333\"/>\n",
       "     <use xlink:href=\"#m7739f6310e\" x=\"230.812917\" y=\"182.115901\" style=\"fill: #ff7f0e; stroke: #333333\"/>\n",
       "     <use xlink:href=\"#m7739f6310e\" x=\"96.562867\" y=\"49.969127\" style=\"fill: #ff7f0e; stroke: #333333\"/>\n",
       "     <use xlink:href=\"#m7739f6310e\" x=\"235.759129\" y=\"200.091056\" style=\"fill: #ff7f0e; stroke: #333333\"/>\n",
       "     <use xlink:href=\"#m7739f6310e\" x=\"82.278474\" y=\"74.149138\" style=\"fill: #ff7f0e; stroke: #333333\"/>\n",
       "     <use xlink:href=\"#m7739f6310e\" x=\"251.922665\" y=\"209.286494\" style=\"fill: #ff7f0e; stroke: #333333\"/>\n",
       "     <use xlink:href=\"#m7739f6310e\" x=\"94.929779\" y=\"51.729212\" style=\"fill: #ff7f0e; stroke: #333333\"/>\n",
       "     <use xlink:href=\"#m7739f6310e\" x=\"121.57671\" y=\"58.682974\" style=\"fill: #ff7f0e; stroke: #333333\"/>\n",
       "     <use xlink:href=\"#m7739f6310e\" x=\"94.925335\" y=\"53.131637\" style=\"fill: #ff7f0e; stroke: #333333\"/>\n",
       "     <use xlink:href=\"#m7739f6310e\" x=\"87.230284\" y=\"73.331718\" style=\"fill: #ff7f0e; stroke: #333333\"/>\n",
       "     <use xlink:href=\"#m7739f6310e\" x=\"231.995749\" y=\"220.454616\" style=\"fill: #ff7f0e; stroke: #333333\"/>\n",
       "     <use xlink:href=\"#m7739f6310e\" x=\"75.90592\" y=\"55.444478\" style=\"fill: #ff7f0e; stroke: #333333\"/>\n",
       "     <use xlink:href=\"#m7739f6310e\" x=\"222.667597\" y=\"205.497993\" style=\"fill: #ff7f0e; stroke: #333333\"/>\n",
       "     <use xlink:href=\"#m7739f6310e\" x=\"109.180128\" y=\"94.720023\" style=\"fill: #ff7f0e; stroke: #333333\"/>\n",
       "     <use xlink:href=\"#m7739f6310e\" x=\"75.615383\" y=\"55.786806\" style=\"fill: #ff7f0e; stroke: #333333\"/>\n",
       "     <use xlink:href=\"#m7739f6310e\" x=\"252.859203\" y=\"198.068435\" style=\"fill: #ff7f0e; stroke: #333333\"/>\n",
       "     <use xlink:href=\"#m7739f6310e\" x=\"90.196828\" y=\"47.4022\" style=\"fill: #ff7f0e; stroke: #333333\"/>\n",
       "     <use xlink:href=\"#m7739f6310e\" x=\"62.582971\" y=\"90.219249\" style=\"fill: #ff7f0e; stroke: #333333\"/>\n",
       "     <use xlink:href=\"#m7739f6310e\" x=\"91.083493\" y=\"71.198806\" style=\"fill: #ff7f0e; stroke: #333333\"/>\n",
       "     <use xlink:href=\"#m7739f6310e\" x=\"218.893357\" y=\"212.397756\" style=\"fill: #ff7f0e; stroke: #333333\"/>\n",
       "     <use xlink:href=\"#m7739f6310e\" x=\"256.03021\" y=\"199.204593\" style=\"fill: #ff7f0e; stroke: #333333\"/>\n",
       "     <use xlink:href=\"#m7739f6310e\" x=\"92.932841\" y=\"74.310345\" style=\"fill: #ff7f0e; stroke: #333333\"/>\n",
       "     <use xlink:href=\"#m7739f6310e\" x=\"232.037466\" y=\"197.557714\" style=\"fill: #ff7f0e; stroke: #333333\"/>\n",
       "     <use xlink:href=\"#m7739f6310e\" x=\"116.311665\" y=\"82.897501\" style=\"fill: #ff7f0e; stroke: #333333\"/>\n",
       "     <use xlink:href=\"#m7739f6310e\" x=\"102.256471\" y=\"89.042192\" style=\"fill: #ff7f0e; stroke: #333333\"/>\n",
       "     <use xlink:href=\"#m7739f6310e\" x=\"244.070681\" y=\"204.738592\" style=\"fill: #ff7f0e; stroke: #333333\"/>\n",
       "     <use xlink:href=\"#m7739f6310e\" x=\"256.45198\" y=\"197.198636\" style=\"fill: #ff7f0e; stroke: #333333\"/>\n",
       "     <use xlink:href=\"#m7739f6310e\" x=\"85.201411\" y=\"60.867838\" style=\"fill: #ff7f0e; stroke: #333333\"/>\n",
       "     <use xlink:href=\"#m7739f6310e\" x=\"80.285\" y=\"62.663891\" style=\"fill: #ff7f0e; stroke: #333333\"/>\n",
       "     <use xlink:href=\"#m7739f6310e\" x=\"247.064876\" y=\"198.985881\" style=\"fill: #ff7f0e; stroke: #333333\"/>\n",
       "     <use xlink:href=\"#m7739f6310e\" x=\"107.507\" y=\"76.823625\" style=\"fill: #ff7f0e; stroke: #333333\"/>\n",
       "     <use xlink:href=\"#m7739f6310e\" x=\"232.735083\" y=\"190.867017\" style=\"fill: #ff7f0e; stroke: #333333\"/>\n",
       "     <use xlink:href=\"#m7739f6310e\" x=\"244.00689\" y=\"188.997646\" style=\"fill: #ff7f0e; stroke: #333333\"/>\n",
       "     <use xlink:href=\"#m7739f6310e\" x=\"245.975736\" y=\"194.368568\" style=\"fill: #ff7f0e; stroke: #333333\"/>\n",
       "     <use xlink:href=\"#m7739f6310e\" x=\"77.772991\" y=\"89.914945\" style=\"fill: #ff7f0e; stroke: #333333\"/>\n",
       "     <use xlink:href=\"#m7739f6310e\" x=\"100.915011\" y=\"60.566877\" style=\"fill: #ff7f0e; stroke: #333333\"/>\n",
       "     <use xlink:href=\"#m7739f6310e\" x=\"77.975333\" y=\"64.676054\" style=\"fill: #ff7f0e; stroke: #333333\"/>\n",
       "     <use xlink:href=\"#m7739f6310e\" x=\"92.214331\" y=\"72.134206\" style=\"fill: #ff7f0e; stroke: #333333\"/>\n",
       "     <use xlink:href=\"#m7739f6310e\" x=\"247.779761\" y=\"213.924442\" style=\"fill: #ff7f0e; stroke: #333333\"/>\n",
       "     <use xlink:href=\"#m7739f6310e\" x=\"222.788196\" y=\"208.913461\" style=\"fill: #ff7f0e; stroke: #333333\"/>\n",
       "     <use xlink:href=\"#m7739f6310e\" x=\"225.496598\" y=\"232.974393\" style=\"fill: #ff7f0e; stroke: #333333\"/>\n",
       "     <use xlink:href=\"#m7739f6310e\" x=\"96.242264\" y=\"57.289274\" style=\"fill: #ff7f0e; stroke: #333333\"/>\n",
       "     <use xlink:href=\"#m7739f6310e\" x=\"229.514723\" y=\"211.903809\" style=\"fill: #ff7f0e; stroke: #333333\"/>\n",
       "     <use xlink:href=\"#m7739f6310e\" x=\"82.526282\" y=\"60.231218\" style=\"fill: #ff7f0e; stroke: #333333\"/>\n",
       "     <use xlink:href=\"#m7739f6310e\" x=\"230.154725\" y=\"219.894355\" style=\"fill: #ff7f0e; stroke: #333333\"/>\n",
       "     <use xlink:href=\"#m7739f6310e\" x=\"133.077914\" y=\"48.443794\" style=\"fill: #ff7f0e; stroke: #333333\"/>\n",
       "     <use xlink:href=\"#m7739f6310e\" x=\"238.839808\" y=\"197.25231\" style=\"fill: #ff7f0e; stroke: #333333\"/>\n",
       "     <use xlink:href=\"#m7739f6310e\" x=\"236.609891\" y=\"200.88764\" style=\"fill: #ff7f0e; stroke: #333333\"/>\n",
       "     <use xlink:href=\"#m7739f6310e\" x=\"87.10103\" y=\"78.831613\" style=\"fill: #ff7f0e; stroke: #333333\"/>\n",
       "     <use xlink:href=\"#m7739f6310e\" x=\"91.102256\" y=\"70.722789\" style=\"fill: #ff7f0e; stroke: #333333\"/>\n",
       "     <use xlink:href=\"#m7739f6310e\" x=\"116.755272\" y=\"92.588891\" style=\"fill: #ff7f0e; stroke: #333333\"/>\n",
       "    </g>\n",
       "   </g>\n",
       "   <g id=\"matplotlib.axis_1\">\n",
       "    <g id=\"xtick_1\">\n",
       "     <g id=\"line2d_1\">\n",
       "      <defs>\n",
       "       <path id=\"m0001458e96\" d=\"M 0 0 \n",
       "L 0 3.5 \n",
       "\" style=\"stroke: #000000; stroke-width: 0.8\"/>\n",
       "      </defs>\n",
       "      <g>\n",
       "       <use xlink:href=\"#m0001458e96\" x=\"59.930839\" y=\"244.078125\" style=\"stroke: #000000; stroke-width: 0.8\"/>\n",
       "      </g>\n",
       "     </g>\n",
       "     <g id=\"text_1\">\n",
       "      <!-- −0.25 -->\n",
       "      <g transform=\"translate(44.608183 258.676562) scale(0.1 -0.1)\">\n",
       "       <defs>\n",
       "        <path id=\"DejaVuSans-2212\" d=\"M 678 2272 \n",
       "L 4684 2272 \n",
       "L 4684 1741 \n",
       "L 678 1741 \n",
       "L 678 2272 \n",
       "z\n",
       "\" transform=\"scale(0.015625)\"/>\n",
       "        <path id=\"DejaVuSans-30\" d=\"M 2034 4250 \n",
       "Q 1547 4250 1301 3770 \n",
       "Q 1056 3291 1056 2328 \n",
       "Q 1056 1369 1301 889 \n",
       "Q 1547 409 2034 409 \n",
       "Q 2525 409 2770 889 \n",
       "Q 3016 1369 3016 2328 \n",
       "Q 3016 3291 2770 3770 \n",
       "Q 2525 4250 2034 4250 \n",
       "z\n",
       "M 2034 4750 \n",
       "Q 2819 4750 3233 4129 \n",
       "Q 3647 3509 3647 2328 \n",
       "Q 3647 1150 3233 529 \n",
       "Q 2819 -91 2034 -91 \n",
       "Q 1250 -91 836 529 \n",
       "Q 422 1150 422 2328 \n",
       "Q 422 3509 836 4129 \n",
       "Q 1250 4750 2034 4750 \n",
       "z\n",
       "\" transform=\"scale(0.015625)\"/>\n",
       "        <path id=\"DejaVuSans-2e\" d=\"M 684 794 \n",
       "L 1344 794 \n",
       "L 1344 0 \n",
       "L 684 0 \n",
       "L 684 794 \n",
       "z\n",
       "\" transform=\"scale(0.015625)\"/>\n",
       "        <path id=\"DejaVuSans-32\" d=\"M 1228 531 \n",
       "L 3431 531 \n",
       "L 3431 0 \n",
       "L 469 0 \n",
       "L 469 531 \n",
       "Q 828 903 1448 1529 \n",
       "Q 2069 2156 2228 2338 \n",
       "Q 2531 2678 2651 2914 \n",
       "Q 2772 3150 2772 3378 \n",
       "Q 2772 3750 2511 3984 \n",
       "Q 2250 4219 1831 4219 \n",
       "Q 1534 4219 1204 4116 \n",
       "Q 875 4013 500 3803 \n",
       "L 500 4441 \n",
       "Q 881 4594 1212 4672 \n",
       "Q 1544 4750 1819 4750 \n",
       "Q 2544 4750 2975 4387 \n",
       "Q 3406 4025 3406 3419 \n",
       "Q 3406 3131 3298 2873 \n",
       "Q 3191 2616 2906 2266 \n",
       "Q 2828 2175 2409 1742 \n",
       "Q 1991 1309 1228 531 \n",
       "z\n",
       "\" transform=\"scale(0.015625)\"/>\n",
       "        <path id=\"DejaVuSans-35\" d=\"M 691 4666 \n",
       "L 3169 4666 \n",
       "L 3169 4134 \n",
       "L 1269 4134 \n",
       "L 1269 2991 \n",
       "Q 1406 3038 1543 3061 \n",
       "Q 1681 3084 1819 3084 \n",
       "Q 2600 3084 3056 2656 \n",
       "Q 3513 2228 3513 1497 \n",
       "Q 3513 744 3044 326 \n",
       "Q 2575 -91 1722 -91 \n",
       "Q 1428 -91 1123 -41 \n",
       "Q 819 9 494 109 \n",
       "L 494 744 \n",
       "Q 775 591 1075 516 \n",
       "Q 1375 441 1709 441 \n",
       "Q 2250 441 2565 725 \n",
       "Q 2881 1009 2881 1497 \n",
       "Q 2881 1984 2565 2268 \n",
       "Q 2250 2553 1709 2553 \n",
       "Q 1456 2553 1204 2497 \n",
       "Q 953 2441 691 2322 \n",
       "L 691 4666 \n",
       "z\n",
       "\" transform=\"scale(0.015625)\"/>\n",
       "       </defs>\n",
       "       <use xlink:href=\"#DejaVuSans-2212\"/>\n",
       "       <use xlink:href=\"#DejaVuSans-30\" x=\"83.789062\"/>\n",
       "       <use xlink:href=\"#DejaVuSans-2e\" x=\"147.412109\"/>\n",
       "       <use xlink:href=\"#DejaVuSans-32\" x=\"179.199219\"/>\n",
       "       <use xlink:href=\"#DejaVuSans-35\" x=\"242.822266\"/>\n",
       "      </g>\n",
       "     </g>\n",
       "    </g>\n",
       "    <g id=\"xtick_2\">\n",
       "     <g id=\"line2d_2\">\n",
       "      <g>\n",
       "       <use xlink:href=\"#m0001458e96\" x=\"94.517333\" y=\"244.078125\" style=\"stroke: #000000; stroke-width: 0.8\"/>\n",
       "      </g>\n",
       "     </g>\n",
       "     <g id=\"text_2\">\n",
       "      <!-- 0.00 -->\n",
       "      <g transform=\"translate(83.384521 258.676562) scale(0.1 -0.1)\">\n",
       "       <use xlink:href=\"#DejaVuSans-30\"/>\n",
       "       <use xlink:href=\"#DejaVuSans-2e\" x=\"63.623047\"/>\n",
       "       <use xlink:href=\"#DejaVuSans-30\" x=\"95.410156\"/>\n",
       "       <use xlink:href=\"#DejaVuSans-30\" x=\"159.033203\"/>\n",
       "      </g>\n",
       "     </g>\n",
       "    </g>\n",
       "    <g id=\"xtick_3\">\n",
       "     <g id=\"line2d_3\">\n",
       "      <g>\n",
       "       <use xlink:href=\"#m0001458e96\" x=\"129.103827\" y=\"244.078125\" style=\"stroke: #000000; stroke-width: 0.8\"/>\n",
       "      </g>\n",
       "     </g>\n",
       "     <g id=\"text_3\">\n",
       "      <!-- 0.25 -->\n",
       "      <g transform=\"translate(117.971015 258.676562) scale(0.1 -0.1)\">\n",
       "       <use xlink:href=\"#DejaVuSans-30\"/>\n",
       "       <use xlink:href=\"#DejaVuSans-2e\" x=\"63.623047\"/>\n",
       "       <use xlink:href=\"#DejaVuSans-32\" x=\"95.410156\"/>\n",
       "       <use xlink:href=\"#DejaVuSans-35\" x=\"159.033203\"/>\n",
       "      </g>\n",
       "     </g>\n",
       "    </g>\n",
       "    <g id=\"xtick_4\">\n",
       "     <g id=\"line2d_4\">\n",
       "      <g>\n",
       "       <use xlink:href=\"#m0001458e96\" x=\"163.690321\" y=\"244.078125\" style=\"stroke: #000000; stroke-width: 0.8\"/>\n",
       "      </g>\n",
       "     </g>\n",
       "     <g id=\"text_4\">\n",
       "      <!-- 0.50 -->\n",
       "      <g transform=\"translate(152.557509 258.676562) scale(0.1 -0.1)\">\n",
       "       <use xlink:href=\"#DejaVuSans-30\"/>\n",
       "       <use xlink:href=\"#DejaVuSans-2e\" x=\"63.623047\"/>\n",
       "       <use xlink:href=\"#DejaVuSans-35\" x=\"95.410156\"/>\n",
       "       <use xlink:href=\"#DejaVuSans-30\" x=\"159.033203\"/>\n",
       "      </g>\n",
       "     </g>\n",
       "    </g>\n",
       "    <g id=\"xtick_5\">\n",
       "     <g id=\"line2d_5\">\n",
       "      <g>\n",
       "       <use xlink:href=\"#m0001458e96\" x=\"198.276815\" y=\"244.078125\" style=\"stroke: #000000; stroke-width: 0.8\"/>\n",
       "      </g>\n",
       "     </g>\n",
       "     <g id=\"text_5\">\n",
       "      <!-- 0.75 -->\n",
       "      <g transform=\"translate(187.144003 258.676562) scale(0.1 -0.1)\">\n",
       "       <defs>\n",
       "        <path id=\"DejaVuSans-37\" d=\"M 525 4666 \n",
       "L 3525 4666 \n",
       "L 3525 4397 \n",
       "L 1831 0 \n",
       "L 1172 0 \n",
       "L 2766 4134 \n",
       "L 525 4134 \n",
       "L 525 4666 \n",
       "z\n",
       "\" transform=\"scale(0.015625)\"/>\n",
       "       </defs>\n",
       "       <use xlink:href=\"#DejaVuSans-30\"/>\n",
       "       <use xlink:href=\"#DejaVuSans-2e\" x=\"63.623047\"/>\n",
       "       <use xlink:href=\"#DejaVuSans-37\" x=\"95.410156\"/>\n",
       "       <use xlink:href=\"#DejaVuSans-35\" x=\"159.033203\"/>\n",
       "      </g>\n",
       "     </g>\n",
       "    </g>\n",
       "    <g id=\"xtick_6\">\n",
       "     <g id=\"line2d_6\">\n",
       "      <g>\n",
       "       <use xlink:href=\"#m0001458e96\" x=\"232.863309\" y=\"244.078125\" style=\"stroke: #000000; stroke-width: 0.8\"/>\n",
       "      </g>\n",
       "     </g>\n",
       "     <g id=\"text_6\">\n",
       "      <!-- 1.00 -->\n",
       "      <g transform=\"translate(221.730497 258.676562) scale(0.1 -0.1)\">\n",
       "       <defs>\n",
       "        <path id=\"DejaVuSans-31\" d=\"M 794 531 \n",
       "L 1825 531 \n",
       "L 1825 4091 \n",
       "L 703 3866 \n",
       "L 703 4441 \n",
       "L 1819 4666 \n",
       "L 2450 4666 \n",
       "L 2450 531 \n",
       "L 3481 531 \n",
       "L 3481 0 \n",
       "L 794 0 \n",
       "L 794 531 \n",
       "z\n",
       "\" transform=\"scale(0.015625)\"/>\n",
       "       </defs>\n",
       "       <use xlink:href=\"#DejaVuSans-31\"/>\n",
       "       <use xlink:href=\"#DejaVuSans-2e\" x=\"63.623047\"/>\n",
       "       <use xlink:href=\"#DejaVuSans-30\" x=\"95.410156\"/>\n",
       "       <use xlink:href=\"#DejaVuSans-30\" x=\"159.033203\"/>\n",
       "      </g>\n",
       "     </g>\n",
       "    </g>\n",
       "    <g id=\"xtick_7\">\n",
       "     <g id=\"line2d_7\">\n",
       "      <g>\n",
       "       <use xlink:href=\"#m0001458e96\" x=\"267.449803\" y=\"244.078125\" style=\"stroke: #000000; stroke-width: 0.8\"/>\n",
       "      </g>\n",
       "     </g>\n",
       "     <g id=\"text_7\">\n",
       "      <!-- 1.25 -->\n",
       "      <g transform=\"translate(256.316991 258.676562) scale(0.1 -0.1)\">\n",
       "       <use xlink:href=\"#DejaVuSans-31\"/>\n",
       "       <use xlink:href=\"#DejaVuSans-2e\" x=\"63.623047\"/>\n",
       "       <use xlink:href=\"#DejaVuSans-32\" x=\"95.410156\"/>\n",
       "       <use xlink:href=\"#DejaVuSans-35\" x=\"159.033203\"/>\n",
       "      </g>\n",
       "     </g>\n",
       "    </g>\n",
       "    <g id=\"text_8\">\n",
       "     <!-- $x_1$ -->\n",
       "     <g transform=\"translate(158.410938 272.354687) scale(0.1 -0.1)\">\n",
       "      <defs>\n",
       "       <path id=\"DejaVuSans-Oblique-78\" d=\"M 3841 3500 \n",
       "L 2234 1784 \n",
       "L 3219 0 \n",
       "L 2559 0 \n",
       "L 1819 1388 \n",
       "L 531 0 \n",
       "L -166 0 \n",
       "L 1556 1844 \n",
       "L 641 3500 \n",
       "L 1300 3500 \n",
       "L 1972 2234 \n",
       "L 3144 3500 \n",
       "L 3841 3500 \n",
       "z\n",
       "\" transform=\"scale(0.015625)\"/>\n",
       "      </defs>\n",
       "      <use xlink:href=\"#DejaVuSans-Oblique-78\" transform=\"translate(0 0.3125)\"/>\n",
       "      <use xlink:href=\"#DejaVuSans-31\" transform=\"translate(59.179688 -16.09375) scale(0.7)\"/>\n",
       "     </g>\n",
       "    </g>\n",
       "   </g>\n",
       "   <g id=\"matplotlib.axis_2\">\n",
       "    <g id=\"ytick_1\">\n",
       "     <g id=\"line2d_8\">\n",
       "      <defs>\n",
       "       <path id=\"m762d276135\" d=\"M 0 0 \n",
       "L -3.5 0 \n",
       "\" style=\"stroke: #000000; stroke-width: 0.8\"/>\n",
       "      </defs>\n",
       "      <g>\n",
       "       <use xlink:href=\"#m762d276135\" x=\"52.160938\" y=\"227.676991\" style=\"stroke: #000000; stroke-width: 0.8\"/>\n",
       "      </g>\n",
       "     </g>\n",
       "     <g id=\"text_9\">\n",
       "      <!-- −0.2 -->\n",
       "      <g transform=\"translate(20.878125 231.47621) scale(0.1 -0.1)\">\n",
       "       <use xlink:href=\"#DejaVuSans-2212\"/>\n",
       "       <use xlink:href=\"#DejaVuSans-30\" x=\"83.789062\"/>\n",
       "       <use xlink:href=\"#DejaVuSans-2e\" x=\"147.412109\"/>\n",
       "       <use xlink:href=\"#DejaVuSans-32\" x=\"179.199219\"/>\n",
       "      </g>\n",
       "     </g>\n",
       "    </g>\n",
       "    <g id=\"ytick_2\">\n",
       "     <g id=\"line2d_9\">\n",
       "      <g>\n",
       "       <use xlink:href=\"#m762d276135\" x=\"52.160938\" y=\"201.348428\" style=\"stroke: #000000; stroke-width: 0.8\"/>\n",
       "      </g>\n",
       "     </g>\n",
       "     <g id=\"text_10\">\n",
       "      <!-- 0.0 -->\n",
       "      <g transform=\"translate(29.257812 205.147647) scale(0.1 -0.1)\">\n",
       "       <use xlink:href=\"#DejaVuSans-30\"/>\n",
       "       <use xlink:href=\"#DejaVuSans-2e\" x=\"63.623047\"/>\n",
       "       <use xlink:href=\"#DejaVuSans-30\" x=\"95.410156\"/>\n",
       "      </g>\n",
       "     </g>\n",
       "    </g>\n",
       "    <g id=\"ytick_3\">\n",
       "     <g id=\"line2d_10\">\n",
       "      <g>\n",
       "       <use xlink:href=\"#m762d276135\" x=\"52.160938\" y=\"175.019865\" style=\"stroke: #000000; stroke-width: 0.8\"/>\n",
       "      </g>\n",
       "     </g>\n",
       "     <g id=\"text_11\">\n",
       "      <!-- 0.2 -->\n",
       "      <g transform=\"translate(29.257812 178.819084) scale(0.1 -0.1)\">\n",
       "       <use xlink:href=\"#DejaVuSans-30\"/>\n",
       "       <use xlink:href=\"#DejaVuSans-2e\" x=\"63.623047\"/>\n",
       "       <use xlink:href=\"#DejaVuSans-32\" x=\"95.410156\"/>\n",
       "      </g>\n",
       "     </g>\n",
       "    </g>\n",
       "    <g id=\"ytick_4\">\n",
       "     <g id=\"line2d_11\">\n",
       "      <g>\n",
       "       <use xlink:href=\"#m762d276135\" x=\"52.160938\" y=\"148.691302\" style=\"stroke: #000000; stroke-width: 0.8\"/>\n",
       "      </g>\n",
       "     </g>\n",
       "     <g id=\"text_12\">\n",
       "      <!-- 0.4 -->\n",
       "      <g transform=\"translate(29.257812 152.49052) scale(0.1 -0.1)\">\n",
       "       <defs>\n",
       "        <path id=\"DejaVuSans-34\" d=\"M 2419 4116 \n",
       "L 825 1625 \n",
       "L 2419 1625 \n",
       "L 2419 4116 \n",
       "z\n",
       "M 2253 4666 \n",
       "L 3047 4666 \n",
       "L 3047 1625 \n",
       "L 3713 1625 \n",
       "L 3713 1100 \n",
       "L 3047 1100 \n",
       "L 3047 0 \n",
       "L 2419 0 \n",
       "L 2419 1100 \n",
       "L 313 1100 \n",
       "L 313 1709 \n",
       "L 2253 4666 \n",
       "z\n",
       "\" transform=\"scale(0.015625)\"/>\n",
       "       </defs>\n",
       "       <use xlink:href=\"#DejaVuSans-30\"/>\n",
       "       <use xlink:href=\"#DejaVuSans-2e\" x=\"63.623047\"/>\n",
       "       <use xlink:href=\"#DejaVuSans-34\" x=\"95.410156\"/>\n",
       "      </g>\n",
       "     </g>\n",
       "    </g>\n",
       "    <g id=\"ytick_5\">\n",
       "     <g id=\"line2d_12\">\n",
       "      <g>\n",
       "       <use xlink:href=\"#m762d276135\" x=\"52.160938\" y=\"122.362739\" style=\"stroke: #000000; stroke-width: 0.8\"/>\n",
       "      </g>\n",
       "     </g>\n",
       "     <g id=\"text_13\">\n",
       "      <!-- 0.6 -->\n",
       "      <g transform=\"translate(29.257812 126.161957) scale(0.1 -0.1)\">\n",
       "       <defs>\n",
       "        <path id=\"DejaVuSans-36\" d=\"M 2113 2584 \n",
       "Q 1688 2584 1439 2293 \n",
       "Q 1191 2003 1191 1497 \n",
       "Q 1191 994 1439 701 \n",
       "Q 1688 409 2113 409 \n",
       "Q 2538 409 2786 701 \n",
       "Q 3034 994 3034 1497 \n",
       "Q 3034 2003 2786 2293 \n",
       "Q 2538 2584 2113 2584 \n",
       "z\n",
       "M 3366 4563 \n",
       "L 3366 3988 \n",
       "Q 3128 4100 2886 4159 \n",
       "Q 2644 4219 2406 4219 \n",
       "Q 1781 4219 1451 3797 \n",
       "Q 1122 3375 1075 2522 \n",
       "Q 1259 2794 1537 2939 \n",
       "Q 1816 3084 2150 3084 \n",
       "Q 2853 3084 3261 2657 \n",
       "Q 3669 2231 3669 1497 \n",
       "Q 3669 778 3244 343 \n",
       "Q 2819 -91 2113 -91 \n",
       "Q 1303 -91 875 529 \n",
       "Q 447 1150 447 2328 \n",
       "Q 447 3434 972 4092 \n",
       "Q 1497 4750 2381 4750 \n",
       "Q 2619 4750 2861 4703 \n",
       "Q 3103 4656 3366 4563 \n",
       "z\n",
       "\" transform=\"scale(0.015625)\"/>\n",
       "       </defs>\n",
       "       <use xlink:href=\"#DejaVuSans-30\"/>\n",
       "       <use xlink:href=\"#DejaVuSans-2e\" x=\"63.623047\"/>\n",
       "       <use xlink:href=\"#DejaVuSans-36\" x=\"95.410156\"/>\n",
       "      </g>\n",
       "     </g>\n",
       "    </g>\n",
       "    <g id=\"ytick_6\">\n",
       "     <g id=\"line2d_13\">\n",
       "      <g>\n",
       "       <use xlink:href=\"#m762d276135\" x=\"52.160938\" y=\"96.034176\" style=\"stroke: #000000; stroke-width: 0.8\"/>\n",
       "      </g>\n",
       "     </g>\n",
       "     <g id=\"text_14\">\n",
       "      <!-- 0.8 -->\n",
       "      <g transform=\"translate(29.257812 99.833394) scale(0.1 -0.1)\">\n",
       "       <defs>\n",
       "        <path id=\"DejaVuSans-38\" d=\"M 2034 2216 \n",
       "Q 1584 2216 1326 1975 \n",
       "Q 1069 1734 1069 1313 \n",
       "Q 1069 891 1326 650 \n",
       "Q 1584 409 2034 409 \n",
       "Q 2484 409 2743 651 \n",
       "Q 3003 894 3003 1313 \n",
       "Q 3003 1734 2745 1975 \n",
       "Q 2488 2216 2034 2216 \n",
       "z\n",
       "M 1403 2484 \n",
       "Q 997 2584 770 2862 \n",
       "Q 544 3141 544 3541 \n",
       "Q 544 4100 942 4425 \n",
       "Q 1341 4750 2034 4750 \n",
       "Q 2731 4750 3128 4425 \n",
       "Q 3525 4100 3525 3541 \n",
       "Q 3525 3141 3298 2862 \n",
       "Q 3072 2584 2669 2484 \n",
       "Q 3125 2378 3379 2068 \n",
       "Q 3634 1759 3634 1313 \n",
       "Q 3634 634 3220 271 \n",
       "Q 2806 -91 2034 -91 \n",
       "Q 1263 -91 848 271 \n",
       "Q 434 634 434 1313 \n",
       "Q 434 1759 690 2068 \n",
       "Q 947 2378 1403 2484 \n",
       "z\n",
       "M 1172 3481 \n",
       "Q 1172 3119 1398 2916 \n",
       "Q 1625 2713 2034 2713 \n",
       "Q 2441 2713 2670 2916 \n",
       "Q 2900 3119 2900 3481 \n",
       "Q 2900 3844 2670 4047 \n",
       "Q 2441 4250 2034 4250 \n",
       "Q 1625 4250 1398 4047 \n",
       "Q 1172 3844 1172 3481 \n",
       "z\n",
       "\" transform=\"scale(0.015625)\"/>\n",
       "       </defs>\n",
       "       <use xlink:href=\"#DejaVuSans-30\"/>\n",
       "       <use xlink:href=\"#DejaVuSans-2e\" x=\"63.623047\"/>\n",
       "       <use xlink:href=\"#DejaVuSans-38\" x=\"95.410156\"/>\n",
       "      </g>\n",
       "     </g>\n",
       "    </g>\n",
       "    <g id=\"ytick_7\">\n",
       "     <g id=\"line2d_14\">\n",
       "      <g>\n",
       "       <use xlink:href=\"#m762d276135\" x=\"52.160938\" y=\"69.705612\" style=\"stroke: #000000; stroke-width: 0.8\"/>\n",
       "      </g>\n",
       "     </g>\n",
       "     <g id=\"text_15\">\n",
       "      <!-- 1.0 -->\n",
       "      <g transform=\"translate(29.257812 73.504831) scale(0.1 -0.1)\">\n",
       "       <use xlink:href=\"#DejaVuSans-31\"/>\n",
       "       <use xlink:href=\"#DejaVuSans-2e\" x=\"63.623047\"/>\n",
       "       <use xlink:href=\"#DejaVuSans-30\" x=\"95.410156\"/>\n",
       "      </g>\n",
       "     </g>\n",
       "    </g>\n",
       "    <g id=\"ytick_8\">\n",
       "     <g id=\"line2d_15\">\n",
       "      <g>\n",
       "       <use xlink:href=\"#m762d276135\" x=\"52.160938\" y=\"43.377049\" style=\"stroke: #000000; stroke-width: 0.8\"/>\n",
       "      </g>\n",
       "     </g>\n",
       "     <g id=\"text_16\">\n",
       "      <!-- 1.2 -->\n",
       "      <g transform=\"translate(29.257812 47.176268) scale(0.1 -0.1)\">\n",
       "       <use xlink:href=\"#DejaVuSans-31\"/>\n",
       "       <use xlink:href=\"#DejaVuSans-2e\" x=\"63.623047\"/>\n",
       "       <use xlink:href=\"#DejaVuSans-32\" x=\"95.410156\"/>\n",
       "      </g>\n",
       "     </g>\n",
       "    </g>\n",
       "    <g id=\"text_17\">\n",
       "     <!-- $x_2$ -->\n",
       "     <g transform=\"translate(14.798438 138.548125) rotate(-90) scale(0.1 -0.1)\">\n",
       "      <use xlink:href=\"#DejaVuSans-Oblique-78\" transform=\"translate(0 0.3125)\"/>\n",
       "      <use xlink:href=\"#DejaVuSans-32\" transform=\"translate(59.179688 -16.09375) scale(0.7)\"/>\n",
       "     </g>\n",
       "    </g>\n",
       "   </g>\n",
       "   <g id=\"patch_3\">\n",
       "    <path d=\"M 52.160938 244.078125 \n",
       "L 52.160938 22.318125 \n",
       "\" style=\"fill: none; stroke: #000000; stroke-width: 0.8; stroke-linejoin: miter; stroke-linecap: square\"/>\n",
       "   </g>\n",
       "   <g id=\"patch_4\">\n",
       "    <path d=\"M 275.360937 244.078125 \n",
       "L 275.360937 22.318125 \n",
       "\" style=\"fill: none; stroke: #000000; stroke-width: 0.8; stroke-linejoin: miter; stroke-linecap: square\"/>\n",
       "   </g>\n",
       "   <g id=\"patch_5\">\n",
       "    <path d=\"M 52.160938 244.078125 \n",
       "L 275.360937 244.078125 \n",
       "\" style=\"fill: none; stroke: #000000; stroke-width: 0.8; stroke-linejoin: miter; stroke-linecap: square\"/>\n",
       "   </g>\n",
       "   <g id=\"patch_6\">\n",
       "    <path d=\"M 52.160938 22.318125 \n",
       "L 275.360937 22.318125 \n",
       "\" style=\"fill: none; stroke: #000000; stroke-width: 0.8; stroke-linejoin: miter; stroke-linecap: square\"/>\n",
       "   </g>\n",
       "   <g id=\"text_18\">\n",
       "    <!-- Dataset samples -->\n",
       "    <g transform=\"translate(113.418125 16.318125) scale(0.12 -0.12)\">\n",
       "     <defs>\n",
       "      <path id=\"DejaVuSans-44\" d=\"M 1259 4147 \n",
       "L 1259 519 \n",
       "L 2022 519 \n",
       "Q 2988 519 3436 956 \n",
       "Q 3884 1394 3884 2338 \n",
       "Q 3884 3275 3436 3711 \n",
       "Q 2988 4147 2022 4147 \n",
       "L 1259 4147 \n",
       "z\n",
       "M 628 4666 \n",
       "L 1925 4666 \n",
       "Q 3281 4666 3915 4102 \n",
       "Q 4550 3538 4550 2338 \n",
       "Q 4550 1131 3912 565 \n",
       "Q 3275 0 1925 0 \n",
       "L 628 0 \n",
       "L 628 4666 \n",
       "z\n",
       "\" transform=\"scale(0.015625)\"/>\n",
       "      <path id=\"DejaVuSans-61\" d=\"M 2194 1759 \n",
       "Q 1497 1759 1228 1600 \n",
       "Q 959 1441 959 1056 \n",
       "Q 959 750 1161 570 \n",
       "Q 1363 391 1709 391 \n",
       "Q 2188 391 2477 730 \n",
       "Q 2766 1069 2766 1631 \n",
       "L 2766 1759 \n",
       "L 2194 1759 \n",
       "z\n",
       "M 3341 1997 \n",
       "L 3341 0 \n",
       "L 2766 0 \n",
       "L 2766 531 \n",
       "Q 2569 213 2275 61 \n",
       "Q 1981 -91 1556 -91 \n",
       "Q 1019 -91 701 211 \n",
       "Q 384 513 384 1019 \n",
       "Q 384 1609 779 1909 \n",
       "Q 1175 2209 1959 2209 \n",
       "L 2766 2209 \n",
       "L 2766 2266 \n",
       "Q 2766 2663 2505 2880 \n",
       "Q 2244 3097 1772 3097 \n",
       "Q 1472 3097 1187 3025 \n",
       "Q 903 2953 641 2809 \n",
       "L 641 3341 \n",
       "Q 956 3463 1253 3523 \n",
       "Q 1550 3584 1831 3584 \n",
       "Q 2591 3584 2966 3190 \n",
       "Q 3341 2797 3341 1997 \n",
       "z\n",
       "\" transform=\"scale(0.015625)\"/>\n",
       "      <path id=\"DejaVuSans-74\" d=\"M 1172 4494 \n",
       "L 1172 3500 \n",
       "L 2356 3500 \n",
       "L 2356 3053 \n",
       "L 1172 3053 \n",
       "L 1172 1153 \n",
       "Q 1172 725 1289 603 \n",
       "Q 1406 481 1766 481 \n",
       "L 2356 481 \n",
       "L 2356 0 \n",
       "L 1766 0 \n",
       "Q 1100 0 847 248 \n",
       "Q 594 497 594 1153 \n",
       "L 594 3053 \n",
       "L 172 3053 \n",
       "L 172 3500 \n",
       "L 594 3500 \n",
       "L 594 4494 \n",
       "L 1172 4494 \n",
       "z\n",
       "\" transform=\"scale(0.015625)\"/>\n",
       "      <path id=\"DejaVuSans-73\" d=\"M 2834 3397 \n",
       "L 2834 2853 \n",
       "Q 2591 2978 2328 3040 \n",
       "Q 2066 3103 1784 3103 \n",
       "Q 1356 3103 1142 2972 \n",
       "Q 928 2841 928 2578 \n",
       "Q 928 2378 1081 2264 \n",
       "Q 1234 2150 1697 2047 \n",
       "L 1894 2003 \n",
       "Q 2506 1872 2764 1633 \n",
       "Q 3022 1394 3022 966 \n",
       "Q 3022 478 2636 193 \n",
       "Q 2250 -91 1575 -91 \n",
       "Q 1294 -91 989 -36 \n",
       "Q 684 19 347 128 \n",
       "L 347 722 \n",
       "Q 666 556 975 473 \n",
       "Q 1284 391 1588 391 \n",
       "Q 1994 391 2212 530 \n",
       "Q 2431 669 2431 922 \n",
       "Q 2431 1156 2273 1281 \n",
       "Q 2116 1406 1581 1522 \n",
       "L 1381 1569 \n",
       "Q 847 1681 609 1914 \n",
       "Q 372 2147 372 2553 \n",
       "Q 372 3047 722 3315 \n",
       "Q 1072 3584 1716 3584 \n",
       "Q 2034 3584 2315 3537 \n",
       "Q 2597 3491 2834 3397 \n",
       "z\n",
       "\" transform=\"scale(0.015625)\"/>\n",
       "      <path id=\"DejaVuSans-65\" d=\"M 3597 1894 \n",
       "L 3597 1613 \n",
       "L 953 1613 \n",
       "Q 991 1019 1311 708 \n",
       "Q 1631 397 2203 397 \n",
       "Q 2534 397 2845 478 \n",
       "Q 3156 559 3463 722 \n",
       "L 3463 178 \n",
       "Q 3153 47 2828 -22 \n",
       "Q 2503 -91 2169 -91 \n",
       "Q 1331 -91 842 396 \n",
       "Q 353 884 353 1716 \n",
       "Q 353 2575 817 3079 \n",
       "Q 1281 3584 2069 3584 \n",
       "Q 2775 3584 3186 3129 \n",
       "Q 3597 2675 3597 1894 \n",
       "z\n",
       "M 3022 2063 \n",
       "Q 3016 2534 2758 2815 \n",
       "Q 2500 3097 2075 3097 \n",
       "Q 1594 3097 1305 2825 \n",
       "Q 1016 2553 972 2059 \n",
       "L 3022 2063 \n",
       "z\n",
       "\" transform=\"scale(0.015625)\"/>\n",
       "      <path id=\"DejaVuSans-20\" transform=\"scale(0.015625)\"/>\n",
       "      <path id=\"DejaVuSans-6d\" d=\"M 3328 2828 \n",
       "Q 3544 3216 3844 3400 \n",
       "Q 4144 3584 4550 3584 \n",
       "Q 5097 3584 5394 3201 \n",
       "Q 5691 2819 5691 2113 \n",
       "L 5691 0 \n",
       "L 5113 0 \n",
       "L 5113 2094 \n",
       "Q 5113 2597 4934 2840 \n",
       "Q 4756 3084 4391 3084 \n",
       "Q 3944 3084 3684 2787 \n",
       "Q 3425 2491 3425 1978 \n",
       "L 3425 0 \n",
       "L 2847 0 \n",
       "L 2847 2094 \n",
       "Q 2847 2600 2669 2842 \n",
       "Q 2491 3084 2119 3084 \n",
       "Q 1678 3084 1418 2786 \n",
       "Q 1159 2488 1159 1978 \n",
       "L 1159 0 \n",
       "L 581 0 \n",
       "L 581 3500 \n",
       "L 1159 3500 \n",
       "L 1159 2956 \n",
       "Q 1356 3278 1631 3431 \n",
       "Q 1906 3584 2284 3584 \n",
       "Q 2666 3584 2933 3390 \n",
       "Q 3200 3197 3328 2828 \n",
       "z\n",
       "\" transform=\"scale(0.015625)\"/>\n",
       "      <path id=\"DejaVuSans-70\" d=\"M 1159 525 \n",
       "L 1159 -1331 \n",
       "L 581 -1331 \n",
       "L 581 3500 \n",
       "L 1159 3500 \n",
       "L 1159 2969 \n",
       "Q 1341 3281 1617 3432 \n",
       "Q 1894 3584 2278 3584 \n",
       "Q 2916 3584 3314 3078 \n",
       "Q 3713 2572 3713 1747 \n",
       "Q 3713 922 3314 415 \n",
       "Q 2916 -91 2278 -91 \n",
       "Q 1894 -91 1617 61 \n",
       "Q 1341 213 1159 525 \n",
       "z\n",
       "M 3116 1747 \n",
       "Q 3116 2381 2855 2742 \n",
       "Q 2594 3103 2138 3103 \n",
       "Q 1681 3103 1420 2742 \n",
       "Q 1159 2381 1159 1747 \n",
       "Q 1159 1113 1420 752 \n",
       "Q 1681 391 2138 391 \n",
       "Q 2594 391 2855 752 \n",
       "Q 3116 1113 3116 1747 \n",
       "z\n",
       "\" transform=\"scale(0.015625)\"/>\n",
       "      <path id=\"DejaVuSans-6c\" d=\"M 603 4863 \n",
       "L 1178 4863 \n",
       "L 1178 0 \n",
       "L 603 0 \n",
       "L 603 4863 \n",
       "z\n",
       "\" transform=\"scale(0.015625)\"/>\n",
       "     </defs>\n",
       "     <use xlink:href=\"#DejaVuSans-44\"/>\n",
       "     <use xlink:href=\"#DejaVuSans-61\" x=\"77.001953\"/>\n",
       "     <use xlink:href=\"#DejaVuSans-74\" x=\"138.28125\"/>\n",
       "     <use xlink:href=\"#DejaVuSans-61\" x=\"177.490234\"/>\n",
       "     <use xlink:href=\"#DejaVuSans-73\" x=\"238.769531\"/>\n",
       "     <use xlink:href=\"#DejaVuSans-65\" x=\"290.869141\"/>\n",
       "     <use xlink:href=\"#DejaVuSans-74\" x=\"352.392578\"/>\n",
       "     <use xlink:href=\"#DejaVuSans-20\" x=\"391.601562\"/>\n",
       "     <use xlink:href=\"#DejaVuSans-73\" x=\"423.388672\"/>\n",
       "     <use xlink:href=\"#DejaVuSans-61\" x=\"475.488281\"/>\n",
       "     <use xlink:href=\"#DejaVuSans-6d\" x=\"536.767578\"/>\n",
       "     <use xlink:href=\"#DejaVuSans-70\" x=\"634.179688\"/>\n",
       "     <use xlink:href=\"#DejaVuSans-6c\" x=\"697.65625\"/>\n",
       "     <use xlink:href=\"#DejaVuSans-65\" x=\"725.439453\"/>\n",
       "     <use xlink:href=\"#DejaVuSans-73\" x=\"786.962891\"/>\n",
       "    </g>\n",
       "   </g>\n",
       "   <g id=\"legend_1\">\n",
       "    <g id=\"patch_7\">\n",
       "     <path d=\"M 200.5125 149.37625 \n",
       "L 268.360937 149.37625 \n",
       "Q 270.360937 149.37625 270.360937 147.37625 \n",
       "L 270.360937 119.02 \n",
       "Q 270.360937 117.02 268.360937 117.02 \n",
       "L 200.5125 117.02 \n",
       "Q 198.5125 117.02 198.5125 119.02 \n",
       "L 198.5125 147.37625 \n",
       "Q 198.5125 149.37625 200.5125 149.37625 \n",
       "z\n",
       "\" style=\"fill: #ffffff; opacity: 0.8; stroke: #cccccc; stroke-linejoin: miter\"/>\n",
       "    </g>\n",
       "    <g id=\"PathCollection_3\">\n",
       "     <g>\n",
       "      <use xlink:href=\"#m8b2f42da7b\" x=\"212.5125\" y=\"125.993437\" style=\"fill: #1f77b4; stroke: #333333\"/>\n",
       "     </g>\n",
       "    </g>\n",
       "    <g id=\"text_19\">\n",
       "     <!-- Class 0 -->\n",
       "     <g transform=\"translate(230.5125 128.618437) scale(0.1 -0.1)\">\n",
       "      <defs>\n",
       "       <path id=\"DejaVuSans-43\" d=\"M 4122 4306 \n",
       "L 4122 3641 \n",
       "Q 3803 3938 3442 4084 \n",
       "Q 3081 4231 2675 4231 \n",
       "Q 1875 4231 1450 3742 \n",
       "Q 1025 3253 1025 2328 \n",
       "Q 1025 1406 1450 917 \n",
       "Q 1875 428 2675 428 \n",
       "Q 3081 428 3442 575 \n",
       "Q 3803 722 4122 1019 \n",
       "L 4122 359 \n",
       "Q 3791 134 3420 21 \n",
       "Q 3050 -91 2638 -91 \n",
       "Q 1578 -91 968 557 \n",
       "Q 359 1206 359 2328 \n",
       "Q 359 3453 968 4101 \n",
       "Q 1578 4750 2638 4750 \n",
       "Q 3056 4750 3426 4639 \n",
       "Q 3797 4528 4122 4306 \n",
       "z\n",
       "\" transform=\"scale(0.015625)\"/>\n",
       "      </defs>\n",
       "      <use xlink:href=\"#DejaVuSans-43\"/>\n",
       "      <use xlink:href=\"#DejaVuSans-6c\" x=\"69.824219\"/>\n",
       "      <use xlink:href=\"#DejaVuSans-61\" x=\"97.607422\"/>\n",
       "      <use xlink:href=\"#DejaVuSans-73\" x=\"158.886719\"/>\n",
       "      <use xlink:href=\"#DejaVuSans-73\" x=\"210.986328\"/>\n",
       "      <use xlink:href=\"#DejaVuSans-20\" x=\"263.085938\"/>\n",
       "      <use xlink:href=\"#DejaVuSans-30\" x=\"294.873047\"/>\n",
       "     </g>\n",
       "    </g>\n",
       "    <g id=\"PathCollection_4\">\n",
       "     <g>\n",
       "      <use xlink:href=\"#m7739f6310e\" x=\"212.5125\" y=\"140.671562\" style=\"fill: #ff7f0e; stroke: #333333\"/>\n",
       "     </g>\n",
       "    </g>\n",
       "    <g id=\"text_20\">\n",
       "     <!-- Class 1 -->\n",
       "     <g transform=\"translate(230.5125 143.296562) scale(0.1 -0.1)\">\n",
       "      <use xlink:href=\"#DejaVuSans-43\"/>\n",
       "      <use xlink:href=\"#DejaVuSans-6c\" x=\"69.824219\"/>\n",
       "      <use xlink:href=\"#DejaVuSans-61\" x=\"97.607422\"/>\n",
       "      <use xlink:href=\"#DejaVuSans-73\" x=\"158.886719\"/>\n",
       "      <use xlink:href=\"#DejaVuSans-73\" x=\"210.986328\"/>\n",
       "      <use xlink:href=\"#DejaVuSans-20\" x=\"263.085938\"/>\n",
       "      <use xlink:href=\"#DejaVuSans-31\" x=\"294.873047\"/>\n",
       "     </g>\n",
       "    </g>\n",
       "   </g>\n",
       "  </g>\n",
       " </g>\n",
       " <defs>\n",
       "  <clipPath id=\"pefc6822a9a\">\n",
       "   <rect x=\"52.160938\" y=\"22.318125\" width=\"223.2\" height=\"221.76\"/>\n",
       "  </clipPath>\n",
       " </defs>\n",
       "</svg>\n"
      ],
      "text/plain": [
       "<Figure size 400x400 with 1 Axes>"
      ]
     },
     "metadata": {},
     "output_type": "display_data"
    }
   ],
   "source": [
    "visualize_samples(dataset.data, dataset.label)\n",
    "plt.show()"
   ]
  },
  {
   "cell_type": "code",
   "execution_count": null,
   "id": "b8340f4e",
   "metadata": {
    "execution": {
     "iopub.execute_input": "2023-05-03T17:05:43.743666Z",
     "iopub.status.busy": "2023-05-03T17:05:43.743469Z",
     "iopub.status.idle": "2023-05-03T17:05:43.748303Z",
     "shell.execute_reply": "2023-05-03T17:05:43.747331Z"
    },
    "id": "b8340f4e",
    "papermill": {
     "duration": 0.02406,
     "end_time": "2023-05-03T17:05:43.749778",
     "exception": false,
     "start_time": "2023-05-03T17:05:43.725718",
     "status": "completed"
    },
    "tags": []
   },
   "outputs": [],
   "source": [
    "data_loader = data.DataLoader(dataset, batch_size=8, shuffle=True)"
   ]
  },
  {
   "cell_type": "code",
   "execution_count": null,
   "id": "4af97b63",
   "metadata": {
    "colab": {
     "base_uri": "https://localhost:8080/"
    },
    "execution": {
     "iopub.execute_input": "2023-05-03T17:05:43.787248Z",
     "iopub.status.busy": "2023-05-03T17:05:43.786922Z",
     "iopub.status.idle": "2023-05-03T17:05:43.794374Z",
     "shell.execute_reply": "2023-05-03T17:05:43.793398Z"
    },
    "id": "4af97b63",
    "outputId": "8a77eed4-df7c-4a1d-b1e8-dee8fc2d19fd",
    "papermill": {
     "duration": 0.026784,
     "end_time": "2023-05-03T17:05:43.796113",
     "exception": false,
     "start_time": "2023-05-03T17:05:43.769329",
     "status": "completed"
    },
    "tags": []
   },
   "outputs": [
    {
     "name": "stdout",
     "output_type": "stream",
     "text": [
      "Data inputs torch.Size([8, 2]) \n",
      " tensor([[ 0.8878, -0.1663],\n",
      "        [ 0.0462,  1.0694],\n",
      "        [ 0.0559,  0.8531],\n",
      "        [ 0.9696,  1.0410],\n",
      "        [ 0.2352,  1.0569],\n",
      "        [-0.0248,  0.9887],\n",
      "        [ 0.0845,  0.1184],\n",
      "        [ 0.1025,  1.0109]])\n",
      "Data labels torch.Size([8]) \n",
      " tensor([1, 1, 1, 0, 1, 1, 0, 1])\n"
     ]
    }
   ],
   "source": [
    "\n",
    "data_inputs, data_labels = next(iter(data_loader))\n",
    "\n",
    "print(\"Data inputs\", data_inputs.shape, \"\\n\", data_inputs)\n",
    "print(\"Data labels\", data_labels.shape, \"\\n\", data_labels)"
   ]
  },
  {
   "cell_type": "markdown",
   "id": "674f9f9f",
   "metadata": {
    "id": "674f9f9f",
    "papermill": {
     "duration": 0.01695,
     "end_time": "2023-05-03T17:05:43.835343",
     "exception": false,
     "start_time": "2023-05-03T17:05:43.818393",
     "status": "completed"
    },
    "tags": []
   },
   "source": [
    "### Оптимизация\n",
    "\n"
   ]
  },
  {
   "cell_type": "code",
   "execution_count": null,
   "id": "1b451a17",
   "metadata": {
    "execution": {
     "iopub.execute_input": "2023-05-03T17:05:43.905790Z",
     "iopub.status.busy": "2023-05-03T17:05:43.905007Z",
     "iopub.status.idle": "2023-05-03T17:05:43.918030Z",
     "shell.execute_reply": "2023-05-03T17:05:43.916530Z"
    },
    "id": "1b451a17",
    "papermill": {
     "duration": 0.033627,
     "end_time": "2023-05-03T17:05:43.920725",
     "exception": false,
     "start_time": "2023-05-03T17:05:43.887098",
     "status": "completed"
    },
    "tags": []
   },
   "outputs": [],
   "source": [
    "loss_module = nn.BCEWithLogitsLoss()"
   ]
  },
  {
   "cell_type": "code",
   "execution_count": null,
   "id": "a7afc4e4",
   "metadata": {
    "execution": {
     "iopub.execute_input": "2023-05-03T17:05:44.003453Z",
     "iopub.status.busy": "2023-05-03T17:05:44.002542Z",
     "iopub.status.idle": "2023-05-03T17:05:44.008847Z",
     "shell.execute_reply": "2023-05-03T17:05:44.007551Z"
    },
    "id": "a7afc4e4",
    "papermill": {
     "duration": 0.031937,
     "end_time": "2023-05-03T17:05:44.010547",
     "exception": false,
     "start_time": "2023-05-03T17:05:43.978610",
     "status": "completed"
    },
    "tags": []
   },
   "outputs": [],
   "source": [
    "\n",
    "optimizer = torch.optim.SGD(model.parameters(), lr=0.1)"
   ]
  },
  {
   "cell_type": "code",
   "execution_count": null,
   "id": "1923355a",
   "metadata": {
    "execution": {
     "iopub.execute_input": "2023-05-03T17:05:44.120452Z",
     "iopub.status.busy": "2023-05-03T17:05:44.120178Z",
     "iopub.status.idle": "2023-05-03T17:05:44.125504Z",
     "shell.execute_reply": "2023-05-03T17:05:44.124477Z"
    },
    "id": "1923355a",
    "papermill": {
     "duration": 0.024772,
     "end_time": "2023-05-03T17:05:44.126903",
     "exception": false,
     "start_time": "2023-05-03T17:05:44.102131",
     "status": "completed"
    },
    "tags": []
   },
   "outputs": [],
   "source": [
    "train_dataset = XORDataset(size=1000)\n",
    "train_data_loader = data.DataLoader(train_dataset, batch_size=128, shuffle=True)"
   ]
  },
  {
   "cell_type": "code",
   "execution_count": null,
   "id": "3f3e2afe",
   "metadata": {
    "colab": {
     "base_uri": "https://localhost:8080/"
    },
    "execution": {
     "iopub.execute_input": "2023-05-03T17:05:44.204065Z",
     "iopub.status.busy": "2023-05-03T17:05:44.203353Z",
     "iopub.status.idle": "2023-05-03T17:05:44.211305Z",
     "shell.execute_reply": "2023-05-03T17:05:44.210238Z"
    },
    "id": "3f3e2afe",
    "outputId": "517e01de-7851-499d-d96e-4369aae4c84f",
    "papermill": {
     "duration": 0.028608,
     "end_time": "2023-05-03T17:05:44.213719",
     "exception": false,
     "start_time": "2023-05-03T17:05:44.185111",
     "status": "completed"
    },
    "tags": []
   },
   "outputs": [
    {
     "data": {
      "text/plain": [
       "SimpleClassifier(\n",
       "  (linear1): Linear(in_features=2, out_features=4, bias=True)\n",
       "  (act_fn): Tanh()\n",
       "  (linear2): Linear(in_features=4, out_features=1, bias=True)\n",
       ")"
      ]
     },
     "execution_count": 48,
     "metadata": {},
     "output_type": "execute_result"
    }
   ],
   "source": [
    "\n",
    "model.to(device)"
   ]
  },
  {
   "cell_type": "code",
   "execution_count": null,
   "id": "fde2e593",
   "metadata": {
    "execution": {
     "iopub.execute_input": "2023-05-03T17:05:44.289072Z",
     "iopub.status.busy": "2023-05-03T17:05:44.288678Z",
     "iopub.status.idle": "2023-05-03T17:05:44.296117Z",
     "shell.execute_reply": "2023-05-03T17:05:44.295058Z"
    },
    "id": "fde2e593",
    "papermill": {
     "duration": 0.027777,
     "end_time": "2023-05-03T17:05:44.298379",
     "exception": false,
     "start_time": "2023-05-03T17:05:44.270602",
     "status": "completed"
    },
    "tags": []
   },
   "outputs": [],
   "source": [
    "def train_model(model, optimizer, data_loader, loss_module, num_epochs=100):\n",
    "    model.train()\n",
    "\n",
    "    for epoch in tqdm(range(num_epochs)):\n",
    "        for data_inputs, data_labels in data_loader:\n",
    "            \n",
    "            data_inputs = data_inputs.to(device)\n",
    "            data_labels = data_labels.to(device)\n",
    "\n",
    "            \n",
    "            preds = model(data_inputs)\n",
    "            preds = preds.squeeze(dim=1)  \n",
    "\n",
    "            \n",
    "            loss = loss_module(preds, data_labels.float())\n",
    "\n",
    "            optimizer.zero_grad()\n",
    "            loss.backward()\n",
    "\n",
    "            optimizer.step()"
   ]
  },
  {
   "cell_type": "code",
   "execution_count": null,
   "id": "1e129f50",
   "metadata": {
    "colab": {
     "base_uri": "https://localhost:8080/",
     "height": 49,
     "referenced_widgets": [
      "3b41770f6b5047bf9b22c9f4a5f085eb",
      "4b8d911e02c34d0da9044d9b9857eeb6",
      "200b196b5e394f4cb2cb51ebf4403e09",
      "cb7b715bcf7a4366b06be5917df0905c",
      "d3734f3405ab49628b004c2b9d5aa9c8",
      "067c1b3a75ea4ed187c2e86fa9df4211",
      "b5c561436f944809b27f4ddd284bb791",
      "2e6700e183aa423c8af7c4d02ebef7af",
      "d5da41c37cc9477ca6e18ca300294310",
      "c32a48d80cfa48c8a34894a290ad1b35",
      "f087a0c69e3947dc9f7b120332e08495"
     ]
    },
    "execution": {
     "iopub.execute_input": "2023-05-03T17:05:44.339637Z",
     "iopub.status.busy": "2023-05-03T17:05:44.338794Z",
     "iopub.status.idle": "2023-05-03T17:05:45.856315Z",
     "shell.execute_reply": "2023-05-03T17:05:45.855088Z"
    },
    "id": "1e129f50",
    "outputId": "53611ea8-3970-4cce-cb7e-0a97b9590f89",
    "papermill": {
     "duration": 1.538361,
     "end_time": "2023-05-03T17:05:45.859005",
     "exception": false,
     "start_time": "2023-05-03T17:05:44.320644",
     "status": "completed"
    },
    "tags": []
   },
   "outputs": [
    {
     "data": {
      "application/vnd.jupyter.widget-view+json": {
       "model_id": "3b41770f6b5047bf9b22c9f4a5f085eb",
       "version_major": 2,
       "version_minor": 0
      },
      "text/plain": [
       "  0%|          | 0/100 [00:00<?, ?it/s]"
      ]
     },
     "metadata": {},
     "output_type": "display_data"
    }
   ],
   "source": [
    "train_model(model, optimizer, train_data_loader, loss_module)"
   ]
  },
  {
   "cell_type": "markdown",
   "id": "0ff3f2e8",
   "metadata": {
    "id": "0ff3f2e8",
    "papermill": {
     "duration": 0.017732,
     "end_time": "2023-05-03T17:05:45.897333",
     "exception": false,
     "start_time": "2023-05-03T17:05:45.879601",
     "status": "completed"
    },
    "tags": []
   },
   "source": [
    "#### Сохранение модели\n",
    "\n"
   ]
  },
  {
   "cell_type": "code",
   "execution_count": null,
   "id": "c825b6b7",
   "metadata": {
    "colab": {
     "base_uri": "https://localhost:8080/"
    },
    "execution": {
     "iopub.execute_input": "2023-05-03T17:05:45.934336Z",
     "iopub.status.busy": "2023-05-03T17:05:45.933916Z",
     "iopub.status.idle": "2023-05-03T17:05:45.942934Z",
     "shell.execute_reply": "2023-05-03T17:05:45.941850Z"
    },
    "id": "c825b6b7",
    "outputId": "24c025e6-6d43-4a5b-dd78-ae3bc650c705",
    "papermill": {
     "duration": 0.029671,
     "end_time": "2023-05-03T17:05:45.944737",
     "exception": false,
     "start_time": "2023-05-03T17:05:45.915066",
     "status": "completed"
    },
    "tags": []
   },
   "outputs": [
    {
     "name": "stdout",
     "output_type": "stream",
     "text": [
      "OrderedDict([('linear1.weight', tensor([[-2.4665,  2.4063],\n",
      "        [-0.1186, -0.3029],\n",
      "        [ 1.7668, -1.8578],\n",
      "        [-0.3360,  0.2226]])), ('linear1.bias', tensor([-1.3082,  1.1347, -0.8889, -0.4740])), ('linear2.weight', tensor([[ 2.7927,  0.8784,  2.4253, -0.6335]])), ('linear2.bias', tensor([1.3464]))])\n"
     ]
    }
   ],
   "source": [
    "state_dict = model.state_dict()\n",
    "print(state_dict)"
   ]
  },
  {
   "cell_type": "code",
   "execution_count": null,
   "id": "3525fb6c",
   "metadata": {
    "execution": {
     "iopub.execute_input": "2023-05-03T17:05:46.020720Z",
     "iopub.status.busy": "2023-05-03T17:05:46.020482Z",
     "iopub.status.idle": "2023-05-03T17:05:46.026276Z",
     "shell.execute_reply": "2023-05-03T17:05:46.025245Z"
    },
    "id": "3525fb6c",
    "papermill": {
     "duration": 0.025959,
     "end_time": "2023-05-03T17:05:46.027980",
     "exception": false,
     "start_time": "2023-05-03T17:05:46.002021",
     "status": "completed"
    },
    "tags": []
   },
   "outputs": [],
   "source": [
    "\n",
    "torch.save(state_dict, \"our_model.tar\")"
   ]
  },
  {
   "cell_type": "code",
   "execution_count": null,
   "id": "843e3805",
   "metadata": {
    "colab": {
     "base_uri": "https://localhost:8080/"
    },
    "execution": {
     "iopub.execute_input": "2023-05-03T17:05:46.106420Z",
     "iopub.status.busy": "2023-05-03T17:05:46.105513Z",
     "iopub.status.idle": "2023-05-03T17:05:46.119012Z",
     "shell.execute_reply": "2023-05-03T17:05:46.118022Z"
    },
    "id": "843e3805",
    "outputId": "c58f2788-f3a3-45d0-9077-96ed7b3ea17a",
    "papermill": {
     "duration": 0.03451,
     "end_time": "2023-05-03T17:05:46.121422",
     "exception": false,
     "start_time": "2023-05-03T17:05:46.086912",
     "status": "completed"
    },
    "tags": []
   },
   "outputs": [
    {
     "name": "stdout",
     "output_type": "stream",
     "text": [
      "Original model\n",
      " OrderedDict([('linear1.weight', tensor([[-2.4665,  2.4063],\n",
      "        [-0.1186, -0.3029],\n",
      "        [ 1.7668, -1.8578],\n",
      "        [-0.3360,  0.2226]])), ('linear1.bias', tensor([-1.3082,  1.1347, -0.8889, -0.4740])), ('linear2.weight', tensor([[ 2.7927,  0.8784,  2.4253, -0.6335]])), ('linear2.bias', tensor([1.3464]))])\n",
      "\n",
      "Loaded model\n",
      " OrderedDict([('linear1.weight', tensor([[-2.4665,  2.4063],\n",
      "        [-0.1186, -0.3029],\n",
      "        [ 1.7668, -1.8578],\n",
      "        [-0.3360,  0.2226]])), ('linear1.bias', tensor([-1.3082,  1.1347, -0.8889, -0.4740])), ('linear2.weight', tensor([[ 2.7927,  0.8784,  2.4253, -0.6335]])), ('linear2.bias', tensor([1.3464]))])\n"
     ]
    }
   ],
   "source": [
    "\n",
    "state_dict = torch.load(\"our_model.tar\")\n",
    "\n",
    "\n",
    "new_model = SimpleClassifier(num_inputs=2, num_hidden=4, num_outputs=1)\n",
    "new_model.load_state_dict(state_dict)\n",
    "\n",
    "\n",
    "print(\"Original model\\n\", model.state_dict())\n",
    "print(\"\\nLoaded model\\n\", new_model.state_dict())"
   ]
  },
  {
   "cell_type": "code",
   "execution_count": null,
   "id": "327a92fe",
   "metadata": {
    "execution": {
     "iopub.execute_input": "2023-05-03T17:05:46.233866Z",
     "iopub.status.busy": "2023-05-03T17:05:46.232847Z",
     "iopub.status.idle": "2023-05-03T17:05:46.239227Z",
     "shell.execute_reply": "2023-05-03T17:05:46.238153Z"
    },
    "id": "327a92fe",
    "papermill": {
     "duration": 0.026884,
     "end_time": "2023-05-03T17:05:46.240966",
     "exception": false,
     "start_time": "2023-05-03T17:05:46.214082",
     "status": "completed"
    },
    "tags": []
   },
   "outputs": [],
   "source": [
    "test_dataset = XORDataset(size=500)\n",
    "test_data_loader = data.DataLoader(test_dataset, batch_size=128, shuffle=False, drop_last=False)"
   ]
  },
  {
   "cell_type": "code",
   "execution_count": null,
   "id": "e477e470",
   "metadata": {
    "execution": {
     "iopub.execute_input": "2023-05-03T17:05:46.317652Z",
     "iopub.status.busy": "2023-05-03T17:05:46.316857Z",
     "iopub.status.idle": "2023-05-03T17:05:46.324307Z",
     "shell.execute_reply": "2023-05-03T17:05:46.323166Z"
    },
    "id": "e477e470",
    "papermill": {
     "duration": 0.027924,
     "end_time": "2023-05-03T17:05:46.325970",
     "exception": false,
     "start_time": "2023-05-03T17:05:46.298046",
     "status": "completed"
    },
    "tags": []
   },
   "outputs": [],
   "source": [
    "def eval_model(model, data_loader):\n",
    "    model.eval()  \n",
    "    true_preds, num_preds = 0.0, 0.0\n",
    "\n",
    "    with torch.no_grad():  \n",
    "        for data_inputs, data_labels in data_loader:\n",
    "            data_inputs, data_labels = data_inputs.to(device), data_labels.to(device)\n",
    "            preds = model(data_inputs)\n",
    "            preds = preds.squeeze(dim=1)\n",
    "            preds = torch.sigmoid(preds)  \n",
    "            pred_labels = (preds >= 0.5).long()\n",
    "\n",
    "            true_preds += (pred_labels == data_labels).sum()\n",
    "            num_preds += data_labels.shape[0]\n",
    "\n",
    "    acc = true_preds / num_preds\n",
    "    print(f\"Accuracy of the model: {100.0*acc:4.2f}%\")"
   ]
  },
  {
   "cell_type": "code",
   "execution_count": null,
   "id": "c7830b8d",
   "metadata": {
    "colab": {
     "base_uri": "https://localhost:8080/"
    },
    "execution": {
     "iopub.execute_input": "2023-05-03T17:05:46.366140Z",
     "iopub.status.busy": "2023-05-03T17:05:46.365886Z",
     "iopub.status.idle": "2023-05-03T17:05:46.376759Z",
     "shell.execute_reply": "2023-05-03T17:05:46.375637Z"
    },
    "id": "c7830b8d",
    "outputId": "69412688-9663-4664-d5c0-555faf4c1683",
    "papermill": {
     "duration": 0.031743,
     "end_time": "2023-05-03T17:05:46.379152",
     "exception": false,
     "start_time": "2023-05-03T17:05:46.347409",
     "status": "completed"
    },
    "tags": []
   },
   "outputs": [
    {
     "name": "stdout",
     "output_type": "stream",
     "text": [
      "Accuracy of the model: 100.00%\n"
     ]
    }
   ],
   "source": [
    "eval_model(model, test_data_loader)"
   ]
  },
  {
   "cell_type": "code",
   "execution_count": null,
   "id": "cd931934",
   "metadata": {
    "colab": {
     "base_uri": "https://localhost:8080/",
     "height": 397
    },
    "execution": {
     "iopub.execute_input": "2023-05-03T17:05:46.491959Z",
     "iopub.status.busy": "2023-05-03T17:05:46.491538Z",
     "iopub.status.idle": "2023-05-03T17:05:46.887916Z",
     "shell.execute_reply": "2023-05-03T17:05:46.878892Z"
    },
    "id": "cd931934",
    "outputId": "1ac31215-9090-492a-b29e-9a96de07bb33",
    "papermill": {
     "duration": 0.417745,
     "end_time": "2023-05-03T17:05:46.890198",
     "exception": false,
     "start_time": "2023-05-03T17:05:46.472453",
     "status": "completed"
    },
    "tags": []
   },
   "outputs": [
    {
     "data": {
      "application/pdf": "[encoded data removed]",
      "image/svg+xml": [
       "<?xml version=\"1.0\" encoding=\"utf-8\" standalone=\"no\"?>\n",
       "<!DOCTYPE svg PUBLIC \"-//W3C//DTD SVG 1.1//EN\"\n",
       "  \"http://www.w3.org/Graphics/SVG/1.1/DTD/svg11.dtd\">\n",
       "<svg xmlns:xlink=\"http://www.w3.org/1999/xlink\" width=\"295.435pt\" height=\"281.634375pt\" viewBox=\"0 0 295.435 281.634375\" xmlns=\"http://www.w3.org/2000/svg\" version=\"1.1\">\n",
       " <metadata>\n",
       "  <rdf:RDF xmlns:dc=\"http://purl.org/dc/elements/1.1/\" xmlns:cc=\"http://creativecommons.org/ns#\" xmlns:rdf=\"http://www.w3.org/1999/02/22-rdf-syntax-ns#\">\n",
       "   <cc:Work>\n",
       "    <dc:type rdf:resource=\"http://purl.org/dc/dcmitype/StillImage\"/>\n",
       "    <dc:date>2023-05-24T15:46:44.581947</dc:date>\n",
       "    <dc:format>image/svg+xml</dc:format>\n",
       "    <dc:creator>\n",
       "     <cc:Agent>\n",
       "      <dc:title>Matplotlib v3.7.1, https://matplotlib.org/</dc:title>\n",
       "     </cc:Agent>\n",
       "    </dc:creator>\n",
       "   </cc:Work>\n",
       "  </rdf:RDF>\n",
       " </metadata>\n",
       " <defs>\n",
       "  <style type=\"text/css\">*{stroke-linejoin: round; stroke-linecap: butt}</style>\n",
       " </defs>\n",
       " <g id=\"figure_1\">\n",
       "  <g id=\"patch_1\">\n",
       "   <path d=\"M 0 281.634375 \n",
       "L 295.435 281.634375 \n",
       "L 295.435 0 \n",
       "L 0 0 \n",
       "z\n",
       "\" style=\"fill: #ffffff\"/>\n",
       "  </g>\n",
       "  <g id=\"axes_1\">\n",
       "   <g id=\"patch_2\">\n",
       "    <path d=\"M 58.523438 244.078125 \n",
       "L 280.283437 244.078125 \n",
       "L 280.283437 22.318125 \n",
       "L 58.523438 22.318125 \n",
       "z\n",
       "\" style=\"fill: #ffffff\"/>\n",
       "   </g>\n",
       "   <g clip-path=\"url(#pfafe046133)\">\n",
       "    <image xlink:href=\"data:image/png;base64,\n",
       "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\" id=\"image0fdf29116f\" transform=\"scale(1 -1) translate(0 -221.76)\" x=\"58.523438\" y=\"-22.318125\" width=\"221.76\" height=\"221.76\"/>\n",
       "   </g>\n",
       "   <g id=\"PathCollection_1\">\n",
       "    <defs>\n",
       "     <path id=\"m51be257fd7\" d=\"M 0 3 \n",
       "C 0.795609 3 1.55874 2.683901 2.12132 2.12132 \n",
       "C 2.683901 1.55874 3 0.795609 3 0 \n",
       "C 3 -0.795609 2.683901 -1.55874 2.12132 -2.12132 \n",
       "C 1.55874 -2.683901 0.795609 -3 0 -3 \n",
       "C -0.795609 -3 -1.55874 -2.683901 -2.12132 -2.12132 \n",
       "C -2.683901 -1.55874 -3 -0.795609 -3 0 \n",
       "C -3 0.795609 -2.683901 1.55874 -2.12132 2.12132 \n",
       "C -1.55874 2.683901 -0.795609 3 0 3 \n",
       "z\n",
       "\" style=\"stroke: #333333\"/>\n",
       "    </defs>\n",
       "    <g clip-path=\"url(#pfafe046133)\">\n",
       "     <use xlink:href=\"#m51be257fd7\" x=\"233.705079\" y=\"67.897023\" style=\"fill: #1f77b4; stroke: #333333\"/>\n",
       "     <use xlink:href=\"#m51be257fd7\" x=\"226.212392\" y=\"85.367916\" style=\"fill: #1f77b4; stroke: #333333\"/>\n",
       "     <use xlink:href=\"#m51be257fd7\" x=\"227.96341\" y=\"75.19275\" style=\"fill: #1f77b4; stroke: #333333\"/>\n",
       "     <use xlink:href=\"#m51be257fd7\" x=\"231.438257\" y=\"70.420749\" style=\"fill: #1f77b4; stroke: #333333\"/>\n",
       "     <use xlink:href=\"#m51be257fd7\" x=\"124.119094\" y=\"203.907392\" style=\"fill: #1f77b4; stroke: #333333\"/>\n",
       "     <use xlink:href=\"#m51be257fd7\" x=\"227.481233\" y=\"91.787903\" style=\"fill: #1f77b4; stroke: #333333\"/>\n",
       "     <use xlink:href=\"#m51be257fd7\" x=\"221.670157\" y=\"85.112612\" style=\"fill: #1f77b4; stroke: #333333\"/>\n",
       "     <use xlink:href=\"#m51be257fd7\" x=\"234.245097\" y=\"65.275182\" style=\"fill: #1f77b4; stroke: #333333\"/>\n",
       "     <use xlink:href=\"#m51be257fd7\" x=\"102.348568\" y=\"186.694317\" style=\"fill: #1f77b4; stroke: #333333\"/>\n",
       "     <use xlink:href=\"#m51be257fd7\" x=\"90.586176\" y=\"191.677351\" style=\"fill: #1f77b4; stroke: #333333\"/>\n",
       "     <use xlink:href=\"#m51be257fd7\" x=\"222.792339\" y=\"67.725204\" style=\"fill: #1f77b4; stroke: #333333\"/>\n",
       "     <use xlink:href=\"#m51be257fd7\" x=\"112.702309\" y=\"188.698472\" style=\"fill: #1f77b4; stroke: #333333\"/>\n",
       "     <use xlink:href=\"#m51be257fd7\" x=\"119.535165\" y=\"193.673412\" style=\"fill: #1f77b4; stroke: #333333\"/>\n",
       "     <use xlink:href=\"#m51be257fd7\" x=\"230.149258\" y=\"94.737033\" style=\"fill: #1f77b4; stroke: #333333\"/>\n",
       "     <use xlink:href=\"#m51be257fd7\" x=\"120.13587\" y=\"171.389133\" style=\"fill: #1f77b4; stroke: #333333\"/>\n",
       "     <use xlink:href=\"#m51be257fd7\" x=\"96.695245\" y=\"178.506281\" style=\"fill: #1f77b4; stroke: #333333\"/>\n",
       "     <use xlink:href=\"#m51be257fd7\" x=\"111.816587\" y=\"185.966314\" style=\"fill: #1f77b4; stroke: #333333\"/>\n",
       "     <use xlink:href=\"#m51be257fd7\" x=\"222.838053\" y=\"70.37631\" style=\"fill: #1f77b4; stroke: #333333\"/>\n",
       "     <use xlink:href=\"#m51be257fd7\" x=\"104.689242\" y=\"177.024778\" style=\"fill: #1f77b4; stroke: #333333\"/>\n",
       "     <use xlink:href=\"#m51be257fd7\" x=\"223.193424\" y=\"54.344446\" style=\"fill: #1f77b4; stroke: #333333\"/>\n",
       "     <use xlink:href=\"#m51be257fd7\" x=\"233.07539\" y=\"81.58753\" style=\"fill: #1f77b4; stroke: #333333\"/>\n",
       "     <use xlink:href=\"#m51be257fd7\" x=\"112.324755\" y=\"203.222829\" style=\"fill: #1f77b4; stroke: #333333\"/>\n",
       "     <use xlink:href=\"#m51be257fd7\" x=\"221.667963\" y=\"86.259241\" style=\"fill: #1f77b4; stroke: #333333\"/>\n",
       "     <use xlink:href=\"#m51be257fd7\" x=\"113.050577\" y=\"182.529327\" style=\"fill: #1f77b4; stroke: #333333\"/>\n",
       "     <use xlink:href=\"#m51be257fd7\" x=\"217.615961\" y=\"79.463733\" style=\"fill: #1f77b4; stroke: #333333\"/>\n",
       "     <use xlink:href=\"#m51be257fd7\" x=\"221.469912\" y=\"73.216194\" style=\"fill: #1f77b4; stroke: #333333\"/>\n",
       "     <use xlink:href=\"#m51be257fd7\" x=\"115.808032\" y=\"196.323356\" style=\"fill: #1f77b4; stroke: #333333\"/>\n",
       "     <use xlink:href=\"#m51be257fd7\" x=\"120.665925\" y=\"194.220682\" style=\"fill: #1f77b4; stroke: #333333\"/>\n",
       "     <use xlink:href=\"#m51be257fd7\" x=\"229.371701\" y=\"74.894091\" style=\"fill: #1f77b4; stroke: #333333\"/>\n",
       "     <use xlink:href=\"#m51be257fd7\" x=\"99.268331\" y=\"189.007956\" style=\"fill: #1f77b4; stroke: #333333\"/>\n",
       "     <use xlink:href=\"#m51be257fd7\" x=\"221.801365\" y=\"67.857938\" style=\"fill: #1f77b4; stroke: #333333\"/>\n",
       "     <use xlink:href=\"#m51be257fd7\" x=\"121.917011\" y=\"194.615643\" style=\"fill: #1f77b4; stroke: #333333\"/>\n",
       "     <use xlink:href=\"#m51be257fd7\" x=\"217.251167\" y=\"91.646398\" style=\"fill: #1f77b4; stroke: #333333\"/>\n",
       "     <use xlink:href=\"#m51be257fd7\" x=\"122.494536\" y=\"175.209406\" style=\"fill: #1f77b4; stroke: #333333\"/>\n",
       "     <use xlink:href=\"#m51be257fd7\" x=\"241.047491\" y=\"76.981083\" style=\"fill: #1f77b4; stroke: #333333\"/>\n",
       "     <use xlink:href=\"#m51be257fd7\" x=\"216.193699\" y=\"87.245721\" style=\"fill: #1f77b4; stroke: #333333\"/>\n",
       "     <use xlink:href=\"#m51be257fd7\" x=\"220.312418\" y=\"71.656149\" style=\"fill: #1f77b4; stroke: #333333\"/>\n",
       "     <use xlink:href=\"#m51be257fd7\" x=\"116.177905\" y=\"187.699983\" style=\"fill: #1f77b4; stroke: #333333\"/>\n",
       "     <use xlink:href=\"#m51be257fd7\" x=\"90.672275\" y=\"192.880306\" style=\"fill: #1f77b4; stroke: #333333\"/>\n",
       "     <use xlink:href=\"#m51be257fd7\" x=\"232.108142\" y=\"64.756444\" style=\"fill: #1f77b4; stroke: #333333\"/>\n",
       "     <use xlink:href=\"#m51be257fd7\" x=\"230.343694\" y=\"73.297604\" style=\"fill: #1f77b4; stroke: #333333\"/>\n",
       "     <use xlink:href=\"#m51be257fd7\" x=\"121.087631\" y=\"191.852087\" style=\"fill: #1f77b4; stroke: #333333\"/>\n",
       "     <use xlink:href=\"#m51be257fd7\" x=\"218.362133\" y=\"91.973079\" style=\"fill: #1f77b4; stroke: #333333\"/>\n",
       "     <use xlink:href=\"#m51be257fd7\" x=\"220.190754\" y=\"76.795886\" style=\"fill: #1f77b4; stroke: #333333\"/>\n",
       "     <use xlink:href=\"#m51be257fd7\" x=\"208.256626\" y=\"72.840105\" style=\"fill: #1f77b4; stroke: #333333\"/>\n",
       "     <use xlink:href=\"#m51be257fd7\" x=\"101.664127\" y=\"186.085632\" style=\"fill: #1f77b4; stroke: #333333\"/>\n",
       "     <use xlink:href=\"#m51be257fd7\" x=\"97.760055\" y=\"202.354535\" style=\"fill: #1f77b4; stroke: #333333\"/>\n",
       "     <use xlink:href=\"#m51be257fd7\" x=\"108.31006\" y=\"184.952955\" style=\"fill: #1f77b4; stroke: #333333\"/>\n",
       "     <use xlink:href=\"#m51be257fd7\" x=\"227.82523\" y=\"70.492046\" style=\"fill: #1f77b4; stroke: #333333\"/>\n",
       "     <use xlink:href=\"#m51be257fd7\" x=\"102.840062\" y=\"185.256954\" style=\"fill: #1f77b4; stroke: #333333\"/>\n",
       "     <use xlink:href=\"#m51be257fd7\" x=\"230.195865\" y=\"80.058315\" style=\"fill: #1f77b4; stroke: #333333\"/>\n",
       "     <use xlink:href=\"#m51be257fd7\" x=\"122.873739\" y=\"178.280765\" style=\"fill: #1f77b4; stroke: #333333\"/>\n",
       "     <use xlink:href=\"#m51be257fd7\" x=\"219.500534\" y=\"74.45519\" style=\"fill: #1f77b4; stroke: #333333\"/>\n",
       "     <use xlink:href=\"#m51be257fd7\" x=\"232.047339\" y=\"62.75796\" style=\"fill: #1f77b4; stroke: #333333\"/>\n",
       "     <use xlink:href=\"#m51be257fd7\" x=\"233.445452\" y=\"84.82115\" style=\"fill: #1f77b4; stroke: #333333\"/>\n",
       "     <use xlink:href=\"#m51be257fd7\" x=\"234.202787\" y=\"75.013\" style=\"fill: #1f77b4; stroke: #333333\"/>\n",
       "     <use xlink:href=\"#m51be257fd7\" x=\"108.285315\" y=\"191.245384\" style=\"fill: #1f77b4; stroke: #333333\"/>\n",
       "     <use xlink:href=\"#m51be257fd7\" x=\"112.489179\" y=\"188.792296\" style=\"fill: #1f77b4; stroke: #333333\"/>\n",
       "     <use xlink:href=\"#m51be257fd7\" x=\"224.369581\" y=\"68.220836\" style=\"fill: #1f77b4; stroke: #333333\"/>\n",
       "     <use xlink:href=\"#m51be257fd7\" x=\"228.655924\" y=\"87.149455\" style=\"fill: #1f77b4; stroke: #333333\"/>\n",
       "     <use xlink:href=\"#m51be257fd7\" x=\"123.331239\" y=\"175.50714\" style=\"fill: #1f77b4; stroke: #333333\"/>\n",
       "     <use xlink:href=\"#m51be257fd7\" x=\"90.338189\" y=\"166.948804\" style=\"fill: #1f77b4; stroke: #333333\"/>\n",
       "     <use xlink:href=\"#m51be257fd7\" x=\"126.210126\" y=\"183.474004\" style=\"fill: #1f77b4; stroke: #333333\"/>\n",
       "     <use xlink:href=\"#m51be257fd7\" x=\"91.62258\" y=\"193.172181\" style=\"fill: #1f77b4; stroke: #333333\"/>\n",
       "     <use xlink:href=\"#m51be257fd7\" x=\"208.980862\" y=\"78.867268\" style=\"fill: #1f77b4; stroke: #333333\"/>\n",
       "     <use xlink:href=\"#m51be257fd7\" x=\"231.020293\" y=\"63.946\" style=\"fill: #1f77b4; stroke: #333333\"/>\n",
       "     <use xlink:href=\"#m51be257fd7\" x=\"231.283423\" y=\"88.973007\" style=\"fill: #1f77b4; stroke: #333333\"/>\n",
       "     <use xlink:href=\"#m51be257fd7\" x=\"221.481412\" y=\"82.536385\" style=\"fill: #1f77b4; stroke: #333333\"/>\n",
       "     <use xlink:href=\"#m51be257fd7\" x=\"88.759694\" y=\"180.882125\" style=\"fill: #1f77b4; stroke: #333333\"/>\n",
       "     <use xlink:href=\"#m51be257fd7\" x=\"111.631868\" y=\"182.48348\" style=\"fill: #1f77b4; stroke: #333333\"/>\n",
       "     <use xlink:href=\"#m51be257fd7\" x=\"230.876588\" y=\"75.521295\" style=\"fill: #1f77b4; stroke: #333333\"/>\n",
       "     <use xlink:href=\"#m51be257fd7\" x=\"212.749207\" y=\"57.741942\" style=\"fill: #1f77b4; stroke: #333333\"/>\n",
       "     <use xlink:href=\"#m51be257fd7\" x=\"114.213664\" y=\"183.821672\" style=\"fill: #1f77b4; stroke: #333333\"/>\n",
       "     <use xlink:href=\"#m51be257fd7\" x=\"213.019296\" y=\"88.254467\" style=\"fill: #1f77b4; stroke: #333333\"/>\n",
       "     <use xlink:href=\"#m51be257fd7\" x=\"234.71058\" y=\"65.020988\" style=\"fill: #1f77b4; stroke: #333333\"/>\n",
       "     <use xlink:href=\"#m51be257fd7\" x=\"250.772699\" y=\"65.285399\" style=\"fill: #1f77b4; stroke: #333333\"/>\n",
       "     <use xlink:href=\"#m51be257fd7\" x=\"232.842715\" y=\"62.718557\" style=\"fill: #1f77b4; stroke: #333333\"/>\n",
       "     <use xlink:href=\"#m51be257fd7\" x=\"119.849495\" y=\"174.885181\" style=\"fill: #1f77b4; stroke: #333333\"/>\n",
       "     <use xlink:href=\"#m51be257fd7\" x=\"215.459886\" y=\"70.752704\" style=\"fill: #1f77b4; stroke: #333333\"/>\n",
       "     <use xlink:href=\"#m51be257fd7\" x=\"226.052415\" y=\"46.334806\" style=\"fill: #1f77b4; stroke: #333333\"/>\n",
       "     <use xlink:href=\"#m51be257fd7\" x=\"104.254345\" y=\"193.92796\" style=\"fill: #1f77b4; stroke: #333333\"/>\n",
       "     <use xlink:href=\"#m51be257fd7\" x=\"96.622351\" y=\"201.522658\" style=\"fill: #1f77b4; stroke: #333333\"/>\n",
       "     <use xlink:href=\"#m51be257fd7\" x=\"120.3149\" y=\"187.135306\" style=\"fill: #1f77b4; stroke: #333333\"/>\n",
       "     <use xlink:href=\"#m51be257fd7\" x=\"105.898042\" y=\"192.175141\" style=\"fill: #1f77b4; stroke: #333333\"/>\n",
       "     <use xlink:href=\"#m51be257fd7\" x=\"105.660834\" y=\"179.683422\" style=\"fill: #1f77b4; stroke: #333333\"/>\n",
       "     <use xlink:href=\"#m51be257fd7\" x=\"110.17857\" y=\"188.854109\" style=\"fill: #1f77b4; stroke: #333333\"/>\n",
       "     <use xlink:href=\"#m51be257fd7\" x=\"140.287791\" y=\"194.329628\" style=\"fill: #1f77b4; stroke: #333333\"/>\n",
       "     <use xlink:href=\"#m51be257fd7\" x=\"90.926866\" y=\"211.393115\" style=\"fill: #1f77b4; stroke: #333333\"/>\n",
       "     <use xlink:href=\"#m51be257fd7\" x=\"136.62079\" y=\"189.38522\" style=\"fill: #1f77b4; stroke: #333333\"/>\n",
       "     <use xlink:href=\"#m51be257fd7\" x=\"199.736707\" y=\"74.641364\" style=\"fill: #1f77b4; stroke: #333333\"/>\n",
       "     <use xlink:href=\"#m51be257fd7\" x=\"214.618803\" y=\"83.955687\" style=\"fill: #1f77b4; stroke: #333333\"/>\n",
       "     <use xlink:href=\"#m51be257fd7\" x=\"228.556419\" y=\"88.954812\" style=\"fill: #1f77b4; stroke: #333333\"/>\n",
       "     <use xlink:href=\"#m51be257fd7\" x=\"113.638435\" y=\"208.750487\" style=\"fill: #1f77b4; stroke: #333333\"/>\n",
       "     <use xlink:href=\"#m51be257fd7\" x=\"229.399868\" y=\"100.972868\" style=\"fill: #1f77b4; stroke: #333333\"/>\n",
       "     <use xlink:href=\"#m51be257fd7\" x=\"223.490411\" y=\"71.472023\" style=\"fill: #1f77b4; stroke: #333333\"/>\n",
       "     <use xlink:href=\"#m51be257fd7\" x=\"208.412855\" y=\"72.334361\" style=\"fill: #1f77b4; stroke: #333333\"/>\n",
       "    </g>\n",
       "   </g>\n",
       "   <g id=\"PathCollection_2\">\n",
       "    <defs>\n",
       "     <path id=\"ma89ec0dae2\" d=\"M 0 3 \n",
       "C 0.795609 3 1.55874 2.683901 2.12132 2.12132 \n",
       "C 2.683901 1.55874 3 0.795609 3 0 \n",
       "C 3 -0.795609 2.683901 -1.55874 2.12132 -2.12132 \n",
       "C 1.55874 -2.683901 0.795609 -3 0 -3 \n",
       "C -0.795609 -3 -1.55874 -2.683901 -2.12132 -2.12132 \n",
       "C -2.683901 -1.55874 -3 -0.795609 -3 0 \n",
       "C -3 0.795609 -2.683901 1.55874 -2.12132 2.12132 \n",
       "C -1.55874 2.683901 -0.795609 3 0 3 \n",
       "z\n",
       "\" style=\"stroke: #333333\"/>\n",
       "    </defs>\n",
       "    <g clip-path=\"url(#pfafe046133)\">\n",
       "     <use xlink:href=\"#ma89ec0dae2\" x=\"100.474108\" y=\"57.064312\" style=\"fill: #ff7f0e; stroke: #333333\"/>\n",
       "     <use xlink:href=\"#ma89ec0dae2\" x=\"88.147369\" y=\"94.502184\" style=\"fill: #ff7f0e; stroke: #333333\"/>\n",
       "     <use xlink:href=\"#ma89ec0dae2\" x=\"107.069708\" y=\"99.473651\" style=\"fill: #ff7f0e; stroke: #333333\"/>\n",
       "     <use xlink:href=\"#ma89ec0dae2\" x=\"245.435843\" y=\"216.138284\" style=\"fill: #ff7f0e; stroke: #333333\"/>\n",
       "     <use xlink:href=\"#ma89ec0dae2\" x=\"216.83313\" y=\"199.965275\" style=\"fill: #ff7f0e; stroke: #333333\"/>\n",
       "     <use xlink:href=\"#ma89ec0dae2\" x=\"99.532539\" y=\"81.308519\" style=\"fill: #ff7f0e; stroke: #333333\"/>\n",
       "     <use xlink:href=\"#ma89ec0dae2\" x=\"215.674023\" y=\"183.787668\" style=\"fill: #ff7f0e; stroke: #333333\"/>\n",
       "     <use xlink:href=\"#ma89ec0dae2\" x=\"133.530959\" y=\"70.563846\" style=\"fill: #ff7f0e; stroke: #333333\"/>\n",
       "     <use xlink:href=\"#ma89ec0dae2\" x=\"101.714632\" y=\"72.884213\" style=\"fill: #ff7f0e; stroke: #333333\"/>\n",
       "     <use xlink:href=\"#ma89ec0dae2\" x=\"129.642269\" y=\"64.682609\" style=\"fill: #ff7f0e; stroke: #333333\"/>\n",
       "     <use xlink:href=\"#ma89ec0dae2\" x=\"127.888562\" y=\"78.455542\" style=\"fill: #ff7f0e; stroke: #333333\"/>\n",
       "     <use xlink:href=\"#ma89ec0dae2\" x=\"230.847403\" y=\"174.127165\" style=\"fill: #ff7f0e; stroke: #333333\"/>\n",
       "     <use xlink:href=\"#ma89ec0dae2\" x=\"220.05911\" y=\"205.225026\" style=\"fill: #ff7f0e; stroke: #333333\"/>\n",
       "     <use xlink:href=\"#ma89ec0dae2\" x=\"244.133375\" y=\"192.256002\" style=\"fill: #ff7f0e; stroke: #333333\"/>\n",
       "     <use xlink:href=\"#ma89ec0dae2\" x=\"244.165256\" y=\"181.690929\" style=\"fill: #ff7f0e; stroke: #333333\"/>\n",
       "     <use xlink:href=\"#ma89ec0dae2\" x=\"231.047535\" y=\"186.54533\" style=\"fill: #ff7f0e; stroke: #333333\"/>\n",
       "     <use xlink:href=\"#ma89ec0dae2\" x=\"228.567178\" y=\"209.340264\" style=\"fill: #ff7f0e; stroke: #333333\"/>\n",
       "     <use xlink:href=\"#ma89ec0dae2\" x=\"221.527225\" y=\"190.706259\" style=\"fill: #ff7f0e; stroke: #333333\"/>\n",
       "     <use xlink:href=\"#ma89ec0dae2\" x=\"220.100528\" y=\"190.145978\" style=\"fill: #ff7f0e; stroke: #333333\"/>\n",
       "     <use xlink:href=\"#ma89ec0dae2\" x=\"133.198238\" y=\"76.804042\" style=\"fill: #ff7f0e; stroke: #333333\"/>\n",
       "     <use xlink:href=\"#ma89ec0dae2\" x=\"239.964983\" y=\"192.932841\" style=\"fill: #ff7f0e; stroke: #333333\"/>\n",
       "     <use xlink:href=\"#ma89ec0dae2\" x=\"220.951743\" y=\"193.559069\" style=\"fill: #ff7f0e; stroke: #333333\"/>\n",
       "     <use xlink:href=\"#ma89ec0dae2\" x=\"220.764372\" y=\"189.875744\" style=\"fill: #ff7f0e; stroke: #333333\"/>\n",
       "     <use xlink:href=\"#ma89ec0dae2\" x=\"242.956834\" y=\"193.479684\" style=\"fill: #ff7f0e; stroke: #333333\"/>\n",
       "     <use xlink:href=\"#ma89ec0dae2\" x=\"217.70581\" y=\"178.198469\" style=\"fill: #ff7f0e; stroke: #333333\"/>\n",
       "     <use xlink:href=\"#ma89ec0dae2\" x=\"234.844477\" y=\"194.282241\" style=\"fill: #ff7f0e; stroke: #333333\"/>\n",
       "     <use xlink:href=\"#ma89ec0dae2\" x=\"124.887933\" y=\"69.693498\" style=\"fill: #ff7f0e; stroke: #333333\"/>\n",
       "     <use xlink:href=\"#ma89ec0dae2\" x=\"118.840484\" y=\"88.56943\" style=\"fill: #ff7f0e; stroke: #333333\"/>\n",
       "     <use xlink:href=\"#ma89ec0dae2\" x=\"241.903881\" y=\"190.440184\" style=\"fill: #ff7f0e; stroke: #333333\"/>\n",
       "     <use xlink:href=\"#ma89ec0dae2\" x=\"107.643968\" y=\"68.274594\" style=\"fill: #ff7f0e; stroke: #333333\"/>\n",
       "     <use xlink:href=\"#ma89ec0dae2\" x=\"230.249054\" y=\"181.766288\" style=\"fill: #ff7f0e; stroke: #333333\"/>\n",
       "     <use xlink:href=\"#ma89ec0dae2\" x=\"122.817139\" y=\"73.939466\" style=\"fill: #ff7f0e; stroke: #333333\"/>\n",
       "     <use xlink:href=\"#ma89ec0dae2\" x=\"104.111896\" y=\"73.63248\" style=\"fill: #ff7f0e; stroke: #333333\"/>\n",
       "     <use xlink:href=\"#ma89ec0dae2\" x=\"114.370498\" y=\"47.900429\" style=\"fill: #ff7f0e; stroke: #333333\"/>\n",
       "     <use xlink:href=\"#ma89ec0dae2\" x=\"212.400816\" y=\"207.079377\" style=\"fill: #ff7f0e; stroke: #333333\"/>\n",
       "     <use xlink:href=\"#ma89ec0dae2\" x=\"226.879791\" y=\"189.689753\" style=\"fill: #ff7f0e; stroke: #333333\"/>\n",
       "     <use xlink:href=\"#ma89ec0dae2\" x=\"126.150191\" y=\"72.542939\" style=\"fill: #ff7f0e; stroke: #333333\"/>\n",
       "     <use xlink:href=\"#ma89ec0dae2\" x=\"125.328031\" y=\"76.54694\" style=\"fill: #ff7f0e; stroke: #333333\"/>\n",
       "     <use xlink:href=\"#ma89ec0dae2\" x=\"118.231558\" y=\"92.041859\" style=\"fill: #ff7f0e; stroke: #333333\"/>\n",
       "     <use xlink:href=\"#ma89ec0dae2\" x=\"239.549028\" y=\"214.199734\" style=\"fill: #ff7f0e; stroke: #333333\"/>\n",
       "     <use xlink:href=\"#ma89ec0dae2\" x=\"235.67529\" y=\"185.50981\" style=\"fill: #ff7f0e; stroke: #333333\"/>\n",
       "     <use xlink:href=\"#ma89ec0dae2\" x=\"130.263055\" y=\"63.695772\" style=\"fill: #ff7f0e; stroke: #333333\"/>\n",
       "     <use xlink:href=\"#ma89ec0dae2\" x=\"221.117991\" y=\"193.462767\" style=\"fill: #ff7f0e; stroke: #333333\"/>\n",
       "     <use xlink:href=\"#ma89ec0dae2\" x=\"100.733294\" y=\"63.559416\" style=\"fill: #ff7f0e; stroke: #333333\"/>\n",
       "     <use xlink:href=\"#ma89ec0dae2\" x=\"131.745642\" y=\"78.973956\" style=\"fill: #ff7f0e; stroke: #333333\"/>\n",
       "     <use xlink:href=\"#ma89ec0dae2\" x=\"232.585838\" y=\"194.274733\" style=\"fill: #ff7f0e; stroke: #333333\"/>\n",
       "     <use xlink:href=\"#ma89ec0dae2\" x=\"115.456273\" y=\"90.146468\" style=\"fill: #ff7f0e; stroke: #333333\"/>\n",
       "     <use xlink:href=\"#ma89ec0dae2\" x=\"93.750823\" y=\"96.74364\" style=\"fill: #ff7f0e; stroke: #333333\"/>\n",
       "     <use xlink:href=\"#ma89ec0dae2\" x=\"92.568078\" y=\"56.067945\" style=\"fill: #ff7f0e; stroke: #333333\"/>\n",
       "     <use xlink:href=\"#ma89ec0dae2\" x=\"220.59661\" y=\"189.717963\" style=\"fill: #ff7f0e; stroke: #333333\"/>\n",
       "     <use xlink:href=\"#ma89ec0dae2\" x=\"140.037256\" y=\"71.449513\" style=\"fill: #ff7f0e; stroke: #333333\"/>\n",
       "     <use xlink:href=\"#ma89ec0dae2\" x=\"219.599668\" y=\"186.01346\" style=\"fill: #ff7f0e; stroke: #333333\"/>\n",
       "     <use xlink:href=\"#ma89ec0dae2\" x=\"122.433199\" y=\"98.024636\" style=\"fill: #ff7f0e; stroke: #333333\"/>\n",
       "     <use xlink:href=\"#ma89ec0dae2\" x=\"230.919731\" y=\"200.787165\" style=\"fill: #ff7f0e; stroke: #333333\"/>\n",
       "     <use xlink:href=\"#ma89ec0dae2\" x=\"223.200112\" y=\"172.438968\" style=\"fill: #ff7f0e; stroke: #333333\"/>\n",
       "     <use xlink:href=\"#ma89ec0dae2\" x=\"115.602869\" y=\"61.134495\" style=\"fill: #ff7f0e; stroke: #333333\"/>\n",
       "     <use xlink:href=\"#ma89ec0dae2\" x=\"227.164347\" y=\"187.579067\" style=\"fill: #ff7f0e; stroke: #333333\"/>\n",
       "     <use xlink:href=\"#ma89ec0dae2\" x=\"104.154372\" y=\"81.500814\" style=\"fill: #ff7f0e; stroke: #333333\"/>\n",
       "     <use xlink:href=\"#ma89ec0dae2\" x=\"240.118919\" y=\"195.324193\" style=\"fill: #ff7f0e; stroke: #333333\"/>\n",
       "     <use xlink:href=\"#ma89ec0dae2\" x=\"114.293999\" y=\"62.616978\" style=\"fill: #ff7f0e; stroke: #333333\"/>\n",
       "     <use xlink:href=\"#ma89ec0dae2\" x=\"135.650687\" y=\"68.473986\" style=\"fill: #ff7f0e; stroke: #333333\"/>\n",
       "     <use xlink:href=\"#ma89ec0dae2\" x=\"114.290438\" y=\"63.798211\" style=\"fill: #ff7f0e; stroke: #333333\"/>\n",
       "     <use xlink:href=\"#ma89ec0dae2\" x=\"108.123094\" y=\"80.812318\" style=\"fill: #ff7f0e; stroke: #333333\"/>\n",
       "     <use xlink:href=\"#ma89ec0dae2\" x=\"224.148115\" y=\"204.730869\" style=\"fill: #ff7f0e; stroke: #333333\"/>\n",
       "     <use xlink:href=\"#ma89ec0dae2\" x=\"99.046968\" y=\"65.746269\" style=\"fill: #ff7f0e; stroke: #333333\"/>\n",
       "     <use xlink:href=\"#ma89ec0dae2\" x=\"216.671891\" y=\"192.133217\" style=\"fill: #ff7f0e; stroke: #333333\"/>\n",
       "     <use xlink:href=\"#ma89ec0dae2\" x=\"125.715211\" y=\"98.827241\" style=\"fill: #ff7f0e; stroke: #333333\"/>\n",
       "     <use xlink:href=\"#ma89ec0dae2\" x=\"98.814111\" y=\"66.034604\" style=\"fill: #ff7f0e; stroke: #333333\"/>\n",
       "     <use xlink:href=\"#ma89ec0dae2\" x=\"240.869525\" y=\"185.875456\" style=\"fill: #ff7f0e; stroke: #333333\"/>\n",
       "     <use xlink:href=\"#ma89ec0dae2\" x=\"110.500687\" y=\"58.972425\" style=\"fill: #ff7f0e; stroke: #333333\"/>\n",
       "     <use xlink:href=\"#ma89ec0dae2\" x=\"88.369039\" y=\"95.036334\" style=\"fill: #ff7f0e; stroke: #333333\"/>\n",
       "     <use xlink:href=\"#ma89ec0dae2\" x=\"111.211321\" y=\"79.015811\" style=\"fill: #ff7f0e; stroke: #333333\"/>\n",
       "     <use xlink:href=\"#ma89ec0dae2\" x=\"213.646955\" y=\"197.944744\" style=\"fill: #ff7f0e; stroke: #333333\"/>\n",
       "     <use xlink:href=\"#ma89ec0dae2\" x=\"243.410989\" y=\"186.832418\" style=\"fill: #ff7f0e; stroke: #333333\"/>\n",
       "     <use xlink:href=\"#ma89ec0dae2\" x=\"112.693516\" y=\"81.636595\" style=\"fill: #ff7f0e; stroke: #333333\"/>\n",
       "     <use xlink:href=\"#ma89ec0dae2\" x=\"224.18155\" y=\"185.445285\" style=\"fill: #ff7f0e; stroke: #333333\"/>\n",
       "     <use xlink:href=\"#ma89ec0dae2\" x=\"131.430917\" y=\"88.869378\" style=\"fill: #ff7f0e; stroke: #333333\"/>\n",
       "     <use xlink:href=\"#ma89ec0dae2\" x=\"120.166116\" y=\"94.044923\" style=\"fill: #ff7f0e; stroke: #333333\"/>\n",
       "     <use xlink:href=\"#ma89ec0dae2\" x=\"233.825798\" y=\"191.493589\" style=\"fill: #ff7f0e; stroke: #333333\"/>\n",
       "     <use xlink:href=\"#ma89ec0dae2\" x=\"243.749024\" y=\"185.142842\" style=\"fill: #ff7f0e; stroke: #333333\"/>\n",
       "     <use xlink:href=\"#ma89ec0dae2\" x=\"106.497015\" y=\"70.314252\" style=\"fill: #ff7f0e; stroke: #333333\"/>\n",
       "     <use xlink:href=\"#ma89ec0dae2\" x=\"102.556665\" y=\"71.82703\" style=\"fill: #ff7f0e; stroke: #333333\"/>\n",
       "     <use xlink:href=\"#ma89ec0dae2\" x=\"236.225552\" y=\"186.648201\" style=\"fill: #ff7f0e; stroke: #333333\"/>\n",
       "     <use xlink:href=\"#ma89ec0dae2\" x=\"124.374252\" y=\"83.753479\" style=\"fill: #ff7f0e; stroke: #333333\"/>\n",
       "     <use xlink:href=\"#ma89ec0dae2\" x=\"224.740668\" y=\"179.809851\" style=\"fill: #ff7f0e; stroke: #333333\"/>\n",
       "     <use xlink:href=\"#ma89ec0dae2\" x=\"233.774671\" y=\"178.235319\" style=\"fill: #ff7f0e; stroke: #333333\"/>\n",
       "     <use xlink:href=\"#ma89ec0dae2\" x=\"235.35264\" y=\"182.759134\" style=\"fill: #ff7f0e; stroke: #333333\"/>\n",
       "     <use xlink:href=\"#ma89ec0dae2\" x=\"100.543367\" y=\"94.780025\" style=\"fill: #ff7f0e; stroke: #333333\"/>\n",
       "     <use xlink:href=\"#ma89ec0dae2\" x=\"119.090977\" y=\"70.060758\" style=\"fill: #ff7f0e; stroke: #333333\"/>\n",
       "     <use xlink:href=\"#ma89ec0dae2\" x=\"100.705538\" y=\"73.521833\" style=\"fill: #ff7f0e; stroke: #333333\"/>\n",
       "     <use xlink:href=\"#ma89ec0dae2\" x=\"112.117653\" y=\"79.803678\" style=\"fill: #ff7f0e; stroke: #333333\"/>\n",
       "     <use xlink:href=\"#ma89ec0dae2\" x=\"236.79851\" y=\"199.23064\" style=\"fill: #ff7f0e; stroke: #333333\"/>\n",
       "     <use xlink:href=\"#ma89ec0dae2\" x=\"216.768547\" y=\"195.009994\" style=\"fill: #ff7f0e; stroke: #333333\"/>\n",
       "     <use xlink:href=\"#ma89ec0dae2\" x=\"218.939248\" y=\"215.276016\" style=\"fill: #ff7f0e; stroke: #333333\"/>\n",
       "     <use xlink:href=\"#ma89ec0dae2\" x=\"115.345916\" y=\"67.300102\" style=\"fill: #ff7f0e; stroke: #333333\"/>\n",
       "     <use xlink:href=\"#ma89ec0dae2\" x=\"222.15965\" y=\"197.528703\" style=\"fill: #ff7f0e; stroke: #333333\"/>\n",
       "     <use xlink:href=\"#ma89ec0dae2\" x=\"104.352983\" y=\"69.77804\" style=\"fill: #ff7f0e; stroke: #333333\"/>\n",
       "     <use xlink:href=\"#ma89ec0dae2\" x=\"222.672591\" y=\"204.258972\" style=\"fill: #ff7f0e; stroke: #333333\"/>\n",
       "     <use xlink:href=\"#ma89ec0dae2\" x=\"144.868545\" y=\"59.849739\" style=\"fill: #ff7f0e; stroke: #333333\"/>\n",
       "     <use xlink:href=\"#ma89ec0dae2\" x=\"229.633416\" y=\"185.18805\" style=\"fill: #ff7f0e; stroke: #333333\"/>\n",
       "     <use xlink:href=\"#ma89ec0dae2\" x=\"227.846207\" y=\"188.250013\" style=\"fill: #ff7f0e; stroke: #333333\"/>\n",
       "     <use xlink:href=\"#ma89ec0dae2\" x=\"108.019501\" y=\"85.444765\" style=\"fill: #ff7f0e; stroke: #333333\"/>\n",
       "     <use xlink:href=\"#ma89ec0dae2\" x=\"111.226359\" y=\"78.614871\" style=\"fill: #ff7f0e; stroke: #333333\"/>\n",
       "     <use xlink:href=\"#ma89ec0dae2\" x=\"131.786454\" y=\"97.032234\" style=\"fill: #ff7f0e; stroke: #333333\"/>\n",
       "    </g>\n",
       "   </g>\n",
       "   <g id=\"matplotlib.axis_1\">\n",
       "    <g id=\"xtick_1\">\n",
       "     <g id=\"line2d_1\">\n",
       "      <defs>\n",
       "       <path id=\"m192ef85a86\" d=\"M 0 0 \n",
       "L 0 3.5 \n",
       "\" style=\"stroke: #000000; stroke-width: 0.8\"/>\n",
       "      </defs>\n",
       "      <g>\n",
       "       <use xlink:href=\"#m192ef85a86\" x=\"58.523438\" y=\"244.078125\" style=\"stroke: #000000; stroke-width: 0.8\"/>\n",
       "      </g>\n",
       "     </g>\n",
       "     <g id=\"text_1\">\n",
       "      <!-- −0.5 -->\n",
       "      <g transform=\"translate(46.382031 258.676562) scale(0.1 -0.1)\">\n",
       "       <defs>\n",
       "        <path id=\"DejaVuSans-2212\" d=\"M 678 2272 \n",
       "L 4684 2272 \n",
       "L 4684 1741 \n",
       "L 678 1741 \n",
       "L 678 2272 \n",
       "z\n",
       "\" transform=\"scale(0.015625)\"/>\n",
       "        <path id=\"DejaVuSans-30\" d=\"M 2034 4250 \n",
       "Q 1547 4250 1301 3770 \n",
       "Q 1056 3291 1056 2328 \n",
       "Q 1056 1369 1301 889 \n",
       "Q 1547 409 2034 409 \n",
       "Q 2525 409 2770 889 \n",
       "Q 3016 1369 3016 2328 \n",
       "Q 3016 3291 2770 3770 \n",
       "Q 2525 4250 2034 4250 \n",
       "z\n",
       "M 2034 4750 \n",
       "Q 2819 4750 3233 4129 \n",
       "Q 3647 3509 3647 2328 \n",
       "Q 3647 1150 3233 529 \n",
       "Q 2819 -91 2034 -91 \n",
       "Q 1250 -91 836 529 \n",
       "Q 422 1150 422 2328 \n",
       "Q 422 3509 836 4129 \n",
       "Q 1250 4750 2034 4750 \n",
       "z\n",
       "\" transform=\"scale(0.015625)\"/>\n",
       "        <path id=\"DejaVuSans-2e\" d=\"M 684 794 \n",
       "L 1344 794 \n",
       "L 1344 0 \n",
       "L 684 0 \n",
       "L 684 794 \n",
       "z\n",
       "\" transform=\"scale(0.015625)\"/>\n",
       "        <path id=\"DejaVuSans-35\" d=\"M 691 4666 \n",
       "L 3169 4666 \n",
       "L 3169 4134 \n",
       "L 1269 4134 \n",
       "L 1269 2991 \n",
       "Q 1406 3038 1543 3061 \n",
       "Q 1681 3084 1819 3084 \n",
       "Q 2600 3084 3056 2656 \n",
       "Q 3513 2228 3513 1497 \n",
       "Q 3513 744 3044 326 \n",
       "Q 2575 -91 1722 -91 \n",
       "Q 1428 -91 1123 -41 \n",
       "Q 819 9 494 109 \n",
       "L 494 744 \n",
       "Q 775 591 1075 516 \n",
       "Q 1375 441 1709 441 \n",
       "Q 2250 441 2565 725 \n",
       "Q 2881 1009 2881 1497 \n",
       "Q 2881 1984 2565 2268 \n",
       "Q 2250 2553 1709 2553 \n",
       "Q 1456 2553 1204 2497 \n",
       "Q 953 2441 691 2322 \n",
       "L 691 4666 \n",
       "z\n",
       "\" transform=\"scale(0.015625)\"/>\n",
       "       </defs>\n",
       "       <use xlink:href=\"#DejaVuSans-2212\"/>\n",
       "       <use xlink:href=\"#DejaVuSans-30\" x=\"83.789062\"/>\n",
       "       <use xlink:href=\"#DejaVuSans-2e\" x=\"147.412109\"/>\n",
       "       <use xlink:href=\"#DejaVuSans-35\" x=\"179.199219\"/>\n",
       "      </g>\n",
       "     </g>\n",
       "    </g>\n",
       "    <g id=\"xtick_2\">\n",
       "     <g id=\"line2d_2\">\n",
       "      <g>\n",
       "       <use xlink:href=\"#m192ef85a86\" x=\"113.963437\" y=\"244.078125\" style=\"stroke: #000000; stroke-width: 0.8\"/>\n",
       "      </g>\n",
       "     </g>\n",
       "     <g id=\"text_2\">\n",
       "      <!-- 0.0 -->\n",
       "      <g transform=\"translate(106.011875 258.676562) scale(0.1 -0.1)\">\n",
       "       <use xlink:href=\"#DejaVuSans-30\"/>\n",
       "       <use xlink:href=\"#DejaVuSans-2e\" x=\"63.623047\"/>\n",
       "       <use xlink:href=\"#DejaVuSans-30\" x=\"95.410156\"/>\n",
       "      </g>\n",
       "     </g>\n",
       "    </g>\n",
       "    <g id=\"xtick_3\">\n",
       "     <g id=\"line2d_3\">\n",
       "      <g>\n",
       "       <use xlink:href=\"#m192ef85a86\" x=\"169.403437\" y=\"244.078125\" style=\"stroke: #000000; stroke-width: 0.8\"/>\n",
       "      </g>\n",
       "     </g>\n",
       "     <g id=\"text_3\">\n",
       "      <!-- 0.5 -->\n",
       "      <g transform=\"translate(161.451875 258.676562) scale(0.1 -0.1)\">\n",
       "       <use xlink:href=\"#DejaVuSans-30\"/>\n",
       "       <use xlink:href=\"#DejaVuSans-2e\" x=\"63.623047\"/>\n",
       "       <use xlink:href=\"#DejaVuSans-35\" x=\"95.410156\"/>\n",
       "      </g>\n",
       "     </g>\n",
       "    </g>\n",
       "    <g id=\"xtick_4\">\n",
       "     <g id=\"line2d_4\">\n",
       "      <g>\n",
       "       <use xlink:href=\"#m192ef85a86\" x=\"224.843437\" y=\"244.078125\" style=\"stroke: #000000; stroke-width: 0.8\"/>\n",
       "      </g>\n",
       "     </g>\n",
       "     <g id=\"text_4\">\n",
       "      <!-- 1.0 -->\n",
       "      <g transform=\"translate(216.891875 258.676562) scale(0.1 -0.1)\">\n",
       "       <defs>\n",
       "        <path id=\"DejaVuSans-31\" d=\"M 794 531 \n",
       "L 1825 531 \n",
       "L 1825 4091 \n",
       "L 703 3866 \n",
       "L 703 4441 \n",
       "L 1819 4666 \n",
       "L 2450 4666 \n",
       "L 2450 531 \n",
       "L 3481 531 \n",
       "L 3481 0 \n",
       "L 794 0 \n",
       "L 794 531 \n",
       "z\n",
       "\" transform=\"scale(0.015625)\"/>\n",
       "       </defs>\n",
       "       <use xlink:href=\"#DejaVuSans-31\"/>\n",
       "       <use xlink:href=\"#DejaVuSans-2e\" x=\"63.623047\"/>\n",
       "       <use xlink:href=\"#DejaVuSans-30\" x=\"95.410156\"/>\n",
       "      </g>\n",
       "     </g>\n",
       "    </g>\n",
       "    <g id=\"xtick_5\">\n",
       "     <g id=\"line2d_5\">\n",
       "      <g>\n",
       "       <use xlink:href=\"#m192ef85a86\" x=\"280.283437\" y=\"244.078125\" style=\"stroke: #000000; stroke-width: 0.8\"/>\n",
       "      </g>\n",
       "     </g>\n",
       "     <g id=\"text_5\">\n",
       "      <!-- 1.5 -->\n",
       "      <g transform=\"translate(272.331875 258.676562) scale(0.1 -0.1)\">\n",
       "       <use xlink:href=\"#DejaVuSans-31\"/>\n",
       "       <use xlink:href=\"#DejaVuSans-2e\" x=\"63.623047\"/>\n",
       "       <use xlink:href=\"#DejaVuSans-35\" x=\"95.410156\"/>\n",
       "      </g>\n",
       "     </g>\n",
       "    </g>\n",
       "    <g id=\"text_6\">\n",
       "     <!-- $x_1$ -->\n",
       "     <g transform=\"translate(164.053438 272.354687) scale(0.1 -0.1)\">\n",
       "      <defs>\n",
       "       <path id=\"DejaVuSans-Oblique-78\" d=\"M 3841 3500 \n",
       "L 2234 1784 \n",
       "L 3219 0 \n",
       "L 2559 0 \n",
       "L 1819 1388 \n",
       "L 531 0 \n",
       "L -166 0 \n",
       "L 1556 1844 \n",
       "L 641 3500 \n",
       "L 1300 3500 \n",
       "L 1972 2234 \n",
       "L 3144 3500 \n",
       "L 3841 3500 \n",
       "z\n",
       "\" transform=\"scale(0.015625)\"/>\n",
       "      </defs>\n",
       "      <use xlink:href=\"#DejaVuSans-Oblique-78\" transform=\"translate(0 0.3125)\"/>\n",
       "      <use xlink:href=\"#DejaVuSans-31\" transform=\"translate(59.179688 -16.09375) scale(0.7)\"/>\n",
       "     </g>\n",
       "    </g>\n",
       "   </g>\n",
       "   <g id=\"matplotlib.axis_2\">\n",
       "    <g id=\"ytick_1\">\n",
       "     <g id=\"line2d_6\">\n",
       "      <defs>\n",
       "       <path id=\"m4673dd9eab\" d=\"M 0 0 \n",
       "L -3.5 0 \n",
       "\" style=\"stroke: #000000; stroke-width: 0.8\"/>\n",
       "      </defs>\n",
       "      <g>\n",
       "       <use xlink:href=\"#m4673dd9eab\" x=\"58.523438\" y=\"244.078125\" style=\"stroke: #000000; stroke-width: 0.8\"/>\n",
       "      </g>\n",
       "     </g>\n",
       "     <g id=\"text_7\">\n",
       "      <!-- −0.50 -->\n",
       "      <g transform=\"translate(20.878125 247.877344) scale(0.1 -0.1)\">\n",
       "       <use xlink:href=\"#DejaVuSans-2212\"/>\n",
       "       <use xlink:href=\"#DejaVuSans-30\" x=\"83.789062\"/>\n",
       "       <use xlink:href=\"#DejaVuSans-2e\" x=\"147.412109\"/>\n",
       "       <use xlink:href=\"#DejaVuSans-35\" x=\"179.199219\"/>\n",
       "       <use xlink:href=\"#DejaVuSans-30\" x=\"242.822266\"/>\n",
       "      </g>\n",
       "     </g>\n",
       "    </g>\n",
       "    <g id=\"ytick_2\">\n",
       "     <g id=\"line2d_7\">\n",
       "      <g>\n",
       "       <use xlink:href=\"#m4673dd9eab\" x=\"58.523438\" y=\"216.358125\" style=\"stroke: #000000; stroke-width: 0.8\"/>\n",
       "      </g>\n",
       "     </g>\n",
       "     <g id=\"text_8\">\n",
       "      <!-- −0.25 -->\n",
       "      <g transform=\"translate(20.878125 220.157344) scale(0.1 -0.1)\">\n",
       "       <defs>\n",
       "        <path id=\"DejaVuSans-32\" d=\"M 1228 531 \n",
       "L 3431 531 \n",
       "L 3431 0 \n",
       "L 469 0 \n",
       "L 469 531 \n",
       "Q 828 903 1448 1529 \n",
       "Q 2069 2156 2228 2338 \n",
       "Q 2531 2678 2651 2914 \n",
       "Q 2772 3150 2772 3378 \n",
       "Q 2772 3750 2511 3984 \n",
       "Q 2250 4219 1831 4219 \n",
       "Q 1534 4219 1204 4116 \n",
       "Q 875 4013 500 3803 \n",
       "L 500 4441 \n",
       "Q 881 4594 1212 4672 \n",
       "Q 1544 4750 1819 4750 \n",
       "Q 2544 4750 2975 4387 \n",
       "Q 3406 4025 3406 3419 \n",
       "Q 3406 3131 3298 2873 \n",
       "Q 3191 2616 2906 2266 \n",
       "Q 2828 2175 2409 1742 \n",
       "Q 1991 1309 1228 531 \n",
       "z\n",
       "\" transform=\"scale(0.015625)\"/>\n",
       "       </defs>\n",
       "       <use xlink:href=\"#DejaVuSans-2212\"/>\n",
       "       <use xlink:href=\"#DejaVuSans-30\" x=\"83.789062\"/>\n",
       "       <use xlink:href=\"#DejaVuSans-2e\" x=\"147.412109\"/>\n",
       "       <use xlink:href=\"#DejaVuSans-32\" x=\"179.199219\"/>\n",
       "       <use xlink:href=\"#DejaVuSans-35\" x=\"242.822266\"/>\n",
       "      </g>\n",
       "     </g>\n",
       "    </g>\n",
       "    <g id=\"ytick_3\">\n",
       "     <g id=\"line2d_8\">\n",
       "      <g>\n",
       "       <use xlink:href=\"#m4673dd9eab\" x=\"58.523438\" y=\"188.638125\" style=\"stroke: #000000; stroke-width: 0.8\"/>\n",
       "      </g>\n",
       "     </g>\n",
       "     <g id=\"text_9\">\n",
       "      <!-- 0.00 -->\n",
       "      <g transform=\"translate(29.257812 192.437344) scale(0.1 -0.1)\">\n",
       "       <use xlink:href=\"#DejaVuSans-30\"/>\n",
       "       <use xlink:href=\"#DejaVuSans-2e\" x=\"63.623047\"/>\n",
       "       <use xlink:href=\"#DejaVuSans-30\" x=\"95.410156\"/>\n",
       "       <use xlink:href=\"#DejaVuSans-30\" x=\"159.033203\"/>\n",
       "      </g>\n",
       "     </g>\n",
       "    </g>\n",
       "    <g id=\"ytick_4\">\n",
       "     <g id=\"line2d_9\">\n",
       "      <g>\n",
       "       <use xlink:href=\"#m4673dd9eab\" x=\"58.523438\" y=\"160.918125\" style=\"stroke: #000000; stroke-width: 0.8\"/>\n",
       "      </g>\n",
       "     </g>\n",
       "     <g id=\"text_10\">\n",
       "      <!-- 0.25 -->\n",
       "      <g transform=\"translate(29.257812 164.717344) scale(0.1 -0.1)\">\n",
       "       <use xlink:href=\"#DejaVuSans-30\"/>\n",
       "       <use xlink:href=\"#DejaVuSans-2e\" x=\"63.623047\"/>\n",
       "       <use xlink:href=\"#DejaVuSans-32\" x=\"95.410156\"/>\n",
       "       <use xlink:href=\"#DejaVuSans-35\" x=\"159.033203\"/>\n",
       "      </g>\n",
       "     </g>\n",
       "    </g>\n",
       "    <g id=\"ytick_5\">\n",
       "     <g id=\"line2d_10\">\n",
       "      <g>\n",
       "       <use xlink:href=\"#m4673dd9eab\" x=\"58.523438\" y=\"133.198125\" style=\"stroke: #000000; stroke-width: 0.8\"/>\n",
       "      </g>\n",
       "     </g>\n",
       "     <g id=\"text_11\">\n",
       "      <!-- 0.50 -->\n",
       "      <g transform=\"translate(29.257812 136.997344) scale(0.1 -0.1)\">\n",
       "       <use xlink:href=\"#DejaVuSans-30\"/>\n",
       "       <use xlink:href=\"#DejaVuSans-2e\" x=\"63.623047\"/>\n",
       "       <use xlink:href=\"#DejaVuSans-35\" x=\"95.410156\"/>\n",
       "       <use xlink:href=\"#DejaVuSans-30\" x=\"159.033203\"/>\n",
       "      </g>\n",
       "     </g>\n",
       "    </g>\n",
       "    <g id=\"ytick_6\">\n",
       "     <g id=\"line2d_11\">\n",
       "      <g>\n",
       "       <use xlink:href=\"#m4673dd9eab\" x=\"58.523438\" y=\"105.478125\" style=\"stroke: #000000; stroke-width: 0.8\"/>\n",
       "      </g>\n",
       "     </g>\n",
       "     <g id=\"text_12\">\n",
       "      <!-- 0.75 -->\n",
       "      <g transform=\"translate(29.257812 109.277344) scale(0.1 -0.1)\">\n",
       "       <defs>\n",
       "        <path id=\"DejaVuSans-37\" d=\"M 525 4666 \n",
       "L 3525 4666 \n",
       "L 3525 4397 \n",
       "L 1831 0 \n",
       "L 1172 0 \n",
       "L 2766 4134 \n",
       "L 525 4134 \n",
       "L 525 4666 \n",
       "z\n",
       "\" transform=\"scale(0.015625)\"/>\n",
       "       </defs>\n",
       "       <use xlink:href=\"#DejaVuSans-30\"/>\n",
       "       <use xlink:href=\"#DejaVuSans-2e\" x=\"63.623047\"/>\n",
       "       <use xlink:href=\"#DejaVuSans-37\" x=\"95.410156\"/>\n",
       "       <use xlink:href=\"#DejaVuSans-35\" x=\"159.033203\"/>\n",
       "      </g>\n",
       "     </g>\n",
       "    </g>\n",
       "    <g id=\"ytick_7\">\n",
       "     <g id=\"line2d_12\">\n",
       "      <g>\n",
       "       <use xlink:href=\"#m4673dd9eab\" x=\"58.523438\" y=\"77.758125\" style=\"stroke: #000000; stroke-width: 0.8\"/>\n",
       "      </g>\n",
       "     </g>\n",
       "     <g id=\"text_13\">\n",
       "      <!-- 1.00 -->\n",
       "      <g transform=\"translate(29.257812 81.557344) scale(0.1 -0.1)\">\n",
       "       <use xlink:href=\"#DejaVuSans-31\"/>\n",
       "       <use xlink:href=\"#DejaVuSans-2e\" x=\"63.623047\"/>\n",
       "       <use xlink:href=\"#DejaVuSans-30\" x=\"95.410156\"/>\n",
       "       <use xlink:href=\"#DejaVuSans-30\" x=\"159.033203\"/>\n",
       "      </g>\n",
       "     </g>\n",
       "    </g>\n",
       "    <g id=\"ytick_8\">\n",
       "     <g id=\"line2d_13\">\n",
       "      <g>\n",
       "       <use xlink:href=\"#m4673dd9eab\" x=\"58.523438\" y=\"50.038125\" style=\"stroke: #000000; stroke-width: 0.8\"/>\n",
       "      </g>\n",
       "     </g>\n",
       "     <g id=\"text_14\">\n",
       "      <!-- 1.25 -->\n",
       "      <g transform=\"translate(29.257812 53.837344) scale(0.1 -0.1)\">\n",
       "       <use xlink:href=\"#DejaVuSans-31\"/>\n",
       "       <use xlink:href=\"#DejaVuSans-2e\" x=\"63.623047\"/>\n",
       "       <use xlink:href=\"#DejaVuSans-32\" x=\"95.410156\"/>\n",
       "       <use xlink:href=\"#DejaVuSans-35\" x=\"159.033203\"/>\n",
       "      </g>\n",
       "     </g>\n",
       "    </g>\n",
       "    <g id=\"ytick_9\">\n",
       "     <g id=\"line2d_14\">\n",
       "      <g>\n",
       "       <use xlink:href=\"#m4673dd9eab\" x=\"58.523438\" y=\"22.318125\" style=\"stroke: #000000; stroke-width: 0.8\"/>\n",
       "      </g>\n",
       "     </g>\n",
       "     <g id=\"text_15\">\n",
       "      <!-- 1.50 -->\n",
       "      <g transform=\"translate(29.257812 26.117344) scale(0.1 -0.1)\">\n",
       "       <use xlink:href=\"#DejaVuSans-31\"/>\n",
       "       <use xlink:href=\"#DejaVuSans-2e\" x=\"63.623047\"/>\n",
       "       <use xlink:href=\"#DejaVuSans-35\" x=\"95.410156\"/>\n",
       "       <use xlink:href=\"#DejaVuSans-30\" x=\"159.033203\"/>\n",
       "      </g>\n",
       "     </g>\n",
       "    </g>\n",
       "    <g id=\"text_16\">\n",
       "     <!-- $x_2$ -->\n",
       "     <g transform=\"translate(14.798437 138.548125) rotate(-90) scale(0.1 -0.1)\">\n",
       "      <use xlink:href=\"#DejaVuSans-Oblique-78\" transform=\"translate(0 0.3125)\"/>\n",
       "      <use xlink:href=\"#DejaVuSans-32\" transform=\"translate(59.179688 -16.09375) scale(0.7)\"/>\n",
       "     </g>\n",
       "    </g>\n",
       "   </g>\n",
       "   <g id=\"patch_3\">\n",
       "    <path d=\"M 58.523438 244.078125 \n",
       "L 58.523438 22.318125 \n",
       "\" style=\"fill: none; stroke: #000000; stroke-width: 0.8; stroke-linejoin: miter; stroke-linecap: square\"/>\n",
       "   </g>\n",
       "   <g id=\"patch_4\">\n",
       "    <path d=\"M 280.283437 244.078125 \n",
       "L 280.283437 22.318125 \n",
       "\" style=\"fill: none; stroke: #000000; stroke-width: 0.8; stroke-linejoin: miter; stroke-linecap: square\"/>\n",
       "   </g>\n",
       "   <g id=\"patch_5\">\n",
       "    <path d=\"M 58.523438 244.078125 \n",
       "L 280.283437 244.078125 \n",
       "\" style=\"fill: none; stroke: #000000; stroke-width: 0.8; stroke-linejoin: miter; stroke-linecap: square\"/>\n",
       "   </g>\n",
       "   <g id=\"patch_6\">\n",
       "    <path d=\"M 58.523438 22.318125 \n",
       "L 280.283437 22.318125 \n",
       "\" style=\"fill: none; stroke: #000000; stroke-width: 0.8; stroke-linejoin: miter; stroke-linecap: square\"/>\n",
       "   </g>\n",
       "   <g id=\"text_17\">\n",
       "    <!-- Dataset samples -->\n",
       "    <g transform=\"translate(119.060625 16.318125) scale(0.12 -0.12)\">\n",
       "     <defs>\n",
       "      <path id=\"DejaVuSans-44\" d=\"M 1259 4147 \n",
       "L 1259 519 \n",
       "L 2022 519 \n",
       "Q 2988 519 3436 956 \n",
       "Q 3884 1394 3884 2338 \n",
       "Q 3884 3275 3436 3711 \n",
       "Q 2988 4147 2022 4147 \n",
       "L 1259 4147 \n",
       "z\n",
       "M 628 4666 \n",
       "L 1925 4666 \n",
       "Q 3281 4666 3915 4102 \n",
       "Q 4550 3538 4550 2338 \n",
       "Q 4550 1131 3912 565 \n",
       "Q 3275 0 1925 0 \n",
       "L 628 0 \n",
       "L 628 4666 \n",
       "z\n",
       "\" transform=\"scale(0.015625)\"/>\n",
       "      <path id=\"DejaVuSans-61\" d=\"M 2194 1759 \n",
       "Q 1497 1759 1228 1600 \n",
       "Q 959 1441 959 1056 \n",
       "Q 959 750 1161 570 \n",
       "Q 1363 391 1709 391 \n",
       "Q 2188 391 2477 730 \n",
       "Q 2766 1069 2766 1631 \n",
       "L 2766 1759 \n",
       "L 2194 1759 \n",
       "z\n",
       "M 3341 1997 \n",
       "L 3341 0 \n",
       "L 2766 0 \n",
       "L 2766 531 \n",
       "Q 2569 213 2275 61 \n",
       "Q 1981 -91 1556 -91 \n",
       "Q 1019 -91 701 211 \n",
       "Q 384 513 384 1019 \n",
       "Q 384 1609 779 1909 \n",
       "Q 1175 2209 1959 2209 \n",
       "L 2766 2209 \n",
       "L 2766 2266 \n",
       "Q 2766 2663 2505 2880 \n",
       "Q 2244 3097 1772 3097 \n",
       "Q 1472 3097 1187 3025 \n",
       "Q 903 2953 641 2809 \n",
       "L 641 3341 \n",
       "Q 956 3463 1253 3523 \n",
       "Q 1550 3584 1831 3584 \n",
       "Q 2591 3584 2966 3190 \n",
       "Q 3341 2797 3341 1997 \n",
       "z\n",
       "\" transform=\"scale(0.015625)\"/>\n",
       "      <path id=\"DejaVuSans-74\" d=\"M 1172 4494 \n",
       "L 1172 3500 \n",
       "L 2356 3500 \n",
       "L 2356 3053 \n",
       "L 1172 3053 \n",
       "L 1172 1153 \n",
       "Q 1172 725 1289 603 \n",
       "Q 1406 481 1766 481 \n",
       "L 2356 481 \n",
       "L 2356 0 \n",
       "L 1766 0 \n",
       "Q 1100 0 847 248 \n",
       "Q 594 497 594 1153 \n",
       "L 594 3053 \n",
       "L 172 3053 \n",
       "L 172 3500 \n",
       "L 594 3500 \n",
       "L 594 4494 \n",
       "L 1172 4494 \n",
       "z\n",
       "\" transform=\"scale(0.015625)\"/>\n",
       "      <path id=\"DejaVuSans-73\" d=\"M 2834 3397 \n",
       "L 2834 2853 \n",
       "Q 2591 2978 2328 3040 \n",
       "Q 2066 3103 1784 3103 \n",
       "Q 1356 3103 1142 2972 \n",
       "Q 928 2841 928 2578 \n",
       "Q 928 2378 1081 2264 \n",
       "Q 1234 2150 1697 2047 \n",
       "L 1894 2003 \n",
       "Q 2506 1872 2764 1633 \n",
       "Q 3022 1394 3022 966 \n",
       "Q 3022 478 2636 193 \n",
       "Q 2250 -91 1575 -91 \n",
       "Q 1294 -91 989 -36 \n",
       "Q 684 19 347 128 \n",
       "L 347 722 \n",
       "Q 666 556 975 473 \n",
       "Q 1284 391 1588 391 \n",
       "Q 1994 391 2212 530 \n",
       "Q 2431 669 2431 922 \n",
       "Q 2431 1156 2273 1281 \n",
       "Q 2116 1406 1581 1522 \n",
       "L 1381 1569 \n",
       "Q 847 1681 609 1914 \n",
       "Q 372 2147 372 2553 \n",
       "Q 372 3047 722 3315 \n",
       "Q 1072 3584 1716 3584 \n",
       "Q 2034 3584 2315 3537 \n",
       "Q 2597 3491 2834 3397 \n",
       "z\n",
       "\" transform=\"scale(0.015625)\"/>\n",
       "      <path id=\"DejaVuSans-65\" d=\"M 3597 1894 \n",
       "L 3597 1613 \n",
       "L 953 1613 \n",
       "Q 991 1019 1311 708 \n",
       "Q 1631 397 2203 397 \n",
       "Q 2534 397 2845 478 \n",
       "Q 3156 559 3463 722 \n",
       "L 3463 178 \n",
       "Q 3153 47 2828 -22 \n",
       "Q 2503 -91 2169 -91 \n",
       "Q 1331 -91 842 396 \n",
       "Q 353 884 353 1716 \n",
       "Q 353 2575 817 3079 \n",
       "Q 1281 3584 2069 3584 \n",
       "Q 2775 3584 3186 3129 \n",
       "Q 3597 2675 3597 1894 \n",
       "z\n",
       "M 3022 2063 \n",
       "Q 3016 2534 2758 2815 \n",
       "Q 2500 3097 2075 3097 \n",
       "Q 1594 3097 1305 2825 \n",
       "Q 1016 2553 972 2059 \n",
       "L 3022 2063 \n",
       "z\n",
       "\" transform=\"scale(0.015625)\"/>\n",
       "      <path id=\"DejaVuSans-20\" transform=\"scale(0.015625)\"/>\n",
       "      <path id=\"DejaVuSans-6d\" d=\"M 3328 2828 \n",
       "Q 3544 3216 3844 3400 \n",
       "Q 4144 3584 4550 3584 \n",
       "Q 5097 3584 5394 3201 \n",
       "Q 5691 2819 5691 2113 \n",
       "L 5691 0 \n",
       "L 5113 0 \n",
       "L 5113 2094 \n",
       "Q 5113 2597 4934 2840 \n",
       "Q 4756 3084 4391 3084 \n",
       "Q 3944 3084 3684 2787 \n",
       "Q 3425 2491 3425 1978 \n",
       "L 3425 0 \n",
       "L 2847 0 \n",
       "L 2847 2094 \n",
       "Q 2847 2600 2669 2842 \n",
       "Q 2491 3084 2119 3084 \n",
       "Q 1678 3084 1418 2786 \n",
       "Q 1159 2488 1159 1978 \n",
       "L 1159 0 \n",
       "L 581 0 \n",
       "L 581 3500 \n",
       "L 1159 3500 \n",
       "L 1159 2956 \n",
       "Q 1356 3278 1631 3431 \n",
       "Q 1906 3584 2284 3584 \n",
       "Q 2666 3584 2933 3390 \n",
       "Q 3200 3197 3328 2828 \n",
       "z\n",
       "\" transform=\"scale(0.015625)\"/>\n",
       "      <path id=\"DejaVuSans-70\" d=\"M 1159 525 \n",
       "L 1159 -1331 \n",
       "L 581 -1331 \n",
       "L 581 3500 \n",
       "L 1159 3500 \n",
       "L 1159 2969 \n",
       "Q 1341 3281 1617 3432 \n",
       "Q 1894 3584 2278 3584 \n",
       "Q 2916 3584 3314 3078 \n",
       "Q 3713 2572 3713 1747 \n",
       "Q 3713 922 3314 415 \n",
       "Q 2916 -91 2278 -91 \n",
       "Q 1894 -91 1617 61 \n",
       "Q 1341 213 1159 525 \n",
       "z\n",
       "M 3116 1747 \n",
       "Q 3116 2381 2855 2742 \n",
       "Q 2594 3103 2138 3103 \n",
       "Q 1681 3103 1420 2742 \n",
       "Q 1159 2381 1159 1747 \n",
       "Q 1159 1113 1420 752 \n",
       "Q 1681 391 2138 391 \n",
       "Q 2594 391 2855 752 \n",
       "Q 3116 1113 3116 1747 \n",
       "z\n",
       "\" transform=\"scale(0.015625)\"/>\n",
       "      <path id=\"DejaVuSans-6c\" d=\"M 603 4863 \n",
       "L 1178 4863 \n",
       "L 1178 0 \n",
       "L 603 0 \n",
       "L 603 4863 \n",
       "z\n",
       "\" transform=\"scale(0.015625)\"/>\n",
       "     </defs>\n",
       "     <use xlink:href=\"#DejaVuSans-44\"/>\n",
       "     <use xlink:href=\"#DejaVuSans-61\" x=\"77.001953\"/>\n",
       "     <use xlink:href=\"#DejaVuSans-74\" x=\"138.28125\"/>\n",
       "     <use xlink:href=\"#DejaVuSans-61\" x=\"177.490234\"/>\n",
       "     <use xlink:href=\"#DejaVuSans-73\" x=\"238.769531\"/>\n",
       "     <use xlink:href=\"#DejaVuSans-65\" x=\"290.869141\"/>\n",
       "     <use xlink:href=\"#DejaVuSans-74\" x=\"352.392578\"/>\n",
       "     <use xlink:href=\"#DejaVuSans-20\" x=\"391.601562\"/>\n",
       "     <use xlink:href=\"#DejaVuSans-73\" x=\"423.388672\"/>\n",
       "     <use xlink:href=\"#DejaVuSans-61\" x=\"475.488281\"/>\n",
       "     <use xlink:href=\"#DejaVuSans-6d\" x=\"536.767578\"/>\n",
       "     <use xlink:href=\"#DejaVuSans-70\" x=\"634.179688\"/>\n",
       "     <use xlink:href=\"#DejaVuSans-6c\" x=\"697.65625\"/>\n",
       "     <use xlink:href=\"#DejaVuSans-65\" x=\"725.439453\"/>\n",
       "     <use xlink:href=\"#DejaVuSans-73\" x=\"786.962891\"/>\n",
       "    </g>\n",
       "   </g>\n",
       "   <g id=\"legend_1\">\n",
       "    <g id=\"patch_7\">\n",
       "     <path d=\"M 205.435 149.37625 \n",
       "L 273.283437 149.37625 \n",
       "Q 275.283437 149.37625 275.283437 147.37625 \n",
       "L 275.283437 119.02 \n",
       "Q 275.283437 117.02 273.283437 117.02 \n",
       "L 205.435 117.02 \n",
       "Q 203.435 117.02 203.435 119.02 \n",
       "L 203.435 147.37625 \n",
       "Q 203.435 149.37625 205.435 149.37625 \n",
       "z\n",
       "\" style=\"fill: #ffffff; opacity: 0.8; stroke: #cccccc; stroke-linejoin: miter\"/>\n",
       "    </g>\n",
       "    <g id=\"PathCollection_3\">\n",
       "     <g>\n",
       "      <use xlink:href=\"#m51be257fd7\" x=\"217.435\" y=\"125.993437\" style=\"fill: #1f77b4; stroke: #333333\"/>\n",
       "     </g>\n",
       "    </g>\n",
       "    <g id=\"text_18\">\n",
       "     <!-- Class 0 -->\n",
       "     <g transform=\"translate(235.435 128.618437) scale(0.1 -0.1)\">\n",
       "      <defs>\n",
       "       <path id=\"DejaVuSans-43\" d=\"M 4122 4306 \n",
       "L 4122 3641 \n",
       "Q 3803 3938 3442 4084 \n",
       "Q 3081 4231 2675 4231 \n",
       "Q 1875 4231 1450 3742 \n",
       "Q 1025 3253 1025 2328 \n",
       "Q 1025 1406 1450 917 \n",
       "Q 1875 428 2675 428 \n",
       "Q 3081 428 3442 575 \n",
       "Q 3803 722 4122 1019 \n",
       "L 4122 359 \n",
       "Q 3791 134 3420 21 \n",
       "Q 3050 -91 2638 -91 \n",
       "Q 1578 -91 968 557 \n",
       "Q 359 1206 359 2328 \n",
       "Q 359 3453 968 4101 \n",
       "Q 1578 4750 2638 4750 \n",
       "Q 3056 4750 3426 4639 \n",
       "Q 3797 4528 4122 4306 \n",
       "z\n",
       "\" transform=\"scale(0.015625)\"/>\n",
       "      </defs>\n",
       "      <use xlink:href=\"#DejaVuSans-43\"/>\n",
       "      <use xlink:href=\"#DejaVuSans-6c\" x=\"69.824219\"/>\n",
       "      <use xlink:href=\"#DejaVuSans-61\" x=\"97.607422\"/>\n",
       "      <use xlink:href=\"#DejaVuSans-73\" x=\"158.886719\"/>\n",
       "      <use xlink:href=\"#DejaVuSans-73\" x=\"210.986328\"/>\n",
       "      <use xlink:href=\"#DejaVuSans-20\" x=\"263.085938\"/>\n",
       "      <use xlink:href=\"#DejaVuSans-30\" x=\"294.873047\"/>\n",
       "     </g>\n",
       "    </g>\n",
       "    <g id=\"PathCollection_4\">\n",
       "     <g>\n",
       "      <use xlink:href=\"#ma89ec0dae2\" x=\"217.435\" y=\"140.671562\" style=\"fill: #ff7f0e; stroke: #333333\"/>\n",
       "     </g>\n",
       "    </g>\n",
       "    <g id=\"text_19\">\n",
       "     <!-- Class 1 -->\n",
       "     <g transform=\"translate(235.435 143.296562) scale(0.1 -0.1)\">\n",
       "      <use xlink:href=\"#DejaVuSans-43\"/>\n",
       "      <use xlink:href=\"#DejaVuSans-6c\" x=\"69.824219\"/>\n",
       "      <use xlink:href=\"#DejaVuSans-61\" x=\"97.607422\"/>\n",
       "      <use xlink:href=\"#DejaVuSans-73\" x=\"158.886719\"/>\n",
       "      <use xlink:href=\"#DejaVuSans-73\" x=\"210.986328\"/>\n",
       "      <use xlink:href=\"#DejaVuSans-20\" x=\"263.085938\"/>\n",
       "      <use xlink:href=\"#DejaVuSans-31\" x=\"294.873047\"/>\n",
       "     </g>\n",
       "    </g>\n",
       "   </g>\n",
       "  </g>\n",
       " </g>\n",
       " <defs>\n",
       "  <clipPath id=\"pfafe046133\">\n",
       "   <rect x=\"58.523438\" y=\"22.318125\" width=\"221.76\" height=\"221.76\"/>\n",
       "  </clipPath>\n",
       " </defs>\n",
       "</svg>\n"
      ],
      "text/plain": [
       "<Figure size 400x400 with 1 Axes>"
      ]
     },
     "metadata": {},
     "output_type": "display_data"
    }
   ],
   "source": [
    "@torch.no_grad()  \n",
    "def visualize_classification(model, data, label):\n",
    "    if isinstance(data, Tensor):\n",
    "        data = data.cpu().numpy()\n",
    "    if isinstance(label, Tensor):\n",
    "        label = label.cpu().numpy()\n",
    "    data_0 = data[label == 0]\n",
    "    data_1 = data[label == 1]\n",
    "\n",
    "    plt.figure(figsize=(4, 4))\n",
    "    plt.scatter(data_0[:, 0], data_0[:, 1], edgecolor=\"#333\", label=\"Class 0\")\n",
    "    plt.scatter(data_1[:, 0], data_1[:, 1], edgecolor=\"#333\", label=\"Class 1\")\n",
    "    plt.title(\"Dataset samples\")\n",
    "    plt.ylabel(r\"$x_2$\")\n",
    "    plt.xlabel(r\"$x_1$\")\n",
    "    plt.legend()\n",
    "\n",
    "    model.to(device)\n",
    "    c0 = Tensor(to_rgba(\"C0\")).to(device)\n",
    "    c1 = Tensor(to_rgba(\"C1\")).to(device)\n",
    "    x1 = torch.arange(-0.5, 1.5, step=0.01, device=device)\n",
    "    x2 = torch.arange(-0.5, 1.5, step=0.01, device=device)\n",
    "    xx1, xx2 = torch.meshgrid(x1, x2) \n",
    "    model_inputs = torch.stack([xx1, xx2], dim=-1)\n",
    "    preds = model(model_inputs)\n",
    "    preds = torch.sigmoid(preds)\n",
    "    output_image = (1 - preds) * c0[None, None] + preds * c1[None, None]\n",
    "    output_image = (\n",
    "        output_image.cpu().numpy()\n",
    "    )  \n",
    "    plt.imshow(output_image, origin=\"lower\", extent=(-0.5, 1.5, -0.5, 1.5))\n",
    "    plt.grid(False)\n",
    "\n",
    "\n",
    "visualize_classification(model, dataset.data, dataset.label)\n",
    "plt.show()"
   ]
  }
 ],
 "metadata": {
  "colab": {
   "provenance": []
  },
  "gpuClass": "standard",
  "jupytext": {
   "cell_metadata_filter": "colab,id,colab_type,-all",
   "formats": "ipynb,py:percent",
   "main_language": "python"
  },
  "kernelspec": {
   "display_name": "Python 3 (ipykernel)",
   "language": "python",
   "name": "python3"
  },
  "language_info": {
   "codemirror_mode": {
    "name": "ipython",
    "version": 3
   },
   "file_extension": ".py",
   "mimetype": "text/x-python",
   "name": "python",
   "nbconvert_exporter": "python",
   "pygments_lexer": "ipython3",
   "version": "3.8.10"
  },
  "papermill": {
   "default_parameters": {},
   "duration": 16.759473,
   "end_time": "2023-05-03T17:05:47.951877",
   "environment_variables": {},
   "exception": null,
   "input_path": "course_UvA-DL/01-introduction-to-pytorch/Introduction_to_PyTorch.ipynb",
   "output_path": ".notebooks/course_UvA-DL/01-introduction-to-pytorch.ipynb",
   "parameters": {},
   "start_time": "2023-05-03T17:05:31.192404",
   "version": "2.4.0"
  },
  "widgets": {
   "application/vnd.jupyter.widget-state+json": {
    "067c1b3a75ea4ed187c2e86fa9df4211": {
     "model_module": "@jupyter-widgets/base",
     "model_module_version": "1.2.0",
     "model_name": "LayoutModel",
     "state": {
      "_model_module": "@jupyter-widgets/base",
      "_model_module_version": "1.2.0",
      "_model_name": "LayoutModel",
      "_view_count": null,
      "_view_module": "@jupyter-widgets/base",
      "_view_module_version": "1.2.0",
      "_view_name": "LayoutView",
      "align_content": null,
      "align_items": null,
      "align_self": null,
      "border": null,
      "bottom": null,
      "display": null,
      "flex": null,
      "flex_flow": null,
      "grid_area": null,
      "grid_auto_columns": null,
      "grid_auto_flow": null,
      "grid_auto_rows": null,
      "grid_column": null,
      "grid_gap": null,
      "grid_row": null,
      "grid_template_areas": null,
      "grid_template_columns": null,
      "grid_template_rows": null,
      "height": null,
      "justify_content": null,
      "justify_items": null,
      "left": null,
      "margin": null,
      "max_height": null,
      "max_width": null,
      "min_height": null,
      "min_width": null,
      "object_fit": null,
      "object_position": null,
      "order": null,
      "overflow": null,
      "overflow_x": null,
      "overflow_y": null,
      "padding": null,
      "right": null,
      "top": null,
      "visibility": null,
      "width": null
     }
    },
    "200b196b5e394f4cb2cb51ebf4403e09": {
     "model_module": "@jupyter-widgets/controls",
     "model_module_version": "1.5.0",
     "model_name": "FloatProgressModel",
     "state": {
      "_dom_classes": [],
      "_model_module": "@jupyter-widgets/controls",
      "_model_module_version": "1.5.0",
      "_model_name": "FloatProgressModel",
      "_view_count": null,
      "_view_module": "@jupyter-widgets/controls",
      "_view_module_version": "1.5.0",
      "_view_name": "ProgressView",
      "bar_style": "success",
      "description": "",
      "description_tooltip": null,
      "layout": "IPY_MODEL_2e6700e183aa423c8af7c4d02ebef7af",
      "max": 100,
      "min": 0,
      "orientation": "horizontal",
      "style": "IPY_MODEL_d5da41c37cc9477ca6e18ca300294310",
      "value": 100
     }
    },
    "2e6700e183aa423c8af7c4d02ebef7af": {
     "model_module": "@jupyter-widgets/base",
     "model_module_version": "1.2.0",
     "model_name": "LayoutModel",
     "state": {
      "_model_module": "@jupyter-widgets/base",
      "_model_module_version": "1.2.0",
      "_model_name": "LayoutModel",
      "_view_count": null,
      "_view_module": "@jupyter-widgets/base",
      "_view_module_version": "1.2.0",
      "_view_name": "LayoutView",
      "align_content": null,
      "align_items": null,
      "align_self": null,
      "border": null,
      "bottom": null,
      "display": null,
      "flex": null,
      "flex_flow": null,
      "grid_area": null,
      "grid_auto_columns": null,
      "grid_auto_flow": null,
      "grid_auto_rows": null,
      "grid_column": null,
      "grid_gap": null,
      "grid_row": null,
      "grid_template_areas": null,
      "grid_template_columns": null,
      "grid_template_rows": null,
      "height": null,
      "justify_content": null,
      "justify_items": null,
      "left": null,
      "margin": null,
      "max_height": null,
      "max_width": null,
      "min_height": null,
      "min_width": null,
      "object_fit": null,
      "object_position": null,
      "order": null,
      "overflow": null,
      "overflow_x": null,
      "overflow_y": null,
      "padding": null,
      "right": null,
      "top": null,
      "visibility": null,
      "width": null
     }
    },
    "3b41770f6b5047bf9b22c9f4a5f085eb": {
     "model_module": "@jupyter-widgets/controls",
     "model_module_version": "1.5.0",
     "model_name": "HBoxModel",
     "state": {
      "_dom_classes": [],
      "_model_module": "@jupyter-widgets/controls",
      "_model_module_version": "1.5.0",
      "_model_name": "HBoxModel",
      "_view_count": null,
      "_view_module": "@jupyter-widgets/controls",
      "_view_module_version": "1.5.0",
      "_view_name": "HBoxView",
      "box_style": "",
      "children": [
       "IPY_MODEL_4b8d911e02c34d0da9044d9b9857eeb6",
       "IPY_MODEL_200b196b5e394f4cb2cb51ebf4403e09",
       "IPY_MODEL_cb7b715bcf7a4366b06be5917df0905c"
      ],
      "layout": "IPY_MODEL_d3734f3405ab49628b004c2b9d5aa9c8"
     }
    },
    "4b8d911e02c34d0da9044d9b9857eeb6": {
     "model_module": "@jupyter-widgets/controls",
     "model_module_version": "1.5.0",
     "model_name": "HTMLModel",
     "state": {
      "_dom_classes": [],
      "_model_module": "@jupyter-widgets/controls",
      "_model_module_version": "1.5.0",
      "_model_name": "HTMLModel",
      "_view_count": null,
      "_view_module": "@jupyter-widgets/controls",
      "_view_module_version": "1.5.0",
      "_view_name": "HTMLView",
      "description": "",
      "description_tooltip": null,
      "layout": "IPY_MODEL_067c1b3a75ea4ed187c2e86fa9df4211",
      "placeholder": "​",
      "style": "IPY_MODEL_b5c561436f944809b27f4ddd284bb791",
      "value": "100%"
     }
    },
    "b5c561436f944809b27f4ddd284bb791": {
     "model_module": "@jupyter-widgets/controls",
     "model_module_version": "1.5.0",
     "model_name": "DescriptionStyleModel",
     "state": {
      "_model_module": "@jupyter-widgets/controls",
      "_model_module_version": "1.5.0",
      "_model_name": "DescriptionStyleModel",
      "_view_count": null,
      "_view_module": "@jupyter-widgets/base",
      "_view_module_version": "1.2.0",
      "_view_name": "StyleView",
      "description_width": ""
     }
    },
    "c32a48d80cfa48c8a34894a290ad1b35": {
     "model_module": "@jupyter-widgets/base",
     "model_module_version": "1.2.0",
     "model_name": "LayoutModel",
     "state": {
      "_model_module": "@jupyter-widgets/base",
      "_model_module_version": "1.2.0",
      "_model_name": "LayoutModel",
      "_view_count": null,
      "_view_module": "@jupyter-widgets/base",
      "_view_module_version": "1.2.0",
      "_view_name": "LayoutView",
      "align_content": null,
      "align_items": null,
      "align_self": null,
      "border": null,
      "bottom": null,
      "display": null,
      "flex": null,
      "flex_flow": null,
      "grid_area": null,
      "grid_auto_columns": null,
      "grid_auto_flow": null,
      "grid_auto_rows": null,
      "grid_column": null,
      "grid_gap": null,
      "grid_row": null,
      "grid_template_areas": null,
      "grid_template_columns": null,
      "grid_template_rows": null,
      "height": null,
      "justify_content": null,
      "justify_items": null,
      "left": null,
      "margin": null,
      "max_height": null,
      "max_width": null,
      "min_height": null,
      "min_width": null,
      "object_fit": null,
      "object_position": null,
      "order": null,
      "overflow": null,
      "overflow_x": null,
      "overflow_y": null,
      "padding": null,
      "right": null,
      "top": null,
      "visibility": null,
      "width": null
     }
    },
    "cb7b715bcf7a4366b06be5917df0905c": {
     "model_module": "@jupyter-widgets/controls",
     "model_module_version": "1.5.0",
     "model_name": "HTMLModel",
     "state": {
      "_dom_classes": [],
      "_model_module": "@jupyter-widgets/controls",
      "_model_module_version": "1.5.0",
      "_model_name": "HTMLModel",
      "_view_count": null,
      "_view_module": "@jupyter-widgets/controls",
      "_view_module_version": "1.5.0",
      "_view_name": "HTMLView",
      "description": "",
      "description_tooltip": null,
      "layout": "IPY_MODEL_c32a48d80cfa48c8a34894a290ad1b35",
      "placeholder": "​",
      "style": "IPY_MODEL_f087a0c69e3947dc9f7b120332e08495",
      "value": " 100/100 [00:01&lt;00:00, 54.04it/s]"
     }
    },
    "d3734f3405ab49628b004c2b9d5aa9c8": {
     "model_module": "@jupyter-widgets/base",
     "model_module_version": "1.2.0",
     "model_name": "LayoutModel",
     "state": {
      "_model_module": "@jupyter-widgets/base",
      "_model_module_version": "1.2.0",
      "_model_name": "LayoutModel",
      "_view_count": null,
      "_view_module": "@jupyter-widgets/base",
      "_view_module_version": "1.2.0",
      "_view_name": "LayoutView",
      "align_content": null,
      "align_items": null,
      "align_self": null,
      "border": null,
      "bottom": null,
      "display": null,
      "flex": null,
      "flex_flow": null,
      "grid_area": null,
      "grid_auto_columns": null,
      "grid_auto_flow": null,
      "grid_auto_rows": null,
      "grid_column": null,
      "grid_gap": null,
      "grid_row": null,
      "grid_template_areas": null,
      "grid_template_columns": null,
      "grid_template_rows": null,
      "height": null,
      "justify_content": null,
      "justify_items": null,
      "left": null,
      "margin": null,
      "max_height": null,
      "max_width": null,
      "min_height": null,
      "min_width": null,
      "object_fit": null,
      "object_position": null,
      "order": null,
      "overflow": null,
      "overflow_x": null,
      "overflow_y": null,
      "padding": null,
      "right": null,
      "top": null,
      "visibility": null,
      "width": null
     }
    },
    "d5da41c37cc9477ca6e18ca300294310": {
     "model_module": "@jupyter-widgets/controls",
     "model_module_version": "1.5.0",
     "model_name": "ProgressStyleModel",
     "state": {
      "_model_module": "@jupyter-widgets/controls",
      "_model_module_version": "1.5.0",
      "_model_name": "ProgressStyleModel",
      "_view_count": null,
      "_view_module": "@jupyter-widgets/base",
      "_view_module_version": "1.2.0",
      "_view_name": "StyleView",
      "bar_color": null,
      "description_width": ""
     }
    },
    "f087a0c69e3947dc9f7b120332e08495": {
     "model_module": "@jupyter-widgets/controls",
     "model_module_version": "1.5.0",
     "model_name": "DescriptionStyleModel",
     "state": {
      "_model_module": "@jupyter-widgets/controls",
      "_model_module_version": "1.5.0",
      "_model_name": "DescriptionStyleModel",
      "_view_count": null,
      "_view_module": "@jupyter-widgets/base",
      "_view_module_version": "1.2.0",
      "_view_name": "StyleView",
      "description_width": ""
     }
    }
   }
  }
 },
 "nbformat": 4,
 "nbformat_minor": 5
}
