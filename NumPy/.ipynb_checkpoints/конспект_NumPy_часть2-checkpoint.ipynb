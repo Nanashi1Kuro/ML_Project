{
 "cells": [
  {
   "cell_type": "markdown",
   "metadata": {
    "id": "BENLOpy9uANL"
   },
   "source": [
    "массивы NumPy могут быть обычными операндами в математических выражениях:"
   ]
  },
  {
   "cell_type": "code",
   "execution_count": null,
   "metadata": {
    "id": "sxiv501ruANf"
   },
   "outputs": [],
   "source": [
    "import numpy as np\n",
    "\n",
    "a = [1, 2, 3]    #  список Python\n",
    "b = np.array([1, 2, 3])    #  массив NumPy\n",
    "c = 7"
   ]
  },
  {
   "cell_type": "code",
   "execution_count": null,
   "metadata": {
    "id": "E3y9MQL6uAOF"
   },
   "outputs": [],
   "source": [
    "#  Если мы умножим список на число:\n",
    "a * c"
   ]
  },
  {
   "cell_type": "code",
   "execution_count": null,
   "metadata": {
    "id": "lUNjs9bEuAPV"
   },
   "outputs": [],
   "source": [
    "#  Теперь умножим массив NumPy на число:\n",
    "b * c"
   ]
  },
  {
   "cell_type": "code",
   "execution_count": null,
   "metadata": {
    "id": "gVT55_GSuAQj"
   },
   "outputs": [],
   "source": [
    "#  Прибавим к массиву число:\n",
    "b + c"
   ]
  },
  {
   "cell_type": "markdown",
   "metadata": {
    "id": "Mp5eOAjluARt"
   },
   "source": [
    "Для выполнения таких операций на Python, мы были вынуждены писать циклы. \n",
    "\n",
    "в NumPy все операции выполняются поэлементно:"
   ]
  },
  {
   "cell_type": "code",
   "execution_count": null,
   "metadata": {
    "id": "T_zKa5FZuATr"
   },
   "outputs": [],
   "source": [
    "a = np.array([[5, 7], [11, 13]])\n",
    "a / 3 #  обычное деление"
   ]
  },
  {
   "cell_type": "code",
   "execution_count": null,
   "metadata": {
    "id": "FaAjnsjZuAU6"
   },
   "outputs": [],
   "source": [
    "a // 3 #  целочисленное деление"
   ]
  },
  {
   "cell_type": "code",
   "execution_count": null,
   "metadata": {
    "id": "WSjpLjaWuAVO"
   },
   "outputs": [],
   "source": [
    "a % 3 #  остаток от деления"
   ]
  },
  {
   "cell_type": "code",
   "execution_count": null,
   "metadata": {
    "id": "vbHRcTfGuAVn"
   },
   "outputs": [],
   "source": [
    "a ** 3 #  возведение в степень"
   ]
  },
  {
   "cell_type": "code",
   "execution_count": null,
   "metadata": {
    "id": "pLhegsy2uAWL"
   },
   "outputs": [],
   "source": [
    "1 / a #  частное 1 и каждого элемента массива"
   ]
  },
  {
   "cell_type": "code",
   "execution_count": null,
   "metadata": {
    "id": "aGbjG8dOuAWc"
   },
   "outputs": [],
   "source": [
    "-a #  изменение знака элементов массива"
   ]
  },
  {
   "cell_type": "code",
   "execution_count": null,
   "metadata": {
    "id": "M8FitsNOuAWm"
   },
   "outputs": [],
   "source": [
    "a = np.arange(6)\n",
    "a"
   ]
  },
  {
   "cell_type": "code",
   "execution_count": null,
   "metadata": {
    "id": "PWOUq3UeuAW9"
   },
   "outputs": [],
   "source": [
    "np.sin(a)    #  синус каждого элемента массива"
   ]
  },
  {
   "cell_type": "code",
   "execution_count": null,
   "metadata": {
    "id": "rNOYS9VguAXd"
   },
   "outputs": [],
   "source": [
    "np.log(a)    #  натуральный логарифм элементов массива"
   ]
  },
  {
   "cell_type": "markdown",
   "metadata": {
    "id": "8Tyx4HqwuAXr"
   },
   "source": [
    "операции  `+=`, `-=`, `*=`, `/=`  не создают новый массив, а изменяют старый:"
   ]
  },
  {
   "cell_type": "code",
   "execution_count": null,
   "metadata": {
    "id": "3HqawB0vuAX2"
   },
   "outputs": [],
   "source": [
    "a = np.array([1, 2, 3, 4, 5])\n",
    "b = np.array([0.1, 0.2, 0.3, 0.4, 0.5])"
   ]
  },
  {
   "cell_type": "code",
   "execution_count": null,
   "metadata": {
    "id": "P9fWStgIuAX8"
   },
   "outputs": [],
   "source": [
    "a += 2\n",
    "a"
   ]
  },
  {
   "cell_type": "code",
   "execution_count": null,
   "metadata": {
    "id": "t3WKmHdBuAYN"
   },
   "outputs": [],
   "source": [
    "a *= 2\n",
    "a"
   ]
  },
  {
   "cell_type": "code",
   "execution_count": null,
   "metadata": {
    "id": "8D_6knzwuAYh"
   },
   "outputs": [],
   "source": [
    "#  Вещественный тип ('float64') не может быть \n",
    "#  преобразован в целочисленный ('int32'):\n",
    "# a += b"
   ]
  },
  {
   "cell_type": "code",
   "execution_count": null,
   "metadata": {
    "id": "fBoku6ffuAYh"
   },
   "outputs": [],
   "source": [
    "#  А вот преобразование целочисленного типа в вещественный возможно\n",
    "b += a\n",
    "b"
   ]
  },
  {
   "cell_type": "markdown",
   "metadata": {
    "id": "kbCB8sBSuAYk"
   },
   "source": [
    "При работе с массивами разного типа, тип результирующего массива приводится к более общему:"
   ]
  },
  {
   "cell_type": "code",
   "execution_count": null,
   "metadata": {
    "id": "GE3J8QR8uAYo"
   },
   "outputs": [],
   "source": [
    "a = np.arange(5)\n",
    "a"
   ]
  },
  {
   "cell_type": "code",
   "execution_count": null,
   "metadata": {
    "id": "wSJCzwTLuAYs"
   },
   "outputs": [],
   "source": [
    "b = np.linspace(0, 5, 5)\n",
    "b"
   ]
  },
  {
   "cell_type": "code",
   "execution_count": null,
   "metadata": {
    "id": "1aJIX1yYuAYy"
   },
   "outputs": [],
   "source": [
    "a.dtype"
   ]
  },
  {
   "cell_type": "code",
   "execution_count": null,
   "metadata": {
    "id": "07ZyelyyuAY5"
   },
   "outputs": [],
   "source": [
    "b.dtype"
   ]
  },
  {
   "cell_type": "code",
   "execution_count": null,
   "metadata": {
    "id": "2velFmMxuAY8"
   },
   "outputs": [],
   "source": [
    "c = a + b\n",
    "c"
   ]
  },
  {
   "cell_type": "code",
   "execution_count": null,
   "metadata": {
    "id": "wMF5pdxDuAY9"
   },
   "outputs": [],
   "source": [
    "c.dtype"
   ]
  },
  {
   "cell_type": "markdown",
   "metadata": {
    "id": "S-TytW2euAZK"
   },
   "source": [
    "Применение логических операций к массивам:\n",
    "\n",
    "Результатом таких операций является массив булевых значений (`True` и `False`):"
   ]
  },
  {
   "cell_type": "code",
   "execution_count": null,
   "metadata": {
    "id": "S_yElz38uAZO"
   },
   "outputs": [],
   "source": [
    "a = np.array([2, 3, 5, 7, 11, 13])\n",
    "a > 5"
   ]
  },
  {
   "cell_type": "code",
   "execution_count": null,
   "metadata": {
    "id": "DOj9mmtKuAZR"
   },
   "outputs": [],
   "source": [
    "a == 7"
   ]
  },
  {
   "cell_type": "code",
   "execution_count": null,
   "metadata": {
    "id": "ACDuPbhiuAZS"
   },
   "outputs": [],
   "source": [
    "b = np.array([2, 2, 5, 5, 11, 11])\n",
    "a > b"
   ]
  },
  {
   "cell_type": "code",
   "execution_count": null,
   "metadata": {
    "id": "L9EP16aPuAg8"
   },
   "outputs": [],
   "source": [
    "a == b"
   ]
  },
  {
   "cell_type": "markdown",
   "metadata": {
    "id": "Wl1FMMhPuAhK"
   },
   "source": [
    "массив и число могут быть операндами самых разных математических выражений:"
   ]
  },
  {
   "cell_type": "code",
   "execution_count": null,
   "metadata": {
    "id": "RdHqfuOGuAhk"
   },
   "outputs": [],
   "source": [
    "a = np.array([1, 2, 3])\n",
    "(a + 3) * 7"
   ]
  },
  {
   "cell_type": "code",
   "execution_count": null,
   "metadata": {
    "id": "gBGERAK1uAhl"
   },
   "outputs": [],
   "source": [
    "a = np.array([1, 2, 3])\n",
    "b = np.array([3, 2, 1])\n",
    "a + b"
   ]
  },
  {
   "cell_type": "code",
   "execution_count": null,
   "metadata": {
    "id": "MQfliuJzuAhm"
   },
   "outputs": [],
   "source": [
    "a ** b"
   ]
  },
  {
   "cell_type": "code",
   "execution_count": null,
   "metadata": {
    "id": "wpMdEcoIuAhm"
   },
   "outputs": [],
   "source": [
    "a = np.arange(9).reshape(3, 3)\n",
    "a"
   ]
  },
  {
   "cell_type": "code",
   "execution_count": null,
   "metadata": {
    "id": "x3mioP2duAhm"
   },
   "outputs": [],
   "source": [
    "b = np.arange(9, 0, -1).reshape(3, 3)\n",
    "b"
   ]
  },
  {
   "cell_type": "code",
   "execution_count": null,
   "metadata": {
    "id": "Dxko5gzPuAhn"
   },
   "outputs": [],
   "source": [
    "a + b"
   ]
  },
  {
   "cell_type": "code",
   "execution_count": null,
   "metadata": {
    "id": "IzF-PZmMuAhn"
   },
   "outputs": [],
   "source": [
    "a ** b"
   ]
  },
  {
   "cell_type": "markdown",
   "metadata": {
    "id": "lE6O_jQ0uAhn"
   },
   "source": [
    "!размеры должны быть не равны, НО должны быть совместимыми. \n",
    "\n",
    "Если их размеры совместимы, т.е. один массив может быть растянут до размеров другого, то в дело включается механизм broadcasting массивов NumPy. \n",
    "\n",
    "Этот механизм  имеет весьма специфичные нюансы. \n",
    "\n",
    "Рассмотрим простой пример:"
   ]
  },
  {
   "cell_type": "code",
   "execution_count": null,
   "metadata": {
    "id": "xTkrdcfSuAhn"
   },
   "outputs": [],
   "source": [
    "a = np.arange(9).reshape(3, 3)\n",
    "a"
   ]
  },
  {
   "cell_type": "code",
   "execution_count": null,
   "metadata": {
    "id": "328RIDJouAho"
   },
   "outputs": [],
   "source": [
    "b = np.array([1, 2, 3])\n",
    "b"
   ]
  },
  {
   "cell_type": "code",
   "execution_count": null,
   "metadata": {
    "id": "feQnn6bTuAho"
   },
   "outputs": [],
   "source": [
    "c = np.array([[1, 2, 3], [1, 2, 3], [1, 2, 3]])\n",
    "c"
   ]
  },
  {
   "cell_type": "code",
   "execution_count": null,
   "metadata": {
    "id": "lv20emcKuAhs"
   },
   "outputs": [],
   "source": [
    "a * b"
   ]
  },
  {
   "cell_type": "code",
   "execution_count": null,
   "metadata": {
    "id": "hJGQ7irhuAht"
   },
   "outputs": [],
   "source": [
    "a * c"
   ]
  },
  {
   "cell_type": "markdown",
   "metadata": {
    "id": "WIERfX9juAht"
   },
   "source": [
    "В данном примере массив `b` может быть растянут до размеров массива `a` и станет абсолютно идентичен массиву `c`. \n",
    "\n",
    "\n",
    "Вычисление суммы всех элементов в массиве и прочие унарные операции в NumPy реализованы как методы класса `ndarray`:"
   ]
  },
  {
   "cell_type": "code",
   "execution_count": null,
   "metadata": {
    "id": "6u0x4be4uAh0"
   },
   "outputs": [],
   "source": [
    "a = np.arange(10)\n",
    "a"
   ]
  },
  {
   "cell_type": "code",
   "execution_count": null,
   "metadata": {
    "id": "FYQiUJ4_uAh0"
   },
   "outputs": [],
   "source": [
    "a.sum()"
   ]
  },
  {
   "cell_type": "code",
   "execution_count": null,
   "metadata": {
    "id": "5PmJ5lLTuAh1"
   },
   "outputs": [],
   "source": [
    "a.min()"
   ]
  },
  {
   "cell_type": "code",
   "execution_count": null,
   "metadata": {
    "id": "a3aX1-KKuAh1"
   },
   "outputs": [],
   "source": [
    "a.max()"
   ]
  },
  {
   "cell_type": "markdown",
   "metadata": {
    "id": "bRiokmNluAh1"
   },
   "source": [
    "По умолчанию, эти операции применяются к массиву, как к обычному списку чисел, без учета его ранга (размерности). \n",
    "\n",
    "Но если указать в качестве параметра одну из осей `axis`, то вычисления будут производиться именно по ней:"
   ]
  },
  {
   "cell_type": "code",
   "execution_count": null,
   "metadata": {
    "id": "qUH51dhWuAh2"
   },
   "outputs": [],
   "source": [
    "b = np.arange(16).reshape(4, 4)\n",
    "b"
   ]
  },
  {
   "cell_type": "code",
   "execution_count": null,
   "metadata": {
    "id": "Qria4tVNuAh2"
   },
   "outputs": [],
   "source": [
    "b.sum(axis=0)    #  Сумма элементов каждого столбца"
   ]
  },
  {
   "cell_type": "code",
   "execution_count": null,
   "metadata": {
    "id": "i3slUDEeuAh7"
   },
   "outputs": [],
   "source": [
    "b.sum(axis=1)    #  Сумма элементов каждой строки"
   ]
  },
  {
   "cell_type": "code",
   "execution_count": null,
   "metadata": {
    "id": "ReFtMHH9uAh7"
   },
   "outputs": [],
   "source": [
    "b.min(axis=1)    #  Минимальный элемент каждой строки"
   ]
  },
  {
   "cell_type": "code",
   "execution_count": null,
   "metadata": {
    "id": "H5IdmAZyuAh7"
   },
   "outputs": [],
   "source": [
    "b.max(axis=0)    #  Максимальный элемент каждого столбца"
   ]
  },
  {
   "cell_type": "markdown",
   "metadata": {
    "id": "s_7oM2CTuAh8"
   },
   "source": [
    "### Значения -inf, inf и nan\n",
    "\n",
    "вычислим натуральный логарифм массива, среди значений которого есть ноль, не появляется  никакой ошибки, а сам логарифм стал равен значению `-inf` (минус бесконечность). \n",
    "\n",
    ":"
   ]
  },
  {
   "cell_type": "code",
   "execution_count": 1,
   "metadata": {
    "colab": {
     "base_uri": "https://localhost:8080/"
    },
    "id": "caCW6koOuAh_",
    "outputId": "d69f6833-24ef-4ff3-8c13-7ddd9ffc8786"
   },
   "outputs": [
    {
     "name": "stderr",
     "output_type": "stream",
     "text": [
      "/tmp/ipykernel_7774/2049926572.py:3: RuntimeWarning: divide by zero encountered in log\n",
      "  np.log(0)\n"
     ]
    },
    {
     "data": {
      "text/plain": [
       "-inf"
      ]
     },
     "execution_count": 1,
     "metadata": {},
     "output_type": "execute_result"
    }
   ],
   "source": [
    "import numpy as np\n",
    "\n",
    "np.log(0)"
   ]
  },
  {
   "cell_type": "markdown",
   "metadata": {
    "id": "3SuyD-4cuAiC"
   },
   "source": [
    "в NumPy мы даже можем делить на ноль:"
   ]
  },
  {
   "cell_type": "code",
   "execution_count": null,
   "metadata": {
    "colab": {
     "base_uri": "https://localhost:8080/"
    },
    "id": "KG-O-83ouAiC",
    "outputId": "e41b02b2-c329-4e8d-a207-19e07ae4a10e"
   },
   "outputs": [
    {
     "name": "stderr",
     "output_type": "stream",
     "text": [
      "/usr/local/lib/python3.7/dist-packages/ipykernel_launcher.py:2: RuntimeWarning: divide by zero encountered in true_divide\n",
      "  \n"
     ]
    },
    {
     "data": {
      "text/plain": [
       "array([inf])"
      ]
     },
     "execution_count": 4,
     "metadata": {},
     "output_type": "execute_result"
    }
   ],
   "source": [
    "a = np.array([0])\n",
    "1 / a"
   ]
  },
  {
   "cell_type": "markdown",
   "metadata": {
    "id": "rjDCd49ouAiG"
   },
   "source": [
    "NumPy предупредил нас о том, что встретил деление на ноль, но тем не менее выдал ответ `inf` (плюс бесконечность). \n",
    "\n",
    "\n",
    "В NumPy есть еще одно специальное значение - `nan`. Данное значение выдается тогда, когда результат вычислений не удается определить:"
   ]
  },
  {
   "cell_type": "code",
   "execution_count": null,
   "metadata": {
    "colab": {
     "base_uri": "https://localhost:8080/"
    },
    "id": "D9SO0ILruAiH",
    "outputId": "1daed38c-7f46-424d-be66-d3aeda7166c0"
   },
   "outputs": [
    {
     "data": {
      "text/plain": [
       "array([ 0.,  1., inf])"
      ]
     },
     "execution_count": 5,
     "metadata": {},
     "output_type": "execute_result"
    }
   ],
   "source": [
    "a = np.array([0, 1, np.inf])\n",
    "a"
   ]
  },
  {
   "cell_type": "code",
   "execution_count": null,
   "metadata": {
    "colab": {
     "base_uri": "https://localhost:8080/"
    },
    "id": "sR8nUySyuAiH",
    "outputId": "f6e37f1b-a859-4892-ad01-893df380ca96"
   },
   "outputs": [
    {
     "name": "stderr",
     "output_type": "stream",
     "text": [
      "/usr/local/lib/python3.7/dist-packages/ipykernel_launcher.py:1: RuntimeWarning: invalid value encountered in cos\n",
      "  \"\"\"Entry point for launching an IPython kernel.\n"
     ]
    },
    {
     "data": {
      "text/plain": [
       "array([1.        , 0.54030231,        nan])"
      ]
     },
     "execution_count": 6,
     "metadata": {},
     "output_type": "execute_result"
    }
   ],
   "source": [
    "np.cos(a)"
   ]
  },
  {
   "cell_type": "markdown",
   "metadata": {
    "id": "8dxDUP2fuAiH"
   },
   "source": [
    "NumPy предупредил о том, что ему попалось недопустимое значение, но ошибки не возникло. \n",
    "\n",
    "Дело в том, что в реальных вычислениях значения `nan`, `inf` или `-inf` встречается очень часто.\n",
    "\n"
   ]
  },
  {
   "cell_type": "code",
   "execution_count": null,
   "metadata": {
    "colab": {
     "base_uri": "https://localhost:8080/"
    },
    "id": "o3aNMCMmuAiI",
    "outputId": "804324fc-2f8e-4b35-ed5e-681a75e9f408"
   },
   "outputs": [
    {
     "name": "stderr",
     "output_type": "stream",
     "text": [
      "/usr/local/lib/python3.7/dist-packages/ipykernel_launcher.py:1: RuntimeWarning: divide by zero encountered in double_scalars\n",
      "  \"\"\"Entry point for launching an IPython kernel.\n"
     ]
    },
    {
     "data": {
      "text/plain": [
       "inf"
      ]
     },
     "execution_count": 7,
     "metadata": {},
     "output_type": "execute_result"
    }
   ],
   "source": [
    "np.cos(0)/np.sin(0)"
   ]
  },
  {
   "cell_type": "code",
   "execution_count": null,
   "metadata": {
    "colab": {
     "base_uri": "https://localhost:8080/"
    },
    "id": "ZBM6FWk3uAiI",
    "outputId": "ffd961be-7357-4496-82c4-3038908273c1"
   },
   "outputs": [
    {
     "data": {
      "text/plain": [
       "1.633123935319537e+16"
      ]
     },
     "execution_count": 9,
     "metadata": {},
     "output_type": "execute_result"
    }
   ],
   "source": [
    "np.sin(np.pi/2)/np.cos(np.pi/2)    #  ожидаем значение 0, но..."
   ]
  },
  {
   "cell_type": "markdown",
   "metadata": {
    "id": "U2kUunpsuAiJ"
   },
   "source": [
    "Число `1.633123935319537e+16` появилось потому что в NumPy выполняются арифметические, а не символьные вычисления, т. е. число `π` хранится в памяти компьютера не как знание о том, что это математическая константа с бесконечным количеством десятичных знаков после запятой, а как обычное число с десятичной точкой (десятичная дробь) равная числу `π` с очень маленькой, но все же, погрешностью:"
   ]
  },
  {
   "cell_type": "code",
   "execution_count": null,
   "metadata": {
    "colab": {
     "base_uri": "https://localhost:8080/"
    },
    "id": "uijbJ_16uAiJ",
    "outputId": "aa662743-6ee2-40fa-dd52-1924edbe852d"
   },
   "outputs": [
    {
     "data": {
      "text/plain": [
       "3.141592653589793"
      ]
     },
     "execution_count": 10,
     "metadata": {},
     "output_type": "execute_result"
    }
   ],
   "source": [
    "np.pi    #  значение числа pi в NumPy"
   ]
  },
  {
   "cell_type": "markdown",
   "metadata": {
    "id": "-epA8vUfuAiJ"
   },
   "source": [
    "Если вычисления все же возможны, то NumPy их обязательно выполнит. \n",
    "\n"
   ]
  },
  {
   "cell_type": "markdown",
   "metadata": {
    "id": "CxWMLxGduAiK"
   },
   "source": [
    "Если вам необходимы точные решения, то лучше обратиться к системам компьютерной алгебры и символьных вычислений, например пакету [SymPy](http://www.sympy.org/en/index.html). \n",
    "\n"
   ]
  },
  {
   "cell_type": "markdown",
   "metadata": {
    "id": "I9GgoPi7uAiK"
   },
   "source": [
    "### Линейная алгебра\n",
    "\n",
    "[Много функций](https://pyprog.pro/linear_algebra_functions/linalg_functions.html).\n",
    "\n",
    "Произведение одномерных массивов представляет собой скалярное произведение векторов:"
   ]
  },
  {
   "cell_type": "code",
   "execution_count": null,
   "metadata": {
    "colab": {
     "base_uri": "https://localhost:8080/"
    },
    "id": "SwWKqJ39uAiN",
    "outputId": "3b32739b-5c85-4fbf-fb58-c528870174b0"
   },
   "outputs": [
    {
     "data": {
      "text/plain": [
       "11"
      ]
     },
     "execution_count": 11,
     "metadata": {},
     "output_type": "execute_result"
    }
   ],
   "source": [
    "a = np.array([1, 2])\n",
    "b = np.array([3, 4])\n",
    "np.dot(a, b)"
   ]
  },
  {
   "cell_type": "markdown",
   "metadata": {
    "id": "fa9Txyg_uAiO"
   },
   "source": [
    "Произведение двумерных массивов по правилам линейной алгебры также возможно:"
   ]
  },
  {
   "cell_type": "code",
   "execution_count": null,
   "metadata": {
    "colab": {
     "base_uri": "https://localhost:8080/"
    },
    "id": "jR1OAG9suAiO",
    "outputId": "7e4de176-5a62-4ce0-b74b-a65a451eee46"
   },
   "outputs": [
    {
     "data": {
      "text/plain": [
       "array([[2, 3],\n",
       "       [4, 5]])"
      ]
     },
     "execution_count": 12,
     "metadata": {},
     "output_type": "execute_result"
    }
   ],
   "source": [
    "a = np.arange(2, 6).reshape(2, 2)\n",
    "a"
   ]
  },
  {
   "cell_type": "code",
   "execution_count": null,
   "metadata": {
    "colab": {
     "base_uri": "https://localhost:8080/"
    },
    "id": "imffmgxyuAiO",
    "outputId": "0ff939d1-11b7-4262-afdc-df5ec9538b4d"
   },
   "outputs": [
    {
     "data": {
      "text/plain": [
       "array([[6, 7],\n",
       "       [8, 9]])"
      ]
     },
     "execution_count": 13,
     "metadata": {},
     "output_type": "execute_result"
    }
   ],
   "source": [
    "b = np.arange(6, 10).reshape(2, 2)\n",
    "b"
   ]
  },
  {
   "cell_type": "code",
   "execution_count": null,
   "metadata": {
    "colab": {
     "base_uri": "https://localhost:8080/"
    },
    "id": "4CUUE9MAuAiP",
    "outputId": "82ac7ca7-047a-44b6-c76c-a0f20c49c5cd"
   },
   "outputs": [
    {
     "data": {
      "text/plain": [
       "array([[36, 41],\n",
       "       [64, 73]])"
      ]
     },
     "execution_count": 14,
     "metadata": {},
     "output_type": "execute_result"
    }
   ],
   "source": [
    "np.dot(a, b)"
   ]
  },
  {
   "cell_type": "markdown",
   "metadata": {
    "id": "aCm1hICauAiP"
   },
   "source": [
    "При этом размеры матриц (массивов) должны быть либо равны, а сами матрицы квадратными, либо быть согласованными, т.е. если размеры матрицы `А` равны `[m,k]`, то размеры матрицы `В` должны быть равны `[k,n]`:"
   ]
  },
  {
   "cell_type": "code",
   "execution_count": null,
   "metadata": {
    "id": "E0jVZJ2MuAiP"
   },
   "outputs": [],
   "source": [
    "a = np.arange(2, 8).reshape(2, 3)\n",
    "a"
   ]
  },
  {
   "cell_type": "code",
   "execution_count": null,
   "metadata": {
    "id": "cH9p8VTRuAiP"
   },
   "outputs": [],
   "source": [
    "b = np.arange(4, 10).reshape(3, 2)\n",
    "b"
   ]
  },
  {
   "cell_type": "code",
   "execution_count": null,
   "metadata": {
    "id": "5k9M95dguAiQ"
   },
   "outputs": [],
   "source": [
    "np.dot(a,b)"
   ]
  },
  {
   "cell_type": "markdown",
   "metadata": {
    "id": "7M582hILuAiQ"
   },
   "source": [
    "Также по правилам умножения матриц, мы можем умножить матрицу на вектор (одномерный массив). \n",
    "\n",
    "При этом в таком умножении вектор столбец должен находиться справа, а вектор строка слева:"
   ]
  },
  {
   "cell_type": "code",
   "execution_count": null,
   "metadata": {
    "id": "k4fDVnQ_uAiQ"
   },
   "outputs": [],
   "source": [
    "a = np.array([1, 2, 3])\n",
    "a"
   ]
  },
  {
   "cell_type": "code",
   "execution_count": null,
   "metadata": {
    "id": "PhnVn4miuAiQ"
   },
   "outputs": [],
   "source": [
    "b = np.arange(4, 10).reshape(3, 2)\n",
    "b"
   ]
  },
  {
   "cell_type": "code",
   "execution_count": null,
   "metadata": {
    "id": "-9p4vymsuAiQ"
   },
   "outputs": [],
   "source": [
    "np.dot(a, b)"
   ]
  },
  {
   "cell_type": "code",
   "execution_count": null,
   "metadata": {
    "id": "eervvsdDuAiQ"
   },
   "outputs": [],
   "source": [
    "a = np.arange(1, 3).reshape(2, 1)\n",
    "a"
   ]
  },
  {
   "cell_type": "code",
   "execution_count": null,
   "metadata": {
    "id": "Ja12MTdvuAiQ"
   },
   "outputs": [],
   "source": [
    "b = np.arange(4, 10).reshape(3, 2)\n",
    "b"
   ]
  },
  {
   "cell_type": "code",
   "execution_count": null,
   "metadata": {
    "id": "4CNahXd1uAiR"
   },
   "outputs": [],
   "source": [
    "np.dot(b, a)"
   ]
  },
  {
   "cell_type": "markdown",
   "metadata": {
    "id": "71KbX1O0uAiR"
   },
   "source": [
    "Квадратные матрицы можно возводить в степень `n` т.е. умнажать сами на себя `n` раз:"
   ]
  },
  {
   "cell_type": "code",
   "execution_count": null,
   "metadata": {
    "colab": {
     "base_uri": "https://localhost:8080/"
    },
    "id": "cZrVY-GZuAiR",
    "outputId": "30b59c09-efff-42c9-cd52-026a5178a2f2"
   },
   "outputs": [
    {
     "data": {
      "text/plain": [
       "array([[1, 2],\n",
       "       [3, 4]])"
      ]
     },
     "execution_count": 15,
     "metadata": {},
     "output_type": "execute_result"
    }
   ],
   "source": [
    "a = np.arange(1, 5).reshape(2, 2)\n",
    "a"
   ]
  },
  {
   "cell_type": "code",
   "execution_count": null,
   "metadata": {
    "colab": {
     "base_uri": "https://localhost:8080/"
    },
    "id": "Wh5TrB6VuAiS",
    "outputId": "cbb5cc11-8129-4f3a-e106-ee3f0ccdcf73"
   },
   "outputs": [
    {
     "data": {
      "text/plain": [
       "array([[ 7, 10],\n",
       "       [15, 22]])"
      ]
     },
     "execution_count": 16,
     "metadata": {},
     "output_type": "execute_result"
    }
   ],
   "source": [
    "np.dot(a, a)    #  Равносильно a**2"
   ]
  },
  {
   "cell_type": "code",
   "execution_count": null,
   "metadata": {
    "colab": {
     "base_uri": "https://localhost:8080/"
    },
    "id": "Cnndwh9luAiS",
    "outputId": "bcedb113-40da-4900-eb62-f878a5a441dc"
   },
   "outputs": [
    {
     "data": {
      "text/plain": [
       "array([[ 7, 10],\n",
       "       [15, 22]])"
      ]
     },
     "execution_count": 17,
     "metadata": {},
     "output_type": "execute_result"
    }
   ],
   "source": [
    "np.linalg.matrix_power(a, 2)"
   ]
  },
  {
   "cell_type": "code",
   "execution_count": null,
   "metadata": {
    "id": "iLYWAJ3DuAiS"
   },
   "outputs": [],
   "source": [
    "np.linalg.matrix_power(a, 0)"
   ]
  },
  {
   "cell_type": "markdown",
   "metadata": {
    "id": "koLxI-FWuAiT"
   },
   "source": [
    "Довольно часто приходится вычислять ранг матриц:"
   ]
  },
  {
   "cell_type": "code",
   "execution_count": null,
   "metadata": {
    "id": "MLkWREgeuAiX"
   },
   "outputs": [],
   "source": [
    "a = np.arange(1, 10).reshape(3, 3)\n",
    "a"
   ]
  },
  {
   "cell_type": "code",
   "execution_count": null,
   "metadata": {
    "colab": {
     "base_uri": "https://localhost:8080/"
    },
    "id": "2hv0e7RouAiY",
    "outputId": "412b3a7f-4d37-4561-f935-6be5c0664745"
   },
   "outputs": [
    {
     "data": {
      "text/plain": [
       "2"
      ]
     },
     "execution_count": 18,
     "metadata": {},
     "output_type": "execute_result"
    }
   ],
   "source": [
    "np.linalg.matrix_rank(a)"
   ]
  },
  {
   "cell_type": "code",
   "execution_count": null,
   "metadata": {
    "id": "9oMKlwcIuAiY"
   },
   "outputs": [],
   "source": [
    "b = np.arange(1, 24, 2).reshape(3, 4)\n",
    "b"
   ]
  },
  {
   "cell_type": "code",
   "execution_count": null,
   "metadata": {
    "id": "IJ4t4FumuAiY"
   },
   "outputs": [],
   "source": [
    "np.linalg.matrix_rank(b)"
   ]
  },
  {
   "cell_type": "markdown",
   "metadata": {
    "id": "VyP_9Y-FuAib"
   },
   "source": [
    "Еще чаще приходится вычислять определитель матриц, хотя результат вас может немного удивить:"
   ]
  },
  {
   "cell_type": "code",
   "execution_count": null,
   "metadata": {
    "colab": {
     "base_uri": "https://localhost:8080/"
    },
    "id": "KHsdaq5HuAib",
    "outputId": "4a79cef4-e7d5-4096-afa8-7190d74dfe35"
   },
   "outputs": [
    {
     "data": {
      "text/plain": [
       "array([[1, 3],\n",
       "       [4, 3]])"
      ]
     },
     "execution_count": 19,
     "metadata": {},
     "output_type": "execute_result"
    }
   ],
   "source": [
    "a = np.array([[1, 3], [4, 3]])\n",
    "a"
   ]
  },
  {
   "cell_type": "code",
   "execution_count": null,
   "metadata": {
    "colab": {
     "base_uri": "https://localhost:8080/"
    },
    "id": "k_ko-dixuAic",
    "outputId": "8b94b154-f7bd-4467-960a-78e6b19c2137"
   },
   "outputs": [
    {
     "data": {
      "text/plain": [
       "-8.999999999999998"
      ]
     },
     "execution_count": 20,
     "metadata": {},
     "output_type": "execute_result"
    }
   ],
   "source": [
    "np.linalg.det(a)"
   ]
  },
  {
   "cell_type": "code",
   "execution_count": null,
   "metadata": {
    "id": "YfFZm20luAla"
   },
   "outputs": [],
   "source": [
    "1*3 - 3*4    #  Результат должен быть целым числом"
   ]
  },
  {
   "cell_type": "markdown",
   "metadata": {
    "id": "IrRc9cxauAla"
   },
   "source": [
    "В данном случае, из-за двоичной арифметики, результат нецелое число и округлять до ближайшего целого придется вручную. \n",
    "\n",
    "Это связано с тем, что алгоритм вычисления определителя использует [LU-разложение](https://ru.wikipedia.org/wiki/LU-%D1%80%D0%B0%D0%B7%D0%BB%D0%BE%D0%B6%D0%B5%D0%BD%D0%B8%D0%B5) - это намного быстрее, чем обычный алгоритм, но за скорость все же приходится немного заплатить ручным округлением (конечно, если таковое требуется):"
   ]
  },
  {
   "cell_type": "code",
   "execution_count": null,
   "metadata": {
    "id": "h8kbdiJkuAlc"
   },
   "outputs": [],
   "source": [
    "np.linalg.det(a)"
   ]
  },
  {
   "cell_type": "code",
   "execution_count": null,
   "metadata": {
    "id": "fbC5Rj0quAld"
   },
   "outputs": [],
   "source": [
    "round(np.linalg.det(a))"
   ]
  },
  {
   "cell_type": "code",
   "execution_count": null,
   "metadata": {
    "id": "xnim4LHfuAlj"
   },
   "outputs": [],
   "source": [
    "b = np.arange(1, 48, 3).reshape(4, 4)\n",
    "b"
   ]
  },
  {
   "cell_type": "code",
   "execution_count": null,
   "metadata": {
    "id": "GLbf8xR8uAlk"
   },
   "outputs": [],
   "source": [
    "np.linalg.det(b)"
   ]
  },
  {
   "cell_type": "code",
   "execution_count": null,
   "metadata": {
    "id": "N9V5S7nduAlk"
   },
   "outputs": [],
   "source": [
    "round(np.linalg.det(b))"
   ]
  },
  {
   "cell_type": "markdown",
   "metadata": {
    "id": "05IhcXATuAlk"
   },
   "source": [
    "Транспонирование матриц:"
   ]
  },
  {
   "cell_type": "code",
   "execution_count": null,
   "metadata": {
    "id": "hJeMnbnauAlk"
   },
   "outputs": [],
   "source": [
    "a"
   ]
  },
  {
   "cell_type": "code",
   "execution_count": null,
   "metadata": {
    "id": "g9Wy6MZauAlk"
   },
   "outputs": [],
   "source": [
    "a.T"
   ]
  },
  {
   "cell_type": "markdown",
   "metadata": {
    "id": "vMGk2ls6uAlk"
   },
   "source": [
    "Вычисление обратных матриц:"
   ]
  },
  {
   "cell_type": "code",
   "execution_count": null,
   "metadata": {
    "id": "86OaAVY6uAll"
   },
   "outputs": [],
   "source": [
    "a"
   ]
  },
  {
   "cell_type": "code",
   "execution_count": null,
   "metadata": {
    "id": "N25SLKHsuAll"
   },
   "outputs": [],
   "source": [
    "b = np.linalg.inv(a)\n",
    "b"
   ]
  },
  {
   "cell_type": "code",
   "execution_count": null,
   "metadata": {
    "id": "loqu-FDQuAll"
   },
   "outputs": [],
   "source": [
    "np.dot(a, b)"
   ]
  },
  {
   "cell_type": "markdown",
   "metadata": {
    "id": "5z8ihrRTuAll"
   },
   "source": [
    "Решение систем линейных уравнений:"
   ]
  },
  {
   "cell_type": "code",
   "execution_count": null,
   "metadata": {
    "id": "0t6I5z33uAll"
   },
   "outputs": [],
   "source": [
    "#  система из двух линейных уравнений:\n",
    "#  1*x1 + 5*x2 = 11\n",
    "#  2*x1 + 3*x2 = 8\n",
    "a = np.array([[1, 5], [2, 3]])\n",
    "b = np.array([11, 8])"
   ]
  },
  {
   "cell_type": "code",
   "execution_count": null,
   "metadata": {
    "colab": {
     "base_uri": "https://localhost:8080/"
    },
    "id": "Bxfp_974uAll",
    "outputId": "d4edf5d5-ec21-44ab-c6cc-770585c9db18"
   },
   "outputs": [
    {
     "data": {
      "text/plain": [
       "array([1., 2.])"
      ]
     },
     "execution_count": 22,
     "metadata": {},
     "output_type": "execute_result"
    }
   ],
   "source": [
    "x = np.linalg.solve(a, b)\n",
    "x"
   ]
  },
  {
   "cell_type": "code",
   "execution_count": null,
   "metadata": {
    "colab": {
     "base_uri": "https://localhost:8080/"
    },
    "id": "4CbuyvFEuAll",
    "outputId": "71296d6d-cb09-4088-e577-0dd3c20506b2"
   },
   "outputs": [
    {
     "data": {
      "text/plain": [
       "array([11.,  8.])"
      ]
     },
     "execution_count": 23,
     "metadata": {},
     "output_type": "execute_result"
    }
   ],
   "source": [
    "np.dot(a, x)"
   ]
  },
  {
   "cell_type": "markdown",
   "metadata": {
    "id": "zA86r2J8uAlm"
   },
   "source": [
    "### Статистика\n",
    "\n",
    "[Элементарные статистические функции](https://pyprog.pro/statistics_functions/statistics_function.html):"
   ]
  },
  {
   "cell_type": "code",
   "execution_count": null,
   "metadata": {
    "colab": {
     "base_uri": "https://localhost:8080/"
    },
    "id": "KU8JLTn1uAlr",
    "outputId": "61197a32-e11e-4cb7-ac85-2873cda2865a"
   },
   "outputs": [
    {
     "data": {
      "text/plain": [
       "array([[ 72,  34, 171, 186, 153],\n",
       "       [156, 172,  90, 178,  63],\n",
       "       [ 68,  68, 167,  50, 192],\n",
       "       [133,  17, 144, 187,  61],\n",
       "       [ 63, 136, 105,  73, 121]])"
      ]
     },
     "execution_count": 26,
     "metadata": {},
     "output_type": "execute_result"
    }
   ],
   "source": [
    "a = np.random.randint(200, size=(5, 5))\n",
    "a"
   ]
  },
  {
   "cell_type": "code",
   "execution_count": null,
   "metadata": {
    "id": "6CTvrLsFuAlr"
   },
   "outputs": [],
   "source": [
    "np.amin(a)    #  Минимальный элемент массива"
   ]
  },
  {
   "cell_type": "code",
   "execution_count": null,
   "metadata": {
    "id": "h0rxz8DouAlr"
   },
   "outputs": [],
   "source": [
    "np.amax(a)    #  максимальный элемент"
   ]
  },
  {
   "cell_type": "code",
   "execution_count": null,
   "metadata": {
    "id": "b2UsqZbtuAls"
   },
   "outputs": [],
   "source": [
    "np.amin(a, axis=0)  #  минимальный элемент вдоль первой оси (столбцы)"
   ]
  },
  {
   "cell_type": "code",
   "execution_count": null,
   "metadata": {
    "id": "EHkWpssHuAls"
   },
   "outputs": [],
   "source": [
    "np.amin(a, axis=1)  #  минимальный элемент вдоль второй оси (строки)"
   ]
  },
  {
   "cell_type": "code",
   "execution_count": null,
   "metadata": {
    "colab": {
     "base_uri": "https://localhost:8080/"
    },
    "id": "tWy6HM4muAls",
    "outputId": "121dcf28-9304-43f2-a4c2-e887e3fcc919"
   },
   "outputs": [
    {
     "data": {
      "text/plain": [
       "68.0"
      ]
     },
     "execution_count": 27,
     "metadata": {},
     "output_type": "execute_result"
    }
   ],
   "source": [
    "#  Процентили:\n",
    "np.percentile(a, 25)"
   ]
  },
  {
   "cell_type": "code",
   "execution_count": null,
   "metadata": {
    "colab": {
     "base_uri": "https://localhost:8080/"
    },
    "id": "9D9bi7khuAls",
    "outputId": "59693f38-b3e6-487a-a878-1f959b293eb4"
   },
   "outputs": [
    {
     "data": {
      "text/plain": [
       "121.0"
      ]
     },
     "execution_count": 28,
     "metadata": {},
     "output_type": "execute_result"
    }
   ],
   "source": [
    "np.percentile(a, 50)"
   ]
  },
  {
   "cell_type": "code",
   "execution_count": null,
   "metadata": {
    "colab": {
     "base_uri": "https://localhost:8080/"
    },
    "id": "1-EDFKIMuAlt",
    "outputId": "f12e07de-c966-4ba8-a7ab-ddcb24078a36"
   },
   "outputs": [
    {
     "data": {
      "text/plain": [
       "167.0"
      ]
     },
     "execution_count": 29,
     "metadata": {},
     "output_type": "execute_result"
    }
   ],
   "source": [
    "np.percentile(a, 75)"
   ]
  },
  {
   "cell_type": "markdown",
   "metadata": {
    "id": "p3p21AfJuAlt"
   },
   "source": [
    "Средние значения элементов массива и их отклонения:"
   ]
  },
  {
   "cell_type": "code",
   "execution_count": null,
   "metadata": {
    "id": "I7wJsfWHuAlt"
   },
   "outputs": [],
   "source": [
    "a = np.random.randint(13, size=(5, 5))\n",
    "a"
   ]
  },
  {
   "cell_type": "code",
   "execution_count": null,
   "metadata": {
    "id": "23hhjwXnuAlu"
   },
   "outputs": [],
   "source": [
    "np.median(a)    #  медиана элементов массива"
   ]
  },
  {
   "cell_type": "code",
   "execution_count": null,
   "metadata": {
    "id": "cGUMgTgguAlu"
   },
   "outputs": [],
   "source": [
    "np.mean(a)    #  среднее арифметическое"
   ]
  },
  {
   "cell_type": "code",
   "execution_count": null,
   "metadata": {
    "colab": {
     "base_uri": "https://localhost:8080/"
    },
    "id": "wQHJcIWxuAlu",
    "outputId": "ec899fbc-cc01-4c02-f312-bbebf0024c5e"
   },
   "outputs": [
    {
     "data": {
      "text/plain": [
       "2857.6"
      ]
     },
     "execution_count": 30,
     "metadata": {},
     "output_type": "execute_result"
    }
   ],
   "source": [
    "np.var(a)    #  дисперсия"
   ]
  },
  {
   "cell_type": "code",
   "execution_count": null,
   "metadata": {
    "colab": {
     "base_uri": "https://localhost:8080/"
    },
    "id": "Nty81U3ouAlu",
    "outputId": "2326c4dc-bde0-4743-ce42-55cfde64ec78"
   },
   "outputs": [
    {
     "data": {
      "text/plain": [
       "53.45652439132196"
      ]
     },
     "execution_count": 31,
     "metadata": {},
     "output_type": "execute_result"
    }
   ],
   "source": [
    "np.std(a)    #  стандартное отклонение"
   ]
  },
  {
   "cell_type": "markdown",
   "metadata": {
    "id": "6xQEElNhuAlu"
   },
   "source": [
    "Корреляционные коэфициенты и ковариационные матрицы величин:"
   ]
  },
  {
   "cell_type": "code",
   "execution_count": null,
   "metadata": {
    "id": "6AnteAMAuAlv"
   },
   "outputs": [],
   "source": [
    "x = np.array([1, 4, 3, 7, 10, 8, 14, 21, 20, 23])\n",
    "y = np.array([4, 1, 6, 9, 13, 11, 16, 19, 15, 22])\n",
    "z = np.array([29, 22, 24, 20, 18, 14, 16, 11, 9, 10])"
   ]
  },
  {
   "cell_type": "code",
   "execution_count": null,
   "metadata": {
    "colab": {
     "base_uri": "https://localhost:8080/"
    },
    "id": "NgTdgcjVuAlv",
    "outputId": "942a0781-3488-426e-c972-c2dee65e62b9"
   },
   "outputs": [
    {
     "data": {
      "text/plain": [
       "array([[ 1,  4],\n",
       "       [ 4,  1],\n",
       "       [ 3,  6],\n",
       "       [ 7,  9],\n",
       "       [10, 13],\n",
       "       [ 8, 11],\n",
       "       [14, 16],\n",
       "       [21, 19],\n",
       "       [20, 15],\n",
       "       [23, 22]])"
      ]
     },
     "execution_count": 34,
     "metadata": {},
     "output_type": "execute_result"
    }
   ],
   "source": [
    "#  Линейный коэфициент корреляции Пирсона\n",
    "#  величин 'x' и 'y'\n",
    "\n",
    "XY = np.stack((x, y), axis=1)\n",
    "XY"
   ]
  },
  {
   "cell_type": "code",
   "execution_count": null,
   "metadata": {
    "id": "Fzn2HHGzuAlv"
   },
   "outputs": [],
   "source": [
    "np.corrcoef(XY)"
   ]
  },
  {
   "cell_type": "code",
   "execution_count": null,
   "metadata": {
    "colab": {
     "base_uri": "https://localhost:8080/"
    },
    "id": "omdVkU5buAlv",
    "outputId": "74d9b3af-57fc-4440-dc3f-643ebab0c26a"
   },
   "outputs": [
    {
     "data": {
      "text/plain": [
       "array([1736])"
      ]
     },
     "execution_count": 35,
     "metadata": {},
     "output_type": "execute_result"
    }
   ],
   "source": [
    "#  Кросс-корреляции:\n",
    "np.correlate(x, y)"
   ]
  },
  {
   "cell_type": "code",
   "execution_count": null,
   "metadata": {
    "colab": {
     "base_uri": "https://localhost:8080/"
    },
    "id": "yTxumYpKuAlv",
    "outputId": "671cfd20-48f7-4b71-f614-47ceeb8d7cbf"
   },
   "outputs": [
    {
     "data": {
      "text/plain": [
       "array([1486])"
      ]
     },
     "execution_count": 36,
     "metadata": {},
     "output_type": "execute_result"
    }
   ],
   "source": [
    "np.correlate(x, z)"
   ]
  },
  {
   "cell_type": "code",
   "execution_count": null,
   "metadata": {
    "colab": {
     "base_uri": "https://localhost:8080/"
    },
    "id": "6cuqsXb8uAlv",
    "outputId": "98ff39a9-7ce9-487e-a481-ba46b10bb497"
   },
   "outputs": [
    {
     "data": {
      "text/plain": [
       "array([[ 4.5, -4.5,  4.5,  3. ,  4.5,  4.5,  3. , -3. , -7.5, -1.5],\n",
       "       [-4.5,  4.5, -4.5, -3. , -4.5, -4.5, -3. ,  3. ,  7.5,  1.5],\n",
       "       [ 4.5, -4.5,  4.5,  3. ,  4.5,  4.5,  3. , -3. , -7.5, -1.5],\n",
       "       [ 3. , -3. ,  3. ,  2. ,  3. ,  3. ,  2. , -2. , -5. , -1. ],\n",
       "       [ 4.5, -4.5,  4.5,  3. ,  4.5,  4.5,  3. , -3. , -7.5, -1.5],\n",
       "       [ 4.5, -4.5,  4.5,  3. ,  4.5,  4.5,  3. , -3. , -7.5, -1.5],\n",
       "       [ 3. , -3. ,  3. ,  2. ,  3. ,  3. ,  2. , -2. , -5. , -1. ],\n",
       "       [-3. ,  3. , -3. , -2. , -3. , -3. , -2. ,  2. ,  5. ,  1. ],\n",
       "       [-7.5,  7.5, -7.5, -5. , -7.5, -7.5, -5. ,  5. , 12.5,  2.5],\n",
       "       [-1.5,  1.5, -1.5, -1. , -1.5, -1.5, -1. ,  1. ,  2.5,  0.5]])"
      ]
     },
     "execution_count": 37,
     "metadata": {},
     "output_type": "execute_result"
    }
   ],
   "source": [
    "#  Ковариационные матрицы:\n",
    "np.cov(XY)"
   ]
  },
  {
   "cell_type": "code",
   "execution_count": null,
   "metadata": {
    "colab": {
     "base_uri": "https://localhost:8080/"
    },
    "id": "IGQGnx4guAlv",
    "outputId": "69e9bef5-a88b-4a7e-e559-5edcc2c4e674"
   },
   "outputs": [
    {
     "data": {
      "text/plain": [
       "array(63.65555556)"
      ]
     },
     "execution_count": 38,
     "metadata": {},
     "output_type": "execute_result"
    }
   ],
   "source": [
    "np.cov(x)"
   ]
  },
  {
   "cell_type": "markdown",
   "metadata": {
    "id": "cejp26LeuAlw"
   },
   "source": [
    "Так же NumPy предоставляет функции для вычисления гистограмм наборов данных различной размерности и некоторые другие статистичские функции."
   ]
  },
  {
   "cell_type": "markdown",
   "metadata": {
    "id": "IP-nADebuAlw"
   },
   "source": [
    "### Генерация случайных значений"
   ]
  },
  {
   "cell_type": "markdown",
   "metadata": {
    "id": "qk-Cw6PouAlw"
   },
   "source": [
    "Получение простых случайных данных:"
   ]
  },
  {
   "cell_type": "code",
   "execution_count": null,
   "metadata": {
    "colab": {
     "base_uri": "https://localhost:8080/"
    },
    "id": "rEvfMIjpuAlw",
    "outputId": "51d88db6-5fe5-436e-f32e-f5879a2aa9b9"
   },
   "outputs": [
    {
     "data": {
      "text/plain": [
       "0.03531268624747008"
      ]
     },
     "execution_count": 39,
     "metadata": {},
     "output_type": "execute_result"
    }
   ],
   "source": [
    "np.random.rand()    #  случайное число от 0 до 1"
   ]
  },
  {
   "cell_type": "code",
   "execution_count": null,
   "metadata": {
    "colab": {
     "base_uri": "https://localhost:8080/"
    },
    "id": "1Y555vy6uAlw",
    "outputId": "ef545e0e-92e2-4938-e139-3799494eead0"
   },
   "outputs": [
    {
     "data": {
      "text/plain": [
       "array([0.69194585, 0.03302362, 0.27109954, 0.29604165, 0.76997087,\n",
       "       0.9066475 , 0.30879373, 0.65730638, 0.40157416, 0.28751768])"
      ]
     },
     "execution_count": 40,
     "metadata": {},
     "output_type": "execute_result"
    }
   ],
   "source": [
    "np.random.rand(10)    #  одномерный массив случайных значений"
   ]
  },
  {
   "cell_type": "code",
   "execution_count": null,
   "metadata": {
    "colab": {
     "base_uri": "https://localhost:8080/"
    },
    "id": "oZskILN_uAlx",
    "outputId": "9a0962a7-ef03-499f-bef3-97c88fde0bdb"
   },
   "outputs": [
    {
     "data": {
      "text/plain": [
       "array([[0.96830433, 0.12691256, 0.88004409, 0.40875406],\n",
       "       [0.1153612 , 0.63423812, 0.53466323, 0.6633678 ],\n",
       "       [0.341734  , 0.87080408, 0.55916858, 0.89655809],\n",
       "       [0.15120441, 0.5007431 , 0.14022154, 0.21469991]])"
      ]
     },
     "execution_count": 42,
     "metadata": {},
     "output_type": "execute_result"
    }
   ],
   "source": [
    "np.random.rand(4, 4)    #  двумерный массив случайных значений"
   ]
  },
  {
   "cell_type": "code",
   "execution_count": null,
   "metadata": {
    "id": "Rx2_AYYIuAlx"
   },
   "outputs": [],
   "source": [
    "np.random.randn(10)    #  случайные значения с нормальным распределением"
   ]
  },
  {
   "cell_type": "code",
   "execution_count": null,
   "metadata": {
    "id": "61ZYqHtHuAlx"
   },
   "outputs": [],
   "source": [
    "np.random.randint(10)    #  случайное целое число от 0 до 10"
   ]
  },
  {
   "cell_type": "code",
   "execution_count": null,
   "metadata": {
    "id": "FNRuNvOKuAlx"
   },
   "outputs": [],
   "source": [
    "np.random.randint(10, 100)    #  случайное целое число от 10 до 100"
   ]
  },
  {
   "cell_type": "code",
   "execution_count": null,
   "metadata": {
    "id": "2m_h50U8uAlx"
   },
   "outputs": [],
   "source": [
    "np.random.randint(10, size=7)    #  одномерный массив случайных целых чисел"
   ]
  },
  {
   "cell_type": "code",
   "execution_count": null,
   "metadata": {
    "id": "tKHNryKbuAly"
   },
   "outputs": [],
   "source": [
    "np.random.randint(10, size=(4, 4))    #  двумерный массив случайных целых чисел"
   ]
  },
  {
   "cell_type": "markdown",
   "metadata": {
    "id": "PbmquL2HuAl1"
   },
   "source": [
    "Перестановки:"
   ]
  },
  {
   "cell_type": "code",
   "execution_count": null,
   "metadata": {
    "id": "OQ6U4ouEuAl1"
   },
   "outputs": [],
   "source": [
    "x = np.arange(7)\n",
    "x"
   ]
  },
  {
   "cell_type": "code",
   "execution_count": null,
   "metadata": {
    "colab": {
     "base_uri": "https://localhost:8080/"
    },
    "id": "Vwva1GrYuAl1",
    "outputId": "7651567f-8baf-4eac-e369-e75146ac49d3"
   },
   "outputs": [
    {
     "data": {
      "text/plain": [
       "array([ 3,  1,  7, 23, 14, 20,  4, 21, 10,  8])"
      ]
     },
     "execution_count": 43,
     "metadata": {},
     "output_type": "execute_result"
    }
   ],
   "source": [
    "np.random.shuffle(x)    #  перетасовывает содержимое массива\n",
    "x"
   ]
  },
  {
   "cell_type": "code",
   "execution_count": null,
   "metadata": {
    "colab": {
     "base_uri": "https://localhost:8080/"
    },
    "id": "x5wpGe4quAl1",
    "outputId": "072cd8c6-cbe5-49b9-c035-4cb89756d459"
   },
   "outputs": [
    {
     "data": {
      "text/plain": [
       "array([4, 1, 3, 6, 5, 0, 2])"
      ]
     },
     "execution_count": 44,
     "metadata": {},
     "output_type": "execute_result"
    }
   ],
   "source": [
    "np.random.permutation(7)    #  выполняет тоже самое, не требуя входного массива"
   ]
  },
  {
   "cell_type": "code",
   "execution_count": null,
   "metadata": {
    "id": "gYIjsWHzuAl2"
   },
   "outputs": [],
   "source": [
    "y = np.arange(9).reshape(3, 3)\n",
    "y"
   ]
  },
  {
   "cell_type": "code",
   "execution_count": null,
   "metadata": {
    "id": "NaXyzDOcuAl2"
   },
   "outputs": [],
   "source": [
    "np.random.shuffle(y)    #  перестановки выполняются только по 1-й оси"
   ]
  },
  {
   "cell_type": "markdown",
   "metadata": {
    "id": "3y0s39IHuAl2"
   },
   "source": [
    "NumPy предоставляет [порядка 30 функций](https://pyprog.pro/random_sampling_functions/random_sampling_functions.html), позволяющих генерировать случайные числа с самыми разными вероятностными распределениями:"
   ]
  },
  {
   "cell_type": "code",
   "execution_count": null,
   "metadata": {
    "colab": {
     "base_uri": "https://localhost:8080/"
    },
    "id": "tq8zvo2FuAl2",
    "outputId": "83563153-00b6-4675-e6ca-3a4b24cdffb2"
   },
   "outputs": [
    {
     "data": {
      "text/plain": [
       "array([5.14588126e-02, 1.08249428e-08, 1.13499722e-01, 4.72836587e-03,\n",
       "       2.67697709e-02])"
      ]
     },
     "execution_count": 45,
     "metadata": {},
     "output_type": "execute_result"
    }
   ],
   "source": [
    "np.random.beta(0.1, 0.6, size=5)    #  бета распределение"
   ]
  },
  {
   "cell_type": "code",
   "execution_count": null,
   "metadata": {
    "colab": {
     "base_uri": "https://localhost:8080/"
    },
    "id": "BES4Z3SJuAl2",
    "outputId": "c22d0567-9621-4b65-8baa-54bde52d4ea1"
   },
   "outputs": [
    {
     "data": {
      "text/plain": [
       "array([0.84068412, 2.0062939 , 2.87326476, 2.35582399, 1.1962259 ])"
      ]
     },
     "execution_count": 46,
     "metadata": {},
     "output_type": "execute_result"
    }
   ],
   "source": [
    "np.random.gamma(shape=0.8, scale=1.7, size=5)    # гамма распределение"
   ]
  },
  {
   "cell_type": "code",
   "execution_count": null,
   "metadata": {
    "colab": {
     "base_uri": "https://localhost:8080/"
    },
    "id": "TiRNJxZruAl2",
    "outputId": "7e6bdcfe-ecb5-42fe-b057-9c3f44b88b5d"
   },
   "outputs": [
    {
     "data": {
      "text/plain": [
       "array([0.06709345, 0.11129089, 0.13330934, 0.0447309 , 0.11014842])"
      ]
     },
     "execution_count": 47,
     "metadata": {},
     "output_type": "execute_result"
    }
   ],
   "source": [
    "np.random.pareto(3.5, size=5)    #  Паретто распределение"
   ]
  },
  {
   "cell_type": "code",
   "execution_count": null,
   "metadata": {
    "colab": {
     "base_uri": "https://localhost:8080/"
    },
    "id": "8Y7AuutEuAl3",
    "outputId": "db6d99da-a1cb-4995-dc15-6342f3d3d583"
   },
   "outputs": [
    {
     "data": {
      "text/plain": [
       "array([1.43499733, 5.00922893, 2.57464691, 4.71706516, 1.93135515])"
      ]
     },
     "execution_count": 48,
     "metadata": {},
     "output_type": "execute_result"
    }
   ],
   "source": [
    "np.random.chisquare(2.2, size=5)     #  хи-квадрат распределение"
   ]
  },
  {
   "cell_type": "markdown",
   "metadata": {
    "id": "X9Y7LQ0duAl3"
   },
   "source": [
    "Вы так же имеете доступ к состоянию генератора случайных чисел, а так же можете управлять им:"
   ]
  },
  {
   "cell_type": "code",
   "execution_count": null,
   "metadata": {
    "id": "lslB6zwcuAl4"
   },
   "outputs": [],
   "source": [
    "#np.random.get_state()    #  Вы можете узнать состояние генератора"
   ]
  },
  {
   "cell_type": "code",
   "execution_count": null,
   "metadata": {
    "id": "CxOBuw0HuAl4"
   },
   "outputs": [],
   "source": [
    "np.random.seed(123)    #  устанавливает состояние генератора"
   ]
  },
  {
   "cell_type": "code",
   "execution_count": null,
   "metadata": {
    "id": "usjAagb7uAl5"
   },
   "outputs": [],
   "source": [
    "np.random.rand(5)"
   ]
  },
  {
   "cell_type": "markdown",
   "metadata": {
    "id": "zTojDJg8uAl5"
   },
   "source": [
    "### Множества\n",
    "\n",
    "В случаях, когда массивы содержат очень много элементов, среди которых есть одинаковые, возникает задача поиска уникальных элементов, количества их вхождений в исходный массив:"
   ]
  },
  {
   "cell_type": "code",
   "execution_count": null,
   "metadata": {
    "colab": {
     "base_uri": "https://localhost:8080/"
    },
    "id": "SEMV5ravuAl5",
    "outputId": "8ecc1a61-77dc-40e3-e4ae-e8c8cb428105"
   },
   "outputs": [
    {
     "data": {
      "text/plain": [
       "array([1, 2, 3])"
      ]
     },
     "execution_count": 49,
     "metadata": {},
     "output_type": "execute_result"
    }
   ],
   "source": [
    "x = np.array([1, 2, 1, 2, 3, 1])\n",
    "np.unique(x)"
   ]
  },
  {
   "cell_type": "code",
   "execution_count": null,
   "metadata": {
    "id": "Ajxsw7mGuAl6"
   },
   "outputs": [],
   "source": [
    "np.unique(x, return_counts=True)    #  количество вхождений"
   ]
  },
  {
   "cell_type": "markdown",
   "metadata": {
    "id": "_yg3t7bzuAl7"
   },
   "source": [
    "В двумерных и многомерных массивах уникальные массивы можно искать, как по всему множеству его значений, так и по отдельным осям:"
   ]
  },
  {
   "cell_type": "code",
   "execution_count": null,
   "metadata": {
    "id": "HME4rNuEuAl7"
   },
   "outputs": [],
   "source": [
    "x = np.array([[0, 1, 1, 2], [0, 1, 1, 2], [9, 1, 1, 2]])\n",
    "x"
   ]
  },
  {
   "cell_type": "code",
   "execution_count": null,
   "metadata": {
    "id": "qm5I2rlduAl7"
   },
   "outputs": [],
   "source": [
    "np.unique(x, axis=0)    #  множество уникальных строк"
   ]
  },
  {
   "cell_type": "code",
   "execution_count": null,
   "metadata": {
    "id": "ugeB_pe7uAl7"
   },
   "outputs": [],
   "source": [
    "np.unique(x, axis=1)    #  множество уникальных столбцов"
   ]
  },
  {
   "cell_type": "markdown",
   "metadata": {
    "id": "scE_xND0uAl7"
   },
   "source": [
    "Так же имеется ряд других полезных функций:"
   ]
  },
  {
   "cell_type": "code",
   "execution_count": null,
   "metadata": {
    "id": "QGuzTx-YuAl7"
   },
   "outputs": [],
   "source": [
    "X = np.array([0, 2, 4, 6, 8])\n",
    "Y = np.array([0, 3, 4, 6, 7])"
   ]
  },
  {
   "cell_type": "code",
   "execution_count": null,
   "metadata": {
    "colab": {
     "base_uri": "https://localhost:8080/"
    },
    "id": "VFlbmAIluAl7",
    "outputId": "a819f461-1c3f-46ee-badd-385d56326798"
   },
   "outputs": [
    {
     "data": {
      "text/plain": [
       "array([ True, False,  True,  True, False])"
      ]
     },
     "execution_count": 52,
     "metadata": {},
     "output_type": "execute_result"
    }
   ],
   "source": [
    "np.in1d(X, Y)    #  наличие элементов из X среди элементов Y"
   ]
  },
  {
   "cell_type": "code",
   "execution_count": null,
   "metadata": {
    "colab": {
     "base_uri": "https://localhost:8080/"
    },
    "id": "TNH9ZPWIuAl8",
    "outputId": "0a6a7842-27eb-4d21-daa3-712aa9f18c76"
   },
   "outputs": [
    {
     "data": {
      "text/plain": [
       "array([0, 4, 6])"
      ]
     },
     "execution_count": 53,
     "metadata": {},
     "output_type": "execute_result"
    }
   ],
   "source": [
    "np.intersect1d(X, Y)    #  пересечение множеств элементов массивов"
   ]
  },
  {
   "cell_type": "code",
   "execution_count": null,
   "metadata": {
    "id": "n9lQGcivuAl8"
   },
   "outputs": [],
   "source": [
    "np.setdiff1d(X, Y)    #  разность множеств"
   ]
  },
  {
   "cell_type": "code",
   "execution_count": null,
   "metadata": {
    "id": "cegm4t8kuAl8"
   },
   "outputs": [],
   "source": [
    "np.setxor1d(X, Y)    #  симметрическая разность (исключающее или)"
   ]
  },
  {
   "cell_type": "code",
   "execution_count": null,
   "metadata": {
    "id": "FfrewBdAuAl8"
   },
   "outputs": [],
   "source": [
    "np.union1d(X, Y)     #  объединение множеств"
   ]
  },
  {
   "cell_type": "markdown",
   "metadata": {
    "id": "36Vhb68auAl8"
   },
   "source": [
    "### Логические операции\n",
    "\n",
    "Логические функции NumPy, условно, можно разделить на два множества: первое - позволяет определять специфику элементов массива и самого массива; второе - обычные логические операции, которые действуют над массивами поэлементно.\n",
    "\n",
    "Иногда, возникает потребность определить тип элементов:"
   ]
  },
  {
   "cell_type": "code",
   "execution_count": null,
   "metadata": {
    "id": "mFVWk-1cuAl9"
   },
   "outputs": [],
   "source": [
    "A = np.array([-np.inf, np.inf, np.nan, -1, 0, 1, 1.47, 2, 3 + 2j])"
   ]
  },
  {
   "cell_type": "code",
   "execution_count": null,
   "metadata": {
    "colab": {
     "base_uri": "https://localhost:8080/"
    },
    "id": "ha9qA_dSuAl9",
    "outputId": "32be0cf3-1eb6-41ea-df15-5298cb090a2b"
   },
   "outputs": [
    {
     "data": {
      "text/plain": [
       "array([False, False, False,  True,  True,  True,  True,  True,  True])"
      ]
     },
     "execution_count": 56,
     "metadata": {},
     "output_type": "execute_result"
    }
   ],
   "source": [
    "np.isfinite(A)    #  Все ли элементы в A числа?"
   ]
  },
  {
   "cell_type": "code",
   "execution_count": null,
   "metadata": {
    "colab": {
     "base_uri": "https://localhost:8080/"
    },
    "id": "r1Jz3IJFuAl9",
    "outputId": "e6b3a28e-b0fd-4a21-c67b-4ac3046190cb"
   },
   "outputs": [
    {
     "data": {
      "text/plain": [
       "array([ True,  True, False, False, False, False, False, False, False])"
      ]
     },
     "execution_count": 57,
     "metadata": {},
     "output_type": "execute_result"
    }
   ],
   "source": [
    "np.isinf(A)    #  Есть ли в A бесконечности?"
   ]
  },
  {
   "cell_type": "code",
   "execution_count": null,
   "metadata": {
    "colab": {
     "base_uri": "https://localhost:8080/"
    },
    "id": "iGsekEjSuAl9",
    "outputId": "6fc3fdd9-1416-4da0-ffd7-ab453ebbc6bd"
   },
   "outputs": [
    {
     "data": {
      "text/plain": [
       "array([False, False,  True, False, False, False, False, False, False])"
      ]
     },
     "execution_count": 58,
     "metadata": {},
     "output_type": "execute_result"
    }
   ],
   "source": [
    "np.isnan(A)    #  Есть ли в A значения nan?"
   ]
  },
  {
   "cell_type": "code",
   "execution_count": null,
   "metadata": {
    "colab": {
     "base_uri": "https://localhost:8080/"
    },
    "id": "_JjeWLe0uAl-",
    "outputId": "4db66e0a-b8a8-447c-a081-ee1c831736c8"
   },
   "outputs": [
    {
     "data": {
      "text/plain": [
       "array([False, False, False, False, False, False, False, False,  True])"
      ]
     },
     "execution_count": 59,
     "metadata": {},
     "output_type": "execute_result"
    }
   ],
   "source": [
    "np.iscomplex(A)    #  есть ли в A комплексные числа?"
   ]
  },
  {
   "cell_type": "code",
   "execution_count": null,
   "metadata": {
    "colab": {
     "base_uri": "https://localhost:8080/"
    },
    "id": "szl3s9LduAl-",
    "outputId": "e08c8bb0-583e-4299-ef22-d35a7224c7b5"
   },
   "outputs": [
    {
     "data": {
      "text/plain": [
       "array([ True,  True,  True,  True,  True,  True,  True,  True, False])"
      ]
     },
     "execution_count": 60,
     "metadata": {},
     "output_type": "execute_result"
    }
   ],
   "source": [
    "np.isreal(A)    #  Есть ли в A вещественные числа?"
   ]
  },
  {
   "cell_type": "markdown",
   "metadata": {
    "id": "fnCZuDrTuAl-"
   },
   "source": [
    "Привычные нам логические операции выполняются над массивами булевых значений (массивы из значений True и False):"
   ]
  },
  {
   "cell_type": "code",
   "execution_count": null,
   "metadata": {
    "id": "2ldDQaxguAl-"
   },
   "outputs": [],
   "source": [
    "X = np.array([True, False, True, False])\n",
    "Y = np.array([True, True, False, False])"
   ]
  },
  {
   "cell_type": "code",
   "execution_count": null,
   "metadata": {
    "colab": {
     "base_uri": "https://localhost:8080/"
    },
    "id": "uE_d2D7wuAl_",
    "outputId": "2035127e-c69b-4b49-a678-d57e1331b235"
   },
   "outputs": [
    {
     "data": {
      "text/plain": [
       "array([ True, False, False, False])"
      ]
     },
     "execution_count": 63,
     "metadata": {},
     "output_type": "execute_result"
    }
   ],
   "source": [
    "np.logical_and(X, Y)    #  логическое \"И\""
   ]
  },
  {
   "cell_type": "code",
   "execution_count": null,
   "metadata": {
    "colab": {
     "base_uri": "https://localhost:8080/"
    },
    "id": "y-ceoPnHuAl_",
    "outputId": "87cf04d8-d604-4e4e-82be-9bdae9161124"
   },
   "outputs": [
    {
     "data": {
      "text/plain": [
       "array([ True,  True,  True, False])"
      ]
     },
     "execution_count": 64,
     "metadata": {},
     "output_type": "execute_result"
    }
   ],
   "source": [
    "np.logical_or(X, Y)    #  логическое \"ИЛИ\""
   ]
  },
  {
   "cell_type": "code",
   "execution_count": null,
   "metadata": {
    "colab": {
     "base_uri": "https://localhost:8080/"
    },
    "id": "9TAXsBbBuAmA",
    "outputId": "07a3b8e1-2cf8-48b0-8546-908e3f5b25c0"
   },
   "outputs": [
    {
     "data": {
      "text/plain": [
       "array([False,  True, False,  True])"
      ]
     },
     "execution_count": 65,
     "metadata": {},
     "output_type": "execute_result"
    }
   ],
   "source": [
    "np.logical_not(X)    #  логическое \"НЕ\""
   ]
  },
  {
   "cell_type": "code",
   "execution_count": null,
   "metadata": {
    "colab": {
     "base_uri": "https://localhost:8080/"
    },
    "id": "zKeMLALxuAmD",
    "outputId": "b705b52f-198b-42c6-d51a-e1d43688fa36"
   },
   "outputs": [
    {
     "data": {
      "text/plain": [
       "array([False,  True,  True, False])"
      ]
     },
     "execution_count": 66,
     "metadata": {},
     "output_type": "execute_result"
    }
   ],
   "source": [
    "np.logical_xor(X, Y)    # исключающее \"ИЛИ\""
   ]
  },
  {
   "cell_type": "markdown",
   "metadata": {
    "id": "2I6gnBqXuAmD"
   },
   "source": [
    "Помимо всего прочего, NumPy позволяет производить различные сравнения:"
   ]
  },
  {
   "cell_type": "code",
   "execution_count": null,
   "metadata": {
    "id": "majjBuGiuAmD"
   },
   "outputs": [],
   "source": [
    "np.allclose([1, 2, 3], [1, 2, 2.99999])    #  Являются ли значения массивов близкими?"
   ]
  },
  {
   "cell_type": "code",
   "execution_count": null,
   "metadata": {
    "colab": {
     "base_uri": "https://localhost:8080/"
    },
    "id": "yEXx4EvLuAmE",
    "outputId": "435e614f-478e-4081-925e-fd8a343c09a9"
   },
   "outputs": [
    {
     "data": {
      "text/plain": [
       "array([1, 1, 0, 0, 1])"
      ]
     },
     "execution_count": 67,
     "metadata": {},
     "output_type": "execute_result"
    }
   ],
   "source": [
    "x = np.random.randint(4, size=5)\n",
    "x"
   ]
  },
  {
   "cell_type": "code",
   "execution_count": null,
   "metadata": {
    "colab": {
     "base_uri": "https://localhost:8080/"
    },
    "id": "O3a1QiTNuAmE",
    "outputId": "5b90b40b-380e-4b20-d87b-6128c6e77840"
   },
   "outputs": [
    {
     "data": {
      "text/plain": [
       "array([1, 0, 3, 1, 0])"
      ]
     },
     "execution_count": 68,
     "metadata": {},
     "output_type": "execute_result"
    }
   ],
   "source": [
    "y = np.random.randint(4, size=5)\n",
    "y"
   ]
  },
  {
   "cell_type": "code",
   "execution_count": null,
   "metadata": {
    "colab": {
     "base_uri": "https://localhost:8080/"
    },
    "id": "eu5J7Q0guAmE",
    "outputId": "5f352fd8-e8bd-48e1-bc52-7d123e885ba3"
   },
   "outputs": [
    {
     "data": {
      "text/plain": [
       "array([False,  True, False, False,  True])"
      ]
     },
     "execution_count": 69,
     "metadata": {},
     "output_type": "execute_result"
    }
   ],
   "source": [
    "np.greater(x, y)    #  поэлементное x > y "
   ]
  },
  {
   "cell_type": "code",
   "execution_count": null,
   "metadata": {
    "colab": {
     "base_uri": "https://localhost:8080/"
    },
    "id": "CClzIwAVuAmF",
    "outputId": "d21de3ee-ec4b-404a-8af9-bed42d7daddf"
   },
   "outputs": [
    {
     "data": {
      "text/plain": [
       "array([False, False,  True,  True, False])"
      ]
     },
     "execution_count": 70,
     "metadata": {},
     "output_type": "execute_result"
    }
   ],
   "source": [
    "np.less(x, y)    #  поэлементное x < y"
   ]
  },
  {
   "cell_type": "code",
   "execution_count": null,
   "metadata": {
    "colab": {
     "base_uri": "https://localhost:8080/"
    },
    "id": "VGXS8Us1uAmF",
    "outputId": "4a111082-ef6c-4583-d955-14f58a9e9fdb"
   },
   "outputs": [
    {
     "data": {
      "text/plain": [
       "array([ True, False, False, False, False])"
      ]
     },
     "execution_count": 71,
     "metadata": {},
     "output_type": "execute_result"
    }
   ],
   "source": [
    "np.equal(x, y)    #  поэлементное x == y"
   ]
  },
  {
   "cell_type": "code",
   "execution_count": null,
   "metadata": {
    "colab": {
     "base_uri": "https://localhost:8080/"
    },
    "id": "YVvqqBHFuAmF",
    "outputId": "673fbc24-78b8-4d85-fed8-dc4ec9085e5f"
   },
   "outputs": [
    {
     "data": {
      "text/plain": [
       "2"
      ]
     },
     "execution_count": 82,
     "metadata": {},
     "output_type": "execute_result"
    }
   ],
   "source": [
    "np.argmax(y)"
   ]
  },
  {
   "cell_type": "code",
   "execution_count": null,
   "metadata": {
    "id": "YuvsI-eIXNks"
   },
   "outputs": [],
   "source": []
  },
  {
   "cell_type": "code",
   "execution_count": null,
   "metadata": {
    "id": "UmzFm54mXKH9"
   },
   "outputs": [],
   "source": []
  },
  {
   "cell_type": "code",
   "execution_count": null,
   "metadata": {
    "id": "ajxxziCWXFvE"
   },
   "outputs": [],
   "source": []
  }
 ],
 "metadata": {
  "colab": {
   "provenance": []
  },
  "kernelspec": {
   "display_name": "Python 3 (ipykernel)",
   "language": "python",
   "name": "python3"
  },
  "language_info": {
   "codemirror_mode": {
    "name": "ipython",
    "version": 3
   },
   "file_extension": ".py",
   "mimetype": "text/x-python",
   "name": "python",
   "nbconvert_exporter": "python",
   "pygments_lexer": "ipython3",
   "version": "3.8.10"
  }
 },
 "nbformat": 4,
 "nbformat_minor": 1
}
