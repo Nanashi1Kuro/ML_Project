{
 "cells": [
  {
   "cell_type": "markdown",
   "metadata": {
    "id": "WKcCJvqguBTS"
   },
   "source": [
    " NumPy - векторные/научные вычисления. Объект **NumPy** - это однородный многомерный массив. \n",
    "\n",
    "\n",
    "\n"
   ]
  },
  {
   "cell_type": "code",
   "execution_count": 1,
   "metadata": {
    "executionInfo": {
     "elapsed": 5,
     "status": "ok",
     "timestamp": 1675281335077,
     "user": {
      "displayName": "Azat Yakupov",
      "userId": "07632046420896531784"
     },
     "user_tz": -180
    },
    "id": "6ZbMiFPYuBT9"
   },
   "outputs": [],
   "source": [
    "import numpy as np # Подключаем библиотеку numpy"
   ]
  },
  {
   "cell_type": "markdown",
   "metadata": {
    "id": "Ne6gVCknuBmS"
   },
   "source": [
    "Векторизованные вычисления:\n",
    "Векторизованные - означает, что все арифметические операции и математические функции выполняются сразу над всеми элементами массивов без циклов. "
   ]
  },
  {
   "cell_type": "code",
   "execution_count": 2,
   "metadata": {
    "colab": {
     "base_uri": "https://localhost:8080/"
    },
    "id": "tbknlzuduBnf",
    "outputId": "52789ea5-76c1-4b63-84f2-fc6aa44e417e"
   },
   "outputs": [
    {
     "ename": "NameError",
     "evalue": "name 'a' is not defined",
     "output_type": "error",
     "traceback": [
      "\u001b[0;31m---------------------------------------------------------------------------\u001b[0m",
      "\u001b[0;31mNameError\u001b[0m                                 Traceback (most recent call last)",
      "Cell \u001b[0;32mIn[2], line 2\u001b[0m\n\u001b[1;32m      1\u001b[0m b \u001b[38;5;241m=\u001b[39m [\u001b[38;5;241m4\u001b[39m, \u001b[38;5;241m8\u001b[39m, \u001b[38;5;241m15\u001b[39m, \u001b[38;5;241m16\u001b[39m, \u001b[38;5;241m23\u001b[39m, \u001b[38;5;241m42\u001b[39m]\n\u001b[0;32m----> 2\u001b[0m y \u001b[38;5;241m=\u001b[39m \u001b[38;5;241m2\u001b[39m\u001b[38;5;241m*\u001b[39m\u001b[43ma\u001b[49m \u001b[38;5;241m+\u001b[39m \u001b[38;5;241m10\u001b[39m\n\u001b[1;32m      3\u001b[0m y\n",
      "\u001b[0;31mNameError\u001b[0m: name 'a' is not defined"
     ]
    }
   ],
   "source": [
    "b = [4, 8, 15, 16, 23, 42]\n",
    "y = 2*a + 10\n",
    "y"
   ]
  },
  {
   "cell_type": "code",
   "execution_count": null,
   "metadata": {
    "colab": {
     "base_uri": "https://localhost:8080/"
    },
    "id": "FLZX_Bs3uBnu",
    "outputId": "f4b2d68e-9588-421b-e1ed-bf923c8729f3"
   },
   "outputs": [],
   "source": [
    "np.sin(a)**2 + np.cos(a)**2"
   ]
  },
  {
   "cell_type": "code",
   "execution_count": null,
   "metadata": {
    "colab": {
     "base_uri": "https://localhost:8080/"
    },
    "id": "po3RRZshCqMG",
    "outputId": "c94851eb-4a3d-40e7-d981-1d37da65b8cf"
   },
   "outputs": [],
   "source": [
    "a.ndim"
   ]
  },
  {
   "cell_type": "markdown",
   "metadata": {
    "id": "blXYyZtsuBoH"
   },
   "source": [
    "\n",
    "2- мерныe массивы"
   ]
  },
  {
   "cell_type": "code",
   "execution_count": null,
   "metadata": {
    "colab": {
     "base_uri": "https://localhost:8080/"
    },
    "id": "CudNBdkUuBox",
    "outputId": "93853e61-1eb5-4f63-d8fa-33901bf6615e"
   },
   "outputs": [],
   "source": [
    "a = np.arange(12) # функция np.arange(),  во многом аналогична функции range() языка Python. \n",
    "a"
   ]
  },
  {
   "cell_type": "code",
   "execution_count": null,
   "metadata": {
    "colab": {
     "base_uri": "https://localhost:8080/"
    },
    "id": "AdtcfN94uBpB",
    "outputId": "8411e916-f3f3-4aa9-8bd9-26c6946901e0"
   },
   "outputs": [],
   "source": [
    "a = a.reshape(3, 4) # изменили форму массива с помощью метода `reshape()\n",
    "a"
   ]
  },
  {
   "cell_type": "markdown",
   "metadata": {
    "id": "7J9vGx1VuBrn"
   },
   "source": [
    "![image](https://raw.githubusercontent.com/dm-fedorov/numpy_basic/master/pic/2nd_array.jpg)"
   ]
  },
  {
   "cell_type": "markdown",
   "metadata": {
    "id": "fv4gfGqcuBsA"
   },
   "source": [
    "Глядя на картинку, становится понятно, что первая ось (и индекс соответственно) - это строки, вторая ось - это столбцы. Т.е. получить элемент 9 можно простой командой:"
   ]
  },
  {
   "cell_type": "code",
   "execution_count": null,
   "metadata": {
    "colab": {
     "base_uri": "https://localhost:8080/"
    },
    "id": "uduyDvRluBsB",
    "outputId": "4e82ec82-4fd2-4620-e926-bbaa1e035509"
   },
   "outputs": [],
   "source": [
    "a[:,:]    #  равносильно команде a[2, 1]"
   ]
  },
  {
   "cell_type": "markdown",
   "metadata": {
    "id": "FV4CCz-3uBsB"
   },
   "source": [
    "Broadcasting *транслирование массивов*:"
   ]
  },
  {
   "cell_type": "code",
   "execution_count": null,
   "metadata": {
    "colab": {
     "base_uri": "https://localhost:8080/"
    },
    "id": "6bHqj-8iuBsK",
    "outputId": "401b066e-724b-4c46-cc06-c9feada4e9d8"
   },
   "outputs": [],
   "source": [
    "b = [2, 3, 4, 5]\n",
    "\n",
    "a * b\n",
    "\n",
    "np.dot(a,b)"
   ]
  },
  {
   "cell_type": "markdown",
   "metadata": {
    "id": "XOFN3CK7uBsZ"
   },
   "source": [
    " мы умножили каждый столбец из массива `a` на соответствующий элемент из массива `b`. \n"
   ]
  },
  {
   "cell_type": "code",
   "execution_count": 1,
   "metadata": {
    "id": "ao31W9RLuBuW",
    "tags": []
   },
   "outputs": [
    {
     "ename": "NameError",
     "evalue": "name 'np' is not defined",
     "output_type": "error",
     "traceback": [
      "\u001b[0;31m---------------------------------------------------------------------------\u001b[0m",
      "\u001b[0;31mNameError\u001b[0m                                 Traceback (most recent call last)",
      "Cell \u001b[0;32mIn[1], line 1\u001b[0m\n\u001b[0;32m----> 1\u001b[0m a \u001b[38;5;241m=\u001b[39m \u001b[43mnp\u001b[49m\u001b[38;5;241m.\u001b[39mrandom\u001b[38;5;241m.\u001b[39mrandint(\u001b[38;5;241m0\u001b[39m, \u001b[38;5;241m15\u001b[39m, size\u001b[38;5;241m=\u001b[39m(\u001b[38;5;241m4\u001b[39m, \u001b[38;5;241m6\u001b[39m))\n\u001b[1;32m      2\u001b[0m a\n",
      "\u001b[0;31mNameError\u001b[0m: name 'np' is not defined"
     ]
    }
   ],
   "source": [
    "a = np.random.randint(0, 15, size=(4, 6))\n",
    "a"
   ]
  },
  {
   "cell_type": "markdown",
   "metadata": {
    "id": "6LBDoWg6uBvK"
   },
   "source": [
    "Минимальный элемент :"
   ]
  },
  {
   "cell_type": "code",
   "execution_count": null,
   "metadata": {
    "id": "AvWp-ykNuBvS"
   },
   "outputs": [],
   "source": [
    "a.min()"
   ]
  },
  {
   "cell_type": "markdown",
   "metadata": {
    "id": "X2blADMiuBvT"
   },
   "source": [
    "минимальные элементы по столбцам и строкам:"
   ]
  },
  {
   "cell_type": "code",
   "execution_count": null,
   "metadata": {
    "colab": {
     "base_uri": "https://localhost:8080/"
    },
    "id": "qtLDjVFbuBvT",
    "outputId": "6b26a7c5-2aac-46b4-ed48-c639650e4828"
   },
   "outputs": [],
   "source": [
    "a.max(axis=1)    #  минимальные элементы по столбцам"
   ]
  },
  {
   "cell_type": "code",
   "execution_count": null,
   "metadata": {
    "id": "xIiKOIN-uBwz"
   },
   "outputs": [],
   "source": [
    "a.min(axis=1)    #  минимальные элементы по строкам"
   ]
  },
  {
   "cell_type": "markdown",
   "metadata": {
    "id": "sjAN8LNFuBxB"
   },
   "source": [
    "Это поведение заложено практически во все функции и методы NumPy:"
   ]
  },
  {
   "cell_type": "code",
   "execution_count": null,
   "metadata": {
    "id": "BRBlZhySuBxI"
   },
   "outputs": [],
   "source": [
    "a.mean(axis=0)    #  среднее по столбцам"
   ]
  },
  {
   "cell_type": "code",
   "execution_count": null,
   "metadata": {
    "id": "CRMueOJ_uBxR"
   },
   "outputs": [],
   "source": [
    "np.std(a, axis=1)    #  стандартное отклонение по строкам"
   ]
  },
  {
   "cell_type": "markdown",
   "metadata": {
    "id": "vXB2rqDvuBxY"
   },
   "source": [
    "трехмерный массив:"
   ]
  },
  {
   "cell_type": "code",
   "execution_count": null,
   "metadata": {
    "colab": {
     "base_uri": "https://localhost:8080/"
    },
    "id": "6k3DTQWuuBxm",
    "outputId": "ccf8937c-35b9-484e-ec4b-51ea69327227"
   },
   "outputs": [],
   "source": [
    "a = np.arange(4915200*2*20).reshape(20,10,10,128,128,3,2,1)\n",
    "a.ndim"
   ]
  },
  {
   "cell_type": "code",
   "execution_count": null,
   "metadata": {
    "colab": {
     "base_uri": "https://localhost:8080/"
    },
    "id": "YcDagOV9Iv2E",
    "outputId": "a63c90d4-2639-4923-849a-7ff49546d58c"
   },
   "outputs": [],
   "source": [
    "a[1,2,3,:,:,:,:] #RGB"
   ]
  },
  {
   "cell_type": "markdown",
   "metadata": {
    "id": "VwMXIaakuBxn"
   },
   "source": [
    "![image](https://raw.githubusercontent.com/dm-fedorov/numpy_basic/master/pic/3nd_array.jpg)"
   ]
  },
  {
   "cell_type": "markdown",
   "metadata": {
    "id": "YREerMHNuBxt"
   },
   "source": [
    "индексация трехмерных массивов:"
   ]
  },
  {
   "cell_type": "code",
   "execution_count": null,
   "metadata": {
    "id": "Ay-Og_CduBxu"
   },
   "outputs": [],
   "source": [
    "a[2][1][3]    #  или a[2, 1, 3]"
   ]
  },
  {
   "cell_type": "code",
   "execution_count": null,
   "metadata": {
    "colab": {
     "base_uri": "https://localhost:8080/"
    },
    "id": "VMt8lfXuuBxv",
    "outputId": "8a7a73e4-6254-4b65-a3bf-034e7167de2d"
   },
   "outputs": [],
   "source": [
    "a.ndim"
   ]
  },
  {
   "cell_type": "code",
   "execution_count": null,
   "metadata": {
    "colab": {
     "base_uri": "https://localhost:8080/"
    },
    "id": "Y24lYT0xuBx1",
    "outputId": "5c605c02-0c5f-4472-9866-962f74db3bab"
   },
   "outputs": [],
   "source": [
    "a.shape # форма массива"
   ]
  },
  {
   "cell_type": "code",
   "execution_count": null,
   "metadata": {
    "colab": {
     "base_uri": "https://localhost:8080/"
    },
    "id": "6wpUfEmLJwdh",
    "outputId": "9dc08abf-601b-4797-b4a1-58df0390bd14"
   },
   "outputs": [],
   "source": [
    "a.dtype"
   ]
  },
  {
   "cell_type": "markdown",
   "metadata": {
    "id": "wlCVw9R9uBx6"
   },
   "source": [
    "Метод `ndarray.size` просто возвращает общее количество элементов массива:"
   ]
  },
  {
   "cell_type": "code",
   "execution_count": null,
   "metadata": {
    "id": "Uf_cqIefuBx-"
   },
   "outputs": [],
   "source": [
    "a.size"
   ]
  },
  {
   "cell_type": "markdown",
   "metadata": {
    "id": "bWRi7EOkuBx-"
   },
   "source": [
    "сколько \"весит\" один элемент массива:"
   ]
  },
  {
   "cell_type": "code",
   "execution_count": null,
   "metadata": {
    "colab": {
     "base_uri": "https://localhost:8080/"
    },
    "id": "KQ2elvyIuByE",
    "outputId": "e6ae5300-9ab1-4dd2-e965-c1f2a970807c"
   },
   "outputs": [],
   "source": [
    "a.= np.arange(10,50)    #  эквивалентно ndarray.dtype.itemsize"
   ]
  },
  {
   "cell_type": "markdown",
   "metadata": {
    "id": "1yROb974uByX"
   },
   "source": [
    "`ndarray.itemsize` возвращает размер элемента в байтах. \n",
    "\n",
    "Теперь мы можем узнать сколько \"весит\" наш массив:"
   ]
  },
  {
   "cell_type": "code",
   "execution_count": null,
   "metadata": {
    "colab": {
     "base_uri": "https://localhost:8080/"
    },
    "id": "VTWKKXsVuByY",
    "outputId": "76e96b9a-f2a4-4a0f-8e88-0e1349096599"
   },
   "outputs": [],
   "source": [
    "a.size * a.itemsize /1024/1024"
   ]
  },
  {
   "cell_type": "markdown",
   "metadata": {
    "id": "RWVW3l4wuByh"
   },
   "source": [
    "Итого - 384 байта. "
   ]
  },
  {
   "cell_type": "code",
   "execution_count": null,
   "metadata": {
    "id": "KengsFjpuByh"
   },
   "outputs": [],
   "source": [
    "a.dtype"
   ]
  },
  {
   "cell_type": "markdown",
   "metadata": {
    "id": "kkV5sFS1uByh"
   },
   "source": [
    "`dtype('int64')` - означает, что используется целочисленный тип данных, в котором для хранения одного числа выделяется 64 бита памяти. \n",
    "\n",
    "Но если мы выполним какие-нибудь вычисления с массивом, то тип данных может измениться:"
   ]
  },
  {
   "cell_type": "code",
   "execution_count": null,
   "metadata": {
    "colab": {
     "base_uri": "https://localhost:8080/"
    },
    "id": "JoKwT-TRuByi",
    "outputId": "f59f2597-908a-4d85-eade-9cc26e38ea08"
   },
   "outputs": [],
   "source": [
    "b = a/3.14 \n",
    "b"
   ]
  },
  {
   "cell_type": "code",
   "execution_count": null,
   "metadata": {
    "colab": {
     "base_uri": "https://localhost:8080/"
    },
    "id": "IvrmylivuBzE",
    "outputId": "31f870c8-1a01-40d8-cd6a-edd3860a9e66"
   },
   "outputs": [],
   "source": [
    "b.dtype"
   ]
  },
  {
   "cell_type": "code",
   "execution_count": null,
   "metadata": {
    "id": "iEVPGpmjKq14"
   },
   "outputs": [],
   "source": [
    "del a, b"
   ]
  },
  {
   "cell_type": "code",
   "execution_count": null,
   "metadata": {
    "colab": {
     "base_uri": "https://localhost:8080/"
    },
    "id": "316h1GA1Kvnj",
    "outputId": "7b95e848-64b8-4a82-e3b7-95a54e6db7a0"
   },
   "outputs": [],
   "source": [
    "import gc\n",
    "gc.collect()"
   ]
  },
  {
   "cell_type": "markdown",
   "metadata": {
    "id": "OSExxr4zuBzJ"
   },
   "source": [
    "### Создание массивов в NumPy"
   ]
  },
  {
   "cell_type": "markdown",
   "metadata": {
    "id": "pV3qBoF7uBzK"
   },
   "source": [
    "[Большой обзор функций для создания массивов](https://pyprog.pro/array_creation/array_creation_functions.html)"
   ]
  },
  {
   "cell_type": "markdown",
   "metadata": {
    "id": "je3Kx1tXuBzL"
   },
   "source": [
    "\n",
    "В NumPy реализованы свои типы данных, которые отличаются от встроенных в Python.\n",
    "\n",
    "Подробнее о типах: https://docs.scipy.org/doc/numpy/user/basics.types.html"
   ]
  },
  {
   "cell_type": "code",
   "execution_count": null,
   "metadata": {
    "id": "ChjZ-XAvuBzM"
   },
   "outputs": [],
   "source": [
    "import numpy as np\n",
    "\n",
    "a = np.array([1, 2, 3]) # массив может быть создан из обычного списка или кортежа Python с использованием функции `array()`. \n",
    "a"
   ]
  },
  {
   "cell_type": "code",
   "execution_count": null,
   "metadata": {
    "colab": {
     "base_uri": "https://localhost:8080/"
    },
    "id": "kBDH-NWzVXhv",
    "outputId": "2057872c-057b-4677-e86e-16fde711aa08"
   },
   "outputs": [],
   "source": [
    "numpy2 = np.array([1, 2, 3, 4, 5, 6]) # Создаем numpy-массив из списка цифр\n",
    "print(numpy2) # Выводим на экран массив numpy2\n",
    "print(numpy2.shape) # Выводим на экран размерность массива numpy2"
   ]
  },
  {
   "cell_type": "code",
   "execution_count": null,
   "metadata": {
    "colab": {
     "base_uri": "https://localhost:8080/"
    },
    "id": "AfdDaa9RV3aG",
    "outputId": "f1c0f0a1-5acd-410f-c02d-a9bcbf49a532"
   },
   "outputs": [],
   "source": [
    "numpy_new = numpy2.reshape((3, 2)) # Изменяем размерность массива numpy2 из (6,) -> (3, 2)\n",
    "print(numpy_new) # Выводим на экран массив numpy_new"
   ]
  },
  {
   "cell_type": "code",
   "execution_count": null,
   "metadata": {
    "id": "kE8AtxY6V7EJ"
   },
   "outputs": [],
   "source": [
    "6.26140102e+07 "
   ]
  },
  {
   "cell_type": "code",
   "execution_count": null,
   "metadata": {
    "colab": {
     "base_uri": "https://localhost:8080/",
     "height": 164
    },
    "id": "FhZJ9RlBuBzM",
    "outputId": "4612f388-7e84-4281-f531-c8324c269c34"
   },
   "outputs": [],
   "source": [
    "a.dtype # тип полученного массива зависит от типа элементов последовательности:"
   ]
  },
  {
   "cell_type": "code",
   "execution_count": null,
   "metadata": {
    "colab": {
     "base_uri": "https://localhost:8080/"
    },
    "id": "ARyT3CwkuBzV",
    "outputId": "3c40d61c-4402-4be5-a2db-b642cdad406f"
   },
   "outputs": [],
   "source": [
    "a = np.array([1.1, 2.2, 3.3],dtype='float32')\n",
    "a"
   ]
  },
  {
   "cell_type": "code",
   "execution_count": null,
   "metadata": {
    "colab": {
     "base_uri": "https://localhost:8080/"
    },
    "id": "ClOdv2sTuBzV",
    "outputId": "4b0c2995-6263-4d82-b85f-d69aeca7f357"
   },
   "outputs": [],
   "source": [
    "a.dtype"
   ]
  },
  {
   "cell_type": "code",
   "execution_count": null,
   "metadata": {
    "colab": {
     "base_uri": "https://localhost:8080/"
    },
    "id": "j_E2KhhmuBzW",
    "outputId": "5d82e5f1-26d3-4d37-d2f5-31c53c1323a5"
   },
   "outputs": [],
   "source": [
    "a = np.array([1 + 2j, 2 + 3j])\n",
    "a.dtype"
   ]
  },
  {
   "cell_type": "code",
   "execution_count": null,
   "metadata": {
    "colab": {
     "base_uri": "https://localhost:8080/"
    },
    "id": "Q5JXyDGUuBzW",
    "outputId": "0ffc83a1-4e3e-4c13-d6b0-f40e8748f18b"
   },
   "outputs": [],
   "source": [
    "a = np.array([1, 2, 3, 2 + 3j])\n",
    "a"
   ]
  },
  {
   "cell_type": "markdown",
   "metadata": {
    "id": "XfJwLzjouBzX"
   },
   "source": [
    "Функция `array()` преобразует последовательности последовательностей в двумерные массивы, а последовательности последовательностей, которые тоже состоят из последовательностей в трехмерные массивы.\n",
    "\n",
    "уровень вложенности исходной последовательности определяет размерность получаемого массива:"
   ]
  },
  {
   "cell_type": "code",
   "execution_count": null,
   "metadata": {
    "colab": {
     "base_uri": "https://localhost:8080/"
    },
    "id": "_ysFUviQuBzX",
    "outputId": "c5d16d4d-98c7-4c45-9a4a-51bf5ca5267d"
   },
   "outputs": [],
   "source": [
    "a = np.array([[2, 4,3], [6, 8,1], [10, 12,6]])\n",
    "a"
   ]
  },
  {
   "cell_type": "code",
   "execution_count": null,
   "metadata": {
    "id": "V60Gp2AwuBzX"
   },
   "outputs": [],
   "source": [
    "b = np.array([[[1, 2], [3, 4]], \n",
    "              [[5, 6], [7, 8]], \n",
    "              [[9, 10], [11, 12]]])\n",
    "b"
   ]
  },
  {
   "cell_type": "code",
   "execution_count": null,
   "metadata": {
    "id": "Nx7juHD0uBzY"
   },
   "outputs": [],
   "source": [
    "a.ndim    #  Количество осей массива"
   ]
  },
  {
   "cell_type": "code",
   "execution_count": null,
   "metadata": {
    "id": "YZKCk3wIuBzb"
   },
   "outputs": [],
   "source": [
    "b.ndim"
   ]
  },
  {
   "cell_type": "markdown",
   "metadata": {
    "id": "DmPMcZhiuBzc"
   },
   "source": [
    "\n",
    "\n",
    "Функция `zeros` заполняет массив нулями, функция `ones` - единицами, а функция `empty` - случайными числами, которые зависят от состояния памяти. \n",
    "\n",
    "По умолчанию, тип создаваемого массива - `float64`."
   ]
  },
  {
   "cell_type": "code",
   "execution_count": null,
   "metadata": {
    "colab": {
     "base_uri": "https://localhost:8080/"
    },
    "id": "fxBRLS6kuBzc",
    "outputId": "c5000418-5644-432a-d741-38cb95481778"
   },
   "outputs": [],
   "source": [
    "np.zeros((3,3))"
   ]
  },
  {
   "cell_type": "code",
   "execution_count": null,
   "metadata": {
    "colab": {
     "base_uri": "https://localhost:8080/"
    },
    "id": "qa2Hq3NBuBze",
    "outputId": "f1d30a8b-b5a8-4c5d-89cb-c67072b15eb9"
   },
   "outputs": [],
   "source": [
    "np.ones((3,3))"
   ]
  },
  {
   "cell_type": "code",
   "execution_count": null,
   "metadata": {
    "colab": {
     "base_uri": "https://localhost:8080/"
    },
    "id": "34TsJarQuBzf",
    "outputId": "cb59de24-6fe1-4974-a907-8276590fe3e2"
   },
   "outputs": [],
   "source": [
    "np.ones((3,3), dtype=complex)  #  Можно изменить тип массива"
   ]
  },
  {
   "cell_type": "code",
   "execution_count": null,
   "metadata": {
    "colab": {
     "base_uri": "https://localhost:8080/"
    },
    "id": "BcXhJR9MuBzf",
    "outputId": "6c068a43-f278-4692-ef5f-7615726db41a"
   },
   "outputs": [],
   "source": [
    "np.empty([3, 3])"
   ]
  },
  {
   "cell_type": "markdown",
   "metadata": {
    "id": "6aE6_J0GuBzh"
   },
   "source": [
    "Для создания последовательностей чисел NumPy предоставляет функцию `arange`, которая возвращает одномерные массивы:"
   ]
  },
  {
   "cell_type": "code",
   "execution_count": null,
   "metadata": {
    "colab": {
     "base_uri": "https://localhost:8080/"
    },
    "id": "MFHxTSleuBzj",
    "outputId": "91b77932-0a4c-4dc9-d929-72fbc041f335"
   },
   "outputs": [],
   "source": [
    "np.arange(10)    #  От 0 до указанного числа"
   ]
  },
  {
   "cell_type": "code",
   "execution_count": null,
   "metadata": {
    "colab": {
     "base_uri": "https://localhost:8080/"
    },
    "id": "ugfD_mMyuBzk",
    "outputId": "8ffff68f-c9c4-4341-b1f4-642f495e87d1"
   },
   "outputs": [],
   "source": [
    "np.arange(10, 20)    #  Диапазон"
   ]
  },
  {
   "cell_type": "code",
   "execution_count": null,
   "metadata": {
    "colab": {
     "base_uri": "https://localhost:8080/"
    },
    "id": "Z1NvzVjcuBzk",
    "outputId": "e6dee4a4-b142-4582-c47c-483e876c3aad"
   },
   "outputs": [],
   "source": [
    "np.arange(20, 100, 10)    #  Диапазон с заданным шагом"
   ]
  },
  {
   "cell_type": "code",
   "execution_count": null,
   "metadata": {
    "colab": {
     "base_uri": "https://localhost:8080/"
    },
    "id": "n0y4ir-wuBzk",
    "outputId": "7b2210f2-b5a4-4bb7-ecd5-adb9fad8f2aa"
   },
   "outputs": [],
   "source": [
    "np.arange(0.0, 1.8)    #  Аргументы могут иметь тип float"
   ]
  },
  {
   "cell_type": "markdown",
   "metadata": {
    "id": "Dkv3FlqWuBzl"
   },
   "source": [
    "Если функция `arange` используется с аргументами типа `float`, то предсказать количество элементов в возвращаемом массиве не так-то просто. \n",
    "\n",
    "\n",
    "\n",
    "Функция `linspace`, так же как и `arange` принимает три аргумента,  третий аргумент указывает количество чисел в диапазоне."
   ]
  },
  {
   "cell_type": "code",
   "execution_count": 3,
   "metadata": {
    "colab": {
     "base_uri": "https://localhost:8080/"
    },
    "id": "boTPTG6NuBzl",
    "outputId": "814da703-e6c1-4d7b-974b-c720df39dc3f"
   },
   "outputs": [
    {
     "data": {
      "text/plain": [
       "array([0. , 0.2, 0.4, 0.6, 0.8, 1. ])"
      ]
     },
     "execution_count": 3,
     "metadata": {},
     "output_type": "execute_result"
    }
   ],
   "source": [
    "np.linspace(0, 1, 6)"
   ]
  },
  {
   "cell_type": "code",
   "execution_count": 4,
   "metadata": {
    "id": "Qn8vCQQJuBzm"
   },
   "outputs": [
    {
     "data": {
      "text/plain": [
       "array([0.        , 0.16666667, 0.33333333, 0.5       , 0.66666667,\n",
       "       0.83333333, 1.        ])"
      ]
     },
     "execution_count": 4,
     "metadata": {},
     "output_type": "execute_result"
    }
   ],
   "source": [
    "np.linspace(0, 1, 7)"
   ]
  },
  {
   "cell_type": "code",
   "execution_count": null,
   "metadata": {
    "id": "ICMw8OUGuBzm"
   },
   "outputs": [],
   "source": [
    "np.linspace(10, 100, 5)"
   ]
  },
  {
   "cell_type": "markdown",
   "metadata": {
    "id": "ticfjRMouBzo"
   },
   "source": [
    "Функция `linspace` удобна еще и тем, что может быть использована для вычисления значений функций на заданном множестве точек:"
   ]
  },
  {
   "cell_type": "code",
   "execution_count": null,
   "metadata": {
    "colab": {
     "base_uri": "https://localhost:8080/"
    },
    "id": "PKpJ333LuBzq",
    "outputId": "edb08a4b-49dd-4c9c-cbcb-b1ef7105d23a"
   },
   "outputs": [],
   "source": [
    "x = np.linspace(0, 2*np.pi, 10)\n",
    "x"
   ]
  },
  {
   "cell_type": "code",
   "execution_count": null,
   "metadata": {
    "colab": {
     "base_uri": "https://localhost:8080/"
    },
    "id": "zcQCd1EvuBzy",
    "outputId": "12841c95-331c-45fc-a415-b51fd0273277"
   },
   "outputs": [],
   "source": [
    "y1 = np.sin(x)\n",
    "y1"
   ]
  },
  {
   "cell_type": "code",
   "execution_count": null,
   "metadata": {
    "colab": {
     "base_uri": "https://localhost:8080/"
    },
    "id": "9LueJBkhuBz0",
    "outputId": "a2f82775-33d8-4851-fd8b-d55bae7e7a81"
   },
   "outputs": [],
   "source": [
    "y2 = np.cos(x)\n",
    "y2"
   ]
  },
  {
   "cell_type": "markdown",
   "metadata": {
    "id": "5EJ6l0DLuBz0"
   },
   "source": [
    "### Вывод массивов на экран\n",
    "\n",
    "\n",
    "\n",
    "Одномерные массивы в NumPy печатаются в виде строк:"
   ]
  },
  {
   "cell_type": "code",
   "execution_count": null,
   "metadata": {
    "id": "0lkzoLR_uBz1"
   },
   "outputs": [],
   "source": [
    "a = np.arange(10)    #  Одномерный массив\n",
    "print(a)"
   ]
  },
  {
   "cell_type": "markdown",
   "metadata": {
    "id": "5icFW19XuBz1"
   },
   "source": [
    "Двумерные массивы печатаются в виде матриц:"
   ]
  },
  {
   "cell_type": "code",
   "execution_count": null,
   "metadata": {
    "colab": {
     "base_uri": "https://localhost:8080/"
    },
    "id": "XMZjzl_UuBz1",
    "outputId": "7e300277-85f1-41c9-81dd-1c7ebd35ee97"
   },
   "outputs": [],
   "source": [
    "b = np.arange(1600).reshape(400, 4)    #  Двумерный массив\n",
    "print(b)"
   ]
  },
  {
   "cell_type": "markdown",
   "metadata": {
    "id": "QFEZlKlQuBz2"
   },
   "source": [
    "Трехмерные массивы печатаются в виде списка матриц, которые разделены пустой строкой:"
   ]
  },
  {
   "cell_type": "code",
   "execution_count": null,
   "metadata": {
    "colab": {
     "base_uri": "https://localhost:8080/"
    },
    "id": "IaD5NzVPuB0C",
    "outputId": "230ea88c-38a6-4a1c-ad73-bf619ebe8afc"
   },
   "outputs": [],
   "source": [
    "c = np.arange(30).reshape(5, 2, 3)    #  Трехмерный массив\n",
    "print(c)"
   ]
  },
  {
   "cell_type": "markdown",
   "metadata": {
    "id": "kyB1XznDuB0D"
   },
   "source": [
    "\n",
    "\n",
    "В случае, если массив очень большой (больше 1000 элементов), NumPy печатает только начало и конец массива, заменяя его центральную часть многоточием."
   ]
  },
  {
   "cell_type": "code",
   "execution_count": null,
   "metadata": {
    "id": "MXOkaw6DuB0D"
   },
   "outputs": [],
   "source": [
    "print(np.arange(1001))"
   ]
  },
  {
   "cell_type": "code",
   "execution_count": null,
   "metadata": {
    "id": "UCXdKzRXuB0D"
   },
   "outputs": [],
   "source": [
    "print(np.arange(1000000))"
   ]
  },
  {
   "cell_type": "code",
   "execution_count": null,
   "metadata": {
    "id": "EYaV6GpPuB0I"
   },
   "outputs": [],
   "source": [
    "print(np.arange(1000000).reshape(1000,1000))"
   ]
  },
  {
   "cell_type": "markdown",
   "metadata": {
    "id": "b6qR67MNuB0J"
   },
   "source": [
    "Если необходимо выводить весь массив целиком, то такое поведение печати можно изменить с помощью `set_printoptions`.\n",
    "\n",
    "> np.set_printoptions(threshold=np.nan)"
   ]
  },
  {
   "cell_type": "markdown",
   "metadata": {
    "id": "UcbLDUepuB0J"
   },
   "source": [
    "### Файловый ввод и вывод массивов\n",
    "\n",
    "\n",
    "\n",
    "Двоичные файлы NumPy (.npy, .npz)\n",
    "\n",
    "NumPy имеет два собственных формата файлов `.npy` - для хранения массивов без сжатия и `.npz` - для предварительного сжатия массивов. \n",
    "\n",
    "Если массивы, которые необходимо сохранить являются небольшими, то можно воспользоваться функцией `numpy.save()`. В самом простом случае, данная функция принимает всего два аргумента - имя файла в который будет сохранен массив и имя самого сохраняемого массива. "
   ]
  },
  {
   "cell_type": "code",
   "execution_count": null,
   "metadata": {
    "id": "-H9n4YswuB0K"
   },
   "outputs": [],
   "source": [
    "import numpy as np\n",
    "\n",
    "a = np.arange(12).reshape(3, 4)\n",
    "a"
   ]
  },
  {
   "cell_type": "code",
   "execution_count": null,
   "metadata": {
    "id": "E1cvRDE8uB0K"
   },
   "outputs": [],
   "source": [
    "b = np.arange(16).reshape(4, 4)\n",
    "b"
   ]
  },
  {
   "cell_type": "code",
   "execution_count": null,
   "metadata": {
    "id": "8YpRpquzuB0U"
   },
   "outputs": [],
   "source": [
    "\n",
    "np.save('example_1', a)"
   ]
  },
  {
   "cell_type": "markdown",
   "metadata": {
    "id": "XKog1f9duB0V"
   },
   "source": [
    "После того как массив сохранен, его можно загрузить из файла с помощью функции `numpy.load()`, указав в виде строки имя необходимого файла или путь к нему"
   ]
  },
  {
   "cell_type": "code",
   "execution_count": null,
   "metadata": {
    "colab": {
     "base_uri": "https://localhost:8080/"
    },
    "id": "xTks7U8WuB0Z",
    "outputId": "c4b459e6-35c3-4f3b-f3fc-d2424d35e1f1"
   },
   "outputs": [],
   "source": [
    "import numpy as np\n",
    "\n",
    "a = np.load('example_1.npy')\n",
    "a"
   ]
  },
  {
   "cell_type": "markdown",
   "metadata": {
    "id": "Ai8mMV2quB0a"
   },
   "source": [
    "Файлы `.npy` удобны для хранения одного массива, если в одном файле нужно сохранить несколько массивов, то необходимо воспользоваться функцией `numpy.savez()`, которая сохранит их в несжатом виде в файле NumPy с форматом `.npz`."
   ]
  },
  {
   "cell_type": "code",
   "execution_count": null,
   "metadata": {
    "id": "wZxp3ZPAuB0a"
   },
   "outputs": [],
   "source": [
    "a = np.array([1, 2, 3])\n",
    "b = np.array([[1, 1], [0, 0]])\n",
    "c = np.array([[1], [2], [3]])\n",
    "\n",
    "np.savez('example_2', a, b, c)"
   ]
  },
  {
   "cell_type": "markdown",
   "metadata": {
    "id": "iNGx7BU-uB0b"
   },
   "source": [
    "После сохранения массивов в файл `.npz` они могут быть загружены с помощью, уже знакомой нам функции `numpy.load()`. Однако, имена массивов теперь изменились с `a`, `b` и `c` на `arr_0`, `arr_1` и `arr_2` соответственно:"
   ]
  },
  {
   "cell_type": "code",
   "execution_count": null,
   "metadata": {
    "id": "6-n-E6e0uB0c"
   },
   "outputs": [],
   "source": [
    "ex_2 = np.load('example_2.npz')"
   ]
  },
  {
   "cell_type": "code",
   "execution_count": null,
   "metadata": {
    "id": "O8qhLpO1uB0c"
   },
   "outputs": [],
   "source": [
    "ex_2.files"
   ]
  },
  {
   "cell_type": "code",
   "execution_count": null,
   "metadata": {
    "colab": {
     "base_uri": "https://localhost:8080/"
    },
    "id": "ZM9mionZuB0c",
    "outputId": "d3c316ad-2497-46c8-dadc-257af5a027be"
   },
   "outputs": [],
   "source": [
    "ex_2['arr_0']"
   ]
  },
  {
   "cell_type": "code",
   "execution_count": null,
   "metadata": {
    "colab": {
     "base_uri": "https://localhost:8080/"
    },
    "id": "lpmNdAubuB0e",
    "outputId": "5f8c24ef-4c26-46a8-e409-108013b200ff"
   },
   "outputs": [],
   "source": [
    "ex_2['arr_1']"
   ]
  },
  {
   "cell_type": "code",
   "execution_count": null,
   "metadata": {
    "colab": {
     "base_uri": "https://localhost:8080/"
    },
    "id": "LV0n5Qd9uB08",
    "outputId": "028de63c-89d8-466d-fa1e-581069fded4b"
   },
   "outputs": [],
   "source": [
    "ex_2['arr_2']"
   ]
  },
  {
   "cell_type": "markdown",
   "metadata": {
    "id": "VpVBC9IquB08"
   },
   "source": [
    "Что бы вместе с массивами сохранялись их оригинальные имена, необходимо в функции `numpy.savez()` указывать их как ключи словарей Python:"
   ]
  },
  {
   "cell_type": "code",
   "execution_count": null,
   "metadata": {
    "id": "3i-oAIqruB09"
   },
   "outputs": [],
   "source": [
    "np.savez('example_2', a_=a, b=b, c=c)"
   ]
  },
  {
   "cell_type": "code",
   "execution_count": null,
   "metadata": {
    "id": "phswonL3uB09"
   },
   "outputs": [],
   "source": [
    "ex_2 = np.load('example_2.npz')"
   ]
  },
  {
   "cell_type": "code",
   "execution_count": null,
   "metadata": {
    "id": "XYziDtE3uB09"
   },
   "outputs": [],
   "source": [
    "ex_2.files"
   ]
  },
  {
   "cell_type": "code",
   "execution_count": null,
   "metadata": {
    "colab": {
     "base_uri": "https://localhost:8080/"
    },
    "id": "m3FxVfoYuB1C",
    "outputId": "97516669-6137-45b3-c3bf-20c2aa5a079c"
   },
   "outputs": [],
   "source": [
    "ex_2['a_']"
   ]
  },
  {
   "cell_type": "markdown",
   "metadata": {
    "id": "3aCBp1xfuB1D"
   },
   "source": [
    "В случае очень больших массивов можно воспользоваться функцией `numpy.savez_compressed()`."
   ]
  },
  {
   "cell_type": "code",
   "execution_count": null,
   "metadata": {
    "id": "ATBfmM7PuB1K"
   },
   "outputs": [],
   "source": [
    "a = np.arange(100000)\n",
    "a"
   ]
  },
  {
   "cell_type": "code",
   "execution_count": null,
   "metadata": {
    "id": "ip_bAQr-uB1K"
   },
   "outputs": [],
   "source": [
    "#  Файл example_3.npy занимает 400 кБ на диске:\n",
    "np.save('example_3', a)\n",
    "\n",
    "#  файл example_3.npynpz занимает всего 139 кБ на диске:\n",
    "np.savez_compressed('example_3', a)"
   ]
  },
  {
   "cell_type": "code",
   "execution_count": null,
   "metadata": {
    "id": "PPGPkeQMuB1N"
   },
   "outputs": [],
   "source": []
  }
 ],
 "metadata": {
  "colab": {
   "provenance": []
  },
  "kernelspec": {
   "display_name": "Python 3 (ipykernel)",
   "language": "python",
   "name": "python3"
  },
  "language_info": {
   "codemirror_mode": {
    "name": "ipython",
    "version": 3
   },
   "file_extension": ".py",
   "mimetype": "text/x-python",
   "name": "python",
   "nbconvert_exporter": "python",
   "pygments_lexer": "ipython3",
   "version": "3.8.10"
  }
 },
 "nbformat": 4,
 "nbformat_minor": 4
}
