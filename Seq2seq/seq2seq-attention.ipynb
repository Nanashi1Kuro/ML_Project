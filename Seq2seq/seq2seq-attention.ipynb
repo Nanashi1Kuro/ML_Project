{
 "cells": [
  {
   "cell_type": "code",
   "execution_count": 10,
   "metadata": {
    "executionInfo": {
     "elapsed": 1843,
     "status": "ok",
     "timestamp": 1597608640549,
     "user": {
      "displayName": "Prateek Joshi",
      "photoUrl": "",
      "userId": "14172408186104425556"
     },
     "user_tz": -330
    },
    "id": "_tuTL_xFX9KH"
   },
   "outputs": [
    {
     "ename": "ModuleNotFoundError",
     "evalue": "No module named 'torchtext.legacy'",
     "output_type": "error",
     "traceback": [
      "\u001b[0;31m---------------------------------------------------------------------------\u001b[0m",
      "\u001b[0;31mModuleNotFoundError\u001b[0m                       Traceback (most recent call last)",
      "Cell \u001b[0;32mIn[10], line 13\u001b[0m\n\u001b[1;32m     11\u001b[0m \u001b[38;5;28;01mimport\u001b[39;00m \u001b[38;5;21;01mtorch\u001b[39;00m\u001b[38;5;21;01m.\u001b[39;00m\u001b[38;5;21;01mnn\u001b[39;00m\u001b[38;5;21;01m.\u001b[39;00m\u001b[38;5;21;01mfunctional\u001b[39;00m \u001b[38;5;28;01mas\u001b[39;00m \u001b[38;5;21;01mF\u001b[39;00m\n\u001b[1;32m     12\u001b[0m \u001b[38;5;28;01mimport\u001b[39;00m \u001b[38;5;21;01mtorch\u001b[39;00m\u001b[38;5;21;01m.\u001b[39;00m\u001b[38;5;21;01moptim\u001b[39;00m \u001b[38;5;28;01mas\u001b[39;00m \u001b[38;5;21;01moptim\u001b[39;00m\n\u001b[0;32m---> 13\u001b[0m \u001b[38;5;28;01mfrom\u001b[39;00m \u001b[38;5;21;01mtorchtext\u001b[39;00m\u001b[38;5;21;01m.\u001b[39;00m\u001b[38;5;21;01mlegacy\u001b[39;00m \u001b[38;5;28;01mimport\u001b[39;00m data\n\u001b[1;32m     15\u001b[0m \u001b[38;5;28;01mfrom\u001b[39;00m \u001b[38;5;21;01mtqdm\u001b[39;00m \u001b[38;5;28;01mimport\u001b[39;00m notebook\n\u001b[1;32m     16\u001b[0m pd\u001b[38;5;241m.\u001b[39mset_option(\u001b[38;5;124m'\u001b[39m\u001b[38;5;124mdisplay.max_colwidth\u001b[39m\u001b[38;5;124m'\u001b[39m, \u001b[38;5;241m200\u001b[39m)\n",
      "\u001b[0;31mModuleNotFoundError\u001b[0m: No module named 'torchtext.legacy'"
     ]
    }
   ],
   "source": [
    "import re\n",
    "import time\n",
    "import math\n",
    "import random\n",
    "import numpy as np\n",
    "import pandas as pd\n",
    "import spacy\n",
    "\n",
    "import torch\n",
    "import torch.nn as nn\n",
    "import torch.nn.functional as F\n",
    "import torch.optim as optim\n",
    "from torchtext import data\n",
    "\n",
    "from tqdm import notebook\n",
    "pd.set_option('display.max_colwidth', 200)\n",
    "\n",
    "import warnings\n",
    "warnings.filterwarnings('ignore')"
   ]
  },
  {
   "cell_type": "code",
   "execution_count": 2,
   "metadata": {
    "executionInfo": {
     "elapsed": 5562,
     "status": "ok",
     "timestamp": 1597608657853,
     "user": {
      "displayName": "Prateek Joshi",
      "photoUrl": "",
      "userId": "14172408186104425556"
     },
     "user_tz": -330
    },
    "id": "o94Lg0TCZS2j",
    "outputId": "e23d5759-7bc6-4964-c09c-53d5114a71d1"
   },
   "outputs": [
    {
     "name": "stdout",
     "output_type": "stream",
     "text": [
      "Requirement already satisfied: pymorphy2 in /home/chris/.local/lib/python3.8/site-packages (0.9.1)\n",
      "Requirement already satisfied: dawg-python>=0.7.1 in /home/chris/.local/lib/python3.8/site-packages (from pymorphy2) (0.7.2)\n",
      "Requirement already satisfied: pymorphy2-dicts-ru<3.0,>=2.4 in /home/chris/.local/lib/python3.8/site-packages (from pymorphy2) (2.4.417127.4579844)\n",
      "Requirement already satisfied: docopt>=0.6 in /home/chris/.local/lib/python3.8/site-packages (from pymorphy2) (0.6.2)\n"
     ]
    }
   ],
   "source": [
    "# dependency for spaCy Eng tokenizer\n",
    "!pip3 install pymorphy2"
   ]
  },
  {
   "cell_type": "code",
   "execution_count": 3,
   "metadata": {
    "executionInfo": {
     "elapsed": 971,
     "status": "ok",
     "timestamp": 1597608641347,
     "user": {
      "displayName": "Prateek Joshi",
      "photoUrl": "",
      "userId": "14172408186104425556"
     },
     "user_tz": -330
    },
    "id": "Yq5n52WdZDcG",
    "outputId": "976c0e74-e282-42eb-d254-d6ab96f6876f"
   },
   "outputs": [
    {
     "name": "stdout",
     "output_type": "stream",
     "text": [
      "cpu\n"
     ]
    }
   ],
   "source": [
    "# check GPU availability\n",
    "device = torch.device('cuda' if torch.cuda.is_available() else 'cpu')\n",
    "print(device)"
   ]
  },
  {
   "cell_type": "markdown",
   "metadata": {
    "id": "h-n-voh4qVqr"
   },
   "source": [
    "# Создаем Field объекты"
   ]
  },
  {
   "cell_type": "code",
   "execution_count": 4,
   "metadata": {
    "executionInfo": {
     "elapsed": 2035,
     "status": "ok",
     "timestamp": 1597608653659,
     "user": {
      "displayName": "Prateek Joshi",
      "photoUrl": "",
      "userId": "14172408186104425556"
     },
     "user_tz": -330
    },
    "id": "WHoAFbeGZO9f"
   },
   "outputs": [],
   "source": [
    "# import Russian spacy model to tokenize Russian text\n",
    "from spacy.lang.en import English"
   ]
  },
  {
   "cell_type": "code",
   "execution_count": 5,
   "metadata": {
    "executionInfo": {
     "elapsed": 1830,
     "status": "ok",
     "timestamp": 1597608658735,
     "user": {
      "displayName": "Prateek Joshi",
      "photoUrl": "",
      "userId": "14172408186104425556"
     },
     "user_tz": -330
    },
    "id": "0EjIFuhyZUFX"
   },
   "outputs": [],
   "source": [
    "# spacy object for Russian\n",
    "nlp_en = English()\n",
    "\n",
    "# spacy object for English\n",
    "nlp_ru = spacy.load(\"en_core_web_sm\", disable = [\"parser\", \"tagger\", \"ner\"])"
   ]
  },
  {
   "cell_type": "code",
   "execution_count": 6,
   "metadata": {
    "executionInfo": {
     "elapsed": 1833,
     "status": "ok",
     "timestamp": 1597608659424,
     "user": {
      "displayName": "Prateek Joshi",
      "photoUrl": "",
      "userId": "14172408186104425556"
     },
     "user_tz": -330
    },
    "id": "xku6rYQ5ZVqg"
   },
   "outputs": [],
   "source": [
    "## functions to perform tokenization\n",
    "\n",
    "# tokenizes Russian text from a string into a list of tokens\n",
    "def tokenize_ru(text):\n",
    "  return [tok.text for tok in nlp_ru.tokenizer(text)]\n",
    "\n",
    "# tokenizes English text from a string into a list of tokens\n",
    "def tokenize_en(text):\n",
    "  return [tok.text for tok in nlp_en.tokenizer(text)]"
   ]
  },
  {
   "cell_type": "code",
   "execution_count": 9,
   "metadata": {
    "executionInfo": {
     "elapsed": 1445,
     "status": "ok",
     "timestamp": 1597608667507,
     "user": {
      "displayName": "Prateek Joshi",
      "photoUrl": "",
      "userId": "14172408186104425556"
     },
     "user_tz": -330
    },
    "id": "N3kbwvXBZciJ"
   },
   "outputs": [
    {
     "ename": "AttributeError",
     "evalue": "module 'torchtext.data' has no attribute 'Field'",
     "output_type": "error",
     "traceback": [
      "\u001b[0;31m---------------------------------------------------------------------------\u001b[0m",
      "\u001b[0;31mAttributeError\u001b[0m                            Traceback (most recent call last)",
      "Cell \u001b[0;32mIn[9], line 4\u001b[0m\n\u001b[1;32m      1\u001b[0m \u001b[38;5;66;03m## Create Field objects\u001b[39;00m\n\u001b[1;32m      2\u001b[0m \u001b[38;5;66;03m#from torchtext.data import Field\u001b[39;00m\n\u001b[1;32m      3\u001b[0m \u001b[38;5;66;03m# Field object for Enlish\u001b[39;00m\n\u001b[0;32m----> 4\u001b[0m SRC \u001b[38;5;241m=\u001b[39m \u001b[43mdata\u001b[49m\u001b[38;5;241;43m.\u001b[39;49m\u001b[43mField\u001b[49m(tokenize \u001b[38;5;241m=\u001b[39m tokenize_en, \n\u001b[1;32m      5\u001b[0m                  include_lengths \u001b[38;5;241m=\u001b[39m \u001b[38;5;28;01mTrue\u001b[39;00m, \n\u001b[1;32m      6\u001b[0m                  lower \u001b[38;5;241m=\u001b[39m \u001b[38;5;28;01mTrue\u001b[39;00m)\n\u001b[1;32m      8\u001b[0m \u001b[38;5;66;03m# Field object for Russian\u001b[39;00m\n\u001b[1;32m      9\u001b[0m TRG \u001b[38;5;241m=\u001b[39m data\u001b[38;5;241m.\u001b[39mField(tokenize \u001b[38;5;241m=\u001b[39m tokenize_ru, \n\u001b[1;32m     10\u001b[0m                  init_token \u001b[38;5;241m=\u001b[39m \u001b[38;5;124m'\u001b[39m\u001b[38;5;124m<sos>\u001b[39m\u001b[38;5;124m'\u001b[39m, \u001b[38;5;66;03m# \"start\" token\u001b[39;00m\n\u001b[1;32m     11\u001b[0m                  eos_token \u001b[38;5;241m=\u001b[39m \u001b[38;5;124m'\u001b[39m\u001b[38;5;124m<eos>\u001b[39m\u001b[38;5;124m'\u001b[39m, \u001b[38;5;66;03m# \"\" token\u001b[39;00m\n\u001b[1;32m     12\u001b[0m                  include_lengths \u001b[38;5;241m=\u001b[39m \u001b[38;5;28;01mTrue\u001b[39;00m, \n\u001b[1;32m     13\u001b[0m                  lower \u001b[38;5;241m=\u001b[39m \u001b[38;5;28;01mTrue\u001b[39;00m)\n",
      "\u001b[0;31mAttributeError\u001b[0m: module 'torchtext.data' has no attribute 'Field'"
     ]
    }
   ],
   "source": [
    "## Create Field objects\n",
    "#from torchtext.data import Field\n",
    "# Field object for Enlish\n",
    "SRC = data.Field(tokenize = tokenize_en, \n",
    "                 include_lengths = True, \n",
    "                 lower = True)\n",
    "\n",
    "# Field object for Russian\n",
    "TRG = data.Field(tokenize = tokenize_ru, \n",
    "                 init_token = '<sos>', # \"start\" token\n",
    "                 eos_token = '<eos>', # \"\" token\n",
    "                 include_lengths = True, \n",
    "                 lower = True)\n",
    "\n",
    "fields = [('eng', SRC), ('ru', TRG)]"
   ]
  },
  {
   "cell_type": "markdown",
   "metadata": {
    "id": "BurPxISEqp8W"
   },
   "source": [
    "# Подготовка данных"
   ]
  },
  {
   "cell_type": "code",
   "execution_count": 9,
   "metadata": {
    "execution": {
     "iopub.execute_input": "2023-06-24T15:18:08.293735Z",
     "iopub.status.busy": "2023-06-24T15:18:08.293310Z",
     "iopub.status.idle": "2023-06-24T15:18:30.252264Z",
     "shell.execute_reply": "2023-06-24T15:18:30.251214Z",
     "shell.execute_reply.started": "2023-06-24T15:18:08.293674Z"
    },
    "executionInfo": {
     "elapsed": 14894,
     "status": "ok",
     "timestamp": 1597608721860,
     "user": {
      "displayName": "Prateek Joshi",
      "photoUrl": "",
      "userId": "14172408186104425556"
     },
     "user_tz": -330
    },
    "id": "Lp8cztUfb1ia"
   },
   "outputs": [],
   "source": [
    "# importing data from csv\n",
    "nmt_data = data.TabularDataset(path=\"../Rus\", format='tsv', fields=fields)"
   ]
  },
  {
   "cell_type": "code",
   "execution_count": 10,
   "metadata": {
    "execution": {
     "iopub.execute_input": "2023-06-24T15:18:32.429364Z",
     "iopub.status.busy": "2023-06-24T15:18:32.428971Z",
     "iopub.status.idle": "2023-06-24T15:18:33.910597Z",
     "shell.execute_reply": "2023-06-24T15:18:33.909612Z",
     "shell.execute_reply.started": "2023-06-24T15:18:32.429329Z"
    },
    "executionInfo": {
     "elapsed": 2580,
     "status": "ok",
     "timestamp": 1597608722672,
     "user": {
      "displayName": "Prateek Joshi",
      "photoUrl": "",
      "userId": "14172408186104425556"
     },
     "user_tz": -330
    },
    "id": "aN8F4PXBb-I2"
   },
   "outputs": [],
   "source": [
    "# build vocabulary for Russian sequences\n",
    "SRC.build_vocab(nmt_data, max_size=4000)\n",
    "\n",
    "# build vocabulary for English sequences\n",
    "TRG.build_vocab(nmt_data, max_size=4000)"
   ]
  },
  {
   "cell_type": "code",
   "execution_count": 11,
   "metadata": {
    "execution": {
     "iopub.execute_input": "2023-06-24T15:18:36.048985Z",
     "iopub.status.busy": "2023-06-24T15:18:36.048572Z",
     "iopub.status.idle": "2023-06-24T15:18:36.057789Z",
     "shell.execute_reply": "2023-06-24T15:18:36.056774Z",
     "shell.execute_reply.started": "2023-06-24T15:18:36.048950Z"
    },
    "executionInfo": {
     "elapsed": 2245,
     "status": "ok",
     "timestamp": 1597608722676,
     "user": {
      "displayName": "Prateek Joshi",
      "photoUrl": "",
      "userId": "14172408186104425556"
     },
     "user_tz": -330
    },
    "id": "fjcIdKfRrCLa",
    "outputId": "8a512f7f-96c4-408f-b3be-3ad17ca204c9"
   },
   "outputs": [
    {
     "data": {
      "text/plain": [
       "(4002, 4004)"
      ]
     },
     "execution_count": 11,
     "metadata": {},
     "output_type": "execute_result"
    }
   ],
   "source": [
    "# check size of vocabulary\n",
    "len(SRC.vocab), len(TRG.vocab)"
   ]
  },
  {
   "cell_type": "markdown",
   "metadata": {
    "id": "uk_grHZxrJOE"
   },
   "source": [
    "# Создаем загрузчики данных"
   ]
  },
  {
   "cell_type": "code",
   "execution_count": 12,
   "metadata": {
    "execution": {
     "iopub.execute_input": "2023-06-24T15:18:39.998280Z",
     "iopub.status.busy": "2023-06-24T15:18:39.997880Z",
     "iopub.status.idle": "2023-06-24T15:18:40.341189Z",
     "shell.execute_reply": "2023-06-24T15:18:40.340235Z",
     "shell.execute_reply.started": "2023-06-24T15:18:39.998246Z"
    },
    "executionInfo": {
     "elapsed": 1508,
     "status": "ok",
     "timestamp": 1597608727361,
     "user": {
      "displayName": "Prateek Joshi",
      "photoUrl": "",
      "userId": "14172408186104425556"
     },
     "user_tz": -330
    },
    "id": "242vRepjcS4T"
   },
   "outputs": [],
   "source": [
    "# Split our dialogue data into training, validation, and test sets\n",
    "train_data, val_data = nmt_data.split(split_ratio=0.8)"
   ]
  },
  {
   "cell_type": "code",
   "execution_count": 13,
   "metadata": {
    "execution": {
     "iopub.execute_input": "2023-06-24T15:18:42.652946Z",
     "iopub.status.busy": "2023-06-24T15:18:42.652507Z",
     "iopub.status.idle": "2023-06-24T15:18:42.658933Z",
     "shell.execute_reply": "2023-06-24T15:18:42.657360Z",
     "shell.execute_reply.started": "2023-06-24T15:18:42.652909Z"
    },
    "executionInfo": {
     "elapsed": 1143,
     "status": "ok",
     "timestamp": 1597608727363,
     "user": {
      "displayName": "Prateek Joshi",
      "photoUrl": "",
      "userId": "14172408186104425556"
     },
     "user_tz": -330
    },
    "id": "fnHMNU_ScWrO"
   },
   "outputs": [],
   "source": [
    "# Create a set of iterators for each split\n",
    "train_iterator, valid_iterator = data.BucketIterator.splits(\n",
    "    (train_data, val_data), \n",
    "    batch_size = 64, \n",
    "    sort_within_batch = True, \n",
    "    sort_key = lambda x:len(x.rus),\n",
    "    device = device)"
   ]
  },
  {
   "cell_type": "markdown",
   "metadata": {},
   "source": [
    "# Архитектура Encoder"
   ]
  },
  {
   "cell_type": "code",
   "execution_count": 15,
   "metadata": {
    "execution": {
     "iopub.execute_input": "2023-06-24T15:18:48.885253Z",
     "iopub.status.busy": "2023-06-24T15:18:48.884893Z",
     "iopub.status.idle": "2023-06-24T15:18:48.893100Z",
     "shell.execute_reply": "2023-06-24T15:18:48.891991Z",
     "shell.execute_reply.started": "2023-06-24T15:18:48.885220Z"
    },
    "executionInfo": {
     "elapsed": 2039,
     "status": "ok",
     "timestamp": 1597608675229,
     "user": {
      "displayName": "Prateek Joshi",
      "photoUrl": "",
      "userId": "14172408186104425556"
     },
     "user_tz": -330
    },
    "id": "mQc_6hSdcfel"
   },
   "outputs": [],
   "source": [
    "class Encoder(nn.Module):\n",
    "  \n",
    "  def __init__(self, hidden_size, embedding_size, num_layers=2, dropout=0.3):\n",
    "    \n",
    "    super(Encoder, self).__init__()\n",
    "    \n",
    "    # Basic network params\n",
    "    self.hidden_size = hidden_size\n",
    "    self.embedding_size = embedding_size\n",
    "    self.num_layers = num_layers\n",
    "    self.dropout = dropout\n",
    "    \n",
    "    # Embedding layer that will be shared with Decoder\n",
    "    self.embedding = nn.Embedding(len(SRC.vocab), embedding_size)\n",
    "    # GRU layer\n",
    "    self.gru = nn.GRU(embedding_size, hidden_size,\n",
    "                      num_layers=num_layers,\n",
    "                      dropout=dropout)\n",
    "      \n",
    "  def forward(self, input_sequence):\n",
    "      \n",
    "    # Convert input_sequence to word embeddings\n",
    "    embedded = self.embedding(input_sequence)\n",
    "            \n",
    "    outputs, hidden = self.gru(embedded)\n",
    "    \n",
    "    # The ouput of a GRU has shape -> (seq_len, batch, hidden_size)\n",
    "    return outputs, hidden"
   ]
  },
  {
   "cell_type": "markdown",
   "metadata": {
    "id": "YvuX2zbbXL6Y"
   },
   "source": [
    "# Механизм Attention"
   ]
  },
  {
   "cell_type": "code",
   "execution_count": 17,
   "metadata": {
    "execution": {
     "iopub.execute_input": "2023-06-24T15:18:57.669668Z",
     "iopub.status.busy": "2023-06-24T15:18:57.669306Z",
     "iopub.status.idle": "2023-06-24T15:18:57.677777Z",
     "shell.execute_reply": "2023-06-24T15:18:57.676315Z",
     "shell.execute_reply.started": "2023-06-24T15:18:57.669632Z"
    },
    "executionInfo": {
     "elapsed": 914,
     "status": "ok",
     "timestamp": 1597608676951,
     "user": {
      "displayName": "Prateek Joshi",
      "photoUrl": "",
      "userId": "14172408186104425556"
     },
     "user_tz": -330
    },
    "id": "VdCbw3Q6e7cI"
   },
   "outputs": [],
   "source": [
    "class Attention(nn.Module):\n",
    "  def __init__(self, hidden_size):\n",
    "    super(Attention, self).__init__()        \n",
    "    self.hidden_size = hidden_size\n",
    "      \n",
    "    \n",
    "  def dot_score(self, hidden_state, encoder_states):\n",
    "    return torch.sum(hidden_state * encoder_states, dim=2)\n",
    "  \n",
    "          \n",
    "  def forward(self, hidden, encoder_outputs, mask):\n",
    "      \n",
    "    attn_scores = self.dot_score(hidden, encoder_outputs)\n",
    "    \n",
    "    # Transpose max_length and batch_size dimensions\n",
    "    attn_scores = attn_scores.t()\n",
    "    \n",
    "    # Apply mask so network does not attend <pad> tokens        \n",
    "    attn_scores = attn_scores.masked_fill(mask == 0, -1e5)\n",
    "    \n",
    "    # Return softmax over attention scores      \n",
    "    return F.softmax(attn_scores, dim=1).unsqueeze(1)"
   ]
  },
  {
   "cell_type": "markdown",
   "metadata": {
    "id": "rBwK8bWFXV9Z"
   },
   "source": [
    "# Архитектура Decoder"
   ]
  },
  {
   "cell_type": "code",
   "execution_count": 18,
   "metadata": {
    "execution": {
     "iopub.execute_input": "2023-06-24T15:19:01.100067Z",
     "iopub.status.busy": "2023-06-24T15:19:01.099632Z",
     "iopub.status.idle": "2023-06-24T15:19:01.122983Z",
     "shell.execute_reply": "2023-06-24T15:19:01.120846Z",
     "shell.execute_reply.started": "2023-06-24T15:19:01.100030Z"
    },
    "executionInfo": {
     "elapsed": 1458,
     "status": "ok",
     "timestamp": 1597608680710,
     "user": {
      "displayName": "Prateek Joshi",
      "photoUrl": "",
      "userId": "14172408186104425556"
     },
     "user_tz": -330
    },
    "id": "ws1f7ONofEd9"
   },
   "outputs": [],
   "source": [
    "class Decoder(nn.Module):\n",
    "  def __init__(self, embedding_size, hidden_size, output_size, n_layers=2, dropout=0.3):\n",
    "      \n",
    "    super(Decoder, self).__init__()\n",
    "    \n",
    "    # Basic network params\n",
    "    self.hidden_size = hidden_size\n",
    "    self.output_size = output_size\n",
    "    self.n_layers = n_layers\n",
    "    self.dropout = dropout\n",
    "    self.embedding = nn.Embedding(output_size, embedding_size)\n",
    "            \n",
    "    self.gru = nn.GRU(embedding_size, hidden_size, n_layers, \n",
    "                      dropout=dropout)\n",
    "    \n",
    "    self.concat = nn.Linear(hidden_size * 2, hidden_size)\n",
    "    self.out = nn.Linear(hidden_size, output_size)\n",
    "    self.attn = Attention(hidden_size)\n",
    "      \n",
    "  def forward(self, current_token, hidden_state, encoder_outputs, mask):\n",
    "    \n",
    "    # convert current_token to word_embedding\n",
    "    embedded = self.embedding(current_token)\n",
    "    \n",
    "    # Pass through GRU\n",
    "    gru_output, hidden_state = self.gru(embedded, hidden_state)\n",
    "    \n",
    "    # Calculate attention weights\n",
    "    attention_weights = self.attn(gru_output, encoder_outputs, mask)\n",
    "    \n",
    "    # Calculate context vector (weigthed average)\n",
    "    context = attention_weights.bmm(encoder_outputs.transpose(0, 1))\n",
    "    \n",
    "    # Concatenate  context vector and GRU output\n",
    "    gru_output = gru_output.squeeze(0)\n",
    "    context = context.squeeze(1)\n",
    "    concat_input = torch.cat((gru_output, context), 1)\n",
    "    concat_output = torch.tanh(self.concat(concat_input))\n",
    "    \n",
    "    # Pass concat_output to final output layer\n",
    "    output = self.out(concat_output)\n",
    "    \n",
    "    # Return output and final hidden state\n",
    "    return output, hidden_state"
   ]
  },
  {
   "cell_type": "markdown",
   "metadata": {
    "id": "mq-D4M9eXfaH"
   },
   "source": [
    "# Архитектура Sequence-to-Sequence"
   ]
  },
  {
   "cell_type": "markdown",
   "metadata": {
    "id": "vI9kEQOyX67O"
   },
   "source": [
    "# Тренировка Seq2Seq модели"
   ]
  },
  {
   "cell_type": "code",
   "execution_count": 21,
   "metadata": {
    "execution": {
     "iopub.execute_input": "2023-06-24T15:19:12.186343Z",
     "iopub.status.busy": "2023-06-24T15:19:12.185969Z",
     "iopub.status.idle": "2023-06-24T15:19:12.192386Z",
     "shell.execute_reply": "2023-06-24T15:19:12.191338Z",
     "shell.execute_reply.started": "2023-06-24T15:19:12.186309Z"
    },
    "executionInfo": {
     "elapsed": 1254,
     "status": "ok",
     "timestamp": 1597608737897,
     "user": {
      "displayName": "Prateek Joshi",
      "photoUrl": "",
      "userId": "14172408186104425556"
     },
     "user_tz": -330
    },
    "id": "HTvvFcqegVsB"
   },
   "outputs": [],
   "source": [
    "# extract special tokens\n",
    "pad_idx = TRG.vocab.stoi['<pad>']\n",
    "eos_idx = TRG.vocab.stoi['<eos>']\n",
    "sos_idx = TRG.vocab.stoi['<sos>']\n",
    "\n",
    "# Size of embedding_dim should match the dim of pre-trained word embeddings!\n",
    "embedding_dim = 100\n",
    "hidden_dim = 256\n",
    "vocab_size = len(TRG.vocab)"
   ]
  },
  {
   "cell_type": "code",
   "execution_count": 22,
   "metadata": {
    "execution": {
     "iopub.execute_input": "2023-06-24T15:19:16.153607Z",
     "iopub.status.busy": "2023-06-24T15:19:16.153100Z",
     "iopub.status.idle": "2023-06-24T15:19:21.598614Z",
     "shell.execute_reply": "2023-06-24T15:19:21.597512Z",
     "shell.execute_reply.started": "2023-06-24T15:19:16.153557Z"
    },
    "executionInfo": {
     "elapsed": 6030,
     "status": "ok",
     "timestamp": 1597608744952,
     "user": {
      "displayName": "Prateek Joshi",
      "photoUrl": "",
      "userId": "14172408186104425556"
     },
     "user_tz": -330
    },
    "id": "Bv34kIurggpi"
   },
   "outputs": [],
   "source": [
    "model = seq2seq(embedding_dim,\n",
    "                hidden_dim, \n",
    "                vocab_size, \n",
    "                device, pad_idx, eos_idx, sos_idx).to(device)"
   ]
  },
  {
   "cell_type": "code",
   "execution_count": 23,
   "metadata": {
    "execution": {
     "iopub.execute_input": "2023-06-24T15:19:24.892134Z",
     "iopub.status.busy": "2023-06-24T15:19:24.891758Z",
     "iopub.status.idle": "2023-06-24T15:19:24.898884Z",
     "shell.execute_reply": "2023-06-24T15:19:24.897740Z",
     "shell.execute_reply.started": "2023-06-24T15:19:24.892102Z"
    },
    "executionInfo": {
     "elapsed": 1331,
     "status": "ok",
     "timestamp": 1597608744957,
     "user": {
      "displayName": "Prateek Joshi",
      "photoUrl": "",
      "userId": "14172408186104425556"
     },
     "user_tz": -330
    },
    "id": "radteBFHgj73",
    "outputId": "652b91b6-6aa5-4966-db37-c24383324e27"
   },
   "outputs": [
    {
     "data": {
      "text/plain": [
       "seq2seq(\n",
       "  (embedding): Embedding(4004, 100)\n",
       "  (encoder): Encoder(\n",
       "    (embedding): Embedding(4002, 100)\n",
       "    (gru): GRU(100, 256, num_layers=2, dropout=0.3)\n",
       "  )\n",
       "  (decoder): Decoder(\n",
       "    (embedding): Embedding(4004, 100)\n",
       "    (gru): GRU(100, 256, num_layers=2, dropout=0.3)\n",
       "    (concat): Linear(in_features=512, out_features=256, bias=True)\n",
       "    (out): Linear(in_features=256, out_features=4004, bias=True)\n",
       "    (attn): Attention()\n",
       "  )\n",
       ")"
      ]
     },
     "execution_count": 23,
     "metadata": {},
     "output_type": "execute_result"
    }
   ],
   "source": [
    "# print model architecture\n",
    "model"
   ]
  },
  {
   "cell_type": "code",
   "execution_count": 24,
   "metadata": {
    "execution": {
     "iopub.execute_input": "2023-06-24T15:19:27.872981Z",
     "iopub.status.busy": "2023-06-24T15:19:27.872525Z",
     "iopub.status.idle": "2023-06-24T15:19:27.878931Z",
     "shell.execute_reply": "2023-06-24T15:19:27.877506Z",
     "shell.execute_reply.started": "2023-06-24T15:19:27.872943Z"
    },
    "id": "7jXE3me9gmkc"
   },
   "outputs": [],
   "source": [
    "# Adam optimizer\n",
    "optimizer = optim.Adam(model.parameters())\n",
    "\n",
    "# cross entropy loss with softmax\n",
    "criterion = nn.CrossEntropyLoss(ignore_index = pad_idx)"
   ]
  },
  {
   "cell_type": "code",
   "execution_count": 25,
   "metadata": {
    "execution": {
     "iopub.execute_input": "2023-06-24T15:19:30.841516Z",
     "iopub.status.busy": "2023-06-24T15:19:30.841042Z",
     "iopub.status.idle": "2023-06-24T15:19:30.849686Z",
     "shell.execute_reply": "2023-06-24T15:19:30.848357Z",
     "shell.execute_reply.started": "2023-06-24T15:19:30.841480Z"
    },
    "id": "cDl-ncAshKsS"
   },
   "outputs": [],
   "source": [
    "def train(model, iterator, criterion, optimizer):\n",
    "  # Put the model in training mode!\n",
    "  model.train()\n",
    "  \n",
    "  epoch_loss = 0\n",
    "  \n",
    "  for idx, batch in notebook.tqdm(enumerate(iterator), total=len(iterator)):\n",
    "    input_sequence = batch.rus\n",
    "    output_sequence = batch.eng\n",
    "\n",
    "    target_tokens = output_sequence[0]\n",
    "\n",
    "    # zero out the gradient for the current batch\n",
    "    optimizer.zero_grad()\n",
    "\n",
    "    # Run the batch through our model\n",
    "    output = model(input_sequence, output_sequence)\n",
    "\n",
    "    # Throw it through our loss function\n",
    "    output = output[1:].view(-1, output.shape[-1])\n",
    "    target_tokens = target_tokens[1:].view(-1)\n",
    "\n",
    "    loss = criterion(output, target_tokens)\n",
    "\n",
    "    # Perform back-prop and calculate the gradient of our loss function\n",
    "    loss.backward()\n",
    "\n",
    "    # Update model parameters\n",
    "    optimizer.step()\n",
    "\n",
    "    epoch_loss += loss.item()\n",
    "      \n",
    "  return epoch_loss / len(iterator)"
   ]
  },
  {
   "cell_type": "code",
   "execution_count": 26,
   "metadata": {
    "execution": {
     "iopub.execute_input": "2023-06-24T15:19:34.855423Z",
     "iopub.status.busy": "2023-06-24T15:19:34.855042Z",
     "iopub.status.idle": "2023-06-24T15:19:34.863344Z",
     "shell.execute_reply": "2023-06-24T15:19:34.862174Z",
     "shell.execute_reply.started": "2023-06-24T15:19:34.855389Z"
    },
    "id": "dI0i_3BTxm6y"
   },
   "outputs": [],
   "source": [
    "def evaluate(model, iterator, criterion):\n",
    "  # Put the model in training mode!\n",
    "  model.eval()\n",
    "  \n",
    "  epoch_loss = 0\n",
    "  \n",
    "  for idx, batch in notebook.tqdm(enumerate(iterator), total=len(iterator)):\n",
    "    input_sequence = batch.rus\n",
    "    output_sequence = batch.eng\n",
    "\n",
    "    target_tokens = output_sequence[0]\n",
    "\n",
    "    # Run the batch through our model\n",
    "    output = model(input_sequence, output_sequence)\n",
    "\n",
    "    # Throw it through our loss function\n",
    "    output = output[1:].view(-1, output.shape[-1])\n",
    "    target_tokens = target_tokens[1:].view(-1)\n",
    "\n",
    "    loss = criterion(output, target_tokens)\n",
    "\n",
    "    epoch_loss += loss.item()\n",
    "      \n",
    "  return epoch_loss / len(iterator)"
   ]
  },
  {
   "cell_type": "code",
   "execution_count": 27,
   "metadata": {
    "execution": {
     "iopub.execute_input": "2023-06-24T15:19:37.973628Z",
     "iopub.status.busy": "2023-06-24T15:19:37.973269Z",
     "iopub.status.idle": "2023-06-24T15:19:37.979051Z",
     "shell.execute_reply": "2023-06-24T15:19:37.977631Z",
     "shell.execute_reply.started": "2023-06-24T15:19:37.973594Z"
    },
    "id": "ES9VLozNycFs"
   },
   "outputs": [],
   "source": [
    "# function to compute time taken by an epoch (in mm:ss)\n",
    "def epoch_time(start_time, end_time):\n",
    "  elapsed_time = end_time - start_time\n",
    "  elapsed_mins = int(elapsed_time / 60)\n",
    "  elapsed_secs = int(elapsed_time - (elapsed_mins * 60))\n",
    "  return elapsed_mins, elapsed_secs"
   ]
  },
  {
   "cell_type": "code",
   "execution_count": 28,
   "metadata": {
    "execution": {
     "iopub.execute_input": "2023-06-24T15:19:40.423685Z",
     "iopub.status.busy": "2023-06-24T15:19:40.423285Z",
     "iopub.status.idle": "2023-06-24T16:01:20.742853Z",
     "shell.execute_reply": "2023-06-24T16:01:20.741841Z",
     "shell.execute_reply.started": "2023-06-24T15:19:40.423646Z"
    },
    "executionInfo": {
     "elapsed": 712052,
     "status": "ok",
     "timestamp": 1597606380317,
     "user": {
      "displayName": "Prateek Joshi",
      "photoUrl": "",
      "userId": "14172408186104425556"
     },
     "user_tz": -330
    },
    "id": "P1QF7f0vyb83",
    "outputId": "1dbda4bb-72bf-444c-e18a-f2456af6b62b"
   },
   "outputs": [
    {
     "data": {
      "application/vnd.jupyter.widget-view+json": {
       "model_id": "07974e5dd05c41d393dcc5c68000dc6b",
       "version_major": 2,
       "version_minor": 0
      },
      "text/plain": [
       "  0%|          | 0/2339 [00:00<?, ?it/s]"
      ]
     },
     "metadata": {},
     "output_type": "display_data"
    },
    {
     "data": {
      "application/vnd.jupyter.widget-view+json": {
       "model_id": "2d298d0d46834c38a0f7848a99c6df19",
       "version_major": 2,
       "version_minor": 0
      },
      "text/plain": [
       "  0%|          | 0/585 [00:00<?, ?it/s]"
      ]
     },
     "metadata": {},
     "output_type": "display_data"
    },
    {
     "name": "stdout",
     "output_type": "stream",
     "text": [
      "Epoch: 01 | Time: 1m 23s\n",
      "\tTrain Loss: 3.055\n",
      "\t Val. Loss: 2.146\n"
     ]
    },
    {
     "data": {
      "application/vnd.jupyter.widget-view+json": {
       "model_id": "25cf09c8c4d14fa6919927f15c3e6363",
       "version_major": 2,
       "version_minor": 0
      },
      "text/plain": [
       "  0%|          | 0/2339 [00:00<?, ?it/s]"
      ]
     },
     "metadata": {},
     "output_type": "display_data"
    },
    {
     "data": {
      "application/vnd.jupyter.widget-view+json": {
       "model_id": "5b1ef75d847e450e8fb6de32766696f8",
       "version_major": 2,
       "version_minor": 0
      },
      "text/plain": [
       "  0%|          | 0/585 [00:00<?, ?it/s]"
      ]
     },
     "metadata": {},
     "output_type": "display_data"
    },
    {
     "name": "stdout",
     "output_type": "stream",
     "text": [
      "Epoch: 02 | Time: 1m 22s\n",
      "\tTrain Loss: 1.867\n",
      "\t Val. Loss: 1.641\n"
     ]
    },
    {
     "data": {
      "application/vnd.jupyter.widget-view+json": {
       "model_id": "7664f91fe0804f72ae1c68eded64a026",
       "version_major": 2,
       "version_minor": 0
      },
      "text/plain": [
       "  0%|          | 0/2339 [00:00<?, ?it/s]"
      ]
     },
     "metadata": {},
     "output_type": "display_data"
    },
    {
     "data": {
      "application/vnd.jupyter.widget-view+json": {
       "model_id": "07ff0b6fa0264ad0a36565aec3c95406",
       "version_major": 2,
       "version_minor": 0
      },
      "text/plain": [
       "  0%|          | 0/585 [00:00<?, ?it/s]"
      ]
     },
     "metadata": {},
     "output_type": "display_data"
    },
    {
     "name": "stdout",
     "output_type": "stream",
     "text": [
      "Epoch: 03 | Time: 1m 23s\n",
      "\tTrain Loss: 1.499\n",
      "\t Val. Loss: 1.452\n"
     ]
    },
    {
     "data": {
      "application/vnd.jupyter.widget-view+json": {
       "model_id": "123ca801b9c14f1385a1ec8ce2bfae15",
       "version_major": 2,
       "version_minor": 0
      },
      "text/plain": [
       "  0%|          | 0/2339 [00:00<?, ?it/s]"
      ]
     },
     "metadata": {},
     "output_type": "display_data"
    },
    {
     "data": {
      "application/vnd.jupyter.widget-view+json": {
       "model_id": "f8f064ecec5248f3869be852965dfb80",
       "version_major": 2,
       "version_minor": 0
      },
      "text/plain": [
       "  0%|          | 0/585 [00:00<?, ?it/s]"
      ]
     },
     "metadata": {},
     "output_type": "display_data"
    },
    {
     "name": "stdout",
     "output_type": "stream",
     "text": [
      "Epoch: 04 | Time: 1m 23s\n",
      "\tTrain Loss: 1.316\n",
      "\t Val. Loss: 1.358\n"
     ]
    },
    {
     "data": {
      "application/vnd.jupyter.widget-view+json": {
       "model_id": "a0d8e57a7500454285a22eb70e7411a0",
       "version_major": 2,
       "version_minor": 0
      },
      "text/plain": [
       "  0%|          | 0/2339 [00:00<?, ?it/s]"
      ]
     },
     "metadata": {},
     "output_type": "display_data"
    },
    {
     "data": {
      "application/vnd.jupyter.widget-view+json": {
       "model_id": "6037fdd20c21466f8999136e725c960a",
       "version_major": 2,
       "version_minor": 0
      },
      "text/plain": [
       "  0%|          | 0/585 [00:00<?, ?it/s]"
      ]
     },
     "metadata": {},
     "output_type": "display_data"
    },
    {
     "name": "stdout",
     "output_type": "stream",
     "text": [
      "Epoch: 05 | Time: 1m 23s\n",
      "\tTrain Loss: 1.203\n",
      "\t Val. Loss: 1.300\n"
     ]
    },
    {
     "data": {
      "application/vnd.jupyter.widget-view+json": {
       "model_id": "11ce800791e741e29b3889f4bf736a1c",
       "version_major": 2,
       "version_minor": 0
      },
      "text/plain": [
       "  0%|          | 0/2339 [00:00<?, ?it/s]"
      ]
     },
     "metadata": {},
     "output_type": "display_data"
    },
    {
     "data": {
      "application/vnd.jupyter.widget-view+json": {
       "model_id": "318247882eca4450a92b01f40e10c2d4",
       "version_major": 2,
       "version_minor": 0
      },
      "text/plain": [
       "  0%|          | 0/585 [00:00<?, ?it/s]"
      ]
     },
     "metadata": {},
     "output_type": "display_data"
    },
    {
     "name": "stdout",
     "output_type": "stream",
     "text": [
      "Epoch: 06 | Time: 1m 23s\n",
      "\tTrain Loss: 1.123\n",
      "\t Val. Loss: 1.267\n"
     ]
    },
    {
     "data": {
      "application/vnd.jupyter.widget-view+json": {
       "model_id": "44c3b2c5b0df4470b16a029030efd6ec",
       "version_major": 2,
       "version_minor": 0
      },
      "text/plain": [
       "  0%|          | 0/2339 [00:00<?, ?it/s]"
      ]
     },
     "metadata": {},
     "output_type": "display_data"
    },
    {
     "data": {
      "application/vnd.jupyter.widget-view+json": {
       "model_id": "07ff85a5f50c42b59c03785e69b579e7",
       "version_major": 2,
       "version_minor": 0
      },
      "text/plain": [
       "  0%|          | 0/585 [00:00<?, ?it/s]"
      ]
     },
     "metadata": {},
     "output_type": "display_data"
    },
    {
     "name": "stdout",
     "output_type": "stream",
     "text": [
      "Epoch: 07 | Time: 1m 24s\n",
      "\tTrain Loss: 1.064\n",
      "\t Val. Loss: 1.244\n"
     ]
    },
    {
     "data": {
      "application/vnd.jupyter.widget-view+json": {
       "model_id": "de2d44a4112e4e13954dde8dffba3386",
       "version_major": 2,
       "version_minor": 0
      },
      "text/plain": [
       "  0%|          | 0/2339 [00:00<?, ?it/s]"
      ]
     },
     "metadata": {},
     "output_type": "display_data"
    },
    {
     "data": {
      "application/vnd.jupyter.widget-view+json": {
       "model_id": "8f18fa01022140d98253aa70e4c94a87",
       "version_major": 2,
       "version_minor": 0
      },
      "text/plain": [
       "  0%|          | 0/585 [00:00<?, ?it/s]"
      ]
     },
     "metadata": {},
     "output_type": "display_data"
    },
    {
     "name": "stdout",
     "output_type": "stream",
     "text": [
      "Epoch: 08 | Time: 1m 22s\n",
      "\tTrain Loss: 1.017\n",
      "\t Val. Loss: 1.235\n"
     ]
    },
    {
     "data": {
      "application/vnd.jupyter.widget-view+json": {
       "model_id": "2ed04eee28a649bf8a8df77c772e306c",
       "version_major": 2,
       "version_minor": 0
      },
      "text/plain": [
       "  0%|          | 0/2339 [00:00<?, ?it/s]"
      ]
     },
     "metadata": {},
     "output_type": "display_data"
    },
    {
     "data": {
      "application/vnd.jupyter.widget-view+json": {
       "model_id": "eb9e59b68cda4c46822d4ceb2732fa61",
       "version_major": 2,
       "version_minor": 0
      },
      "text/plain": [
       "  0%|          | 0/585 [00:00<?, ?it/s]"
      ]
     },
     "metadata": {},
     "output_type": "display_data"
    },
    {
     "name": "stdout",
     "output_type": "stream",
     "text": [
      "Epoch: 09 | Time: 1m 22s\n",
      "\tTrain Loss: 0.981\n",
      "\t Val. Loss: 1.225\n"
     ]
    },
    {
     "data": {
      "application/vnd.jupyter.widget-view+json": {
       "model_id": "1922f78ced654cdd9ee046b47480196b",
       "version_major": 2,
       "version_minor": 0
      },
      "text/plain": [
       "  0%|          | 0/2339 [00:00<?, ?it/s]"
      ]
     },
     "metadata": {},
     "output_type": "display_data"
    },
    {
     "data": {
      "application/vnd.jupyter.widget-view+json": {
       "model_id": "7863360b846f43b7b79334fcca77fb0f",
       "version_major": 2,
       "version_minor": 0
      },
      "text/plain": [
       "  0%|          | 0/585 [00:00<?, ?it/s]"
      ]
     },
     "metadata": {},
     "output_type": "display_data"
    },
    {
     "name": "stdout",
     "output_type": "stream",
     "text": [
      "Epoch: 10 | Time: 1m 21s\n",
      "\tTrain Loss: 0.948\n",
      "\t Val. Loss: 1.213\n"
     ]
    },
    {
     "data": {
      "application/vnd.jupyter.widget-view+json": {
       "model_id": "9caed83bdb94486db67bdbe333a21ce9",
       "version_major": 2,
       "version_minor": 0
      },
      "text/plain": [
       "  0%|          | 0/2339 [00:00<?, ?it/s]"
      ]
     },
     "metadata": {},
     "output_type": "display_data"
    },
    {
     "data": {
      "application/vnd.jupyter.widget-view+json": {
       "model_id": "a348f556524b401ba6d03baf020bd0e0",
       "version_major": 2,
       "version_minor": 0
      },
      "text/plain": [
       "  0%|          | 0/585 [00:00<?, ?it/s]"
      ]
     },
     "metadata": {},
     "output_type": "display_data"
    },
    {
     "name": "stdout",
     "output_type": "stream",
     "text": [
      "Epoch: 11 | Time: 1m 22s\n",
      "\tTrain Loss: 0.921\n",
      "\t Val. Loss: 1.207\n"
     ]
    },
    {
     "data": {
      "application/vnd.jupyter.widget-view+json": {
       "model_id": "f0f4542403b44634b6decc280ffe7d15",
       "version_major": 2,
       "version_minor": 0
      },
      "text/plain": [
       "  0%|          | 0/2339 [00:00<?, ?it/s]"
      ]
     },
     "metadata": {},
     "output_type": "display_data"
    },
    {
     "data": {
      "application/vnd.jupyter.widget-view+json": {
       "model_id": "ca7ed3d3ba474d9488a50031f7ce8aed",
       "version_major": 2,
       "version_minor": 0
      },
      "text/plain": [
       "  0%|          | 0/585 [00:00<?, ?it/s]"
      ]
     },
     "metadata": {},
     "output_type": "display_data"
    },
    {
     "name": "stdout",
     "output_type": "stream",
     "text": [
      "Epoch: 12 | Time: 1m 22s\n",
      "\tTrain Loss: 0.899\n",
      "\t Val. Loss: 1.199\n"
     ]
    },
    {
     "data": {
      "application/vnd.jupyter.widget-view+json": {
       "model_id": "1bc280ac03b14853afd12562d8f7354e",
       "version_major": 2,
       "version_minor": 0
      },
      "text/plain": [
       "  0%|          | 0/2339 [00:00<?, ?it/s]"
      ]
     },
     "metadata": {},
     "output_type": "display_data"
    },
    {
     "data": {
      "application/vnd.jupyter.widget-view+json": {
       "model_id": "b45f1b115a4d495ebfe9f97da472b043",
       "version_major": 2,
       "version_minor": 0
      },
      "text/plain": [
       "  0%|          | 0/585 [00:00<?, ?it/s]"
      ]
     },
     "metadata": {},
     "output_type": "display_data"
    },
    {
     "name": "stdout",
     "output_type": "stream",
     "text": [
      "Epoch: 13 | Time: 1m 23s\n",
      "\tTrain Loss: 0.878\n",
      "\t Val. Loss: 1.205\n"
     ]
    },
    {
     "data": {
      "application/vnd.jupyter.widget-view+json": {
       "model_id": "15f496a1803541d69cc5b498d024b62b",
       "version_major": 2,
       "version_minor": 0
      },
      "text/plain": [
       "  0%|          | 0/2339 [00:00<?, ?it/s]"
      ]
     },
     "metadata": {},
     "output_type": "display_data"
    },
    {
     "data": {
      "application/vnd.jupyter.widget-view+json": {
       "model_id": "317dc5444c2b45688a39377819fd9b22",
       "version_major": 2,
       "version_minor": 0
      },
      "text/plain": [
       "  0%|          | 0/585 [00:00<?, ?it/s]"
      ]
     },
     "metadata": {},
     "output_type": "display_data"
    },
    {
     "name": "stdout",
     "output_type": "stream",
     "text": [
      "Epoch: 14 | Time: 1m 23s\n",
      "\tTrain Loss: 0.862\n",
      "\t Val. Loss: 1.203\n"
     ]
    },
    {
     "data": {
      "application/vnd.jupyter.widget-view+json": {
       "model_id": "c2a92c8415e749ebb305afd0d10b5f6f",
       "version_major": 2,
       "version_minor": 0
      },
      "text/plain": [
       "  0%|          | 0/2339 [00:00<?, ?it/s]"
      ]
     },
     "metadata": {},
     "output_type": "display_data"
    },
    {
     "data": {
      "application/vnd.jupyter.widget-view+json": {
       "model_id": "57c6977155de41db9eca40eec8d5920c",
       "version_major": 2,
       "version_minor": 0
      },
      "text/plain": [
       "  0%|          | 0/585 [00:00<?, ?it/s]"
      ]
     },
     "metadata": {},
     "output_type": "display_data"
    },
    {
     "name": "stdout",
     "output_type": "stream",
     "text": [
      "Epoch: 15 | Time: 1m 24s\n",
      "\tTrain Loss: 0.849\n",
      "\t Val. Loss: 1.202\n"
     ]
    },
    {
     "data": {
      "application/vnd.jupyter.widget-view+json": {
       "model_id": "c8533890b46b44a7b274ff46a1607ece",
       "version_major": 2,
       "version_minor": 0
      },
      "text/plain": [
       "  0%|          | 0/2339 [00:00<?, ?it/s]"
      ]
     },
     "metadata": {},
     "output_type": "display_data"
    },
    {
     "data": {
      "application/vnd.jupyter.widget-view+json": {
       "model_id": "b825a52c2b784d30b1c9f5ebffd5c72f",
       "version_major": 2,
       "version_minor": 0
      },
      "text/plain": [
       "  0%|          | 0/585 [00:00<?, ?it/s]"
      ]
     },
     "metadata": {},
     "output_type": "display_data"
    },
    {
     "name": "stdout",
     "output_type": "stream",
     "text": [
      "Epoch: 16 | Time: 1m 22s\n",
      "\tTrain Loss: 0.833\n",
      "\t Val. Loss: 1.202\n"
     ]
    },
    {
     "data": {
      "application/vnd.jupyter.widget-view+json": {
       "model_id": "f4fb2dfb820f46b1a3717bd7263af59d",
       "version_major": 2,
       "version_minor": 0
      },
      "text/plain": [
       "  0%|          | 0/2339 [00:00<?, ?it/s]"
      ]
     },
     "metadata": {},
     "output_type": "display_data"
    },
    {
     "data": {
      "application/vnd.jupyter.widget-view+json": {
       "model_id": "d5eaa322175445929155b3f697a1588c",
       "version_major": 2,
       "version_minor": 0
      },
      "text/plain": [
       "  0%|          | 0/585 [00:00<?, ?it/s]"
      ]
     },
     "metadata": {},
     "output_type": "display_data"
    },
    {
     "name": "stdout",
     "output_type": "stream",
     "text": [
      "Epoch: 17 | Time: 1m 23s\n",
      "\tTrain Loss: 0.821\n",
      "\t Val. Loss: 1.207\n"
     ]
    },
    {
     "data": {
      "application/vnd.jupyter.widget-view+json": {
       "model_id": "a15ec05aa6d4477baf4b823039df790b",
       "version_major": 2,
       "version_minor": 0
      },
      "text/plain": [
       "  0%|          | 0/2339 [00:00<?, ?it/s]"
      ]
     },
     "metadata": {},
     "output_type": "display_data"
    },
    {
     "data": {
      "application/vnd.jupyter.widget-view+json": {
       "model_id": "492e8901f5614ea79c7e0a4073b133af",
       "version_major": 2,
       "version_minor": 0
      },
      "text/plain": [
       "  0%|          | 0/585 [00:00<?, ?it/s]"
      ]
     },
     "metadata": {},
     "output_type": "display_data"
    },
    {
     "name": "stdout",
     "output_type": "stream",
     "text": [
      "Epoch: 18 | Time: 1m 23s\n",
      "\tTrain Loss: 0.811\n",
      "\t Val. Loss: 1.205\n"
     ]
    },
    {
     "data": {
      "application/vnd.jupyter.widget-view+json": {
       "model_id": "afee793c9c7c49f491f7630c43220a66",
       "version_major": 2,
       "version_minor": 0
      },
      "text/plain": [
       "  0%|          | 0/2339 [00:00<?, ?it/s]"
      ]
     },
     "metadata": {},
     "output_type": "display_data"
    },
    {
     "data": {
      "application/vnd.jupyter.widget-view+json": {
       "model_id": "206bcd7165c04da090c2c5428445df9c",
       "version_major": 2,
       "version_minor": 0
      },
      "text/plain": [
       "  0%|          | 0/585 [00:00<?, ?it/s]"
      ]
     },
     "metadata": {},
     "output_type": "display_data"
    },
    {
     "name": "stdout",
     "output_type": "stream",
     "text": [
      "Epoch: 19 | Time: 1m 23s\n",
      "\tTrain Loss: 0.801\n",
      "\t Val. Loss: 1.211\n"
     ]
    },
    {
     "data": {
      "application/vnd.jupyter.widget-view+json": {
       "model_id": "c09a743f62af4f1d9ba39be02921281f",
       "version_major": 2,
       "version_minor": 0
      },
      "text/plain": [
       "  0%|          | 0/2339 [00:00<?, ?it/s]"
      ]
     },
     "metadata": {},
     "output_type": "display_data"
    },
    {
     "data": {
      "application/vnd.jupyter.widget-view+json": {
       "model_id": "0991749a92d14326bfe7af3ea9d294ea",
       "version_major": 2,
       "version_minor": 0
      },
      "text/plain": [
       "  0%|          | 0/585 [00:00<?, ?it/s]"
      ]
     },
     "metadata": {},
     "output_type": "display_data"
    },
    {
     "name": "stdout",
     "output_type": "stream",
     "text": [
      "Epoch: 20 | Time: 1m 23s\n",
      "\tTrain Loss: 0.793\n",
      "\t Val. Loss: 1.213\n"
     ]
    },
    {
     "data": {
      "application/vnd.jupyter.widget-view+json": {
       "model_id": "4d0fb7c85baf4842a46b6a35307dba67",
       "version_major": 2,
       "version_minor": 0
      },
      "text/plain": [
       "  0%|          | 0/2339 [00:00<?, ?it/s]"
      ]
     },
     "metadata": {},
     "output_type": "display_data"
    },
    {
     "data": {
      "application/vnd.jupyter.widget-view+json": {
       "model_id": "d6abc4b327344915a09d36d82f7fb8c0",
       "version_major": 2,
       "version_minor": 0
      },
      "text/plain": [
       "  0%|          | 0/585 [00:00<?, ?it/s]"
      ]
     },
     "metadata": {},
     "output_type": "display_data"
    },
    {
     "name": "stdout",
     "output_type": "stream",
     "text": [
      "Epoch: 21 | Time: 1m 24s\n",
      "\tTrain Loss: 0.784\n",
      "\t Val. Loss: 1.211\n"
     ]
    },
    {
     "data": {
      "application/vnd.jupyter.widget-view+json": {
       "model_id": "15d937d879214f14a4ce2d42663b18d5",
       "version_major": 2,
       "version_minor": 0
      },
      "text/plain": [
       "  0%|          | 0/2339 [00:00<?, ?it/s]"
      ]
     },
     "metadata": {},
     "output_type": "display_data"
    },
    {
     "data": {
      "application/vnd.jupyter.widget-view+json": {
       "model_id": "b6bfd57379f746719196b37f29fc57a5",
       "version_major": 2,
       "version_minor": 0
      },
      "text/plain": [
       "  0%|          | 0/585 [00:00<?, ?it/s]"
      ]
     },
     "metadata": {},
     "output_type": "display_data"
    },
    {
     "name": "stdout",
     "output_type": "stream",
     "text": [
      "Epoch: 22 | Time: 1m 24s\n",
      "\tTrain Loss: 0.776\n",
      "\t Val. Loss: 1.213\n"
     ]
    },
    {
     "data": {
      "application/vnd.jupyter.widget-view+json": {
       "model_id": "0c6e614a480c4255a7dd359aa8aa9f36",
       "version_major": 2,
       "version_minor": 0
      },
      "text/plain": [
       "  0%|          | 0/2339 [00:00<?, ?it/s]"
      ]
     },
     "metadata": {},
     "output_type": "display_data"
    },
    {
     "data": {
      "application/vnd.jupyter.widget-view+json": {
       "model_id": "8790ff1d9d224aff9b3fca14b0501792",
       "version_major": 2,
       "version_minor": 0
      },
      "text/plain": [
       "  0%|          | 0/585 [00:00<?, ?it/s]"
      ]
     },
     "metadata": {},
     "output_type": "display_data"
    },
    {
     "name": "stdout",
     "output_type": "stream",
     "text": [
      "Epoch: 23 | Time: 1m 24s\n",
      "\tTrain Loss: 0.770\n",
      "\t Val. Loss: 1.215\n"
     ]
    },
    {
     "data": {
      "application/vnd.jupyter.widget-view+json": {
       "model_id": "801565914f104453b6e4047ffb29464b",
       "version_major": 2,
       "version_minor": 0
      },
      "text/plain": [
       "  0%|          | 0/2339 [00:00<?, ?it/s]"
      ]
     },
     "metadata": {},
     "output_type": "display_data"
    },
    {
     "data": {
      "application/vnd.jupyter.widget-view+json": {
       "model_id": "b732d2ce0bc54eff8bec1df3b8d3ae1a",
       "version_major": 2,
       "version_minor": 0
      },
      "text/plain": [
       "  0%|          | 0/585 [00:00<?, ?it/s]"
      ]
     },
     "metadata": {},
     "output_type": "display_data"
    },
    {
     "name": "stdout",
     "output_type": "stream",
     "text": [
      "Epoch: 24 | Time: 1m 23s\n",
      "\tTrain Loss: 0.762\n",
      "\t Val. Loss: 1.216\n"
     ]
    },
    {
     "data": {
      "application/vnd.jupyter.widget-view+json": {
       "model_id": "4d4dec51a23e4176b581dc6261ab1a7f",
       "version_major": 2,
       "version_minor": 0
      },
      "text/plain": [
       "  0%|          | 0/2339 [00:00<?, ?it/s]"
      ]
     },
     "metadata": {},
     "output_type": "display_data"
    },
    {
     "data": {
      "application/vnd.jupyter.widget-view+json": {
       "model_id": "ca11aab5300c4bde886dadd937b4f0ce",
       "version_major": 2,
       "version_minor": 0
      },
      "text/plain": [
       "  0%|          | 0/585 [00:00<?, ?it/s]"
      ]
     },
     "metadata": {},
     "output_type": "display_data"
    },
    {
     "name": "stdout",
     "output_type": "stream",
     "text": [
      "Epoch: 25 | Time: 1m 23s\n",
      "\tTrain Loss: 0.758\n",
      "\t Val. Loss: 1.219\n"
     ]
    },
    {
     "data": {
      "application/vnd.jupyter.widget-view+json": {
       "model_id": "700726a89ff4439abb5a1fc8d9707c01",
       "version_major": 2,
       "version_minor": 0
      },
      "text/plain": [
       "  0%|          | 0/2339 [00:00<?, ?it/s]"
      ]
     },
     "metadata": {},
     "output_type": "display_data"
    },
    {
     "data": {
      "application/vnd.jupyter.widget-view+json": {
       "model_id": "9d4f706e67e84dd7b3159d0110b51404",
       "version_major": 2,
       "version_minor": 0
      },
      "text/plain": [
       "  0%|          | 0/585 [00:00<?, ?it/s]"
      ]
     },
     "metadata": {},
     "output_type": "display_data"
    },
    {
     "name": "stdout",
     "output_type": "stream",
     "text": [
      "Epoch: 26 | Time: 1m 23s\n",
      "\tTrain Loss: 0.752\n",
      "\t Val. Loss: 1.226\n"
     ]
    },
    {
     "data": {
      "application/vnd.jupyter.widget-view+json": {
       "model_id": "1fc37ce1fbdf44edae09c091ec9c9d13",
       "version_major": 2,
       "version_minor": 0
      },
      "text/plain": [
       "  0%|          | 0/2339 [00:00<?, ?it/s]"
      ]
     },
     "metadata": {},
     "output_type": "display_data"
    },
    {
     "data": {
      "application/vnd.jupyter.widget-view+json": {
       "model_id": "83d6b550a4ff4800ab2d4721df5844c7",
       "version_major": 2,
       "version_minor": 0
      },
      "text/plain": [
       "  0%|          | 0/585 [00:00<?, ?it/s]"
      ]
     },
     "metadata": {},
     "output_type": "display_data"
    },
    {
     "name": "stdout",
     "output_type": "stream",
     "text": [
      "Epoch: 27 | Time: 1m 23s\n",
      "\tTrain Loss: 0.746\n",
      "\t Val. Loss: 1.226\n"
     ]
    },
    {
     "data": {
      "application/vnd.jupyter.widget-view+json": {
       "model_id": "ed70507e9c9c421bbc86979128010cd4",
       "version_major": 2,
       "version_minor": 0
      },
      "text/plain": [
       "  0%|          | 0/2339 [00:00<?, ?it/s]"
      ]
     },
     "metadata": {},
     "output_type": "display_data"
    },
    {
     "data": {
      "application/vnd.jupyter.widget-view+json": {
       "model_id": "aa5eecfa3dbc4ffea1f87d08b15d7b0e",
       "version_major": 2,
       "version_minor": 0
      },
      "text/plain": [
       "  0%|          | 0/585 [00:00<?, ?it/s]"
      ]
     },
     "metadata": {},
     "output_type": "display_data"
    },
    {
     "name": "stdout",
     "output_type": "stream",
     "text": [
      "Epoch: 28 | Time: 1m 24s\n",
      "\tTrain Loss: 0.743\n",
      "\t Val. Loss: 1.227\n"
     ]
    },
    {
     "data": {
      "application/vnd.jupyter.widget-view+json": {
       "model_id": "b4d0ecf104e54000b1a45c8a13125a50",
       "version_major": 2,
       "version_minor": 0
      },
      "text/plain": [
       "  0%|          | 0/2339 [00:00<?, ?it/s]"
      ]
     },
     "metadata": {},
     "output_type": "display_data"
    },
    {
     "data": {
      "application/vnd.jupyter.widget-view+json": {
       "model_id": "b0d3b9d477fb458f8940f5a4948e0f75",
       "version_major": 2,
       "version_minor": 0
      },
      "text/plain": [
       "  0%|          | 0/585 [00:00<?, ?it/s]"
      ]
     },
     "metadata": {},
     "output_type": "display_data"
    },
    {
     "name": "stdout",
     "output_type": "stream",
     "text": [
      "Epoch: 29 | Time: 1m 23s\n",
      "\tTrain Loss: 0.737\n",
      "\t Val. Loss: 1.233\n"
     ]
    },
    {
     "data": {
      "application/vnd.jupyter.widget-view+json": {
       "model_id": "c14ba1eb6ea84b84b6d4575c32dace29",
       "version_major": 2,
       "version_minor": 0
      },
      "text/plain": [
       "  0%|          | 0/2339 [00:00<?, ?it/s]"
      ]
     },
     "metadata": {},
     "output_type": "display_data"
    },
    {
     "data": {
      "application/vnd.jupyter.widget-view+json": {
       "model_id": "838c1a69b13d491d853d34541e8a2820",
       "version_major": 2,
       "version_minor": 0
      },
      "text/plain": [
       "  0%|          | 0/585 [00:00<?, ?it/s]"
      ]
     },
     "metadata": {},
     "output_type": "display_data"
    },
    {
     "name": "stdout",
     "output_type": "stream",
     "text": [
      "Epoch: 30 | Time: 1m 23s\n",
      "\tTrain Loss: 0.734\n",
      "\t Val. Loss: 1.231\n"
     ]
    }
   ],
   "source": [
    "N_EPOCHS = 30\n",
    "\n",
    "best_valid_loss = float('inf')\n",
    "\n",
    "# start model training\n",
    "for epoch in range(N_EPOCHS):\n",
    "    \n",
    "  start_time = time.time()\n",
    "  \n",
    "  train_loss = train(model, train_iterator, criterion, optimizer)\n",
    "  valid_loss = evaluate(model, valid_iterator, criterion)\n",
    "  \n",
    "  end_time = time.time()\n",
    "  \n",
    "  epoch_mins, epoch_secs = epoch_time(start_time, end_time)\n",
    "  \n",
    "  # compare validation loss\n",
    "  if valid_loss < best_valid_loss:\n",
    "    best_valid_loss = valid_loss\n",
    "    torch.save(model.state_dict(), 'best_model.pt')\n",
    "  \n",
    "  print(f'Epoch: {epoch+1:02} | Time: {epoch_mins}m {epoch_secs}s')\n",
    "  print(f'\\tTrain Loss: {train_loss:.3f}')\n",
    "  print(f'\\t Val. Loss: {valid_loss:.3f}')"
   ]
  },
  {
   "cell_type": "markdown",
   "metadata": {
    "id": "aHiAuTovZKS-"
   },
   "source": [
    "# Сохранение модели"
   ]
  },
  {
   "cell_type": "code",
   "execution_count": 29,
   "metadata": {
    "execution": {
     "iopub.execute_input": "2023-06-24T16:07:32.728514Z",
     "iopub.status.busy": "2023-06-24T16:07:32.728095Z",
     "iopub.status.idle": "2023-06-24T16:07:32.750457Z",
     "shell.execute_reply": "2023-06-24T16:07:32.749081Z",
     "shell.execute_reply.started": "2023-06-24T16:07:32.728477Z"
    },
    "executionInfo": {
     "elapsed": 1297,
     "status": "ok",
     "timestamp": 1597608755127,
     "user": {
      "displayName": "Prateek Joshi",
      "photoUrl": "",
      "userId": "14172408186104425556"
     },
     "user_tz": -330
    },
    "id": "oe33roXEZXQj",
    "outputId": "1b9c4563-aace-41ac-ad35-3cbf9a36e34d"
   },
   "outputs": [
    {
     "data": {
      "text/plain": [
       "<All keys matched successfully>"
      ]
     },
     "execution_count": 29,
     "metadata": {},
     "output_type": "execute_result"
    }
   ],
   "source": [
    "# load saved model weights\n",
    "path = 'best_model.pt'\n",
    "model.load_state_dict(torch.load(path))"
   ]
  },
  {
   "cell_type": "code",
   "execution_count": 30,
   "metadata": {
    "execution": {
     "iopub.execute_input": "2023-06-24T16:07:35.327063Z",
     "iopub.status.busy": "2023-06-24T16:07:35.326650Z",
     "iopub.status.idle": "2023-06-24T16:07:35.335388Z",
     "shell.execute_reply": "2023-06-24T16:07:35.334431Z",
     "shell.execute_reply.started": "2023-06-24T16:07:35.327028Z"
    },
    "executionInfo": {
     "elapsed": 1776,
     "status": "ok",
     "timestamp": 1597608764359,
     "user": {
      "displayName": "Prateek Joshi",
      "photoUrl": "",
      "userId": "14172408186104425556"
     },
     "user_tz": -330
    },
    "id": "NNYrl9xuhtK6"
   },
   "outputs": [],
   "source": [
    "def translate_sentence(model, sentence):\n",
    "    model.eval()\n",
    "    \n",
    "    # tokenization\n",
    "    tokenized = nlp_ru(sentence) \n",
    "    # convert tokens to lowercase\n",
    "    tokenized = [t.lower_ for t in tokenized]\n",
    "    # convert tokens to integers\n",
    "    int_tokenized = [SRC.vocab.stoi[t] for t in tokenized] \n",
    "    \n",
    "    # convert list to tensor\n",
    "    sentence_length = torch.LongTensor([len(int_tokenized)]).to(model.device) \n",
    "    tensor = torch.LongTensor(int_tokenized).unsqueeze(1).to(model.device) \n",
    "    \n",
    "    # get predictions\n",
    "    translation_tensor_logits = model((tensor, sentence_length), None) \n",
    "    \n",
    "    # get token index with highest score\n",
    "    translation_tensor = torch.argmax(translation_tensor_logits.squeeze(1), 1)\n",
    "    # convert indices (integers) to tokens\n",
    "    translation = [TRG.vocab.itos[t] for t in translation_tensor]\n",
    " \n",
    "    # Start at the first index.  We don't need to return the <sos> token...\n",
    "    translation = translation[1:]\n",
    "    return \" \".join(translation)"
   ]
  },
  {
   "cell_type": "code",
   "execution_count": 31,
   "metadata": {
    "execution": {
     "iopub.execute_input": "2023-06-24T16:07:37.920033Z",
     "iopub.status.busy": "2023-06-24T16:07:37.919614Z",
     "iopub.status.idle": "2023-06-24T16:07:37.941384Z",
     "shell.execute_reply": "2023-06-24T16:07:37.940309Z",
     "shell.execute_reply.started": "2023-06-24T16:07:37.920001Z"
    },
    "executionInfo": {
     "elapsed": 1782,
     "status": "ok",
     "timestamp": 1597606886808,
     "user": {
      "displayName": "Prateek Joshi",
      "photoUrl": "",
      "userId": "14172408186104425556"
     },
     "user_tz": -330
    },
    "id": "wTn1rIdMva8H",
    "outputId": "4c59d129-8aa5-459b-d1ae-030aee9d2452"
   },
   "outputs": [
    {
     "name": "stdout",
     "output_type": "stream",
     "text": [
      "is it new\n"
     ]
    }
   ],
   "source": [
    "sentence = \"это новый\"\n",
    "response = translate_sentence(model, sentence)\n",
    "print(response)"
   ]
  },
  {
   "cell_type": "markdown",
   "metadata": {
    "id": "Mz66ziIkZg8X"
   },
   "source": [
    "# Перевод в Test "
   ]
  },
  {
   "cell_type": "code",
   "execution_count": 32,
   "metadata": {
    "execution": {
     "iopub.execute_input": "2023-06-24T16:07:40.968957Z",
     "iopub.status.busy": "2023-06-24T16:07:40.968243Z",
     "iopub.status.idle": "2023-06-24T16:07:41.153892Z",
     "shell.execute_reply": "2023-06-24T16:07:41.152895Z",
     "shell.execute_reply.started": "2023-06-24T16:07:40.968909Z"
    },
    "executionInfo": {
     "elapsed": 1683,
     "status": "ok",
     "timestamp": 1597608796965,
     "user": {
      "displayName": "Prateek Joshi",
      "photoUrl": "",
      "userId": "14172408186104425556"
     },
     "user_tz": -330
    },
    "id": "wSDfRbWSy8C8"
   },
   "outputs": [],
   "source": [
    "# read test file \n",
    "test_df = pd.read_csv('../input/englishrussiansentencepairs/data/translation.csv')"
   ]
  },
  {
   "cell_type": "code",
   "execution_count": 33,
   "metadata": {
    "execution": {
     "iopub.execute_input": "2023-06-24T16:07:44.085573Z",
     "iopub.status.busy": "2023-06-24T16:07:44.085181Z",
     "iopub.status.idle": "2023-06-24T16:13:54.098091Z",
     "shell.execute_reply": "2023-06-24T16:13:54.097025Z",
     "shell.execute_reply.started": "2023-06-24T16:07:44.085535Z"
    },
    "executionInfo": {
     "elapsed": 306917,
     "status": "ok",
     "timestamp": 1597609112572,
     "user": {
      "displayName": "Prateek Joshi",
      "photoUrl": "",
      "userId": "14172408186104425556"
     },
     "user_tz": -330
    },
    "id": "HVro9aj8wA8W",
    "outputId": "9e00f034-5a1c-42e9-8885-d87ea7bd2930"
   },
   "outputs": [
    {
     "data": {
      "application/vnd.jupyter.widget-view+json": {
       "model_id": "2e0b999cc4af4982ae9ee9d6c5a540bd",
       "version_major": 2,
       "version_minor": 0
      },
      "text/plain": [
       "  0%|          | 0/46668 [00:00<?, ?it/s]"
      ]
     },
     "metadata": {},
     "output_type": "display_data"
    }
   ],
   "source": [
    "# attention based translations\n",
    "attn_translations = [translate_sentence(model, sent) for sent in notebook.tqdm(test_df[\"rus\"])]"
   ]
  },
  {
   "cell_type": "code",
   "execution_count": 1,
   "metadata": {
    "execution": {
     "iopub.execute_input": "2023-06-24T17:06:57.806286Z",
     "iopub.status.busy": "2023-06-24T17:06:57.805842Z",
     "iopub.status.idle": "2023-06-24T17:06:57.837530Z",
     "shell.execute_reply": "2023-06-24T17:06:57.836013Z",
     "shell.execute_reply.started": "2023-06-24T17:06:57.806195Z"
    },
    "executionInfo": {
     "elapsed": 1263,
     "status": "ok",
     "timestamp": 1597609132780,
     "user": {
      "displayName": "Prateek Joshi",
      "photoUrl": "",
      "userId": "14172408186104425556"
     },
     "user_tz": -330
    },
    "id": "INpJsF6SwTN1"
   },
   "outputs": [
    {
     "ename": "NameError",
     "evalue": "name 'attn_translations' is not defined",
     "output_type": "error",
     "traceback": [
      "\u001b[0;31m---------------------------------------------------------------------------\u001b[0m",
      "\u001b[0;31mNameError\u001b[0m                                 Traceback (most recent call last)",
      "\u001b[0;32m<ipython-input-1-7121e7e048ec>\u001b[0m in \u001b[0;36m<module>\u001b[0;34m\u001b[0m\n\u001b[0;32m----> 1\u001b[0;31m \u001b[0mtest_df\u001b[0m\u001b[0;34m[\u001b[0m\u001b[0;34m\"attn_translations\"\u001b[0m\u001b[0;34m]\u001b[0m \u001b[0;34m=\u001b[0m \u001b[0mattn_translations\u001b[0m\u001b[0;34m\u001b[0m\u001b[0;34m\u001b[0m\u001b[0m\n\u001b[0m",
      "\u001b[0;31mNameError\u001b[0m: name 'attn_translations' is not defined"
     ]
    }
   ],
   "source": [
    "test_df[\"attn_translations\"] = attn_translations"
   ]
  },
  {
   "cell_type": "code",
   "execution_count": null,
   "metadata": {
    "executionInfo": {
     "elapsed": 1683,
     "status": "ok",
     "timestamp": 1597609140379,
     "user": {
      "displayName": "Prateek Joshi",
      "photoUrl": "",
      "userId": "14172408186104425556"
     },
     "user_tz": -330
    },
    "id": "6EaUovPCx9oJ",
    "outputId": "c69ea8f8-41e6-4c6f-883e-5936c4ba420b"
   },
   "outputs": [],
   "source": [
    "# check translations\n",
    "test_df.sample(20)"
   ]
  }
 ],
 "metadata": {
  "kernelspec": {
   "display_name": "Python 3 (ipykernel)",
   "language": "python",
   "name": "python3"
  },
  "language_info": {
   "codemirror_mode": {
    "name": "ipython",
    "version": 3
   },
   "file_extension": ".py",
   "mimetype": "text/x-python",
   "name": "python",
   "nbconvert_exporter": "python",
   "pygments_lexer": "ipython3",
   "version": "3.8.10"
  }
 },
 "nbformat": 4,
 "nbformat_minor": 4
}
