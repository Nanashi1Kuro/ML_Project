{
 "cells": [
  {
   "cell_type": "code",
   "execution_count": 1,
   "metadata": {
    "colab": {
     "base_uri": "https://localhost:8080/"
    },
    "id": "bqWb4lqagrtv",
    "outputId": "89a4f603-e5d4-433d-f9cf-6700e11f98bb"
   },
   "outputs": [
    {
     "name": "stderr",
     "output_type": "stream",
     "text": [
      "[nltk_data] Downloading package punkt to /root/nltk_data...\n",
      "[nltk_data]   Unzipping tokenizers/punkt.zip.\n"
     ]
    },
    {
     "data": {
      "text/plain": [
       "True"
      ]
     },
     "execution_count": 1,
     "metadata": {},
     "output_type": "execute_result"
    }
   ],
   "source": [
    "import nltk\n",
    "nltk.download('punkt')"
   ]
  },
  {
   "cell_type": "markdown",
   "metadata": {
    "id": "CiDoMoVPjtFU"
   },
   "source": [
    "**Bag-of-words (CountVectorizer)**\n"
   ]
  },
  {
   "cell_type": "code",
   "execution_count": 2,
   "metadata": {
    "colab": {
     "base_uri": "https://localhost:8080/"
    },
    "id": "p_n4791CiCM9",
    "outputId": "3a32ea80-c7cd-4aab-88ff-dea8f7b6cf7d"
   },
   "outputs": [
    {
     "data": {
      "text/plain": [
       "(3, 48)"
      ]
     },
     "execution_count": 2,
     "metadata": {},
     "output_type": "execute_result"
    }
   ],
   "source": [
    "from sklearn.feature_extraction.text import CountVectorizer\n",
    "count_vectorizer = CountVectorizer()\n",
    "texts = [\"Великолепный сериал, который поможет успокоить нервы при любых стрессах и просто скрасит серые будни\",\n",
    "         \"Пожалуй, если бы я посмотрел только первые пару сезонов этого сериала, я бы с легкой руки написал ему положительную рецензию\",\n",
    "         \"В общем, если создатели этого сериала не вернут всё на круги своя, то рейтинги следующих сезонов будут становится все ниже и ниже, а зрительская аудитория будет все меньше и меньше.\"]\n",
    "\n",
    "bow = count_vectorizer.fit_transform(texts)\n",
    "bow.shapeц"
   ]
  },
  {
   "cell_type": "code",
   "execution_count": 3,
   "metadata": {
    "colab": {
     "base_uri": "https://localhost:8080/"
    },
    "id": "iXXjmTZR9ZVv",
    "outputId": "4003ef65-1674-4572-8f7c-42993a1ddc09"
   },
   "outputs": [
    {
     "data": {
      "text/plain": [
       "['Великолепный сериал, который поможет успокоить нервы при любых стрессах и просто скрасит серые будни',\n",
       " 'Пожалуй, если бы я посмотрел только первые пару сезонов этого сериала, я бы с легкой руки написал ему положительную рецензию',\n",
       " 'В общем, если создатели этого сериала не вернут всё на круги своя, то рейтинги следующих сезонов будут становится все ниже и ниже, а зрительская аудитория будет все меньше и меньше.']"
      ]
     },
     "execution_count": 3,
     "metadata": {},
     "output_type": "execute_result"
    }
   ],
   "source": [
    "texts"
   ]
  },
  {
   "cell_type": "code",
   "execution_count": 4,
   "metadata": {
    "colab": {
     "base_uri": "https://localhost:8080/"
    },
    "id": "i47fVP1qjfzF",
    "outputId": "a242b22c-ad00-4f8f-d315-d41696fb62a2"
   },
   "outputs": [
    {
     "data": {
      "text/plain": [
       "{'великолепный': 5,\n",
       " 'сериал': 36,\n",
       " 'который': 12,\n",
       " 'поможет': 27,\n",
       " 'успокоить': 46,\n",
       " 'нервы': 20,\n",
       " 'при': 29,\n",
       " 'любых': 15,\n",
       " 'стрессах': 43,\n",
       " 'просто': 30,\n",
       " 'скрасит': 39,\n",
       " 'серые': 38,\n",
       " 'будни': 2,\n",
       " 'пожалуй': 25,\n",
       " 'если': 10,\n",
       " 'бы': 4,\n",
       " 'посмотрел': 28,\n",
       " 'только': 45,\n",
       " 'первые': 24,\n",
       " 'пару': 23,\n",
       " 'сезонов': 35,\n",
       " 'этого': 47,\n",
       " 'сериала': 37,\n",
       " 'легкой': 14,\n",
       " 'руки': 33,\n",
       " 'написал': 18,\n",
       " 'ему': 9,\n",
       " 'положительную': 26,\n",
       " 'рецензию': 32,\n",
       " 'общем': 22,\n",
       " 'создатели': 41,\n",
       " 'не': 19,\n",
       " 'вернут': 6,\n",
       " 'всё': 8,\n",
       " 'на': 17,\n",
       " 'круги': 13,\n",
       " 'своя': 34,\n",
       " 'то': 44,\n",
       " 'рейтинги': 31,\n",
       " 'следующих': 40,\n",
       " 'будут': 3,\n",
       " 'становится': 42,\n",
       " 'все': 7,\n",
       " 'ниже': 21,\n",
       " 'зрительская': 11,\n",
       " 'аудитория': 0,\n",
       " 'будет': 1,\n",
       " 'меньше': 16}"
      ]
     },
     "execution_count": 4,
     "metadata": {},
     "output_type": "execute_result"
    }
   ],
   "source": [
    "count_vectorizer.vocabulary_"
   ]
  },
  {
   "cell_type": "code",
   "execution_count": 5,
   "metadata": {
    "colab": {
     "base_uri": "https://localhost:8080/"
    },
    "id": "8KqQUbSjkZDj",
    "outputId": "bd494e0f-eac9-4a80-cd8e-a2273c6a330a"
   },
   "outputs": [
    {
     "data": {
      "text/plain": [
       "matrix([[0, 0, 1, 0, 0, 1, 0, 0, 0, 0, 0, 0, 1, 0, 0, 1, 0, 0, 0, 0, 1,\n",
       "         0, 0, 0, 0, 0, 0, 1, 0, 1, 1, 0, 0, 0, 0, 0, 1, 0, 1, 1, 0, 0,\n",
       "         0, 1, 0, 0, 1, 0],\n",
       "        [0, 0, 0, 0, 2, 0, 0, 0, 0, 1, 1, 0, 0, 0, 1, 0, 0, 0, 1, 0, 0,\n",
       "         0, 0, 1, 1, 1, 1, 0, 1, 0, 0, 0, 1, 1, 0, 1, 0, 1, 0, 0, 0, 0,\n",
       "         0, 0, 0, 1, 0, 1],\n",
       "        [1, 1, 0, 1, 0, 0, 1, 2, 1, 0, 1, 1, 0, 1, 0, 0, 2, 1, 0, 1, 0,\n",
       "         2, 1, 0, 0, 0, 0, 0, 0, 0, 0, 1, 0, 0, 1, 1, 0, 1, 0, 0, 1, 1,\n",
       "         1, 0, 1, 0, 0, 1]])"
      ]
     },
     "execution_count": 5,
     "metadata": {},
     "output_type": "execute_result"
    }
   ],
   "source": [
    "bow.todense()"
   ]
  },
  {
   "cell_type": "markdown",
   "metadata": {
    "id": "8xTJVmAzlWg8"
   },
   "source": [
    "**Стоп-слова**\n",
    "\n"
   ]
  },
  {
   "cell_type": "code",
   "execution_count": 6,
   "metadata": {
    "colab": {
     "base_uri": "https://localhost:8080/"
    },
    "id": "bnfqp7K2lho0",
    "outputId": "708793ac-b5f9-4844-ce3c-7289fdbcd9b3"
   },
   "outputs": [
    {
     "name": "stderr",
     "output_type": "stream",
     "text": [
      "[nltk_data] Downloading package stopwords to /root/nltk_data...\n",
      "[nltk_data]   Unzipping corpora/stopwords.zip.\n"
     ]
    },
    {
     "data": {
      "text/plain": [
       "['и',\n",
       " 'в',\n",
       " 'во',\n",
       " 'не',\n",
       " 'что',\n",
       " 'он',\n",
       " 'на',\n",
       " 'я',\n",
       " 'с',\n",
       " 'со',\n",
       " 'как',\n",
       " 'а',\n",
       " 'то',\n",
       " 'все',\n",
       " 'она',\n",
       " 'так',\n",
       " 'его',\n",
       " 'но',\n",
       " 'да',\n",
       " 'ты',\n",
       " 'к',\n",
       " 'у',\n",
       " 'же',\n",
       " 'вы',\n",
       " 'за',\n",
       " 'бы',\n",
       " 'по',\n",
       " 'только',\n",
       " 'ее',\n",
       " 'мне',\n",
       " 'было',\n",
       " 'вот',\n",
       " 'от',\n",
       " 'меня',\n",
       " 'еще',\n",
       " 'нет',\n",
       " 'о',\n",
       " 'из',\n",
       " 'ему',\n",
       " 'теперь',\n",
       " 'когда',\n",
       " 'даже',\n",
       " 'ну',\n",
       " 'вдруг',\n",
       " 'ли',\n",
       " 'если',\n",
       " 'уже',\n",
       " 'или',\n",
       " 'ни',\n",
       " 'быть',\n",
       " 'был',\n",
       " 'него',\n",
       " 'до',\n",
       " 'вас',\n",
       " 'нибудь',\n",
       " 'опять',\n",
       " 'уж',\n",
       " 'вам',\n",
       " 'ведь',\n",
       " 'там',\n",
       " 'потом',\n",
       " 'себя',\n",
       " 'ничего',\n",
       " 'ей',\n",
       " 'может',\n",
       " 'они',\n",
       " 'тут',\n",
       " 'где',\n",
       " 'есть',\n",
       " 'надо',\n",
       " 'ней',\n",
       " 'для',\n",
       " 'мы',\n",
       " 'тебя',\n",
       " 'их',\n",
       " 'чем',\n",
       " 'была',\n",
       " 'сам',\n",
       " 'чтоб',\n",
       " 'без',\n",
       " 'будто',\n",
       " 'чего',\n",
       " 'раз',\n",
       " 'тоже',\n",
       " 'себе',\n",
       " 'под',\n",
       " 'будет',\n",
       " 'ж',\n",
       " 'тогда',\n",
       " 'кто',\n",
       " 'этот',\n",
       " 'того',\n",
       " 'потому',\n",
       " 'этого',\n",
       " 'какой',\n",
       " 'совсем',\n",
       " 'ним',\n",
       " 'здесь',\n",
       " 'этом',\n",
       " 'один',\n",
       " 'почти',\n",
       " 'мой',\n",
       " 'тем',\n",
       " 'чтобы',\n",
       " 'нее',\n",
       " 'сейчас',\n",
       " 'были',\n",
       " 'куда',\n",
       " 'зачем',\n",
       " 'всех',\n",
       " 'никогда',\n",
       " 'можно',\n",
       " 'при',\n",
       " 'наконец',\n",
       " 'два',\n",
       " 'об',\n",
       " 'другой',\n",
       " 'хоть',\n",
       " 'после',\n",
       " 'над',\n",
       " 'больше',\n",
       " 'тот',\n",
       " 'через',\n",
       " 'эти',\n",
       " 'нас',\n",
       " 'про',\n",
       " 'всего',\n",
       " 'них',\n",
       " 'какая',\n",
       " 'много',\n",
       " 'разве',\n",
       " 'три',\n",
       " 'эту',\n",
       " 'моя',\n",
       " 'впрочем',\n",
       " 'хорошо',\n",
       " 'свою',\n",
       " 'этой',\n",
       " 'перед',\n",
       " 'иногда',\n",
       " 'лучше',\n",
       " 'чуть',\n",
       " 'том',\n",
       " 'нельзя',\n",
       " 'такой',\n",
       " 'им',\n",
       " 'более',\n",
       " 'всегда',\n",
       " 'конечно',\n",
       " 'всю',\n",
       " 'между']"
      ]
     },
     "execution_count": 6,
     "metadata": {},
     "output_type": "execute_result"
    }
   ],
   "source": [
    "nltk.download('stopwords')\n",
    "from nltk.corpus import stopwords\n",
    "s= stopwords.words(\"russian\")\n",
    "s"
   ]
  },
  {
   "cell_type": "code",
   "execution_count": 7,
   "metadata": {
    "colab": {
     "base_uri": "https://localhost:8080/"
    },
    "id": "hLQoHd4TktxL",
    "outputId": "53d5585a-ed7c-4492-e2c6-8a259b912f54"
   },
   "outputs": [
    {
     "data": {
      "text/plain": [
       "{'великолепный': 3,\n",
       " 'сериал': 28,\n",
       " 'который': 7,\n",
       " 'поможет': 20,\n",
       " 'успокоить': 36,\n",
       " 'нервы': 13,\n",
       " 'любых': 10,\n",
       " 'стрессах': 35,\n",
       " 'просто': 22,\n",
       " 'скрасит': 31,\n",
       " 'серые': 30,\n",
       " 'будни': 1,\n",
       " 'пожалуй': 18,\n",
       " 'посмотрел': 21,\n",
       " 'первые': 17,\n",
       " 'пару': 16,\n",
       " 'сезонов': 27,\n",
       " 'сериала': 29,\n",
       " 'легкой': 9,\n",
       " 'руки': 25,\n",
       " 'написал': 12,\n",
       " 'положительную': 19,\n",
       " 'рецензию': 24,\n",
       " 'общем': 15,\n",
       " 'создатели': 33,\n",
       " 'вернут': 4,\n",
       " 'всё': 5,\n",
       " 'круги': 8,\n",
       " 'своя': 26,\n",
       " 'рейтинги': 23,\n",
       " 'следующих': 32,\n",
       " 'будут': 2,\n",
       " 'становится': 34,\n",
       " 'ниже': 14,\n",
       " 'зрительская': 6,\n",
       " 'аудитория': 0,\n",
       " 'меньше': 11}"
      ]
     },
     "execution_count": 7,
     "metadata": {},
     "output_type": "execute_result"
    }
   ],
   "source": [
    "count_vectorizer = CountVectorizer(stop_words=s)\n",
    "bow = count_vectorizer.fit_transform(texts)\n",
    "count_vectorizer.vocabulary_"
   ]
  },
  {
   "cell_type": "code",
   "execution_count": 8,
   "metadata": {
    "colab": {
     "base_uri": "https://localhost:8080/"
    },
    "id": "SL9AinMEmtDl",
    "outputId": "62b262c8-196b-4ba8-97ef-31ed0bad8e42"
   },
   "outputs": [
    {
     "data": {
      "text/plain": [
       "matrix([[0, 1, 0, 1, 0, 0, 0, 1, 0, 0, 1, 0, 0, 1, 0, 0, 0, 0, 0, 0, 1,\n",
       "         0, 1, 0, 0, 0, 0, 0, 1, 0, 1, 1, 0, 0, 0, 1, 1],\n",
       "        [0, 0, 0, 0, 0, 0, 0, 0, 0, 1, 0, 0, 1, 0, 0, 0, 1, 1, 1, 1, 0,\n",
       "         1, 0, 0, 1, 1, 0, 1, 0, 1, 0, 0, 0, 0, 0, 0, 0],\n",
       "        [1, 0, 1, 0, 1, 1, 1, 0, 1, 0, 0, 2, 0, 0, 2, 1, 0, 0, 0, 0, 0,\n",
       "         0, 0, 1, 0, 0, 1, 1, 0, 1, 0, 0, 1, 1, 1, 0, 0]])"
      ]
     },
     "execution_count": 8,
     "metadata": {},
     "output_type": "execute_result"
    }
   ],
   "source": [
    "bow.todense()"
   ]
  },
  {
   "cell_type": "markdown",
   "metadata": {
    "id": "fLCOUVlopRSe"
   },
   "source": [
    "**Параметр min_df**\n"
   ]
  },
  {
   "cell_type": "code",
   "execution_count": 9,
   "metadata": {
    "colab": {
     "base_uri": "https://localhost:8080/"
    },
    "id": "F4duZwfQnl6F",
    "outputId": "16db57cd-93d4-4e2d-bd10-bad40e302e5d"
   },
   "outputs": [
    {
     "data": {
      "text/plain": [
       "{'если': 0, 'сезонов': 1, 'этого': 3, 'сериала': 2}"
      ]
     },
     "execution_count": 9,
     "metadata": {},
     "output_type": "execute_result"
    }
   ],
   "source": [
    "count_vectorizer = CountVectorizer(min_df=2)\n",
    "bow = count_vectorizer.fit_transform(texts)\n",
    "count_vectorizer.vocabulary_"
   ]
  },
  {
   "cell_type": "markdown",
   "metadata": {
    "id": "WktzloToplVe"
   },
   "source": [
    "**Биграммы, триграммы, n-граммы**\n"
   ]
  },
  {
   "cell_type": "code",
   "execution_count": 10,
   "metadata": {
    "colab": {
     "base_uri": "https://localhost:8080/"
    },
    "id": "87Yk3Sm7ppDs",
    "outputId": "20e55869-5ceb-40c4-d750-59d8a1010b18"
   },
   "outputs": [
    {
     "data": {
      "text/plain": [
       "{'если': 0, 'сезонов': 1, 'этого': 3, 'сериала': 2, 'этого сериала': 4}"
      ]
     },
     "execution_count": 10,
     "metadata": {},
     "output_type": "execute_result"
    }
   ],
   "source": [
    "count_vectorizer = CountVectorizer(ngram_range=(1,2),  min_df=2)\n",
    "bow = count_vectorizer.fit_transform(texts)\n",
    "count_vectorizer.vocabulary_"
   ]
  },
  {
   "cell_type": "markdown",
   "metadata": {
    "id": "HQsOLS7Jqvyd"
   },
   "source": [
    "**Ограничение количества признаков**\n"
   ]
  },
  {
   "cell_type": "code",
   "execution_count": 11,
   "metadata": {
    "colab": {
     "base_uri": "https://localhost:8080/"
    },
    "id": "8cNGkR9Cqyrm",
    "outputId": "70cd2e0b-c787-4b9d-a8b6-2202cf68fef5"
   },
   "outputs": [
    {
     "data": {
      "text/plain": [
       "{'поможет': 7,\n",
       " 'при': 11,\n",
       " 'просто': 13,\n",
       " 'поможет успокоить': 8,\n",
       " 'при любых': 12,\n",
       " 'просто скрасит': 14,\n",
       " 'если': 2,\n",
       " 'бы': 0,\n",
       " 'посмотрел': 9,\n",
       " 'сезонов': 21,\n",
       " 'этого': 23,\n",
       " 'сериала': 22,\n",
       " 'руки': 17,\n",
       " 'положительную': 5,\n",
       " 'рецензию': 16,\n",
       " 'посмотрел только': 10,\n",
       " 'этого сериала': 24,\n",
       " 'руки написал': 18,\n",
       " 'положительную рецензию': 6,\n",
       " 'своя': 19,\n",
       " 'все': 1,\n",
       " 'ниже': 4,\n",
       " 'меньше': 3,\n",
       " 'своя то': 20,\n",
       " 'рейтинги следующих': 15}"
      ]
     },
     "execution_count": 11,
     "metadata": {},
     "output_type": "execute_result"
    }
   ],
   "source": [
    "count_vectorizer = CountVectorizer(ngram_range=(1,2),  max_features=25)\n",
    "bow = count_vectorizer.fit_transform(texts)\n",
    "count_vectorizer.vocabulary_"
   ]
  },
  {
   "cell_type": "markdown",
   "metadata": {
    "id": "-HCxJRrpsDR-"
   },
   "source": [
    "**TF-IDF**\n"
   ]
  },
  {
   "cell_type": "code",
   "execution_count": 12,
   "metadata": {
    "colab": {
     "base_uri": "https://localhost:8080/"
    },
    "id": "5dkZYiTnsrdw",
    "outputId": "2157cf73-b328-4e94-c64d-6a7078d6e1ca"
   },
   "outputs": [
    {
     "data": {
      "text/plain": [
       "{'великолепный': 5,\n",
       " 'сериал': 36,\n",
       " 'который': 12,\n",
       " 'поможет': 27,\n",
       " 'успокоить': 46,\n",
       " 'нервы': 20,\n",
       " 'при': 29,\n",
       " 'любых': 15,\n",
       " 'стрессах': 43,\n",
       " 'просто': 30,\n",
       " 'скрасит': 39,\n",
       " 'серые': 38,\n",
       " 'будни': 2,\n",
       " 'пожалуй': 25,\n",
       " 'если': 10,\n",
       " 'бы': 4,\n",
       " 'посмотрел': 28,\n",
       " 'только': 45,\n",
       " 'первые': 24,\n",
       " 'пару': 23,\n",
       " 'сезонов': 35,\n",
       " 'этого': 47,\n",
       " 'сериала': 37,\n",
       " 'легкой': 14,\n",
       " 'руки': 33,\n",
       " 'написал': 18,\n",
       " 'ему': 9,\n",
       " 'положительную': 26,\n",
       " 'рецензию': 32,\n",
       " 'общем': 22,\n",
       " 'создатели': 41,\n",
       " 'не': 19,\n",
       " 'вернут': 6,\n",
       " 'всё': 8,\n",
       " 'на': 17,\n",
       " 'круги': 13,\n",
       " 'своя': 34,\n",
       " 'то': 44,\n",
       " 'рейтинги': 31,\n",
       " 'следующих': 40,\n",
       " 'будут': 3,\n",
       " 'становится': 42,\n",
       " 'все': 7,\n",
       " 'ниже': 21,\n",
       " 'зрительская': 11,\n",
       " 'аудитория': 0,\n",
       " 'будет': 1,\n",
       " 'меньше': 16}"
      ]
     },
     "execution_count": 12,
     "metadata": {},
     "output_type": "execute_result"
    }
   ],
   "source": [
    "from sklearn.feature_extraction.text import TfidfVectorizer\n",
    "tfidf_vectorizer = TfidfVectorizer()\n",
    "tfidf = tfidf_vectorizer.fit_transform(texts)\n",
    "tfidf_vectorizer.vocabulary_"
   ]
  },
  {
   "cell_type": "code",
   "execution_count": 13,
   "metadata": {
    "colab": {
     "base_uri": "https://localhost:8080/"
    },
    "id": "gs_9jsJjtD2H",
    "outputId": "63cfadbd-4109-440a-b165-5e82612915e3"
   },
   "outputs": [
    {
     "data": {
      "text/plain": [
       "matrix([[0.        , 0.        , 0.2773501 , 0.        , 0.        ,\n",
       "         0.2773501 , 0.        , 0.        , 0.        , 0.        ,\n",
       "         0.        , 0.        , 0.2773501 , 0.        , 0.        ,\n",
       "         0.2773501 , 0.        , 0.        , 0.        , 0.        ,\n",
       "         0.2773501 , 0.        , 0.        , 0.        , 0.        ,\n",
       "         0.        , 0.        , 0.2773501 , 0.        , 0.2773501 ,\n",
       "         0.2773501 , 0.        , 0.        , 0.        , 0.        ,\n",
       "         0.        , 0.2773501 , 0.        , 0.2773501 , 0.2773501 ,\n",
       "         0.        , 0.        , 0.        , 0.2773501 , 0.        ,\n",
       "         0.        , 0.2773501 , 0.        ],\n",
       "        [0.        , 0.        , 0.        , 0.        , 0.48065817,\n",
       "         0.        , 0.        , 0.        , 0.        , 0.24032909,\n",
       "         0.18277647, 0.        , 0.        , 0.        , 0.24032909,\n",
       "         0.        , 0.        , 0.        , 0.24032909, 0.        ,\n",
       "         0.        , 0.        , 0.        , 0.24032909, 0.24032909,\n",
       "         0.24032909, 0.24032909, 0.        , 0.24032909, 0.        ,\n",
       "         0.        , 0.        , 0.24032909, 0.24032909, 0.        ,\n",
       "         0.18277647, 0.        , 0.18277647, 0.        , 0.        ,\n",
       "         0.        , 0.        , 0.        , 0.        , 0.        ,\n",
       "         0.24032909, 0.        , 0.18277647],\n",
       "        [0.18162735, 0.18162735, 0.        , 0.18162735, 0.        ,\n",
       "         0.        , 0.18162735, 0.36325471, 0.18162735, 0.        ,\n",
       "         0.13813228, 0.18162735, 0.        , 0.18162735, 0.        ,\n",
       "         0.        , 0.36325471, 0.18162735, 0.        , 0.18162735,\n",
       "         0.        , 0.36325471, 0.18162735, 0.        , 0.        ,\n",
       "         0.        , 0.        , 0.        , 0.        , 0.        ,\n",
       "         0.        , 0.18162735, 0.        , 0.        , 0.18162735,\n",
       "         0.13813228, 0.        , 0.13813228, 0.        , 0.        ,\n",
       "         0.18162735, 0.18162735, 0.18162735, 0.        , 0.18162735,\n",
       "         0.        , 0.        , 0.13813228]])"
      ]
     },
     "execution_count": 13,
     "metadata": {},
     "output_type": "execute_result"
    }
   ],
   "source": [
    "tfidf.todense()"
   ]
  },
  {
   "cell_type": "markdown",
   "metadata": {
    "id": "XHuvnTYWt4hX"
   },
   "source": [
    "**Параметр sublinear_tf**\n"
   ]
  },
  {
   "cell_type": "code",
   "execution_count": 14,
   "metadata": {
    "colab": {
     "base_uri": "https://localhost:8080/"
    },
    "id": "IL90-pk_uNqp",
    "outputId": "6a805154-13eb-4265-c998-b2a3107eab84"
   },
   "outputs": [
    {
     "data": {
      "text/plain": [
       "matrix([[0.15373049, 0.15373049, 0.        , 0.15373049, 0.        ,\n",
       "         0.        , 0.15373049, 0.30746099, 0.15373049, 0.        ,\n",
       "         0.116916  , 0.15373049, 0.        , 0.15373049, 0.        ,\n",
       "         0.        , 0.61492198, 0.15373049, 0.        , 0.15373049,\n",
       "         0.        , 0.30746099, 0.15373049, 0.        , 0.        ,\n",
       "         0.        , 0.        , 0.        , 0.        , 0.        ,\n",
       "         0.        , 0.15373049, 0.        , 0.        , 0.15373049,\n",
       "         0.116916  , 0.        , 0.116916  , 0.        , 0.        ,\n",
       "         0.15373049, 0.15373049, 0.15373049, 0.        , 0.15373049,\n",
       "         0.        , 0.        , 0.116916  ]])"
      ]
     },
     "execution_count": 14,
     "metadata": {},
     "output_type": "execute_result"
    }
   ],
   "source": [
    "texts = [\"Великолепный сериал, который поможет успокоить нервы при любых стрессах и просто скрасит серые будни\",\n",
    "         \"Пожалуй, если бы я посмотрел только первые пару сезонов этого сериала, я бы с легкой руки написал ему положительную рецензию\",\n",
    "         \"В общем, если создатели этого сериала не вернут всё на круги своя, то рейтинги следующих сезонов будут становится все ниже и ниже, а зрительская аудитория будет все меньше и меньше и меньше и меньше.\"]\n",
    "TfidfVectorizer().fit_transform(texts).todense()[2]"
   ]
  },
  {
   "cell_type": "code",
   "execution_count": 15,
   "metadata": {
    "colab": {
     "base_uri": "https://localhost:8080/"
    },
    "id": "h_BnDi6dvTWx",
    "outputId": "cfca7ca8-e31f-4217-98c3-f16b8e700f16"
   },
   "outputs": [
    {
     "data": {
      "text/plain": [
       "matrix([[0.18336592, 0.18336592, 0.        , 0.18336592, 0.        ,\n",
       "         0.        , 0.18336592, 0.31046549, 0.18336592, 0.        ,\n",
       "         0.13945451, 0.18336592, 0.        , 0.18336592, 0.        ,\n",
       "         0.        , 0.43756505, 0.18336592, 0.        , 0.18336592,\n",
       "         0.        , 0.31046549, 0.18336592, 0.        , 0.        ,\n",
       "         0.        , 0.        , 0.        , 0.        , 0.        ,\n",
       "         0.        , 0.18336592, 0.        , 0.        , 0.18336592,\n",
       "         0.13945451, 0.        , 0.13945451, 0.        , 0.        ,\n",
       "         0.18336592, 0.18336592, 0.18336592, 0.        , 0.18336592,\n",
       "         0.        , 0.        , 0.13945451]])"
      ]
     },
     "execution_count": 15,
     "metadata": {},
     "output_type": "execute_result"
    }
   ],
   "source": [
    "TfidfVectorizer(sublinear_tf=True).fit_transform(texts).todense()[2]"
   ]
  },
  {
   "cell_type": "markdown",
   "metadata": {
    "id": "SV85qlUN0UUK"
   },
   "source": [
    "**Стемминг**\n"
   ]
  },
  {
   "cell_type": "code",
   "execution_count": 16,
   "metadata": {
    "colab": {
     "base_uri": "https://localhost:8080/",
     "height": 35
    },
    "id": "MwT3S9W2wUqn",
    "outputId": "1990d4eb-eaf9-44ee-b8f9-dbabb2b2f077"
   },
   "outputs": [
    {
     "data": {
      "application/vnd.google.colaboratory.intrinsic+json": {
       "type": "string"
      },
      "text/plain": [
       "'сериа'"
      ]
     },
     "execution_count": 16,
     "metadata": {},
     "output_type": "execute_result"
    }
   ],
   "source": [
    "from nltk.stem import SnowballStemmer\n",
    "snowball = SnowballStemmer(language=\"russian\")\n",
    "snowball.stem(\"сериал\")\n"
   ]
  },
  {
   "cell_type": "code",
   "execution_count": 17,
   "metadata": {
    "colab": {
     "base_uri": "https://localhost:8080/"
    },
    "id": "Q12kg2rcy9yh",
    "outputId": "9ec34ef4-0844-4a89-bfe6-29d9760932bc"
   },
   "outputs": [
    {
     "data": {
      "text/plain": [
       "['Великолепный',\n",
       " 'сериал',\n",
       " ',',\n",
       " 'который',\n",
       " 'поможет',\n",
       " 'успокоить',\n",
       " 'нервы',\n",
       " 'при',\n",
       " 'любых',\n",
       " 'стрессах',\n",
       " 'и',\n",
       " 'просто',\n",
       " 'скрасит',\n",
       " 'серые',\n",
       " 'будни']"
      ]
     },
     "execution_count": 17,
     "metadata": {},
     "output_type": "execute_result"
    }
   ],
   "source": [
    "tokenized = nltk.word_tokenize(texts[0])\n",
    "tokenized"
   ]
  },
  {
   "cell_type": "code",
   "execution_count": 18,
   "metadata": {
    "colab": {
     "base_uri": "https://localhost:8080/"
    },
    "id": "hDwdKK1QzkbY",
    "outputId": "f4e7ec25-f359-4ba6-ffa5-4a0c0fce0859"
   },
   "outputs": [
    {
     "data": {
      "text/plain": [
       "['великолепн',\n",
       " 'сериа',\n",
       " ',',\n",
       " 'котор',\n",
       " 'поможет',\n",
       " 'успоко',\n",
       " 'нерв',\n",
       " 'при',\n",
       " 'люб',\n",
       " 'стресс',\n",
       " 'и',\n",
       " 'прост',\n",
       " 'скрас',\n",
       " 'сер',\n",
       " 'будн']"
      ]
     },
     "execution_count": 18,
     "metadata": {},
     "output_type": "execute_result"
    }
   ],
   "source": [
    "text1=[snowball.stem(w) for w in tokenized]\n",
    "text1"
   ]
  },
  {
   "cell_type": "markdown",
   "metadata": {
    "id": "7hSVRLyP09TB"
   },
   "source": [
    "**Лемматизация**\n"
   ]
  },
  {
   "cell_type": "code",
   "execution_count": 19,
   "metadata": {
    "colab": {
     "base_uri": "https://localhost:8080/"
    },
    "id": "MuBU-BnQ07_J",
    "outputId": "b86b8672-0ac8-44c6-b60e-a22a907e68f4"
   },
   "outputs": [
    {
     "name": "stdout",
     "output_type": "stream",
     "text": [
      "Collecting pymorphy2\n",
      "  Downloading pymorphy2-0.9.1-py3-none-any.whl (55 kB)\n",
      "\u001b[2K     \u001b[90m━━━━━━━━━━━━━━━━━━━━━━━━━━━━━━━━━━━━━━━━\u001b[0m \u001b[32m55.5/55.5 kB\u001b[0m \u001b[31m1.2 MB/s\u001b[0m eta \u001b[36m0:00:00\u001b[0m\n",
      "\u001b[?25hCollecting dawg-python>=0.7.1 (from pymorphy2)\n",
      "  Downloading DAWG_Python-0.7.2-py2.py3-none-any.whl (11 kB)\n",
      "Collecting pymorphy2-dicts-ru<3.0,>=2.4 (from pymorphy2)\n",
      "  Downloading pymorphy2_dicts_ru-2.4.417127.4579844-py2.py3-none-any.whl (8.2 MB)\n",
      "\u001b[2K     \u001b[90m━━━━━━━━━━━━━━━━━━━━━━━━━━━━━━━━━━━━━━━━\u001b[0m \u001b[32m8.2/8.2 MB\u001b[0m \u001b[31m46.2 MB/s\u001b[0m eta \u001b[36m0:00:00\u001b[0m\n",
      "\u001b[?25hCollecting docopt>=0.6 (from pymorphy2)\n",
      "  Downloading docopt-0.6.2.tar.gz (25 kB)\n",
      "  Preparing metadata (setup.py) ... \u001b[?25l\u001b[?25hdone\n",
      "Building wheels for collected packages: docopt\n",
      "  Building wheel for docopt (setup.py) ... \u001b[?25l\u001b[?25hdone\n",
      "  Created wheel for docopt: filename=docopt-0.6.2-py2.py3-none-any.whl size=13707 sha256=8935047808c64f26ab8dc0d270e11359e3f74e11ec160f08e4bf9ab76f2f630f\n",
      "  Stored in directory: /root/.cache/pip/wheels/fc/ab/d4/5da2067ac95b36618c629a5f93f809425700506f72c9732fac\n",
      "Successfully built docopt\n",
      "Installing collected packages: pymorphy2-dicts-ru, docopt, dawg-python, pymorphy2\n",
      "Successfully installed dawg-python-0.7.2 docopt-0.6.2 pymorphy2-0.9.1 pymorphy2-dicts-ru-2.4.417127.4579844\n"
     ]
    }
   ],
   "source": [
    "! pip install pymorphy2\n",
    "import pymorphy2\n",
    "morph = pymorphy2.MorphAnalyzer()"
   ]
  },
  {
   "cell_type": "code",
   "execution_count": 20,
   "metadata": {
    "colab": {
     "base_uri": "https://localhost:8080/",
     "height": 35
    },
    "id": "Ndz3rVC821WS",
    "outputId": "cf2bda71-acc8-4a1e-e656-d08d7d3892b0"
   },
   "outputs": [
    {
     "data": {
      "application/vnd.google.colaboratory.intrinsic+json": {
       "type": "string"
      },
      "text/plain": [
       "'маленький'"
      ]
     },
     "execution_count": 20,
     "metadata": {},
     "output_type": "execute_result"
    }
   ],
   "source": [
    "morph.parse(\"маленького\")[0].normal_form"
   ]
  },
  {
   "cell_type": "code",
   "execution_count": 21,
   "metadata": {
    "colab": {
     "base_uri": "https://localhost:8080/"
    },
    "id": "4t1ici_t3G15",
    "outputId": "3c7a9af1-7d77-49f7-ede7-73dd244116e8"
   },
   "outputs": [
    {
     "data": {
      "text/plain": [
       "['великолепный',\n",
       " 'сериал',\n",
       " ',',\n",
       " 'который',\n",
       " 'помочь',\n",
       " 'успокоить',\n",
       " 'нерв',\n",
       " 'при',\n",
       " 'любой',\n",
       " 'стресс',\n",
       " 'и',\n",
       " 'просто',\n",
       " 'скрасить',\n",
       " 'серый',\n",
       " 'будни']"
      ]
     },
     "execution_count": 21,
     "metadata": {},
     "output_type": "execute_result"
    }
   ],
   "source": [
    "text2=[morph.parse(w)[0].normal_form for w in tokenized]\n",
    "text2"
   ]
  },
  {
   "cell_type": "code",
   "execution_count": 22,
   "metadata": {
    "colab": {
     "base_uri": "https://localhost:8080/"
    },
    "id": "_A4h9MllFzfw",
    "outputId": "dd84172d-3645-467a-c9d2-07c2118141f2"
   },
   "outputs": [
    {
     "data": {
      "text/plain": [
       "['Великолепный',\n",
       " 'сериал',\n",
       " 'который',\n",
       " 'поможет',\n",
       " 'успокоить',\n",
       " 'нервы',\n",
       " 'при',\n",
       " 'любых',\n",
       " 'стрессах',\n",
       " 'просто',\n",
       " 'скрасит',\n",
       " 'серые',\n",
       " 'будни']"
      ]
     },
     "execution_count": 22,
     "metadata": {},
     "output_type": "execute_result"
    }
   ],
   "source": [
    "from nltk.tokenize import RegexpTokenizer\n",
    "tokeniz = RegexpTokenizer(r'\\w{2,}')\n",
    "text3=tokeniz.tokenize(texts[0])\n",
    "text3"
   ]
  },
  {
   "cell_type": "code",
   "execution_count": 23,
   "metadata": {
    "colab": {
     "base_uri": "https://localhost:8080/"
    },
    "id": "RXTQS5yW5mHr",
    "outputId": "e0a4ebc5-0158-47e4-911e-305b7b015089"
   },
   "outputs": [
    {
     "data": {
      "text/plain": [
       "['великолепный',\n",
       " 'сериал',\n",
       " 'который',\n",
       " 'помочь',\n",
       " 'успокоить',\n",
       " 'нерв',\n",
       " 'при',\n",
       " 'любой',\n",
       " 'стресс',\n",
       " 'просто',\n",
       " 'скрасить',\n",
       " 'серый',\n",
       " 'будни']"
      ]
     },
     "execution_count": 23,
     "metadata": {},
     "output_type": "execute_result"
    }
   ],
   "source": [
    "text4=[morph.parse(w)[0].normal_form for w in text3]\n",
    "text4"
   ]
  },
  {
   "cell_type": "code",
   "execution_count": 24,
   "metadata": {
    "id": "aqXUtcrK6620"
   },
   "outputs": [],
   "source": [
    "def custom_tokenizer(text):\n",
    "  tokeniz = RegexpTokenizer(r'\\w{2,}')\n",
    "  text1=tokeniz.tokenize(text)\n",
    "  return [morph.parse(w)[0].normal_form for w in text1]\n"
   ]
  },
  {
   "cell_type": "code",
   "execution_count": 25,
   "metadata": {
    "colab": {
     "base_uri": "https://localhost:8080/"
    },
    "id": "qMu0e9bkB2zk",
    "outputId": "b66081dc-4b92-4170-c5ca-ecd14a36b932"
   },
   "outputs": [
    {
     "name": "stderr",
     "output_type": "stream",
     "text": [
      "/usr/local/lib/python3.10/dist-packages/sklearn/feature_extraction/text.py:528: UserWarning: The parameter 'token_pattern' will not be used since 'tokenizer' is not None'\n",
      "  warnings.warn(\n"
     ]
    },
    {
     "data": {
      "text/plain": [
       "{'великолепный': 4,\n",
       " 'сериал': 34,\n",
       " 'который': 9,\n",
       " 'помочь': 25,\n",
       " 'успокоить': 43,\n",
       " 'нерв': 17,\n",
       " 'при': 27,\n",
       " 'любой': 11,\n",
       " 'стресс': 40,\n",
       " 'просто': 28,\n",
       " 'скрасить': 36,\n",
       " 'серый': 35,\n",
       " 'будни': 1,\n",
       " 'пожалуй': 23,\n",
       " 'если': 7,\n",
       " 'бы': 2,\n",
       " 'посмотреть': 26,\n",
       " 'только': 42,\n",
       " 'первый': 22,\n",
       " 'пара': 21,\n",
       " 'сезон': 33,\n",
       " 'это': 44,\n",
       " 'лёгкий': 12,\n",
       " 'рука': 31,\n",
       " 'написать': 15,\n",
       " 'он': 20,\n",
       " 'положительный': 24,\n",
       " 'рецензия': 30,\n",
       " 'общий': 19,\n",
       " 'создатель': 38,\n",
       " 'не': 16,\n",
       " 'вернуть': 5,\n",
       " 'всё': 6,\n",
       " 'на': 14,\n",
       " 'круг': 10,\n",
       " 'свой': 32,\n",
       " 'то': 41,\n",
       " 'рейтинг': 29,\n",
       " 'следующий': 37,\n",
       " 'быть': 3,\n",
       " 'становиться': 39,\n",
       " 'ниже': 18,\n",
       " 'зрительский': 8,\n",
       " 'аудитория': 0,\n",
       " 'маленький': 13}"
      ]
     },
     "execution_count": 25,
     "metadata": {},
     "output_type": "execute_result"
    }
   ],
   "source": [
    "tfidf_vectorizer = TfidfVectorizer(tokenizer=custom_tokenizer)\n",
    "tfidf = tfidf_vectorizer.fit_transform(texts)\n",
    "tfidf_vectorizer.vocabulary_\n"
   ]
  },
  {
   "cell_type": "code",
   "execution_count": 26,
   "metadata": {
    "colab": {
     "base_uri": "https://localhost:8080/"
    },
    "id": "6tr4AHMG_Ci8",
    "outputId": "a52cfcd5-421e-4bfd-ef8f-58f925a087dc"
   },
   "outputs": [
    {
     "data": {
      "text/plain": [
       "matrix([[0.18336592, 0.18336592, 0.        , 0.18336592, 0.        ,\n",
       "         0.        , 0.18336592, 0.31046549, 0.18336592, 0.        ,\n",
       "         0.13945451, 0.18336592, 0.        , 0.18336592, 0.        ,\n",
       "         0.        , 0.43756505, 0.18336592, 0.        , 0.18336592,\n",
       "         0.        , 0.31046549, 0.18336592, 0.        , 0.        ,\n",
       "         0.        , 0.        , 0.        , 0.        , 0.        ,\n",
       "         0.        , 0.18336592, 0.        , 0.        , 0.18336592,\n",
       "         0.13945451, 0.        , 0.13945451, 0.        , 0.        ,\n",
       "         0.18336592, 0.18336592, 0.18336592, 0.        , 0.18336592,\n",
       "         0.        , 0.        , 0.13945451]])"
      ]
     },
     "execution_count": 26,
     "metadata": {},
     "output_type": "execute_result"
    }
   ],
   "source": [
    "TfidfVectorizer(sublinear_tf=True).fit_transform(texts).todense()[2]"
   ]
  }
 ],
 "metadata": {
  "colab": {
   "provenance": []
  },
  "kernelspec": {
   "display_name": "Python 3 (ipykernel)",
   "language": "python",
   "name": "python3"
  },
  "language_info": {
   "codemirror_mode": {
    "name": "ipython",
    "version": 3
   },
   "file_extension": ".py",
   "mimetype": "text/x-python",
   "name": "python",
   "nbconvert_exporter": "python",
   "pygments_lexer": "ipython3",
   "version": "3.8.10"
  }
 },
 "nbformat": 4,
 "nbformat_minor": 4
}
