{
  "nbformat": 4,
  "nbformat_minor": 0,
  "metadata": {
    "kernelspec": {
      "display_name": "Tensorflow (GPU)",
      "language": "python",
      "name": "py3.6-tfgpu"
    },
    "language_info": {
      "codemirror_mode": {
        "name": "ipython",
        "version": 3
      },
      "file_extension": ".py",
      "mimetype": "text/x-python",
      "name": "python",
      "nbconvert_exporter": "python",
      "pygments_lexer": "ipython3",
      "version": "3.6.6"
    },
    "colab": {
      "provenance": []
    },
    "accelerator": "GPU",
    "gpuClass": "standard"
  },
  "cells": [
    {
      "cell_type": "code",
      "metadata": {
        "collapsed": true,
        "id": "v91hJRZSIkv4"
      },
      "source": [
        "%matplotlib inline"
      ],
      "execution_count": 1,
      "outputs": []
    },
    {
      "cell_type": "code",
      "metadata": {
        "id": "uDyWNWTgczKk"
      },
      "source": [
        "import numpy as np"
      ],
      "execution_count": 2,
      "outputs": []
    },
    {
      "cell_type": "code",
      "metadata": {
        "id": "9JF8xU60dF3a"
      },
      "source": [
        "class NeuralNet():\n",
        "\n",
        "  def __init__(self):\n",
        "    self.weights = 2 * np.random.random((3,1)) #-1\n",
        "\n",
        "  def activation(self,x): #sigmoid\n",
        "    return 1/(1+ np.exp(-x))\n",
        "\n",
        "  def act_derivative(self,x):\n",
        "    return x * (1-x)\n",
        "\n",
        "  def forward(self,input):\n",
        "    out = self.activation(np.dot(input.astype('float32'),self.weights))\n",
        "    return out\n",
        "\n",
        "  def fit(self,input_x,output_y,iterations):\n",
        "\n",
        "    for iter in range(iterations):\n",
        "      output = self.forward(input_x)\n",
        "      error = output_y - output\n",
        "      weights_adj = np.dot(input_x.T, error * self.act_derivative(output))\n",
        "      self.weights += weights_adj\n",
        "\n",
        ""
      ],
      "execution_count": 3,
      "outputs": []
    },
    {
      "cell_type": "code",
      "source": [
        "model = NeuralNet()\n",
        "\n",
        "model.weights"
      ],
      "metadata": {
        "colab": {
          "base_uri": "https://localhost:8080/"
        },
        "id": "dHvtcNt-i-3v",
        "outputId": "63b0f042-20e3-4f6d-d2f8-8b42c8715850"
      },
      "execution_count": 4,
      "outputs": [
        {
          "output_type": "execute_result",
          "data": {
            "text/plain": [
              "array([[1.43674779],\n",
              "       [0.98685145],\n",
              "       [0.40852857]])"
            ]
          },
          "metadata": {},
          "execution_count": 4
        }
      ]
    },
    {
      "cell_type": "code",
      "source": [
        "model.weights"
      ],
      "metadata": {
        "colab": {
          "base_uri": "https://localhost:8080/"
        },
        "id": "H4JKf1LHj1n8",
        "outputId": "31ef2cfe-2a2f-4172-f9ab-052f38cae469"
      },
      "execution_count": 5,
      "outputs": [
        {
          "output_type": "execute_result",
          "data": {
            "text/plain": [
              "array([[1.43674779],\n",
              "       [0.98685145],\n",
              "       [0.40852857]])"
            ]
          },
          "metadata": {},
          "execution_count": 5
        }
      ]
    },
    {
      "cell_type": "code",
      "source": [
        "x_train = np.array([[0,0,1],\n",
        "                    [1,1,1],\n",
        "                    [1,0,1],\n",
        "                    [0,1,1]])\n",
        "\n",
        "y_train = np.array([[0,1,1,0]]).T"
      ],
      "metadata": {
        "id": "V0_e6XYSjO45"
      },
      "execution_count": 6,
      "outputs": []
    },
    {
      "cell_type": "code",
      "source": [
        "print(x_train.shape ,y_train.shape)"
      ],
      "metadata": {
        "colab": {
          "base_uri": "https://localhost:8080/"
        },
        "id": "aOSbsSjOeq7l",
        "outputId": "72329594-f33a-46d7-d563-5607301e8d5c"
      },
      "execution_count": 7,
      "outputs": [
        {
          "output_type": "stream",
          "name": "stdout",
          "text": [
            "(4, 3) (4, 1)\n"
          ]
        }
      ]
    },
    {
      "cell_type": "code",
      "source": [
        "model.forward(x_train)"
      ],
      "metadata": {
        "colab": {
          "base_uri": "https://localhost:8080/"
        },
        "id": "VImOAbl-jfnu",
        "outputId": "0ada7b31-f1c2-437f-ef6c-94f478d62b6d"
      },
      "execution_count": 8,
      "outputs": [
        {
          "output_type": "execute_result",
          "data": {
            "text/plain": [
              "array([[0.600735  ],\n",
              "       [0.94438746],\n",
              "       [0.86357154],\n",
              "       [0.80144974]])"
            ]
          },
          "metadata": {},
          "execution_count": 8
        }
      ]
    },
    {
      "cell_type": "code",
      "source": [
        "model.fit(x_train,y_train,100000)"
      ],
      "metadata": {
        "id": "sbHRDfDEjprc"
      },
      "execution_count": 9,
      "outputs": []
    },
    {
      "cell_type": "code",
      "metadata": {
        "id": "HG2Q3RZVmeC8"
      },
      "source": [
        "model = NeuralNet()\n",
        "\n",
        "x_train = np.array([[0,0,1],\n",
        "                    [1,1,1],\n",
        "                    [1,0,1],\n",
        "                    [0,1,1]])\n",
        "\n",
        "y_train = np.array([[0,1,1,0]]).T\n",
        "\n",
        "model.fit(x_train,y_train,10000)\n"
      ],
      "execution_count": 10,
      "outputs": []
    },
    {
      "cell_type": "code",
      "metadata": {
        "colab": {
          "base_uri": "https://localhost:8080/"
        },
        "id": "p742tgB8oIkp",
        "outputId": "5f324a7b-a7eb-43d5-bfa3-d0ae6c03660c"
      },
      "source": [
        "model.forward(np.array([0,0,0]))"
      ],
      "execution_count": 11,
      "outputs": [
        {
          "output_type": "execute_result",
          "data": {
            "text/plain": [
              "array([0.5])"
            ]
          },
          "metadata": {},
          "execution_count": 11
        }
      ]
    },
    {
      "cell_type": "markdown",
      "metadata": {
        "id": "oc6BX71-IkwB"
      },
      "source": [
        "## Секция Импорта библиотек\n",
        "\n"
      ]
    },
    {
      "cell_type": "code",
      "metadata": {
        "id": "4PDJWnzbIkwC"
      },
      "source": [
        "import numpy as np\n",
        "import matplotlib.pyplot as plt\n",
        "import random\n",
        "\n",
        "from keras.datasets import mnist     # MNIST dataset\n",
        "from keras.models import Sequential  # Model Нейронной сети\n",
        "\n",
        "from keras.layers.core import Dense, Dropout, Activation # Функции Активации и Слои нейронной сети\n",
        "from keras.utils import np_utils"
      ],
      "execution_count": 12,
      "outputs": []
    },
    {
      "cell_type": "markdown",
      "metadata": {
        "id": "jtchzesTIkwG"
      },
      "source": [
        "## Загружаем тренировочные данные\n"
      ]
    },
    {
      "cell_type": "code",
      "metadata": {
        "id": "T9Y8PJ9lIkwI",
        "colab": {
          "base_uri": "https://localhost:8080/"
        },
        "outputId": "5d0b6bf8-3f66-491a-a65c-270e6c44b609"
      },
      "source": [
        "#  60,000 28 x 28 pixel тренировочные изображения и  10,000 28 x 28 pixel тестовые изображения\n",
        "(X_train, y_train), (X_test, y_test) = mnist.load_data()\n",
        "\n",
        "print(\"X_train shape\", X_train.shape)\n",
        "print(\"y_train shape\", y_train.shape)\n",
        "print(\"X_test shape\", X_test.shape)\n",
        "print(\"y_test shape\", y_test.shape)"
      ],
      "execution_count": 13,
      "outputs": [
        {
          "output_type": "stream",
          "name": "stdout",
          "text": [
            "Downloading data from https://storage.googleapis.com/tensorflow/tf-keras-datasets/mnist.npz\n",
            "11490434/11490434 [==============================] - 2s 0us/step\n",
            "X_train shape (60000, 28, 28)\n",
            "y_train shape (60000,)\n",
            "X_test shape (10000, 28, 28)\n",
            "y_test shape (10000,)\n"
          ]
        }
      ]
    },
    {
      "cell_type": "markdown",
      "metadata": {
        "id": "B4E1TAe0IkwJ"
      },
      "source": [
        "Выведем несколько примеров данных"
      ]
    },
    {
      "cell_type": "code",
      "metadata": {
        "id": "8kCTeJSXIkwL",
        "colab": {
          "base_uri": "https://localhost:8080/",
          "height": 907
        },
        "outputId": "969d3457-9844-4b69-f27e-f0eb7aa71106"
      },
      "source": [
        "plt.rcParams['figure.figsize'] = (9,9)\n",
        "\n",
        "for i in range(9):\n",
        "    plt.subplot(3,3,i+1)\n",
        "    num = random.randint(0, len(X_train))\n",
        "    plt.imshow(X_train[num], cmap='gray', interpolation='none')\n",
        "    plt.title(\"Class {}\".format(y_train[num]))\n",
        "\n",
        "plt.tight_layout()"
      ],
      "execution_count": 14,
      "outputs": [
        {
          "output_type": "display_data",
          "data": {
            "text/plain": [
              "<Figure size 900x900 with 9 Axes>"
            ],
            "image/png": "[encoded data removed]"
          },
          "metadata": {}
        }
      ]
    },
    {
      "cell_type": "code",
      "metadata": {
        "id": "UvWruw32IkwN",
        "colab": {
          "base_uri": "https://localhost:8080/"
        },
        "outputId": "adc2558e-78bd-4a28-c402-26dcb541e5a7"
      },
      "source": [
        "# just a little function for pretty printing a matrix\n",
        "def matprint(mat, fmt=\"g\"):\n",
        "    col_maxes = [max([len((\"{:\"+fmt+\"}\").format(x)) for x in col]) for col in mat.T]\n",
        "    for x in mat:\n",
        "        for i, y in enumerate(x):\n",
        "            print((\"{:\"+str(col_maxes[i])+fmt+\"}\").format(y), end=\"  \")\n",
        "        print(\"\")\n",
        "\n",
        "# now print!\n",
        "matprint(X_train[120])"
      ],
      "execution_count": 15,
      "outputs": [
        {
          "output_type": "stream",
          "name": "stdout",
          "text": [
            "0  0  0  0    0    0    0    0    0    0    0    0    0    0    0    0    0    0    0    0    0    0    0    0  0  0  0  0  \n",
            "0  0  0  0    0    0    0    0    0    0    0    0    0    0    0    0    0    0    0    0    0    0    0    0  0  0  0  0  \n",
            "0  0  0  0    0    0    0    0    0    0    0    0    0    0    0    0    0    0    0    0    0    0    0    0  0  0  0  0  \n",
            "0  0  0  0    0    0    0    0    0    0    0    0    0    0    0    0    0    0    0    0    0    0    0    0  0  0  0  0  \n",
            "0  0  0  0    0    0    0    0    0    0    0    0    0    0    0    0    0    0    0    0    0    0    0    0  0  0  0  0  \n",
            "0  0  0  0    0    0    0    0    9    7   13  117  191   76    7    6    0    0    0    0    0    0    0    0  0  0  0  0  \n",
            "0  0  0  0    2   83  100  145  223  167  173  253  253  253  203  133  145   65    7    0    0    0    0    0  0  0  0  0  \n",
            "0  0  0  0  106  253  253  253  253  253  253  253  253  253  254  253  253  253  184   38    0    0    0    0  0  0  0  0  \n",
            "0  0  0  0  254  253  253  253  253  253  253  253  253  253  254  253  253  253  253  140    0    0    0    0  0  0  0  0  \n",
            "0  0  0  0  254  253  253  253  253  253  253  253  198  193  254  253  253  253  253  180    0    0    0    0  0  0  0  0  \n",
            "0  0  0  0  220  253  243  123   94   60   60   60    6    0   60  118   88  253  253  236   37    0    0    0  0  0  0  0  \n",
            "0  0  0  0   25   48   41    0    0    0    0    0    0    0    0    0    7  144  253  253  146    0    0    0  0  0  0  0  \n",
            "0  0  0  0    0    0    0    0    0    0    0    0    0    0    0    0    0   49  253  253  201   14    0    0  0  0  0  0  \n",
            "0  0  0  0    0    0    0    0    0    0    0    0    0    0    0    0    0   49  253  253  217   21    0    0  0  0  0  0  \n",
            "0  0  0  0    0    0    0    0    0    0    0    0    0    0    0    0    0   49  253  253  168    0    0    0  0  0  0  0  \n",
            "0  0  0  0    0    0    0    0    0    0    0    0    0    0    0    0    8   59  254  254  116    2    0    0  0  0  0  0  \n",
            "0  0  0  0    0    0    0    0    0    0    0    0    0   12   89   88  212  253  253  253  253  160  145   18  0  0  0  0  \n",
            "0  0  0  0    0    0    0    0    0    0    0    0   86  203  254  253  253  253  253  253  253  253  253  207  0  0  0  0  \n",
            "0  0  0  0    0    0    0    0    0    0    0   89  246  253  254  253  253  253  253  253  253  253  253  253  0  0  0  0  \n",
            "0  0  0  0    0    0    0    0    0    0    0  218  253  253  254  253  253  253  253  253  253  253  253  166  0  0  0  0  \n",
            "0  0  0  0    0    0    0    0    0    0  100  245  253  253  254  253  253  253  236   88   60  118   60   32  0  0  0  0  \n",
            "0  0  0  0    0    0    0    0    0   25  222  253  253  253  254  253  253  214   37    0    0    0    0    0  0  0  0  0  \n",
            "0  0  0  0    0    0    0    0    0   73  253  253  253  253  254  253  239   69    0    0    0    0    0    0  0  0  0  0  \n",
            "0  0  0  0    0    0    0    0    0   73  253  253  253  253  254  243  124    0    0    0    0    0    0    0  0  0  0  0  \n",
            "0  0  0  0    0    0    0    0    0    4  150  149  242  253   11   10    0    0    0    0    0    0    0    0  0  0  0  0  \n",
            "0  0  0  0    0    0    0    0    0    0    0    0    0    0    0    0    0    0    0    0    0    0    0    0  0  0  0  0  \n",
            "0  0  0  0    0    0    0    0    0    0    0    0    0    0    0    0    0    0    0    0    0    0    0    0  0  0  0  0  \n",
            "0  0  0  0    0    0    0    0    0    0    0    0    0    0    0    0    0    0    0    0    0    0    0    0  0  0  0  0  \n"
          ]
        }
      ]
    },
    {
      "cell_type": "code",
      "metadata": {
        "id": "BtxjXw_17BCD",
        "colab": {
          "base_uri": "https://localhost:8080/",
          "height": 770
        },
        "outputId": "f7dab0b1-3fe5-47a9-e58a-26c3c8778055"
      },
      "source": [
        "plt.imshow(X_train[120], cmap='gray', interpolation='none')"
      ],
      "execution_count": 16,
      "outputs": [
        {
          "output_type": "execute_result",
          "data": {
            "text/plain": [
              "<matplotlib.image.AxesImage at 0x7ca1d800b190>"
            ]
          },
          "metadata": {},
          "execution_count": 16
        },
        {
          "output_type": "display_data",
          "data": {
            "text/plain": [
              "<Figure size 900x900 with 1 Axes>"
            ],
            "image/png": "[encoded data removed]"
          },
          "metadata": {}
        }
      ]
    },
    {
      "cell_type": "markdown",
      "metadata": {
        "id": "kPlCq_EIIkwO"
      },
      "source": [
        "Каждый пиксель представляет собой 8-битное целое число от 0 до 255. 0 - полностью черный, а 255 - полностью белый. Это то, что мы называем одноканальным пикселем. Это называется монохромный."
      ]
    },
    {
      "cell_type": "markdown",
      "metadata": {
        "id": "QfsbJ1UcIkwO"
      },
      "source": [
        "## Форматирование слоя входных данных\n",
        "\n",
        "Вместо матрицы 28 x 28 мы строим нашу сеть так, чтобы она принимала вектор длиной 784.\n",
        "\n",
        "Затем каждое изображение необходимо преобразовать в вектор. Мы также нормализуем входные данные, чтобы они находились в диапазоне [0-1], а не [0-255]."
      ]
    },
    {
      "cell_type": "markdown",
      "metadata": {
        "id": "l5-NvhgPIkwP"
      },
      "source": [
        "<img src='https://github.com/AviatorMoser/keras-mnist-tutorial/blob/master/flatten.png?raw=1' >"
      ]
    },
    {
      "cell_type": "code",
      "metadata": {
        "id": "ps0AV3TNIkwP",
        "colab": {
          "base_uri": "https://localhost:8080/"
        },
        "outputId": "31e8b397-aab5-4b4a-ce6f-8971d8faa510"
      },
      "source": [
        "X_train = X_train.reshape(60000, 784)\n",
        "X_test = X_test.reshape(10000, 784)\n",
        "\n",
        "X_train = X_train.astype('float32')\n",
        "X_test = X_test.astype('float32')\n",
        "\n",
        "X_train /= 255\n",
        "X_test /= 255\n",
        "\n",
        "print(\"Training matrix shape\", X_train.shape)\n",
        "print(\"Testing matrix shape\", X_test.shape)"
      ],
      "execution_count": 17,
      "outputs": [
        {
          "output_type": "stream",
          "name": "stdout",
          "text": [
            "Training matrix shape (60000, 784)\n",
            "Testing matrix shape (10000, 784)\n"
          ]
        }
      ]
    },
    {
      "cell_type": "code",
      "metadata": {
        "id": "jJDHMaJL87JH",
        "colab": {
          "base_uri": "https://localhost:8080/"
        },
        "outputId": "f5b7d276-6d85-4d2b-e052-0105ed59f67a"
      },
      "source": [
        "y_train[10]"
      ],
      "execution_count": 18,
      "outputs": [
        {
          "output_type": "execute_result",
          "data": {
            "text/plain": [
              "3"
            ]
          },
          "metadata": {},
          "execution_count": 18
        }
      ]
    },
    {
      "cell_type": "code",
      "metadata": {
        "collapsed": true,
        "id": "PKLXYfGiIkwT"
      },
      "source": [
        "nb_classes = 10 # Кол-во классов (всего 10 цифр)\n",
        "\n",
        "Y_train = np_utils.to_categorical(y_train, nb_classes)\n",
        "Y_test = np_utils.to_categorical(y_test, nb_classes)"
      ],
      "execution_count": 19,
      "outputs": []
    },
    {
      "cell_type": "code",
      "metadata": {
        "id": "rmTMujC4-IQw",
        "colab": {
          "base_uri": "https://localhost:8080/"
        },
        "outputId": "f3593a4b-ffa5-4099-ea7e-8d7ff93c4db1"
      },
      "source": [
        "Y_train[10]"
      ],
      "execution_count": 20,
      "outputs": [
        {
          "output_type": "execute_result",
          "data": {
            "text/plain": [
              "array([0., 0., 0., 1., 0., 0., 0., 0., 0., 0.], dtype=float32)"
            ]
          },
          "metadata": {},
          "execution_count": 20
        }
      ]
    },
    {
      "cell_type": "markdown",
      "metadata": {
        "id": "hMC2hW7KIkwT"
      },
      "source": [
        "# Building a 3-layer fully connected network (FCN)\n",
        "\n",
        "<img src=\"https://github.com/AviatorMoser/keras-mnist-tutorial/blob/master/figure.png?raw=1\" />"
      ]
    },
    {
      "cell_type": "code",
      "metadata": {
        "collapsed": true,
        "id": "ImBEtJuYIkwU"
      },
      "source": [
        "model = Sequential()"
      ],
      "execution_count": 21,
      "outputs": []
    },
    {
      "cell_type": "markdown",
      "metadata": {
        "id": "L-I3mTPyIkwV"
      },
      "source": [
        "## The first hidden layer"
      ]
    },
    {
      "cell_type": "code",
      "metadata": {
        "collapsed": true,
        "id": "HEsaSZJ-IkwV"
      },
      "source": [
        "\n",
        "\n",
        "model.add(Dense(512, input_shape=(784,)))"
      ],
      "execution_count": 22,
      "outputs": []
    },
    {
      "cell_type": "code",
      "metadata": {
        "collapsed": true,
        "id": "RXfMsHGkIkwW"
      },
      "source": [
        "\n",
        "model.add(Activation('relu'))"
      ],
      "execution_count": 23,
      "outputs": []
    },
    {
      "cell_type": "code",
      "metadata": {
        "collapsed": true,
        "id": "3K_xsIzFIkwX"
      },
      "source": [
        "\n",
        "# Dropout - это аналог регуляризации в нейронных сетях\n",
        "model.add(Dropout(0.2))"
      ],
      "execution_count": 24,
      "outputs": []
    },
    {
      "cell_type": "markdown",
      "metadata": {
        "id": "aKdRq51LIkwX"
      },
      "source": [
        "## Adding the second hidden layer"
      ]
    },
    {
      "cell_type": "code",
      "metadata": {
        "collapsed": true,
        "id": "jKuwFGU3IkwY"
      },
      "source": [
        "\n",
        "\n",
        "model.add(Dense(512))\n",
        "model.add(Activation('relu'))\n",
        "model.add(Dropout(0.2))"
      ],
      "execution_count": 25,
      "outputs": []
    },
    {
      "cell_type": "markdown",
      "metadata": {
        "id": "fwz47w4iIkwY"
      },
      "source": [
        "## The Final Output Layer"
      ]
    },
    {
      "cell_type": "code",
      "metadata": {
        "collapsed": true,
        "id": "YeTO_859IkwZ"
      },
      "source": [
        "\n",
        "# Последний уровень FCN должен быть равен количеству желаемых классов (в данном случае 10).\n",
        "model.add(Dense(10))"
      ],
      "execution_count": 26,
      "outputs": []
    },
    {
      "cell_type": "code",
      "metadata": {
        "collapsed": true,
        "id": "NEqxosQQIkwZ"
      },
      "source": [
        "model.add(Activation('softmax'))\n"
      ],
      "execution_count": 27,
      "outputs": []
    },
    {
      "cell_type": "code",
      "metadata": {
        "id": "S8KEtR-0IkwZ",
        "colab": {
          "base_uri": "https://localhost:8080/"
        },
        "outputId": "a200b158-4880-4292-e666-eb258f1b62ef"
      },
      "source": [
        "# Вывод получившейся нейронной сети:\n",
        "\n",
        "model.summary()"
      ],
      "execution_count": 28,
      "outputs": [
        {
          "output_type": "stream",
          "name": "stdout",
          "text": [
            "Model: \"sequential\"\n",
            "_________________________________________________________________\n",
            " Layer (type)                Output Shape              Param #   \n",
            "=================================================================\n",
            " dense (Dense)               (None, 512)               401920    \n",
            "                                                                 \n",
            " activation (Activation)     (None, 512)               0         \n",
            "                                                                 \n",
            " dropout (Dropout)           (None, 512)               0         \n",
            "                                                                 \n",
            " dense_1 (Dense)             (None, 512)               262656    \n",
            "                                                                 \n",
            " activation_1 (Activation)   (None, 512)               0         \n",
            "                                                                 \n",
            " dropout_1 (Dropout)         (None, 512)               0         \n",
            "                                                                 \n",
            " dense_2 (Dense)             (None, 10)                5130      \n",
            "                                                                 \n",
            " activation_2 (Activation)   (None, 10)                0         \n",
            "                                                                 \n",
            "=================================================================\n",
            "Total params: 669,706\n",
            "Trainable params: 669,706\n",
            "Non-trainable params: 0\n",
            "_________________________________________________________________\n"
          ]
        }
      ]
    },
    {
      "cell_type": "markdown",
      "metadata": {
        "id": "6d_UiRPDIkwa"
      },
      "source": [
        "## Сборка модели\n",
        "\n",
        "Keras построен на основе Theano и TensorFlow. Оба пакета позволяют вам определять граф вычислений в Python, который затем компилируется и эффективно запускается на CPU или GPU без дополнительных затрат на интерпретатор Python.\n",
        "\n",
        "При составлении модели Keras просит вас указать вашу функцию потерь и ваш оптимизатор. Функция потерь, которую мы здесь будем использовать, называется категориальной кросс-энтропией и является функцией потерь, хорошо подходящей для сравнения двух распределений вероятностей.\n",
        "\n",
        "Оптимизатор помогает определить, насколько быстро модель обучается с помощью градиентного спуска. Скорость, с которой сходится градиент, называется скоростью обучения."
      ]
    },
    {
      "cell_type": "code",
      "metadata": {
        "collapsed": true,
        "id": "N6dq2kn1Ikwb"
      },
      "source": [
        "model.compile(loss='categorical_crossentropy', optimizer='adam', metrics=['accuracy'])"
      ],
      "execution_count": 29,
      "outputs": []
    },
    {
      "cell_type": "markdown",
      "metadata": {
        "id": "5GRXsux8Ikwc"
      },
      "source": [
        "## Обучение нейронной сети!\n"
      ]
    },
    {
      "cell_type": "markdown",
      "metadata": {
        "id": "fTFL9m74Ikwc"
      },
      "source": [
        "batch_size определяет, сколько данных на шаг используется для вычисления функции потерь, градиентов и обратного распространения. Большие размеры пакетов позволяют сети быстрее завершить обучение; Однако следует учитывать и другие факторы, помимо скорости тренировки.\n",
        "\n",
        "Слишком большой размер batch_sizeкета сглаживает локальные минимумы функции потерь, d hезультате чего оптимизатор застревает в Локальном минимуме.\n",
        "\n",
        "Слишком маленький размер batch_sizeкета создает очень \"зашумленную\" функцию потерь, и оптимизатор может никогда не найти глобальный минимум.\n"
      ]
    },
    {
      "cell_type": "code",
      "metadata": {
        "id": "-ci91_MbIkwc",
        "colab": {
          "base_uri": "https://localhost:8080/"
        },
        "outputId": "c577afdf-2d71-4022-ad68-3fd31ff97bb1"
      },
      "source": [
        "model.fit(X_train, Y_train,\n",
        "          batch_size=32, epochs=10,\n",
        "          verbose=1)"
      ],
      "execution_count": 30,
      "outputs": [
        {
          "output_type": "stream",
          "name": "stdout",
          "text": [
            "Epoch 1/10\n",
            "1875/1875 [==============================] - 12s 3ms/step - loss: 0.2148 - accuracy: 0.9354\n",
            "Epoch 2/10\n",
            "1875/1875 [==============================] - 7s 4ms/step - loss: 0.1044 - accuracy: 0.9681\n",
            "Epoch 3/10\n",
            "1875/1875 [==============================] - 7s 4ms/step - loss: 0.0801 - accuracy: 0.9748\n",
            "Epoch 4/10\n",
            "1875/1875 [==============================] - 8s 4ms/step - loss: 0.0679 - accuracy: 0.9787\n",
            "Epoch 5/10\n",
            "1875/1875 [==============================] - 8s 4ms/step - loss: 0.0563 - accuracy: 0.9827\n",
            "Epoch 6/10\n",
            "1875/1875 [==============================] - 7s 4ms/step - loss: 0.0500 - accuracy: 0.9848\n",
            "Epoch 7/10\n",
            "1875/1875 [==============================] - 8s 4ms/step - loss: 0.0475 - accuracy: 0.9851\n",
            "Epoch 8/10\n",
            "1875/1875 [==============================] - 7s 4ms/step - loss: 0.0406 - accuracy: 0.9871\n",
            "Epoch 9/10\n",
            "1875/1875 [==============================] - 8s 4ms/step - loss: 0.0414 - accuracy: 0.9871\n",
            "Epoch 10/10\n",
            "1875/1875 [==============================] - 7s 4ms/step - loss: 0.0346 - accuracy: 0.9894\n"
          ]
        },
        {
          "output_type": "execute_result",
          "data": {
            "text/plain": [
              "<keras.callbacks.History at 0x7ca1daacfbb0>"
            ]
          },
          "metadata": {},
          "execution_count": 30
        }
      ]
    },
    {
      "cell_type": "markdown",
      "metadata": {
        "id": "YrhB85HnIkwg"
      },
      "source": [
        "## Проверим точность модели"
      ]
    },
    {
      "cell_type": "code",
      "metadata": {
        "id": "W4vaPIJdIkwg",
        "colab": {
          "base_uri": "https://localhost:8080/"
        },
        "outputId": "77f96f7a-a171-43e4-ffb8-be0760fcee41"
      },
      "source": [
        "score = model.evaluate(X_test, Y_test)\n",
        "print('Test score:', score[0])\n",
        "print('Test accuracy:', score[1])"
      ],
      "execution_count": 31,
      "outputs": [
        {
          "output_type": "stream",
          "name": "stdout",
          "text": [
            "313/313 [==============================] - 1s 3ms/step - loss: 0.0721 - accuracy: 0.9822\n",
            "Test score: 0.07205714285373688\n",
            "Test accuracy: 0.982200026512146\n"
          ]
        }
      ]
    },
    {
      "cell_type": "code",
      "source": [
        "y_test[0]"
      ],
      "metadata": {
        "colab": {
          "base_uri": "https://localhost:8080/"
        },
        "id": "5ymj5etG0mib",
        "outputId": "f0505e93-2ece-47c4-ca18-88e6a011246f"
      },
      "execution_count": 32,
      "outputs": [
        {
          "output_type": "execute_result",
          "data": {
            "text/plain": [
              "7"
            ]
          },
          "metadata": {},
          "execution_count": 32
        }
      ]
    },
    {
      "cell_type": "code",
      "metadata": {
        "colab": {
          "base_uri": "https://localhost:8080/"
        },
        "id": "athOClebvBYX",
        "outputId": "f6e97513-76d2-4dc5-af4e-c9f2f56e291f"
      },
      "source": [
        "model.predict(X_test)[0]"
      ],
      "execution_count": 33,
      "outputs": [
        {
          "output_type": "stream",
          "name": "stdout",
          "text": [
            "313/313 [==============================] - 1s 2ms/step\n"
          ]
        },
        {
          "output_type": "execute_result",
          "data": {
            "text/plain": [
              "array([5.45664183e-17, 4.28757412e-11, 4.35459264e-12, 1.18189625e-11,\n",
              "       8.04329173e-12, 6.39534691e-17, 3.58231567e-21, 1.00000000e+00,\n",
              "       3.88013460e-14, 3.25732263e-09], dtype=float32)"
            ]
          },
          "metadata": {},
          "execution_count": 33
        }
      ]
    },
    {
      "cell_type": "code",
      "metadata": {
        "collapsed": true,
        "id": "UinmvuXgIkwi",
        "colab": {
          "base_uri": "https://localhost:8080/"
        },
        "outputId": "1c0d8fa5-3271-406c-9ccb-3f2b080f4f05"
      },
      "source": [
        "predicted_classes = np.argmax(model.predict(X_test),axis=1)\n",
        "\n",
        "correct_indices = np.nonzero(predicted_classes == y_test)[0]\n",
        "\n",
        "incorrect_indices = np.nonzero(predicted_classes != y_test)[0]"
      ],
      "execution_count": 34,
      "outputs": [
        {
          "output_type": "stream",
          "name": "stdout",
          "text": [
            "313/313 [==============================] - 1s 2ms/step\n"
          ]
        }
      ]
    },
    {
      "cell_type": "code",
      "metadata": {
        "id": "Nrys7_51AiVI",
        "colab": {
          "base_uri": "https://localhost:8080/"
        },
        "outputId": "76171451-542e-4b8f-ab0c-1a3d1185255d"
      },
      "source": [
        "incorrect_indices[0]"
      ],
      "execution_count": 35,
      "outputs": [
        {
          "output_type": "execute_result",
          "data": {
            "text/plain": [
              "115"
            ]
          },
          "metadata": {},
          "execution_count": 35
        }
      ]
    },
    {
      "cell_type": "code",
      "metadata": {
        "id": "k-UOo8FSAbiG",
        "colab": {
          "base_uri": "https://localhost:8080/"
        },
        "outputId": "a561de09-2de3-4038-fd39-b94458d29302"
      },
      "source": [
        "np.argmax(model.predict(X_test),axis=1).shape"
      ],
      "execution_count": 36,
      "outputs": [
        {
          "output_type": "stream",
          "name": "stdout",
          "text": [
            "313/313 [==============================] - 1s 2ms/step\n"
          ]
        },
        {
          "output_type": "execute_result",
          "data": {
            "text/plain": [
              "(10000,)"
            ]
          },
          "metadata": {},
          "execution_count": 36
        }
      ]
    },
    {
      "cell_type": "code",
      "metadata": {
        "id": "3EATWZf4AM1b",
        "colab": {
          "base_uri": "https://localhost:8080/",
          "height": 770
        },
        "outputId": "4d50abfa-b999-418d-b466-164d6ab19764"
      },
      "source": [
        "plt.imshow(X_test[[incorrect_indices[0]]].reshape(28,28), cmap='gray', interpolation='none')"
      ],
      "execution_count": 37,
      "outputs": [
        {
          "output_type": "execute_result",
          "data": {
            "text/plain": [
              "<matplotlib.image.AxesImage at 0x7ca17db32500>"
            ]
          },
          "metadata": {},
          "execution_count": 37
        },
        {
          "output_type": "display_data",
          "data": {
            "text/plain": [
              "<Figure size 900x900 with 1 Axes>"
            ],
            "image/png": "[encoded data removed]"
          },
          "metadata": {}
        }
      ]
    },
    {
      "cell_type": "code",
      "metadata": {
        "id": "Na29V4JiIkwm",
        "colab": {
          "base_uri": "https://localhost:8080/",
          "height": 1000
        },
        "outputId": "01e2b49e-8095-403d-c627-48f30de05423"
      },
      "source": [
        "plt.figure()\n",
        "for i, correct in enumerate(correct_indices[:9]):\n",
        "    plt.subplot(3,3,i+1)\n",
        "    plt.imshow(X_test[correct].reshape(28,28), cmap='gray', interpolation='none')\n",
        "    plt.title(\"Predicted {}, Class {}\".format(predicted_classes[correct], y_test[correct]))\n",
        "\n",
        "plt.tight_layout()\n",
        "\n",
        "plt.figure()\n",
        "for i, incorrect in enumerate(incorrect_indices[:9]):\n",
        "    plt.subplot(3,3,i+1)\n",
        "    plt.imshow(X_test[incorrect].reshape(28,28), cmap='gray', interpolation='none')\n",
        "    plt.title(\"Predicted {}, Class {}\".format(predicted_classes[incorrect], y_test[incorrect]))\n",
        "\n",
        "plt.tight_layout()"
      ],
      "execution_count": 38,
      "outputs": [
        {
          "output_type": "display_data",
          "data": {
            "text/plain": [
              "<Figure size 900x900 with 9 Axes>"
            ],
            "image/png": "[encoded data removed]"
          },
          "metadata": {}
        },
        {
          "output_type": "display_data",
          "data": {
            "text/plain": [
              "<Figure size 900x900 with 9 Axes>"
            ],
            "image/png": "[encoded data removed]"
          },
          "metadata": {}
        }
      ]
    },
    {
      "cell_type": "markdown",
      "metadata": {
        "id": "9rQvBhZZIkwo"
      },
      "source": [
        "# Сверточные Нейронные Сети"
      ]
    },
    {
      "cell_type": "markdown",
      "metadata": {
        "id": "oo_W_NAEIkwr"
      },
      "source": [
        "##  \"Deep\" Convolutional Neural Network"
      ]
    },
    {
      "cell_type": "code",
      "metadata": {
        "collapsed": true,
        "id": "V0A8UbYnIkwr"
      },
      "source": [
        "# import\n",
        "\n",
        "\n",
        "from keras.layers import Conv2D, MaxPooling2D, ZeroPadding2D, GlobalAveragePooling2D, Flatten\n",
        "from keras.layers.normalization.batch_normalization import BatchNormalization"
      ],
      "execution_count": 39,
      "outputs": []
    },
    {
      "cell_type": "code",
      "metadata": {
        "colab": {
          "base_uri": "https://localhost:8080/"
        },
        "id": "CalNCccpxx9d",
        "outputId": "365901d6-47ce-4f65-fae0-d53fcd632f82"
      },
      "source": [
        "BatchNormalization()"
      ],
      "execution_count": 41,
      "outputs": [
        {
          "output_type": "execute_result",
          "data": {
            "text/plain": [
              "<keras.layers.normalization.batch_normalization.BatchNormalization at 0x7ca1daace6e0>"
            ]
          },
          "metadata": {},
          "execution_count": 41
        }
      ]
    },
    {
      "cell_type": "code",
      "metadata": {
        "collapsed": true,
        "id": "MellKMhuIkws"
      },
      "source": [
        "(X_train, y_train), (X_test, y_test) = mnist.load_data()"
      ],
      "execution_count": 42,
      "outputs": []
    },
    {
      "cell_type": "code",
      "metadata": {
        "id": "W5ZqsW9OIkws",
        "colab": {
          "base_uri": "https://localhost:8080/"
        },
        "outputId": "b4cb1186-c68d-46ab-f3c6-80d88d1ed21d"
      },
      "source": [
        "\n",
        "\n",
        "X_train = X_train.reshape(60000, 28, 28, 1)\n",
        "X_test = X_test.reshape(10000, 28, 28, 1)\n",
        "\n",
        "X_train = X_train.astype('float32')\n",
        "X_test = X_test.astype('float32')\n",
        "\n",
        "X_train /= 255\n",
        "X_test /= 255\n",
        "\n",
        "print(\"Training matrix shape\", X_train.shape)\n",
        "print(\"Testing matrix shape\", X_test.shape)"
      ],
      "execution_count": 43,
      "outputs": [
        {
          "output_type": "stream",
          "name": "stdout",
          "text": [
            "Training matrix shape (60000, 28, 28, 1)\n",
            "Testing matrix shape (10000, 28, 28, 1)\n"
          ]
        }
      ]
    },
    {
      "cell_type": "code",
      "metadata": {
        "collapsed": true,
        "id": "xCaf5b6CIkwt"
      },
      "source": [
        "# one-hot формат\n",
        "\n",
        "nb_classes = 10\n",
        "\n",
        "Y_train = np_utils.to_categorical(y_train, nb_classes)\n",
        "Y_test = np_utils.to_categorical(y_test, nb_classes)"
      ],
      "execution_count": 44,
      "outputs": []
    },
    {
      "cell_type": "code",
      "metadata": {
        "collapsed": true,
        "id": "AX31CH_wIkwt"
      },
      "source": [
        "model = Sequential()\n",
        "\n",
        "# Convolution Layer 1\n",
        "model.add(Conv2D(32, (3, 3), input_shape=(28,28,1))) # 32 РАЗНЫХ! 3x3 kernels -- это 32 карты с признаками\n",
        "model.add(BatchNormalization(axis=-1))\n",
        "convLayer01 = Activation('relu')\n",
        "model.add(convLayer01)\n",
        "\n",
        "# Convolution Layer 2\n",
        "model.add(Conv2D(32, (3, 3)))\n",
        "model.add(BatchNormalization(axis=-1))\n",
        "model.add(Activation('relu'))\n",
        "convLayer02 = MaxPooling2D(pool_size=(2,2))          # MaxPool операция 2x2 kernel\n",
        "model.add(convLayer02)\n",
        "\n",
        "# Convolution Layer 3\n",
        "model.add(Conv2D(64,(3, 3)))                         # 64 РАЗНЫХ! 3x3 kernels -- so 64 feature maps\n",
        "model.add(BatchNormalization(axis=-1))\n",
        "convLayer03 = Activation('relu')\n",
        "model.add(convLayer03)\n",
        "\n",
        "# Convolution Layer 4\n",
        "model.add(Conv2D(64, (3, 3)))\n",
        "model.add(BatchNormalization(axis=-1))\n",
        "model.add(Activation('relu'))                        # activation\n",
        "convLayer04 = MaxPooling2D(pool_size=(2,2))          # MaxPool операция 2x2 kernel\n",
        "model.add(convLayer04)\n",
        "model.add(Flatten())                                 # Разворачиваем матрицу 4x4x64 в 1024-мерный плоский вектор\n",
        "\n",
        "# Fully Connected Layer 5\n",
        "model.add(Dense(512))                                # 512 нейронов\n",
        "model.add(BatchNormalization())\n",
        "model.add(Activation('relu'))\n",
        "\n",
        "# Fully Connected Layer 6\n",
        "model.add(Dropout(0.2))                              # 20% dropout\n",
        "model.add(Dense(10))                                 # выходной слой 10 нейронов\n",
        "model.add(Activation('softmax'))                     # softmax  (перевзвешивает все предсказания для получения значения в диапазоне 0..1)"
      ],
      "execution_count": 45,
      "outputs": []
    },
    {
      "cell_type": "code",
      "metadata": {
        "id": "MZeK6I2KIkwv",
        "colab": {
          "base_uri": "https://localhost:8080/"
        },
        "outputId": "7ab39f97-8207-4984-e55a-eff281f15ce9"
      },
      "source": [
        "model.summary()"
      ],
      "execution_count": 46,
      "outputs": [
        {
          "output_type": "stream",
          "name": "stdout",
          "text": [
            "Model: \"sequential_1\"\n",
            "_________________________________________________________________\n",
            " Layer (type)                Output Shape              Param #   \n",
            "=================================================================\n",
            " conv2d (Conv2D)             (None, 26, 26, 32)        320       \n",
            "                                                                 \n",
            " batch_normalization_1 (Batc  (None, 26, 26, 32)       128       \n",
            " hNormalization)                                                 \n",
            "                                                                 \n",
            " activation_3 (Activation)   (None, 26, 26, 32)        0         \n",
            "                                                                 \n",
            " conv2d_1 (Conv2D)           (None, 24, 24, 32)        9248      \n",
            "                                                                 \n",
            " batch_normalization_2 (Batc  (None, 24, 24, 32)       128       \n",
            " hNormalization)                                                 \n",
            "                                                                 \n",
            " activation_4 (Activation)   (None, 24, 24, 32)        0         \n",
            "                                                                 \n",
            " max_pooling2d (MaxPooling2D  (None, 12, 12, 32)       0         \n",
            " )                                                               \n",
            "                                                                 \n",
            " conv2d_2 (Conv2D)           (None, 10, 10, 64)        18496     \n",
            "                                                                 \n",
            " batch_normalization_3 (Batc  (None, 10, 10, 64)       256       \n",
            " hNormalization)                                                 \n",
            "                                                                 \n",
            " activation_5 (Activation)   (None, 10, 10, 64)        0         \n",
            "                                                                 \n",
            " conv2d_3 (Conv2D)           (None, 8, 8, 64)          36928     \n",
            "                                                                 \n",
            " batch_normalization_4 (Batc  (None, 8, 8, 64)         256       \n",
            " hNormalization)                                                 \n",
            "                                                                 \n",
            " activation_6 (Activation)   (None, 8, 8, 64)          0         \n",
            "                                                                 \n",
            " max_pooling2d_1 (MaxPooling  (None, 4, 4, 64)         0         \n",
            " 2D)                                                             \n",
            "                                                                 \n",
            " flatten (Flatten)           (None, 1024)              0         \n",
            "                                                                 \n",
            " dense_3 (Dense)             (None, 512)               524800    \n",
            "                                                                 \n",
            " batch_normalization_5 (Batc  (None, 512)              2048      \n",
            " hNormalization)                                                 \n",
            "                                                                 \n",
            " activation_7 (Activation)   (None, 512)               0         \n",
            "                                                                 \n",
            " dropout_2 (Dropout)         (None, 512)               0         \n",
            "                                                                 \n",
            " dense_4 (Dense)             (None, 10)                5130      \n",
            "                                                                 \n",
            " activation_8 (Activation)   (None, 10)                0         \n",
            "                                                                 \n",
            "=================================================================\n",
            "Total params: 597,738\n",
            "Trainable params: 596,330\n",
            "Non-trainable params: 1,408\n",
            "_________________________________________________________________\n"
          ]
        }
      ]
    },
    {
      "cell_type": "code",
      "metadata": {
        "collapsed": true,
        "id": "hiEKNCxtIkwv"
      },
      "source": [
        "\n",
        "model.compile(loss='categorical_crossentropy', optimizer='adam', metrics=['accuracy'])"
      ],
      "execution_count": 47,
      "outputs": []
    },
    {
      "cell_type": "code",
      "metadata": {
        "id": "AsU04ZFCIkww",
        "colab": {
          "base_uri": "https://localhost:8080/"
        },
        "outputId": "0222bde1-9f4d-4ab7-d857-e7eee6cebe44"
      },
      "source": [
        "model.fit(X_train, Y_train,\n",
        "          batch_size=32, epochs=10,\n",
        "          verbose=1)"
      ],
      "execution_count": 48,
      "outputs": [
        {
          "output_type": "stream",
          "name": "stdout",
          "text": [
            "Epoch 1/10\n",
            "1875/1875 [==============================] - 23s 8ms/step - loss: 0.0860 - accuracy: 0.9731\n",
            "Epoch 2/10\n",
            "1875/1875 [==============================] - 15s 8ms/step - loss: 0.0408 - accuracy: 0.9870\n",
            "Epoch 3/10\n",
            "1875/1875 [==============================] - 15s 8ms/step - loss: 0.0330 - accuracy: 0.9894\n",
            "Epoch 4/10\n",
            "1875/1875 [==============================] - 14s 8ms/step - loss: 0.0272 - accuracy: 0.9913\n",
            "Epoch 5/10\n",
            "1875/1875 [==============================] - 14s 7ms/step - loss: 0.0220 - accuracy: 0.9931\n",
            "Epoch 6/10\n",
            "1875/1875 [==============================] - 14s 7ms/step - loss: 0.0189 - accuracy: 0.9939\n",
            "Epoch 7/10\n",
            "1875/1875 [==============================] - 14s 7ms/step - loss: 0.0165 - accuracy: 0.9946\n",
            "Epoch 8/10\n",
            "1875/1875 [==============================] - 14s 7ms/step - loss: 0.0163 - accuracy: 0.9947\n",
            "Epoch 9/10\n",
            "1875/1875 [==============================] - 14s 7ms/step - loss: 0.0117 - accuracy: 0.9962\n",
            "Epoch 10/10\n",
            "1875/1875 [==============================] - 14s 7ms/step - loss: 0.0112 - accuracy: 0.9965\n"
          ]
        },
        {
          "output_type": "execute_result",
          "data": {
            "text/plain": [
              "<keras.callbacks.History at 0x7ca1ddabeb90>"
            ]
          },
          "metadata": {},
          "execution_count": 48
        }
      ]
    },
    {
      "cell_type": "code",
      "source": [
        "score = model.evaluate(X_test, Y_test)\n",
        "print('Test score:', score[0])\n",
        "print('Test accuracy:', score[1])"
      ],
      "metadata": {
        "colab": {
          "base_uri": "https://localhost:8080/"
        },
        "id": "FI3_H7v9Ax3d",
        "outputId": "4a9a15dd-d02c-44a9-a62e-6831c3abef9f"
      },
      "execution_count": 49,
      "outputs": [
        {
          "output_type": "stream",
          "name": "stdout",
          "text": [
            "313/313 [==============================] - 2s 4ms/step - loss: 0.0228 - accuracy: 0.9933\n",
            "Test score: 0.0228132251650095\n",
            "Test accuracy: 0.9933000206947327\n"
          ]
        }
      ]
    },
    {
      "cell_type": "code",
      "metadata": {
        "id": "rHi_oyMjIkww",
        "colab": {
          "base_uri": "https://localhost:8080/"
        },
        "outputId": "07ca6e90-61ba-4073-d0f3-4d592825c09b"
      },
      "source": [
        "score = model.evaluate(X_test, Y_test)\n",
        "print('Test score:', score[0])\n",
        "print('Test accuracy:', score[1])"
      ],
      "execution_count": 50,
      "outputs": [
        {
          "output_type": "stream",
          "name": "stdout",
          "text": [
            "313/313 [==============================] - 1s 4ms/step - loss: 0.0228 - accuracy: 0.9933\n",
            "Test score: 0.0228132251650095\n",
            "Test accuracy: 0.9933000206947327\n"
          ]
        }
      ]
    },
    {
      "cell_type": "code",
      "metadata": {
        "id": "PbOl5tqvIkwy",
        "colab": {
          "base_uri": "https://localhost:8080/",
          "height": 770
        },
        "outputId": "16d620a1-9a23-4e91-fa00-fe57e77f29af"
      },
      "source": [
        "plt.figure()\n",
        "plt.imshow(X_test[3].reshape(28,28), cmap='gray', interpolation='none')"
      ],
      "execution_count": 51,
      "outputs": [
        {
          "output_type": "execute_result",
          "data": {
            "text/plain": [
              "<matplotlib.image.AxesImage at 0x7ca1cc87d810>"
            ]
          },
          "metadata": {},
          "execution_count": 51
        },
        {
          "output_type": "display_data",
          "data": {
            "text/plain": [
              "<Figure size 900x900 with 1 Axes>"
            ],
            "image/png": "[encoded data removed]"
          },
          "metadata": {}
        }
      ]
    }
  ]
}