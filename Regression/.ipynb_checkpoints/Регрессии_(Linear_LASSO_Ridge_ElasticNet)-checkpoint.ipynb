{
 "cells": [
  {
   "cell_type": "code",
   "execution_count": null,
   "metadata": {
    "colab": {
     "base_uri": "https://localhost:8080/"
    },
    "id": "Vpt8vbmJf2hp",
    "outputId": "9497350d-34cb-4a0e-9025-fa59bc82c93a"
   },
   "outputs": [
    {
     "name": "stdout",
     "output_type": "stream",
     "text": [
      "[-128.70958408  272.78354511  150.4820085  ... -452.34210683  148.2737737\n",
      " -155.61794028]\n",
      "0.817688705288563\n"
     ]
    }
   ],
   "source": [
    "# импорт библиотек\n",
    "from sklearn.datasets import make_regression\n",
    "from sklearn.model_selection import train_test_split"
   ]
  },
  {
   "cell_type": "code",
   "execution_count": null,
   "metadata": {
    "colab": {
     "base_uri": "https://localhost:8080/"
    },
    "id": "edAapM3dySwL",
    "outputId": "d3107ac4-8ebf-480d-c963-84dcfa71b2ac"
   },
   "outputs": [
    {
     "data": {
      "text/plain": [
       "array([[-1.38209053,  0.43093893,  0.68214335, ...,  0.51403885,\n",
       "        -2.24307125, -1.13581669],\n",
       "       [ 0.82534895,  0.06796913,  2.33027976, ...,  1.0241734 ,\n",
       "        -1.27094963, -0.81349273],\n",
       "       [ 1.30642696, -0.23817421,  0.71081024, ...,  1.5103234 ,\n",
       "         0.95405292, -0.91915162],\n",
       "       ...,\n",
       "       [ 1.0918343 , -0.73880285, -0.14675263, ...,  1.88633336,\n",
       "        -0.10406564, -1.20174291],\n",
       "       [-1.1502629 ,  0.46745065, -0.42810032, ..., -1.23847685,\n",
       "         1.07676487, -1.9382465 ],\n",
       "       [ 0.06620723,  2.634938  , -1.93020311, ...,  1.30300194,\n",
       "        -0.06590511,  2.00421537]])"
      ]
     },
     "execution_count": 13,
     "metadata": {},
     "output_type": "execute_result"
    }
   ],
   "source": [
    "# генерируем данные для X и y\n",
    "X, y = make_regression(n_samples=10000, noise=100, random_state=0)\n",
    "X"
   ]
  },
  {
   "cell_type": "code",
   "execution_count": null,
   "metadata": {
    "colab": {
     "base_uri": "https://localhost:8080/"
    },
    "id": "0V4Gwvfuyb-L",
    "outputId": "6d9fca27-fbba-4b14-efa1-a44acae189cc"
   },
   "outputs": [
    {
     "data": {
      "text/plain": [
       "array([  19.81545535,   76.90564091, -127.30424881, ...,   -8.53207548,\n",
       "         62.90217336, -274.80161882])"
      ]
     },
     "execution_count": 14,
     "metadata": {},
     "output_type": "execute_result"
    }
   ],
   "source": [
    "y"
   ]
  },
  {
   "cell_type": "code",
   "execution_count": null,
   "metadata": {
    "id": "Tpd9uyuyyh91"
   },
   "outputs": [],
   "source": [
    "# разделение данных на train и test\n",
    "train_X, test_X, train_y, test_y = train_test_split(X, y, test_size=0.3, random_state=0)"
   ]
  },
  {
   "cell_type": "code",
   "execution_count": null,
   "metadata": {
    "colab": {
     "base_uri": "https://localhost:8080/"
    },
    "id": "RAGyA7Xtym6j",
    "outputId": "1afbdf9a-67b5-4ad9-e6a9-be9ab5d46324"
   },
   "outputs": [
    {
     "name": "stdout",
     "output_type": "stream",
     "text": [
      "0.8033184041859724\n",
      "0.8149899334019011\n"
     ]
    }
   ],
   "source": [
    "# LASSO регрессия\n",
    "from sklearn.linear_model import Lasso\n",
    "lasso_regression = Lasso(alpha=0.1) # alpha — величина регуляризации\n",
    "\n",
    "# обучение\n",
    "lasso_regression.fit(train_X, train_y)\n",
    "\n",
    "# вывод точности предсказания\n",
    "print(lasso_regression.score(test_X, test_y))\n",
    "print(lasso_regression.score(train_X, train_y))"
   ]
  },
  {
   "cell_type": "code",
   "execution_count": null,
   "metadata": {
    "colab": {
     "base_uri": "https://localhost:8080/"
    },
    "id": "oPt7t32ef7dH",
    "outputId": "75007b30-b968-41a9-f0f7-66cc6a355ff0"
   },
   "outputs": [
    {
     "name": "stdout",
     "output_type": "stream",
     "text": [
      "0.8030552603844603\n",
      "0.8150093058136305\n"
     ]
    }
   ],
   "source": [
    "# Ridge регрессия\n",
    "from sklearn.linear_model import Ridge\n",
    "ridge_regression = Ridge(alpha=0.1) # alpha — величина регуляризации\n",
    "\n",
    "# обучение\n",
    "ridge_regression.fit(train_X, train_y)\n",
    "\n",
    "# вывод точности предсказания\n",
    "print(ridge_regression.score(test_X, test_y))\n",
    "print(ridge_regression.score(train_X, train_y))"
   ]
  },
  {
   "cell_type": "code",
   "execution_count": null,
   "metadata": {
    "colab": {
     "base_uri": "https://localhost:8080/"
    },
    "id": "40wNLuDDgIF6",
    "outputId": "14fd6a90-8831-4207-f4bd-db3d256ef197"
   },
   "outputs": [
    {
     "name": "stdout",
     "output_type": "stream",
     "text": [
      "0.8030554644089438\n",
      "0.8150093058136305\n"
     ]
    }
   ],
   "source": [
    "# Линейная регрессия\n",
    "from sklearn.linear_model import LinearRegression\n",
    "linear_regression = LinearRegression() \n",
    "\n",
    "# обучение\n",
    "linear_regression.fit(train_X, train_y)\n",
    "\n",
    "# вывод точности предсказания\n",
    "print(linear_regression.score(test_X, test_y))\n",
    "print(ridge_regression.score(train_X, train_y))"
   ]
  },
  {
   "cell_type": "code",
   "execution_count": null,
   "metadata": {
    "colab": {
     "base_uri": "https://localhost:8080/"
    },
    "id": "isLsLofIifqt",
    "outputId": "8582f72e-a5e4-457f-9293-8c73080c180a"
   },
   "outputs": [
    {
     "name": "stdout",
     "output_type": "stream",
     "text": [
      "0.8005104567130568\n",
      "0.8130069654235256\n"
     ]
    }
   ],
   "source": [
    "# ElasticNet регрессия\n",
    "from sklearn.linear_model import ElasticNet\n",
    "\n",
    "elasticnet_regression = ElasticNet(alpha=0.1) # alpha — величина регуляризации\n",
    "\n",
    "# обучение\n",
    "elasticnet_regression.fit(train_X, train_y)\n",
    "\n",
    "# вывод точности предсказания\n",
    "print(elasticnet_regression.score(test_X, test_y))\n",
    "print(elasticnet_regression.score(train_X, train_y))"
   ]
  },
  {
   "cell_type": "code",
   "execution_count": null,
   "metadata": {
    "id": "UgUOTOHzzq67"
   },
   "outputs": [],
   "source": [
    "# Polynom регрессия\n",
    "from sklearn.preprocessing import PolynomialFeatures  \n",
    "poly_regression= PolynomialFeatures(degree= 2)  \n",
    "x_poly= poly_regression.fit_transform(train_X)  \n",
    "\n",
    "lin_reg =LinearRegression()  \n",
    "lin_reg.fit(x_poly, train_y)  \n",
    "\n",
    "print(lin_reg.score(x_poly, train_y))"
   ]
  }
 ],
 "metadata": {
  "colab": {
   "provenance": []
  },
  "kernelspec": {
   "display_name": "Python 3 (ipykernel)",
   "language": "python",
   "name": "python3"
  },
  "language_info": {
   "codemirror_mode": {
    "name": "ipython",
    "version": 3
   },
   "file_extension": ".py",
   "mimetype": "text/x-python",
   "name": "python",
   "nbconvert_exporter": "python",
   "pygments_lexer": "ipython3",
   "version": "3.8.10"
  }
 },
 "nbformat": 4,
 "nbformat_minor": 4
}
