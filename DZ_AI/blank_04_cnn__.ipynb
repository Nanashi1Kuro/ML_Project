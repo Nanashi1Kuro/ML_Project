{
 "cells": [
  {
   "cell_type": "code",
   "execution_count": 120,
   "metadata": {
    "id": "u49LZV9dKFWi",
    "tags": []
   },
   "outputs": [],
   "source": [
    "import matplotlib.pyplot as plt\n",
    "from torchvision import datasets, transforms\n",
    "import torchvision\n",
    "import torch\n",
    "import torch.nn as nn\n",
    "import torch.optim as optim\n",
    "from torch.utils.data import Dataset, DataLoader, random_split\n",
    "import torch.nn.functional as F\n",
    "import seaborn as sns"
   ]
  },
  {
   "cell_type": "code",
   "execution_count": 121,
   "metadata": {
    "tags": []
   },
   "outputs": [
    {
     "data": {
      "text/plain": [
       "False"
      ]
     },
     "execution_count": 121,
     "metadata": {},
     "output_type": "execute_result"
    }
   ],
   "source": [
    "torch.cuda.is_available()"
   ]
  },
  {
   "cell_type": "markdown",
   "metadata": {},
   "source": [
    "### confusion_matrix"
   ]
  },
  {
   "cell_type": "code",
   "execution_count": 122,
   "metadata": {
    "tags": []
   },
   "outputs": [],
   "source": [
    "from sklearn.metrics import confusion_matrix\n",
    "def make_confusion_matrix(loader,model, labels,device):\n",
    "    with torch.inference_mode():\n",
    "        test_p= []\n",
    "        test_grs=[]\n",
    "        for x,y in loader:\n",
    "            x=x.to(device)\n",
    "            preds= model(x)\n",
    "            test_p += list(torch.argmax(preds,dim=1).cpu())\n",
    "            test_grs += list(y)\n",
    "    plt.figure(figsize=(12,9))\n",
    "    sns.heatmap(confusion_matrix(test_grs, test_p),\n",
    "          xticklabels= labels, yticklabels= labels, \n",
    "          cmap= \"viridis\",annot= True)\n"
   ]
  },
  {
   "cell_type": "code",
   "execution_count": 123,
   "metadata": {
    "tags": []
   },
   "outputs": [],
   "source": [
    "def calculate_acc(predictions, grs):\n",
    "    predictions= torch.softmax(predictions,dim=1)\n",
    "    predictions=torch.argmax(predictions,dim=1)\n",
    "    acc= (torch.sum(predictions==grs)/len(grs)).item()\n",
    "    return acc"
   ]
  },
  {
   "cell_type": "code",
   "execution_count": 124,
   "metadata": {
    "tags": []
   },
   "outputs": [],
   "source": [
    "from tqdm.auto import notebook_tqdm"
   ]
  },
  {
   "cell_type": "code",
   "execution_count": 160,
   "metadata": {
    "tags": []
   },
   "outputs": [],
   "source": [
    "def classification(train_loader,test_loader, model \n",
    "                   , criterion, optimizer, epochs, device= 'cpu'): #criterion - функция ошибок, random model\n",
    "    train_loss_h=[]\n",
    "    test_loss_h=[]\n",
    "    \n",
    "    for epoch in range(epochs):\n",
    "        train_loss=0.0\n",
    "        train_acc=0.0\n",
    "        test_loss=0.0\n",
    "        test_acc=0.0\n",
    "        model.train()\n",
    "        \n",
    "        for x,y in train_loader: #x-картина\n",
    "            x,y = x.to(device), y.to(device) \n",
    "            optimizer.zero_grad()\n",
    "            pred=model(x) \n",
    "            loss=criterion(pred,y)\n",
    "            \n",
    "            loss.backward()\n",
    "            optimizer.step()\n",
    "            \n",
    "            train_loss += loss.item()\n",
    "            train_acc += calculate_acc(pred,y)\n",
    "            train_loss /= len(train_loader)\n",
    "            train_acc /= len(train_loader)\n",
    "            train_loss_h.append(train_loss)\n",
    "            \n",
    "        with torch.inference_mode():\n",
    "            model.eval()\n",
    "            for x,y in test_loader:\n",
    "                x.to(device),y.to(device) \n",
    "                test_pred=model(x)\n",
    "                test_loss+=criterion(test_pred,y).item()\n",
    "                test_acc+=calculate_acc(test_pred,y)\n",
    "        test_loss/=len(train_loader)\n",
    "        test_acc/=len(train_loader)\n",
    "        test_loss_h.append(train_loss)\n",
    "        print('epoch: ', epoch, '|Train loss= ', train_loss,'Acc train= ', train_acc,  '|test loss= ', test_loss,'Acc test= ', test_acc )\n",
    "    return train_loss_h,test_loss_h"
   ]
  },
  {
   "cell_type": "markdown",
   "metadata": {
    "id": "403Mis3LAgED"
   },
   "source": [
    "## 1. Классификация предметов одежды (датасет Fashion MNIST)\n"
   ]
  },
  {
   "cell_type": "markdown",
   "metadata": {
    "id": "Mn6r8tMDQsaU"
   },
   "source": [
    "\n",
    "### 1.1 Решить задачу классификации, не используя сверточные слои  CNN. \n",
    "* Предложить архитектуру модели для решения задачи\n"
   ]
  },
  {
   "cell_type": "markdown",
   "metadata": {},
   "source": [
    " download dataset"
   ]
  },
  {
   "cell_type": "code",
   "execution_count": 147,
   "metadata": {
    "tags": []
   },
   "outputs": [],
   "source": [
    "MNIST_TRAIN = torchvision.datasets.MNIST(\"data\", download = True)\n",
    "MNIST_TEST = torchvision.datasets.MNIST(\"data\", download = True, train = False)"
   ]
  },
  {
   "cell_type": "code",
   "execution_count": 148,
   "metadata": {
    "tags": []
   },
   "outputs": [],
   "source": [
    "class Mnistdataset(Dataset):\n",
    "  def __init__(self, train: bool = True, transforms = None):\n",
    "    if train:\n",
    "      self.X = MNIST_TRAIN.data\n",
    "      self.y = MNIST_TRAIN.targets\n",
    "    else:\n",
    "      self.X = MNIST_TEST.data\n",
    "      self.y = MNIST_TEST.targets\n",
    "    self.transforms = transforms\n",
    "  def __len__(self):\n",
    "    return self.X.shape[0]\n",
    "  def __getitem__(self, index:int):\n",
    "    x = self.X[index]\n",
    "    y = self.y[index]\n",
    "    if self.transforms:\n",
    "      x = self.transforms(x)\n",
    "    x = torch.flatten(x)\n",
    "    return x,y"
   ]
  },
  {
   "cell_type": "code",
   "execution_count": 149,
   "metadata": {
    "tags": []
   },
   "outputs": [],
   "source": [
    "mnist_transforms = torchvision.transforms.Compose([transforms.ConvertImageDtype(torch.float32),]) \n",
    "\n",
    "train_mnist_dataset = Mnistdataset(train=True, transforms = mnist_transforms)\n",
    "test_mnist_dataset = Mnistdataset(train=False, transforms = mnist_transforms)\n",
    "\n",
    "train_loader = DataLoader(train_mnist_dataset, batch_size=32, shuffle=True)\n",
    "test_loader = DataLoader(test_mnist_dataset, batch_size=32)"
   ]
  },
  {
   "cell_type": "code",
   "execution_count": 150,
   "metadata": {
    "tags": []
   },
   "outputs": [],
   "source": [
    "dataiter = iter(train_loader)\n",
    "images, labels = next(dataiter)"
   ]
  },
  {
   "cell_type": "code",
   "execution_count": 151,
   "metadata": {
    "tags": []
   },
   "outputs": [
    {
     "data": {
      "text/plain": [
       "<matplotlib.image.AxesImage at 0x7f500ce56e50>"
      ]
     },
     "execution_count": 151,
     "metadata": {},
     "output_type": "execute_result"
    },
    {
     "data": {
      "image/png": "[encoded data removed]",
      "text/plain": [
       "<Figure size 640x480 with 1 Axes>"
      ]
     },
     "metadata": {},
     "output_type": "display_data"
    }
   ],
   "source": [
    "plt.imshow(images[0].numpy().reshape(28,28), cmap = \"Greys_r\")"
   ]
  },
  {
   "cell_type": "code",
   "execution_count": 152,
   "metadata": {
    "tags": []
   },
   "outputs": [],
   "source": [
    "class Ourmodel(nn.Module):\n",
    "    def __init__(self, n_f, hid, out):\n",
    "        super().__init__()\n",
    "        self.l1 = nn.Linear(n_f, hid)\n",
    "        self.l2= nn.Linear(hid, hid*2)\n",
    "        self.l3 = nn.Linear(hid*2, out)\n",
    "        self.relu = nn.ReLU()\n",
    "    \n",
    "    def forward(self, inputs):\n",
    "        out1 = self.relu(self.l1(inputs))\n",
    "        out2 = self.relu(self.l2(out1))\n",
    "        out3 = self.l3(out2)\n",
    "        return out3"
   ]
  },
  {
   "cell_type": "markdown",
   "metadata": {},
   "source": [
    "* Посчитать количество параметров модели."
   ]
  },
  {
   "cell_type": "code",
   "execution_count": 161,
   "metadata": {
    "tags": []
   },
   "outputs": [
    {
     "data": {
      "text/plain": [
       "16950"
      ]
     },
     "execution_count": 161,
     "metadata": {},
     "output_type": "execute_result"
    }
   ],
   "source": [
    "our = Ourmodel(28*28, 20,10)\n",
    "sum(p.shape[0]*p.shape[1] if len(p.shape)==2 else p.shape[0] for p in our.parameters())"
   ]
  },
  {
   "cell_type": "markdown",
   "metadata": {},
   "source": [
    "* Обучить модель"
   ]
  },
  {
   "cell_type": "code",
   "execution_count": 162,
   "metadata": {
    "tags": []
   },
   "outputs": [],
   "source": [
    "loss_ = nn.CrossEntropyLoss()\n",
    "optimizer = optim.Adam(our.parameters(), lr = 0.01)\n",
    "N = 20"
   ]
  },
  {
   "cell_type": "code",
   "execution_count": 159,
   "metadata": {
    "tags": []
   },
   "outputs": [
    {
     "name": "stdout",
     "output_type": "stream",
     "text": [
      "epoch:  0 |Train loss=  0.000335527607649871 Acc train=  0.0004002579295548454 |test loss=  0.04623066163311402 Acc test=  0.15436666666666668\n",
      "epoch:  1 |Train loss=  0.00010091945176674706 Acc train=  0.0005002756931179861 |test loss=  0.04006296348520555 Acc test=  0.156\n",
      "epoch:  2 |Train loss=  4.651291283167941e-05 Acc train=  0.0005335912581423798 |test loss=  0.039596769477116565 Acc test=  0.1562\n",
      "epoch:  3 |Train loss=  0.0002870142006162328 Acc train=  0.00043359125815249075 |test loss=  0.04265273302781085 Acc test=  0.15493333333333334\n",
      "epoch:  4 |Train loss=  0.00015113543561845604 Acc train=  0.0004836090406684836 |test loss=  0.03533469748261074 Acc test=  0.15713333333333335\n",
      "epoch:  5 |Train loss=  0.00018443613139012055 Acc train=  0.00048360903593027527 |test loss=  0.044652367218708 Acc test=  0.15516666666666667\n",
      "epoch:  6 |Train loss=  0.00021069713108481036 Acc train=  0.0005002668042215121 |test loss=  0.03902347152127574 Acc test=  0.15681666666666666\n",
      "epoch:  7 |Train loss=  0.0001483262258164003 Acc train=  0.0005002756978561999 |test loss=  0.039783638484217225 Acc test=  0.15693333333333334\n",
      "epoch:  8 |Train loss=  2.4851162761631565e-05 Acc train=  0.0005336090311870061 |test loss=  0.052240812806940325 Acc test=  0.15356666666666666\n",
      "epoch:  9 |Train loss=  7.97153908056755e-05 Acc train=  0.0005002756978561999 |test loss=  0.038119835439293336 Acc test=  0.1572\n",
      "epoch:  10 |Train loss=  0.00015853511132821969 Acc train=  0.00048361792955484677 |test loss=  0.044842884860932825 Acc test=  0.1564\n",
      "epoch:  11 |Train loss=  5.9491002025792664e-05 Acc train=  0.0005169423645228665 |test loss=  0.04554519806460788 Acc test=  0.15538333333333335\n",
      "epoch:  12 |Train loss=  9.485231224636577e-05 Acc train=  0.0005169423740043466 |test loss=  0.039738130442022034 Acc test=  0.15731666666666666\n",
      "epoch:  13 |Train loss=  0.0003027908966523391 Acc train=  0.0004836179200784221 |test loss=  0.04292930615997563 Acc test=  0.15668333333333334\n",
      "epoch:  14 |Train loss=  0.00011849710871589755 Acc train=  0.0005002668137080503 |test loss=  0.04218608282376081 Acc test=  0.15671666666666667\n",
      "epoch:  15 |Train loss=  0.00010656127989767384 Acc train=  0.0005002668137080516 |test loss=  0.04577666524350643 Acc test=  0.15663333333333335\n",
      "epoch:  16 |Train loss=  0.0002737902021170257 Acc train=  0.00046694236452286516 |test loss=  0.040734374397931 Acc test=  0.15598333333333333\n",
      "epoch:  17 |Train loss=  1.3095557953897847e-05 Acc train=  0.0005336090311870061 |test loss=  0.041294602303983026 Acc test=  0.15726666666666667\n",
      "epoch:  18 |Train loss=  5.110171851482651e-05 Acc train=  0.0005169423645253962 |test loss=  0.04494394968690273 Acc test=  0.15665\n",
      "epoch:  19 |Train loss=  0.00012318958111026115 Acc train=  0.0005002579295573765 |test loss=  0.04236849085455761 Acc test=  0.15628333333333333\n"
     ]
    }
   ],
   "source": [
    "history_train, history_test = classification(train_loader, test_loader, our, loss_, optimizer,N)"
   ]
  },
  {
   "cell_type": "markdown",
   "metadata": {},
   "source": [
    "\n",
    "* Вывести график функции потерь по эпохам. \n",
    "* Используя тестовое множество\n",
    "\n",
    "  * Продемонстрировать работу модели: вывести несколько изображений, указать над ними правильный класс и класс, предсказанный моделью. \n",
    "\n",
    "  * Вывести матрицу ошибок.\n",
    "\n",
    "  * Вывести значение accuracy на тестовом множестве.\n",
    "* Сохранить модель"
   ]
  },
  {
   "cell_type": "code",
   "execution_count": null,
   "metadata": {},
   "outputs": [],
   "source": []
  },
  {
   "cell_type": "markdown",
   "metadata": {},
   "source": [
    "MNISTDataset"
   ]
  },
  {
   "cell_type": "markdown",
   "metadata": {
    "id": "GmsMQUPP-XUh"
   },
   "source": [
    "### 1.2 Решить задачу 1.1, используя сверточную нейронную сеть. \n",
    "* Добиться значения accuracy на тестовом множестве не менее 90%\n",
    "* Визуализировать результаты работы первого сверточного слоя"
   ]
  },
  {
   "cell_type": "markdown",
   "metadata": {
    "id": "cm6_9B3ZKLq9"
   },
   "source": [
    "##  2. Классификация изображений (датасет CIFAR 10) "
   ]
  },
  {
   "cell_type": "markdown",
   "metadata": {
    "id": "VNTZa9yWQvSF"
   },
   "source": [
    "\n",
    "### 2.1 Решить задачу классификации, не используя сверточные слои. \n",
    "\n",
    "* Нормализовать данные (если необходимо)\n",
    "* Предложить архитектуру модели для решения задачи\n",
    "* Посчитать количество параметров модели.\n",
    "* Обучить модель\n",
    "* Вывести график функции потерь по эпохам. \n",
    "* Используя тестовое множество\n",
    "\n",
    "  * Продемонстрировать работу модели: вывести несколько изображений, указать над ними правильный класс и класс, предсказанный моделью. \n",
    "\n",
    "  * Вывести матрицу ошибок.\n",
    "\n",
    "  * Вывести значение accuracy на тестовом множестве.\n",
    "* Сохранить модель"
   ]
  },
  {
   "cell_type": "code",
   "execution_count": 163,
   "metadata": {
    "tags": []
   },
   "outputs": [],
   "source": [
    "class OurmodelCNN(nn.Module):\n",
    "    def __init__(self, n_f, hid, out):\n",
    "        super().__init__()\n",
    "        self.l1 = nn.Covn2d(inputcanal, hid)\n",
    "        self.l2= nn.Linear(hid, hid*2)\n",
    "        self.l3 = nn.Linear(hid*2, out)\n",
    "        self.relu = nn.ReLU()\n",
    "    \n",
    "    def forward(self, inputs):\n",
    "        out1 = self.relu(self.l1(inputs))\n",
    "        out2 = self.relu(self.l2(out1))\n",
    "        out3 = self.l3(out2)\n",
    "        return out3"
   ]
  },
  {
   "cell_type": "code",
   "execution_count": 1,
   "metadata": {
    "tags": []
   },
   "outputs": [
    {
     "ename": "NameError",
     "evalue": "name 'y_test' is not defined",
     "output_type": "error",
     "traceback": [
      "\u001b[0;31m---------------------------------------------------------------------------\u001b[0m",
      "\u001b[0;31mNameError\u001b[0m                                 Traceback (most recent call last)",
      "Cell \u001b[0;32mIn[1], line 2\u001b[0m\n\u001b[1;32m      1\u001b[0m \u001b[38;5;28;01mfrom\u001b[39;00m \u001b[38;5;21;01msklearn\u001b[39;00m\u001b[38;5;21;01m.\u001b[39;00m\u001b[38;5;21;01mmetrics\u001b[39;00m \u001b[38;5;28;01mimport\u001b[39;00m confusion_matrix\n\u001b[0;32m----> 2\u001b[0m confusion_matrix(\u001b[43my_test\u001b[49m, y_test_pred)\n\u001b[1;32m      3\u001b[0m plot_confusion_matrix(model, X_test, y_test, cmap\u001b[38;5;241m=\u001b[39mplt\u001b[38;5;241m.\u001b[39mcm\u001b[38;5;241m.\u001b[39mBlues)\n\u001b[1;32m      4\u001b[0m plt\u001b[38;5;241m.\u001b[39mshow()\n",
      "\u001b[0;31mNameError\u001b[0m: name 'y_test' is not defined"
     ]
    }
   ],
   "source": [
    "from sklearn.metrics import confusion_matrix\n",
    "confusion_matrix(y_test, y_test_pred)\n",
    "plot_confusion_matrix(model, X_test, y_test, cmap=plt.cm.Blues)\n",
    "plt.show()\n"
   ]
  },
  {
   "cell_type": "markdown",
   "metadata": {
    "id": "IIxHLbKcDCFA"
   },
   "source": [
    "### 2.2 Решить задачу 2.1, используя сверточную нейронную сеть. \n",
    "* Добиться значения accuracy на тестовом множестве не менее 70%.\n",
    "* Визуализировать результаты работы первого сверточного слоя"
   ]
  },
  {
   "cell_type": "markdown",
   "metadata": {
    "id": "nPg8k4YTFOgc"
   },
   "source": [
    "## 3. Загрузка изображений из внешних источников"
   ]
  },
  {
   "cell_type": "markdown",
   "metadata": {
    "id": "1hLnpe_570wd"
   },
   "source": [
    "### 3.1 Решить задачу классификации обезьян (датасет [monkey.zip](https://disk.yandex.ru/d/OxYgY4S7aR6ulQ)).\n",
    "* Загрузить архив с данными на диск\n",
    "* Создать датасет на основе файлов при помощи `torchvision.datasets.ImageFolder`\n",
    "* Преобразовать изображения к тензорами одного размера (например, 400х400). Потестировать другие преобразования из `torchvision.transforms`\n",
    "* Предложить архитектуру модели для решения задачи. Обучить модель.\n",
    "* Используя тестовое множество\n",
    "\n",
    "  * Продемонстрировать работу модели: вывести несколько изображений, указать над ними правильный класс и класс, предсказанный моделью. \n",
    "\n",
    "  * Вывести матрицу ошибок.\n",
    "\n",
    "  * Вывести значение accuracy на тестовом множестве.\n",
    "  * Добиться значения accuracy на тестовом множестве не менее 60%"
   ]
  },
  {
   "cell_type": "code",
   "execution_count": null,
   "metadata": {
    "colab": {
     "base_uri": "https://localhost:8080/"
    },
    "executionInfo": {
     "elapsed": 506,
     "status": "ok",
     "timestamp": 1616695933807,
     "user": {
      "displayName": "Никита Блохин",
      "photoUrl": "",
      "userId": "16402972581398673009"
     },
     "user_tz": -180
    },
    "id": "iXnzblkFFN5K",
    "outputId": "cbbabfdc-a8c4-41c6-86a8-f7e99748a612"
   },
   "outputs": [],
   "source": [
    "from google.colab import drive\n",
    "drive.mount('/content/drive')"
   ]
  },
  {
   "cell_type": "code",
   "execution_count": null,
   "metadata": {
    "colab": {
     "base_uri": "https://localhost:8080/"
    },
    "executionInfo": {
     "elapsed": 17268,
     "status": "ok",
     "timestamp": 1616695954172,
     "user": {
      "displayName": "Никита Блохин",
      "photoUrl": "",
      "userId": "16402972581398673009"
     },
     "user_tz": -180
    },
    "id": "4Er_FLV6Hrqq",
    "outputId": "5ece4316-16e6-458c-eb94-c0604e19ea24"
   },
   "outputs": [],
   "source": [
    "import zipfile\n",
    "from tqdm import tqdm\n",
    "\n",
    "zf = zipfile.ZipFile('drive/MyDrive/datasets/monkeys.zip')\n",
    "for file in tqdm(zf.infolist()):\n",
    "    zf.extract(file)"
   ]
  },
  {
   "cell_type": "markdown",
   "metadata": {
    "id": "5-tMy4qJ9j1k"
   },
   "source": [
    "### 3.2 Решить задачу классификации собак и кошек (датасет [cats_dogs.zip](https://disk.yandex.ru/d/wQtt5O1JF9ctnA)).\n",
    "* Загрузить архив с данными на диск\n",
    "* Создать датасет на основе файлов при помощи `torchvision.datasets.ImageFolder`\n",
    "* Преобразовать изображения к тензорами одного размера (например, 400х400). Потестировать другие преобразования из `torchvision.transforms`\n",
    "* Предложить архитектуру модели для решения задачи. Обучить модель.\n",
    "* Используя тестовое множество\n",
    "\n",
    "  * Продемонстрировать работу модели: вывести несколько изображений, указать над ними правильный класс и класс, предсказанный моделью. \n",
    "\n",
    "  * Вывести матрицу ошибок.\n",
    "\n",
    "  * Вывести значение accuracy на тестовом множестве.\n",
    "  * Добиться значения accuracy на тестовом множестве не менее 80%"
   ]
  },
  {
   "cell_type": "markdown",
   "metadata": {
    "id": "EqvleAgxfC6B"
   },
   "source": [
    "# 4. Transfer Learning"
   ]
  },
  {
   "cell_type": "markdown",
   "metadata": {
    "id": "ZjNUwuho9tm9"
   },
   "source": [
    "### 4.1 Решить задачу 3.1, воспользовавшись предобученной моделью VGG16\n",
    "* Загрузить данные для обучения\n",
    "* Преобразования: размер 224x224, нормализация с параметрами `mean=(0.485, 0.456, 0.406), std=(0.229, 0.224, 0.225)`\n",
    "* Заменить последний полносвязный слой модели в соответствии с задачей\n",
    "* Дообучить модель (не замораживать веса). Вычислить значение accuracy на тестовом множестве\n",
    "* Дообучить модель (заморозить все веса, кроме последнего блока слоев (`classifier`)). \n",
    "* Вычислить значение accuracy на тестовом множестве.\n"
   ]
  },
  {
   "cell_type": "markdown",
   "metadata": {
    "id": "Dt_hXy5a5CE8"
   },
   "source": [
    "### 4.2 Решить задачу 3.2, воспользовавшись подходящей предобученной моделью\n",
    "* Не использовать VGG16 (вместо нее можно взять resnet18 или другую)\n",
    "* Загрузить данные для обучения\n",
    "* Преобразования: размер 224x224, нормализация с параметрами `mean=(0.485, 0.456, 0.406), std=(0.229, 0.224, 0.225)`\n",
    "* Заменить последний полносвязный слой модели в соответствии с задачей\n",
    "* Дообучить модель. \n",
    "* Вычислить значение accuracy на тестовом множестве (добиться значения не меньше 97-98%)"
   ]
  }
 ],
 "metadata": {
  "accelerator": "GPU",
  "colab": {
   "authorship_tag": "ABX9TyMF+zO/4VvRSXLWjIV8BHI2",
   "collapsed_sections": [],
   "name": "blank_04_cnn.ipynb",
   "provenance": [],
   "toc_visible": true
  },
  "kernelspec": {
   "display_name": "Python 3 (ipykernel)",
   "language": "python",
   "name": "python3"
  },
  "language_info": {
   "codemirror_mode": {
    "name": "ipython",
    "version": 3
   },
   "file_extension": ".py",
   "mimetype": "text/x-python",
   "name": "python",
   "nbconvert_exporter": "python",
   "pygments_lexer": "ipython3",
   "version": "3.8.10"
  }
 },
 "nbformat": 4,
 "nbformat_minor": 4
}
